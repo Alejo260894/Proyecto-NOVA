{
 "cells": [
  {
   "cell_type": "code",
   "execution_count": 4,
   "metadata": {},
   "outputs": [],
   "source": [
    "import pandas as pd \n",
    "import matplotlib.pyplot as plt\n",
    "import os\n",
    "pd.set_option('display.max_columns', None)\n",
    "pd.set_option('display.max_colwidth', 1000)"
   ]
  },
  {
   "cell_type": "markdown",
   "metadata": {},
   "source": [
    "**Archivos de entrada**"
   ]
  },
  {
   "cell_type": "code",
   "execution_count": 5,
   "metadata": {},
   "outputs": [],
   "source": [
    "Ruta_data_procesada = '../../Data/data_procesada'\n",
    "Ruta_data_procesada_full = r'C:\\Users\\jalvarez\\OneDrive\\Estudios\\Programacion\\Soy Henry Datos e IA\\Dataft21\\PG\\Data\\data_procesada' # Donde estan todos los datasets no importa su peso por la limitante de GitHub. Si solo se tiene una única carpera 'Ruta_data_procesada' donde está todo pues colocar en ambas variables la misma ruta"
   ]
  },
  {
   "cell_type": "markdown",
   "metadata": {},
   "source": [
    "**Archivos de google.**"
   ]
  },
  {
   "cell_type": "code",
   "execution_count": 6,
   "metadata": {},
   "outputs": [],
   "source": [
    "reviews = pd.read_parquet(os.path.join(Ruta_data_procesada_full, \"reviews_google_maps.parquet\"))\n",
    "user = pd.read_parquet(os.path.join(Ruta_data_procesada, \"users_google_maps.parquet\"))\n",
    "restaurant = pd.read_parquet(os.path.join(Ruta_data_procesada, \"restaurantes.parquet\"))\n",
    "categorias_dummies = pd.read_parquet(os.path.join(Ruta_data_procesada, \"dummies_restaurantes.parquet\"))"
   ]
  },
  {
   "cell_type": "markdown",
   "metadata": {},
   "source": [
    "*Realizamos una visualización de los dataframes que tenemos para verificar que tipo de datos tenemos y la cantidad de los mismos.*"
   ]
  },
  {
   "cell_type": "code",
   "execution_count": 7,
   "metadata": {},
   "outputs": [
    {
     "data": {
      "text/html": [
       "<div>\n",
       "<style scoped>\n",
       "    .dataframe tbody tr th:only-of-type {\n",
       "        vertical-align: middle;\n",
       "    }\n",
       "\n",
       "    .dataframe tbody tr th {\n",
       "        vertical-align: top;\n",
       "    }\n",
       "\n",
       "    .dataframe thead th {\n",
       "        text-align: right;\n",
       "    }\n",
       "</style>\n",
       "<table border=\"1\" class=\"dataframe\">\n",
       "  <thead>\n",
       "    <tr style=\"text-align: right;\">\n",
       "      <th></th>\n",
       "      <th>name</th>\n",
       "      <th>address</th>\n",
       "      <th>state</th>\n",
       "      <th>city</th>\n",
       "      <th>postal_code</th>\n",
       "      <th>latitude</th>\n",
       "      <th>longitude</th>\n",
       "      <th>avg_rating</th>\n",
       "      <th>num_of_reviews</th>\n",
       "      <th>price_numeric</th>\n",
       "      <th>gmap_id</th>\n",
       "      <th>category</th>\n",
       "    </tr>\n",
       "  </thead>\n",
       "  <tbody>\n",
       "    <tr>\n",
       "      <th>0</th>\n",
       "      <td>San Soo Dang</td>\n",
       "      <td>San Soo Dang, 761 S Vermont Ave, Los Angeles, CA 90005</td>\n",
       "      <td>California</td>\n",
       "      <td>Los Angeles</td>\n",
       "      <td>90005</td>\n",
       "      <td>34.058092</td>\n",
       "      <td>-118.292130</td>\n",
       "      <td>4.4</td>\n",
       "      <td>18</td>\n",
       "      <td>0</td>\n",
       "      <td>0x80c2c778e3b73d33:0xbdc58662a4a97d49</td>\n",
       "      <td>Korean restaurant</td>\n",
       "    </tr>\n",
       "    <tr>\n",
       "      <th>1</th>\n",
       "      <td>Vons Chicken</td>\n",
       "      <td>Vons Chicken, 12740 La Mirada Blvd, La Mirada, CA 90638</td>\n",
       "      <td>California</td>\n",
       "      <td>La Mirada</td>\n",
       "      <td>90638</td>\n",
       "      <td>33.916402</td>\n",
       "      <td>-118.010855</td>\n",
       "      <td>4.5</td>\n",
       "      <td>18</td>\n",
       "      <td>0</td>\n",
       "      <td>0x80dd2b4c8555edb7:0xfc33d65c4bdbef42</td>\n",
       "      <td>Restaurant</td>\n",
       "    </tr>\n",
       "  </tbody>\n",
       "</table>\n",
       "</div>"
      ],
      "text/plain": [
       "           name                                                  address  \\\n",
       "0  San Soo Dang   San Soo Dang, 761 S Vermont Ave, Los Angeles, CA 90005   \n",
       "1  Vons Chicken  Vons Chicken, 12740 La Mirada Blvd, La Mirada, CA 90638   \n",
       "\n",
       "        state         city  postal_code   latitude   longitude  avg_rating  \\\n",
       "0  California  Los Angeles        90005  34.058092 -118.292130         4.4   \n",
       "1  California    La Mirada        90638  33.916402 -118.010855         4.5   \n",
       "\n",
       "   num_of_reviews  price_numeric                                gmap_id  \\\n",
       "0              18              0  0x80c2c778e3b73d33:0xbdc58662a4a97d49   \n",
       "1              18              0  0x80dd2b4c8555edb7:0xfc33d65c4bdbef42   \n",
       "\n",
       "            category  \n",
       "0  Korean restaurant  \n",
       "1         Restaurant  "
      ]
     },
     "execution_count": 7,
     "metadata": {},
     "output_type": "execute_result"
    }
   ],
   "source": [
    "restaurant.head(2)"
   ]
  },
  {
   "cell_type": "code",
   "execution_count": 8,
   "metadata": {},
   "outputs": [
    {
     "name": "stdout",
     "output_type": "stream",
     "text": [
      "<class 'pandas.core.frame.DataFrame'>\n",
      "Index: 33356 entries, 0 to 33625\n",
      "Data columns (total 12 columns):\n",
      " #   Column          Non-Null Count  Dtype  \n",
      "---  ------          --------------  -----  \n",
      " 0   name            33356 non-null  object \n",
      " 1   address         33356 non-null  object \n",
      " 2   state           33356 non-null  object \n",
      " 3   city            33356 non-null  object \n",
      " 4   postal_code     33356 non-null  int32  \n",
      " 5   latitude        33356 non-null  float64\n",
      " 6   longitude       33356 non-null  float64\n",
      " 7   avg_rating      33356 non-null  float64\n",
      " 8   num_of_reviews  33356 non-null  int64  \n",
      " 9   price_numeric   33356 non-null  int32  \n",
      " 10  gmap_id         33356 non-null  object \n",
      " 11  category        33356 non-null  object \n",
      "dtypes: float64(3), int32(2), int64(1), object(6)\n",
      "memory usage: 3.1+ MB\n"
     ]
    }
   ],
   "source": [
    "restaurant.info()"
   ]
  },
  {
   "cell_type": "code",
   "execution_count": 9,
   "metadata": {},
   "outputs": [
    {
     "data": {
      "text/html": [
       "<div>\n",
       "<style scoped>\n",
       "    .dataframe tbody tr th:only-of-type {\n",
       "        vertical-align: middle;\n",
       "    }\n",
       "\n",
       "    .dataframe tbody tr th {\n",
       "        vertical-align: top;\n",
       "    }\n",
       "\n",
       "    .dataframe thead th {\n",
       "        text-align: right;\n",
       "    }\n",
       "</style>\n",
       "<table border=\"1\" class=\"dataframe\">\n",
       "  <thead>\n",
       "    <tr style=\"text-align: right;\">\n",
       "      <th></th>\n",
       "      <th>user_id</th>\n",
       "      <th>user_name</th>\n",
       "      <th>year</th>\n",
       "      <th>month</th>\n",
       "      <th>day</th>\n",
       "      <th>hour</th>\n",
       "      <th>rating</th>\n",
       "      <th>text</th>\n",
       "      <th>restaurant_name</th>\n",
       "      <th>state</th>\n",
       "      <th>city</th>\n",
       "      <th>gmap_id</th>\n",
       "    </tr>\n",
       "  </thead>\n",
       "  <tbody>\n",
       "    <tr>\n",
       "      <th>0</th>\n",
       "      <td>108991152262655788985</td>\n",
       "      <td>Song Ro</td>\n",
       "      <td>2021</td>\n",
       "      <td>1</td>\n",
       "      <td>6</td>\n",
       "      <td>05:12:07.056</td>\n",
       "      <td>5</td>\n",
       "      <td>Love there korean rice cake.</td>\n",
       "      <td>San Soo Dang</td>\n",
       "      <td>California</td>\n",
       "      <td>Los Angeles</td>\n",
       "      <td>0x80c2c778e3b73d33:0xbdc58662a4a97d49</td>\n",
       "    </tr>\n",
       "    <tr>\n",
       "      <th>1</th>\n",
       "      <td>111290322219796215751</td>\n",
       "      <td>Rafa Robles</td>\n",
       "      <td>2021</td>\n",
       "      <td>2</td>\n",
       "      <td>9</td>\n",
       "      <td>05:47:28.663</td>\n",
       "      <td>5</td>\n",
       "      <td>Good very good</td>\n",
       "      <td>San Soo Dang</td>\n",
       "      <td>California</td>\n",
       "      <td>Los Angeles</td>\n",
       "      <td>0x80c2c778e3b73d33:0xbdc58662a4a97d49</td>\n",
       "    </tr>\n",
       "  </tbody>\n",
       "</table>\n",
       "</div>"
      ],
      "text/plain": [
       "                 user_id    user_name  year  month  day          hour  rating  \\\n",
       "0  108991152262655788985      Song Ro  2021      1    6  05:12:07.056       5   \n",
       "1  111290322219796215751  Rafa Robles  2021      2    9  05:47:28.663       5   \n",
       "\n",
       "                           text restaurant_name       state         city  \\\n",
       "0  Love there korean rice cake.    San Soo Dang  California  Los Angeles   \n",
       "1                Good very good    San Soo Dang  California  Los Angeles   \n",
       "\n",
       "                                 gmap_id  \n",
       "0  0x80c2c778e3b73d33:0xbdc58662a4a97d49  \n",
       "1  0x80c2c778e3b73d33:0xbdc58662a4a97d49  "
      ]
     },
     "execution_count": 9,
     "metadata": {},
     "output_type": "execute_result"
    }
   ],
   "source": [
    "reviews.head(2)"
   ]
  },
  {
   "cell_type": "code",
   "execution_count": 10,
   "metadata": {},
   "outputs": [
    {
     "name": "stdout",
     "output_type": "stream",
     "text": [
      "<class 'pandas.core.frame.DataFrame'>\n",
      "RangeIndex: 2463497 entries, 0 to 2463496\n",
      "Data columns (total 12 columns):\n",
      " #   Column           Dtype \n",
      "---  ------           ----- \n",
      " 0   user_id          object\n",
      " 1   user_name        object\n",
      " 2   year             int32 \n",
      " 3   month            int32 \n",
      " 4   day              int32 \n",
      " 5   hour             object\n",
      " 6   rating           int64 \n",
      " 7   text             object\n",
      " 8   restaurant_name  object\n",
      " 9   state            object\n",
      " 10  city             object\n",
      " 11  gmap_id          object\n",
      "dtypes: int32(3), int64(1), object(8)\n",
      "memory usage: 197.3+ MB\n"
     ]
    }
   ],
   "source": [
    "reviews.info()"
   ]
  },
  {
   "cell_type": "code",
   "execution_count": 11,
   "metadata": {},
   "outputs": [
    {
     "data": {
      "text/html": [
       "<div>\n",
       "<style scoped>\n",
       "    .dataframe tbody tr th:only-of-type {\n",
       "        vertical-align: middle;\n",
       "    }\n",
       "\n",
       "    .dataframe tbody tr th {\n",
       "        vertical-align: top;\n",
       "    }\n",
       "\n",
       "    .dataframe thead th {\n",
       "        text-align: right;\n",
       "    }\n",
       "</style>\n",
       "<table border=\"1\" class=\"dataframe\">\n",
       "  <thead>\n",
       "    <tr style=\"text-align: right;\">\n",
       "      <th></th>\n",
       "      <th>user_id</th>\n",
       "      <th>user_name</th>\n",
       "      <th>review_count</th>\n",
       "      <th>average_rating</th>\n",
       "    </tr>\n",
       "  </thead>\n",
       "  <tbody>\n",
       "    <tr>\n",
       "      <th>0</th>\n",
       "      <td>104819208193648646391</td>\n",
       "      <td>Gregor J. Rothfuss</td>\n",
       "      <td>103</td>\n",
       "      <td>3.941748</td>\n",
       "    </tr>\n",
       "    <tr>\n",
       "      <th>1</th>\n",
       "      <td>106654503918907830147</td>\n",
       "      <td>The Corcoran Group</td>\n",
       "      <td>94</td>\n",
       "      <td>4.042553</td>\n",
       "    </tr>\n",
       "  </tbody>\n",
       "</table>\n",
       "</div>"
      ],
      "text/plain": [
       "                 user_id           user_name  review_count  average_rating\n",
       "0  104819208193648646391  Gregor J. Rothfuss           103        3.941748\n",
       "1  106654503918907830147  The Corcoran Group            94        4.042553"
      ]
     },
     "execution_count": 11,
     "metadata": {},
     "output_type": "execute_result"
    }
   ],
   "source": [
    "user.head(2)"
   ]
  },
  {
   "cell_type": "code",
   "execution_count": 12,
   "metadata": {},
   "outputs": [
    {
     "name": "stdout",
     "output_type": "stream",
     "text": [
      "<class 'pandas.core.frame.DataFrame'>\n",
      "RangeIndex: 1569049 entries, 0 to 1569048\n",
      "Data columns (total 4 columns):\n",
      " #   Column          Non-Null Count    Dtype  \n",
      "---  ------          --------------    -----  \n",
      " 0   user_id         1569049 non-null  object \n",
      " 1   user_name       1569049 non-null  object \n",
      " 2   review_count    1569049 non-null  int64  \n",
      " 3   average_rating  1569049 non-null  float64\n",
      "dtypes: float64(1), int64(1), object(2)\n",
      "memory usage: 47.9+ MB\n"
     ]
    }
   ],
   "source": [
    "user.info()"
   ]
  },
  {
   "cell_type": "markdown",
   "metadata": {},
   "source": [
    "**Archivos YELP**"
   ]
  },
  {
   "cell_type": "code",
   "execution_count": 13,
   "metadata": {},
   "outputs": [],
   "source": [
    "business = pd.read_parquet(os.path.join(Ruta_data_procesada_full, \"Dataset_Business_simplificado.parquet\"))\n",
    "checkin = pd.read_parquet(os.path.join(Ruta_data_procesada_full, \"Dataset_Checkin.parquet\"))\n",
    "reviews_yelp = pd.read_parquet(os.path.join(Ruta_data_procesada_full, \"Dataset_Review_simplificado.parquet\"))\n",
    "tip = pd.read_parquet(os.path.join(Ruta_data_procesada, \"Dataset_Tip.parquet\"))\n",
    "user_yelp = pd.read_parquet(os.path.join(Ruta_data_procesada, \"Dataset_User_Elite.parquet\"))"
   ]
  },
  {
   "cell_type": "markdown",
   "metadata": {},
   "source": [
    "*Realizamos una visualización de los dataframes que tenemos para verificar que tipo de datos tenemos y la cantidad de los mismos.*"
   ]
  },
  {
   "cell_type": "code",
   "execution_count": 14,
   "metadata": {},
   "outputs": [
    {
     "data": {
      "text/html": [
       "<div>\n",
       "<style scoped>\n",
       "    .dataframe tbody tr th:only-of-type {\n",
       "        vertical-align: middle;\n",
       "    }\n",
       "\n",
       "    .dataframe tbody tr th {\n",
       "        vertical-align: top;\n",
       "    }\n",
       "\n",
       "    .dataframe thead th {\n",
       "        text-align: right;\n",
       "    }\n",
       "</style>\n",
       "<table border=\"1\" class=\"dataframe\">\n",
       "  <thead>\n",
       "    <tr style=\"text-align: right;\">\n",
       "      <th></th>\n",
       "      <th>id_business</th>\n",
       "      <th>name</th>\n",
       "      <th>city</th>\n",
       "      <th>state</th>\n",
       "      <th>postal_code</th>\n",
       "      <th>latitude</th>\n",
       "      <th>longitude</th>\n",
       "      <th>stars</th>\n",
       "      <th>review_count</th>\n",
       "      <th>hours_Dataset_Business</th>\n",
       "      <th>first_category</th>\n",
       "    </tr>\n",
       "  </thead>\n",
       "  <tbody>\n",
       "    <tr>\n",
       "      <th>6</th>\n",
       "      <td>3</td>\n",
       "      <td>St Honore Pastries</td>\n",
       "      <td>Philadelphia</td>\n",
       "      <td>Pennsylvania</td>\n",
       "      <td>19107</td>\n",
       "      <td>39.955505</td>\n",
       "      <td>-75.155564</td>\n",
       "      <td>4.0</td>\n",
       "      <td>80</td>\n",
       "      <td>{'Friday': '7:0-21:0', 'Monday': '7:0-20:0', 'Saturday': '7:0-21:0', 'Sunday': '7:0-21:0', 'Thursday': '7:0-20:0', 'Tuesday': '7:0-20:0', 'Wednesday': '7:0-20:0'}</td>\n",
       "      <td>Restaurants</td>\n",
       "    </tr>\n",
       "    <tr>\n",
       "      <th>1513</th>\n",
       "      <td>14</td>\n",
       "      <td>Zio's Italian Market</td>\n",
       "      <td>Largo</td>\n",
       "      <td>Florida</td>\n",
       "      <td>33771</td>\n",
       "      <td>27.916116</td>\n",
       "      <td>-82.760461</td>\n",
       "      <td>4.5</td>\n",
       "      <td>100</td>\n",
       "      <td>{'Friday': '10:0-20:0', 'Monday': '10:0-18:0', 'Saturday': '10:0-20:0', 'Sunday': None, 'Thursday': '10:0-20:0', 'Tuesday': '10:0-20:0', 'Wednesday': '10:0-20:0'}</td>\n",
       "      <td>Food</td>\n",
       "    </tr>\n",
       "  </tbody>\n",
       "</table>\n",
       "</div>"
      ],
      "text/plain": [
       "      id_business                  name          city         state  \\\n",
       "6               3    St Honore Pastries  Philadelphia  Pennsylvania   \n",
       "1513           14  Zio's Italian Market         Largo       Florida   \n",
       "\n",
       "      postal_code   latitude  longitude  stars  review_count  \\\n",
       "6           19107  39.955505 -75.155564    4.0            80   \n",
       "1513        33771  27.916116 -82.760461    4.5           100   \n",
       "\n",
       "                                                                                                                                                  hours_Dataset_Business  \\\n",
       "6     {'Friday': '7:0-21:0', 'Monday': '7:0-20:0', 'Saturday': '7:0-21:0', 'Sunday': '7:0-21:0', 'Thursday': '7:0-20:0', 'Tuesday': '7:0-20:0', 'Wednesday': '7:0-20:0'}   \n",
       "1513  {'Friday': '10:0-20:0', 'Monday': '10:0-18:0', 'Saturday': '10:0-20:0', 'Sunday': None, 'Thursday': '10:0-20:0', 'Tuesday': '10:0-20:0', 'Wednesday': '10:0-20:0'}   \n",
       "\n",
       "     first_category  \n",
       "6       Restaurants  \n",
       "1513           Food  "
      ]
     },
     "execution_count": 14,
     "metadata": {},
     "output_type": "execute_result"
    }
   ],
   "source": [
    "business.head(2)"
   ]
  },
  {
   "cell_type": "code",
   "execution_count": 15,
   "metadata": {},
   "outputs": [
    {
     "name": "stdout",
     "output_type": "stream",
     "text": [
      "<class 'pandas.core.frame.DataFrame'>\n",
      "Index: 10046 entries, 6 to 61365580\n",
      "Data columns (total 11 columns):\n",
      " #   Column                  Non-Null Count  Dtype  \n",
      "---  ------                  --------------  -----  \n",
      " 0   id_business             10046 non-null  int64  \n",
      " 1   name                    10046 non-null  object \n",
      " 2   city                    10046 non-null  object \n",
      " 3   state                   10046 non-null  object \n",
      " 4   postal_code             10046 non-null  int64  \n",
      " 5   latitude                10046 non-null  float64\n",
      " 6   longitude               10046 non-null  float64\n",
      " 7   stars                   10046 non-null  float64\n",
      " 8   review_count            10046 non-null  int64  \n",
      " 9   hours_Dataset_Business  10046 non-null  object \n",
      " 10  first_category          10046 non-null  object \n",
      "dtypes: float64(3), int64(3), object(5)\n",
      "memory usage: 941.8+ KB\n"
     ]
    }
   ],
   "source": [
    "business.info()"
   ]
  },
  {
   "cell_type": "code",
   "execution_count": 16,
   "metadata": {},
   "outputs": [
    {
     "data": {
      "text/html": [
       "<div>\n",
       "<style scoped>\n",
       "    .dataframe tbody tr th:only-of-type {\n",
       "        vertical-align: middle;\n",
       "    }\n",
       "\n",
       "    .dataframe tbody tr th {\n",
       "        vertical-align: top;\n",
       "    }\n",
       "\n",
       "    .dataframe thead th {\n",
       "        text-align: right;\n",
       "    }\n",
       "</style>\n",
       "<table border=\"1\" class=\"dataframe\">\n",
       "  <thead>\n",
       "    <tr style=\"text-align: right;\">\n",
       "      <th></th>\n",
       "      <th>business_id</th>\n",
       "      <th>hour</th>\n",
       "      <th>date</th>\n",
       "      <th>year</th>\n",
       "      <th>month</th>\n",
       "    </tr>\n",
       "  </thead>\n",
       "  <tbody>\n",
       "    <tr>\n",
       "      <th>0</th>\n",
       "      <td>---kPU91CF4Lq2-WlRu9Lw</td>\n",
       "      <td>21:10:56</td>\n",
       "      <td>2020-03-13</td>\n",
       "      <td>2020</td>\n",
       "      <td>3</td>\n",
       "    </tr>\n",
       "    <tr>\n",
       "      <th>1</th>\n",
       "      <td>---kPU91CF4Lq2-WlRu9Lw</td>\n",
       "      <td>22:18:06</td>\n",
       "      <td>2020-06-02</td>\n",
       "      <td>2020</td>\n",
       "      <td>6</td>\n",
       "    </tr>\n",
       "  </tbody>\n",
       "</table>\n",
       "</div>"
      ],
      "text/plain": [
       "              business_id      hour       date  year  month\n",
       "0  ---kPU91CF4Lq2-WlRu9Lw  21:10:56 2020-03-13  2020      3\n",
       "1  ---kPU91CF4Lq2-WlRu9Lw  22:18:06 2020-06-02  2020      6"
      ]
     },
     "execution_count": 16,
     "metadata": {},
     "output_type": "execute_result"
    }
   ],
   "source": [
    "checkin.head(2)"
   ]
  },
  {
   "cell_type": "code",
   "execution_count": 17,
   "metadata": {},
   "outputs": [
    {
     "name": "stdout",
     "output_type": "stream",
     "text": [
      "<class 'pandas.core.frame.DataFrame'>\n",
      "Index: 13353332 entries, 0 to 13356874\n",
      "Data columns (total 5 columns):\n",
      " #   Column       Dtype         \n",
      "---  ------       -----         \n",
      " 0   business_id  object        \n",
      " 1   hour         object        \n",
      " 2   date         datetime64[ns]\n",
      " 3   year         int32         \n",
      " 4   month        int32         \n",
      "dtypes: datetime64[ns](1), int32(2), object(2)\n",
      "memory usage: 509.4+ MB\n"
     ]
    }
   ],
   "source": [
    "checkin.info()"
   ]
  },
  {
   "cell_type": "code",
   "execution_count": 18,
   "metadata": {},
   "outputs": [
    {
     "data": {
      "text/html": [
       "<div>\n",
       "<style scoped>\n",
       "    .dataframe tbody tr th:only-of-type {\n",
       "        vertical-align: middle;\n",
       "    }\n",
       "\n",
       "    .dataframe tbody tr th {\n",
       "        vertical-align: top;\n",
       "    }\n",
       "\n",
       "    .dataframe thead th {\n",
       "        text-align: right;\n",
       "    }\n",
       "</style>\n",
       "<table border=\"1\" class=\"dataframe\">\n",
       "  <thead>\n",
       "    <tr style=\"text-align: right;\">\n",
       "      <th></th>\n",
       "      <th>user_id</th>\n",
       "      <th>stars_Dataset_Review</th>\n",
       "      <th>text</th>\n",
       "      <th>id_review</th>\n",
       "      <th>id_user</th>\n",
       "      <th>id_business</th>\n",
       "      <th>anho</th>\n",
       "      <th>mes</th>\n",
       "      <th>dia</th>\n",
       "      <th>hora</th>\n",
       "      <th>name</th>\n",
       "      <th>city</th>\n",
       "      <th>state</th>\n",
       "      <th>stars_Dataset_Business</th>\n",
       "      <th>review_count</th>\n",
       "      <th>yelp_id</th>\n",
       "    </tr>\n",
       "  </thead>\n",
       "  <tbody>\n",
       "    <tr>\n",
       "      <th>0</th>\n",
       "      <td>mh_-eMZ6K5RLWhZyISBhwA</td>\n",
       "      <td>3.0</td>\n",
       "      <td>If you decide to eat here, just be aware it is going to take about 2 hours from beginning to end. We have tried it multiple times, because I want to like it! I have been to it's other locations in NJ and never had a bad experience. \\n\\nThe food is good, but it takes a very long time to come out. The waitstaff is very young, but usually pleasant. We have just had too many experiences where we spent way too long waiting. We usually opt for another diner or restaurant on the weekends, in order to be done quicker.</td>\n",
       "      <td>0</td>\n",
       "      <td>124234</td>\n",
       "      <td>1867</td>\n",
       "      <td>2018</td>\n",
       "      <td>07</td>\n",
       "      <td>07</td>\n",
       "      <td>22:09:11</td>\n",
       "      <td>Turning Point of North Wales</td>\n",
       "      <td>North Wales</td>\n",
       "      <td>Pennsylvania</td>\n",
       "      <td>3.0</td>\n",
       "      <td>169</td>\n",
       "      <td>mh_-eMZ6K5RLWhZyISBhwA</td>\n",
       "    </tr>\n",
       "    <tr>\n",
       "      <th>6</th>\n",
       "      <td>59MxRhNVhU9MYndMkz0wtw</td>\n",
       "      <td>3.0</td>\n",
       "      <td>Had a party of 6 here for hibachi. Our waitress brought our separate sushi orders on one plate so we couldn't really tell who's was who's and forgot several items on an order. I understand making mistakes but the restaraunt was really quiet so we were kind of surprised. Usually hibachi is a fun lively experience and our  cook  said maybe three words, but he cooked very well his name was Francisco. Service was fishy, food was pretty good, and im hoping it was just an off night here. But for the money I wouldn't go back.</td>\n",
       "      <td>9</td>\n",
       "      <td>114367</td>\n",
       "      <td>14917</td>\n",
       "      <td>2016</td>\n",
       "      <td>07</td>\n",
       "      <td>25</td>\n",
       "      <td>07:31:06</td>\n",
       "      <td>Hibachi Steak House &amp; Sushi Bar</td>\n",
       "      <td>Santa Barbara</td>\n",
       "      <td>California</td>\n",
       "      <td>3.5</td>\n",
       "      <td>488</td>\n",
       "      <td>59MxRhNVhU9MYndMkz0wtw</td>\n",
       "    </tr>\n",
       "  </tbody>\n",
       "</table>\n",
       "</div>"
      ],
      "text/plain": [
       "                  user_id  stars_Dataset_Review  \\\n",
       "0  mh_-eMZ6K5RLWhZyISBhwA                   3.0   \n",
       "6  59MxRhNVhU9MYndMkz0wtw                   3.0   \n",
       "\n",
       "                                                                                                                                                                                                                                                                                                                                                                                                                                                                                                                                           text  \\\n",
       "0           If you decide to eat here, just be aware it is going to take about 2 hours from beginning to end. We have tried it multiple times, because I want to like it! I have been to it's other locations in NJ and never had a bad experience. \\n\\nThe food is good, but it takes a very long time to come out. The waitstaff is very young, but usually pleasant. We have just had too many experiences where we spent way too long waiting. We usually opt for another diner or restaurant on the weekends, in order to be done quicker.   \n",
       "6  Had a party of 6 here for hibachi. Our waitress brought our separate sushi orders on one plate so we couldn't really tell who's was who's and forgot several items on an order. I understand making mistakes but the restaraunt was really quiet so we were kind of surprised. Usually hibachi is a fun lively experience and our  cook  said maybe three words, but he cooked very well his name was Francisco. Service was fishy, food was pretty good, and im hoping it was just an off night here. But for the money I wouldn't go back.   \n",
       "\n",
       "   id_review  id_user  id_business  anho mes dia      hora  \\\n",
       "0          0   124234         1867  2018  07  07  22:09:11   \n",
       "6          9   114367        14917  2016  07  25  07:31:06   \n",
       "\n",
       "                              name           city         state  \\\n",
       "0     Turning Point of North Wales    North Wales  Pennsylvania   \n",
       "6  Hibachi Steak House & Sushi Bar  Santa Barbara    California   \n",
       "\n",
       "   stars_Dataset_Business  review_count                 yelp_id  \n",
       "0                     3.0           169  mh_-eMZ6K5RLWhZyISBhwA  \n",
       "6                     3.5           488  59MxRhNVhU9MYndMkz0wtw  "
      ]
     },
     "execution_count": 18,
     "metadata": {},
     "output_type": "execute_result"
    }
   ],
   "source": [
    "reviews_yelp.head(2)"
   ]
  },
  {
   "cell_type": "code",
   "execution_count": 19,
   "metadata": {},
   "outputs": [
    {
     "name": "stdout",
     "output_type": "stream",
     "text": [
      "<class 'pandas.core.frame.DataFrame'>\n",
      "Index: 820244 entries, 0 to 3775924\n",
      "Data columns (total 16 columns):\n",
      " #   Column                  Non-Null Count   Dtype  \n",
      "---  ------                  --------------   -----  \n",
      " 0   user_id                 820244 non-null  object \n",
      " 1   stars_Dataset_Review    820244 non-null  float64\n",
      " 2   text                    820244 non-null  object \n",
      " 3   id_review               820244 non-null  int64  \n",
      " 4   id_user                 820244 non-null  int64  \n",
      " 5   id_business             820244 non-null  int64  \n",
      " 6   anho                    820244 non-null  object \n",
      " 7   mes                     820244 non-null  object \n",
      " 8   dia                     820244 non-null  object \n",
      " 9   hora                    820244 non-null  object \n",
      " 10  name                    820244 non-null  object \n",
      " 11  city                    820244 non-null  object \n",
      " 12  state                   820244 non-null  object \n",
      " 13  stars_Dataset_Business  820244 non-null  float64\n",
      " 14  review_count            820244 non-null  int64  \n",
      " 15  yelp_id                 820244 non-null  object \n",
      "dtypes: float64(2), int64(4), object(10)\n",
      "memory usage: 106.4+ MB\n"
     ]
    }
   ],
   "source": [
    "reviews_yelp.info()"
   ]
  },
  {
   "cell_type": "code",
   "execution_count": 20,
   "metadata": {},
   "outputs": [
    {
     "data": {
      "text/html": [
       "<div>\n",
       "<style scoped>\n",
       "    .dataframe tbody tr th:only-of-type {\n",
       "        vertical-align: middle;\n",
       "    }\n",
       "\n",
       "    .dataframe tbody tr th {\n",
       "        vertical-align: top;\n",
       "    }\n",
       "\n",
       "    .dataframe thead th {\n",
       "        text-align: right;\n",
       "    }\n",
       "</style>\n",
       "<table border=\"1\" class=\"dataframe\">\n",
       "  <thead>\n",
       "    <tr style=\"text-align: right;\">\n",
       "      <th></th>\n",
       "      <th>id_user</th>\n",
       "      <th>id_business</th>\n",
       "      <th>text</th>\n",
       "      <th>date</th>\n",
       "      <th>compliment_count</th>\n",
       "    </tr>\n",
       "  </thead>\n",
       "  <tbody>\n",
       "    <tr>\n",
       "      <th>0</th>\n",
       "      <td>66477</td>\n",
       "      <td>140105</td>\n",
       "      <td>They have lots of good deserts and tasty cuban sandwiches</td>\n",
       "      <td>2013-02-05 18:35:10</td>\n",
       "      <td>0</td>\n",
       "    </tr>\n",
       "    <tr>\n",
       "      <th>1</th>\n",
       "      <td>49975</td>\n",
       "      <td>865</td>\n",
       "      <td>It's open even when you think it isn't</td>\n",
       "      <td>2013-08-18 00:56:08</td>\n",
       "      <td>0</td>\n",
       "    </tr>\n",
       "  </tbody>\n",
       "</table>\n",
       "</div>"
      ],
      "text/plain": [
       "   id_user  id_business  \\\n",
       "0    66477       140105   \n",
       "1    49975          865   \n",
       "\n",
       "                                                        text  \\\n",
       "0  They have lots of good deserts and tasty cuban sandwiches   \n",
       "1                     It's open even when you think it isn't   \n",
       "\n",
       "                  date  compliment_count  \n",
       "0  2013-02-05 18:35:10                 0  \n",
       "1  2013-08-18 00:56:08                 0  "
      ]
     },
     "execution_count": 20,
     "metadata": {},
     "output_type": "execute_result"
    }
   ],
   "source": [
    "tip.head(2)"
   ]
  },
  {
   "cell_type": "code",
   "execution_count": 21,
   "metadata": {},
   "outputs": [
    {
     "name": "stdout",
     "output_type": "stream",
     "text": [
      "<class 'pandas.core.frame.DataFrame'>\n",
      "Index: 466658 entries, 0 to 466698\n",
      "Data columns (total 5 columns):\n",
      " #   Column            Non-Null Count   Dtype \n",
      "---  ------            --------------   ----- \n",
      " 0   id_user           466658 non-null  int64 \n",
      " 1   id_business       466658 non-null  int64 \n",
      " 2   text              466658 non-null  object\n",
      " 3   date              466658 non-null  object\n",
      " 4   compliment_count  466658 non-null  int64 \n",
      "dtypes: int64(3), object(2)\n",
      "memory usage: 21.4+ MB\n"
     ]
    }
   ],
   "source": [
    "tip.info()"
   ]
  },
  {
   "cell_type": "code",
   "execution_count": 22,
   "metadata": {},
   "outputs": [
    {
     "data": {
      "text/html": [
       "<div>\n",
       "<style scoped>\n",
       "    .dataframe tbody tr th:only-of-type {\n",
       "        vertical-align: middle;\n",
       "    }\n",
       "\n",
       "    .dataframe tbody tr th {\n",
       "        vertical-align: top;\n",
       "    }\n",
       "\n",
       "    .dataframe thead th {\n",
       "        text-align: right;\n",
       "    }\n",
       "</style>\n",
       "<table border=\"1\" class=\"dataframe\">\n",
       "  <thead>\n",
       "    <tr style=\"text-align: right;\">\n",
       "      <th></th>\n",
       "      <th>id_user</th>\n",
       "      <th>years</th>\n",
       "    </tr>\n",
       "  </thead>\n",
       "  <tbody>\n",
       "    <tr>\n",
       "      <th>0</th>\n",
       "      <td>0</td>\n",
       "      <td>2007</td>\n",
       "    </tr>\n",
       "    <tr>\n",
       "      <th>1</th>\n",
       "      <td>1</td>\n",
       "      <td>2009</td>\n",
       "    </tr>\n",
       "  </tbody>\n",
       "</table>\n",
       "</div>"
      ],
      "text/plain": [
       "   id_user  years\n",
       "0        0   2007\n",
       "1        1   2009"
      ]
     },
     "execution_count": 22,
     "metadata": {},
     "output_type": "execute_result"
    }
   ],
   "source": [
    "user_yelp.head(2)"
   ]
  },
  {
   "cell_type": "markdown",
   "metadata": {},
   "source": [
    "Se realizará un análisis para definir la calidad de los datos de cada uno de los dataframes con los que contamos y la calidad se calculará verificando la cantidad de datos nulos, datos faltantes y dato duplicados, esto se representará con un % calculado por el total de datos existente dividido por la cantidad de datos faltantes."
   ]
  },
  {
   "cell_type": "markdown",
   "metadata": {},
   "source": [
    "**Verificación de datos \"Nulos\" de cada Dataframes de Google.**"
   ]
  },
  {
   "cell_type": "markdown",
   "metadata": {},
   "source": [
    "*Nulos dataframe \"restaurant\".*"
   ]
  },
  {
   "cell_type": "code",
   "execution_count": 23,
   "metadata": {},
   "outputs": [
    {
     "data": {
      "text/plain": [
       "name              0\n",
       "address           0\n",
       "state             0\n",
       "city              0\n",
       "postal_code       0\n",
       "latitude          0\n",
       "longitude         0\n",
       "avg_rating        0\n",
       "num_of_reviews    0\n",
       "price_numeric     0\n",
       "gmap_id           0\n",
       "category          0\n",
       "dtype: int64"
      ]
     },
     "execution_count": 23,
     "metadata": {},
     "output_type": "execute_result"
    }
   ],
   "source": [
    "restaurant.isnull().sum()"
   ]
  },
  {
   "cell_type": "markdown",
   "metadata": {},
   "source": [
    "Se realizó una verificación de todas las columnas del dataframe \"restaurant\" en busca de datos nulos. El resultado reveló la ausencia total de datos nulos equivalente a un 0%, lo que nos lleva a concluir que la calidad de los datos en este término es óptima."
   ]
  },
  {
   "cell_type": "markdown",
   "metadata": {},
   "source": [
    "*Nulos dataframe \"reviews\".*"
   ]
  },
  {
   "cell_type": "code",
   "execution_count": 24,
   "metadata": {},
   "outputs": [
    {
     "data": {
      "text/plain": [
       "user_id            0\n",
       "user_name          0\n",
       "year               0\n",
       "month              0\n",
       "day                0\n",
       "hour               0\n",
       "rating             0\n",
       "text               0\n",
       "restaurant_name    0\n",
       "state              0\n",
       "city               0\n",
       "gmap_id            0\n",
       "dtype: int64"
      ]
     },
     "execution_count": 24,
     "metadata": {},
     "output_type": "execute_result"
    }
   ],
   "source": [
    "reviews.isnull().sum()"
   ]
  },
  {
   "cell_type": "markdown",
   "metadata": {},
   "source": [
    "Se realizó una verificación de todas las columnas del dataframe \"reviews\" en busca de datos nulos. El resultado reveló la ausencia total de datos nulos equivalente a un 0%, lo que nos lleva a concluir que la calidad de los datos en este término es óptima."
   ]
  },
  {
   "cell_type": "markdown",
   "metadata": {},
   "source": [
    "*Nulos dataframe \"user\".*"
   ]
  },
  {
   "cell_type": "code",
   "execution_count": 25,
   "metadata": {},
   "outputs": [
    {
     "data": {
      "text/plain": [
       "user_id           0\n",
       "user_name         0\n",
       "review_count      0\n",
       "average_rating    0\n",
       "dtype: int64"
      ]
     },
     "execution_count": 25,
     "metadata": {},
     "output_type": "execute_result"
    }
   ],
   "source": [
    "user.isnull().sum()"
   ]
  },
  {
   "cell_type": "markdown",
   "metadata": {},
   "source": [
    "Se realizó una verificación de todas las columnas del dataframe \"user\" en busca de datos nulos. El resultado reveló la ausencia total de datos nulos, lo cual equivale a un 0%, lo que nos lleva a concluir que la calidad de los datos en este término es óptima."
   ]
  },
  {
   "cell_type": "markdown",
   "metadata": {},
   "source": [
    "**Verificación de datos duplicados Google**"
   ]
  },
  {
   "cell_type": "markdown",
   "metadata": {},
   "source": [
    "*Duplicados dataframe \"restaurant\".*"
   ]
  },
  {
   "cell_type": "markdown",
   "metadata": {},
   "source": [
    "En relación con la detección de datos duplicados en el DataFrame \"restaurant\", se focalizará exclusivamente en la columna \"address\" debido a la naturaleza del conjunto de datos. La identificación de duplicados en esta columna indicaría una anomalía, ya que no se espera que existan múltiples restaurantes en la misma ubicación."
   ]
  },
  {
   "cell_type": "code",
   "execution_count": 26,
   "metadata": {},
   "outputs": [
    {
     "data": {
      "text/html": [
       "<div>\n",
       "<style scoped>\n",
       "    .dataframe tbody tr th:only-of-type {\n",
       "        vertical-align: middle;\n",
       "    }\n",
       "\n",
       "    .dataframe tbody tr th {\n",
       "        vertical-align: top;\n",
       "    }\n",
       "\n",
       "    .dataframe thead th {\n",
       "        text-align: right;\n",
       "    }\n",
       "</style>\n",
       "<table border=\"1\" class=\"dataframe\">\n",
       "  <thead>\n",
       "    <tr style=\"text-align: right;\">\n",
       "      <th></th>\n",
       "      <th>name</th>\n",
       "      <th>address</th>\n",
       "      <th>state</th>\n",
       "      <th>city</th>\n",
       "      <th>postal_code</th>\n",
       "      <th>latitude</th>\n",
       "      <th>longitude</th>\n",
       "      <th>avg_rating</th>\n",
       "      <th>num_of_reviews</th>\n",
       "      <th>price_numeric</th>\n",
       "      <th>gmap_id</th>\n",
       "      <th>category</th>\n",
       "    </tr>\n",
       "  </thead>\n",
       "  <tbody>\n",
       "  </tbody>\n",
       "</table>\n",
       "</div>"
      ],
      "text/plain": [
       "Empty DataFrame\n",
       "Columns: [name, address, state, city, postal_code, latitude, longitude, avg_rating, num_of_reviews, price_numeric, gmap_id, category]\n",
       "Index: []"
      ]
     },
     "execution_count": 26,
     "metadata": {},
     "output_type": "execute_result"
    }
   ],
   "source": [
    "duplicados = restaurant[restaurant.duplicated(subset='address')]\n",
    "duplicados"
   ]
  },
  {
   "cell_type": "markdown",
   "metadata": {},
   "source": [
    "Tras llevar a cabo la validación de duplicados en la columna \"address\", se constató la ausencia de repeticiones, lo que sugiere una alta integridad de datos en el DataFrame \"restaurant\"."
   ]
  },
  {
   "cell_type": "markdown",
   "metadata": {},
   "source": [
    "*Duplicados dataframe \"reviews\".*"
   ]
  },
  {
   "cell_type": "code",
   "execution_count": 27,
   "metadata": {},
   "outputs": [
    {
     "data": {
      "text/html": [
       "<div>\n",
       "<style scoped>\n",
       "    .dataframe tbody tr th:only-of-type {\n",
       "        vertical-align: middle;\n",
       "    }\n",
       "\n",
       "    .dataframe tbody tr th {\n",
       "        vertical-align: top;\n",
       "    }\n",
       "\n",
       "    .dataframe thead th {\n",
       "        text-align: right;\n",
       "    }\n",
       "</style>\n",
       "<table border=\"1\" class=\"dataframe\">\n",
       "  <thead>\n",
       "    <tr style=\"text-align: right;\">\n",
       "      <th></th>\n",
       "      <th>user_id</th>\n",
       "      <th>user_name</th>\n",
       "      <th>year</th>\n",
       "      <th>month</th>\n",
       "      <th>day</th>\n",
       "      <th>hour</th>\n",
       "      <th>rating</th>\n",
       "      <th>text</th>\n",
       "      <th>restaurant_name</th>\n",
       "      <th>state</th>\n",
       "      <th>city</th>\n",
       "      <th>gmap_id</th>\n",
       "    </tr>\n",
       "  </thead>\n",
       "  <tbody>\n",
       "    <tr>\n",
       "      <th>0</th>\n",
       "      <td>108991152262655788985</td>\n",
       "      <td>Song Ro</td>\n",
       "      <td>2021</td>\n",
       "      <td>1</td>\n",
       "      <td>6</td>\n",
       "      <td>05:12:07.056</td>\n",
       "      <td>5</td>\n",
       "      <td>Love there korean rice cake.</td>\n",
       "      <td>San Soo Dang</td>\n",
       "      <td>California</td>\n",
       "      <td>Los Angeles</td>\n",
       "      <td>0x80c2c778e3b73d33:0xbdc58662a4a97d49</td>\n",
       "    </tr>\n",
       "    <tr>\n",
       "      <th>1</th>\n",
       "      <td>111290322219796215751</td>\n",
       "      <td>Rafa Robles</td>\n",
       "      <td>2021</td>\n",
       "      <td>2</td>\n",
       "      <td>9</td>\n",
       "      <td>05:47:28.663</td>\n",
       "      <td>5</td>\n",
       "      <td>Good very good</td>\n",
       "      <td>San Soo Dang</td>\n",
       "      <td>California</td>\n",
       "      <td>Los Angeles</td>\n",
       "      <td>0x80c2c778e3b73d33:0xbdc58662a4a97d49</td>\n",
       "    </tr>\n",
       "    <tr>\n",
       "      <th>2</th>\n",
       "      <td>112640357449611959087</td>\n",
       "      <td>David Han</td>\n",
       "      <td>2020</td>\n",
       "      <td>3</td>\n",
       "      <td>8</td>\n",
       "      <td>05:04:42.296</td>\n",
       "      <td>4</td>\n",
       "      <td>They make Korean traditional food very properly.</td>\n",
       "      <td>San Soo Dang</td>\n",
       "      <td>California</td>\n",
       "      <td>Los Angeles</td>\n",
       "      <td>0x80c2c778e3b73d33:0xbdc58662a4a97d49</td>\n",
       "    </tr>\n",
       "    <tr>\n",
       "      <th>3</th>\n",
       "      <td>117440349723823658676</td>\n",
       "      <td>Anthony Kim</td>\n",
       "      <td>2019</td>\n",
       "      <td>3</td>\n",
       "      <td>7</td>\n",
       "      <td>05:56:56.355</td>\n",
       "      <td>5</td>\n",
       "      <td>Short ribs are very delicious.</td>\n",
       "      <td>San Soo Dang</td>\n",
       "      <td>California</td>\n",
       "      <td>Los Angeles</td>\n",
       "      <td>0x80c2c778e3b73d33:0xbdc58662a4a97d49</td>\n",
       "    </tr>\n",
       "    <tr>\n",
       "      <th>4</th>\n",
       "      <td>100580770836123539210</td>\n",
       "      <td>Mario Marzouk</td>\n",
       "      <td>2017</td>\n",
       "      <td>5</td>\n",
       "      <td>16</td>\n",
       "      <td>05:01:41.933</td>\n",
       "      <td>5</td>\n",
       "      <td>Great food and prices the portions are large</td>\n",
       "      <td>San Soo Dang</td>\n",
       "      <td>California</td>\n",
       "      <td>Los Angeles</td>\n",
       "      <td>0x80c2c778e3b73d33:0xbdc58662a4a97d49</td>\n",
       "    </tr>\n",
       "    <tr>\n",
       "      <th>...</th>\n",
       "      <td>...</td>\n",
       "      <td>...</td>\n",
       "      <td>...</td>\n",
       "      <td>...</td>\n",
       "      <td>...</td>\n",
       "      <td>...</td>\n",
       "      <td>...</td>\n",
       "      <td>...</td>\n",
       "      <td>...</td>\n",
       "      <td>...</td>\n",
       "      <td>...</td>\n",
       "      <td>...</td>\n",
       "    </tr>\n",
       "    <tr>\n",
       "      <th>2460572</th>\n",
       "      <td>107087100194406663299</td>\n",
       "      <td>Alex</td>\n",
       "      <td>2018</td>\n",
       "      <td>1</td>\n",
       "      <td>10</td>\n",
       "      <td>21:04:49.741</td>\n",
       "      <td>5</td>\n",
       "      <td>Polite staff with delicious food selections and great service. A perfect place for a causal or work lunch. Enjoy!</td>\n",
       "      <td>Cafe Amsterdam</td>\n",
       "      <td>Alaska</td>\n",
       "      <td>Anchorage</td>\n",
       "      <td>0x56c897c81c27a063:0x345caa7cf3c4e96c</td>\n",
       "    </tr>\n",
       "    <tr>\n",
       "      <th>2460582</th>\n",
       "      <td>102145058349489671743</td>\n",
       "      <td>Dora Ahwinona</td>\n",
       "      <td>2018</td>\n",
       "      <td>8</td>\n",
       "      <td>26</td>\n",
       "      <td>03:34:51.882</td>\n",
       "      <td>4</td>\n",
       "      <td>Good food and service, family owned place.</td>\n",
       "      <td>Cafe Amsterdam</td>\n",
       "      <td>Alaska</td>\n",
       "      <td>Anchorage</td>\n",
       "      <td>0x56c897c81c27a063:0x345caa7cf3c4e96c</td>\n",
       "    </tr>\n",
       "    <tr>\n",
       "      <th>2460584</th>\n",
       "      <td>102145058349489671743</td>\n",
       "      <td>Dora Ahwinona</td>\n",
       "      <td>2018</td>\n",
       "      <td>8</td>\n",
       "      <td>26</td>\n",
       "      <td>03:34:51.882</td>\n",
       "      <td>4</td>\n",
       "      <td>Good food and service, family owned place.</td>\n",
       "      <td>Cafe Amsterdam</td>\n",
       "      <td>Alaska</td>\n",
       "      <td>Anchorage</td>\n",
       "      <td>0x56c897c81c27a063:0x345caa7cf3c4e96c</td>\n",
       "    </tr>\n",
       "    <tr>\n",
       "      <th>2460585</th>\n",
       "      <td>117419416460031273258</td>\n",
       "      <td>JT Stanley</td>\n",
       "      <td>2016</td>\n",
       "      <td>7</td>\n",
       "      <td>31</td>\n",
       "      <td>18:25:27.299</td>\n",
       "      <td>2</td>\n",
       "      <td>Used to be reasonably priced. Went there yesterday for breakfast and was blown away by the menu prices. $7 for a half avacodo, $4 for a piece of toast, $11 for oatmeal and the rest of the menu ranging from $14-$20+ and averaging at $15. I walked out.  Seems a bit outrageous compared to some of the other, better, local choices. Try Jackie's, Kava's or Peggy's. All more affordable and better tasting in my opinion.</td>\n",
       "      <td>Cafe Amsterdam</td>\n",
       "      <td>Alaska</td>\n",
       "      <td>Anchorage</td>\n",
       "      <td>0x56c897c81c27a063:0x345caa7cf3c4e96c</td>\n",
       "    </tr>\n",
       "    <tr>\n",
       "      <th>2460590</th>\n",
       "      <td>117419416460031273258</td>\n",
       "      <td>JT Stanley</td>\n",
       "      <td>2016</td>\n",
       "      <td>7</td>\n",
       "      <td>31</td>\n",
       "      <td>18:25:27.299</td>\n",
       "      <td>2</td>\n",
       "      <td>Used to be reasonably priced. Went there yesterday for breakfast and was blown away by the menu prices. $7 for a half avacodo, $4 for a piece of toast, $11 for oatmeal and the rest of the menu ranging from $14-$20+ and averaging at $15. I walked out.  Seems a bit outrageous compared to some of the other, better, local choices. Try Jackie's, Kava's or Peggy's. All more affordable and better tasting in my opinion.</td>\n",
       "      <td>Cafe Amsterdam</td>\n",
       "      <td>Alaska</td>\n",
       "      <td>Anchorage</td>\n",
       "      <td>0x56c897c81c27a063:0x345caa7cf3c4e96c</td>\n",
       "    </tr>\n",
       "  </tbody>\n",
       "</table>\n",
       "<p>191206 rows × 12 columns</p>\n",
       "</div>"
      ],
      "text/plain": [
       "                       user_id      user_name  year  month  day          hour  \\\n",
       "0        108991152262655788985        Song Ro  2021      1    6  05:12:07.056   \n",
       "1        111290322219796215751    Rafa Robles  2021      2    9  05:47:28.663   \n",
       "2        112640357449611959087      David Han  2020      3    8  05:04:42.296   \n",
       "3        117440349723823658676    Anthony Kim  2019      3    7  05:56:56.355   \n",
       "4        100580770836123539210  Mario Marzouk  2017      5   16  05:01:41.933   \n",
       "...                        ...            ...   ...    ...  ...           ...   \n",
       "2460572  107087100194406663299           Alex  2018      1   10  21:04:49.741   \n",
       "2460582  102145058349489671743  Dora Ahwinona  2018      8   26  03:34:51.882   \n",
       "2460584  102145058349489671743  Dora Ahwinona  2018      8   26  03:34:51.882   \n",
       "2460585  117419416460031273258     JT Stanley  2016      7   31  18:25:27.299   \n",
       "2460590  117419416460031273258     JT Stanley  2016      7   31  18:25:27.299   \n",
       "\n",
       "         rating  \\\n",
       "0             5   \n",
       "1             5   \n",
       "2             4   \n",
       "3             5   \n",
       "4             5   \n",
       "...         ...   \n",
       "2460572       5   \n",
       "2460582       4   \n",
       "2460584       4   \n",
       "2460585       2   \n",
       "2460590       2   \n",
       "\n",
       "                                                                                                                                                                                                                                                                                                                                                                                                                                    text  \\\n",
       "0                                                                                                                                                                                                                                                                                                                                                                                                           Love there korean rice cake.   \n",
       "1                                                                                                                                                                                                                                                                                                                                                                                                                         Good very good   \n",
       "2                                                                                                                                                                                                                                                                                                                                                                                       They make Korean traditional food very properly.   \n",
       "3                                                                                                                                                                                                                                                                                                                                                                                                         Short ribs are very delicious.   \n",
       "4                                                                                                                                                                                                                                                                                                                                                                                           Great food and prices the portions are large   \n",
       "...                                                                                                                                                                                                                                                                                                                                                                                                                                  ...   \n",
       "2460572                                                                                                                                                                                                                                                                                                                Polite staff with delicious food selections and great service. A perfect place for a causal or work lunch. Enjoy!   \n",
       "2460582                                                                                                                                                                                                                                                                                                                                                                                       Good food and service, family owned place.   \n",
       "2460584                                                                                                                                                                                                                                                                                                                                                                                       Good food and service, family owned place.   \n",
       "2460585  Used to be reasonably priced. Went there yesterday for breakfast and was blown away by the menu prices. $7 for a half avacodo, $4 for a piece of toast, $11 for oatmeal and the rest of the menu ranging from $14-$20+ and averaging at $15. I walked out.  Seems a bit outrageous compared to some of the other, better, local choices. Try Jackie's, Kava's or Peggy's. All more affordable and better tasting in my opinion.   \n",
       "2460590  Used to be reasonably priced. Went there yesterday for breakfast and was blown away by the menu prices. $7 for a half avacodo, $4 for a piece of toast, $11 for oatmeal and the rest of the menu ranging from $14-$20+ and averaging at $15. I walked out.  Seems a bit outrageous compared to some of the other, better, local choices. Try Jackie's, Kava's or Peggy's. All more affordable and better tasting in my opinion.   \n",
       "\n",
       "        restaurant_name       state         city  \\\n",
       "0          San Soo Dang  California  Los Angeles   \n",
       "1          San Soo Dang  California  Los Angeles   \n",
       "2          San Soo Dang  California  Los Angeles   \n",
       "3          San Soo Dang  California  Los Angeles   \n",
       "4          San Soo Dang  California  Los Angeles   \n",
       "...                 ...         ...          ...   \n",
       "2460572  Cafe Amsterdam      Alaska    Anchorage   \n",
       "2460582  Cafe Amsterdam      Alaska    Anchorage   \n",
       "2460584  Cafe Amsterdam      Alaska    Anchorage   \n",
       "2460585  Cafe Amsterdam      Alaska    Anchorage   \n",
       "2460590  Cafe Amsterdam      Alaska    Anchorage   \n",
       "\n",
       "                                       gmap_id  \n",
       "0        0x80c2c778e3b73d33:0xbdc58662a4a97d49  \n",
       "1        0x80c2c778e3b73d33:0xbdc58662a4a97d49  \n",
       "2        0x80c2c778e3b73d33:0xbdc58662a4a97d49  \n",
       "3        0x80c2c778e3b73d33:0xbdc58662a4a97d49  \n",
       "4        0x80c2c778e3b73d33:0xbdc58662a4a97d49  \n",
       "...                                        ...  \n",
       "2460572  0x56c897c81c27a063:0x345caa7cf3c4e96c  \n",
       "2460582  0x56c897c81c27a063:0x345caa7cf3c4e96c  \n",
       "2460584  0x56c897c81c27a063:0x345caa7cf3c4e96c  \n",
       "2460585  0x56c897c81c27a063:0x345caa7cf3c4e96c  \n",
       "2460590  0x56c897c81c27a063:0x345caa7cf3c4e96c  \n",
       "\n",
       "[191206 rows x 12 columns]"
      ]
     },
     "execution_count": 27,
     "metadata": {},
     "output_type": "execute_result"
    }
   ],
   "source": [
    "duplicados = reviews[reviews.duplicated(subset=['user_id', 'hour'], keep=False)]\n",
    "duplicados"
   ]
  },
  {
   "cell_type": "code",
   "execution_count": 28,
   "metadata": {},
   "outputs": [
    {
     "data": {
      "text/plain": [
       "user_id                user_name         year  month  day  hour          rating  text                                                                                                                                                                                                                                                                                                                                                                                                                                                               restaurant_name             state        city           gmap_id                              \n",
       "108959132843836436989  Suzanne Mandella  2019  9      21   11:42:09.263  4       Ordered 7 different tapas. (Shrimp, goatcheese with figs, artichoke, chickpeas with sausage, tuna tartar, steak, octopus). The presentation of each dish was very nice and tasted very good.The service was excellent.\\nWill go back again.                                                                                                                                                                                                                        Gaudí Tapas and Wine        Connecticut  Danbury        0x89dd576d303dfc53:0x7f0c2093e961eeb0    3\n",
       "103783478910387987910  Lori Roy          2021  3      17   22:28:25.213  1       We were very dissapointed. 3 different pizzas ordered and not any worth it. 1 pizza was supposed to be double pepperoni & double cheese, some slices only had 1 piece of pepperoni and the crust was soft and doughy. Another pizza was cauliflower crust and it was terrible for which they charged extra for. 3rd pizza was terrible crust as well with a soft crust with no crunch at all & doughy and hard to chew or swallow. Will not try this place again!  MrJims.Pizza                Texas        Port Neches    0x863eb194e9ef6901:0xb24539ca7a973043    3\n",
       "108023860466818350175  Lisa Renee        2017  3      18   14:58:55.323  5       My favorite is the Cheese pizza - not your ordinary cheese pizza. It was delicious. The Coconut Curry is great too.                                                                                                                                                                                                                                                                                                                                                Broke Ass Pizza             Texas        Houston        0x8640bf01c157ee41:0x411ab7ef38a9da9f    3\n",
       "108204145743439467474  Kevin Barker      2018  8      1    06:03:19.16   4       Best pizza in Manhattan                                                                                                                                                                                                                                                                                                                                                                                                                                            Prince St. Pizza            New_York     New York       0x89c25985f7ec1beb:0x3c39f655da433d9d    3\n",
       "108529922569745114555  C “Mentos” S      2017  8      5    22:45:06.156  1       The food was disgusting.   The fish was ok, but the shrimp was sour and flavorless.  My husband got the fajita fried steak that came with dirty rice and was disappoint.  He said that it was gross and he just threw it away.  The dirty rice was so plain he didn't bother to eat that either. All in all NEVER AGIAN. I probably won't be able to keep this food down.                                                                                          Pancheaux's Cajun Cantinas  Texas        Lake Jackson   0x864043c37362e62b:0xdf6259dabdef4313    3\n",
       "                                                                                                                                                                                                                                                                                                                                                                                                                                                                                                                                                                                                                                                    ..\n",
       "106289989131279905918  Sheila Wan        2019  4      23   14:19:16.158  5       Come here regularly. They always deliver consistent quality and are accommodating.                                                                                                                                                                                                                                                                                                                                                                                 Gomen                       California   Stanton        0x80dd292f377d7309:0xc2f4ae4462ecf97     1\n",
       "106289972099578450873  John Carey        2019  12     4    03:44:26.85   5       Great atmosphere, good food.                                                                                                                                                                                                                                                                                                                                                                                                                                       Winner's Circle             New_York     Fonda          0x89de8dcb86d76069:0x5e561328ad44440e    1\n",
       "106289923751139027213  Julian Setian     2018  2      25   03:39:46.599  4       Terrific breakfast.                                                                                                                                                                                                                                                                                                                                                                                                                                                Sarabeth's                  New_York     New York       0x89c258f0eb5d3503:0x58ac4291922c136a    1\n",
       "106289791335613726236  adell Carr        2016  8      27   11:10:24.027  5       Great breakfast everytime!                                                                                                                                                                                                                                                                                                                                                                                                                                         Scully's Restaurant         Florida      Boynton Beach  0x88d8df1b795d5e69:0x392bc1fd7482277c    1\n",
       "118446649441296359833  Alec Holden       2020  3      21   17:10:13.275  5       This spot provides extraordinary service as well as delightful meals. The best restaurant around here. The food and drinks came out quick and the prices are fair. I recommend this place.                                                                                                                                                                                                                                                                         Osaka                       New_York     Brooklyn       0x89c25a5a7eb54e13:0x4fa646fc6042eb8e    1\n",
       "Name: count, Length: 108582, dtype: int64"
      ]
     },
     "execution_count": 28,
     "metadata": {},
     "output_type": "execute_result"
    }
   ],
   "source": [
    "duplicados = reviews[reviews.duplicated(subset='user_id') & reviews.duplicated(subset='hour')].value_counts()\n",
    "duplicados"
   ]
  },
  {
   "cell_type": "code",
   "execution_count": 29,
   "metadata": {},
   "outputs": [
    {
     "data": {
      "text/html": [
       "<div>\n",
       "<style scoped>\n",
       "    .dataframe tbody tr th:only-of-type {\n",
       "        vertical-align: middle;\n",
       "    }\n",
       "\n",
       "    .dataframe tbody tr th {\n",
       "        vertical-align: top;\n",
       "    }\n",
       "\n",
       "    .dataframe thead th {\n",
       "        text-align: right;\n",
       "    }\n",
       "</style>\n",
       "<table border=\"1\" class=\"dataframe\">\n",
       "  <thead>\n",
       "    <tr style=\"text-align: right;\">\n",
       "      <th></th>\n",
       "      <th>user_id</th>\n",
       "      <th>user_name</th>\n",
       "      <th>year</th>\n",
       "      <th>month</th>\n",
       "      <th>day</th>\n",
       "      <th>hour</th>\n",
       "      <th>rating</th>\n",
       "      <th>text</th>\n",
       "      <th>restaurant_name</th>\n",
       "      <th>state</th>\n",
       "      <th>city</th>\n",
       "      <th>gmap_id</th>\n",
       "    </tr>\n",
       "  </thead>\n",
       "  <tbody>\n",
       "    <tr>\n",
       "      <th>0</th>\n",
       "      <td>108991152262655788985</td>\n",
       "      <td>Song Ro</td>\n",
       "      <td>2021</td>\n",
       "      <td>1</td>\n",
       "      <td>6</td>\n",
       "      <td>05:12:07.056</td>\n",
       "      <td>5</td>\n",
       "      <td>Love there korean rice cake.</td>\n",
       "      <td>San Soo Dang</td>\n",
       "      <td>California</td>\n",
       "      <td>Los Angeles</td>\n",
       "      <td>0x80c2c778e3b73d33:0xbdc58662a4a97d49</td>\n",
       "    </tr>\n",
       "    <tr>\n",
       "      <th>1</th>\n",
       "      <td>111290322219796215751</td>\n",
       "      <td>Rafa Robles</td>\n",
       "      <td>2021</td>\n",
       "      <td>2</td>\n",
       "      <td>9</td>\n",
       "      <td>05:47:28.663</td>\n",
       "      <td>5</td>\n",
       "      <td>Good very good</td>\n",
       "      <td>San Soo Dang</td>\n",
       "      <td>California</td>\n",
       "      <td>Los Angeles</td>\n",
       "      <td>0x80c2c778e3b73d33:0xbdc58662a4a97d49</td>\n",
       "    </tr>\n",
       "    <tr>\n",
       "      <th>2</th>\n",
       "      <td>112640357449611959087</td>\n",
       "      <td>David Han</td>\n",
       "      <td>2020</td>\n",
       "      <td>3</td>\n",
       "      <td>8</td>\n",
       "      <td>05:04:42.296</td>\n",
       "      <td>4</td>\n",
       "      <td>They make Korean traditional food very properly.</td>\n",
       "      <td>San Soo Dang</td>\n",
       "      <td>California</td>\n",
       "      <td>Los Angeles</td>\n",
       "      <td>0x80c2c778e3b73d33:0xbdc58662a4a97d49</td>\n",
       "    </tr>\n",
       "    <tr>\n",
       "      <th>3</th>\n",
       "      <td>117440349723823658676</td>\n",
       "      <td>Anthony Kim</td>\n",
       "      <td>2019</td>\n",
       "      <td>3</td>\n",
       "      <td>7</td>\n",
       "      <td>05:56:56.355</td>\n",
       "      <td>5</td>\n",
       "      <td>Short ribs are very delicious.</td>\n",
       "      <td>San Soo Dang</td>\n",
       "      <td>California</td>\n",
       "      <td>Los Angeles</td>\n",
       "      <td>0x80c2c778e3b73d33:0xbdc58662a4a97d49</td>\n",
       "    </tr>\n",
       "    <tr>\n",
       "      <th>4</th>\n",
       "      <td>100580770836123539210</td>\n",
       "      <td>Mario Marzouk</td>\n",
       "      <td>2017</td>\n",
       "      <td>5</td>\n",
       "      <td>16</td>\n",
       "      <td>05:01:41.933</td>\n",
       "      <td>5</td>\n",
       "      <td>Great food and prices the portions are large</td>\n",
       "      <td>San Soo Dang</td>\n",
       "      <td>California</td>\n",
       "      <td>Los Angeles</td>\n",
       "      <td>0x80c2c778e3b73d33:0xbdc58662a4a97d49</td>\n",
       "    </tr>\n",
       "    <tr>\n",
       "      <th>...</th>\n",
       "      <td>...</td>\n",
       "      <td>...</td>\n",
       "      <td>...</td>\n",
       "      <td>...</td>\n",
       "      <td>...</td>\n",
       "      <td>...</td>\n",
       "      <td>...</td>\n",
       "      <td>...</td>\n",
       "      <td>...</td>\n",
       "      <td>...</td>\n",
       "      <td>...</td>\n",
       "      <td>...</td>\n",
       "    </tr>\n",
       "    <tr>\n",
       "      <th>2463492</th>\n",
       "      <td>109764997153941094653</td>\n",
       "      <td>Aaron Larson</td>\n",
       "      <td>2019</td>\n",
       "      <td>5</td>\n",
       "      <td>29</td>\n",
       "      <td>02:40:52.134</td>\n",
       "      <td>5</td>\n",
       "      <td>SD</td>\n",
       "      <td>Keen Kow Thai Food</td>\n",
       "      <td>Alaska</td>\n",
       "      <td>Ninilchik</td>\n",
       "      <td>0x56c6bbedd8a7e5a3:0x24f4d18d4a788d89</td>\n",
       "    </tr>\n",
       "    <tr>\n",
       "      <th>2463493</th>\n",
       "      <td>115046379139351279354</td>\n",
       "      <td>Scott Boyd</td>\n",
       "      <td>2017</td>\n",
       "      <td>6</td>\n",
       "      <td>14</td>\n",
       "      <td>17:49:03.227</td>\n",
       "      <td>5</td>\n",
       "      <td>SD</td>\n",
       "      <td>Keen Kow Thai Food</td>\n",
       "      <td>Alaska</td>\n",
       "      <td>Ninilchik</td>\n",
       "      <td>0x56c6bbedd8a7e5a3:0x24f4d18d4a788d89</td>\n",
       "    </tr>\n",
       "    <tr>\n",
       "      <th>2463494</th>\n",
       "      <td>107738667229021448594</td>\n",
       "      <td>Makenzie Morgan</td>\n",
       "      <td>2019</td>\n",
       "      <td>6</td>\n",
       "      <td>6</td>\n",
       "      <td>07:09:42.3</td>\n",
       "      <td>4</td>\n",
       "      <td>SD</td>\n",
       "      <td>Keen Kow Thai Food</td>\n",
       "      <td>Alaska</td>\n",
       "      <td>Ninilchik</td>\n",
       "      <td>0x56c6bbedd8a7e5a3:0x24f4d18d4a788d89</td>\n",
       "    </tr>\n",
       "    <tr>\n",
       "      <th>2463495</th>\n",
       "      <td>110573453963347972748</td>\n",
       "      <td>Sharon Cook</td>\n",
       "      <td>2017</td>\n",
       "      <td>8</td>\n",
       "      <td>30</td>\n",
       "      <td>01:17:44.097</td>\n",
       "      <td>5</td>\n",
       "      <td>SD</td>\n",
       "      <td>Keen Kow Thai Food</td>\n",
       "      <td>Alaska</td>\n",
       "      <td>Ninilchik</td>\n",
       "      <td>0x56c6bbedd8a7e5a3:0x24f4d18d4a788d89</td>\n",
       "    </tr>\n",
       "    <tr>\n",
       "      <th>2463496</th>\n",
       "      <td>107118977516855688305</td>\n",
       "      <td>Jaimee Buzga</td>\n",
       "      <td>2018</td>\n",
       "      <td>6</td>\n",
       "      <td>21</td>\n",
       "      <td>23:43:26.518</td>\n",
       "      <td>5</td>\n",
       "      <td>SD</td>\n",
       "      <td>Keen Kow Thai Food</td>\n",
       "      <td>Alaska</td>\n",
       "      <td>Ninilchik</td>\n",
       "      <td>0x56c6bbedd8a7e5a3:0x24f4d18d4a788d89</td>\n",
       "    </tr>\n",
       "  </tbody>\n",
       "</table>\n",
       "<p>2463497 rows × 12 columns</p>\n",
       "</div>"
      ],
      "text/plain": [
       "                       user_id        user_name  year  month  day  \\\n",
       "0        108991152262655788985          Song Ro  2021      1    6   \n",
       "1        111290322219796215751      Rafa Robles  2021      2    9   \n",
       "2        112640357449611959087        David Han  2020      3    8   \n",
       "3        117440349723823658676      Anthony Kim  2019      3    7   \n",
       "4        100580770836123539210    Mario Marzouk  2017      5   16   \n",
       "...                        ...              ...   ...    ...  ...   \n",
       "2463492  109764997153941094653     Aaron Larson  2019      5   29   \n",
       "2463493  115046379139351279354       Scott Boyd  2017      6   14   \n",
       "2463494  107738667229021448594  Makenzie Morgan  2019      6    6   \n",
       "2463495  110573453963347972748      Sharon Cook  2017      8   30   \n",
       "2463496  107118977516855688305     Jaimee Buzga  2018      6   21   \n",
       "\n",
       "                 hour  rating  \\\n",
       "0        05:12:07.056       5   \n",
       "1        05:47:28.663       5   \n",
       "2        05:04:42.296       4   \n",
       "3        05:56:56.355       5   \n",
       "4        05:01:41.933       5   \n",
       "...               ...     ...   \n",
       "2463492  02:40:52.134       5   \n",
       "2463493  17:49:03.227       5   \n",
       "2463494    07:09:42.3       4   \n",
       "2463495  01:17:44.097       5   \n",
       "2463496  23:43:26.518       5   \n",
       "\n",
       "                                                     text     restaurant_name  \\\n",
       "0                            Love there korean rice cake.        San Soo Dang   \n",
       "1                                          Good very good        San Soo Dang   \n",
       "2        They make Korean traditional food very properly.        San Soo Dang   \n",
       "3                          Short ribs are very delicious.        San Soo Dang   \n",
       "4            Great food and prices the portions are large        San Soo Dang   \n",
       "...                                                   ...                 ...   \n",
       "2463492                                                SD  Keen Kow Thai Food   \n",
       "2463493                                                SD  Keen Kow Thai Food   \n",
       "2463494                                                SD  Keen Kow Thai Food   \n",
       "2463495                                                SD  Keen Kow Thai Food   \n",
       "2463496                                                SD  Keen Kow Thai Food   \n",
       "\n",
       "              state         city                                gmap_id  \n",
       "0        California  Los Angeles  0x80c2c778e3b73d33:0xbdc58662a4a97d49  \n",
       "1        California  Los Angeles  0x80c2c778e3b73d33:0xbdc58662a4a97d49  \n",
       "2        California  Los Angeles  0x80c2c778e3b73d33:0xbdc58662a4a97d49  \n",
       "3        California  Los Angeles  0x80c2c778e3b73d33:0xbdc58662a4a97d49  \n",
       "4        California  Los Angeles  0x80c2c778e3b73d33:0xbdc58662a4a97d49  \n",
       "...             ...          ...                                    ...  \n",
       "2463492      Alaska    Ninilchik  0x56c6bbedd8a7e5a3:0x24f4d18d4a788d89  \n",
       "2463493      Alaska    Ninilchik  0x56c6bbedd8a7e5a3:0x24f4d18d4a788d89  \n",
       "2463494      Alaska    Ninilchik  0x56c6bbedd8a7e5a3:0x24f4d18d4a788d89  \n",
       "2463495      Alaska    Ninilchik  0x56c6bbedd8a7e5a3:0x24f4d18d4a788d89  \n",
       "2463496      Alaska    Ninilchik  0x56c6bbedd8a7e5a3:0x24f4d18d4a788d89  \n",
       "\n",
       "[2463497 rows x 12 columns]"
      ]
     },
     "execution_count": 29,
     "metadata": {},
     "output_type": "execute_result"
    }
   ],
   "source": [
    "reviews"
   ]
  },
  {
   "cell_type": "code",
   "execution_count": 30,
   "metadata": {},
   "outputs": [
    {
     "data": {
      "text/html": [
       "<div>\n",
       "<style scoped>\n",
       "    .dataframe tbody tr th:only-of-type {\n",
       "        vertical-align: middle;\n",
       "    }\n",
       "\n",
       "    .dataframe tbody tr th {\n",
       "        vertical-align: top;\n",
       "    }\n",
       "\n",
       "    .dataframe thead th {\n",
       "        text-align: right;\n",
       "    }\n",
       "</style>\n",
       "<table border=\"1\" class=\"dataframe\">\n",
       "  <thead>\n",
       "    <tr style=\"text-align: right;\">\n",
       "      <th></th>\n",
       "      <th>user_id</th>\n",
       "      <th>user_name</th>\n",
       "      <th>year</th>\n",
       "      <th>month</th>\n",
       "      <th>day</th>\n",
       "      <th>hour</th>\n",
       "      <th>rating</th>\n",
       "      <th>text</th>\n",
       "      <th>restaurant_name</th>\n",
       "      <th>state</th>\n",
       "      <th>city</th>\n",
       "      <th>gmap_id</th>\n",
       "    </tr>\n",
       "  </thead>\n",
       "  <tbody>\n",
       "    <tr>\n",
       "      <th>167</th>\n",
       "      <td>101001321250592869991</td>\n",
       "      <td>Luis Briceno</td>\n",
       "      <td>2019</td>\n",
       "      <td>8</td>\n",
       "      <td>10</td>\n",
       "      <td>18:32:49.186</td>\n",
       "      <td>5</td>\n",
       "      <td>(Translated by Google) Very good place and very clean everything !!\\n\\n(Original)\\nMuy buen lugar y muy limpio todo!!</td>\n",
       "      <td>La Superior Panaderia</td>\n",
       "      <td>California</td>\n",
       "      <td>Los Angeles</td>\n",
       "      <td>0x80c2c798ad41d859:0x8823cd86d2abd5b3</td>\n",
       "    </tr>\n",
       "    <tr>\n",
       "      <th>169</th>\n",
       "      <td>101001321250592869991</td>\n",
       "      <td>Luis Briceno</td>\n",
       "      <td>2019</td>\n",
       "      <td>8</td>\n",
       "      <td>10</td>\n",
       "      <td>18:32:49.186</td>\n",
       "      <td>5</td>\n",
       "      <td>(Translated by Google) Very good place and very clean everything !!\\n\\n(Original)\\nMuy buen lugar y muy limpio todo!!</td>\n",
       "      <td>La Superior Panaderia</td>\n",
       "      <td>California</td>\n",
       "      <td>Los Angeles</td>\n",
       "      <td>0x80c2c798ad41d859:0x8823cd86d2abd5b3</td>\n",
       "    </tr>\n",
       "    <tr>\n",
       "      <th>847</th>\n",
       "      <td>101001321250592869991</td>\n",
       "      <td>Luis Briceno</td>\n",
       "      <td>2019</td>\n",
       "      <td>8</td>\n",
       "      <td>10</td>\n",
       "      <td>18:32:49.186</td>\n",
       "      <td>5</td>\n",
       "      <td>(Translated by Google) Very good place and very clean everything !!\\n\\n(Original)\\nMuy buen lugar y muy limpio todo!!</td>\n",
       "      <td>La Superior Panaderia</td>\n",
       "      <td>California</td>\n",
       "      <td>Los Angeles</td>\n",
       "      <td>0x80c2c798ad41d859:0x8823cd86d2abd5b3</td>\n",
       "    </tr>\n",
       "    <tr>\n",
       "      <th>849</th>\n",
       "      <td>101001321250592869991</td>\n",
       "      <td>Luis Briceno</td>\n",
       "      <td>2019</td>\n",
       "      <td>8</td>\n",
       "      <td>10</td>\n",
       "      <td>18:32:49.186</td>\n",
       "      <td>5</td>\n",
       "      <td>(Translated by Google) Very good place and very clean everything !!\\n\\n(Original)\\nMuy buen lugar y muy limpio todo!!</td>\n",
       "      <td>La Superior Panaderia</td>\n",
       "      <td>California</td>\n",
       "      <td>Los Angeles</td>\n",
       "      <td>0x80c2c798ad41d859:0x8823cd86d2abd5b3</td>\n",
       "    </tr>\n",
       "  </tbody>\n",
       "</table>\n",
       "</div>"
      ],
      "text/plain": [
       "                   user_id     user_name  year  month  day          hour  \\\n",
       "167  101001321250592869991  Luis Briceno  2019      8   10  18:32:49.186   \n",
       "169  101001321250592869991  Luis Briceno  2019      8   10  18:32:49.186   \n",
       "847  101001321250592869991  Luis Briceno  2019      8   10  18:32:49.186   \n",
       "849  101001321250592869991  Luis Briceno  2019      8   10  18:32:49.186   \n",
       "\n",
       "     rating  \\\n",
       "167       5   \n",
       "169       5   \n",
       "847       5   \n",
       "849       5   \n",
       "\n",
       "                                                                                                                      text  \\\n",
       "167  (Translated by Google) Very good place and very clean everything !!\\n\\n(Original)\\nMuy buen lugar y muy limpio todo!!   \n",
       "169  (Translated by Google) Very good place and very clean everything !!\\n\\n(Original)\\nMuy buen lugar y muy limpio todo!!   \n",
       "847  (Translated by Google) Very good place and very clean everything !!\\n\\n(Original)\\nMuy buen lugar y muy limpio todo!!   \n",
       "849  (Translated by Google) Very good place and very clean everything !!\\n\\n(Original)\\nMuy buen lugar y muy limpio todo!!   \n",
       "\n",
       "           restaurant_name       state         city  \\\n",
       "167  La Superior Panaderia  California  Los Angeles   \n",
       "169  La Superior Panaderia  California  Los Angeles   \n",
       "847  La Superior Panaderia  California  Los Angeles   \n",
       "849  La Superior Panaderia  California  Los Angeles   \n",
       "\n",
       "                                   gmap_id  \n",
       "167  0x80c2c798ad41d859:0x8823cd86d2abd5b3  \n",
       "169  0x80c2c798ad41d859:0x8823cd86d2abd5b3  \n",
       "847  0x80c2c798ad41d859:0x8823cd86d2abd5b3  \n",
       "849  0x80c2c798ad41d859:0x8823cd86d2abd5b3  "
      ]
     },
     "execution_count": 30,
     "metadata": {},
     "output_type": "execute_result"
    }
   ],
   "source": [
    "reviews[reviews['user_id'] == '101001321250592869991']"
   ]
  },
  {
   "cell_type": "markdown",
   "metadata": {},
   "source": [
    "Tras llevar a cabo una inspección en el DataFrame \"reviews\" en busca de duplicados, se identificaron un total de 191,206  registros duplicados de un conjunto de 2'463,497  datos, lo que representa un porcentaje del 7.76%. Por ende, se concluye que el 92.24% de los datos no están duplicados, lo que indica una calidad de datos (media) aceptable en el conjunto analizado."
   ]
  },
  {
   "cell_type": "markdown",
   "metadata": {},
   "source": [
    "*Duplicados dataframe \"user\".*"
   ]
  },
  {
   "cell_type": "code",
   "execution_count": 31,
   "metadata": {},
   "outputs": [
    {
     "data": {
      "text/plain": [
       "user_id                user_name                           review_count  average_rating\n",
       "100003708628889270275  Tanya Estrada                       1             5.0               1\n",
       "112482756494924042832  Wilfredo Lugo                       2             5.0               1\n",
       "112432688117379757117  Lizzy Thomas                        1             4.0               1\n",
       "112435112523680212019  Alan DELACRUZ                       2             3.5               1\n",
       "112439388468130288725  Juan Osorio                         1             5.0               1\n",
       "                                                                                          ..\n",
       "106664880530848195495  Thread Rolling USA                  1             4.0               1\n",
       "106668839169472489708  Lorski M.                           1             5.0               1\n",
       "106675055786698735715  Andy G                              1             5.0               1\n",
       "106675227000910692989  A mw                                1             4.0               1\n",
       "118444209281473607022  Carlos “Misionero Charlie” Jiménez  1             5.0               1\n",
       "Name: count, Length: 3489, dtype: int64"
      ]
     },
     "execution_count": 31,
     "metadata": {},
     "output_type": "execute_result"
    }
   ],
   "source": [
    "duplicados = user[user.duplicated(subset='user_id') ].value_counts()\n",
    "duplicados"
   ]
  },
  {
   "cell_type": "markdown",
   "metadata": {},
   "source": [
    "Después de investigar la presencia de datos duplicados en el DataFrame \"user\", se determinó que, dada la naturaleza inherente del conjunto de datos, la existencia de duplicados no necesariamente indicaría un error."
   ]
  },
  {
   "cell_type": "markdown",
   "metadata": {},
   "source": [
    "**Verificación de datos faltantes de Google**"
   ]
  },
  {
   "cell_type": "markdown",
   "metadata": {},
   "source": [
    "*Datos faltantes dataframe \"restaurant\"*"
   ]
  },
  {
   "cell_type": "code",
   "execution_count": 32,
   "metadata": {},
   "outputs": [
    {
     "data": {
      "text/html": [
       "<div>\n",
       "<style scoped>\n",
       "    .dataframe tbody tr th:only-of-type {\n",
       "        vertical-align: middle;\n",
       "    }\n",
       "\n",
       "    .dataframe tbody tr th {\n",
       "        vertical-align: top;\n",
       "    }\n",
       "\n",
       "    .dataframe thead th {\n",
       "        text-align: right;\n",
       "    }\n",
       "</style>\n",
       "<table border=\"1\" class=\"dataframe\">\n",
       "  <thead>\n",
       "    <tr style=\"text-align: right;\">\n",
       "      <th></th>\n",
       "      <th>name</th>\n",
       "      <th>address</th>\n",
       "      <th>state</th>\n",
       "      <th>city</th>\n",
       "      <th>postal_code</th>\n",
       "      <th>latitude</th>\n",
       "      <th>longitude</th>\n",
       "      <th>avg_rating</th>\n",
       "      <th>num_of_reviews</th>\n",
       "      <th>price_numeric</th>\n",
       "      <th>gmap_id</th>\n",
       "      <th>category</th>\n",
       "    </tr>\n",
       "  </thead>\n",
       "  <tbody>\n",
       "  </tbody>\n",
       "</table>\n",
       "</div>"
      ],
      "text/plain": [
       "Empty DataFrame\n",
       "Columns: [name, address, state, city, postal_code, latitude, longitude, avg_rating, num_of_reviews, price_numeric, gmap_id, category]\n",
       "Index: []"
      ]
     },
     "execution_count": 32,
     "metadata": {},
     "output_type": "execute_result"
    }
   ],
   "source": [
    "restaurant[restaurant['category'] == '']"
   ]
  },
  {
   "cell_type": "markdown",
   "metadata": {},
   "source": [
    "Tras un análisis del dataframe \"restaurant\" en busca de datos faltantes, se determinó que no existen ausencias de datos en ninguna parte del dataframe. Por consiguiente, se concluye que el dataframe presenta una alta calidad de datos."
   ]
  },
  {
   "cell_type": "markdown",
   "metadata": {},
   "source": [
    "*Datos faltantes dataframe \"reviews\"*"
   ]
  },
  {
   "cell_type": "code",
   "execution_count": 33,
   "metadata": {},
   "outputs": [
    {
     "data": {
      "text/html": [
       "<div>\n",
       "<style scoped>\n",
       "    .dataframe tbody tr th:only-of-type {\n",
       "        vertical-align: middle;\n",
       "    }\n",
       "\n",
       "    .dataframe tbody tr th {\n",
       "        vertical-align: top;\n",
       "    }\n",
       "\n",
       "    .dataframe thead th {\n",
       "        text-align: right;\n",
       "    }\n",
       "</style>\n",
       "<table border=\"1\" class=\"dataframe\">\n",
       "  <thead>\n",
       "    <tr style=\"text-align: right;\">\n",
       "      <th></th>\n",
       "      <th>user_id</th>\n",
       "      <th>user_name</th>\n",
       "      <th>year</th>\n",
       "      <th>month</th>\n",
       "      <th>day</th>\n",
       "      <th>hour</th>\n",
       "      <th>rating</th>\n",
       "      <th>text</th>\n",
       "      <th>restaurant_name</th>\n",
       "      <th>state</th>\n",
       "      <th>city</th>\n",
       "      <th>gmap_id</th>\n",
       "    </tr>\n",
       "  </thead>\n",
       "  <tbody>\n",
       "  </tbody>\n",
       "</table>\n",
       "</div>"
      ],
      "text/plain": [
       "Empty DataFrame\n",
       "Columns: [user_id, user_name, year, month, day, hour, rating, text, restaurant_name, state, city, gmap_id]\n",
       "Index: []"
      ]
     },
     "execution_count": 33,
     "metadata": {},
     "output_type": "execute_result"
    }
   ],
   "source": [
    "reviews[reviews['gmap_id']== '']"
   ]
  },
  {
   "cell_type": "markdown",
   "metadata": {},
   "source": [
    "Tras un análisis del dataframe \"reviews\" en busca de datos faltantes, se determinó que no existen ausencias de datos en ninguna parte del dataframe. Por consiguiente, se concluye que el dataframe presenta una alta calidad de datos."
   ]
  },
  {
   "cell_type": "markdown",
   "metadata": {},
   "source": [
    "*Datos faltantes dataframe \"user\"*"
   ]
  },
  {
   "cell_type": "code",
   "execution_count": 34,
   "metadata": {},
   "outputs": [
    {
     "data": {
      "text/html": [
       "<div>\n",
       "<style scoped>\n",
       "    .dataframe tbody tr th:only-of-type {\n",
       "        vertical-align: middle;\n",
       "    }\n",
       "\n",
       "    .dataframe tbody tr th {\n",
       "        vertical-align: top;\n",
       "    }\n",
       "\n",
       "    .dataframe thead th {\n",
       "        text-align: right;\n",
       "    }\n",
       "</style>\n",
       "<table border=\"1\" class=\"dataframe\">\n",
       "  <thead>\n",
       "    <tr style=\"text-align: right;\">\n",
       "      <th></th>\n",
       "      <th>user_id</th>\n",
       "      <th>user_name</th>\n",
       "      <th>review_count</th>\n",
       "      <th>average_rating</th>\n",
       "    </tr>\n",
       "  </thead>\n",
       "  <tbody>\n",
       "  </tbody>\n",
       "</table>\n",
       "</div>"
      ],
      "text/plain": [
       "Empty DataFrame\n",
       "Columns: [user_id, user_name, review_count, average_rating]\n",
       "Index: []"
      ]
     },
     "execution_count": 34,
     "metadata": {},
     "output_type": "execute_result"
    }
   ],
   "source": [
    "user[user['average_rating'] == '']"
   ]
  },
  {
   "cell_type": "markdown",
   "metadata": {},
   "source": [
    "Tras un análisis del dataframe \"user\" en busca de datos faltantes, se determinó que no existen ausencias de datos en ninguna parte del dataframe. Por consiguiente, se concluye que el dataframe presenta una alta calidad de datos."
   ]
  },
  {
   "cell_type": "markdown",
   "metadata": {},
   "source": [
    "**Verificación de datos \"Nulos\" de cada Dataframes de YELP.**"
   ]
  },
  {
   "cell_type": "markdown",
   "metadata": {},
   "source": [
    "*Nulos dataframe \"business\"*"
   ]
  },
  {
   "cell_type": "code",
   "execution_count": 35,
   "metadata": {},
   "outputs": [
    {
     "data": {
      "text/plain": [
       "id_business               0\n",
       "name                      0\n",
       "city                      0\n",
       "state                     0\n",
       "postal_code               0\n",
       "latitude                  0\n",
       "longitude                 0\n",
       "stars                     0\n",
       "review_count              0\n",
       "hours_Dataset_Business    0\n",
       "first_category            0\n",
       "dtype: int64"
      ]
     },
     "execution_count": 35,
     "metadata": {},
     "output_type": "execute_result"
    }
   ],
   "source": [
    "business.isnull().sum()"
   ]
  },
  {
   "cell_type": "markdown",
   "metadata": {},
   "source": [
    "Se realizó una verificación de todas las columnas del dataframe \"business\" en busca de datos nulos. El resultado reveló la ausencia total de datos nulos, lo cual equivale a un 0%, lo que nos lleva a concluir que la calidad de los datos en este término es óptima."
   ]
  },
  {
   "cell_type": "markdown",
   "metadata": {},
   "source": [
    "*Datos nulos del dataframe \"Checkin\"*"
   ]
  },
  {
   "cell_type": "code",
   "execution_count": 36,
   "metadata": {},
   "outputs": [
    {
     "data": {
      "text/plain": [
       "business_id    0\n",
       "hour           0\n",
       "date           0\n",
       "year           0\n",
       "month          0\n",
       "dtype: int64"
      ]
     },
     "execution_count": 36,
     "metadata": {},
     "output_type": "execute_result"
    }
   ],
   "source": [
    "checkin.isnull().sum()"
   ]
  },
  {
   "cell_type": "markdown",
   "metadata": {},
   "source": [
    "Se realizó una verificación de todas las columnas del dataframe \"checkin\" en busca de datos nulos. El resultado reveló la ausencia total de datos nulos, lo cual equivale a un 0%, lo que nos lleva a concluir que la calidad de los datos en este término es óptima."
   ]
  },
  {
   "cell_type": "markdown",
   "metadata": {},
   "source": [
    "*Datos nulos del dataframe \"reviews_yelp\"*"
   ]
  },
  {
   "cell_type": "code",
   "execution_count": 37,
   "metadata": {},
   "outputs": [
    {
     "data": {
      "text/plain": [
       "user_id                   0\n",
       "stars_Dataset_Review      0\n",
       "text                      0\n",
       "id_review                 0\n",
       "id_user                   0\n",
       "id_business               0\n",
       "anho                      0\n",
       "mes                       0\n",
       "dia                       0\n",
       "hora                      0\n",
       "name                      0\n",
       "city                      0\n",
       "state                     0\n",
       "stars_Dataset_Business    0\n",
       "review_count              0\n",
       "yelp_id                   0\n",
       "dtype: int64"
      ]
     },
     "execution_count": 37,
     "metadata": {},
     "output_type": "execute_result"
    }
   ],
   "source": [
    "reviews_yelp.isnull().sum()"
   ]
  },
  {
   "cell_type": "markdown",
   "metadata": {},
   "source": [
    "Se realizó una verificación de todas las columnas del dataframe \"reviews_yelp\" en busca de datos nulos. El resultado reveló la ausencia total de datos nulos, lo cual equivale a un 0%, lo que nos lleva a concluir que la calidad de los datos en este término es óptima."
   ]
  },
  {
   "cell_type": "markdown",
   "metadata": {},
   "source": [
    "*Datos nulos del dataframe \"tip\"*"
   ]
  },
  {
   "cell_type": "code",
   "execution_count": 38,
   "metadata": {},
   "outputs": [
    {
     "data": {
      "text/plain": [
       "id_user             0\n",
       "id_business         0\n",
       "text                0\n",
       "date                0\n",
       "compliment_count    0\n",
       "dtype: int64"
      ]
     },
     "execution_count": 38,
     "metadata": {},
     "output_type": "execute_result"
    }
   ],
   "source": [
    "tip.isnull().sum()"
   ]
  },
  {
   "cell_type": "markdown",
   "metadata": {},
   "source": [
    "Se realizó una verificación de todas las columnas del dataframe \"tip\" en busca de datos nulos. El resultado reveló la ausencia total de datos nulos, lo cual equivale a un 0%, lo que nos lleva a concluir que la calidad de los datos en este término es óptima."
   ]
  },
  {
   "cell_type": "markdown",
   "metadata": {},
   "source": [
    "*Datos nulos del dataframe \"user_yelp\"*"
   ]
  },
  {
   "cell_type": "code",
   "execution_count": 39,
   "metadata": {},
   "outputs": [
    {
     "data": {
      "text/plain": [
       "id_user          0\n",
       "years      1896699\n",
       "dtype: int64"
      ]
     },
     "execution_count": 39,
     "metadata": {},
     "output_type": "execute_result"
    }
   ],
   "source": [
    "user_yelp.isnull().sum()"
   ]
  },
  {
   "cell_type": "markdown",
   "metadata": {},
   "source": [
    "La alta cantidad de nulos es por la estructura del dataset"
   ]
  },
  {
   "cell_type": "markdown",
   "metadata": {},
   "source": [
    "**Verificación de datos duplicados de YELP**"
   ]
  },
  {
   "cell_type": "markdown",
   "metadata": {},
   "source": [
    "*Datos duplicados del dataframe \"business\""
   ]
  },
  {
   "cell_type": "code",
   "execution_count": 40,
   "metadata": {},
   "outputs": [
    {
     "data": {
      "text/html": [
       "<div>\n",
       "<style scoped>\n",
       "    .dataframe tbody tr th:only-of-type {\n",
       "        vertical-align: middle;\n",
       "    }\n",
       "\n",
       "    .dataframe tbody tr th {\n",
       "        vertical-align: top;\n",
       "    }\n",
       "\n",
       "    .dataframe thead th {\n",
       "        text-align: right;\n",
       "    }\n",
       "</style>\n",
       "<table border=\"1\" class=\"dataframe\">\n",
       "  <thead>\n",
       "    <tr style=\"text-align: right;\">\n",
       "      <th></th>\n",
       "      <th>id_business</th>\n",
       "      <th>name</th>\n",
       "      <th>city</th>\n",
       "      <th>state</th>\n",
       "      <th>postal_code</th>\n",
       "      <th>latitude</th>\n",
       "      <th>longitude</th>\n",
       "      <th>stars</th>\n",
       "      <th>review_count</th>\n",
       "      <th>hours_Dataset_Business</th>\n",
       "      <th>first_category</th>\n",
       "    </tr>\n",
       "  </thead>\n",
       "  <tbody>\n",
       "  </tbody>\n",
       "</table>\n",
       "</div>"
      ],
      "text/plain": [
       "Empty DataFrame\n",
       "Columns: [id_business, name, city, state, postal_code, latitude, longitude, stars, review_count, hours_Dataset_Business, first_category]\n",
       "Index: []"
      ]
     },
     "execution_count": 40,
     "metadata": {},
     "output_type": "execute_result"
    }
   ],
   "source": [
    "# duplicados = business[business.duplicated(subset=['address', 'latitude', 'longitude'], keep=False) & ~business.duplicated(subset=['address', 'latitude', 'longitude', 'state'], keep=False)]\n",
    "duplicados = business[business.duplicated(subset=['latitude', 'longitude'], keep=False) & ~business.duplicated(subset=['latitude', 'longitude', 'state'], keep=False)]\n",
    "duplicados"
   ]
  },
  {
   "cell_type": "code",
   "execution_count": 41,
   "metadata": {},
   "outputs": [
    {
     "data": {
      "text/html": [
       "<div>\n",
       "<style scoped>\n",
       "    .dataframe tbody tr th:only-of-type {\n",
       "        vertical-align: middle;\n",
       "    }\n",
       "\n",
       "    .dataframe tbody tr th {\n",
       "        vertical-align: top;\n",
       "    }\n",
       "\n",
       "    .dataframe thead th {\n",
       "        text-align: right;\n",
       "    }\n",
       "</style>\n",
       "<table border=\"1\" class=\"dataframe\">\n",
       "  <thead>\n",
       "    <tr style=\"text-align: right;\">\n",
       "      <th></th>\n",
       "      <th>id_business</th>\n",
       "      <th>name</th>\n",
       "      <th>city</th>\n",
       "      <th>state</th>\n",
       "      <th>postal_code</th>\n",
       "      <th>latitude</th>\n",
       "      <th>longitude</th>\n",
       "      <th>stars</th>\n",
       "      <th>review_count</th>\n",
       "      <th>hours_Dataset_Business</th>\n",
       "      <th>first_category</th>\n",
       "    </tr>\n",
       "  </thead>\n",
       "  <tbody>\n",
       "    <tr>\n",
       "      <th>6</th>\n",
       "      <td>3</td>\n",
       "      <td>St Honore Pastries</td>\n",
       "      <td>Philadelphia</td>\n",
       "      <td>Pennsylvania</td>\n",
       "      <td>19107</td>\n",
       "      <td>39.955505</td>\n",
       "      <td>-75.155564</td>\n",
       "      <td>4.0</td>\n",
       "      <td>80</td>\n",
       "      <td>{'Friday': '7:0-21:0', 'Monday': '7:0-20:0', 'Saturday': '7:0-21:0', 'Sunday': '7:0-21:0', 'Thursday': '7:0-20:0', 'Tuesday': '7:0-20:0', 'Wednesday': '7:0-20:0'}</td>\n",
       "      <td>Restaurants</td>\n",
       "    </tr>\n",
       "    <tr>\n",
       "      <th>1513</th>\n",
       "      <td>14</td>\n",
       "      <td>Zio's Italian Market</td>\n",
       "      <td>Largo</td>\n",
       "      <td>Florida</td>\n",
       "      <td>33771</td>\n",
       "      <td>27.916116</td>\n",
       "      <td>-82.760461</td>\n",
       "      <td>4.5</td>\n",
       "      <td>100</td>\n",
       "      <td>{'Friday': '10:0-20:0', 'Monday': '10:0-18:0', 'Saturday': '10:0-20:0', 'Sunday': None, 'Thursday': '10:0-20:0', 'Tuesday': '10:0-20:0', 'Wednesday': '10:0-20:0'}</td>\n",
       "      <td>Food</td>\n",
       "    </tr>\n",
       "    <tr>\n",
       "      <th>17041</th>\n",
       "      <td>23</td>\n",
       "      <td>Romano's Macaroni Grill</td>\n",
       "      <td>Reno</td>\n",
       "      <td>Nevada</td>\n",
       "      <td>89502</td>\n",
       "      <td>39.476117</td>\n",
       "      <td>-119.789339</td>\n",
       "      <td>2.5</td>\n",
       "      <td>339</td>\n",
       "      <td>{'Friday': '11:0-21:0', 'Monday': '11:0-22:0', 'Saturday': '12:0-21:0', 'Sunday': '11:0-21:0', 'Thursday': '11:0-20:0', 'Tuesday': '11:0-22:0', 'Wednesday': '10:0-22:0'}</td>\n",
       "      <td>Restaurants</td>\n",
       "    </tr>\n",
       "    <tr>\n",
       "      <th>22843</th>\n",
       "      <td>31</td>\n",
       "      <td>DeSandro on Main</td>\n",
       "      <td>Philadelphia</td>\n",
       "      <td>Pennsylvania</td>\n",
       "      <td>19127</td>\n",
       "      <td>40.022466</td>\n",
       "      <td>-75.218314</td>\n",
       "      <td>3.0</td>\n",
       "      <td>41</td>\n",
       "      <td>{'Friday': '17:0-0:30', 'Monday': None, 'Saturday': '17:0-0:30', 'Sunday': '17:0-21:30', 'Thursday': '17:0-1:30', 'Tuesday': '17:0-21:30', 'Wednesday': '17:0-1:30'}</td>\n",
       "      <td>Pizza</td>\n",
       "    </tr>\n",
       "    <tr>\n",
       "      <th>28191</th>\n",
       "      <td>33</td>\n",
       "      <td>Ardmore Pizza</td>\n",
       "      <td>Ardmore</td>\n",
       "      <td>Pennsylvania</td>\n",
       "      <td>19003</td>\n",
       "      <td>40.006707</td>\n",
       "      <td>-75.289671</td>\n",
       "      <td>3.5</td>\n",
       "      <td>109</td>\n",
       "      <td>{'Friday': '11:0-1:0', 'Monday': '11:0-0:0', 'Saturday': '11:0-1:0', 'Sunday': '11:0-0:0', 'Thursday': '11:0-0:0', 'Tuesday': '11:0-0:0', 'Wednesday': '11:0-0:0'}</td>\n",
       "      <td>Pizza</td>\n",
       "    </tr>\n",
       "    <tr>\n",
       "      <th>...</th>\n",
       "      <td>...</td>\n",
       "      <td>...</td>\n",
       "      <td>...</td>\n",
       "      <td>...</td>\n",
       "      <td>...</td>\n",
       "      <td>...</td>\n",
       "      <td>...</td>\n",
       "      <td>...</td>\n",
       "      <td>...</td>\n",
       "      <td>...</td>\n",
       "      <td>...</td>\n",
       "    </tr>\n",
       "    <tr>\n",
       "      <th>61364885</th>\n",
       "      <td>150260</td>\n",
       "      <td>Sage Mediterranean</td>\n",
       "      <td>Phoenixville</td>\n",
       "      <td>Pennsylvania</td>\n",
       "      <td>19460</td>\n",
       "      <td>40.134042</td>\n",
       "      <td>-75.514528</td>\n",
       "      <td>4.0</td>\n",
       "      <td>118</td>\n",
       "      <td>{'Friday': '11:30-22:30', 'Monday': None, 'Saturday': '11:30-22:30', 'Sunday': '11:30-22:30', 'Thursday': '11:30-22:30', 'Tuesday': '11:30-22:30', 'Wednesday': '11:30-22:30'}</td>\n",
       "      <td>Restaurants</td>\n",
       "    </tr>\n",
       "    <tr>\n",
       "      <th>61365056</th>\n",
       "      <td>150273</td>\n",
       "      <td>Rustica Restaurant Pizzera</td>\n",
       "      <td>New Hope</td>\n",
       "      <td>Pennsylvania</td>\n",
       "      <td>18938</td>\n",
       "      <td>40.346275</td>\n",
       "      <td>-75.035753</td>\n",
       "      <td>3.0</td>\n",
       "      <td>21</td>\n",
       "      <td>{'Friday': '9:0-20:0', 'Monday': '9:0-20:0', 'Saturday': '8:30-15:30', 'Sunday': None, 'Thursday': '9:0-20:0', 'Tuesday': '9:0-20:0', 'Wednesday': '9:0-20:0'}</td>\n",
       "      <td>Pizza</td>\n",
       "    </tr>\n",
       "    <tr>\n",
       "      <th>61365116</th>\n",
       "      <td>150287</td>\n",
       "      <td>Ali Baba Magic Food</td>\n",
       "      <td>Philadelphia</td>\n",
       "      <td>Pennsylvania</td>\n",
       "      <td>19104</td>\n",
       "      <td>39.953391</td>\n",
       "      <td>-75.196765</td>\n",
       "      <td>4.0</td>\n",
       "      <td>8</td>\n",
       "      <td>{'Friday': '9:0-20:0', 'Monday': '9:0-20:0', 'Saturday': '8:30-15:30', 'Sunday': None, 'Thursday': '9:0-20:0', 'Tuesday': '9:0-20:0', 'Wednesday': '9:0-20:0'}</td>\n",
       "      <td>Restaurants</td>\n",
       "    </tr>\n",
       "    <tr>\n",
       "      <th>61365125</th>\n",
       "      <td>150290</td>\n",
       "      <td>Pizza Guru</td>\n",
       "      <td>Santa Barbara</td>\n",
       "      <td>California</td>\n",
       "      <td>93105</td>\n",
       "      <td>34.440689</td>\n",
       "      <td>-119.739681</td>\n",
       "      <td>4.0</td>\n",
       "      <td>299</td>\n",
       "      <td>{'Friday': '15:0-21:0', 'Monday': '15:0-21:0', 'Saturday': '15:0-21:0', 'Sunday': '15:0-21:0', 'Thursday': '15:0-21:0', 'Tuesday': '15:0-21:0', 'Wednesday': '15:0-21:0'}</td>\n",
       "      <td>Restaurants</td>\n",
       "    </tr>\n",
       "    <tr>\n",
       "      <th>61365580</th>\n",
       "      <td>150339</td>\n",
       "      <td>The Plum Pit</td>\n",
       "      <td>Aston</td>\n",
       "      <td>Pennsylvania</td>\n",
       "      <td>19014</td>\n",
       "      <td>39.856185</td>\n",
       "      <td>-75.427725</td>\n",
       "      <td>4.5</td>\n",
       "      <td>14</td>\n",
       "      <td>{'Friday': '0:0-0:0', 'Monday': '0:0-0:0', 'Saturday': '0:0-0:0', 'Sunday': '0:0-0:0', 'Thursday': '0:0-0:0', 'Tuesday': '0:0-0:0', 'Wednesday': '0:0-0:0'}</td>\n",
       "      <td>Restaurants</td>\n",
       "    </tr>\n",
       "  </tbody>\n",
       "</table>\n",
       "<p>10046 rows × 11 columns</p>\n",
       "</div>"
      ],
      "text/plain": [
       "          id_business                        name           city  \\\n",
       "6                   3          St Honore Pastries   Philadelphia   \n",
       "1513               14        Zio's Italian Market          Largo   \n",
       "17041              23     Romano's Macaroni Grill           Reno   \n",
       "22843              31            DeSandro on Main   Philadelphia   \n",
       "28191              33               Ardmore Pizza        Ardmore   \n",
       "...               ...                         ...            ...   \n",
       "61364885       150260          Sage Mediterranean   Phoenixville   \n",
       "61365056       150273  Rustica Restaurant Pizzera       New Hope   \n",
       "61365116       150287         Ali Baba Magic Food   Philadelphia   \n",
       "61365125       150290                  Pizza Guru  Santa Barbara   \n",
       "61365580       150339                The Plum Pit          Aston   \n",
       "\n",
       "                 state  postal_code   latitude   longitude  stars  \\\n",
       "6         Pennsylvania        19107  39.955505  -75.155564    4.0   \n",
       "1513           Florida        33771  27.916116  -82.760461    4.5   \n",
       "17041           Nevada        89502  39.476117 -119.789339    2.5   \n",
       "22843     Pennsylvania        19127  40.022466  -75.218314    3.0   \n",
       "28191     Pennsylvania        19003  40.006707  -75.289671    3.5   \n",
       "...                ...          ...        ...         ...    ...   \n",
       "61364885  Pennsylvania        19460  40.134042  -75.514528    4.0   \n",
       "61365056  Pennsylvania        18938  40.346275  -75.035753    3.0   \n",
       "61365116  Pennsylvania        19104  39.953391  -75.196765    4.0   \n",
       "61365125    California        93105  34.440689 -119.739681    4.0   \n",
       "61365580  Pennsylvania        19014  39.856185  -75.427725    4.5   \n",
       "\n",
       "          review_count  \\\n",
       "6                   80   \n",
       "1513               100   \n",
       "17041              339   \n",
       "22843               41   \n",
       "28191              109   \n",
       "...                ...   \n",
       "61364885           118   \n",
       "61365056            21   \n",
       "61365116             8   \n",
       "61365125           299   \n",
       "61365580            14   \n",
       "\n",
       "                                                                                                                                                                  hours_Dataset_Business  \\\n",
       "6                     {'Friday': '7:0-21:0', 'Monday': '7:0-20:0', 'Saturday': '7:0-21:0', 'Sunday': '7:0-21:0', 'Thursday': '7:0-20:0', 'Tuesday': '7:0-20:0', 'Wednesday': '7:0-20:0'}   \n",
       "1513                  {'Friday': '10:0-20:0', 'Monday': '10:0-18:0', 'Saturday': '10:0-20:0', 'Sunday': None, 'Thursday': '10:0-20:0', 'Tuesday': '10:0-20:0', 'Wednesday': '10:0-20:0'}   \n",
       "17041          {'Friday': '11:0-21:0', 'Monday': '11:0-22:0', 'Saturday': '12:0-21:0', 'Sunday': '11:0-21:0', 'Thursday': '11:0-20:0', 'Tuesday': '11:0-22:0', 'Wednesday': '10:0-22:0'}   \n",
       "22843               {'Friday': '17:0-0:30', 'Monday': None, 'Saturday': '17:0-0:30', 'Sunday': '17:0-21:30', 'Thursday': '17:0-1:30', 'Tuesday': '17:0-21:30', 'Wednesday': '17:0-1:30'}   \n",
       "28191                 {'Friday': '11:0-1:0', 'Monday': '11:0-0:0', 'Saturday': '11:0-1:0', 'Sunday': '11:0-0:0', 'Thursday': '11:0-0:0', 'Tuesday': '11:0-0:0', 'Wednesday': '11:0-0:0'}   \n",
       "...                                                                                                                                                                                  ...   \n",
       "61364885  {'Friday': '11:30-22:30', 'Monday': None, 'Saturday': '11:30-22:30', 'Sunday': '11:30-22:30', 'Thursday': '11:30-22:30', 'Tuesday': '11:30-22:30', 'Wednesday': '11:30-22:30'}   \n",
       "61365056                  {'Friday': '9:0-20:0', 'Monday': '9:0-20:0', 'Saturday': '8:30-15:30', 'Sunday': None, 'Thursday': '9:0-20:0', 'Tuesday': '9:0-20:0', 'Wednesday': '9:0-20:0'}   \n",
       "61365116                  {'Friday': '9:0-20:0', 'Monday': '9:0-20:0', 'Saturday': '8:30-15:30', 'Sunday': None, 'Thursday': '9:0-20:0', 'Tuesday': '9:0-20:0', 'Wednesday': '9:0-20:0'}   \n",
       "61365125       {'Friday': '15:0-21:0', 'Monday': '15:0-21:0', 'Saturday': '15:0-21:0', 'Sunday': '15:0-21:0', 'Thursday': '15:0-21:0', 'Tuesday': '15:0-21:0', 'Wednesday': '15:0-21:0'}   \n",
       "61365580                     {'Friday': '0:0-0:0', 'Monday': '0:0-0:0', 'Saturday': '0:0-0:0', 'Sunday': '0:0-0:0', 'Thursday': '0:0-0:0', 'Tuesday': '0:0-0:0', 'Wednesday': '0:0-0:0'}   \n",
       "\n",
       "         first_category  \n",
       "6           Restaurants  \n",
       "1513               Food  \n",
       "17041       Restaurants  \n",
       "22843             Pizza  \n",
       "28191             Pizza  \n",
       "...                 ...  \n",
       "61364885    Restaurants  \n",
       "61365056          Pizza  \n",
       "61365116    Restaurants  \n",
       "61365125    Restaurants  \n",
       "61365580    Restaurants  \n",
       "\n",
       "[10046 rows x 11 columns]"
      ]
     },
     "execution_count": 41,
     "metadata": {},
     "output_type": "execute_result"
    }
   ],
   "source": [
    "business"
   ]
  },
  {
   "cell_type": "markdown",
   "metadata": {},
   "source": [
    "*Datos duplicados del dataframe \"checkin\"*"
   ]
  },
  {
   "cell_type": "code",
   "execution_count": 42,
   "metadata": {},
   "outputs": [
    {
     "data": {
      "text/html": [
       "<div>\n",
       "<style scoped>\n",
       "    .dataframe tbody tr th:only-of-type {\n",
       "        vertical-align: middle;\n",
       "    }\n",
       "\n",
       "    .dataframe tbody tr th {\n",
       "        vertical-align: top;\n",
       "    }\n",
       "\n",
       "    .dataframe thead th {\n",
       "        text-align: right;\n",
       "    }\n",
       "</style>\n",
       "<table border=\"1\" class=\"dataframe\">\n",
       "  <thead>\n",
       "    <tr style=\"text-align: right;\">\n",
       "      <th></th>\n",
       "      <th>business_id</th>\n",
       "      <th>hour</th>\n",
       "      <th>date</th>\n",
       "      <th>year</th>\n",
       "      <th>month</th>\n",
       "    </tr>\n",
       "  </thead>\n",
       "  <tbody>\n",
       "  </tbody>\n",
       "</table>\n",
       "</div>"
      ],
      "text/plain": [
       "Empty DataFrame\n",
       "Columns: [business_id, hour, date, year, month]\n",
       "Index: []"
      ]
     },
     "execution_count": 42,
     "metadata": {},
     "output_type": "execute_result"
    }
   ],
   "source": [
    "duplicados1 = checkin[checkin.duplicated(subset=['business_id', 'hour', 'date'], keep=False)]\n",
    "duplicados1"
   ]
  },
  {
   "cell_type": "markdown",
   "metadata": {},
   "source": [
    "Una vez terminada la verificación de los datos duplicados en el dataframe “checkin” se encontraron la cantidad de 0 de datos duplicados con lo cual concluimos que se tiene una  buena calidad de datos."
   ]
  },
  {
   "cell_type": "markdown",
   "metadata": {},
   "source": [
    "*Duplicados del dataframe \"reviews_yelp\"*"
   ]
  },
  {
   "cell_type": "code",
   "execution_count": 43,
   "metadata": {},
   "outputs": [
    {
     "data": {
      "text/html": [
       "<div>\n",
       "<style scoped>\n",
       "    .dataframe tbody tr th:only-of-type {\n",
       "        vertical-align: middle;\n",
       "    }\n",
       "\n",
       "    .dataframe tbody tr th {\n",
       "        vertical-align: top;\n",
       "    }\n",
       "\n",
       "    .dataframe thead th {\n",
       "        text-align: right;\n",
       "    }\n",
       "</style>\n",
       "<table border=\"1\" class=\"dataframe\">\n",
       "  <thead>\n",
       "    <tr style=\"text-align: right;\">\n",
       "      <th></th>\n",
       "      <th>user_id</th>\n",
       "      <th>stars_Dataset_Review</th>\n",
       "      <th>text</th>\n",
       "      <th>id_review</th>\n",
       "      <th>id_user</th>\n",
       "      <th>id_business</th>\n",
       "      <th>anho</th>\n",
       "      <th>mes</th>\n",
       "      <th>dia</th>\n",
       "      <th>hora</th>\n",
       "      <th>name</th>\n",
       "      <th>city</th>\n",
       "      <th>state</th>\n",
       "      <th>stars_Dataset_Business</th>\n",
       "      <th>review_count</th>\n",
       "      <th>yelp_id</th>\n",
       "    </tr>\n",
       "  </thead>\n",
       "  <tbody>\n",
       "    <tr>\n",
       "      <th>0</th>\n",
       "      <td>mh_-eMZ6K5RLWhZyISBhwA</td>\n",
       "      <td>3.0</td>\n",
       "      <td>If you decide to eat here, just be aware it is going to take about 2 hours from beginning to end. We have tried it multiple times, because I want to like it! I have been to it's other locations in NJ and never had a bad experience. \\n\\nThe food is good, but it takes a very long time to come out. The waitstaff is very young, but usually pleasant. We have just had too many experiences where we spent way too long waiting. We usually opt for another diner or restaurant on the weekends, in order to be done quicker.</td>\n",
       "      <td>0</td>\n",
       "      <td>124234</td>\n",
       "      <td>1867</td>\n",
       "      <td>2018</td>\n",
       "      <td>07</td>\n",
       "      <td>07</td>\n",
       "      <td>22:09:11</td>\n",
       "      <td>Turning Point of North Wales</td>\n",
       "      <td>North Wales</td>\n",
       "      <td>Pennsylvania</td>\n",
       "      <td>3.0</td>\n",
       "      <td>169</td>\n",
       "      <td>mh_-eMZ6K5RLWhZyISBhwA</td>\n",
       "    </tr>\n",
       "    <tr>\n",
       "      <th>6</th>\n",
       "      <td>59MxRhNVhU9MYndMkz0wtw</td>\n",
       "      <td>3.0</td>\n",
       "      <td>Had a party of 6 here for hibachi. Our waitress brought our separate sushi orders on one plate so we couldn't really tell who's was who's and forgot several items on an order. I understand making mistakes but the restaraunt was really quiet so we were kind of surprised. Usually hibachi is a fun lively experience and our  cook  said maybe three words, but he cooked very well his name was Francisco. Service was fishy, food was pretty good, and im hoping it was just an off night here. But for the money I wouldn't go back.</td>\n",
       "      <td>9</td>\n",
       "      <td>114367</td>\n",
       "      <td>14917</td>\n",
       "      <td>2016</td>\n",
       "      <td>07</td>\n",
       "      <td>25</td>\n",
       "      <td>07:31:06</td>\n",
       "      <td>Hibachi Steak House &amp; Sushi Bar</td>\n",
       "      <td>Santa Barbara</td>\n",
       "      <td>California</td>\n",
       "      <td>3.5</td>\n",
       "      <td>488</td>\n",
       "      <td>59MxRhNVhU9MYndMkz0wtw</td>\n",
       "    </tr>\n",
       "    <tr>\n",
       "      <th>8</th>\n",
       "      <td>smOvOajNG0lS4Pq7d8g4JQ</td>\n",
       "      <td>4.0</td>\n",
       "      <td>Good food--loved the gnocchi with marinara\\nthe baked eggplant appetizer was very good too\\n\\nThe service was very slow, but despite this, I'd go back, the food is just that good</td>\n",
       "      <td>13</td>\n",
       "      <td>24713</td>\n",
       "      <td>8374</td>\n",
       "      <td>2009</td>\n",
       "      <td>10</td>\n",
       "      <td>14</td>\n",
       "      <td>19:57:14</td>\n",
       "      <td>LaScala's</td>\n",
       "      <td>Philadelphia</td>\n",
       "      <td>Pennsylvania</td>\n",
       "      <td>3.5</td>\n",
       "      <td>367</td>\n",
       "      <td>smOvOajNG0lS4Pq7d8g4JQ</td>\n",
       "    </tr>\n",
       "    <tr>\n",
       "      <th>12</th>\n",
       "      <td>IQsF3Rc6IgCzjVV9DE8KXg</td>\n",
       "      <td>5.0</td>\n",
       "      <td>My absolute favorite cafe in the city. Their black and white latte is probably the best I've ever had (not too sweet and just the right amount of foam), soups are always really good (even for non-soup people) and there's just a lot of space to do work. The noise level is perfect, the music is at a perfect level, and I always enjoy when patrons bring their dogs. I'll keep giving them my business for as long as I can.</td>\n",
       "      <td>19</td>\n",
       "      <td>25591</td>\n",
       "      <td>5086</td>\n",
       "      <td>2014</td>\n",
       "      <td>11</td>\n",
       "      <td>12</td>\n",
       "      <td>15:30:27</td>\n",
       "      <td>Good Karma Cafe</td>\n",
       "      <td>Philadelphia</td>\n",
       "      <td>Pennsylvania</td>\n",
       "      <td>4.0</td>\n",
       "      <td>249</td>\n",
       "      <td>IQsF3Rc6IgCzjVV9DE8KXg</td>\n",
       "    </tr>\n",
       "    <tr>\n",
       "      <th>14</th>\n",
       "      <td>OhECKhQEexFypOMY6kypRw</td>\n",
       "      <td>4.0</td>\n",
       "      <td>Yes, this is the only sushi place in town. However, it is great when you're craving sushi and don't have time to go somewhere else. The salmon is probably the best fish they have, so we always order salmon. We also love their spicy edamame, tempura, ocean salad, and cabbage salad. Service has always been friendly and quick!</td>\n",
       "      <td>23</td>\n",
       "      <td>126430</td>\n",
       "      <td>5247</td>\n",
       "      <td>2013</td>\n",
       "      <td>09</td>\n",
       "      <td>04</td>\n",
       "      <td>03:48:20</td>\n",
       "      <td>Sushi Teri</td>\n",
       "      <td>Carpinteria</td>\n",
       "      <td>California</td>\n",
       "      <td>3.0</td>\n",
       "      <td>167</td>\n",
       "      <td>OhECKhQEexFypOMY6kypRw</td>\n",
       "    </tr>\n",
       "    <tr>\n",
       "      <th>...</th>\n",
       "      <td>...</td>\n",
       "      <td>...</td>\n",
       "      <td>...</td>\n",
       "      <td>...</td>\n",
       "      <td>...</td>\n",
       "      <td>...</td>\n",
       "      <td>...</td>\n",
       "      <td>...</td>\n",
       "      <td>...</td>\n",
       "      <td>...</td>\n",
       "      <td>...</td>\n",
       "      <td>...</td>\n",
       "      <td>...</td>\n",
       "      <td>...</td>\n",
       "      <td>...</td>\n",
       "      <td>...</td>\n",
       "    </tr>\n",
       "    <tr>\n",
       "      <th>3775904</th>\n",
       "      <td>gkg9VqsxPCgpfYXO1dl8CA</td>\n",
       "      <td>4.0</td>\n",
       "      <td>I decided to try this place out after Christmas to beat the crowd. It's definitely the perfect pop-up bar for the holidays, despite its small size. Not only does it have cute photo opportunities but there are holiday-themed cocktails and so many beautiful Christmas decorations. When we went there was a 5$ cover charge which we were not expecting since the \"Nightmare Before Tinsel\" pop-up did not have any cover. If you are looking for a Christmas spirited bar then the 5$ is worth it. The drinks, on the other hand, are overpriced and you're better off taking your pictures and just ordering a drink not on the cocktail menu.</td>\n",
       "      <td>6990235</td>\n",
       "      <td>295006</td>\n",
       "      <td>147605</td>\n",
       "      <td>2020</td>\n",
       "      <td>01</td>\n",
       "      <td>13</td>\n",
       "      <td>04:21:38</td>\n",
       "      <td>Tinsel</td>\n",
       "      <td>Philadelphia</td>\n",
       "      <td>Pennsylvania</td>\n",
       "      <td>3.0</td>\n",
       "      <td>79</td>\n",
       "      <td>gkg9VqsxPCgpfYXO1dl8CA</td>\n",
       "    </tr>\n",
       "    <tr>\n",
       "      <th>3775906</th>\n",
       "      <td>bJ5FtCtZX3ZZacz2_2PJjA</td>\n",
       "      <td>4.0</td>\n",
       "      <td>South Street Diner isn't the best of Philly Diners. but It's always the house of some good memories. Back when I used to be big on Industrial music my friends and I would come here for a 2 AM breakfast fix after a night at the club. all the locals would give us confused looks that were monumental. \\nI've had family live on South Street for many years now. so going here has been a must 24/7. not for the food, not for the service (which is actually pretty damn good on most nights). but simply for the tradition of catching up with old friends and reliving some good moments over coffee and a warm plate of eggs. and when it comes to doing so this place is the best.</td>\n",
       "      <td>6990239</td>\n",
       "      <td>198836</td>\n",
       "      <td>148647</td>\n",
       "      <td>2007</td>\n",
       "      <td>07</td>\n",
       "      <td>27</td>\n",
       "      <td>20:12:11</td>\n",
       "      <td>South Street Diner</td>\n",
       "      <td>Philadelphia</td>\n",
       "      <td>Pennsylvania</td>\n",
       "      <td>3.0</td>\n",
       "      <td>224</td>\n",
       "      <td>bJ5FtCtZX3ZZacz2_2PJjA</td>\n",
       "    </tr>\n",
       "    <tr>\n",
       "      <th>3775907</th>\n",
       "      <td>bJ5FtCtZX3ZZacz2_2PJjA</td>\n",
       "      <td>4.0</td>\n",
       "      <td>When I first heard that the Peace A Pizza (https://www.yelp.com/biz/peace-a-pizza-ardmore-2) were embracing the fast casual movement and making custom pies possible faster than ever before, I loved the idea. Especially when I found out that they were opening a Philly location in the spot that used to house my beloved burger joint 500 Degrees (https://www.yelp.com/biz/500-degrees-philadelphia-3). And after a couple of visits I can say that I'm happy with the end result overall.\\n\\nUltimately I give 4 stars because there's another nearby fast casual pizza joint that delivers pies slightly better (&amp;Pizza review coming later). I also find the huge wooden serving blocks that they give you when you order in to be kind of awkward to handle, especially when you come in during a lunch or dinner rush. But when it comes down to it I'm impressed with the number of specialty pies, grain bowls, and salads that they're able to dish out, and liked the selection of New Hope fountain sodas that you ...</td>\n",
       "      <td>6990240</td>\n",
       "      <td>198836</td>\n",
       "      <td>143172</td>\n",
       "      <td>2017</td>\n",
       "      <td>02</td>\n",
       "      <td>23</td>\n",
       "      <td>19:11:04</td>\n",
       "      <td>Snap Custom Pizza - Center City</td>\n",
       "      <td>Philadelphia</td>\n",
       "      <td>Pennsylvania</td>\n",
       "      <td>4.0</td>\n",
       "      <td>271</td>\n",
       "      <td>bJ5FtCtZX3ZZacz2_2PJjA</td>\n",
       "    </tr>\n",
       "    <tr>\n",
       "      <th>3775920</th>\n",
       "      <td>am7-gkH_PDz598oTdYSD6A</td>\n",
       "      <td>3.0</td>\n",
       "      <td>*Later Yelp* I've only been here once, but I love this place mainly for the atmosphere. It just has a cool, swanky vibe. The food is pretty good too. I had the lamb chops, uzuu lemon cheesecake for dessert and a lychee martini, I believe. All were pretty good...although the lamb may have been a bit too salty. I remember the service being satisfactory as well.</td>\n",
       "      <td>6990260</td>\n",
       "      <td>24243</td>\n",
       "      <td>141961</td>\n",
       "      <td>2014</td>\n",
       "      <td>11</td>\n",
       "      <td>03</td>\n",
       "      <td>14:45:46</td>\n",
       "      <td>Pod</td>\n",
       "      <td>Philadelphia</td>\n",
       "      <td>Pennsylvania</td>\n",
       "      <td>3.5</td>\n",
       "      <td>797</td>\n",
       "      <td>am7-gkH_PDz598oTdYSD6A</td>\n",
       "    </tr>\n",
       "    <tr>\n",
       "      <th>3775924</th>\n",
       "      <td>cTozFTTWjlFYc3yusdbZmA</td>\n",
       "      <td>1.0</td>\n",
       "      <td>Just average Thai food tonight. Bangkok has always been my go to for Thai food but not anymore. We ordered the eggplant, the basil, and the combination noodles. All 3 dishes had the same watery sauce, red and green bell pepper and onion; tiny pieces of eggplant, almost zero basil, or noodle to make each dish different from the other. The stuffed chicken wing appetizer was not a favorite either. The sizzling platter was disappointing too with not enough spinach.  It was so good in the past. Unfortunately short cuts and are being made. Plus they overcharged us by charging for 2 sizzling platters when we ordered 1. When this was supposedly corrected the total bill came out to be $10 less. How does this make sense??? Did I still pay tax for 2nd sizzling platter? And shouldn't half of $27 be less $13.50 not $10? I don't think I'll be returning any time soon.</td>\n",
       "      <td>6990266</td>\n",
       "      <td>823973</td>\n",
       "      <td>148461</td>\n",
       "      <td>2022</td>\n",
       "      <td>01</td>\n",
       "      <td>18</td>\n",
       "      <td>06:42:59</td>\n",
       "      <td>Bangkok Cuisine</td>\n",
       "      <td>Reno</td>\n",
       "      <td>Nevada</td>\n",
       "      <td>4.0</td>\n",
       "      <td>539</td>\n",
       "      <td>cTozFTTWjlFYc3yusdbZmA</td>\n",
       "    </tr>\n",
       "  </tbody>\n",
       "</table>\n",
       "<p>820244 rows × 16 columns</p>\n",
       "</div>"
      ],
      "text/plain": [
       "                        user_id  stars_Dataset_Review  \\\n",
       "0        mh_-eMZ6K5RLWhZyISBhwA                   3.0   \n",
       "6        59MxRhNVhU9MYndMkz0wtw                   3.0   \n",
       "8        smOvOajNG0lS4Pq7d8g4JQ                   4.0   \n",
       "12       IQsF3Rc6IgCzjVV9DE8KXg                   5.0   \n",
       "14       OhECKhQEexFypOMY6kypRw                   4.0   \n",
       "...                         ...                   ...   \n",
       "3775904  gkg9VqsxPCgpfYXO1dl8CA                   4.0   \n",
       "3775906  bJ5FtCtZX3ZZacz2_2PJjA                   4.0   \n",
       "3775907  bJ5FtCtZX3ZZacz2_2PJjA                   4.0   \n",
       "3775920  am7-gkH_PDz598oTdYSD6A                   3.0   \n",
       "3775924  cTozFTTWjlFYc3yusdbZmA                   1.0   \n",
       "\n",
       "                                                                                                                                                                                                                                                                                                                                                                                                                                                                                                                                                                                                                                                                                                                                                                                                                                                                                                                                                                                                                                            text  \\\n",
       "0                                                                                                                                                                                                                                                                                                                                                                                                                                                                                                            If you decide to eat here, just be aware it is going to take about 2 hours from beginning to end. We have tried it multiple times, because I want to like it! I have been to it's other locations in NJ and never had a bad experience. \\n\\nThe food is good, but it takes a very long time to come out. The waitstaff is very young, but usually pleasant. We have just had too many experiences where we spent way too long waiting. We usually opt for another diner or restaurant on the weekends, in order to be done quicker.   \n",
       "6                                                                                                                                                                                                                                                                                                                                                                                                                                                                                                   Had a party of 6 here for hibachi. Our waitress brought our separate sushi orders on one plate so we couldn't really tell who's was who's and forgot several items on an order. I understand making mistakes but the restaraunt was really quiet so we were kind of surprised. Usually hibachi is a fun lively experience and our  cook  said maybe three words, but he cooked very well his name was Francisco. Service was fishy, food was pretty good, and im hoping it was just an off night here. But for the money I wouldn't go back.   \n",
       "8                                                                                                                                                                                                                                                                                                                                                                                                                                                                                                                                                                                                                                                                                                                                                                                                                                                             Good food--loved the gnocchi with marinara\\nthe baked eggplant appetizer was very good too\\n\\nThe service was very slow, but despite this, I'd go back, the food is just that good   \n",
       "12                                                                                                                                                                                                                                                                                                                                                                                                                                                                                                                                                                                                           My absolute favorite cafe in the city. Their black and white latte is probably the best I've ever had (not too sweet and just the right amount of foam), soups are always really good (even for non-soup people) and there's just a lot of space to do work. The noise level is perfect, the music is at a perfect level, and I always enjoy when patrons bring their dogs. I'll keep giving them my business for as long as I can.   \n",
       "14                                                                                                                                                                                                                                                                                                                                                                                                                                                                                                                                                                                                                                                                                                         Yes, this is the only sushi place in town. However, it is great when you're craving sushi and don't have time to go somewhere else. The salmon is probably the best fish they have, so we always order salmon. We also love their spicy edamame, tempura, ocean salad, and cabbage salad. Service has always been friendly and quick!   \n",
       "...                                                                                                                                                                                                                                                                                                                                                                                                                                                                                                                                                                                                                                                                                                                                                                                                                                                                                                                                                                                                                                          ...   \n",
       "3775904                                                                                                                                                                                                                                                                                                                                                                                     I decided to try this place out after Christmas to beat the crowd. It's definitely the perfect pop-up bar for the holidays, despite its small size. Not only does it have cute photo opportunities but there are holiday-themed cocktails and so many beautiful Christmas decorations. When we went there was a 5$ cover charge which we were not expecting since the \"Nightmare Before Tinsel\" pop-up did not have any cover. If you are looking for a Christmas spirited bar then the 5$ is worth it. The drinks, on the other hand, are overpriced and you're better off taking your pictures and just ordering a drink not on the cocktail menu.   \n",
       "3775906                                                                                                                                                                                                                                                                                                                                             South Street Diner isn't the best of Philly Diners. but It's always the house of some good memories. Back when I used to be big on Industrial music my friends and I would come here for a 2 AM breakfast fix after a night at the club. all the locals would give us confused looks that were monumental. \\nI've had family live on South Street for many years now. so going here has been a must 24/7. not for the food, not for the service (which is actually pretty damn good on most nights). but simply for the tradition of catching up with old friends and reliving some good moments over coffee and a warm plate of eggs. and when it comes to doing so this place is the best.   \n",
       "3775907  When I first heard that the Peace A Pizza (https://www.yelp.com/biz/peace-a-pizza-ardmore-2) were embracing the fast casual movement and making custom pies possible faster than ever before, I loved the idea. Especially when I found out that they were opening a Philly location in the spot that used to house my beloved burger joint 500 Degrees (https://www.yelp.com/biz/500-degrees-philadelphia-3). And after a couple of visits I can say that I'm happy with the end result overall.\\n\\nUltimately I give 4 stars because there's another nearby fast casual pizza joint that delivers pies slightly better (&Pizza review coming later). I also find the huge wooden serving blocks that they give you when you order in to be kind of awkward to handle, especially when you come in during a lunch or dinner rush. But when it comes down to it I'm impressed with the number of specialty pies, grain bowls, and salads that they're able to dish out, and liked the selection of New Hope fountain sodas that you ...   \n",
       "3775920                                                                                                                                                                                                                                                                                                                                                                                                                                                                                                                                                                                                                                                                *Later Yelp* I've only been here once, but I love this place mainly for the atmosphere. It just has a cool, swanky vibe. The food is pretty good too. I had the lamb chops, uzuu lemon cheesecake for dessert and a lychee martini, I believe. All were pretty good...although the lamb may have been a bit too salty. I remember the service being satisfactory as well.   \n",
       "3775924                                                                                                                                        Just average Thai food tonight. Bangkok has always been my go to for Thai food but not anymore. We ordered the eggplant, the basil, and the combination noodles. All 3 dishes had the same watery sauce, red and green bell pepper and onion; tiny pieces of eggplant, almost zero basil, or noodle to make each dish different from the other. The stuffed chicken wing appetizer was not a favorite either. The sizzling platter was disappointing too with not enough spinach.  It was so good in the past. Unfortunately short cuts and are being made. Plus they overcharged us by charging for 2 sizzling platters when we ordered 1. When this was supposedly corrected the total bill came out to be $10 less. How does this make sense??? Did I still pay tax for 2nd sizzling platter? And shouldn't half of $27 be less $13.50 not $10? I don't think I'll be returning any time soon.   \n",
       "\n",
       "         id_review  id_user  id_business  anho mes dia      hora  \\\n",
       "0                0   124234         1867  2018  07  07  22:09:11   \n",
       "6                9   114367        14917  2016  07  25  07:31:06   \n",
       "8               13    24713         8374  2009  10  14  19:57:14   \n",
       "12              19    25591         5086  2014  11  12  15:30:27   \n",
       "14              23   126430         5247  2013  09  04  03:48:20   \n",
       "...            ...      ...          ...   ...  ..  ..       ...   \n",
       "3775904    6990235   295006       147605  2020  01  13  04:21:38   \n",
       "3775906    6990239   198836       148647  2007  07  27  20:12:11   \n",
       "3775907    6990240   198836       143172  2017  02  23  19:11:04   \n",
       "3775920    6990260    24243       141961  2014  11  03  14:45:46   \n",
       "3775924    6990266   823973       148461  2022  01  18  06:42:59   \n",
       "\n",
       "                                    name           city         state  \\\n",
       "0           Turning Point of North Wales    North Wales  Pennsylvania   \n",
       "6        Hibachi Steak House & Sushi Bar  Santa Barbara    California   \n",
       "8                              LaScala's   Philadelphia  Pennsylvania   \n",
       "12                       Good Karma Cafe   Philadelphia  Pennsylvania   \n",
       "14                            Sushi Teri    Carpinteria    California   \n",
       "...                                  ...            ...           ...   \n",
       "3775904                           Tinsel   Philadelphia  Pennsylvania   \n",
       "3775906               South Street Diner   Philadelphia  Pennsylvania   \n",
       "3775907  Snap Custom Pizza - Center City   Philadelphia  Pennsylvania   \n",
       "3775920                              Pod   Philadelphia  Pennsylvania   \n",
       "3775924                  Bangkok Cuisine           Reno        Nevada   \n",
       "\n",
       "         stars_Dataset_Business  review_count                 yelp_id  \n",
       "0                           3.0           169  mh_-eMZ6K5RLWhZyISBhwA  \n",
       "6                           3.5           488  59MxRhNVhU9MYndMkz0wtw  \n",
       "8                           3.5           367  smOvOajNG0lS4Pq7d8g4JQ  \n",
       "12                          4.0           249  IQsF3Rc6IgCzjVV9DE8KXg  \n",
       "14                          3.0           167  OhECKhQEexFypOMY6kypRw  \n",
       "...                         ...           ...                     ...  \n",
       "3775904                     3.0            79  gkg9VqsxPCgpfYXO1dl8CA  \n",
       "3775906                     3.0           224  bJ5FtCtZX3ZZacz2_2PJjA  \n",
       "3775907                     4.0           271  bJ5FtCtZX3ZZacz2_2PJjA  \n",
       "3775920                     3.5           797  am7-gkH_PDz598oTdYSD6A  \n",
       "3775924                     4.0           539  cTozFTTWjlFYc3yusdbZmA  \n",
       "\n",
       "[820244 rows x 16 columns]"
      ]
     },
     "execution_count": 43,
     "metadata": {},
     "output_type": "execute_result"
    }
   ],
   "source": [
    "reviews_yelp"
   ]
  },
  {
   "cell_type": "code",
   "execution_count": 44,
   "metadata": {},
   "outputs": [
    {
     "data": {
      "text/html": [
       "<div>\n",
       "<style scoped>\n",
       "    .dataframe tbody tr th:only-of-type {\n",
       "        vertical-align: middle;\n",
       "    }\n",
       "\n",
       "    .dataframe tbody tr th {\n",
       "        vertical-align: top;\n",
       "    }\n",
       "\n",
       "    .dataframe thead th {\n",
       "        text-align: right;\n",
       "    }\n",
       "</style>\n",
       "<table border=\"1\" class=\"dataframe\">\n",
       "  <thead>\n",
       "    <tr style=\"text-align: right;\">\n",
       "      <th></th>\n",
       "      <th>user_id</th>\n",
       "      <th>stars_Dataset_Review</th>\n",
       "      <th>text</th>\n",
       "      <th>id_review</th>\n",
       "      <th>id_user</th>\n",
       "      <th>id_business</th>\n",
       "      <th>anho</th>\n",
       "      <th>mes</th>\n",
       "      <th>dia</th>\n",
       "      <th>hora</th>\n",
       "      <th>name</th>\n",
       "      <th>city</th>\n",
       "      <th>state</th>\n",
       "      <th>stars_Dataset_Business</th>\n",
       "      <th>review_count</th>\n",
       "      <th>yelp_id</th>\n",
       "    </tr>\n",
       "  </thead>\n",
       "  <tbody>\n",
       "    <tr>\n",
       "      <th>3875</th>\n",
       "      <td>QUdKrOA3Iv1laFNRgq8W-g</td>\n",
       "      <td>2.0</td>\n",
       "      <td>I went here with a friend who had a Groupon.  The sushi was horrible, full of filler breadcrums and very skimpy on fish.  They took a lot of time and care to decorate the plate with fresh orchids and I wish that they would have invested this extra money into giving us more fish in our rolls.</td>\n",
       "      <td>7115</td>\n",
       "      <td>43092</td>\n",
       "      <td>12856</td>\n",
       "      <td>2013</td>\n",
       "      <td>12</td>\n",
       "      <td>08</td>\n",
       "      <td>18:03:09</td>\n",
       "      <td>Crazy Sushi</td>\n",
       "      <td>Philadelphia</td>\n",
       "      <td>Pennsylvania</td>\n",
       "      <td>4.0</td>\n",
       "      <td>550</td>\n",
       "      <td>QUdKrOA3Iv1laFNRgq8W-g</td>\n",
       "    </tr>\n",
       "    <tr>\n",
       "      <th>6371</th>\n",
       "      <td>xwUWFYaT8SGbKQuMCqD8fg</td>\n",
       "      <td>5.0</td>\n",
       "      <td>A friend and I were visiting PA for the first time this Memorial Day weekend.  We were in pursuit of a good place to eat.  We passed Han Dynasty and like the ambience. We decided to give it a try. We sat at the bar area. The two gentlemen working the bar were extremely helpful and welcoming. They explained the menu to us. Everything is cooked fresh.  We love spicy food. The hotter the better; the food was so amazingly flavorful I would drive back from Washington, DC just to eat here again. I had the Cumin Pork spiced to level 10 my friend had chicken fried rice. We like very hot food most places even in DC cannot get the balance of heat and flavor right even when dishes are request extra spicy. Han Dynasty did!! The customer service and the food are worth giving this place a try if you like spicy food.  It would be a great business move for them if they opened one in the District of Columbia. Well done guys!!</td>\n",
       "      <td>11759</td>\n",
       "      <td>164225</td>\n",
       "      <td>1937</td>\n",
       "      <td>2014</td>\n",
       "      <td>05</td>\n",
       "      <td>27</td>\n",
       "      <td>17:52:40</td>\n",
       "      <td>Han Dynasty</td>\n",
       "      <td>Philadelphia</td>\n",
       "      <td>Pennsylvania</td>\n",
       "      <td>4.0</td>\n",
       "      <td>783</td>\n",
       "      <td>xwUWFYaT8SGbKQuMCqD8fg</td>\n",
       "    </tr>\n",
       "  </tbody>\n",
       "</table>\n",
       "</div>"
      ],
      "text/plain": [
       "                     user_id  stars_Dataset_Review  \\\n",
       "3875  QUdKrOA3Iv1laFNRgq8W-g                   2.0   \n",
       "6371  xwUWFYaT8SGbKQuMCqD8fg                   5.0   \n",
       "\n",
       "                                                                                                                                                                                                                                                                                                                                                                                                                                                                                                                                                                                                                                                                                                                                                                                                                                                                                                                                                            text  \\\n",
       "3875                                                                                                                                                                                                                                                                                                                                                                                                                                                                                                                                                                                                                                                        I went here with a friend who had a Groupon.  The sushi was horrible, full of filler breadcrums and very skimpy on fish.  They took a lot of time and care to decorate the plate with fresh orchids and I wish that they would have invested this extra money into giving us more fish in our rolls.   \n",
       "6371  A friend and I were visiting PA for the first time this Memorial Day weekend.  We were in pursuit of a good place to eat.  We passed Han Dynasty and like the ambience. We decided to give it a try. We sat at the bar area. The two gentlemen working the bar were extremely helpful and welcoming. They explained the menu to us. Everything is cooked fresh.  We love spicy food. The hotter the better; the food was so amazingly flavorful I would drive back from Washington, DC just to eat here again. I had the Cumin Pork spiced to level 10 my friend had chicken fried rice. We like very hot food most places even in DC cannot get the balance of heat and flavor right even when dishes are request extra spicy. Han Dynasty did!! The customer service and the food are worth giving this place a try if you like spicy food.  It would be a great business move for them if they opened one in the District of Columbia. Well done guys!!   \n",
       "\n",
       "      id_review  id_user  id_business  anho mes dia      hora         name  \\\n",
       "3875       7115    43092        12856  2013  12  08  18:03:09  Crazy Sushi   \n",
       "6371      11759   164225         1937  2014  05  27  17:52:40  Han Dynasty   \n",
       "\n",
       "              city         state  stars_Dataset_Business  review_count  \\\n",
       "3875  Philadelphia  Pennsylvania                     4.0           550   \n",
       "6371  Philadelphia  Pennsylvania                     4.0           783   \n",
       "\n",
       "                     yelp_id  \n",
       "3875  QUdKrOA3Iv1laFNRgq8W-g  \n",
       "6371  xwUWFYaT8SGbKQuMCqD8fg  "
      ]
     },
     "execution_count": 44,
     "metadata": {},
     "output_type": "execute_result"
    }
   ],
   "source": [
    "duplicados = reviews_yelp[reviews_yelp.duplicated(subset=['user_id','anho', 'mes', 'dia', 'hora'], keep=False)]\n",
    "duplicados.head(2)"
   ]
  },
  {
   "cell_type": "markdown",
   "metadata": {},
   "source": [
    "Después de la verificación de los datos duplicados en el dataframe “reviews_yelp” se encontró la cantidad de 3,448 de datos duplicados equivalente a un 0.09% de un total 3'775,931 . Con lo cual se tiene una calidad aceptable de datos."
   ]
  },
  {
   "cell_type": "markdown",
   "metadata": {},
   "source": [
    "*Datos duplicados del dataframe \"tip\"*"
   ]
  },
  {
   "cell_type": "code",
   "execution_count": 45,
   "metadata": {},
   "outputs": [
    {
     "data": {
      "text/html": [
       "<div>\n",
       "<style scoped>\n",
       "    .dataframe tbody tr th:only-of-type {\n",
       "        vertical-align: middle;\n",
       "    }\n",
       "\n",
       "    .dataframe tbody tr th {\n",
       "        vertical-align: top;\n",
       "    }\n",
       "\n",
       "    .dataframe thead th {\n",
       "        text-align: right;\n",
       "    }\n",
       "</style>\n",
       "<table border=\"1\" class=\"dataframe\">\n",
       "  <thead>\n",
       "    <tr style=\"text-align: right;\">\n",
       "      <th></th>\n",
       "      <th>id_user</th>\n",
       "      <th>id_business</th>\n",
       "      <th>text</th>\n",
       "      <th>date</th>\n",
       "      <th>compliment_count</th>\n",
       "    </tr>\n",
       "  </thead>\n",
       "  <tbody>\n",
       "  </tbody>\n",
       "</table>\n",
       "</div>"
      ],
      "text/plain": [
       "Empty DataFrame\n",
       "Columns: [id_user, id_business, text, date, compliment_count]\n",
       "Index: []"
      ]
     },
     "execution_count": 45,
     "metadata": {},
     "output_type": "execute_result"
    }
   ],
   "source": [
    "duplicados = tip[tip.duplicated(subset=['id_user','id_business','date', 'text'], keep=False)]\n",
    "duplicados"
   ]
  },
  {
   "cell_type": "code",
   "execution_count": 46,
   "metadata": {},
   "outputs": [
    {
     "data": {
      "text/html": [
       "<div>\n",
       "<style scoped>\n",
       "    .dataframe tbody tr th:only-of-type {\n",
       "        vertical-align: middle;\n",
       "    }\n",
       "\n",
       "    .dataframe tbody tr th {\n",
       "        vertical-align: top;\n",
       "    }\n",
       "\n",
       "    .dataframe thead th {\n",
       "        text-align: right;\n",
       "    }\n",
       "</style>\n",
       "<table border=\"1\" class=\"dataframe\">\n",
       "  <thead>\n",
       "    <tr style=\"text-align: right;\">\n",
       "      <th></th>\n",
       "      <th>id_user</th>\n",
       "      <th>id_business</th>\n",
       "      <th>text</th>\n",
       "      <th>date</th>\n",
       "      <th>compliment_count</th>\n",
       "    </tr>\n",
       "  </thead>\n",
       "  <tbody>\n",
       "  </tbody>\n",
       "</table>\n",
       "</div>"
      ],
      "text/plain": [
       "Empty DataFrame\n",
       "Columns: [id_user, id_business, text, date, compliment_count]\n",
       "Index: []"
      ]
     },
     "execution_count": 46,
     "metadata": {},
     "output_type": "execute_result"
    }
   ],
   "source": [
    "tip[(tip['id_user']==7914) & (tip['id_business']==200076) & (tip['text']=='LM') & (tip['date']=='2011-11-22 12:48:02')]"
   ]
  },
  {
   "cell_type": "markdown",
   "metadata": {},
   "source": [
    "Una vez terminada la verificación de los datos duplicados en el dataframe \"tip\" se encontraron la cantidad de 0 de datos duplicados con lo cual concluimos que se tiene una  buena calidad de datos."
   ]
  },
  {
   "cell_type": "markdown",
   "metadata": {},
   "source": [
    "*Datos duplicados del dataframe \"user_yelp\"*"
   ]
  },
  {
   "cell_type": "code",
   "execution_count": 47,
   "metadata": {},
   "outputs": [
    {
     "data": {
      "text/html": [
       "<div>\n",
       "<style scoped>\n",
       "    .dataframe tbody tr th:only-of-type {\n",
       "        vertical-align: middle;\n",
       "    }\n",
       "\n",
       "    .dataframe tbody tr th {\n",
       "        vertical-align: top;\n",
       "    }\n",
       "\n",
       "    .dataframe thead th {\n",
       "        text-align: right;\n",
       "    }\n",
       "</style>\n",
       "<table border=\"1\" class=\"dataframe\">\n",
       "  <thead>\n",
       "    <tr style=\"text-align: right;\">\n",
       "      <th></th>\n",
       "      <th>id_user</th>\n",
       "      <th>years</th>\n",
       "    </tr>\n",
       "  </thead>\n",
       "  <tbody>\n",
       "    <tr>\n",
       "      <th>1</th>\n",
       "      <td>1</td>\n",
       "      <td>2020</td>\n",
       "    </tr>\n",
       "    <tr>\n",
       "      <th>1</th>\n",
       "      <td>1</td>\n",
       "      <td>2020</td>\n",
       "    </tr>\n",
       "    <tr>\n",
       "      <th>18</th>\n",
       "      <td>18</td>\n",
       "      <td>2020</td>\n",
       "    </tr>\n",
       "    <tr>\n",
       "      <th>18</th>\n",
       "      <td>18</td>\n",
       "      <td>2020</td>\n",
       "    </tr>\n",
       "    <tr>\n",
       "      <th>29</th>\n",
       "      <td>29</td>\n",
       "      <td>2020</td>\n",
       "    </tr>\n",
       "    <tr>\n",
       "      <th>...</th>\n",
       "      <td>...</td>\n",
       "      <td>...</td>\n",
       "    </tr>\n",
       "    <tr>\n",
       "      <th>1966851</th>\n",
       "      <td>1966851</td>\n",
       "      <td>2020</td>\n",
       "    </tr>\n",
       "    <tr>\n",
       "      <th>1971939</th>\n",
       "      <td>1971939</td>\n",
       "      <td>2020</td>\n",
       "    </tr>\n",
       "    <tr>\n",
       "      <th>1971939</th>\n",
       "      <td>1971939</td>\n",
       "      <td>2020</td>\n",
       "    </tr>\n",
       "    <tr>\n",
       "      <th>1976641</th>\n",
       "      <td>1976641</td>\n",
       "      <td>2020</td>\n",
       "    </tr>\n",
       "    <tr>\n",
       "      <th>1976641</th>\n",
       "      <td>1976641</td>\n",
       "      <td>2020</td>\n",
       "    </tr>\n",
       "  </tbody>\n",
       "</table>\n",
       "<p>79858 rows × 2 columns</p>\n",
       "</div>"
      ],
      "text/plain": [
       "         id_user  years\n",
       "1              1   2020\n",
       "1              1   2020\n",
       "18            18   2020\n",
       "18            18   2020\n",
       "29            29   2020\n",
       "...          ...    ...\n",
       "1966851  1966851   2020\n",
       "1971939  1971939   2020\n",
       "1971939  1971939   2020\n",
       "1976641  1976641   2020\n",
       "1976641  1976641   2020\n",
       "\n",
       "[79858 rows x 2 columns]"
      ]
     },
     "execution_count": 47,
     "metadata": {},
     "output_type": "execute_result"
    }
   ],
   "source": [
    "user_yelp[user_yelp.duplicated(subset=['id_user', 'years'], keep=False)]"
   ]
  },
  {
   "cell_type": "markdown",
   "metadata": {},
   "source": [
    "Una vez terminada la verificación de los datos duplicados en el dataframe “user_yelp” se encontraron la cantidad de 79,858 de datos duplicados equivalente a un 3.506% de un total 2,277,195. Con lo cual concluimos que el 98.245% de los datos NO son duplicados, teniendo una calidad buena de datos."
   ]
  },
  {
   "cell_type": "markdown",
   "metadata": {},
   "source": [
    "**Verificación de datos faltantes de YELP**"
   ]
  },
  {
   "cell_type": "markdown",
   "metadata": {},
   "source": [
    "*Datos faltantes dataframe \"business\"*"
   ]
  },
  {
   "cell_type": "code",
   "execution_count": 48,
   "metadata": {},
   "outputs": [
    {
     "data": {
      "text/html": [
       "<div>\n",
       "<style scoped>\n",
       "    .dataframe tbody tr th:only-of-type {\n",
       "        vertical-align: middle;\n",
       "    }\n",
       "\n",
       "    .dataframe tbody tr th {\n",
       "        vertical-align: top;\n",
       "    }\n",
       "\n",
       "    .dataframe thead th {\n",
       "        text-align: right;\n",
       "    }\n",
       "</style>\n",
       "<table border=\"1\" class=\"dataframe\">\n",
       "  <thead>\n",
       "    <tr style=\"text-align: right;\">\n",
       "      <th></th>\n",
       "      <th>id_business</th>\n",
       "      <th>name</th>\n",
       "      <th>city</th>\n",
       "      <th>state</th>\n",
       "      <th>postal_code</th>\n",
       "      <th>latitude</th>\n",
       "      <th>longitude</th>\n",
       "      <th>stars</th>\n",
       "      <th>review_count</th>\n",
       "      <th>hours_Dataset_Business</th>\n",
       "      <th>first_category</th>\n",
       "    </tr>\n",
       "  </thead>\n",
       "  <tbody>\n",
       "  </tbody>\n",
       "</table>\n",
       "</div>"
      ],
      "text/plain": [
       "Empty DataFrame\n",
       "Columns: [id_business, name, city, state, postal_code, latitude, longitude, stars, review_count, hours_Dataset_Business, first_category]\n",
       "Index: []"
      ]
     },
     "execution_count": 48,
     "metadata": {},
     "output_type": "execute_result"
    }
   ],
   "source": [
    "business[business['hours_Dataset_Business'] == '']"
   ]
  },
  {
   "cell_type": "markdown",
   "metadata": {},
   "source": [
    "*Datos faltantes del dataframe \"checkin\"*"
   ]
  },
  {
   "cell_type": "code",
   "execution_count": 49,
   "metadata": {},
   "outputs": [
    {
     "data": {
      "text/html": [
       "<div>\n",
       "<style scoped>\n",
       "    .dataframe tbody tr th:only-of-type {\n",
       "        vertical-align: middle;\n",
       "    }\n",
       "\n",
       "    .dataframe tbody tr th {\n",
       "        vertical-align: top;\n",
       "    }\n",
       "\n",
       "    .dataframe thead th {\n",
       "        text-align: right;\n",
       "    }\n",
       "</style>\n",
       "<table border=\"1\" class=\"dataframe\">\n",
       "  <thead>\n",
       "    <tr style=\"text-align: right;\">\n",
       "      <th></th>\n",
       "      <th>business_id</th>\n",
       "      <th>hour</th>\n",
       "      <th>date</th>\n",
       "      <th>year</th>\n",
       "      <th>month</th>\n",
       "    </tr>\n",
       "  </thead>\n",
       "  <tbody>\n",
       "  </tbody>\n",
       "</table>\n",
       "</div>"
      ],
      "text/plain": [
       "Empty DataFrame\n",
       "Columns: [business_id, hour, date, year, month]\n",
       "Index: []"
      ]
     },
     "execution_count": 49,
     "metadata": {},
     "output_type": "execute_result"
    }
   ],
   "source": [
    "checkin[checkin['month']== '']"
   ]
  },
  {
   "cell_type": "markdown",
   "metadata": {},
   "source": [
    "Una vez analisado el dataframe “checkin” en búsqueda de datos faltantes, encontramos la cantidad de 0 de datos faltantes de un total 124,757 datos del dataframe.  Con lo cual concluimos que el 100% de los datos del dataframe NO son faltantes, teniendo una calidad buena de datos."
   ]
  },
  {
   "cell_type": "markdown",
   "metadata": {},
   "source": [
    "*Datos faltantes del dataframe \"reviews_yelp\"*"
   ]
  },
  {
   "cell_type": "code",
   "execution_count": 50,
   "metadata": {},
   "outputs": [
    {
     "name": "stdout",
     "output_type": "stream",
     "text": [
      "Empty DataFrame\n",
      "Columns: [user_id, stars_Dataset_Review, text, id_review, id_user, id_business, anho, mes, dia, hora, name, city, state, stars_Dataset_Business, review_count, yelp_id]\n",
      "Index: []\n",
      "Empty DataFrame\n",
      "Columns: [user_id, stars_Dataset_Review, text, id_review, id_user, id_business, anho, mes, dia, hora, name, city, state, stars_Dataset_Business, review_count, yelp_id]\n",
      "Index: []\n",
      "Empty DataFrame\n",
      "Columns: [user_id, stars_Dataset_Review, text, id_review, id_user, id_business, anho, mes, dia, hora, name, city, state, stars_Dataset_Business, review_count, yelp_id]\n",
      "Index: []\n",
      "Empty DataFrame\n",
      "Columns: [user_id, stars_Dataset_Review, text, id_review, id_user, id_business, anho, mes, dia, hora, name, city, state, stars_Dataset_Business, review_count, yelp_id]\n",
      "Index: []\n"
     ]
    }
   ],
   "source": [
    "print(reviews_yelp[reviews_yelp['anho']== ''])\n",
    "print(reviews_yelp[reviews_yelp['mes']== ''])\n",
    "print(reviews_yelp[reviews_yelp['dia']== ''])\n",
    "print(reviews_yelp[reviews_yelp['hora']== ''])"
   ]
  },
  {
   "cell_type": "markdown",
   "metadata": {},
   "source": [
    "Después de analizar el dataframe “reviews_yelp” en búsqueda de datos faltantes, encontramos la cantidad de 0 de datos faltantes de un total 3'775,931  datos del dataframe.  Con lo cual concluimos que el 100% de los datos del dataframe NO son faltantes, teniendo una calidad buena de datos."
   ]
  },
  {
   "cell_type": "markdown",
   "metadata": {},
   "source": [
    "*Datos faltantes del dataframe \"tip\"*"
   ]
  },
  {
   "cell_type": "code",
   "execution_count": 51,
   "metadata": {},
   "outputs": [
    {
     "data": {
      "text/html": [
       "<div>\n",
       "<style scoped>\n",
       "    .dataframe tbody tr th:only-of-type {\n",
       "        vertical-align: middle;\n",
       "    }\n",
       "\n",
       "    .dataframe tbody tr th {\n",
       "        vertical-align: top;\n",
       "    }\n",
       "\n",
       "    .dataframe thead th {\n",
       "        text-align: right;\n",
       "    }\n",
       "</style>\n",
       "<table border=\"1\" class=\"dataframe\">\n",
       "  <thead>\n",
       "    <tr style=\"text-align: right;\">\n",
       "      <th></th>\n",
       "      <th>id_user</th>\n",
       "      <th>id_business</th>\n",
       "      <th>text</th>\n",
       "      <th>date</th>\n",
       "      <th>compliment_count</th>\n",
       "    </tr>\n",
       "  </thead>\n",
       "  <tbody>\n",
       "  </tbody>\n",
       "</table>\n",
       "</div>"
      ],
      "text/plain": [
       "Empty DataFrame\n",
       "Columns: [id_user, id_business, text, date, compliment_count]\n",
       "Index: []"
      ]
     },
     "execution_count": 51,
     "metadata": {},
     "output_type": "execute_result"
    }
   ],
   "source": [
    "tip[tip['compliment_count'] == '']"
   ]
  },
  {
   "cell_type": "markdown",
   "metadata": {},
   "source": [
    "Tras analizar el dataframe \"tip\" en búsqueda de datos faltantes, encontramos la cantidad de 0 de datos faltantes de un total 677,160  datos del dataframe.  Con lo cual concluimos que el 100% de los datos del dataframe NO son faltantes, teniendo una calidad buena de datos."
   ]
  },
  {
   "cell_type": "markdown",
   "metadata": {},
   "source": [
    "*Datos faltantes del dataframe \"user_yelp\"*"
   ]
  },
  {
   "cell_type": "code",
   "execution_count": 52,
   "metadata": {},
   "outputs": [
    {
     "data": {
      "text/html": [
       "<div>\n",
       "<style scoped>\n",
       "    .dataframe tbody tr th:only-of-type {\n",
       "        vertical-align: middle;\n",
       "    }\n",
       "\n",
       "    .dataframe tbody tr th {\n",
       "        vertical-align: top;\n",
       "    }\n",
       "\n",
       "    .dataframe thead th {\n",
       "        text-align: right;\n",
       "    }\n",
       "</style>\n",
       "<table border=\"1\" class=\"dataframe\">\n",
       "  <thead>\n",
       "    <tr style=\"text-align: right;\">\n",
       "      <th></th>\n",
       "      <th>id_user</th>\n",
       "      <th>years</th>\n",
       "    </tr>\n",
       "  </thead>\n",
       "  <tbody>\n",
       "  </tbody>\n",
       "</table>\n",
       "</div>"
      ],
      "text/plain": [
       "Empty DataFrame\n",
       "Columns: [id_user, years]\n",
       "Index: []"
      ]
     },
     "execution_count": 52,
     "metadata": {},
     "output_type": "execute_result"
    }
   ],
   "source": [
    "user_yelp[user_yelp['years']== '']"
   ]
  },
  {
   "cell_type": "markdown",
   "metadata": {},
   "source": [
    "Una vez analizado el dataframe \"user_yelp\" en búsqueda de datos faltantes, encontramos la cantidad de 0 de datos faltantes de un total 2,277,195 datos del dataframe.  Con lo cual concluimos que el 100% de los datos del dataframe NO son faltantes, teniendo una calidad buena de datos."
   ]
  },
  {
   "cell_type": "markdown",
   "metadata": {},
   "source": [
    "Uso de graficas para el analisis exploratorio."
   ]
  },
  {
   "cell_type": "markdown",
   "metadata": {},
   "source": [
    "*Top 5 por Estados Google.*"
   ]
  },
  {
   "cell_type": "code",
   "execution_count": 53,
   "metadata": {},
   "outputs": [
    {
     "data": {
      "image/png": "[encoded data removed]",
      "text/plain": [
       "<Figure size 1000x600 with 1 Axes>"
      ]
     },
     "metadata": {},
     "output_type": "display_data"
    }
   ],
   "source": [
    "top_5_states = restaurant['state'].value_counts()\n",
    "\n",
    "plt.figure(figsize=(10, 6))\n",
    "colors = ['blue', 'green', 'red', 'purple', 'orange']  \n",
    "top_5_states.plot(kind='barh', color=colors) \n",
    "plt.xlabel('Frecuencia')\n",
    "plt.ylabel('Estados')\n",
    "plt.title('Top 10 de Estados')\n",
    "plt.show()"
   ]
  },
  {
   "cell_type": "markdown",
   "metadata": {},
   "source": [
    "Ahora, procederemos a analizar el estado con el mayor número de negocios, con el fin de proponer lugares óptimo para realizar inversiones. Según la información proporcionada por el gráfico previo, se determina que el estado de Nueva York ocupa el primer lugar, seguido de cerca por el estado de California. Basándonos en este análisis, podemos delinear el espacio geográfico para futuras inversiones."
   ]
  },
  {
   "cell_type": "markdown",
   "metadata": {},
   "source": [
    "*Top por Estado Yelp*"
   ]
  },
  {
   "cell_type": "code",
   "execution_count": 55,
   "metadata": {},
   "outputs": [
    {
     "data": {
      "image/png": "[encoded data removed]",
      "text/plain": [
       "<Figure size 1000x600 with 1 Axes>"
      ]
     },
     "metadata": {},
     "output_type": "display_data"
    }
   ],
   "source": [
    "top_5_states = business['state'].value_counts().nlargest(5)\n",
    "\n",
    "plt.figure(figsize=(10, 6))\n",
    "colors = ['blue', 'green', 'red', 'purple', 'orange', 'grey', 'skyblue']  \n",
    "top_5_states.plot(kind='barh', color=colors) \n",
    "plt.xlabel('Frecuencia')\n",
    "plt.ylabel('Estados')\n",
    "plt.title('Top 5 de Estados')\n",
    "plt.show()"
   ]
  },
  {
   "cell_type": "markdown",
   "metadata": {},
   "source": [
    "Después de examinar detenidamente el gráfico anterior, se evidencia que el estado de Pennsylvania ocupa el primer puesto, mientras que Nevada ocupa el quinto lugar. Esta observación sugiere que Pennsylvania alberga la mayor cantidad de establecimientos."
   ]
  },
  {
   "cell_type": "markdown",
   "metadata": {},
   "source": [
    "*Top de ciudades en el estado de nueva york*"
   ]
  },
  {
   "cell_type": "code",
   "execution_count": 56,
   "metadata": {},
   "outputs": [
    {
     "data": {
      "image/png": "[encoded data removed]",
      "text/plain": [
       "<Figure size 1000x600 with 1 Axes>"
      ]
     },
     "metadata": {},
     "output_type": "display_data"
    }
   ],
   "source": [
    "new_york_cities = restaurant[restaurant['state'] == 'New_York']\n",
    "\n",
    "top_cities = new_york_cities['city'].value_counts().nlargest(10)\n",
    "\n",
    "plt.figure(figsize=(10, 6))\n",
    "colors = ['blue', 'green', 'red', 'purple', 'orange', 'yellow', 'LightBlue', 'magenta', 'brown', 'gray']\n",
    "top_cities.plot(kind='bar', color = colors)\n",
    "plt.xlabel('City')\n",
    "plt.ylabel('Frequency')\n",
    "plt.title('Top 10 Cities in New York State')\n",
    "plt.xticks(rotation=45)  \n",
    "plt.show()"
   ]
  },
  {
   "cell_type": "markdown",
   "metadata": {},
   "source": [
    "Siguiendo la misma línea del gráfico previo en donde Nueva York se encuentra en el primer puesto, en el presente gráfico se exhibe el \"top 5\" de ciudades en el estado de Nueva York con el mayor número de negocios, con el propósito de identificar la ciudad más óptima dentro de todo el estado."
   ]
  },
  {
   "cell_type": "markdown",
   "metadata": {},
   "source": [
    "*Top 5 de ciudades en el Estado de Pennsylvania*"
   ]
  },
  {
   "cell_type": "code",
   "execution_count": 58,
   "metadata": {},
   "outputs": [
    {
     "data": {
      "image/png": "[encoded data removed]",
      "text/plain": [
       "<Figure size 1000x600 with 1 Axes>"
      ]
     },
     "metadata": {},
     "output_type": "display_data"
    }
   ],
   "source": [
    "df_pa = business[business['state'] == 'Pennsylvania']\n",
    "\n",
    "top_cities_pa = df_pa['city'].value_counts().head(10)\n",
    "\n",
    "df_top_cities_pa = df_pa[df_pa['city'].isin(top_cities_pa.index)]\n",
    "\n",
    "df_stars_5_pa = df_top_cities_pa[df_top_cities_pa['stars'] == 5.0]\n",
    "\n",
    "city_counts = df_stars_5_pa['city'].value_counts()\n",
    "\n",
    "plt.figure(figsize=(10, 6))\n",
    "city_counts.plot(kind='pie', autopct='%1.1f%%', colors=['lightgreen', 'orange', 'blue', 'lightskyblue', 'pink', 'green', 'red', 'purple', 'yellow', 'LightBlue'], startangle=140)\n",
    "plt.title('Top 5 de ciudades en Pennsylvania con 5 estrellas')\n",
    "plt.xlabel('Ciudad')\n",
    "plt.ylabel('Frecuencia')\n",
    "plt.xticks(rotation=45)\n",
    "plt.grid(axis='y', linestyle='--', alpha=0.7)\n",
    "plt.tight_layout()\n",
    "plt.show()"
   ]
  },
  {
   "cell_type": "markdown",
   "metadata": {},
   "source": [
    "Tras analizar el gráfico anterior, se desprende que dentro del territorio de Pennsylvania, la ciudad con el mayor número de establecimientos con calificación de 5 estrellas es Philadelphia. Esta observación nos lleva a concluir que Philadelphia alberga la mayor cantidad de establecimientos con la máxima calificación de 5 estrellas en comparación con otras ciudades dentro del estado."
   ]
  },
  {
   "cell_type": "markdown",
   "metadata": {},
   "source": [
    "*Top de ciudades en el estado de california*"
   ]
  },
  {
   "cell_type": "markdown",
   "metadata": {},
   "source": [
    "Este top de ciudades de california se realiza debido a que el Estado de California se ve reflejado en el top 5 de Estados en ambas bases de datos tanto de YELP como de Google, así que consideramos relevante su análisis."
   ]
  },
  {
   "cell_type": "code",
   "execution_count": 59,
   "metadata": {},
   "outputs": [
    {
     "data": {
      "image/png": "[encoded data removed]",
      "text/plain": [
       "<Figure size 1000x600 with 1 Axes>"
      ]
     },
     "metadata": {},
     "output_type": "display_data"
    }
   ],
   "source": [
    "California_cities = restaurant[restaurant['state'] == 'California']\n",
    "\n",
    "top_cities = California_cities['city'].value_counts().nlargest(10)\n",
    "\n",
    "plt.figure(figsize=(10, 6))\n",
    "colors = ['blue', 'green', 'red', 'purple', 'orange', 'yellow', 'LightBlue', 'magenta', 'brown', 'gray']\n",
    "top_cities.plot(kind='bar', color = colors)\n",
    "plt.xlabel('City')\n",
    "plt.ylabel('Frequency')\n",
    "plt.title('Top 10 Cities in California State')\n",
    "plt.xticks(rotation=45)  \n",
    "plt.show()"
   ]
  },
  {
   "cell_type": "markdown",
   "metadata": {},
   "source": [
    "Debido a que el Estado de California se encuentra en el top 5 de ambas aplicaciones, investigamos el top 5 de las ciudades con mayor número de negocios en dicho Estado, para también tenerlo en consideración para futuras inversiones."
   ]
  },
  {
   "cell_type": "markdown",
   "metadata": {},
   "source": [
    "*Top de ciudades en el Estado de Florida*"
   ]
  },
  {
   "cell_type": "markdown",
   "metadata": {},
   "source": [
    "Este top de ciudades de Florida se realiza debido a que el Estado de California se ve reflejado en el top 5 de Estados en ambas bases de datos tanto de YELP como de Google, así que consideramos relevante su análisis."
   ]
  },
  {
   "cell_type": "code",
   "execution_count": 60,
   "metadata": {},
   "outputs": [
    {
     "data": {
      "image/png": "[encoded data removed]",
      "text/plain": [
       "<Figure size 1000x600 with 1 Axes>"
      ]
     },
     "metadata": {},
     "output_type": "display_data"
    }
   ],
   "source": [
    "florida_cities = restaurant[restaurant['state'] == 'Florida']\n",
    "\n",
    "top_cities = florida_cities['city'].value_counts().nlargest(10)\n",
    "\n",
    "plt.figure(figsize=(10, 6))\n",
    "colors = ['blue', 'green', 'red', 'purple', 'orange', 'yellow', 'LightBlue', 'magenta', 'brown', 'gray']\n",
    "top_cities.plot(kind='bar', color = colors)\n",
    "plt.xlabel('City')\n",
    "plt.ylabel('Frequency')\n",
    "plt.title('Top 10 Cities in Florida State')\n",
    "plt.xticks(rotation=45)  \n",
    "plt.show()"
   ]
  },
  {
   "cell_type": "markdown",
   "metadata": {},
   "source": [
    "Debido a que el Estado de Florida se encuentra en el top 5 de ambas aplicaciones, investigamos el top 5 de las ciudades con mayor número de negocios en dicho Estado, para también tenerlo en consideración para futuras inversiones."
   ]
  },
  {
   "cell_type": "markdown",
   "metadata": {},
   "source": [
    "*Top de establecimiento con mayor numero de visitas*"
   ]
  },
  {
   "cell_type": "code",
   "execution_count": 61,
   "metadata": {},
   "outputs": [
    {
     "data": {
      "text/html": [
       "<div>\n",
       "<style scoped>\n",
       "    .dataframe tbody tr th:only-of-type {\n",
       "        vertical-align: middle;\n",
       "    }\n",
       "\n",
       "    .dataframe tbody tr th {\n",
       "        vertical-align: top;\n",
       "    }\n",
       "\n",
       "    .dataframe thead th {\n",
       "        text-align: right;\n",
       "    }\n",
       "</style>\n",
       "<table border=\"1\" class=\"dataframe\">\n",
       "  <thead>\n",
       "    <tr style=\"text-align: right;\">\n",
       "      <th></th>\n",
       "      <th>id_business</th>\n",
       "      <th>name</th>\n",
       "      <th>city</th>\n",
       "      <th>state</th>\n",
       "      <th>postal_code</th>\n",
       "      <th>latitude</th>\n",
       "      <th>longitude</th>\n",
       "      <th>stars</th>\n",
       "      <th>review_count</th>\n",
       "      <th>hours_Dataset_Business</th>\n",
       "      <th>first_category</th>\n",
       "    </tr>\n",
       "  </thead>\n",
       "  <tbody>\n",
       "    <tr>\n",
       "      <th>6</th>\n",
       "      <td>3</td>\n",
       "      <td>St Honore Pastries</td>\n",
       "      <td>Philadelphia</td>\n",
       "      <td>Pennsylvania</td>\n",
       "      <td>19107</td>\n",
       "      <td>39.955505</td>\n",
       "      <td>-75.155564</td>\n",
       "      <td>4.0</td>\n",
       "      <td>80</td>\n",
       "      <td>{'Friday': '7:0-21:0', 'Monday': '7:0-20:0', 'Saturday': '7:0-21:0', 'Sunday': '7:0-21:0', 'Thursday': '7:0-20:0', 'Tuesday': '7:0-20:0', 'Wednesday': '7:0-20:0'}</td>\n",
       "      <td>Restaurants</td>\n",
       "    </tr>\n",
       "    <tr>\n",
       "      <th>1513</th>\n",
       "      <td>14</td>\n",
       "      <td>Zio's Italian Market</td>\n",
       "      <td>Largo</td>\n",
       "      <td>Florida</td>\n",
       "      <td>33771</td>\n",
       "      <td>27.916116</td>\n",
       "      <td>-82.760461</td>\n",
       "      <td>4.5</td>\n",
       "      <td>100</td>\n",
       "      <td>{'Friday': '10:0-20:0', 'Monday': '10:0-18:0', 'Saturday': '10:0-20:0', 'Sunday': None, 'Thursday': '10:0-20:0', 'Tuesday': '10:0-20:0', 'Wednesday': '10:0-20:0'}</td>\n",
       "      <td>Food</td>\n",
       "    </tr>\n",
       "    <tr>\n",
       "      <th>17041</th>\n",
       "      <td>23</td>\n",
       "      <td>Romano's Macaroni Grill</td>\n",
       "      <td>Reno</td>\n",
       "      <td>Nevada</td>\n",
       "      <td>89502</td>\n",
       "      <td>39.476117</td>\n",
       "      <td>-119.789339</td>\n",
       "      <td>2.5</td>\n",
       "      <td>339</td>\n",
       "      <td>{'Friday': '11:0-21:0', 'Monday': '11:0-22:0', 'Saturday': '12:0-21:0', 'Sunday': '11:0-21:0', 'Thursday': '11:0-20:0', 'Tuesday': '11:0-22:0', 'Wednesday': '10:0-22:0'}</td>\n",
       "      <td>Restaurants</td>\n",
       "    </tr>\n",
       "    <tr>\n",
       "      <th>22843</th>\n",
       "      <td>31</td>\n",
       "      <td>DeSandro on Main</td>\n",
       "      <td>Philadelphia</td>\n",
       "      <td>Pennsylvania</td>\n",
       "      <td>19127</td>\n",
       "      <td>40.022466</td>\n",
       "      <td>-75.218314</td>\n",
       "      <td>3.0</td>\n",
       "      <td>41</td>\n",
       "      <td>{'Friday': '17:0-0:30', 'Monday': None, 'Saturday': '17:0-0:30', 'Sunday': '17:0-21:30', 'Thursday': '17:0-1:30', 'Tuesday': '17:0-21:30', 'Wednesday': '17:0-1:30'}</td>\n",
       "      <td>Pizza</td>\n",
       "    </tr>\n",
       "    <tr>\n",
       "      <th>28191</th>\n",
       "      <td>33</td>\n",
       "      <td>Ardmore Pizza</td>\n",
       "      <td>Ardmore</td>\n",
       "      <td>Pennsylvania</td>\n",
       "      <td>19003</td>\n",
       "      <td>40.006707</td>\n",
       "      <td>-75.289671</td>\n",
       "      <td>3.5</td>\n",
       "      <td>109</td>\n",
       "      <td>{'Friday': '11:0-1:0', 'Monday': '11:0-0:0', 'Saturday': '11:0-1:0', 'Sunday': '11:0-0:0', 'Thursday': '11:0-0:0', 'Tuesday': '11:0-0:0', 'Wednesday': '11:0-0:0'}</td>\n",
       "      <td>Pizza</td>\n",
       "    </tr>\n",
       "    <tr>\n",
       "      <th>...</th>\n",
       "      <td>...</td>\n",
       "      <td>...</td>\n",
       "      <td>...</td>\n",
       "      <td>...</td>\n",
       "      <td>...</td>\n",
       "      <td>...</td>\n",
       "      <td>...</td>\n",
       "      <td>...</td>\n",
       "      <td>...</td>\n",
       "      <td>...</td>\n",
       "      <td>...</td>\n",
       "    </tr>\n",
       "    <tr>\n",
       "      <th>61364885</th>\n",
       "      <td>150260</td>\n",
       "      <td>Sage Mediterranean</td>\n",
       "      <td>Phoenixville</td>\n",
       "      <td>Pennsylvania</td>\n",
       "      <td>19460</td>\n",
       "      <td>40.134042</td>\n",
       "      <td>-75.514528</td>\n",
       "      <td>4.0</td>\n",
       "      <td>118</td>\n",
       "      <td>{'Friday': '11:30-22:30', 'Monday': None, 'Saturday': '11:30-22:30', 'Sunday': '11:30-22:30', 'Thursday': '11:30-22:30', 'Tuesday': '11:30-22:30', 'Wednesday': '11:30-22:30'}</td>\n",
       "      <td>Restaurants</td>\n",
       "    </tr>\n",
       "    <tr>\n",
       "      <th>61365056</th>\n",
       "      <td>150273</td>\n",
       "      <td>Rustica Restaurant Pizzera</td>\n",
       "      <td>New Hope</td>\n",
       "      <td>Pennsylvania</td>\n",
       "      <td>18938</td>\n",
       "      <td>40.346275</td>\n",
       "      <td>-75.035753</td>\n",
       "      <td>3.0</td>\n",
       "      <td>21</td>\n",
       "      <td>{'Friday': '9:0-20:0', 'Monday': '9:0-20:0', 'Saturday': '8:30-15:30', 'Sunday': None, 'Thursday': '9:0-20:0', 'Tuesday': '9:0-20:0', 'Wednesday': '9:0-20:0'}</td>\n",
       "      <td>Pizza</td>\n",
       "    </tr>\n",
       "    <tr>\n",
       "      <th>61365116</th>\n",
       "      <td>150287</td>\n",
       "      <td>Ali Baba Magic Food</td>\n",
       "      <td>Philadelphia</td>\n",
       "      <td>Pennsylvania</td>\n",
       "      <td>19104</td>\n",
       "      <td>39.953391</td>\n",
       "      <td>-75.196765</td>\n",
       "      <td>4.0</td>\n",
       "      <td>8</td>\n",
       "      <td>{'Friday': '9:0-20:0', 'Monday': '9:0-20:0', 'Saturday': '8:30-15:30', 'Sunday': None, 'Thursday': '9:0-20:0', 'Tuesday': '9:0-20:0', 'Wednesday': '9:0-20:0'}</td>\n",
       "      <td>Restaurants</td>\n",
       "    </tr>\n",
       "    <tr>\n",
       "      <th>61365125</th>\n",
       "      <td>150290</td>\n",
       "      <td>Pizza Guru</td>\n",
       "      <td>Santa Barbara</td>\n",
       "      <td>California</td>\n",
       "      <td>93105</td>\n",
       "      <td>34.440689</td>\n",
       "      <td>-119.739681</td>\n",
       "      <td>4.0</td>\n",
       "      <td>299</td>\n",
       "      <td>{'Friday': '15:0-21:0', 'Monday': '15:0-21:0', 'Saturday': '15:0-21:0', 'Sunday': '15:0-21:0', 'Thursday': '15:0-21:0', 'Tuesday': '15:0-21:0', 'Wednesday': '15:0-21:0'}</td>\n",
       "      <td>Restaurants</td>\n",
       "    </tr>\n",
       "    <tr>\n",
       "      <th>61365580</th>\n",
       "      <td>150339</td>\n",
       "      <td>The Plum Pit</td>\n",
       "      <td>Aston</td>\n",
       "      <td>Pennsylvania</td>\n",
       "      <td>19014</td>\n",
       "      <td>39.856185</td>\n",
       "      <td>-75.427725</td>\n",
       "      <td>4.5</td>\n",
       "      <td>14</td>\n",
       "      <td>{'Friday': '0:0-0:0', 'Monday': '0:0-0:0', 'Saturday': '0:0-0:0', 'Sunday': '0:0-0:0', 'Thursday': '0:0-0:0', 'Tuesday': '0:0-0:0', 'Wednesday': '0:0-0:0'}</td>\n",
       "      <td>Restaurants</td>\n",
       "    </tr>\n",
       "  </tbody>\n",
       "</table>\n",
       "<p>10046 rows × 11 columns</p>\n",
       "</div>"
      ],
      "text/plain": [
       "          id_business                        name           city  \\\n",
       "6                   3          St Honore Pastries   Philadelphia   \n",
       "1513               14        Zio's Italian Market          Largo   \n",
       "17041              23     Romano's Macaroni Grill           Reno   \n",
       "22843              31            DeSandro on Main   Philadelphia   \n",
       "28191              33               Ardmore Pizza        Ardmore   \n",
       "...               ...                         ...            ...   \n",
       "61364885       150260          Sage Mediterranean   Phoenixville   \n",
       "61365056       150273  Rustica Restaurant Pizzera       New Hope   \n",
       "61365116       150287         Ali Baba Magic Food   Philadelphia   \n",
       "61365125       150290                  Pizza Guru  Santa Barbara   \n",
       "61365580       150339                The Plum Pit          Aston   \n",
       "\n",
       "                 state  postal_code   latitude   longitude  stars  \\\n",
       "6         Pennsylvania        19107  39.955505  -75.155564    4.0   \n",
       "1513           Florida        33771  27.916116  -82.760461    4.5   \n",
       "17041           Nevada        89502  39.476117 -119.789339    2.5   \n",
       "22843     Pennsylvania        19127  40.022466  -75.218314    3.0   \n",
       "28191     Pennsylvania        19003  40.006707  -75.289671    3.5   \n",
       "...                ...          ...        ...         ...    ...   \n",
       "61364885  Pennsylvania        19460  40.134042  -75.514528    4.0   \n",
       "61365056  Pennsylvania        18938  40.346275  -75.035753    3.0   \n",
       "61365116  Pennsylvania        19104  39.953391  -75.196765    4.0   \n",
       "61365125    California        93105  34.440689 -119.739681    4.0   \n",
       "61365580  Pennsylvania        19014  39.856185  -75.427725    4.5   \n",
       "\n",
       "          review_count  \\\n",
       "6                   80   \n",
       "1513               100   \n",
       "17041              339   \n",
       "22843               41   \n",
       "28191              109   \n",
       "...                ...   \n",
       "61364885           118   \n",
       "61365056            21   \n",
       "61365116             8   \n",
       "61365125           299   \n",
       "61365580            14   \n",
       "\n",
       "                                                                                                                                                                  hours_Dataset_Business  \\\n",
       "6                     {'Friday': '7:0-21:0', 'Monday': '7:0-20:0', 'Saturday': '7:0-21:0', 'Sunday': '7:0-21:0', 'Thursday': '7:0-20:0', 'Tuesday': '7:0-20:0', 'Wednesday': '7:0-20:0'}   \n",
       "1513                  {'Friday': '10:0-20:0', 'Monday': '10:0-18:0', 'Saturday': '10:0-20:0', 'Sunday': None, 'Thursday': '10:0-20:0', 'Tuesday': '10:0-20:0', 'Wednesday': '10:0-20:0'}   \n",
       "17041          {'Friday': '11:0-21:0', 'Monday': '11:0-22:0', 'Saturday': '12:0-21:0', 'Sunday': '11:0-21:0', 'Thursday': '11:0-20:0', 'Tuesday': '11:0-22:0', 'Wednesday': '10:0-22:0'}   \n",
       "22843               {'Friday': '17:0-0:30', 'Monday': None, 'Saturday': '17:0-0:30', 'Sunday': '17:0-21:30', 'Thursday': '17:0-1:30', 'Tuesday': '17:0-21:30', 'Wednesday': '17:0-1:30'}   \n",
       "28191                 {'Friday': '11:0-1:0', 'Monday': '11:0-0:0', 'Saturday': '11:0-1:0', 'Sunday': '11:0-0:0', 'Thursday': '11:0-0:0', 'Tuesday': '11:0-0:0', 'Wednesday': '11:0-0:0'}   \n",
       "...                                                                                                                                                                                  ...   \n",
       "61364885  {'Friday': '11:30-22:30', 'Monday': None, 'Saturday': '11:30-22:30', 'Sunday': '11:30-22:30', 'Thursday': '11:30-22:30', 'Tuesday': '11:30-22:30', 'Wednesday': '11:30-22:30'}   \n",
       "61365056                  {'Friday': '9:0-20:0', 'Monday': '9:0-20:0', 'Saturday': '8:30-15:30', 'Sunday': None, 'Thursday': '9:0-20:0', 'Tuesday': '9:0-20:0', 'Wednesday': '9:0-20:0'}   \n",
       "61365116                  {'Friday': '9:0-20:0', 'Monday': '9:0-20:0', 'Saturday': '8:30-15:30', 'Sunday': None, 'Thursday': '9:0-20:0', 'Tuesday': '9:0-20:0', 'Wednesday': '9:0-20:0'}   \n",
       "61365125       {'Friday': '15:0-21:0', 'Monday': '15:0-21:0', 'Saturday': '15:0-21:0', 'Sunday': '15:0-21:0', 'Thursday': '15:0-21:0', 'Tuesday': '15:0-21:0', 'Wednesday': '15:0-21:0'}   \n",
       "61365580                     {'Friday': '0:0-0:0', 'Monday': '0:0-0:0', 'Saturday': '0:0-0:0', 'Sunday': '0:0-0:0', 'Thursday': '0:0-0:0', 'Tuesday': '0:0-0:0', 'Wednesday': '0:0-0:0'}   \n",
       "\n",
       "         first_category  \n",
       "6           Restaurants  \n",
       "1513               Food  \n",
       "17041       Restaurants  \n",
       "22843             Pizza  \n",
       "28191             Pizza  \n",
       "...                 ...  \n",
       "61364885    Restaurants  \n",
       "61365056          Pizza  \n",
       "61365116    Restaurants  \n",
       "61365125    Restaurants  \n",
       "61365580    Restaurants  \n",
       "\n",
       "[10046 rows x 11 columns]"
      ]
     },
     "execution_count": 61,
     "metadata": {},
     "output_type": "execute_result"
    }
   ],
   "source": [
    "business"
   ]
  },
  {
   "cell_type": "code",
   "execution_count": 67,
   "metadata": {},
   "outputs": [
    {
     "data": {
      "image/png": "[encoded data removed]",
      "text/plain": [
       "<Figure size 1000x600 with 1 Axes>"
      ]
     },
     "metadata": {},
     "output_type": "display_data"
    }
   ],
   "source": [
    "merged_df = pd.merge(business[['id_business', 'name']], reviews_yelp[['id_business']], on='id_business')\n",
    "\n",
    "top_names = merged_df['name'].value_counts().nlargest(10)\n",
    "\n",
    "plt.figure(figsize=(10, 6))\n",
    "top_names.plot(kind='bar', color='skyblue', edgecolor='black')\n",
    "plt.title('Top 10 de establecimientos con mayor numero de reviews')\n",
    "plt.xlabel('Nombre del establecimiento')\n",
    "plt.ylabel('Frecuencia de reseñas')\n",
    "plt.xticks(rotation=45)\n",
    "plt.grid(axis='y', linestyle='--', alpha=0.7)\n",
    "plt.tight_layout()\n",
    "plt.show()"
   ]
  },
  {
   "cell_type": "markdown",
   "metadata": {},
   "source": [
    "*Top por categoria en google.*"
   ]
  },
  {
   "cell_type": "code",
   "execution_count": 65,
   "metadata": {},
   "outputs": [],
   "source": [
    "top_10_categories = restaurant['category'].value_counts().nlargest(10)"
   ]
  },
  {
   "cell_type": "code",
   "execution_count": 66,
   "metadata": {},
   "outputs": [
    {
     "data": {
      "image/png": "[encoded data removed]",
      "text/plain": [
       "<Figure size 1000x600 with 1 Axes>"
      ]
     },
     "metadata": {},
     "output_type": "display_data"
    }
   ],
   "source": [
    "plt.figure(figsize=(10, 6))\n",
    "colors = ['blue', 'green', 'red', 'purple', 'orange', 'yellow', 'LightBlue', 'magenta', 'brown', 'gray']\n",
    "top_10_categories.plot(kind='bar', color=colors)\n",
    "plt.xlabel('Categorias')\n",
    "plt.ylabel('Frequencia')\n",
    "plt.title('Top 10 de categorias')\n",
    "plt.xticks(rotation=90) \n",
    "plt.show()"
   ]
  },
  {
   "cell_type": "markdown",
   "metadata": {},
   "source": [
    "Tras examinar la gráfica previamente presentada con la data proveniente de Google, se puede inferir que la categoría que exhibe una mayor recurrencia y, por consiguiente, la que atrae a un mayor número de clientes, es la de \"restaurante\". Por lo tanto, se recomienda considerar esta categoría como la principal opción al evaluar la viabilidad de realizar una inversión."
   ]
  },
  {
   "cell_type": "markdown",
   "metadata": {},
   "source": [
    "*Top por categoria en YELP.*"
   ]
  },
  {
   "cell_type": "code",
   "execution_count": 68,
   "metadata": {},
   "outputs": [
    {
     "data": {
      "image/png": "[encoded data removed]",
      "text/plain": [
       "<Figure size 1000x600 with 1 Axes>"
      ]
     },
     "metadata": {},
     "output_type": "display_data"
    }
   ],
   "source": [
    "# business['first_category'] = business['categories'].str.split(',').str[0]\n",
    "category_counts = business['first_category'].value_counts().nlargest(10)\n",
    "\n",
    "plt.figure(figsize=(10, 6))\n",
    "colors = ['blue', 'green', 'red', 'purple', 'orange', 'yellow', 'LightBlue', 'magenta', 'brown', 'gray']\n",
    "category_counts.plot(kind='bar', color=colors)\n",
    "plt.title('Frecuencia de las primeras 10 categorías')\n",
    "plt.xlabel('Categorías')\n",
    "plt.ylabel('Frecuencia')\n",
    "plt.show()"
   ]
  },
  {
   "cell_type": "markdown",
   "metadata": {},
   "source": [
    "Después de examinar la gráfica previamente presentada con la data proveniente de YELP, se puede inferir que la categoría que exhibe una mayor recurrencia y, por consiguiente, la que atrae a un mayor número de clientes, es la de \"restaurants\". Por lo tanto, se recomienda considerar esta categoría como la principal opción al evaluar la viabilidad de realizar una inversión."
   ]
  },
  {
   "cell_type": "markdown",
   "metadata": {},
   "source": [
    "*Top de categorias con mejor calificación*"
   ]
  },
  {
   "cell_type": "code",
   "execution_count": 69,
   "metadata": {},
   "outputs": [
    {
     "data": {
      "image/png": "[encoded data removed]",
      "text/plain": [
       "<Figure size 1000x600 with 1 Axes>"
      ]
     },
     "metadata": {},
     "output_type": "display_data"
    }
   ],
   "source": [
    "top_10_categories = restaurant['category'].value_counts().nlargest(10).index\n",
    "\n",
    "top_categories_data = restaurant[restaurant['category'].isin(top_10_categories)]\n",
    "\n",
    "top_5_avg_ratings = top_categories_data['avg_rating'].value_counts().nlargest(3).index\n",
    "\n",
    "plt.figure(figsize=(10, 6))\n",
    "\n",
    "for avg_rating in top_5_avg_ratings:\n",
    "\n",
    "    category_counts = top_categories_data[top_categories_data['avg_rating'] == avg_rating]['category'].value_counts()\n",
    "    \n",
    "    if not category_counts.empty:\n",
    "        plt.bar(category_counts.index, category_counts, label=f'Avg Rating: {avg_rating}')\n",
    "\n",
    "plt.xlabel('Category')\n",
    "plt.ylabel('Frequency')\n",
    "plt.title('Top 5 Average Ratings for Top 10 Categories')\n",
    "plt.xticks(rotation=90)\n",
    "plt.legend()\n",
    "plt.tight_layout()\n",
    "plt.show()"
   ]
  },
  {
   "cell_type": "markdown",
   "metadata": {},
   "source": [
    "Este gráfico ilustra el promedio de calificaciones para cada categoría, lo que permite identificar las categorías que son predominantemente aceptadas y que reciben más reseñas positivas."
   ]
  },
  {
   "cell_type": "markdown",
   "metadata": {},
   "source": [
    "*Top 5 de restaurantes con mejor calificación*"
   ]
  },
  {
   "cell_type": "code",
   "execution_count": 70,
   "metadata": {},
   "outputs": [
    {
     "data": {
      "image/png": "[encoded data removed]",
      "text/plain": [
       "<Figure size 640x480 with 1 Axes>"
      ]
     },
     "metadata": {},
     "output_type": "display_data"
    }
   ],
   "source": [
    "restaurant['first_category'] = restaurant['category'].str.split(',').str[0]\n",
    "\n",
    "avg_rating_per_category = restaurant.groupby('first_category')['avg_rating'].mean().nlargest(5)\n",
    "\n",
    "avg_rating_per_category.plot(kind='pie', autopct='%1.1f%%')\n",
    "plt.title('Promedio de calificación por categoría')\n",
    "plt.ylabel('')\n",
    "plt.show()"
   ]
  },
  {
   "cell_type": "markdown",
   "metadata": {},
   "source": [
    "El análisis del gráfico permite inferir que dentro del sector gastronómico, los cinco establecimientos con las calificaciones más altas han sido identificados. Este hallazgo proporciona información relevante para la toma de decisiones en relación a posibles inversiones dentro del ámbito gastronómico."
   ]
  }
 ],
 "metadata": {
  "kernelspec": {
   "display_name": "Python 3",
   "language": "python",
   "name": "python3"
  },
  "language_info": {
   "codemirror_mode": {
    "name": "ipython",
    "version": 3
   },
   "file_extension": ".py",
   "mimetype": "text/x-python",
   "name": "python",
   "nbconvert_exporter": "python",
   "pygments_lexer": "ipython3",
   "version": "3.11.9"
  }
 },
 "nbformat": 4,
 "nbformat_minor": 2
}
