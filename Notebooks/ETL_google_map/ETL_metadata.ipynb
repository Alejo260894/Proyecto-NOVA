{
 "cells": [
  {
   "cell_type": "markdown",
   "metadata": {},
   "source": [
    "# **ETL de metadata de Google Maps**  \n",
    "**Empezamos nuestro trabajo con la extracción de los datos de archivos json**  \n",
    "\n",
    "Importamos librerias necesarias:"
   ]
  },
  {
   "cell_type": "code",
   "execution_count": 6,
   "metadata": {},
   "outputs": [],
   "source": [
    "import pandas as pd\n",
    "import json\n",
    "import os\n",
    "import re"
   ]
  },
  {
   "cell_type": "markdown",
   "metadata": {},
   "source": [
    "## **Extracción de Datos:**  \n",
    "\n",
    "Rutas necesarias para trabajar:"
   ]
  },
  {
   "cell_type": "code",
   "execution_count": 7,
   "metadata": {},
   "outputs": [],
   "source": [
    "ruta_metadata = '../../Data/google_maps/metadata-sitios/'\n",
    "rutas_reviews_estados = {\n",
    "    'California': '../../Data/google_maps/reviews_estados/california/',\n",
    "    'Florida': '../../Data/google_maps/reviews_estados/florida/',\n",
    "    'Hawaii': '../../Data/google_maps/reviews_estados/hawaii/',\n",
    "    'Nevada': '../../Data/google_maps/reviews_estados/nevada/',\n",
    "    'New_York': '../../Data/google_maps/reviews_estados/new_york/'\n",
    "}"
   ]
  },
  {
   "cell_type": "markdown",
   "metadata": {},
   "source": [
    "Recopilar IDs de GMap: Se emplea una función para recorrer los directorios de reseñas estatales, recolectando IDs únicos de Google Maps. Este paso es crucial para correlacionar las reseñas con los metadatos de restaurantes correspondientes.\n",
    "\n",
    "Para esto se emplea la siguiente función:"
   ]
  },
  {
   "cell_type": "code",
   "execution_count": 8,
   "metadata": {},
   "outputs": [],
   "source": [
    "def recopilar_ids_gmap_de_reviews(rutas_reviews_estados):\n",
    "    estados_gmap_ids = {}\n",
    "    for estado, ruta_estado in rutas_reviews_estados.items():\n",
    "        estados_gmap_ids[estado] = set()\n",
    "        # Iterando sobre cada archivo JSON\n",
    "        for directorio in os.listdir(ruta_estado):\n",
    "            ruta_archivo = os.path.join(ruta_estado, directorio)\n",
    "            with open(ruta_archivo, 'r') as archivo:\n",
    "                for linea in archivo:\n",
    "                    review_data = json.loads(linea)\n",
    "                    estados_gmap_ids[estado].add(review_data['gmap_id'])\n",
    "                    \n",
    "    return estados_gmap_ids"
   ]
  },
  {
   "cell_type": "markdown",
   "metadata": {},
   "source": [
    "Filtrar Metadatos: Con los IDs de GMap recolectados, filtramos los metadatos completos para retener solo aquellas entradas que coincidan con nuestro conjunto de datos de reseñas. Esta filtración garantiza que nuestro conjunto de datos sea preciso y relevante para el análisis.  \n",
    "\n",
    "Para esto se emplea la siguiente función:"
   ]
  },
  {
   "cell_type": "code",
   "execution_count": 9,
   "metadata": {},
   "outputs": [],
   "source": [
    "def filtro_metadata(ruta_metadata, estados_gmap_ids):\n",
    "    metadata_filtrada = []\n",
    "    for directorio in os.listdir(ruta_metadata):\n",
    "        ruta_archivo = os.path.join(ruta_metadata, directorio)\n",
    "        with open(ruta_archivo, 'r') as archivo:\n",
    "            for linea in archivo:\n",
    "                lugar_data = json.loads(linea)\n",
    "                for estado, gmap_ids in estados_gmap_ids.items():\n",
    "                    if lugar_data['gmap_id'] in gmap_ids:\n",
    "                        lugar_data['state'] = estado \n",
    "                        metadata_filtrada.append(lugar_data)\n",
    "                        break  \n",
    "                    \n",
    "    return metadata_filtrada"
   ]
  },
  {
   "cell_type": "code",
   "execution_count": 10,
   "metadata": {},
   "outputs": [],
   "source": [
    "# Paso 1: Recopilar IDs de GMap de las revisiones estatales con información del estado\n",
    "estado_gmap_ids = recopilar_ids_gmap_de_reviews(rutas_reviews_estados)\n",
    "\n",
    "# Paso 2: Filtrar lugares de metadatos basados en los IDs de GMap recopilados e incluir información del estado\n",
    "metadata_filtrada = filtro_metadata(ruta_metadata, estado_gmap_ids)\n",
    "\n",
    "# Paso 3: Convertir los metadatos filtrados a un DataFrame\n",
    "df_metadata_filtrada = pd.DataFrame(metadata_filtrada)"
   ]
  },
  {
   "cell_type": "code",
   "execution_count": 11,
   "metadata": {},
   "outputs": [
    {
     "data": {
      "text/html": [
       "<div>\n",
       "<style scoped>\n",
       "    .dataframe tbody tr th:only-of-type {\n",
       "        vertical-align: middle;\n",
       "    }\n",
       "\n",
       "    .dataframe tbody tr th {\n",
       "        vertical-align: top;\n",
       "    }\n",
       "\n",
       "    .dataframe thead th {\n",
       "        text-align: right;\n",
       "    }\n",
       "</style>\n",
       "<table border=\"1\" class=\"dataframe\">\n",
       "  <thead>\n",
       "    <tr style=\"text-align: right;\">\n",
       "      <th></th>\n",
       "      <th>name</th>\n",
       "      <th>address</th>\n",
       "      <th>gmap_id</th>\n",
       "      <th>description</th>\n",
       "      <th>latitude</th>\n",
       "      <th>longitude</th>\n",
       "      <th>category</th>\n",
       "      <th>avg_rating</th>\n",
       "      <th>num_of_reviews</th>\n",
       "      <th>price</th>\n",
       "      <th>hours</th>\n",
       "      <th>MISC</th>\n",
       "      <th>state</th>\n",
       "      <th>relative_results</th>\n",
       "      <th>url</th>\n",
       "    </tr>\n",
       "  </thead>\n",
       "  <tbody>\n",
       "    <tr>\n",
       "      <th>0</th>\n",
       "      <td>San Soo Dang</td>\n",
       "      <td>San Soo Dang, 761 S Vermont Ave, Los Angeles, ...</td>\n",
       "      <td>0x80c2c778e3b73d33:0xbdc58662a4a97d49</td>\n",
       "      <td>None</td>\n",
       "      <td>34.058092</td>\n",
       "      <td>-118.292130</td>\n",
       "      <td>[Korean restaurant]</td>\n",
       "      <td>4.4</td>\n",
       "      <td>18</td>\n",
       "      <td>None</td>\n",
       "      <td>[[Thursday, 6:30AM–6PM], [Friday, 6:30AM–6PM],...</td>\n",
       "      <td>{'Service options': ['Takeout', 'Dine-in', 'De...</td>\n",
       "      <td>California</td>\n",
       "      <td>[0x80c2c78249aba68f:0x35bf16ce61be751d, 0x80c2...</td>\n",
       "      <td>https://www.google.com/maps/place//data=!4m2!3...</td>\n",
       "    </tr>\n",
       "    <tr>\n",
       "      <th>1</th>\n",
       "      <td>Nobel Textile Co</td>\n",
       "      <td>Nobel Textile Co, 719 E 9th St, Los Angeles, C...</td>\n",
       "      <td>0x80c2c632f933b073:0xc31785961fe826a6</td>\n",
       "      <td>None</td>\n",
       "      <td>34.036694</td>\n",
       "      <td>-118.249421</td>\n",
       "      <td>[Fabric store]</td>\n",
       "      <td>4.3</td>\n",
       "      <td>7</td>\n",
       "      <td>None</td>\n",
       "      <td>[[Thursday, 9AM–5PM], [Friday, 9AM–5PM], [Satu...</td>\n",
       "      <td>{'Service options': ['In-store pickup']}</td>\n",
       "      <td>California</td>\n",
       "      <td>[0x80c2c62c496083d1:0xdefa11317fe870a1, 0x80c2...</td>\n",
       "      <td>https://www.google.com/maps/place//data=!4m2!3...</td>\n",
       "    </tr>\n",
       "    <tr>\n",
       "      <th>2</th>\n",
       "      <td>Matrix International Textiles</td>\n",
       "      <td>Matrix International Textiles, 1363 S Bonnie B...</td>\n",
       "      <td>0x80c2cf163db6bc89:0x219484e2edbcfa41</td>\n",
       "      <td>None</td>\n",
       "      <td>34.015505</td>\n",
       "      <td>-118.181839</td>\n",
       "      <td>[Fabric store]</td>\n",
       "      <td>3.5</td>\n",
       "      <td>6</td>\n",
       "      <td>None</td>\n",
       "      <td>[[Thursday, 8:30AM–5:30PM], [Friday, 8:30AM–5:...</td>\n",
       "      <td>{'Accessibility': ['Wheelchair accessible entr...</td>\n",
       "      <td>California</td>\n",
       "      <td>[0x80c2cf042a5d9561:0xd0024ad6f81f1335, 0x80c2...</td>\n",
       "      <td>https://www.google.com/maps/place//data=!4m2!3...</td>\n",
       "    </tr>\n",
       "  </tbody>\n",
       "</table>\n",
       "</div>"
      ],
      "text/plain": [
       "                            name  \\\n",
       "0                   San Soo Dang   \n",
       "1               Nobel Textile Co   \n",
       "2  Matrix International Textiles   \n",
       "\n",
       "                                             address  \\\n",
       "0  San Soo Dang, 761 S Vermont Ave, Los Angeles, ...   \n",
       "1  Nobel Textile Co, 719 E 9th St, Los Angeles, C...   \n",
       "2  Matrix International Textiles, 1363 S Bonnie B...   \n",
       "\n",
       "                                 gmap_id description   latitude   longitude  \\\n",
       "0  0x80c2c778e3b73d33:0xbdc58662a4a97d49        None  34.058092 -118.292130   \n",
       "1  0x80c2c632f933b073:0xc31785961fe826a6        None  34.036694 -118.249421   \n",
       "2  0x80c2cf163db6bc89:0x219484e2edbcfa41        None  34.015505 -118.181839   \n",
       "\n",
       "              category  avg_rating  num_of_reviews price  \\\n",
       "0  [Korean restaurant]         4.4              18  None   \n",
       "1       [Fabric store]         4.3               7  None   \n",
       "2       [Fabric store]         3.5               6  None   \n",
       "\n",
       "                                               hours  \\\n",
       "0  [[Thursday, 6:30AM–6PM], [Friday, 6:30AM–6PM],...   \n",
       "1  [[Thursday, 9AM–5PM], [Friday, 9AM–5PM], [Satu...   \n",
       "2  [[Thursday, 8:30AM–5:30PM], [Friday, 8:30AM–5:...   \n",
       "\n",
       "                                                MISC       state  \\\n",
       "0  {'Service options': ['Takeout', 'Dine-in', 'De...  California   \n",
       "1           {'Service options': ['In-store pickup']}  California   \n",
       "2  {'Accessibility': ['Wheelchair accessible entr...  California   \n",
       "\n",
       "                                    relative_results  \\\n",
       "0  [0x80c2c78249aba68f:0x35bf16ce61be751d, 0x80c2...   \n",
       "1  [0x80c2c62c496083d1:0xdefa11317fe870a1, 0x80c2...   \n",
       "2  [0x80c2cf042a5d9561:0xd0024ad6f81f1335, 0x80c2...   \n",
       "\n",
       "                                                 url  \n",
       "0  https://www.google.com/maps/place//data=!4m2!3...  \n",
       "1  https://www.google.com/maps/place//data=!4m2!3...  \n",
       "2  https://www.google.com/maps/place//data=!4m2!3...  "
      ]
     },
     "execution_count": 11,
     "metadata": {},
     "output_type": "execute_result"
    }
   ],
   "source": [
    "df_metadata_filtrada.head(3)"
   ]
  },
  {
   "cell_type": "code",
   "execution_count": 12,
   "metadata": {},
   "outputs": [
    {
     "data": {
      "text/plain": [
       "array(['California', 'New_York', 'Florida', 'Hawaii', 'Nevada'],\n",
       "      dtype=object)"
      ]
     },
     "execution_count": 12,
     "metadata": {},
     "output_type": "execute_result"
    }
   ],
   "source": [
    "df_metadata_filtrada[\"state\"].unique()"
   ]
  },
  {
   "cell_type": "code",
   "execution_count": 13,
   "metadata": {},
   "outputs": [
    {
     "name": "stdout",
     "output_type": "stream",
     "text": [
      "<class 'pandas.core.frame.DataFrame'>\n",
      "RangeIndex: 221142 entries, 0 to 221141\n",
      "Data columns (total 15 columns):\n",
      " #   Column            Non-Null Count   Dtype  \n",
      "---  ------            --------------   -----  \n",
      " 0   name              221140 non-null  object \n",
      " 1   address           219285 non-null  object \n",
      " 2   gmap_id           221142 non-null  object \n",
      " 3   description       33312 non-null   object \n",
      " 4   latitude          221142 non-null  float64\n",
      " 5   longitude         221142 non-null  float64\n",
      " 6   category          220990 non-null  object \n",
      " 7   avg_rating        221142 non-null  float64\n",
      " 8   num_of_reviews    221142 non-null  int64  \n",
      " 9   price             34814 non-null   object \n",
      " 10  hours             191999 non-null  object \n",
      " 11  MISC              198304 non-null  object \n",
      " 12  state             221142 non-null  object \n",
      " 13  relative_results  210335 non-null  object \n",
      " 14  url               221142 non-null  object \n",
      "dtypes: float64(3), int64(1), object(11)\n",
      "memory usage: 25.3+ MB\n"
     ]
    }
   ],
   "source": [
    "df_metadata_filtrada.info()"
   ]
  },
  {
   "cell_type": "markdown",
   "metadata": {},
   "source": [
    "Filtrado por Restaurantes:"
   ]
  },
  {
   "cell_type": "code",
   "execution_count": 14,
   "metadata": {},
   "outputs": [],
   "source": [
    "restaurante_comida = [\n",
    "    'restaurant', 'cafe', '\\\\bfood\\\\b', 'dining', 'eatery', 'bistro', 'bakery',\n",
    "    'grill', 'kitchen', 'pizzeria', 'steakhouse', 'sushi', 'tavern', 'diner'\n",
    "]\n",
    "\n",
    "exclusiones = [\n",
    "    'supplier','ATM','gas station', 'school', 'bank', 'area', 'company', 'broker', 'bark', 'stool', 'dart',\n",
    "    'store', 'shop', 'bar', 'lounge', 'venue', 'service', 'club', 'remodeler', 'boutique',\n",
    "    'market', 'pharmacy', 'furniture', 'grocery', 'hardware', 'book', 'garden', 'home', 'office', \n",
    "    'electronics', 'clothing', 'gift', 'toy', 'jewelry', 'florist', 'repair', 'maintenance',\n",
    "    'construction', 'contractor', 'installer', 'supplier', 'wholesaler', 'retailer', 'distributor', \n",
    "    'manufacturer', 'producer', 'facility', 'center', 'park', 'gallery', 'studio', 'salon', 'spa',\n",
    "    'gym', 'fitness', 'health', 'wellness', 'boutique', 'event', 'entertainment', 'amusement', \n",
    "    'recreation', 'cultural', 'education', 'tutoring', 'learning', 'training', 'consultant', \n",
    "    'counseling', 'legal', 'financial', 'insurance', 'real estate', 'accommodation', 'lodging', \n",
    "    'rental', 'automotive', 'mechanic', 'pet', 'veterinary', 'storage', 'security', 'transportation',\n",
    "    'delivery', 'logistics', 'utility', 'energy', 'sanitation', 'cleaning', 'waste', 'recycling',\n",
    "]\n",
    "\n",
    "patron_de_incluidos = re.compile(r'\\b(?:' + '|'.join(restaurante_comida) + r')\\b', re.IGNORECASE)\n",
    "patron_de_excluidos = re.compile(r'\\b(?:' + '|'.join(exclusiones) + r')\\b', re.IGNORECASE)"
   ]
  },
  {
   "cell_type": "code",
   "execution_count": 15,
   "metadata": {},
   "outputs": [],
   "source": [
    "# Verifica si alguna de las categorías en la lista coincide con las palabras clave relacionadas con alimentos\n",
    "# y se asegura de que ninguna coincida con las exclusiones.\n",
    "\n",
    "def es_servivio_de_comida(lista_categorias):\n",
    "\n",
    "    lista_categorias = lista_categorias if isinstance(lista_categorias, list) else []\n",
    "    if any(patron_de_excluidos.search(categoria) for categoria in lista_categorias):\n",
    "        return False\n",
    "    return any(patron_de_incluidos.search(categoria) for categoria in lista_categorias)\n",
    "\n",
    "restaurantes_metadata = [lugar for lugar in metadata_filtrada if es_servivio_de_comida(lugar.get('category'))]"
   ]
  },
  {
   "cell_type": "code",
   "execution_count": 16,
   "metadata": {},
   "outputs": [
    {
     "data": {
      "text/html": [
       "<div>\n",
       "<style scoped>\n",
       "    .dataframe tbody tr th:only-of-type {\n",
       "        vertical-align: middle;\n",
       "    }\n",
       "\n",
       "    .dataframe tbody tr th {\n",
       "        vertical-align: top;\n",
       "    }\n",
       "\n",
       "    .dataframe thead th {\n",
       "        text-align: right;\n",
       "    }\n",
       "</style>\n",
       "<table border=\"1\" class=\"dataframe\">\n",
       "  <thead>\n",
       "    <tr style=\"text-align: right;\">\n",
       "      <th></th>\n",
       "      <th>name</th>\n",
       "      <th>address</th>\n",
       "      <th>gmap_id</th>\n",
       "      <th>description</th>\n",
       "      <th>latitude</th>\n",
       "      <th>longitude</th>\n",
       "      <th>category</th>\n",
       "      <th>avg_rating</th>\n",
       "      <th>num_of_reviews</th>\n",
       "      <th>price</th>\n",
       "      <th>hours</th>\n",
       "      <th>MISC</th>\n",
       "      <th>state</th>\n",
       "      <th>relative_results</th>\n",
       "      <th>url</th>\n",
       "    </tr>\n",
       "  </thead>\n",
       "  <tbody>\n",
       "    <tr>\n",
       "      <th>0</th>\n",
       "      <td>San Soo Dang</td>\n",
       "      <td>San Soo Dang, 761 S Vermont Ave, Los Angeles, ...</td>\n",
       "      <td>0x80c2c778e3b73d33:0xbdc58662a4a97d49</td>\n",
       "      <td>None</td>\n",
       "      <td>34.058092</td>\n",
       "      <td>-118.292130</td>\n",
       "      <td>[Korean restaurant]</td>\n",
       "      <td>4.4</td>\n",
       "      <td>18</td>\n",
       "      <td>None</td>\n",
       "      <td>[[Thursday, 6:30AM–6PM], [Friday, 6:30AM–6PM],...</td>\n",
       "      <td>{'Service options': ['Takeout', 'Dine-in', 'De...</td>\n",
       "      <td>California</td>\n",
       "      <td>[0x80c2c78249aba68f:0x35bf16ce61be751d, 0x80c2...</td>\n",
       "      <td>https://www.google.com/maps/place//data=!4m2!3...</td>\n",
       "    </tr>\n",
       "    <tr>\n",
       "      <th>1</th>\n",
       "      <td>Vons Chicken</td>\n",
       "      <td>Vons Chicken, 12740 La Mirada Blvd, La Mirada,...</td>\n",
       "      <td>0x80dd2b4c8555edb7:0xfc33d65c4bdbef42</td>\n",
       "      <td>None</td>\n",
       "      <td>33.916402</td>\n",
       "      <td>-118.010855</td>\n",
       "      <td>[Restaurant]</td>\n",
       "      <td>4.5</td>\n",
       "      <td>18</td>\n",
       "      <td>None</td>\n",
       "      <td>[[Thursday, 11AM–9:30PM], [Friday, 11AM–9:30PM...</td>\n",
       "      <td>{'Service options': ['Outdoor seating', 'Curbs...</td>\n",
       "      <td>California</td>\n",
       "      <td>None</td>\n",
       "      <td>https://www.google.com/maps/place//data=!4m2!3...</td>\n",
       "    </tr>\n",
       "    <tr>\n",
       "      <th>2</th>\n",
       "      <td>Oneyda's Bakery</td>\n",
       "      <td>Oneyda's Bakery, 600 Goodlette-Frank Rd #101, ...</td>\n",
       "      <td>0x88dae191ee505917:0x6ba3e25388d3fad4</td>\n",
       "      <td>None</td>\n",
       "      <td>26.154754</td>\n",
       "      <td>-81.790528</td>\n",
       "      <td>[Bakery, Deli]</td>\n",
       "      <td>4.6</td>\n",
       "      <td>19</td>\n",
       "      <td>$</td>\n",
       "      <td>[[Thursday, 8AM–6PM], [Friday, 8AM–6PM], [Satu...</td>\n",
       "      <td>{'Service options': ['Delivery']}</td>\n",
       "      <td>Florida</td>\n",
       "      <td>[0x88dae1997e122d6b:0xfd776fa851f06d29, 0x88da...</td>\n",
       "      <td>https://www.google.com/maps/place//data=!4m2!3...</td>\n",
       "    </tr>\n",
       "  </tbody>\n",
       "</table>\n",
       "</div>"
      ],
      "text/plain": [
       "              name                                            address  \\\n",
       "0     San Soo Dang  San Soo Dang, 761 S Vermont Ave, Los Angeles, ...   \n",
       "1     Vons Chicken  Vons Chicken, 12740 La Mirada Blvd, La Mirada,...   \n",
       "2  Oneyda's Bakery  Oneyda's Bakery, 600 Goodlette-Frank Rd #101, ...   \n",
       "\n",
       "                                 gmap_id description   latitude   longitude  \\\n",
       "0  0x80c2c778e3b73d33:0xbdc58662a4a97d49        None  34.058092 -118.292130   \n",
       "1  0x80dd2b4c8555edb7:0xfc33d65c4bdbef42        None  33.916402 -118.010855   \n",
       "2  0x88dae191ee505917:0x6ba3e25388d3fad4        None  26.154754  -81.790528   \n",
       "\n",
       "              category  avg_rating  num_of_reviews price  \\\n",
       "0  [Korean restaurant]         4.4              18  None   \n",
       "1         [Restaurant]         4.5              18  None   \n",
       "2       [Bakery, Deli]         4.6              19     $   \n",
       "\n",
       "                                               hours  \\\n",
       "0  [[Thursday, 6:30AM–6PM], [Friday, 6:30AM–6PM],...   \n",
       "1  [[Thursday, 11AM–9:30PM], [Friday, 11AM–9:30PM...   \n",
       "2  [[Thursday, 8AM–6PM], [Friday, 8AM–6PM], [Satu...   \n",
       "\n",
       "                                                MISC       state  \\\n",
       "0  {'Service options': ['Takeout', 'Dine-in', 'De...  California   \n",
       "1  {'Service options': ['Outdoor seating', 'Curbs...  California   \n",
       "2                  {'Service options': ['Delivery']}     Florida   \n",
       "\n",
       "                                    relative_results  \\\n",
       "0  [0x80c2c78249aba68f:0x35bf16ce61be751d, 0x80c2...   \n",
       "1                                               None   \n",
       "2  [0x88dae1997e122d6b:0xfd776fa851f06d29, 0x88da...   \n",
       "\n",
       "                                                 url  \n",
       "0  https://www.google.com/maps/place//data=!4m2!3...  \n",
       "1  https://www.google.com/maps/place//data=!4m2!3...  \n",
       "2  https://www.google.com/maps/place//data=!4m2!3...  "
      ]
     },
     "execution_count": 16,
     "metadata": {},
     "output_type": "execute_result"
    }
   ],
   "source": [
    "df_restaurantes_metadata = pd.DataFrame(restaurantes_metadata)\n",
    "df_restaurantes_metadata.head(3)"
   ]
  },
  {
   "cell_type": "code",
   "execution_count": 17,
   "metadata": {},
   "outputs": [
    {
     "name": "stdout",
     "output_type": "stream",
     "text": [
      "<class 'pandas.core.frame.DataFrame'>\n",
      "RangeIndex: 19948 entries, 0 to 19947\n",
      "Data columns (total 15 columns):\n",
      " #   Column            Non-Null Count  Dtype  \n",
      "---  ------            --------------  -----  \n",
      " 0   name              19948 non-null  object \n",
      " 1   address           19931 non-null  object \n",
      " 2   gmap_id           19948 non-null  object \n",
      " 3   description       5400 non-null   object \n",
      " 4   latitude          19948 non-null  float64\n",
      " 5   longitude         19948 non-null  float64\n",
      " 6   category          19948 non-null  object \n",
      " 7   avg_rating        19948 non-null  float64\n",
      " 8   num_of_reviews    19948 non-null  int64  \n",
      " 9   price             9024 non-null   object \n",
      " 10  hours             18933 non-null  object \n",
      " 11  MISC              19850 non-null  object \n",
      " 12  state             19948 non-null  object \n",
      " 13  relative_results  16631 non-null  object \n",
      " 14  url               19948 non-null  object \n",
      "dtypes: float64(3), int64(1), object(11)\n",
      "memory usage: 2.3+ MB\n"
     ]
    }
   ],
   "source": [
    "df_restaurantes_metadata.info()"
   ]
  },
  {
   "cell_type": "markdown",
   "metadata": {},
   "source": [
    "Verificamos categorias:"
   ]
  },
  {
   "cell_type": "code",
   "execution_count": 18,
   "metadata": {},
   "outputs": [
    {
     "data": {
      "text/html": [
       "<div>\n",
       "<style scoped>\n",
       "    .dataframe tbody tr th:only-of-type {\n",
       "        vertical-align: middle;\n",
       "    }\n",
       "\n",
       "    .dataframe tbody tr th {\n",
       "        vertical-align: top;\n",
       "    }\n",
       "\n",
       "    .dataframe thead th {\n",
       "        text-align: right;\n",
       "    }\n",
       "</style>\n",
       "<table border=\"1\" class=\"dataframe\">\n",
       "  <thead>\n",
       "    <tr style=\"text-align: right;\">\n",
       "      <th></th>\n",
       "      <th>Category</th>\n",
       "      <th>Count</th>\n",
       "    </tr>\n",
       "  </thead>\n",
       "  <tbody>\n",
       "    <tr>\n",
       "      <th>0</th>\n",
       "      <td>Restaurant</td>\n",
       "      <td>6868</td>\n",
       "    </tr>\n",
       "    <tr>\n",
       "      <th>1</th>\n",
       "      <td>Mexican restaurant</td>\n",
       "      <td>1996</td>\n",
       "    </tr>\n",
       "    <tr>\n",
       "      <th>2</th>\n",
       "      <td>Chinese restaurant</td>\n",
       "      <td>1466</td>\n",
       "    </tr>\n",
       "    <tr>\n",
       "      <th>3</th>\n",
       "      <td>Pizza restaurant</td>\n",
       "      <td>1353</td>\n",
       "    </tr>\n",
       "    <tr>\n",
       "      <th>4</th>\n",
       "      <td>Cafe</td>\n",
       "      <td>1277</td>\n",
       "    </tr>\n",
       "  </tbody>\n",
       "</table>\n",
       "</div>"
      ],
      "text/plain": [
       "             Category  Count\n",
       "0          Restaurant   6868\n",
       "1  Mexican restaurant   1996\n",
       "2  Chinese restaurant   1466\n",
       "3    Pizza restaurant   1353\n",
       "4                Cafe   1277"
      ]
     },
     "execution_count": 18,
     "metadata": {},
     "output_type": "execute_result"
    }
   ],
   "source": [
    "categorias_expandidas = df_restaurantes_metadata.explode('category')\n",
    "\n",
    "categorias_counts = categorias_expandidas['category'].value_counts()\n",
    "\n",
    "df_categorias_counts = categorias_counts.reset_index()\n",
    "df_categorias_counts.columns = ['Category', 'Count']\n",
    "\n",
    "df_categorias_counts.head(5)"
   ]
  },
  {
   "cell_type": "markdown",
   "metadata": {},
   "source": [
    "## **Trasnformación de Datos:**  \n",
    "\n",
    "Empezamos eliminando columnas que consideramos innecesarias para un análisis:"
   ]
  },
  {
   "cell_type": "code",
   "execution_count": 19,
   "metadata": {},
   "outputs": [],
   "source": [
    "drops = ['description', 'relative_results', 'MISC','hours','url']\n",
    "df_restaurantes = df_restaurantes_metadata.drop(drops, axis=1)"
   ]
  },
  {
   "cell_type": "markdown",
   "metadata": {},
   "source": [
    "Observamos que en la columna 'price' se encuentran valores unicos: '$', '$$', '$$$$', '$$$', '₩₩', '₩', '₩₩₩', '₩₩₩₩'\n",
    "Estos indican lo siguiente:\n",
    "\n",
    "- '$': Precio bajo\n",
    "- '$$': Precio medio\n",
    "- '$$$': Precio alto\n",
    "- '$$$$': Precio muy alto\n",
    "-\n",
    "- '₩': Precio bajo en won surcoreano\n",
    "- '₩₩': Precio medio en won surcoreano\n",
    "- '₩₩₩': Precio alto en won surcoreano\n",
    "- '₩₩₩₩': Precio muy alto en won surcoreano\n",
    "\n",
    "A estos los transformaremos en números para una manipulación más eficiente donde:\n",
    "\n",
    "- 1 : Precio bajo\n",
    "- 2 : Precio medio\n",
    "- 3 : Precio alto\n",
    "- 4 : Precio muy alto"
   ]
  },
  {
   "cell_type": "code",
   "execution_count": 20,
   "metadata": {},
   "outputs": [
    {
     "data": {
      "text/plain": [
       "array([None, '$', '$$', '$$$$', '$$$', '₩₩', '₩', '₩₩₩', '₩₩₩₩'],\n",
       "      dtype=object)"
      ]
     },
     "execution_count": 20,
     "metadata": {},
     "output_type": "execute_result"
    }
   ],
   "source": [
    "df_restaurantes[\"price\"].unique()"
   ]
  },
  {
   "cell_type": "code",
   "execution_count": 21,
   "metadata": {},
   "outputs": [],
   "source": [
    "def precio_numerico(price):\n",
    "    if pd.isnull(price):\n",
    "        return 0  \n",
    "    else:\n",
    "        return len(price)  \n",
    "\n",
    "df_restaurantes['price_numeric'] = df_restaurantes['price'].apply(precio_numerico)\n",
    "df_restaurantes.drop('price', axis=1, inplace=True)\n",
    "df_restaurantes['price_numeric'] = df_restaurantes['price_numeric'].astype(int)"
   ]
  },
  {
   "cell_type": "code",
   "execution_count": 22,
   "metadata": {},
   "outputs": [
    {
     "data": {
      "text/plain": [
       "price_numeric\n",
       "0    10924\n",
       "1     4988\n",
       "2     3762\n",
       "3      227\n",
       "4       47\n",
       "Name: count, dtype: int64"
      ]
     },
     "execution_count": 22,
     "metadata": {},
     "output_type": "execute_result"
    }
   ],
   "source": [
    "df_restaurantes[\"price_numeric\"].value_counts()"
   ]
  },
  {
   "cell_type": "markdown",
   "metadata": {},
   "source": [
    "Se extrae el cod. postal y la ciudad de la columna 'addres':"
   ]
  },
  {
   "cell_type": "code",
   "execution_count": 23,
   "metadata": {},
   "outputs": [],
   "source": [
    "ciudad_regex = r',\\s*([^,]+),\\s*[A-Z]{2}\\s+\\d{5}'\n",
    "cod_postal_regex = r'(\\d{5})$'\n",
    "\n",
    "df_restaurantes['city'] = df_restaurantes['address'].str.extract(ciudad_regex, expand=False)\n",
    "df_restaurantes['postal_code'] = df_restaurantes['address'].str.extract(cod_postal_regex, expand=False)"
   ]
  },
  {
   "cell_type": "markdown",
   "metadata": {},
   "source": [
    "Reordenamos las columnas a un formato adecuado:"
   ]
  },
  {
   "cell_type": "code",
   "execution_count": 24,
   "metadata": {},
   "outputs": [
    {
     "data": {
      "text/html": [
       "<div>\n",
       "<style scoped>\n",
       "    .dataframe tbody tr th:only-of-type {\n",
       "        vertical-align: middle;\n",
       "    }\n",
       "\n",
       "    .dataframe tbody tr th {\n",
       "        vertical-align: top;\n",
       "    }\n",
       "\n",
       "    .dataframe thead th {\n",
       "        text-align: right;\n",
       "    }\n",
       "</style>\n",
       "<table border=\"1\" class=\"dataframe\">\n",
       "  <thead>\n",
       "    <tr style=\"text-align: right;\">\n",
       "      <th></th>\n",
       "      <th>name</th>\n",
       "      <th>address</th>\n",
       "      <th>state</th>\n",
       "      <th>city</th>\n",
       "      <th>postal_code</th>\n",
       "      <th>latitude</th>\n",
       "      <th>longitude</th>\n",
       "      <th>avg_rating</th>\n",
       "      <th>num_of_reviews</th>\n",
       "      <th>price_numeric</th>\n",
       "      <th>gmap_id</th>\n",
       "      <th>category</th>\n",
       "    </tr>\n",
       "  </thead>\n",
       "  <tbody>\n",
       "    <tr>\n",
       "      <th>0</th>\n",
       "      <td>San Soo Dang</td>\n",
       "      <td>San Soo Dang, 761 S Vermont Ave, Los Angeles, ...</td>\n",
       "      <td>California</td>\n",
       "      <td>Los Angeles</td>\n",
       "      <td>90005</td>\n",
       "      <td>34.058092</td>\n",
       "      <td>-118.292130</td>\n",
       "      <td>4.4</td>\n",
       "      <td>18</td>\n",
       "      <td>0</td>\n",
       "      <td>0x80c2c778e3b73d33:0xbdc58662a4a97d49</td>\n",
       "      <td>[Korean restaurant]</td>\n",
       "    </tr>\n",
       "    <tr>\n",
       "      <th>1</th>\n",
       "      <td>Vons Chicken</td>\n",
       "      <td>Vons Chicken, 12740 La Mirada Blvd, La Mirada,...</td>\n",
       "      <td>California</td>\n",
       "      <td>La Mirada</td>\n",
       "      <td>90638</td>\n",
       "      <td>33.916402</td>\n",
       "      <td>-118.010855</td>\n",
       "      <td>4.5</td>\n",
       "      <td>18</td>\n",
       "      <td>0</td>\n",
       "      <td>0x80dd2b4c8555edb7:0xfc33d65c4bdbef42</td>\n",
       "      <td>[Restaurant]</td>\n",
       "    </tr>\n",
       "    <tr>\n",
       "      <th>2</th>\n",
       "      <td>Oneyda's Bakery</td>\n",
       "      <td>Oneyda's Bakery, 600 Goodlette-Frank Rd #101, ...</td>\n",
       "      <td>Florida</td>\n",
       "      <td>Naples</td>\n",
       "      <td>34102</td>\n",
       "      <td>26.154754</td>\n",
       "      <td>-81.790528</td>\n",
       "      <td>4.6</td>\n",
       "      <td>19</td>\n",
       "      <td>1</td>\n",
       "      <td>0x88dae191ee505917:0x6ba3e25388d3fad4</td>\n",
       "      <td>[Bakery, Deli]</td>\n",
       "    </tr>\n",
       "  </tbody>\n",
       "</table>\n",
       "</div>"
      ],
      "text/plain": [
       "              name                                            address  \\\n",
       "0     San Soo Dang  San Soo Dang, 761 S Vermont Ave, Los Angeles, ...   \n",
       "1     Vons Chicken  Vons Chicken, 12740 La Mirada Blvd, La Mirada,...   \n",
       "2  Oneyda's Bakery  Oneyda's Bakery, 600 Goodlette-Frank Rd #101, ...   \n",
       "\n",
       "        state         city postal_code   latitude   longitude  avg_rating  \\\n",
       "0  California  Los Angeles       90005  34.058092 -118.292130         4.4   \n",
       "1  California    La Mirada       90638  33.916402 -118.010855         4.5   \n",
       "2     Florida       Naples       34102  26.154754  -81.790528         4.6   \n",
       "\n",
       "   num_of_reviews  price_numeric                                gmap_id  \\\n",
       "0              18              0  0x80c2c778e3b73d33:0xbdc58662a4a97d49   \n",
       "1              18              0  0x80dd2b4c8555edb7:0xfc33d65c4bdbef42   \n",
       "2              19              1  0x88dae191ee505917:0x6ba3e25388d3fad4   \n",
       "\n",
       "              category  \n",
       "0  [Korean restaurant]  \n",
       "1         [Restaurant]  \n",
       "2       [Bakery, Deli]  "
      ]
     },
     "execution_count": 24,
     "metadata": {},
     "output_type": "execute_result"
    }
   ],
   "source": [
    "orden = ['name', 'address','state', 'city', 'postal_code', 'latitude', 'longitude', 'avg_rating', 'num_of_reviews', 'price_numeric', 'gmap_id','category']\n",
    "df_restaurantes = df_restaurantes.reindex(columns=orden)\n",
    "\n",
    "df_restaurantes.head(3)"
   ]
  },
  {
   "cell_type": "markdown",
   "metadata": {},
   "source": [
    "Creamos un nuevo DataFrame de dummies a partir de la columna: 'category'"
   ]
  },
  {
   "cell_type": "code",
   "execution_count": 25,
   "metadata": {},
   "outputs": [],
   "source": [
    "temp_df = df_restaurantes[['gmap_id', 'category']]\n",
    "category_dummies = temp_df['category'].str.get_dummies(sep=', ')\n",
    "restaurante_category_dummies = pd.concat([temp_df[['gmap_id']], category_dummies], axis=1)\n",
    "df_restaurantes = df_restaurantes.drop(columns=['category'])"
   ]
  },
  {
   "cell_type": "code",
   "execution_count": 33,
   "metadata": {},
   "outputs": [
    {
     "data": {
      "text/html": [
       "<div>\n",
       "<style scoped>\n",
       "    .dataframe tbody tr th:only-of-type {\n",
       "        vertical-align: middle;\n",
       "    }\n",
       "\n",
       "    .dataframe tbody tr th {\n",
       "        vertical-align: top;\n",
       "    }\n",
       "\n",
       "    .dataframe thead th {\n",
       "        text-align: right;\n",
       "    }\n",
       "</style>\n",
       "<table border=\"1\" class=\"dataframe\">\n",
       "  <thead>\n",
       "    <tr style=\"text-align: right;\">\n",
       "      <th></th>\n",
       "      <th>gmap_id</th>\n",
       "      <th>'Afghani restaurant'</th>\n",
       "      <th>'African restaurant'</th>\n",
       "      <th>'African restaurant']</th>\n",
       "      <th>'American restaurant'</th>\n",
       "      <th>'American restaurant']</th>\n",
       "      <th>'Argentinian restaurant'</th>\n",
       "      <th>'Armenian restaurant'</th>\n",
       "      <th>'Armenian restaurant']</th>\n",
       "      <th>'Art cafe'</th>\n",
       "      <th>...</th>\n",
       "      <th>['Wedding bakery']</th>\n",
       "      <th>['West African restaurant'</th>\n",
       "      <th>['West African restaurant']</th>\n",
       "      <th>['Wholesale bakery'</th>\n",
       "      <th>['Wholesale bakery']</th>\n",
       "      <th>['Winery'</th>\n",
       "      <th>['Wok restaurant'</th>\n",
       "      <th>['Wok restaurant']</th>\n",
       "      <th>['Yakitori restaurant']</th>\n",
       "      <th>['Yemenite restaurant']</th>\n",
       "    </tr>\n",
       "  </thead>\n",
       "  <tbody>\n",
       "    <tr>\n",
       "      <th>0</th>\n",
       "      <td>0x80c2c778e3b73d33:0xbdc58662a4a97d49</td>\n",
       "      <td>0</td>\n",
       "      <td>0</td>\n",
       "      <td>0</td>\n",
       "      <td>0</td>\n",
       "      <td>0</td>\n",
       "      <td>0</td>\n",
       "      <td>0</td>\n",
       "      <td>0</td>\n",
       "      <td>0</td>\n",
       "      <td>...</td>\n",
       "      <td>0</td>\n",
       "      <td>0</td>\n",
       "      <td>0</td>\n",
       "      <td>0</td>\n",
       "      <td>0</td>\n",
       "      <td>0</td>\n",
       "      <td>0</td>\n",
       "      <td>0</td>\n",
       "      <td>0</td>\n",
       "      <td>0</td>\n",
       "    </tr>\n",
       "    <tr>\n",
       "      <th>1</th>\n",
       "      <td>0x80dd2b4c8555edb7:0xfc33d65c4bdbef42</td>\n",
       "      <td>0</td>\n",
       "      <td>0</td>\n",
       "      <td>0</td>\n",
       "      <td>0</td>\n",
       "      <td>0</td>\n",
       "      <td>0</td>\n",
       "      <td>0</td>\n",
       "      <td>0</td>\n",
       "      <td>0</td>\n",
       "      <td>...</td>\n",
       "      <td>0</td>\n",
       "      <td>0</td>\n",
       "      <td>0</td>\n",
       "      <td>0</td>\n",
       "      <td>0</td>\n",
       "      <td>0</td>\n",
       "      <td>0</td>\n",
       "      <td>0</td>\n",
       "      <td>0</td>\n",
       "      <td>0</td>\n",
       "    </tr>\n",
       "    <tr>\n",
       "      <th>2</th>\n",
       "      <td>0x88dae191ee505917:0x6ba3e25388d3fad4</td>\n",
       "      <td>0</td>\n",
       "      <td>0</td>\n",
       "      <td>0</td>\n",
       "      <td>0</td>\n",
       "      <td>0</td>\n",
       "      <td>0</td>\n",
       "      <td>0</td>\n",
       "      <td>0</td>\n",
       "      <td>0</td>\n",
       "      <td>...</td>\n",
       "      <td>0</td>\n",
       "      <td>0</td>\n",
       "      <td>0</td>\n",
       "      <td>0</td>\n",
       "      <td>0</td>\n",
       "      <td>0</td>\n",
       "      <td>0</td>\n",
       "      <td>0</td>\n",
       "      <td>0</td>\n",
       "      <td>0</td>\n",
       "    </tr>\n",
       "    <tr>\n",
       "      <th>3</th>\n",
       "      <td>0x80c2baf50d29bf63:0x5bd904b842b9fcc</td>\n",
       "      <td>0</td>\n",
       "      <td>0</td>\n",
       "      <td>0</td>\n",
       "      <td>0</td>\n",
       "      <td>0</td>\n",
       "      <td>0</td>\n",
       "      <td>0</td>\n",
       "      <td>0</td>\n",
       "      <td>0</td>\n",
       "      <td>...</td>\n",
       "      <td>0</td>\n",
       "      <td>0</td>\n",
       "      <td>0</td>\n",
       "      <td>0</td>\n",
       "      <td>0</td>\n",
       "      <td>0</td>\n",
       "      <td>0</td>\n",
       "      <td>0</td>\n",
       "      <td>0</td>\n",
       "      <td>0</td>\n",
       "    </tr>\n",
       "  </tbody>\n",
       "</table>\n",
       "<p>4 rows × 911 columns</p>\n",
       "</div>"
      ],
      "text/plain": [
       "                                 gmap_id  'Afghani restaurant'  \\\n",
       "0  0x80c2c778e3b73d33:0xbdc58662a4a97d49                     0   \n",
       "1  0x80dd2b4c8555edb7:0xfc33d65c4bdbef42                     0   \n",
       "2  0x88dae191ee505917:0x6ba3e25388d3fad4                     0   \n",
       "3   0x80c2baf50d29bf63:0x5bd904b842b9fcc                     0   \n",
       "\n",
       "   'African restaurant'  'African restaurant']  'American restaurant'  \\\n",
       "0                     0                      0                      0   \n",
       "1                     0                      0                      0   \n",
       "2                     0                      0                      0   \n",
       "3                     0                      0                      0   \n",
       "\n",
       "   'American restaurant']  'Argentinian restaurant'  'Armenian restaurant'  \\\n",
       "0                       0                         0                      0   \n",
       "1                       0                         0                      0   \n",
       "2                       0                         0                      0   \n",
       "3                       0                         0                      0   \n",
       "\n",
       "   'Armenian restaurant']  'Art cafe'  ...  ['Wedding bakery']  \\\n",
       "0                       0           0  ...                   0   \n",
       "1                       0           0  ...                   0   \n",
       "2                       0           0  ...                   0   \n",
       "3                       0           0  ...                   0   \n",
       "\n",
       "   ['West African restaurant'  ['West African restaurant']  \\\n",
       "0                           0                            0   \n",
       "1                           0                            0   \n",
       "2                           0                            0   \n",
       "3                           0                            0   \n",
       "\n",
       "   ['Wholesale bakery'  ['Wholesale bakery']  ['Winery'  ['Wok restaurant'  \\\n",
       "0                    0                     0          0                  0   \n",
       "1                    0                     0          0                  0   \n",
       "2                    0                     0          0                  0   \n",
       "3                    0                     0          0                  0   \n",
       "\n",
       "   ['Wok restaurant']  ['Yakitori restaurant']  ['Yemenite restaurant']  \n",
       "0                   0                        0                        0  \n",
       "1                   0                        0                        0  \n",
       "2                   0                        0                        0  \n",
       "3                   0                        0                        0  \n",
       "\n",
       "[4 rows x 911 columns]"
      ]
     },
     "execution_count": 33,
     "metadata": {},
     "output_type": "execute_result"
    }
   ],
   "source": [
    "# Vemos el resultado:\n",
    "restaurante_category_dummies.head(4)"
   ]
  },
  {
   "cell_type": "code",
   "execution_count": 34,
   "metadata": {},
   "outputs": [
    {
     "data": {
      "text/html": [
       "<div>\n",
       "<style scoped>\n",
       "    .dataframe tbody tr th:only-of-type {\n",
       "        vertical-align: middle;\n",
       "    }\n",
       "\n",
       "    .dataframe tbody tr th {\n",
       "        vertical-align: top;\n",
       "    }\n",
       "\n",
       "    .dataframe thead th {\n",
       "        text-align: right;\n",
       "    }\n",
       "</style>\n",
       "<table border=\"1\" class=\"dataframe\">\n",
       "  <thead>\n",
       "    <tr style=\"text-align: right;\">\n",
       "      <th></th>\n",
       "      <th>name</th>\n",
       "      <th>address</th>\n",
       "      <th>state</th>\n",
       "      <th>city</th>\n",
       "      <th>postal_code</th>\n",
       "      <th>latitude</th>\n",
       "      <th>longitude</th>\n",
       "      <th>avg_rating</th>\n",
       "      <th>num_of_reviews</th>\n",
       "      <th>price_numeric</th>\n",
       "      <th>gmap_id</th>\n",
       "    </tr>\n",
       "  </thead>\n",
       "  <tbody>\n",
       "    <tr>\n",
       "      <th>0</th>\n",
       "      <td>San Soo Dang</td>\n",
       "      <td>San Soo Dang, 761 S Vermont Ave, Los Angeles, ...</td>\n",
       "      <td>California</td>\n",
       "      <td>Los Angeles</td>\n",
       "      <td>90005</td>\n",
       "      <td>34.058092</td>\n",
       "      <td>-118.292130</td>\n",
       "      <td>4.4</td>\n",
       "      <td>18</td>\n",
       "      <td>0</td>\n",
       "      <td>0x80c2c778e3b73d33:0xbdc58662a4a97d49</td>\n",
       "    </tr>\n",
       "    <tr>\n",
       "      <th>1</th>\n",
       "      <td>Vons Chicken</td>\n",
       "      <td>Vons Chicken, 12740 La Mirada Blvd, La Mirada,...</td>\n",
       "      <td>California</td>\n",
       "      <td>La Mirada</td>\n",
       "      <td>90638</td>\n",
       "      <td>33.916402</td>\n",
       "      <td>-118.010855</td>\n",
       "      <td>4.5</td>\n",
       "      <td>18</td>\n",
       "      <td>0</td>\n",
       "      <td>0x80dd2b4c8555edb7:0xfc33d65c4bdbef42</td>\n",
       "    </tr>\n",
       "    <tr>\n",
       "      <th>2</th>\n",
       "      <td>Oneyda's Bakery</td>\n",
       "      <td>Oneyda's Bakery, 600 Goodlette-Frank Rd #101, ...</td>\n",
       "      <td>Florida</td>\n",
       "      <td>Naples</td>\n",
       "      <td>34102</td>\n",
       "      <td>26.154754</td>\n",
       "      <td>-81.790528</td>\n",
       "      <td>4.6</td>\n",
       "      <td>19</td>\n",
       "      <td>1</td>\n",
       "      <td>0x88dae191ee505917:0x6ba3e25388d3fad4</td>\n",
       "    </tr>\n",
       "  </tbody>\n",
       "</table>\n",
       "</div>"
      ],
      "text/plain": [
       "              name                                            address  \\\n",
       "0     San Soo Dang  San Soo Dang, 761 S Vermont Ave, Los Angeles, ...   \n",
       "1     Vons Chicken  Vons Chicken, 12740 La Mirada Blvd, La Mirada,...   \n",
       "2  Oneyda's Bakery  Oneyda's Bakery, 600 Goodlette-Frank Rd #101, ...   \n",
       "\n",
       "        state         city postal_code   latitude   longitude  avg_rating  \\\n",
       "0  California  Los Angeles       90005  34.058092 -118.292130         4.4   \n",
       "1  California    La Mirada       90638  33.916402 -118.010855         4.5   \n",
       "2     Florida       Naples       34102  26.154754  -81.790528         4.6   \n",
       "\n",
       "   num_of_reviews  price_numeric                                gmap_id  \n",
       "0              18              0  0x80c2c778e3b73d33:0xbdc58662a4a97d49  \n",
       "1              18              0  0x80dd2b4c8555edb7:0xfc33d65c4bdbef42  \n",
       "2              19              1  0x88dae191ee505917:0x6ba3e25388d3fad4  "
      ]
     },
     "execution_count": 34,
     "metadata": {},
     "output_type": "execute_result"
    }
   ],
   "source": [
    "df_restaurantes.head(3)"
   ]
  },
  {
   "cell_type": "markdown",
   "metadata": {},
   "source": [
    "**Verificamos la integridad de los datos:**\n",
    "\n",
    "Verificamos los duplicados por una clave y eliminamos:"
   ]
  },
  {
   "cell_type": "code",
   "execution_count": 41,
   "metadata": {},
   "outputs": [
    {
     "name": "stdout",
     "output_type": "stream",
     "text": [
      "Potenciales duplicados ordenados por nombre:\n"
     ]
    },
    {
     "data": {
      "text/html": [
       "<div>\n",
       "<style scoped>\n",
       "    .dataframe tbody tr th:only-of-type {\n",
       "        vertical-align: middle;\n",
       "    }\n",
       "\n",
       "    .dataframe tbody tr th {\n",
       "        vertical-align: top;\n",
       "    }\n",
       "\n",
       "    .dataframe thead th {\n",
       "        text-align: right;\n",
       "    }\n",
       "</style>\n",
       "<table border=\"1\" class=\"dataframe\">\n",
       "  <thead>\n",
       "    <tr style=\"text-align: right;\">\n",
       "      <th></th>\n",
       "      <th>name</th>\n",
       "      <th>address</th>\n",
       "      <th>state</th>\n",
       "      <th>city</th>\n",
       "      <th>postal_code</th>\n",
       "      <th>latitude</th>\n",
       "      <th>longitude</th>\n",
       "      <th>avg_rating</th>\n",
       "      <th>num_of_reviews</th>\n",
       "      <th>price_numeric</th>\n",
       "      <th>gmap_id</th>\n",
       "    </tr>\n",
       "  </thead>\n",
       "  <tbody>\n",
       "    <tr>\n",
       "      <th>63</th>\n",
       "      <td>1903 Taphouse &amp; Co.</td>\n",
       "      <td>1903 Taphouse &amp; Co., 175 N Main St, Bishop, CA...</td>\n",
       "      <td>California</td>\n",
       "      <td>Bishop</td>\n",
       "      <td>93514</td>\n",
       "      <td>37.361898</td>\n",
       "      <td>-118.395555</td>\n",
       "      <td>4.7</td>\n",
       "      <td>8</td>\n",
       "      <td>0</td>\n",
       "      <td>0x80be3dd544115ed9:0x5d500f8046469ea3</td>\n",
       "    </tr>\n",
       "    <tr>\n",
       "      <th>197</th>\n",
       "      <td>1903 Taphouse &amp; Co.</td>\n",
       "      <td>1903 Taphouse &amp; Co., 175 N Main St, Bishop, CA...</td>\n",
       "      <td>California</td>\n",
       "      <td>Bishop</td>\n",
       "      <td>93514</td>\n",
       "      <td>37.361898</td>\n",
       "      <td>-118.395555</td>\n",
       "      <td>4.7</td>\n",
       "      <td>8</td>\n",
       "      <td>0</td>\n",
       "      <td>0x80be3dd544115ed9:0x5d500f8046469ea3</td>\n",
       "    </tr>\n",
       "    <tr>\n",
       "      <th>10705</th>\n",
       "      <td>2 Korean Girls</td>\n",
       "      <td>2 Korean Girls, 2801a Florida Ave, Coconut Gro...</td>\n",
       "      <td>Florida</td>\n",
       "      <td>Coconut Grove</td>\n",
       "      <td>33133</td>\n",
       "      <td>25.729263</td>\n",
       "      <td>-80.240075</td>\n",
       "      <td>4.6</td>\n",
       "      <td>45</td>\n",
       "      <td>0</td>\n",
       "      <td>0x88d9b76485f1a105:0x92bc2888314d41f4</td>\n",
       "    </tr>\n",
       "    <tr>\n",
       "      <th>596</th>\n",
       "      <td>2 Korean Girls</td>\n",
       "      <td>2 Korean Girls, 2801a Florida Ave, Coconut Gro...</td>\n",
       "      <td>Florida</td>\n",
       "      <td>Coconut Grove</td>\n",
       "      <td>33133</td>\n",
       "      <td>25.729263</td>\n",
       "      <td>-80.240075</td>\n",
       "      <td>4.6</td>\n",
       "      <td>58</td>\n",
       "      <td>0</td>\n",
       "      <td>0x88d9b1e28cc6f4db:0x4dc90cfb7b4f01b7</td>\n",
       "    </tr>\n",
       "  </tbody>\n",
       "</table>\n",
       "</div>"
      ],
      "text/plain": [
       "                      name                                            address  \\\n",
       "63     1903 Taphouse & Co.  1903 Taphouse & Co., 175 N Main St, Bishop, CA...   \n",
       "197    1903 Taphouse & Co.  1903 Taphouse & Co., 175 N Main St, Bishop, CA...   \n",
       "10705       2 Korean Girls  2 Korean Girls, 2801a Florida Ave, Coconut Gro...   \n",
       "596         2 Korean Girls  2 Korean Girls, 2801a Florida Ave, Coconut Gro...   \n",
       "\n",
       "            state           city postal_code   latitude   longitude  \\\n",
       "63     California         Bishop       93514  37.361898 -118.395555   \n",
       "197    California         Bishop       93514  37.361898 -118.395555   \n",
       "10705     Florida  Coconut Grove       33133  25.729263  -80.240075   \n",
       "596       Florida  Coconut Grove       33133  25.729263  -80.240075   \n",
       "\n",
       "       avg_rating  num_of_reviews  price_numeric  \\\n",
       "63            4.7               8              0   \n",
       "197           4.7               8              0   \n",
       "10705         4.6              45              0   \n",
       "596           4.6              58              0   \n",
       "\n",
       "                                     gmap_id  \n",
       "63     0x80be3dd544115ed9:0x5d500f8046469ea3  \n",
       "197    0x80be3dd544115ed9:0x5d500f8046469ea3  \n",
       "10705  0x88d9b76485f1a105:0x92bc2888314d41f4  \n",
       "596    0x88d9b1e28cc6f4db:0x4dc90cfb7b4f01b7  "
      ]
     },
     "execution_count": 41,
     "metadata": {},
     "output_type": "execute_result"
    }
   ],
   "source": [
    "clave = ['name', 'address', 'city', 'postal_code']\n",
    "duplicados = df_restaurantes.duplicated(subset=clave, keep=False)\n",
    "\n",
    "duplicados_potenciales = df_restaurantes[duplicados]\n",
    "\n",
    "sorted_duplicados_potenciales = duplicados_potenciales.sort_values(by='name')\n",
    "\n",
    "print(\"Potenciales duplicados ordenados por nombre:\")\n",
    "sorted_duplicados_potenciales.head(4)"
   ]
  },
  {
   "cell_type": "code",
   "execution_count": 42,
   "metadata": {},
   "outputs": [],
   "source": [
    "# Eliminamos duplicados:\n",
    "df_restaurantes.drop_duplicates(subset=clave, inplace=True)"
   ]
  },
  {
   "cell_type": "code",
   "execution_count": 44,
   "metadata": {},
   "outputs": [
    {
     "data": {
      "text/html": [
       "<div>\n",
       "<style scoped>\n",
       "    .dataframe tbody tr th:only-of-type {\n",
       "        vertical-align: middle;\n",
       "    }\n",
       "\n",
       "    .dataframe tbody tr th {\n",
       "        vertical-align: top;\n",
       "    }\n",
       "\n",
       "    .dataframe thead th {\n",
       "        text-align: right;\n",
       "    }\n",
       "</style>\n",
       "<table border=\"1\" class=\"dataframe\">\n",
       "  <thead>\n",
       "    <tr style=\"text-align: right;\">\n",
       "      <th></th>\n",
       "      <th>name</th>\n",
       "      <th>address</th>\n",
       "      <th>state</th>\n",
       "      <th>city</th>\n",
       "      <th>postal_code</th>\n",
       "      <th>latitude</th>\n",
       "      <th>longitude</th>\n",
       "      <th>avg_rating</th>\n",
       "      <th>num_of_reviews</th>\n",
       "      <th>price_numeric</th>\n",
       "      <th>gmap_id</th>\n",
       "    </tr>\n",
       "  </thead>\n",
       "  <tbody>\n",
       "  </tbody>\n",
       "</table>\n",
       "</div>"
      ],
      "text/plain": [
       "Empty DataFrame\n",
       "Columns: [name, address, state, city, postal_code, latitude, longitude, avg_rating, num_of_reviews, price_numeric, gmap_id]\n",
       "Index: []"
      ]
     },
     "execution_count": 44,
     "metadata": {},
     "output_type": "execute_result"
    }
   ],
   "source": [
    "# Verificamos\n",
    "duplicados = df_restaurantes.duplicated(subset=clave, keep=False)\n",
    "\n",
    "duplicados_potenciales = df_restaurantes[duplicados]\n",
    "\n",
    "sorted_duplicados_potenciales = duplicados_potenciales.sort_values(by='name')\n",
    "\n",
    "sorted_duplicados_potenciales.head(4)"
   ]
  },
  {
   "cell_type": "markdown",
   "metadata": {},
   "source": [
    "**Verificamos valores faltantes**  \n",
    "\n",
    "Tanto en todas las columnas como en la columna 'address':"
   ]
  },
  {
   "cell_type": "code",
   "execution_count": 45,
   "metadata": {},
   "outputs": [
    {
     "name": "stdout",
     "output_type": "stream",
     "text": [
      "Count of missing values in each column: name                 0\n",
      "address             17\n",
      "state                0\n",
      "city               134\n",
      "postal_code       1663\n",
      "latitude             0\n",
      "longitude            0\n",
      "avg_rating           0\n",
      "num_of_reviews       0\n",
      "price_numeric        0\n",
      "gmap_id              0\n",
      "dtype: int64\n"
     ]
    }
   ],
   "source": [
    "nulos_count = df_restaurantes.isnull().sum()\n",
    "print(f\"Count of missing values in each column: {nulos_count}\")"
   ]
  },
  {
   "cell_type": "code",
   "execution_count": 46,
   "metadata": {},
   "outputs": [
    {
     "name": "stdout",
     "output_type": "stream",
     "text": [
      "Filas con al menos un valor nulo:\n"
     ]
    },
    {
     "data": {
      "text/html": [
       "<div>\n",
       "<style scoped>\n",
       "    .dataframe tbody tr th:only-of-type {\n",
       "        vertical-align: middle;\n",
       "    }\n",
       "\n",
       "    .dataframe tbody tr th {\n",
       "        vertical-align: top;\n",
       "    }\n",
       "\n",
       "    .dataframe thead th {\n",
       "        text-align: right;\n",
       "    }\n",
       "</style>\n",
       "<table border=\"1\" class=\"dataframe\">\n",
       "  <thead>\n",
       "    <tr style=\"text-align: right;\">\n",
       "      <th></th>\n",
       "      <th>name</th>\n",
       "      <th>address</th>\n",
       "      <th>state</th>\n",
       "      <th>city</th>\n",
       "      <th>postal_code</th>\n",
       "      <th>latitude</th>\n",
       "      <th>longitude</th>\n",
       "      <th>avg_rating</th>\n",
       "      <th>num_of_reviews</th>\n",
       "      <th>price_numeric</th>\n",
       "      <th>gmap_id</th>\n",
       "    </tr>\n",
       "  </thead>\n",
       "  <tbody>\n",
       "    <tr>\n",
       "      <th>25</th>\n",
       "      <td>李小龍台吃</td>\n",
       "      <td>〒11362 New York, Queens, Northern Blvd, 李小龍台吃</td>\n",
       "      <td>New_York</td>\n",
       "      <td>NaN</td>\n",
       "      <td>NaN</td>\n",
       "      <td>40.770059</td>\n",
       "      <td>-73.735522</td>\n",
       "      <td>4.0</td>\n",
       "      <td>27</td>\n",
       "      <td>0</td>\n",
       "      <td>0x89c289efdb82221b:0xed627c2af97c2069</td>\n",
       "    </tr>\n",
       "    <tr>\n",
       "      <th>601</th>\n",
       "      <td>Me Bakery</td>\n",
       "      <td>New York, Flushing, 47th Ave, Me Bakery邮政编码: 1...</td>\n",
       "      <td>New_York</td>\n",
       "      <td>NaN</td>\n",
       "      <td>11358</td>\n",
       "      <td>40.752362</td>\n",
       "      <td>-73.785966</td>\n",
       "      <td>4.5</td>\n",
       "      <td>24</td>\n",
       "      <td>0</td>\n",
       "      <td>0x89c261a1df3470c3:0x1e414e9bf91c369f</td>\n",
       "    </tr>\n",
       "    <tr>\n",
       "      <th>613</th>\n",
       "      <td>Dada Sushi</td>\n",
       "      <td>92562 California, Murrieta, California Oaks Rd...</td>\n",
       "      <td>California</td>\n",
       "      <td>NaN</td>\n",
       "      <td>NaN</td>\n",
       "      <td>33.574236</td>\n",
       "      <td>-117.204089</td>\n",
       "      <td>4.2</td>\n",
       "      <td>34</td>\n",
       "      <td>0</td>\n",
       "      <td>0x80dc8385c954fc1f:0xa65cf0047f021902</td>\n",
       "    </tr>\n",
       "  </tbody>\n",
       "</table>\n",
       "</div>"
      ],
      "text/plain": [
       "           name                                            address  \\\n",
       "25        李小龍台吃      〒11362 New York, Queens, Northern Blvd, 李小龍台吃   \n",
       "601   Me Bakery  New York, Flushing, 47th Ave, Me Bakery邮政编码: 1...   \n",
       "613  Dada Sushi  92562 California, Murrieta, California Oaks Rd...   \n",
       "\n",
       "          state city postal_code   latitude   longitude  avg_rating  \\\n",
       "25     New_York  NaN         NaN  40.770059  -73.735522         4.0   \n",
       "601    New_York  NaN       11358  40.752362  -73.785966         4.5   \n",
       "613  California  NaN         NaN  33.574236 -117.204089         4.2   \n",
       "\n",
       "     num_of_reviews  price_numeric                                gmap_id  \n",
       "25               27              0  0x89c289efdb82221b:0xed627c2af97c2069  \n",
       "601              24              0  0x89c261a1df3470c3:0x1e414e9bf91c369f  \n",
       "613              34              0  0x80dc8385c954fc1f:0xa65cf0047f021902  "
      ]
     },
     "execution_count": 46,
     "metadata": {},
     "output_type": "execute_result"
    }
   ],
   "source": [
    "filas_con_nulos = df_restaurantes[df_restaurantes.isnull().any(axis=1)]\n",
    "print(\"Filas con al menos un valor nulo:\")\n",
    "filas_con_nulos.head(3)"
   ]
  },
  {
   "cell_type": "markdown",
   "metadata": {},
   "source": [
    "Establecimientos con nulos en la columna 'address':"
   ]
  },
  {
   "cell_type": "code",
   "execution_count": 47,
   "metadata": {},
   "outputs": [
    {
     "data": {
      "text/html": [
       "<div>\n",
       "<style scoped>\n",
       "    .dataframe tbody tr th:only-of-type {\n",
       "        vertical-align: middle;\n",
       "    }\n",
       "\n",
       "    .dataframe tbody tr th {\n",
       "        vertical-align: top;\n",
       "    }\n",
       "\n",
       "    .dataframe thead th {\n",
       "        text-align: right;\n",
       "    }\n",
       "</style>\n",
       "<table border=\"1\" class=\"dataframe\">\n",
       "  <thead>\n",
       "    <tr style=\"text-align: right;\">\n",
       "      <th></th>\n",
       "      <th>name</th>\n",
       "      <th>address</th>\n",
       "      <th>state</th>\n",
       "      <th>city</th>\n",
       "      <th>postal_code</th>\n",
       "      <th>latitude</th>\n",
       "      <th>longitude</th>\n",
       "      <th>avg_rating</th>\n",
       "      <th>num_of_reviews</th>\n",
       "      <th>price_numeric</th>\n",
       "      <th>gmap_id</th>\n",
       "    </tr>\n",
       "  </thead>\n",
       "  <tbody>\n",
       "    <tr>\n",
       "      <th>2392</th>\n",
       "      <td>Pasquale's Pizzeria and Restaurant at Wallkill</td>\n",
       "      <td>None</td>\n",
       "      <td>New_York</td>\n",
       "      <td>None</td>\n",
       "      <td>None</td>\n",
       "      <td>41.710932</td>\n",
       "      <td>-74.112969</td>\n",
       "      <td>4.1</td>\n",
       "      <td>54</td>\n",
       "      <td>0</td>\n",
       "      <td>0x89dd29ab5dd170f1:0x7cb3c8e119a5bbe9</td>\n",
       "    </tr>\n",
       "    <tr>\n",
       "      <th>2967</th>\n",
       "      <td>Namaste Tashi Delek</td>\n",
       "      <td>None</td>\n",
       "      <td>New_York</td>\n",
       "      <td>None</td>\n",
       "      <td>None</td>\n",
       "      <td>40.759291</td>\n",
       "      <td>-73.884518</td>\n",
       "      <td>4.3</td>\n",
       "      <td>95</td>\n",
       "      <td>0</td>\n",
       "      <td>0x89c25f072d742ce9:0x2a930399a15215e3</td>\n",
       "    </tr>\n",
       "    <tr>\n",
       "      <th>10126</th>\n",
       "      <td>Sabaidee Thai Grille</td>\n",
       "      <td>None</td>\n",
       "      <td>California</td>\n",
       "      <td>None</td>\n",
       "      <td>None</td>\n",
       "      <td>37.275179</td>\n",
       "      <td>-119.273197</td>\n",
       "      <td>4.0</td>\n",
       "      <td>38</td>\n",
       "      <td>0</td>\n",
       "      <td>0x809ac6a6aa8b8cdf:0xeb219547c732cc3c</td>\n",
       "    </tr>\n",
       "  </tbody>\n",
       "</table>\n",
       "</div>"
      ],
      "text/plain": [
       "                                                 name address       state  \\\n",
       "2392   Pasquale's Pizzeria and Restaurant at Wallkill    None    New_York   \n",
       "2967                              Namaste Tashi Delek    None    New_York   \n",
       "10126                            Sabaidee Thai Grille    None  California   \n",
       "\n",
       "       city postal_code   latitude   longitude  avg_rating  num_of_reviews  \\\n",
       "2392   None        None  41.710932  -74.112969         4.1              54   \n",
       "2967   None        None  40.759291  -73.884518         4.3              95   \n",
       "10126  None        None  37.275179 -119.273197         4.0              38   \n",
       "\n",
       "       price_numeric                                gmap_id  \n",
       "2392               0  0x89dd29ab5dd170f1:0x7cb3c8e119a5bbe9  \n",
       "2967               0  0x89c25f072d742ce9:0x2a930399a15215e3  \n",
       "10126              0  0x809ac6a6aa8b8cdf:0xeb219547c732cc3c  "
      ]
     },
     "execution_count": 47,
     "metadata": {},
     "output_type": "execute_result"
    }
   ],
   "source": [
    "address_nulo = df_restaurantes[df_restaurantes['address'].isnull()]\n",
    "address_nulo.head(3)"
   ]
  },
  {
   "cell_type": "markdown",
   "metadata": {},
   "source": [
    "Buscando en google maps o en la web manualmente las direcciones (latitud y longitud) de estos establecimientos sin datos en la columna 'address',  \n",
    "entendimos que estos son establecimientos cerrados o nunca existieron en primer lugar. Por estas razones seran eliminados:"
   ]
  },
  {
   "cell_type": "code",
   "execution_count": 48,
   "metadata": {},
   "outputs": [],
   "source": [
    "df_restaurantes = df_restaurantes.dropna(subset=['address'])"
   ]
  },
  {
   "cell_type": "markdown",
   "metadata": {},
   "source": [
    "Verificamos nuevamente los nulos del dataframe:"
   ]
  },
  {
   "cell_type": "code",
   "execution_count": 49,
   "metadata": {},
   "outputs": [
    {
     "data": {
      "text/plain": [
       "name                 0\n",
       "address              0\n",
       "state                0\n",
       "city               117\n",
       "postal_code       1646\n",
       "latitude             0\n",
       "longitude            0\n",
       "avg_rating           0\n",
       "num_of_reviews       0\n",
       "price_numeric        0\n",
       "gmap_id              0\n",
       "dtype: int64"
      ]
     },
     "execution_count": 49,
     "metadata": {},
     "output_type": "execute_result"
    }
   ],
   "source": [
    "df_restaurantes.isna().sum()"
   ]
  },
  {
   "cell_type": "markdown",
   "metadata": {},
   "source": [
    "Por practicidad cambiaremos los nulos en 'SD' (Sin Dato), para la columna 'city' y para la columna 'postal_code': 0000 (Lo mismo que Sin Dato pero en código postal)"
   ]
  },
  {
   "cell_type": "code",
   "execution_count": 51,
   "metadata": {},
   "outputs": [],
   "source": [
    "df_restaurantes[\"city\"] = df_restaurantes[\"city\"].fillna(\"SD\")\n",
    "\n",
    "df_restaurantes[\"postal_code\"] = df_restaurantes[\"postal_code\"].fillna(\"0000\")"
   ]
  },
  {
   "cell_type": "code",
   "execution_count": 55,
   "metadata": {},
   "outputs": [
    {
     "name": "stdout",
     "output_type": "stream",
     "text": [
      "<class 'pandas.core.frame.DataFrame'>\n",
      "Index: 19793 entries, 0 to 19947\n",
      "Data columns (total 11 columns):\n",
      " #   Column          Non-Null Count  Dtype  \n",
      "---  ------          --------------  -----  \n",
      " 0   name            19793 non-null  object \n",
      " 1   address         19793 non-null  object \n",
      " 2   state           19793 non-null  object \n",
      " 3   city            19793 non-null  object \n",
      " 4   postal_code     19793 non-null  object \n",
      " 5   latitude        19793 non-null  float64\n",
      " 6   longitude       19793 non-null  float64\n",
      " 7   avg_rating      19793 non-null  float64\n",
      " 8   num_of_reviews  19793 non-null  int64  \n",
      " 9   price_numeric   19793 non-null  int32  \n",
      " 10  gmap_id         19793 non-null  object \n",
      "dtypes: float64(3), int32(1), int64(1), object(6)\n",
      "memory usage: 1.7+ MB\n"
     ]
    }
   ],
   "source": [
    "# Verificamos:\n",
    "df_restaurantes.info()"
   ]
  },
  {
   "cell_type": "markdown",
   "metadata": {},
   "source": [
    "Observamos los tipos de datos de las columnas, vemo que 'postal_code' es tipo object. Lo cambiaremos a int:"
   ]
  },
  {
   "cell_type": "code",
   "execution_count": 56,
   "metadata": {},
   "outputs": [],
   "source": [
    "df_restaurantes[\"postal_code\"] = df_restaurantes[\"postal_code\"].astype(int)"
   ]
  },
  {
   "cell_type": "markdown",
   "metadata": {},
   "source": [
    "## **Carga de Datos:**  \n",
    "\n",
    "Guardaremos nuestros dataframes en archivos parquet:"
   ]
  },
  {
   "cell_type": "markdown",
   "metadata": {},
   "source": [
    "Datos de los restaurantes, Dataframe 'df_restaurantes'. Lo usaremos para filtrar información de las reviews principalmente y luego para análisis."
   ]
  },
  {
   "cell_type": "code",
   "execution_count": 57,
   "metadata": {},
   "outputs": [],
   "source": [
    "df_restaurantes.to_parquet(\"../../Data/data_procesada/restaurantes.parquet\")"
   ]
  },
  {
   "cell_type": "markdown",
   "metadata": {},
   "source": [
    "Datos dummies de las categorias de los restaurantes, Dataframe 'restaurante_category_dummies'. Lo usaremos para los modelos de ML."
   ]
  },
  {
   "cell_type": "code",
   "execution_count": 58,
   "metadata": {},
   "outputs": [],
   "source": [
    "restaurante_category_dummies.to_parquet(\"../../Data/data_procesada/dummies_restaurantes.parquet\")"
   ]
  }
 ],
 "metadata": {
  "kernelspec": {
   "display_name": "venv",
   "language": "python",
   "name": "python3"
  },
  "language_info": {
   "codemirror_mode": {
    "name": "ipython",
    "version": 3
   },
   "file_extension": ".py",
   "mimetype": "text/x-python",
   "name": "python",
   "nbconvert_exporter": "python",
   "pygments_lexer": "ipython3",
   "version": "3.10.11"
  }
 },
 "nbformat": 4,
 "nbformat_minor": 2
}
