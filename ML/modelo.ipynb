{
 "cells": [
  {
   "cell_type": "code",
<<<<<<< HEAD
   "execution_count": 25,
=======
   "execution_count": 64,
>>>>>>> 0daa6cd32800e244ffb83fc4a2c70e5b63d17239
   "metadata": {},
   "outputs": [],
   "source": [
    "from sklearn.model_selection import train_test_split\n",
    "from sklearn.ensemble import RandomForestClassifier\n",
    "from sklearn.metrics import classification_report\n",
    "from sklearn.metrics import accuracy_score\n",
    "import pyarrow.csv as pv\n",
    "import pyarrow.parquet as pq\n",
    "import pandas as pd\n",
    "from sklearn.preprocessing import LabelEncoder\n",
    "from sklearn.preprocessing import StandardScaler\n",
    "import seaborn as sns\n",
    "import matplotlib.pyplot as plt\n",
    "import numpy as np\n",
    "from sklearn.model_selection import RandomizedSearchCV\n",
    "from sklearn.model_selection import GridSearchCV\n",
<<<<<<< HEAD
    "from imblearn.over_sampling import SMOTE\n",
    "from sklearn.model_selection import train_test_split, GridSearchCV, cross_val_score\n",
    "from sklearn.ensemble import RandomForestClassifier\n",
    "from sklearn.metrics import accuracy_score, confusion_matrix, classification_report\n",
    "from sklearn.utils.class_weight import compute_class_weight\n"
=======
    "from imblearn.over_sampling import SMOTE\n"
>>>>>>> 0daa6cd32800e244ffb83fc4a2c70e5b63d17239
   ]
  },
  {
   "cell_type": "code",
<<<<<<< HEAD
   "execution_count": 7,
=======
   "execution_count": 15,
>>>>>>> 0daa6cd32800e244ffb83fc4a2c70e5b63d17239
   "metadata": {},
   "outputs": [
    {
     "data": {
      "text/html": [
       "<div>\n",
       "<style scoped>\n",
       "    .dataframe tbody tr th:only-of-type {\n",
       "        vertical-align: middle;\n",
       "    }\n",
       "\n",
       "    .dataframe tbody tr th {\n",
       "        vertical-align: top;\n",
       "    }\n",
       "\n",
       "    .dataframe thead th {\n",
       "        text-align: right;\n",
       "    }\n",
       "</style>\n",
       "<table border=\"1\" class=\"dataframe\">\n",
       "  <thead>\n",
       "    <tr style=\"text-align: right;\">\n",
       "      <th></th>\n",
       "      <th>id_business</th>\n",
       "      <th>name</th>\n",
       "      <th>city</th>\n",
       "      <th>state</th>\n",
       "      <th>stars</th>\n",
       "      <th>review_count</th>\n",
       "      <th>is_open</th>\n",
       "      <th>categories</th>\n",
       "      <th>sentimiento</th>\n",
       "      <th>sentimiento_escalado</th>\n",
       "    </tr>\n",
       "  </thead>\n",
       "  <tbody>\n",
       "    <tr>\n",
       "      <th>0</th>\n",
       "      <td>0</td>\n",
       "      <td>Abby Rappoport, LAC, CMQ</td>\n",
       "      <td>Santa Barbara</td>\n",
       "      <td>California</td>\n",
       "      <td>5.0</td>\n",
       "      <td>7</td>\n",
       "      <td>0</td>\n",
       "      <td>Doctors</td>\n",
       "      <td>0.156047</td>\n",
       "      <td>5.780235</td>\n",
       "    </tr>\n",
       "    <tr>\n",
       "      <th>1</th>\n",
       "      <td>0</td>\n",
       "      <td>Abby Rappoport, LAC, CMQ</td>\n",
       "      <td>Santa Barbara</td>\n",
       "      <td>California</td>\n",
       "      <td>5.0</td>\n",
       "      <td>7</td>\n",
       "      <td>0</td>\n",
       "      <td>Traditional Chinese Medicine</td>\n",
       "      <td>0.156047</td>\n",
       "      <td>5.780235</td>\n",
       "    </tr>\n",
       "    <tr>\n",
       "      <th>2</th>\n",
       "      <td>0</td>\n",
       "      <td>Abby Rappoport, LAC, CMQ</td>\n",
       "      <td>Santa Barbara</td>\n",
       "      <td>California</td>\n",
       "      <td>5.0</td>\n",
       "      <td>7</td>\n",
       "      <td>0</td>\n",
       "      <td>Naturopathic/Holistic</td>\n",
       "      <td>0.156047</td>\n",
       "      <td>5.780235</td>\n",
       "    </tr>\n",
       "    <tr>\n",
       "      <th>3</th>\n",
       "      <td>0</td>\n",
       "      <td>Abby Rappoport, LAC, CMQ</td>\n",
       "      <td>Santa Barbara</td>\n",
       "      <td>California</td>\n",
       "      <td>5.0</td>\n",
       "      <td>7</td>\n",
       "      <td>0</td>\n",
       "      <td>Acupuncture</td>\n",
       "      <td>0.156047</td>\n",
       "      <td>5.780235</td>\n",
       "    </tr>\n",
       "    <tr>\n",
       "      <th>4</th>\n",
       "      <td>0</td>\n",
       "      <td>Abby Rappoport, LAC, CMQ</td>\n",
       "      <td>Santa Barbara</td>\n",
       "      <td>California</td>\n",
       "      <td>5.0</td>\n",
       "      <td>7</td>\n",
       "      <td>0</td>\n",
       "      <td>Health &amp; Medical</td>\n",
       "      <td>0.156047</td>\n",
       "      <td>5.780235</td>\n",
       "    </tr>\n",
       "    <tr>\n",
       "      <th>...</th>\n",
       "      <td>...</td>\n",
       "      <td>...</td>\n",
       "      <td>...</td>\n",
       "      <td>...</td>\n",
       "      <td>...</td>\n",
       "      <td>...</td>\n",
       "      <td>...</td>\n",
       "      <td>...</td>\n",
       "      <td>...</td>\n",
       "      <td>...</td>\n",
       "    </tr>\n",
       "    <tr>\n",
       "      <th>328695</th>\n",
       "      <td>150339</td>\n",
       "      <td>The Plum Pit</td>\n",
       "      <td>Aston</td>\n",
       "      <td>Pennsylvania</td>\n",
       "      <td>4.5</td>\n",
       "      <td>14</td>\n",
       "      <td>1</td>\n",
       "      <td>Event Planning &amp; Services</td>\n",
       "      <td>0.353181</td>\n",
       "      <td>6.765904</td>\n",
       "    </tr>\n",
       "    <tr>\n",
       "      <th>328696</th>\n",
       "      <td>150345</td>\n",
       "      <td>Sic Ink</td>\n",
       "      <td>Apollo beach</td>\n",
       "      <td>Florida</td>\n",
       "      <td>4.5</td>\n",
       "      <td>9</td>\n",
       "      <td>1</td>\n",
       "      <td>Beauty &amp; Spas</td>\n",
       "      <td>0.270913</td>\n",
       "      <td>6.354563</td>\n",
       "    </tr>\n",
       "    <tr>\n",
       "      <th>328697</th>\n",
       "      <td>150345</td>\n",
       "      <td>Sic Ink</td>\n",
       "      <td>Apollo beach</td>\n",
       "      <td>Florida</td>\n",
       "      <td>4.5</td>\n",
       "      <td>9</td>\n",
       "      <td>1</td>\n",
       "      <td>Permanent Makeup</td>\n",
       "      <td>0.270913</td>\n",
       "      <td>6.354563</td>\n",
       "    </tr>\n",
       "    <tr>\n",
       "      <th>328698</th>\n",
       "      <td>150345</td>\n",
       "      <td>Sic Ink</td>\n",
       "      <td>Apollo beach</td>\n",
       "      <td>Florida</td>\n",
       "      <td>4.5</td>\n",
       "      <td>9</td>\n",
       "      <td>1</td>\n",
       "      <td>Piercing</td>\n",
       "      <td>0.270913</td>\n",
       "      <td>6.354563</td>\n",
       "    </tr>\n",
       "    <tr>\n",
       "      <th>328699</th>\n",
       "      <td>150345</td>\n",
       "      <td>Sic Ink</td>\n",
       "      <td>Apollo beach</td>\n",
       "      <td>Florida</td>\n",
       "      <td>4.5</td>\n",
       "      <td>9</td>\n",
       "      <td>1</td>\n",
       "      <td>Tattoo</td>\n",
       "      <td>0.270913</td>\n",
       "      <td>6.354563</td>\n",
       "    </tr>\n",
       "  </tbody>\n",
       "</table>\n",
       "<p>328666 rows × 10 columns</p>\n",
       "</div>"
      ],
      "text/plain": [
       "        id_business                      name           city         state  \\\n",
       "0                 0  Abby Rappoport, LAC, CMQ  Santa Barbara    California   \n",
       "1                 0  Abby Rappoport, LAC, CMQ  Santa Barbara    California   \n",
       "2                 0  Abby Rappoport, LAC, CMQ  Santa Barbara    California   \n",
       "3                 0  Abby Rappoport, LAC, CMQ  Santa Barbara    California   \n",
       "4                 0  Abby Rappoport, LAC, CMQ  Santa Barbara    California   \n",
       "...             ...                       ...            ...           ...   \n",
       "328695       150339              The Plum Pit          Aston  Pennsylvania   \n",
       "328696       150345                   Sic Ink   Apollo beach       Florida   \n",
       "328697       150345                   Sic Ink   Apollo beach       Florida   \n",
       "328698       150345                   Sic Ink   Apollo beach       Florida   \n",
       "328699       150345                   Sic Ink   Apollo beach       Florida   \n",
       "\n",
       "        stars  review_count  is_open                    categories  \\\n",
       "0         5.0             7        0                       Doctors   \n",
       "1         5.0             7        0  Traditional Chinese Medicine   \n",
       "2         5.0             7        0         Naturopathic/Holistic   \n",
       "3         5.0             7        0                   Acupuncture   \n",
       "4         5.0             7        0              Health & Medical   \n",
       "...       ...           ...      ...                           ...   \n",
       "328695    4.5            14        1     Event Planning & Services   \n",
       "328696    4.5             9        1                 Beauty & Spas   \n",
       "328697    4.5             9        1              Permanent Makeup   \n",
       "328698    4.5             9        1                      Piercing   \n",
       "328699    4.5             9        1                        Tattoo   \n",
       "\n",
       "        sentimiento  sentimiento_escalado  \n",
       "0          0.156047              5.780235  \n",
       "1          0.156047              5.780235  \n",
       "2          0.156047              5.780235  \n",
       "3          0.156047              5.780235  \n",
       "4          0.156047              5.780235  \n",
       "...             ...                   ...  \n",
       "328695     0.353181              6.765904  \n",
       "328696     0.270913              6.354563  \n",
       "328697     0.270913              6.354563  \n",
       "328698     0.270913              6.354563  \n",
       "328699     0.270913              6.354563  \n",
       "\n",
       "[328666 rows x 10 columns]"
      ]
     },
<<<<<<< HEAD
     "execution_count": 7,
=======
     "execution_count": 15,
>>>>>>> 0daa6cd32800e244ffb83fc4a2c70e5b63d17239
     "metadata": {},
     "output_type": "execute_result"
    }
   ],
   "source": [
<<<<<<< HEAD
    "#df_ml = pd.read_parquet(\"../Data/data_procesada/Data_business_ml\")\n",
=======
    "df_ml = pd.read_parquet(\"../Data/data_procesada/Data_business_ml\")\n",
>>>>>>> 0daa6cd32800e244ffb83fc4a2c70e5b63d17239
    "df_ml = pd.read_parquet(\"../Data/data_procesada/Data_business_ml\")\n",
    "df_ml"
   ]
  },
  {
   "cell_type": "code",
<<<<<<< HEAD
   "execution_count": 8,
=======
   "execution_count": 16,
>>>>>>> 0daa6cd32800e244ffb83fc4a2c70e5b63d17239
   "metadata": {},
   "outputs": [],
   "source": [
    "#Limpio las columnas que no utilizare\n",
    "df_ml_procesado=df_ml.drop(['is_open','review_count','name','city'], axis=1)"
   ]
  },
  {
   "cell_type": "code",
<<<<<<< HEAD
   "execution_count": 9,
=======
   "execution_count": 29,
>>>>>>> 0daa6cd32800e244ffb83fc4a2c70e5b63d17239
   "metadata": {},
   "outputs": [],
   "source": [
    "#creo un data frame para comparar al final\n",
    "df_comparacion = df_ml_procesado.copy()"
   ]
  },
  {
   "cell_type": "code",
<<<<<<< HEAD
   "execution_count": 10,
=======
   "execution_count": 18,
>>>>>>> 0daa6cd32800e244ffb83fc4a2c70e5b63d17239
   "metadata": {},
   "outputs": [],
   "source": [
    "#creo un data frame para comparar al final\n",
    "df_comparacion = df_ml_procesado.copy()"
   ]
  },
  {
   "cell_type": "code",
<<<<<<< HEAD
   "execution_count": 11,
=======
   "execution_count": 30,
>>>>>>> 0daa6cd32800e244ffb83fc4a2c70e5b63d17239
   "metadata": {},
   "outputs": [],
   "source": [
    "#codifico los valores que tienen object para el analisis ML\n",
    "label_encoder = LabelEncoder()\n",
    "\n",
    "for columna in df_comparacion.columns:\n",
    "    if df_comparacion[columna].dtype == 'object':\n",
    "        df_comparacion[columna] = label_encoder.fit_transform(df_comparacion[columna])"
   ]
  },
  {
   "cell_type": "code",
<<<<<<< HEAD
   "execution_count": 12,
=======
   "execution_count": 31,
>>>>>>> 0daa6cd32800e244ffb83fc4a2c70e5b63d17239
   "metadata": {},
   "outputs": [
    {
     "data": {
      "text/html": [
       "<div>\n",
       "<style scoped>\n",
       "    .dataframe tbody tr th:only-of-type {\n",
       "        vertical-align: middle;\n",
       "    }\n",
       "\n",
       "    .dataframe tbody tr th {\n",
       "        vertical-align: top;\n",
       "    }\n",
       "\n",
       "    .dataframe thead th {\n",
       "        text-align: right;\n",
       "    }\n",
       "</style>\n",
       "<table border=\"1\" class=\"dataframe\">\n",
       "  <thead>\n",
       "    <tr style=\"text-align: right;\">\n",
       "      <th></th>\n",
       "      <th>id_business</th>\n",
       "      <th>state</th>\n",
       "      <th>stars</th>\n",
       "      <th>categories</th>\n",
       "      <th>sentimiento</th>\n",
       "      <th>sentimiento_escalado</th>\n",
       "    </tr>\n",
       "  </thead>\n",
       "  <tbody>\n",
       "    <tr>\n",
       "      <th>0</th>\n",
       "      <td>0</td>\n",
       "      <td>0</td>\n",
       "      <td>5.0</td>\n",
       "      <td>342</td>\n",
       "      <td>0.156047</td>\n",
       "      <td>5.780235</td>\n",
       "    </tr>\n",
       "    <tr>\n",
       "      <th>1</th>\n",
       "      <td>0</td>\n",
       "      <td>0</td>\n",
       "      <td>5.0</td>\n",
       "      <td>1152</td>\n",
       "      <td>0.156047</td>\n",
       "      <td>5.780235</td>\n",
       "    </tr>\n",
       "    <tr>\n",
       "      <th>2</th>\n",
       "      <td>0</td>\n",
       "      <td>0</td>\n",
       "      <td>5.0</td>\n",
       "      <td>763</td>\n",
       "      <td>0.156047</td>\n",
       "      <td>5.780235</td>\n",
       "    </tr>\n",
       "    <tr>\n",
       "      <th>3</th>\n",
       "      <td>0</td>\n",
       "      <td>0</td>\n",
       "      <td>5.0</td>\n",
       "      <td>8</td>\n",
       "      <td>0.156047</td>\n",
       "      <td>5.780235</td>\n",
       "    </tr>\n",
       "    <tr>\n",
       "      <th>4</th>\n",
       "      <td>0</td>\n",
       "      <td>0</td>\n",
       "      <td>5.0</td>\n",
       "      <td>524</td>\n",
       "      <td>0.156047</td>\n",
       "      <td>5.780235</td>\n",
       "    </tr>\n",
       "    <tr>\n",
       "      <th>...</th>\n",
       "      <td>...</td>\n",
       "      <td>...</td>\n",
       "      <td>...</td>\n",
       "      <td>...</td>\n",
       "      <td>...</td>\n",
       "      <td>...</td>\n",
       "    </tr>\n",
       "    <tr>\n",
       "      <th>328695</th>\n",
       "      <td>150339</td>\n",
       "      <td>5</td>\n",
       "      <td>4.5</td>\n",
       "      <td>399</td>\n",
       "      <td>0.353181</td>\n",
       "      <td>6.765904</td>\n",
       "    </tr>\n",
       "    <tr>\n",
       "      <th>328696</th>\n",
       "      <td>150345</td>\n",
       "      <td>1</td>\n",
       "      <td>4.5</td>\n",
       "      <td>112</td>\n",
       "      <td>0.270913</td>\n",
       "      <td>6.354563</td>\n",
       "    </tr>\n",
       "    <tr>\n",
       "      <th>328697</th>\n",
       "      <td>150345</td>\n",
       "      <td>1</td>\n",
       "      <td>4.5</td>\n",
       "      <td>839</td>\n",
       "      <td>0.270913</td>\n",
       "      <td>6.354563</td>\n",
       "    </tr>\n",
       "    <tr>\n",
       "      <th>328698</th>\n",
       "      <td>150345</td>\n",
       "      <td>1</td>\n",
       "      <td>4.5</td>\n",
       "      <td>876</td>\n",
       "      <td>0.270913</td>\n",
       "      <td>6.354563</td>\n",
       "    </tr>\n",
       "    <tr>\n",
       "      <th>328699</th>\n",
       "      <td>150345</td>\n",
       "      <td>1</td>\n",
       "      <td>4.5</td>\n",
       "      <td>1118</td>\n",
       "      <td>0.270913</td>\n",
       "      <td>6.354563</td>\n",
       "    </tr>\n",
       "  </tbody>\n",
       "</table>\n",
       "<p>328666 rows × 6 columns</p>\n",
       "</div>"
      ],
      "text/plain": [
       "        id_business  state  stars  categories  sentimiento  \\\n",
       "0                 0      0    5.0         342     0.156047   \n",
       "1                 0      0    5.0        1152     0.156047   \n",
       "2                 0      0    5.0         763     0.156047   \n",
       "3                 0      0    5.0           8     0.156047   \n",
       "4                 0      0    5.0         524     0.156047   \n",
       "...             ...    ...    ...         ...          ...   \n",
       "328695       150339      5    4.5         399     0.353181   \n",
       "328696       150345      1    4.5         112     0.270913   \n",
       "328697       150345      1    4.5         839     0.270913   \n",
       "328698       150345      1    4.5         876     0.270913   \n",
       "328699       150345      1    4.5        1118     0.270913   \n",
       "\n",
       "        sentimiento_escalado  \n",
       "0                   5.780235  \n",
       "1                   5.780235  \n",
       "2                   5.780235  \n",
       "3                   5.780235  \n",
       "4                   5.780235  \n",
       "...                      ...  \n",
       "328695              6.765904  \n",
       "328696              6.354563  \n",
       "328697              6.354563  \n",
       "328698              6.354563  \n",
       "328699              6.354563  \n",
       "\n",
       "[328666 rows x 6 columns]"
      ]
     },
<<<<<<< HEAD
     "execution_count": 12,
=======
     "execution_count": 31,
>>>>>>> 0daa6cd32800e244ffb83fc4a2c70e5b63d17239
     "metadata": {},
     "output_type": "execute_result"
    }
   ],
   "source": [
    "df_comparacion"
   ]
  },
  {
   "cell_type": "code",
<<<<<<< HEAD
   "execution_count": 37,
   "metadata": {},
   "outputs": [
    {
     "name": "stderr",
     "output_type": "stream",
     "text": [
      "C:\\Users\\Manuel\\AppData\\Local\\Temp\\ipykernel_31188\\63999835.py:11: FutureWarning: \n",
      "\n",
      "Passing `palette` without assigning `hue` is deprecated and will be removed in v0.14.0. Assign the `x` variable to `hue` and set `legend=False` for the same effect.\n",
      "\n",
      "  sns.barplot(x='state', y='stars', data=avg_stars_by_state, palette='viridis')\n"
     ]
    },
    {
     "data": {
      "text/plain": [
       "([0, 1, 2, 3, 4, 5, 6],\n",
       " [Text(0, 0, 'California'),\n",
       "  Text(1, 0, 'Nevada'),\n",
       "  Text(2, 0, 'Florida'),\n",
       "  Text(3, 0, 'Pennsylvania'),\n",
       "  Text(4, 0, 'New Jersey'),\n",
       "  Text(5, 0, 'Texas'),\n",
       "  Text(6, 0, 'New York')])"
      ]
     },
     "execution_count": 37,
     "metadata": {},
     "output_type": "execute_result"
    },
    {
     "data": {
      "image/png": "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",
      "text/plain": [
       "<Figure size 1400x800 with 1 Axes>"
      ]
     },
     "metadata": {},
     "output_type": "display_data"
    }
   ],
   "source": [
    "# Agrupar por 'state' y calcular el promedio de 'stars'\n",
    "avg_stars_by_state = df_ml.groupby('state')['stars'].mean().reset_index()\n",
    "\n",
    "# Ordenar los resultados por el promedio de estrellas\n",
    "avg_stars_by_state = avg_stars_by_state.sort_values(by='stars', ascending=False)\n",
    "\n",
    "# Configuración del tamaño del gráfico\n",
    "plt.figure(figsize=(14, 8))\n",
    "\n",
    "# Crear el gráfico de barras\n",
    "sns.barplot(x='state', y='stars', data=avg_stars_by_state, palette='viridis')\n",
    "\n",
    "# Añadir etiquetas y título\n",
    "plt.xlabel('State')\n",
    "plt.ylabel('Average Stars')\n",
    "plt.title('Average Stars by State')\n",
    "plt.xticks(rotation=90)  # Rotar las etiquetas del eje X si hay muchos estados"
   ]
  },
  {
   "cell_type": "code",
   "execution_count": 13,
=======
   "execution_count": 32,
>>>>>>> 0daa6cd32800e244ffb83fc4a2c70e5b63d17239
   "metadata": {},
   "outputs": [
    {
     "data": {
      "image/png": "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",
      "text/plain": [
       "<Figure size 1000x800 with 2 Axes>"
      ]
     },
     "metadata": {},
     "output_type": "display_data"
    }
   ],
   "source": [
    "#Analizo las variables representativas\n",
    "variables = df_comparacion[['state', 'stars', 'sentimiento', 'sentimiento_escalado', 'categories']]\n",
    "\n",
    "\n",
    "correlation_matrix = variables.corr()\n",
    "\n",
    "plt.figure(figsize=(10, 8))\n",
    "sns.heatmap(correlation_matrix, annot=True, cmap='coolwarm', linewidths=0.5)\n",
    "plt.title('Mapa de Calor de Correlaciones')\n",
    "plt.show()"
   ]
  },
  {
   "cell_type": "markdown",
   "metadata": {},
   "source": [
    "MODELO\n"
   ]
  },
  {
   "cell_type": "code",
<<<<<<< HEAD
   "execution_count": 14,
=======
   "execution_count": 33,
>>>>>>> 0daa6cd32800e244ffb83fc4a2c70e5b63d17239
   "metadata": {},
   "outputs": [
    {
     "data": {
      "text/html": [
       "<div>\n",
       "<style scoped>\n",
       "    .dataframe tbody tr th:only-of-type {\n",
       "        vertical-align: middle;\n",
       "    }\n",
       "\n",
       "    .dataframe tbody tr th {\n",
       "        vertical-align: top;\n",
       "    }\n",
       "\n",
       "    .dataframe thead th {\n",
       "        text-align: right;\n",
       "    }\n",
       "</style>\n",
       "<table border=\"1\" class=\"dataframe\">\n",
       "  <thead>\n",
       "    <tr style=\"text-align: right;\">\n",
       "      <th></th>\n",
       "      <th>id_business</th>\n",
       "      <th>state</th>\n",
       "      <th>stars</th>\n",
       "      <th>categories</th>\n",
       "      <th>sentimiento</th>\n",
       "      <th>sentimiento_escalado</th>\n",
       "    </tr>\n",
       "  </thead>\n",
       "  <tbody>\n",
       "    <tr>\n",
       "      <th>0</th>\n",
       "      <td>0</td>\n",
       "      <td>California</td>\n",
       "      <td>5.0</td>\n",
       "      <td>Doctors</td>\n",
       "      <td>0.156047</td>\n",
       "      <td>5.780235</td>\n",
       "    </tr>\n",
       "    <tr>\n",
       "      <th>1</th>\n",
       "      <td>0</td>\n",
       "      <td>California</td>\n",
       "      <td>5.0</td>\n",
       "      <td>Traditional Chinese Medicine</td>\n",
       "      <td>0.156047</td>\n",
       "      <td>5.780235</td>\n",
       "    </tr>\n",
       "    <tr>\n",
       "      <th>2</th>\n",
       "      <td>0</td>\n",
       "      <td>California</td>\n",
       "      <td>5.0</td>\n",
       "      <td>Naturopathic/Holistic</td>\n",
       "      <td>0.156047</td>\n",
       "      <td>5.780235</td>\n",
       "    </tr>\n",
       "    <tr>\n",
       "      <th>3</th>\n",
       "      <td>0</td>\n",
       "      <td>California</td>\n",
       "      <td>5.0</td>\n",
       "      <td>Acupuncture</td>\n",
       "      <td>0.156047</td>\n",
       "      <td>5.780235</td>\n",
       "    </tr>\n",
       "    <tr>\n",
       "      <th>4</th>\n",
       "      <td>0</td>\n",
       "      <td>California</td>\n",
       "      <td>5.0</td>\n",
       "      <td>Health &amp; Medical</td>\n",
       "      <td>0.156047</td>\n",
       "      <td>5.780235</td>\n",
       "    </tr>\n",
       "    <tr>\n",
       "      <th>...</th>\n",
       "      <td>...</td>\n",
       "      <td>...</td>\n",
       "      <td>...</td>\n",
       "      <td>...</td>\n",
       "      <td>...</td>\n",
       "      <td>...</td>\n",
       "    </tr>\n",
       "    <tr>\n",
       "      <th>328695</th>\n",
       "      <td>150339</td>\n",
       "      <td>Pennsylvania</td>\n",
       "      <td>4.5</td>\n",
       "      <td>Event Planning &amp; Services</td>\n",
       "      <td>0.353181</td>\n",
       "      <td>6.765904</td>\n",
       "    </tr>\n",
       "    <tr>\n",
       "      <th>328696</th>\n",
       "      <td>150345</td>\n",
       "      <td>Florida</td>\n",
       "      <td>4.5</td>\n",
       "      <td>Beauty &amp; Spas</td>\n",
       "      <td>0.270913</td>\n",
       "      <td>6.354563</td>\n",
       "    </tr>\n",
       "    <tr>\n",
       "      <th>328697</th>\n",
       "      <td>150345</td>\n",
       "      <td>Florida</td>\n",
       "      <td>4.5</td>\n",
       "      <td>Permanent Makeup</td>\n",
       "      <td>0.270913</td>\n",
       "      <td>6.354563</td>\n",
       "    </tr>\n",
       "    <tr>\n",
       "      <th>328698</th>\n",
       "      <td>150345</td>\n",
       "      <td>Florida</td>\n",
       "      <td>4.5</td>\n",
       "      <td>Piercing</td>\n",
       "      <td>0.270913</td>\n",
       "      <td>6.354563</td>\n",
       "    </tr>\n",
       "    <tr>\n",
       "      <th>328699</th>\n",
       "      <td>150345</td>\n",
       "      <td>Florida</td>\n",
       "      <td>4.5</td>\n",
       "      <td>Tattoo</td>\n",
       "      <td>0.270913</td>\n",
       "      <td>6.354563</td>\n",
       "    </tr>\n",
       "  </tbody>\n",
       "</table>\n",
       "<p>328666 rows × 6 columns</p>\n",
       "</div>"
      ],
      "text/plain": [
       "        id_business         state  stars                    categories  \\\n",
       "0                 0    California    5.0                       Doctors   \n",
       "1                 0    California    5.0  Traditional Chinese Medicine   \n",
       "2                 0    California    5.0         Naturopathic/Holistic   \n",
       "3                 0    California    5.0                   Acupuncture   \n",
       "4                 0    California    5.0              Health & Medical   \n",
       "...             ...           ...    ...                           ...   \n",
       "328695       150339  Pennsylvania    4.5     Event Planning & Services   \n",
       "328696       150345       Florida    4.5                 Beauty & Spas   \n",
       "328697       150345       Florida    4.5              Permanent Makeup   \n",
       "328698       150345       Florida    4.5                      Piercing   \n",
       "328699       150345       Florida    4.5                        Tattoo   \n",
       "\n",
       "        sentimiento  sentimiento_escalado  \n",
       "0          0.156047              5.780235  \n",
       "1          0.156047              5.780235  \n",
       "2          0.156047              5.780235  \n",
       "3          0.156047              5.780235  \n",
       "4          0.156047              5.780235  \n",
       "...             ...                   ...  \n",
       "328695     0.353181              6.765904  \n",
       "328696     0.270913              6.354563  \n",
       "328697     0.270913              6.354563  \n",
       "328698     0.270913              6.354563  \n",
       "328699     0.270913              6.354563  \n",
       "\n",
       "[328666 rows x 6 columns]"
      ]
     },
<<<<<<< HEAD
     "execution_count": 14,
=======
     "execution_count": 33,
>>>>>>> 0daa6cd32800e244ffb83fc4a2c70e5b63d17239
     "metadata": {},
     "output_type": "execute_result"
    }
   ],
   "source": [
    "df_ml_procesado"
   ]
  },
  {
   "cell_type": "code",
<<<<<<< HEAD
   "execution_count": 15,
=======
   "execution_count": 34,
>>>>>>> 0daa6cd32800e244ffb83fc4a2c70e5b63d17239
   "metadata": {},
   "outputs": [
    {
     "name": "stdout",
     "output_type": "stream",
     "text": [
      "<class 'pandas.core.frame.DataFrame'>\n",
      "Index: 328666 entries, 0 to 328699\n",
      "Data columns (total 6 columns):\n",
      " #   Column                Non-Null Count   Dtype  \n",
      "---  ------                --------------   -----  \n",
      " 0   id_business           328666 non-null  int64  \n",
      " 1   state                 328666 non-null  object \n",
      " 2   stars                 328666 non-null  float64\n",
      " 3   categories            328666 non-null  object \n",
      " 4   sentimiento           328666 non-null  float64\n",
      " 5   sentimiento_escalado  328666 non-null  float64\n",
      "dtypes: float64(3), int64(1), object(2)\n",
      "memory usage: 17.6+ MB\n"
     ]
    }
   ],
   "source": [
    "df_ml_procesado.info()"
   ]
  },
  {
   "cell_type": "code",
<<<<<<< HEAD
   "execution_count": 16,
=======
   "execution_count": 42,
>>>>>>> 0daa6cd32800e244ffb83fc4a2c70e5b63d17239
   "metadata": {},
   "outputs": [
    {
     "data": {
      "text/plain": [
       "Index(['Restaurants', 'Food', 'Shopping', 'Beauty & Spas', 'Home Services',\n",
       "       'Health & Medical', 'Automotive', 'Local Services', 'Nightlife',\n",
       "       'Bars'],\n",
       "      dtype='object', name='categories')"
      ]
     },
<<<<<<< HEAD
     "execution_count": 16,
=======
     "execution_count": 42,
>>>>>>> 0daa6cd32800e244ffb83fc4a2c70e5b63d17239
     "metadata": {},
     "output_type": "execute_result"
    }
   ],
   "source": [
    "top_10_categories = df_ml_procesado['categories'].value_counts().nlargest(10).index\n",
    "top_10_categories"
   ]
  },
  {
   "cell_type": "code",
<<<<<<< HEAD
   "execution_count": 17,
=======
   "execution_count": 46,
>>>>>>> 0daa6cd32800e244ffb83fc4a2c70e5b63d17239
   "metadata": {},
   "outputs": [],
   "source": [
    "df_muestra = df_ml_procesado.sample(frac=1, random_state=42)"
   ]
  },
  {
   "cell_type": "code",
<<<<<<< HEAD
   "execution_count": 18,
=======
   "execution_count": 47,
>>>>>>> 0daa6cd32800e244ffb83fc4a2c70e5b63d17239
   "metadata": {},
   "outputs": [
    {
     "data": {
      "text/html": [
       "<div>\n",
       "<style scoped>\n",
       "    .dataframe tbody tr th:only-of-type {\n",
       "        vertical-align: middle;\n",
       "    }\n",
       "\n",
       "    .dataframe tbody tr th {\n",
       "        vertical-align: top;\n",
       "    }\n",
       "\n",
       "    .dataframe thead th {\n",
       "        text-align: right;\n",
       "    }\n",
       "</style>\n",
       "<table border=\"1\" class=\"dataframe\">\n",
       "  <thead>\n",
       "    <tr style=\"text-align: right;\">\n",
       "      <th></th>\n",
       "      <th>id_business</th>\n",
       "      <th>state</th>\n",
       "      <th>stars</th>\n",
       "      <th>categories</th>\n",
       "      <th>sentimiento</th>\n",
       "      <th>sentimiento_escalado</th>\n",
       "    </tr>\n",
       "  </thead>\n",
       "  <tbody>\n",
       "    <tr>\n",
       "      <th>186100</th>\n",
       "      <td>83127</td>\n",
       "      <td>Nevada</td>\n",
       "      <td>2.5</td>\n",
       "      <td>Real Estate</td>\n",
       "      <td>0.209748</td>\n",
       "      <td>6.048740</td>\n",
       "    </tr>\n",
       "    <tr>\n",
       "      <th>162482</th>\n",
       "      <td>72164</td>\n",
       "      <td>Pennsylvania</td>\n",
       "      <td>3.5</td>\n",
       "      <td>Egyptian</td>\n",
       "      <td>0.261795</td>\n",
       "      <td>6.308974</td>\n",
       "    </tr>\n",
       "    <tr>\n",
       "      <th>109491</th>\n",
       "      <td>47843</td>\n",
       "      <td>Florida</td>\n",
       "      <td>4.5</td>\n",
       "      <td>Restaurants</td>\n",
       "      <td>0.318261</td>\n",
       "      <td>6.591303</td>\n",
       "    </tr>\n",
       "    <tr>\n",
       "      <th>285129</th>\n",
       "      <td>129752</td>\n",
       "      <td>Florida</td>\n",
       "      <td>4.0</td>\n",
       "      <td>Health Markets</td>\n",
       "      <td>0.268012</td>\n",
       "      <td>6.340062</td>\n",
       "    </tr>\n",
       "    <tr>\n",
       "      <th>250963</th>\n",
       "      <td>113615</td>\n",
       "      <td>Florida</td>\n",
       "      <td>3.0</td>\n",
       "      <td>Shopping</td>\n",
       "      <td>0.151904</td>\n",
       "      <td>5.759522</td>\n",
       "    </tr>\n",
       "    <tr>\n",
       "      <th>...</th>\n",
       "      <td>...</td>\n",
       "      <td>...</td>\n",
       "      <td>...</td>\n",
       "      <td>...</td>\n",
       "      <td>...</td>\n",
       "      <td>...</td>\n",
       "    </tr>\n",
       "    <tr>\n",
       "      <th>119887</th>\n",
       "      <td>52570</td>\n",
       "      <td>Florida</td>\n",
       "      <td>5.0</td>\n",
       "      <td>Shopping</td>\n",
       "      <td>0.245126</td>\n",
       "      <td>6.225629</td>\n",
       "    </tr>\n",
       "    <tr>\n",
       "      <th>259207</th>\n",
       "      <td>117483</td>\n",
       "      <td>Florida</td>\n",
       "      <td>5.0</td>\n",
       "      <td>Gardeners</td>\n",
       "      <td>0.446434</td>\n",
       "      <td>7.232168</td>\n",
       "    </tr>\n",
       "    <tr>\n",
       "      <th>131941</th>\n",
       "      <td>57935</td>\n",
       "      <td>Pennsylvania</td>\n",
       "      <td>4.0</td>\n",
       "      <td>Arts &amp; Entertainment</td>\n",
       "      <td>0.112358</td>\n",
       "      <td>5.561792</td>\n",
       "    </tr>\n",
       "    <tr>\n",
       "      <th>146879</th>\n",
       "      <td>64886</td>\n",
       "      <td>Pennsylvania</td>\n",
       "      <td>3.5</td>\n",
       "      <td>Arts &amp; Crafts</td>\n",
       "      <td>0.211916</td>\n",
       "      <td>6.059582</td>\n",
       "    </tr>\n",
       "    <tr>\n",
       "      <th>121966</th>\n",
       "      <td>53508</td>\n",
       "      <td>Florida</td>\n",
       "      <td>4.0</td>\n",
       "      <td>Automotive</td>\n",
       "      <td>0.259879</td>\n",
       "      <td>6.299395</td>\n",
       "    </tr>\n",
       "  </tbody>\n",
       "</table>\n",
       "<p>328666 rows × 6 columns</p>\n",
       "</div>"
      ],
      "text/plain": [
       "        id_business         state  stars            categories  sentimiento  \\\n",
       "186100        83127        Nevada    2.5           Real Estate     0.209748   \n",
       "162482        72164  Pennsylvania    3.5              Egyptian     0.261795   \n",
       "109491        47843       Florida    4.5           Restaurants     0.318261   \n",
       "285129       129752       Florida    4.0        Health Markets     0.268012   \n",
       "250963       113615       Florida    3.0              Shopping     0.151904   \n",
       "...             ...           ...    ...                   ...          ...   \n",
       "119887        52570       Florida    5.0              Shopping     0.245126   \n",
       "259207       117483       Florida    5.0             Gardeners     0.446434   \n",
       "131941        57935  Pennsylvania    4.0  Arts & Entertainment     0.112358   \n",
       "146879        64886  Pennsylvania    3.5         Arts & Crafts     0.211916   \n",
       "121966        53508       Florida    4.0            Automotive     0.259879   \n",
       "\n",
       "        sentimiento_escalado  \n",
       "186100              6.048740  \n",
       "162482              6.308974  \n",
       "109491              6.591303  \n",
       "285129              6.340062  \n",
       "250963              5.759522  \n",
       "...                      ...  \n",
       "119887              6.225629  \n",
       "259207              7.232168  \n",
       "131941              5.561792  \n",
       "146879              6.059582  \n",
       "121966              6.299395  \n",
       "\n",
       "[328666 rows x 6 columns]"
      ]
     },
<<<<<<< HEAD
     "execution_count": 18,
=======
     "execution_count": 47,
>>>>>>> 0daa6cd32800e244ffb83fc4a2c70e5b63d17239
     "metadata": {},
     "output_type": "execute_result"
    }
   ],
   "source": [
    "df_muestra"
   ]
  },
  {
   "cell_type": "code",
<<<<<<< HEAD
   "execution_count": 19,
=======
   "execution_count": 48,
>>>>>>> 0daa6cd32800e244ffb83fc4a2c70e5b63d17239
   "metadata": {},
   "outputs": [],
   "source": [
    "\n",
    "# Definir las categorías de interés\n",
    "categories_of_interest = ['Restaurants', 'Food', 'Shopping', 'Beauty & Spas', 'Home Services',\n",
    "                          'Health & Medical', 'Automotive', 'Local Services', 'Nightlife', 'Bars']\n",
    "\n",
    "# Filtrar el dataframe para que solo contenga las filas con las categorías de interés\n",
    "df_filtered = df_muestra[df_muestra['categories'].isin(categories_of_interest)]"
   ]
  },
  {
   "cell_type": "code",
<<<<<<< HEAD
   "execution_count": 20,
=======
   "execution_count": 49,
>>>>>>> 0daa6cd32800e244ffb83fc4a2c70e5b63d17239
   "metadata": {},
   "outputs": [
    {
     "data": {
      "text/html": [
       "<div>\n",
       "<style scoped>\n",
       "    .dataframe tbody tr th:only-of-type {\n",
       "        vertical-align: middle;\n",
       "    }\n",
       "\n",
       "    .dataframe tbody tr th {\n",
       "        vertical-align: top;\n",
       "    }\n",
       "\n",
       "    .dataframe thead th {\n",
       "        text-align: right;\n",
       "    }\n",
       "</style>\n",
       "<table border=\"1\" class=\"dataframe\">\n",
       "  <thead>\n",
       "    <tr style=\"text-align: right;\">\n",
       "      <th></th>\n",
       "      <th>id_business</th>\n",
       "      <th>state</th>\n",
       "      <th>stars</th>\n",
       "      <th>categories</th>\n",
       "      <th>sentimiento</th>\n",
       "      <th>sentimiento_escalado</th>\n",
       "    </tr>\n",
       "  </thead>\n",
       "  <tbody>\n",
       "    <tr>\n",
       "      <th>109491</th>\n",
       "      <td>47843</td>\n",
       "      <td>Florida</td>\n",
       "      <td>4.5</td>\n",
       "      <td>Restaurants</td>\n",
       "      <td>0.318261</td>\n",
       "      <td>6.591303</td>\n",
       "    </tr>\n",
       "    <tr>\n",
       "      <th>250963</th>\n",
       "      <td>113615</td>\n",
       "      <td>Florida</td>\n",
       "      <td>3.0</td>\n",
       "      <td>Shopping</td>\n",
       "      <td>0.151904</td>\n",
       "      <td>5.759522</td>\n",
       "    </tr>\n",
       "    <tr>\n",
       "      <th>34606</th>\n",
       "      <td>14728</td>\n",
       "      <td>New Jersey</td>\n",
       "      <td>3.0</td>\n",
       "      <td>Restaurants</td>\n",
       "      <td>0.173626</td>\n",
       "      <td>5.868130</td>\n",
       "    </tr>\n",
       "    <tr>\n",
       "      <th>320805</th>\n",
       "      <td>146626</td>\n",
       "      <td>Florida</td>\n",
       "      <td>5.0</td>\n",
       "      <td>Restaurants</td>\n",
       "      <td>0.285505</td>\n",
       "      <td>6.427524</td>\n",
       "    </tr>\n",
       "    <tr>\n",
       "      <th>36986</th>\n",
       "      <td>15728</td>\n",
       "      <td>Florida</td>\n",
       "      <td>4.0</td>\n",
       "      <td>Home Services</td>\n",
       "      <td>0.402470</td>\n",
       "      <td>7.012350</td>\n",
       "    </tr>\n",
       "    <tr>\n",
       "      <th>...</th>\n",
       "      <td>...</td>\n",
       "      <td>...</td>\n",
       "      <td>...</td>\n",
       "      <td>...</td>\n",
       "      <td>...</td>\n",
       "      <td>...</td>\n",
       "    </tr>\n",
       "    <tr>\n",
       "      <th>175220</th>\n",
       "      <td>78067</td>\n",
       "      <td>Florida</td>\n",
       "      <td>3.0</td>\n",
       "      <td>Shopping</td>\n",
       "      <td>0.181082</td>\n",
       "      <td>5.905412</td>\n",
       "    </tr>\n",
       "    <tr>\n",
       "      <th>207915</th>\n",
       "      <td>93219</td>\n",
       "      <td>California</td>\n",
       "      <td>3.5</td>\n",
       "      <td>Local Services</td>\n",
       "      <td>0.191749</td>\n",
       "      <td>5.958743</td>\n",
       "    </tr>\n",
       "    <tr>\n",
       "      <th>110276</th>\n",
       "      <td>48224</td>\n",
       "      <td>New Jersey</td>\n",
       "      <td>4.5</td>\n",
       "      <td>Restaurants</td>\n",
       "      <td>0.395157</td>\n",
       "      <td>6.975784</td>\n",
       "    </tr>\n",
       "    <tr>\n",
       "      <th>119887</th>\n",
       "      <td>52570</td>\n",
       "      <td>Florida</td>\n",
       "      <td>5.0</td>\n",
       "      <td>Shopping</td>\n",
       "      <td>0.245126</td>\n",
       "      <td>6.225629</td>\n",
       "    </tr>\n",
       "    <tr>\n",
       "      <th>121966</th>\n",
       "      <td>53508</td>\n",
       "      <td>Florida</td>\n",
       "      <td>4.0</td>\n",
       "      <td>Automotive</td>\n",
       "      <td>0.259879</td>\n",
       "      <td>6.299395</td>\n",
       "    </tr>\n",
       "  </tbody>\n",
       "</table>\n",
       "<p>93383 rows × 6 columns</p>\n",
       "</div>"
      ],
      "text/plain": [
       "        id_business       state  stars      categories  sentimiento  \\\n",
       "109491        47843     Florida    4.5     Restaurants     0.318261   \n",
       "250963       113615     Florida    3.0        Shopping     0.151904   \n",
       "34606         14728  New Jersey    3.0     Restaurants     0.173626   \n",
       "320805       146626     Florida    5.0     Restaurants     0.285505   \n",
       "36986         15728     Florida    4.0   Home Services     0.402470   \n",
       "...             ...         ...    ...             ...          ...   \n",
       "175220        78067     Florida    3.0        Shopping     0.181082   \n",
       "207915        93219  California    3.5  Local Services     0.191749   \n",
       "110276        48224  New Jersey    4.5     Restaurants     0.395157   \n",
       "119887        52570     Florida    5.0        Shopping     0.245126   \n",
       "121966        53508     Florida    4.0      Automotive     0.259879   \n",
       "\n",
       "        sentimiento_escalado  \n",
       "109491              6.591303  \n",
       "250963              5.759522  \n",
       "34606               5.868130  \n",
       "320805              6.427524  \n",
       "36986               7.012350  \n",
       "...                      ...  \n",
       "175220              5.905412  \n",
       "207915              5.958743  \n",
       "110276              6.975784  \n",
       "119887              6.225629  \n",
       "121966              6.299395  \n",
       "\n",
       "[93383 rows x 6 columns]"
      ]
     },
<<<<<<< HEAD
     "execution_count": 20,
=======
     "execution_count": 49,
>>>>>>> 0daa6cd32800e244ffb83fc4a2c70e5b63d17239
     "metadata": {},
     "output_type": "execute_result"
    }
   ],
   "source": [
    "df_filtered"
   ]
  },
  {
   "cell_type": "code",
<<<<<<< HEAD
   "execution_count": 21,
=======
   "execution_count": 50,
>>>>>>> 0daa6cd32800e244ffb83fc4a2c70e5b63d17239
   "metadata": {},
   "outputs": [
    {
     "name": "stdout",
     "output_type": "stream",
     "text": [
      "Precisión del modelo: 0.10429940568613803\n"
     ]
    }
   ],
   "source": [
    "# Preparar los datos\n",
    "X = df_filtered[['state', 'stars', 'sentimiento', 'sentimiento_escalado']]\n",
    "y = df_filtered['categories']\n",
    "\n",
    "# Codificar variables categóricas\n",
    "X = pd.get_dummies(X)\n",
    "\n",
    "# Dividir los datos en conjuntos de entrenamiento y prueba\n",
    "X_train, X_test, y_train, y_test = train_test_split(X, y, test_size=0.2, random_state=42)\n",
    "\n",
    "# Entrenar el modelo Random Forest\n",
    "model = RandomForestClassifier(n_estimators=100, random_state=42)\n",
    "model.fit(X_train, y_train)\n",
    "\n",
    "# Hacer predicciones\n",
    "y_pred = model.predict(X_test)\n",
    "\n",
    "# Evaluar el modelo\n",
    "accuracy = accuracy_score(y_test, y_pred)\n",
    "print(\"Precisión del modelo:\", accuracy)\n",
    "\n"
   ]
  },
  {
   "cell_type": "code",
<<<<<<< HEAD
   "execution_count": 23,
=======
   "execution_count": 51,
>>>>>>> 0daa6cd32800e244ffb83fc4a2c70e5b63d17239
   "metadata": {},
   "outputs": [
    {
     "name": "stdout",
     "output_type": "stream",
     "text": [
      "categories\n",
      "Restaurants         25216\n",
      "Food                13734\n",
      "Shopping            11941\n",
      "Beauty & Spas        7266\n",
      "Home Services        7044\n",
      "Health & Medical     6346\n",
      "Automotive           5643\n",
      "Local Services       5597\n",
      "Nightlife            5554\n",
      "Bars                 5042\n",
      "Name: count, dtype: int64\n"
     ]
    }
   ],
   "source": [
    "print(y.value_counts())"
   ]
  },
  {
   "cell_type": "code",
<<<<<<< HEAD
   "execution_count": 22,
=======
   "execution_count": 54,
>>>>>>> 0daa6cd32800e244ffb83fc4a2c70e5b63d17239
   "metadata": {},
   "outputs": [
    {
     "name": "stdout",
     "output_type": "stream",
     "text": [
      "                      id_business     state     stars  categories  \\\n",
      "id_business              1.000000  0.003970  0.000293   -0.001759   \n",
      "state                    0.003970  1.000000 -0.063978    0.002300   \n",
      "stars                    0.000293 -0.063978  1.000000    0.005660   \n",
      "categories              -0.001759  0.002300  0.005660    1.000000   \n",
      "sentimiento             -0.000720 -0.078654  0.834337    0.007547   \n",
      "sentimiento_escalado    -0.000720 -0.078654  0.834337    0.007547   \n",
      "\n",
      "                      sentimiento  sentimiento_escalado  \n",
      "id_business             -0.000720             -0.000720  \n",
      "state                   -0.078654             -0.078654  \n",
      "stars                    0.834337              0.834337  \n",
      "categories               0.007547              0.007547  \n",
      "sentimiento              1.000000              1.000000  \n",
      "sentimiento_escalado     1.000000              1.000000  \n"
     ]
    }
   ],
   "source": [
    "# Exploración de correlaciones\n",
    "print(df_comparacion.corr())"
   ]
  },
  {
   "cell_type": "markdown",
   "metadata": {},
   "source": [
    "Reducir el Número de Combinaciones de Hiperparámetros \n",
    "\n",
    "Limita el número de combinaciones de hiperparámetros para hacer la búsqueda más manejable. Puedes empezar con un conjunto más pequeño de valores para cada hiperparámetro."
   ]
  },
  {
   "cell_type": "code",
<<<<<<< HEAD
   "execution_count": 26,
=======
   "execution_count": 68,
>>>>>>> 0daa6cd32800e244ffb83fc4a2c70e5b63d17239
   "metadata": {},
   "outputs": [
    {
     "name": "stdout",
     "output_type": "stream",
     "text": [
      "categories\n",
      "Restaurants         25216\n",
      "Food                13734\n",
      "Shopping            11941\n",
      "Beauty & Spas        7266\n",
      "Home Services        7044\n",
      "Health & Medical     6346\n",
      "Automotive           5643\n",
      "Local Services       5597\n",
      "Nightlife            5554\n",
      "Bars                 5042\n",
      "Name: count, dtype: int64\n",
      "Fitting 3 folds for each of 48 candidates, totalling 144 fits\n",
      "Precisión del modelo: 0.2802912673341543\n",
      "[[  12    0   19   13   18   95    9    0  764  149]\n",
      " [   0    0    4    8    2    8    1    0  978   27]\n",
      " [   6    0   35   32   45   60    7    0 1107  180]\n",
      " [   5    0   27   29   14   69    5    0 2371  175]\n",
      " [   5    0   38   22   47  122   17    0  910  152]\n",
      " [  16    0   17    6   47  209   32    0  928  182]\n",
      " [  10    0   13    8   25  150   10    0  712  162]\n",
      " [   1    1   10   10    2   10    0    0 1078   41]\n",
      " [   3    0   21   42   14   71    9    0 4637  189]\n",
      " [  10    0   47   48   36  148   29    0 1850  256]]\n"
     ]
    },
    {
     "name": "stderr",
     "output_type": "stream",
     "text": [
      "c:\\Users\\Manuel\\AppData\\Local\\Programs\\Python\\Python312\\Lib\\site-packages\\sklearn\\metrics\\_classification.py:1509: UndefinedMetricWarning: Precision is ill-defined and being set to 0.0 in labels with no predicted samples. Use `zero_division` parameter to control this behavior.\n",
      "  _warn_prf(average, modifier, f\"{metric.capitalize()} is\", len(result))\n",
      "c:\\Users\\Manuel\\AppData\\Local\\Programs\\Python\\Python312\\Lib\\site-packages\\sklearn\\metrics\\_classification.py:1509: UndefinedMetricWarning: Precision is ill-defined and being set to 0.0 in labels with no predicted samples. Use `zero_division` parameter to control this behavior.\n",
      "  _warn_prf(average, modifier, f\"{metric.capitalize()} is\", len(result))\n",
      "c:\\Users\\Manuel\\AppData\\Local\\Programs\\Python\\Python312\\Lib\\site-packages\\sklearn\\metrics\\_classification.py:1509: UndefinedMetricWarning: Precision is ill-defined and being set to 0.0 in labels with no predicted samples. Use `zero_division` parameter to control this behavior.\n",
      "  _warn_prf(average, modifier, f\"{metric.capitalize()} is\", len(result))\n"
     ]
    },
    {
     "name": "stdout",
     "output_type": "stream",
     "text": [
      "                  precision    recall  f1-score   support\n",
      "\n",
      "      Automotive       0.18      0.01      0.02      1079\n",
      "            Bars       0.00      0.00      0.00      1028\n",
      "   Beauty & Spas       0.15      0.02      0.04      1472\n",
      "            Food       0.13      0.01      0.02      2695\n",
      "Health & Medical       0.19      0.04      0.06      1313\n",
      "   Home Services       0.22      0.15      0.18      1437\n",
      "  Local Services       0.08      0.01      0.02      1090\n",
      "       Nightlife       0.00      0.00      0.00      1153\n",
      "     Restaurants       0.30      0.93      0.46      4986\n",
      "        Shopping       0.17      0.11      0.13      2424\n",
      "\n",
      "        accuracy                           0.28     18677\n",
      "       macro avg       0.14      0.13      0.09     18677\n",
      "    weighted avg       0.18      0.28      0.16     18677\n",
      "\n",
      "Cross-validation scores: [0.28307544 0.28355732 0.28162981 0.28073463 0.28084172]\n",
      "Average cross-validation score: 0.28196778472297135\n"
     ]
    }
   ],
   "source": [
    "# Suponiendo que df_muestra ya está definido y cargado con los datos correspondientes\n",
    "\n",
    "# Seleccionar las características y la variable objetivo\n",
    "X = df_filtered[['state', 'stars', 'sentimiento', 'sentimiento_escalado']]\n",
    "y = df_filtered['categories']\n",
    "\n",
    "# Codificar variables categóricas\n",
    "X = pd.get_dummies(X)\n",
    "\n",
    "# Ver la distribución de las clases\n",
    "print(y.value_counts())\n",
    "\n",
    "# Dividir los datos en conjuntos de entrenamiento y prueba\n",
    "X_train, X_test, y_train, y_test = train_test_split(X, y, test_size=0.2, random_state=42)\n",
    "\n",
    "# Ajuste del modelo con GridSearchCV\n",
    "param_grid = {\n",
    "    'n_estimators': [100, 200],\n",
    "    'max_features': [None, 'sqrt', 'log2'],\n",
    "    'max_depth': [10, 20],\n",
    "    'min_samples_split': [2, 5],\n",
    "    'min_samples_leaf': [1, 2]\n",
    "}\n",
    "\n",
    "model = RandomForestClassifier(random_state=42)\n",
    "grid_search = GridSearchCV(estimator=model, param_grid=param_grid, cv=3, n_jobs=-1, verbose=2)\n",
    "grid_search.fit(X_train, y_train)\n",
    "\n",
    "best_model = grid_search.best_estimator_\n",
    "\n",
    "# Hacer predicciones\n",
    "y_pred = best_model.predict(X_test)\n",
    "\n",
    "# Evaluar el modelo\n",
    "accuracy = accuracy_score(y_test, y_pred)\n",
    "print(\"Precisión del modelo:\", accuracy)\n",
    "print(confusion_matrix(y_test, y_pred))\n",
    "print(classification_report(y_test, y_pred))\n",
    "\n",
    "# Validación cruzada\n",
    "cv_scores = cross_val_score(best_model, X, y, cv=5)\n",
    "print(\"Cross-validation scores:\", cv_scores)\n",
    "print(\"Average cross-validation score:\", cv_scores.mean())"
   ]
  },
  {
   "cell_type": "code",
<<<<<<< HEAD
   "execution_count": 35,
=======
   "execution_count": 71,
>>>>>>> 0daa6cd32800e244ffb83fc4a2c70e5b63d17239
   "metadata": {},
   "outputs": [
    {
     "name": "stdout",
     "output_type": "stream",
     "text": [
<<<<<<< HEAD
      "La categoría recomendada para abrir un restaurante con 4.5 o más estrellas en Florida es: Restaurants\n"
=======
      "La categoría recomendada para abrir un restaurante con 4.5 o más estrellas en Pennsylvania es: Restaurants\n"
>>>>>>> 0daa6cd32800e244ffb83fc4a2c70e5b63d17239
     ]
    }
   ],
   "source": [
    "# Hacer predicciones para un estado específico (por ejemplo, 'California' y 4 estrellas)\n",
    "# Generar el conjunto de datos de entrada para la predicción\n",
<<<<<<< HEAD
    "state = 'Florida'\n",
    "stars = 4\n",
    "sentimiento = 0.3  # Solo un valor de ejemplo, debes ajustarlo según tu criterio\n",
    "sentimiento_escalado = 3.0  # Solo un valor de ejemplo, debes ajustarlo según tu criterio\n",
=======
    "state = 'Pennsylvania'\n",
    "stars = 4.5\n",
    "sentimiento = 0.3  # Solo un valor de ejemplo, debes ajustarlo según tu criterio\n",
    "sentimiento_escalado = 4.0  # Solo un valor de ejemplo, debes ajustarlo según tu criterio\n",
>>>>>>> 0daa6cd32800e244ffb83fc4a2c70e5b63d17239
    "\n",
    "# Crear un DataFrame con las características del restaurante\n",
    "input_data = pd.DataFrame({\n",
    "    'state': [state],\n",
    "    'stars': [stars],\n",
    "    'sentimiento': [sentimiento],\n",
    "    'sentimiento_escalado': [sentimiento_escalado]\n",
    "})\n",
    "\n",
    "# Aplicar codificación one-hot para el estado\n",
    "input_data = pd.get_dummies(input_data)\n",
    "\n",
    "# Asegurarse de que todas las columnas de estado estén presentes en el conjunto de datos de entrada\n",
    "# Si falta alguna columna de estado, agregarla con valor 0\n",
    "missing_cols = set(X_train.columns) - set(input_data.columns)\n",
    "for col in missing_cols:\n",
    "    input_data[col] = 0\n",
    "\n",
    "# Reordenar las columnas para que coincidan con el orden del conjunto de entrenamiento\n",
    "input_data = input_data[X_train.columns]\n",
    "\n",
    "# Realizar la predicción\n",
    "predicted_category = best_model.predict(input_data)\n",
    "\n",
<<<<<<< HEAD
    "print(\"La categoría recomendada para abrir un restaurante con 4.5 o más estrellas en Florida es:\", predicted_category[0])"
=======
    "print(\"La categoría recomendada para abrir un restaurante con 4.5 o más estrellas en Pennsylvania es:\", predicted_category[0])"
>>>>>>> 0daa6cd32800e244ffb83fc4a2c70e5b63d17239
   ]
  }
 ],
 "metadata": {
  "kernelspec": {
   "display_name": "Python 3",
   "language": "python",
   "name": "python3"
  },
  "language_info": {
   "codemirror_mode": {
    "name": "ipython",
    "version": 3
   },
   "file_extension": ".py",
   "mimetype": "text/x-python",
   "name": "python",
   "nbconvert_exporter": "python",
   "pygments_lexer": "ipython3",
   "version": "3.12.2"
  }
 },
 "nbformat": 4,
 "nbformat_minor": 2
}
