{
 "cells": [
  {
   "cell_type": "code",
   "execution_count": 113,
   "metadata": {},
   "outputs": [],
   "source": [
    "import pandas as pd\n",
    "import numpy as np\n",
    "import matplotlib.pyplot as plt\n",
    "import os\n",
    "pd.set_option('display.max_columns', None)\n",
    "pd.set_option('display.max_colwidth', 1000)"
   ]
  },
  {
   "cell_type": "markdown",
   "metadata": {},
   "source": [
    "**Archivos de entrada**"
   ]
  },
  {
   "cell_type": "code",
   "execution_count": 2,
   "metadata": {},
   "outputs": [],
   "source": [
    "Ruta_data_procesada = '../../Data/data_procesada'\n",
    "Ruta_data_procesada_full = r'C:\\Users\\jalvarez\\OneDrive\\Estudios\\Programacion\\Soy Henry Datos e IA\\Dataft21\\PG\\Data\\data_procesada' # Donde estan todos los datasets no importa su peso por la limitante de GitHub. Si solo se tiene una única carpera 'Ruta_data_procesada' donde está todo pues colocar en ambas variables la misma ruta"
   ]
  },
  {
   "cell_type": "markdown",
   "metadata": {},
   "source": [
    "**Archivos de google.**"
   ]
  },
  {
   "cell_type": "code",
   "execution_count": 3,
   "metadata": {},
   "outputs": [],
   "source": [
    "reviews = pd.read_parquet(os.path.join(Ruta_data_procesada_full, \"reviews_google_maps.parquet\"))\n",
    "user = pd.read_parquet(os.path.join(Ruta_data_procesada, \"users_google_maps.parquet\"))\n",
    "restaurant = pd.read_parquet(os.path.join(Ruta_data_procesada, \"restaurantes.parquet\"))\n",
    "categorias_dummies = pd.read_parquet(os.path.join(Ruta_data_procesada, \"dummies_restaurantes.parquet\"))"
   ]
  },
  {
   "cell_type": "markdown",
   "metadata": {},
   "source": [
    "*Realizamos una visualización de los dataframes que tenemos para verificar que tipo de datos tenemos y la cantidad de los mismos.*"
   ]
  },
  {
   "cell_type": "code",
   "execution_count": 4,
   "metadata": {},
   "outputs": [
    {
     "data": {
      "text/html": [
       "<div>\n",
       "<style scoped>\n",
       "    .dataframe tbody tr th:only-of-type {\n",
       "        vertical-align: middle;\n",
       "    }\n",
       "\n",
       "    .dataframe tbody tr th {\n",
       "        vertical-align: top;\n",
       "    }\n",
       "\n",
       "    .dataframe thead th {\n",
       "        text-align: right;\n",
       "    }\n",
       "</style>\n",
       "<table border=\"1\" class=\"dataframe\">\n",
       "  <thead>\n",
       "    <tr style=\"text-align: right;\">\n",
       "      <th></th>\n",
       "      <th>name</th>\n",
       "      <th>address</th>\n",
       "      <th>state</th>\n",
       "      <th>city</th>\n",
       "      <th>postal_code</th>\n",
       "      <th>latitude</th>\n",
       "      <th>longitude</th>\n",
       "      <th>avg_rating</th>\n",
       "      <th>num_of_reviews</th>\n",
       "      <th>price_numeric</th>\n",
       "      <th>gmap_id</th>\n",
       "      <th>category</th>\n",
       "    </tr>\n",
       "  </thead>\n",
       "  <tbody>\n",
       "    <tr>\n",
       "      <th>0</th>\n",
       "      <td>San Soo Dang</td>\n",
       "      <td>San Soo Dang, 761 S Vermont Ave, Los Angeles, CA 90005</td>\n",
       "      <td>California</td>\n",
       "      <td>Los Angeles</td>\n",
       "      <td>90005</td>\n",
       "      <td>34.058092</td>\n",
       "      <td>-118.292130</td>\n",
       "      <td>4.4</td>\n",
       "      <td>18</td>\n",
       "      <td>0</td>\n",
       "      <td>0x80c2c778e3b73d33:0xbdc58662a4a97d49</td>\n",
       "      <td>Korean restaurant</td>\n",
       "    </tr>\n",
       "    <tr>\n",
       "      <th>1</th>\n",
       "      <td>Vons Chicken</td>\n",
       "      <td>Vons Chicken, 12740 La Mirada Blvd, La Mirada, CA 90638</td>\n",
       "      <td>California</td>\n",
       "      <td>La Mirada</td>\n",
       "      <td>90638</td>\n",
       "      <td>33.916402</td>\n",
       "      <td>-118.010855</td>\n",
       "      <td>4.5</td>\n",
       "      <td>18</td>\n",
       "      <td>0</td>\n",
       "      <td>0x80dd2b4c8555edb7:0xfc33d65c4bdbef42</td>\n",
       "      <td>Restaurant</td>\n",
       "    </tr>\n",
       "  </tbody>\n",
       "</table>\n",
       "</div>"
      ],
      "text/plain": [
       "           name                                                  address  \\\n",
       "0  San Soo Dang   San Soo Dang, 761 S Vermont Ave, Los Angeles, CA 90005   \n",
       "1  Vons Chicken  Vons Chicken, 12740 La Mirada Blvd, La Mirada, CA 90638   \n",
       "\n",
       "        state         city  postal_code   latitude   longitude  avg_rating  \\\n",
       "0  California  Los Angeles        90005  34.058092 -118.292130         4.4   \n",
       "1  California    La Mirada        90638  33.916402 -118.010855         4.5   \n",
       "\n",
       "   num_of_reviews  price_numeric                                gmap_id  \\\n",
       "0              18              0  0x80c2c778e3b73d33:0xbdc58662a4a97d49   \n",
       "1              18              0  0x80dd2b4c8555edb7:0xfc33d65c4bdbef42   \n",
       "\n",
       "            category  \n",
       "0  Korean restaurant  \n",
       "1         Restaurant  "
      ]
     },
     "execution_count": 4,
     "metadata": {},
     "output_type": "execute_result"
    }
   ],
   "source": [
    "restaurant.head(2)"
   ]
  },
  {
   "cell_type": "code",
   "execution_count": 5,
   "metadata": {},
   "outputs": [
    {
     "name": "stdout",
     "output_type": "stream",
     "text": [
      "<class 'pandas.core.frame.DataFrame'>\n",
      "Index: 22950 entries, 0 to 23113\n",
      "Data columns (total 12 columns):\n",
      " #   Column          Non-Null Count  Dtype  \n",
      "---  ------          --------------  -----  \n",
      " 0   name            22950 non-null  object \n",
      " 1   address         22950 non-null  object \n",
      " 2   state           22950 non-null  object \n",
      " 3   city            22950 non-null  object \n",
      " 4   postal_code     22950 non-null  int32  \n",
      " 5   latitude        22950 non-null  float64\n",
      " 6   longitude       22950 non-null  float64\n",
      " 7   avg_rating      22950 non-null  float64\n",
      " 8   num_of_reviews  22950 non-null  int64  \n",
      " 9   price_numeric   22950 non-null  int32  \n",
      " 10  gmap_id         22950 non-null  object \n",
      " 11  category        22950 non-null  object \n",
      "dtypes: float64(3), int32(2), int64(1), object(6)\n",
      "memory usage: 2.1+ MB\n"
     ]
    }
   ],
   "source": [
    "restaurant.info()"
   ]
  },
  {
   "cell_type": "code",
   "execution_count": 6,
   "metadata": {},
   "outputs": [
    {
     "data": {
      "text/html": [
       "<div>\n",
       "<style scoped>\n",
       "    .dataframe tbody tr th:only-of-type {\n",
       "        vertical-align: middle;\n",
       "    }\n",
       "\n",
       "    .dataframe tbody tr th {\n",
       "        vertical-align: top;\n",
       "    }\n",
       "\n",
       "    .dataframe thead th {\n",
       "        text-align: right;\n",
       "    }\n",
       "</style>\n",
       "<table border=\"1\" class=\"dataframe\">\n",
       "  <thead>\n",
       "    <tr style=\"text-align: right;\">\n",
       "      <th></th>\n",
       "      <th>user_id</th>\n",
       "      <th>user_name</th>\n",
       "      <th>year</th>\n",
       "      <th>month</th>\n",
       "      <th>day</th>\n",
       "      <th>hour</th>\n",
       "      <th>rating</th>\n",
       "      <th>text</th>\n",
       "      <th>restaurant_name</th>\n",
       "      <th>state</th>\n",
       "      <th>city</th>\n",
       "      <th>gmap_id</th>\n",
       "    </tr>\n",
       "  </thead>\n",
       "  <tbody>\n",
       "    <tr>\n",
       "      <th>0</th>\n",
       "      <td>109434968607034492648</td>\n",
       "      <td>Tony Pinto</td>\n",
       "      <td>2013</td>\n",
       "      <td>11</td>\n",
       "      <td>18</td>\n",
       "      <td>14:03:54.547</td>\n",
       "      <td>5</td>\n",
       "      <td>I came by yesterday to pick up some pizza on the way home and the food was amazing.  Best crust around - easily.  I ordered a calzone, one chocolate slice (amazing), two cheese slices and a potato slice (all for my wife and me and lunch for her next day).  Everything was perfect.  The guy behind the counter seemed nice (I think he may have been the owner) and price-wise may have been a bit pricey, but then again, the pizza really is that much better and then again, pizza prices around the city are about the same.  I'll definitely go back.</td>\n",
       "      <td>Raffaello Kosher Pizza</td>\n",
       "      <td>New_York</td>\n",
       "      <td>New York</td>\n",
       "      <td>0x89c258ffaeaba947:0x8355860772a595a9</td>\n",
       "    </tr>\n",
       "    <tr>\n",
       "      <th>1</th>\n",
       "      <td>108584493264435262292</td>\n",
       "      <td>Benji</td>\n",
       "      <td>2015</td>\n",
       "      <td>2</td>\n",
       "      <td>17</td>\n",
       "      <td>22:27:28.498</td>\n",
       "      <td>1</td>\n",
       "      <td>Food was burnt and not good. You would think since they are a New York style pizzeria they would have a regular slice of pizza. But when I went they had no regular pizza just random other slices (which were later burnt and didn't taste good) . Anyway there are many other places to go to eat, I don't recommend it.</td>\n",
       "      <td>Raffaello Kosher Pizza</td>\n",
       "      <td>New_York</td>\n",
       "      <td>New York</td>\n",
       "      <td>0x89c258ffaeaba947:0x8355860772a595a9</td>\n",
       "    </tr>\n",
       "  </tbody>\n",
       "</table>\n",
       "</div>"
      ],
      "text/plain": [
       "                 user_id   user_name  year  month  day          hour  rating  \\\n",
       "0  109434968607034492648  Tony Pinto  2013     11   18  14:03:54.547       5   \n",
       "1  108584493264435262292       Benji  2015      2   17  22:27:28.498       1   \n",
       "\n",
       "                                                                                                                                                                                                                                                                                                                                                                                                                                                                                                                                                               text  \\\n",
       "0  I came by yesterday to pick up some pizza on the way home and the food was amazing.  Best crust around - easily.  I ordered a calzone, one chocolate slice (amazing), two cheese slices and a potato slice (all for my wife and me and lunch for her next day).  Everything was perfect.  The guy behind the counter seemed nice (I think he may have been the owner) and price-wise may have been a bit pricey, but then again, the pizza really is that much better and then again, pizza prices around the city are about the same.  I'll definitely go back.   \n",
       "1                                                                                                                                                                                                                                        Food was burnt and not good. You would think since they are a New York style pizzeria they would have a regular slice of pizza. But when I went they had no regular pizza just random other slices (which were later burnt and didn't taste good) . Anyway there are many other places to go to eat, I don't recommend it.   \n",
       "\n",
       "          restaurant_name     state      city  \\\n",
       "0  Raffaello Kosher Pizza  New_York  New York   \n",
       "1  Raffaello Kosher Pizza  New_York  New York   \n",
       "\n",
       "                                 gmap_id  \n",
       "0  0x89c258ffaeaba947:0x8355860772a595a9  \n",
       "1  0x89c258ffaeaba947:0x8355860772a595a9  "
      ]
     },
     "execution_count": 6,
     "metadata": {},
     "output_type": "execute_result"
    }
   ],
   "source": [
    "reviews.head(2)"
   ]
  },
  {
   "cell_type": "code",
   "execution_count": 7,
   "metadata": {},
   "outputs": [
    {
     "name": "stdout",
     "output_type": "stream",
     "text": [
      "<class 'pandas.core.frame.DataFrame'>\n",
      "RangeIndex: 1776939 entries, 0 to 1776938\n",
      "Data columns (total 12 columns):\n",
      " #   Column           Dtype \n",
      "---  ------           ----- \n",
      " 0   user_id          object\n",
      " 1   user_name        object\n",
      " 2   year             int32 \n",
      " 3   month            int32 \n",
      " 4   day              int32 \n",
      " 5   hour             object\n",
      " 6   rating           int64 \n",
      " 7   text             object\n",
      " 8   restaurant_name  object\n",
      " 9   state            object\n",
      " 10  city             object\n",
      " 11  gmap_id          object\n",
      "dtypes: int32(3), int64(1), object(8)\n",
      "memory usage: 142.3+ MB\n"
     ]
    }
   ],
   "source": [
    "reviews.info()"
   ]
  },
  {
   "cell_type": "code",
   "execution_count": 8,
   "metadata": {},
   "outputs": [
    {
     "data": {
      "text/html": [
       "<div>\n",
       "<style scoped>\n",
       "    .dataframe tbody tr th:only-of-type {\n",
       "        vertical-align: middle;\n",
       "    }\n",
       "\n",
       "    .dataframe tbody tr th {\n",
       "        vertical-align: top;\n",
       "    }\n",
       "\n",
       "    .dataframe thead th {\n",
       "        text-align: right;\n",
       "    }\n",
       "</style>\n",
       "<table border=\"1\" class=\"dataframe\">\n",
       "  <thead>\n",
       "    <tr style=\"text-align: right;\">\n",
       "      <th></th>\n",
       "      <th>user_id</th>\n",
       "      <th>user_name</th>\n",
       "      <th>review_count</th>\n",
       "      <th>average_rating</th>\n",
       "    </tr>\n",
       "  </thead>\n",
       "  <tbody>\n",
       "    <tr>\n",
       "      <th>0</th>\n",
       "      <td>104819208193648646391</td>\n",
       "      <td>Gregor J. Rothfuss</td>\n",
       "      <td>102</td>\n",
       "      <td>3.941176</td>\n",
       "    </tr>\n",
       "    <tr>\n",
       "      <th>1</th>\n",
       "      <td>106654503918907830147</td>\n",
       "      <td>The Corcoran Group</td>\n",
       "      <td>91</td>\n",
       "      <td>4.054945</td>\n",
       "    </tr>\n",
       "  </tbody>\n",
       "</table>\n",
       "</div>"
      ],
      "text/plain": [
       "                 user_id           user_name  review_count  average_rating\n",
       "0  104819208193648646391  Gregor J. Rothfuss           102        3.941176\n",
       "1  106654503918907830147  The Corcoran Group            91        4.054945"
      ]
     },
     "execution_count": 8,
     "metadata": {},
     "output_type": "execute_result"
    }
   ],
   "source": [
    "user.head(2)"
   ]
  },
  {
   "cell_type": "code",
   "execution_count": 9,
   "metadata": {},
   "outputs": [
    {
     "name": "stdout",
     "output_type": "stream",
     "text": [
      "<class 'pandas.core.frame.DataFrame'>\n",
      "RangeIndex: 1134121 entries, 0 to 1134120\n",
      "Data columns (total 4 columns):\n",
      " #   Column          Non-Null Count    Dtype  \n",
      "---  ------          --------------    -----  \n",
      " 0   user_id         1134121 non-null  object \n",
      " 1   user_name       1134121 non-null  object \n",
      " 2   review_count    1134121 non-null  int64  \n",
      " 3   average_rating  1134121 non-null  float64\n",
      "dtypes: float64(1), int64(1), object(2)\n",
      "memory usage: 34.6+ MB\n"
     ]
    }
   ],
   "source": [
    "user.info()"
   ]
  },
  {
   "cell_type": "markdown",
   "metadata": {},
   "source": [
    "**Archivos YELP**"
   ]
  },
  {
   "cell_type": "code",
   "execution_count": 10,
   "metadata": {},
   "outputs": [],
   "source": [
    "business = pd.read_parquet(os.path.join(Ruta_data_procesada_full, \"Dataset_Business_simplificado.parquet\"))\n",
    "checkin = pd.read_parquet(os.path.join(Ruta_data_procesada_full, \"Dataset_Checkin.parquet\"))\n",
    "reviews_yelp = pd.read_parquet(os.path.join(Ruta_data_procesada_full, \"Dataset_Review_simplificado.parquet\"))\n",
    "tip = pd.read_parquet(os.path.join(Ruta_data_procesada, \"Dataset_Tip.parquet\"))\n",
    "user_yelp = pd.read_parquet(os.path.join(Ruta_data_procesada, \"Dataset_User_Elite.parquet\"))"
   ]
  },
  {
   "cell_type": "markdown",
   "metadata": {},
   "source": [
    "*Realizamos una visualización de los dataframes que tenemos para verificar que tipo de datos tenemos y la cantidad de los mismos.*"
   ]
  },
  {
   "cell_type": "code",
   "execution_count": 11,
   "metadata": {},
   "outputs": [
    {
     "data": {
      "text/html": [
       "<div>\n",
       "<style scoped>\n",
       "    .dataframe tbody tr th:only-of-type {\n",
       "        vertical-align: middle;\n",
       "    }\n",
       "\n",
       "    .dataframe tbody tr th {\n",
       "        vertical-align: top;\n",
       "    }\n",
       "\n",
       "    .dataframe thead th {\n",
       "        text-align: right;\n",
       "    }\n",
       "</style>\n",
       "<table border=\"1\" class=\"dataframe\">\n",
       "  <thead>\n",
       "    <tr style=\"text-align: right;\">\n",
       "      <th></th>\n",
       "      <th>id_business</th>\n",
       "      <th>name</th>\n",
       "      <th>city</th>\n",
       "      <th>state</th>\n",
       "      <th>postal_code</th>\n",
       "      <th>latitude</th>\n",
       "      <th>longitude</th>\n",
       "      <th>stars</th>\n",
       "      <th>review_count</th>\n",
       "      <th>hours_Dataset_Business</th>\n",
       "      <th>first_category</th>\n",
       "    </tr>\n",
       "  </thead>\n",
       "  <tbody>\n",
       "    <tr>\n",
       "      <th>6</th>\n",
       "      <td>3</td>\n",
       "      <td>St Honore Pastries</td>\n",
       "      <td>Philadelphia</td>\n",
       "      <td>Pennsylvania</td>\n",
       "      <td>19107</td>\n",
       "      <td>39.955505</td>\n",
       "      <td>-75.155564</td>\n",
       "      <td>4.0</td>\n",
       "      <td>80</td>\n",
       "      <td>{'Friday': '7:0-21:0', 'Monday': '7:0-20:0', 'Saturday': '7:0-21:0', 'Sunday': '7:0-21:0', 'Thursday': '7:0-20:0', 'Tuesday': '7:0-20:0', 'Wednesday': '7:0-20:0'}</td>\n",
       "      <td>Restaurants</td>\n",
       "    </tr>\n",
       "    <tr>\n",
       "      <th>1513</th>\n",
       "      <td>14</td>\n",
       "      <td>Zio's Italian Market</td>\n",
       "      <td>Largo</td>\n",
       "      <td>Florida</td>\n",
       "      <td>33771</td>\n",
       "      <td>27.916116</td>\n",
       "      <td>-82.760461</td>\n",
       "      <td>4.5</td>\n",
       "      <td>100</td>\n",
       "      <td>{'Friday': '10:0-20:0', 'Monday': '10:0-18:0', 'Saturday': '10:0-20:0', 'Sunday': None, 'Thursday': '10:0-20:0', 'Tuesday': '10:0-20:0', 'Wednesday': '10:0-20:0'}</td>\n",
       "      <td>Food</td>\n",
       "    </tr>\n",
       "  </tbody>\n",
       "</table>\n",
       "</div>"
      ],
      "text/plain": [
       "      id_business                  name          city         state  \\\n",
       "6               3    St Honore Pastries  Philadelphia  Pennsylvania   \n",
       "1513           14  Zio's Italian Market         Largo       Florida   \n",
       "\n",
       "      postal_code   latitude  longitude  stars  review_count  \\\n",
       "6           19107  39.955505 -75.155564    4.0            80   \n",
       "1513        33771  27.916116 -82.760461    4.5           100   \n",
       "\n",
       "                                                                                                                                                  hours_Dataset_Business  \\\n",
       "6     {'Friday': '7:0-21:0', 'Monday': '7:0-20:0', 'Saturday': '7:0-21:0', 'Sunday': '7:0-21:0', 'Thursday': '7:0-20:0', 'Tuesday': '7:0-20:0', 'Wednesday': '7:0-20:0'}   \n",
       "1513  {'Friday': '10:0-20:0', 'Monday': '10:0-18:0', 'Saturday': '10:0-20:0', 'Sunday': None, 'Thursday': '10:0-20:0', 'Tuesday': '10:0-20:0', 'Wednesday': '10:0-20:0'}   \n",
       "\n",
       "     first_category  \n",
       "6       Restaurants  \n",
       "1513           Food  "
      ]
     },
     "execution_count": 11,
     "metadata": {},
     "output_type": "execute_result"
    }
   ],
   "source": [
    "business.head(2)"
   ]
  },
  {
   "cell_type": "code",
   "execution_count": 12,
   "metadata": {},
   "outputs": [
    {
     "name": "stdout",
     "output_type": "stream",
     "text": [
      "<class 'pandas.core.frame.DataFrame'>\n",
      "Index: 8811 entries, 6 to 52612402\n",
      "Data columns (total 11 columns):\n",
      " #   Column                  Non-Null Count  Dtype  \n",
      "---  ------                  --------------  -----  \n",
      " 0   id_business             8811 non-null   int64  \n",
      " 1   name                    8811 non-null   object \n",
      " 2   city                    8811 non-null   object \n",
      " 3   state                   8811 non-null   object \n",
      " 4   postal_code             8811 non-null   int64  \n",
      " 5   latitude                8811 non-null   float64\n",
      " 6   longitude               8811 non-null   float64\n",
      " 7   stars                   8811 non-null   float64\n",
      " 8   review_count            8811 non-null   int64  \n",
      " 9   hours_Dataset_Business  8811 non-null   object \n",
      " 10  first_category          8811 non-null   object \n",
      "dtypes: float64(3), int64(3), object(5)\n",
      "memory usage: 826.0+ KB\n"
     ]
    }
   ],
   "source": [
    "business.info()"
   ]
  },
  {
   "cell_type": "code",
   "execution_count": 13,
   "metadata": {},
   "outputs": [
    {
     "data": {
      "text/html": [
       "<div>\n",
       "<style scoped>\n",
       "    .dataframe tbody tr th:only-of-type {\n",
       "        vertical-align: middle;\n",
       "    }\n",
       "\n",
       "    .dataframe tbody tr th {\n",
       "        vertical-align: top;\n",
       "    }\n",
       "\n",
       "    .dataframe thead th {\n",
       "        text-align: right;\n",
       "    }\n",
       "</style>\n",
       "<table border=\"1\" class=\"dataframe\">\n",
       "  <thead>\n",
       "    <tr style=\"text-align: right;\">\n",
       "      <th></th>\n",
       "      <th>business_id</th>\n",
       "      <th>hour</th>\n",
       "      <th>date</th>\n",
       "      <th>year</th>\n",
       "      <th>month</th>\n",
       "    </tr>\n",
       "  </thead>\n",
       "  <tbody>\n",
       "    <tr>\n",
       "      <th>0</th>\n",
       "      <td>---kPU91CF4Lq2-WlRu9Lw</td>\n",
       "      <td>21:10:56</td>\n",
       "      <td>2020-03-13</td>\n",
       "      <td>2020</td>\n",
       "      <td>3</td>\n",
       "    </tr>\n",
       "    <tr>\n",
       "      <th>1</th>\n",
       "      <td>---kPU91CF4Lq2-WlRu9Lw</td>\n",
       "      <td>22:18:06</td>\n",
       "      <td>2020-06-02</td>\n",
       "      <td>2020</td>\n",
       "      <td>6</td>\n",
       "    </tr>\n",
       "  </tbody>\n",
       "</table>\n",
       "</div>"
      ],
      "text/plain": [
       "              business_id      hour       date  year  month\n",
       "0  ---kPU91CF4Lq2-WlRu9Lw  21:10:56 2020-03-13  2020      3\n",
       "1  ---kPU91CF4Lq2-WlRu9Lw  22:18:06 2020-06-02  2020      6"
      ]
     },
     "execution_count": 13,
     "metadata": {},
     "output_type": "execute_result"
    }
   ],
   "source": [
    "checkin.head(2)"
   ]
  },
  {
   "cell_type": "code",
   "execution_count": 14,
   "metadata": {},
   "outputs": [
    {
     "name": "stdout",
     "output_type": "stream",
     "text": [
      "<class 'pandas.core.frame.DataFrame'>\n",
      "Index: 13353332 entries, 0 to 13356874\n",
      "Data columns (total 5 columns):\n",
      " #   Column       Dtype         \n",
      "---  ------       -----         \n",
      " 0   business_id  object        \n",
      " 1   hour         object        \n",
      " 2   date         datetime64[ns]\n",
      " 3   year         int32         \n",
      " 4   month        int32         \n",
      "dtypes: datetime64[ns](1), int32(2), object(2)\n",
      "memory usage: 509.4+ MB\n"
     ]
    }
   ],
   "source": [
    "checkin.info()"
   ]
  },
  {
   "cell_type": "code",
   "execution_count": 15,
   "metadata": {},
   "outputs": [
    {
     "data": {
      "text/html": [
       "<div>\n",
       "<style scoped>\n",
       "    .dataframe tbody tr th:only-of-type {\n",
       "        vertical-align: middle;\n",
       "    }\n",
       "\n",
       "    .dataframe tbody tr th {\n",
       "        vertical-align: top;\n",
       "    }\n",
       "\n",
       "    .dataframe thead th {\n",
       "        text-align: right;\n",
       "    }\n",
       "</style>\n",
       "<table border=\"1\" class=\"dataframe\">\n",
       "  <thead>\n",
       "    <tr style=\"text-align: right;\">\n",
       "      <th></th>\n",
       "      <th>user_id</th>\n",
       "      <th>stars_Dataset_Review</th>\n",
       "      <th>text</th>\n",
       "      <th>id_review</th>\n",
       "      <th>id_user</th>\n",
       "      <th>id_business</th>\n",
       "      <th>anho</th>\n",
       "      <th>mes</th>\n",
       "      <th>dia</th>\n",
       "      <th>hora</th>\n",
       "      <th>name</th>\n",
       "      <th>city</th>\n",
       "      <th>state</th>\n",
       "      <th>stars_Dataset_Business</th>\n",
       "      <th>review_count</th>\n",
       "      <th>yelp_id</th>\n",
       "    </tr>\n",
       "  </thead>\n",
       "  <tbody>\n",
       "    <tr>\n",
       "      <th>0</th>\n",
       "      <td>mh_-eMZ6K5RLWhZyISBhwA</td>\n",
       "      <td>3.0</td>\n",
       "      <td>If you decide to eat here, just be aware it is going to take about 2 hours from beginning to end. We have tried it multiple times, because I want to like it! I have been to it's other locations in NJ and never had a bad experience. \\n\\nThe food is good, but it takes a very long time to come out. The waitstaff is very young, but usually pleasant. We have just had too many experiences where we spent way too long waiting. We usually opt for another diner or restaurant on the weekends, in order to be done quicker.</td>\n",
       "      <td>0</td>\n",
       "      <td>124234</td>\n",
       "      <td>1867</td>\n",
       "      <td>2018</td>\n",
       "      <td>07</td>\n",
       "      <td>07</td>\n",
       "      <td>22:09:11</td>\n",
       "      <td>Turning Point of North Wales</td>\n",
       "      <td>North Wales</td>\n",
       "      <td>Pennsylvania</td>\n",
       "      <td>3.0</td>\n",
       "      <td>169</td>\n",
       "      <td>mh_-eMZ6K5RLWhZyISBhwA</td>\n",
       "    </tr>\n",
       "    <tr>\n",
       "      <th>6</th>\n",
       "      <td>59MxRhNVhU9MYndMkz0wtw</td>\n",
       "      <td>3.0</td>\n",
       "      <td>Had a party of 6 here for hibachi. Our waitress brought our separate sushi orders on one plate so we couldn't really tell who's was who's and forgot several items on an order. I understand making mistakes but the restaraunt was really quiet so we were kind of surprised. Usually hibachi is a fun lively experience and our  cook  said maybe three words, but he cooked very well his name was Francisco. Service was fishy, food was pretty good, and im hoping it was just an off night here. But for the money I wouldn't go back.</td>\n",
       "      <td>9</td>\n",
       "      <td>114367</td>\n",
       "      <td>14917</td>\n",
       "      <td>2016</td>\n",
       "      <td>07</td>\n",
       "      <td>25</td>\n",
       "      <td>07:31:06</td>\n",
       "      <td>Hibachi Steak House &amp; Sushi Bar</td>\n",
       "      <td>Santa Barbara</td>\n",
       "      <td>California</td>\n",
       "      <td>3.5</td>\n",
       "      <td>488</td>\n",
       "      <td>59MxRhNVhU9MYndMkz0wtw</td>\n",
       "    </tr>\n",
       "  </tbody>\n",
       "</table>\n",
       "</div>"
      ],
      "text/plain": [
       "                  user_id  stars_Dataset_Review  \\\n",
       "0  mh_-eMZ6K5RLWhZyISBhwA                   3.0   \n",
       "6  59MxRhNVhU9MYndMkz0wtw                   3.0   \n",
       "\n",
       "                                                                                                                                                                                                                                                                                                                                                                                                                                                                                                                                           text  \\\n",
       "0           If you decide to eat here, just be aware it is going to take about 2 hours from beginning to end. We have tried it multiple times, because I want to like it! I have been to it's other locations in NJ and never had a bad experience. \\n\\nThe food is good, but it takes a very long time to come out. The waitstaff is very young, but usually pleasant. We have just had too many experiences where we spent way too long waiting. We usually opt for another diner or restaurant on the weekends, in order to be done quicker.   \n",
       "6  Had a party of 6 here for hibachi. Our waitress brought our separate sushi orders on one plate so we couldn't really tell who's was who's and forgot several items on an order. I understand making mistakes but the restaraunt was really quiet so we were kind of surprised. Usually hibachi is a fun lively experience and our  cook  said maybe three words, but he cooked very well his name was Francisco. Service was fishy, food was pretty good, and im hoping it was just an off night here. But for the money I wouldn't go back.   \n",
       "\n",
       "   id_review  id_user  id_business  anho mes dia      hora  \\\n",
       "0          0   124234         1867  2018  07  07  22:09:11   \n",
       "6          9   114367        14917  2016  07  25  07:31:06   \n",
       "\n",
       "                              name           city         state  \\\n",
       "0     Turning Point of North Wales    North Wales  Pennsylvania   \n",
       "6  Hibachi Steak House & Sushi Bar  Santa Barbara    California   \n",
       "\n",
       "   stars_Dataset_Business  review_count                 yelp_id  \n",
       "0                     3.0           169  mh_-eMZ6K5RLWhZyISBhwA  \n",
       "6                     3.5           488  59MxRhNVhU9MYndMkz0wtw  "
      ]
     },
     "execution_count": 15,
     "metadata": {},
     "output_type": "execute_result"
    }
   ],
   "source": [
    "reviews_yelp.head(2)"
   ]
  },
  {
   "cell_type": "code",
   "execution_count": 16,
   "metadata": {},
   "outputs": [
    {
     "name": "stdout",
     "output_type": "stream",
     "text": [
      "<class 'pandas.core.frame.DataFrame'>\n",
      "Index: 767182 entries, 0 to 3514967\n",
      "Data columns (total 16 columns):\n",
      " #   Column                  Non-Null Count   Dtype  \n",
      "---  ------                  --------------   -----  \n",
      " 0   user_id                 767182 non-null  object \n",
      " 1   stars_Dataset_Review    767182 non-null  float64\n",
      " 2   text                    767182 non-null  object \n",
      " 3   id_review               767182 non-null  int64  \n",
      " 4   id_user                 767182 non-null  int64  \n",
      " 5   id_business             767182 non-null  int64  \n",
      " 6   anho                    767182 non-null  object \n",
      " 7   mes                     767182 non-null  object \n",
      " 8   dia                     767182 non-null  object \n",
      " 9   hora                    767182 non-null  object \n",
      " 10  name                    767182 non-null  object \n",
      " 11  city                    767182 non-null  object \n",
      " 12  state                   767182 non-null  object \n",
      " 13  stars_Dataset_Business  767182 non-null  float64\n",
      " 14  review_count            767182 non-null  int64  \n",
      " 15  yelp_id                 767182 non-null  object \n",
      "dtypes: float64(2), int64(4), object(10)\n",
      "memory usage: 99.5+ MB\n"
     ]
    }
   ],
   "source": [
    "reviews_yelp.info()"
   ]
  },
  {
   "cell_type": "code",
   "execution_count": 17,
   "metadata": {},
   "outputs": [
    {
     "data": {
      "text/html": [
       "<div>\n",
       "<style scoped>\n",
       "    .dataframe tbody tr th:only-of-type {\n",
       "        vertical-align: middle;\n",
       "    }\n",
       "\n",
       "    .dataframe tbody tr th {\n",
       "        vertical-align: top;\n",
       "    }\n",
       "\n",
       "    .dataframe thead th {\n",
       "        text-align: right;\n",
       "    }\n",
       "</style>\n",
       "<table border=\"1\" class=\"dataframe\">\n",
       "  <thead>\n",
       "    <tr style=\"text-align: right;\">\n",
       "      <th></th>\n",
       "      <th>id_user</th>\n",
       "      <th>id_business</th>\n",
       "      <th>text</th>\n",
       "      <th>date</th>\n",
       "      <th>compliment_count</th>\n",
       "    </tr>\n",
       "  </thead>\n",
       "  <tbody>\n",
       "    <tr>\n",
       "      <th>0</th>\n",
       "      <td>66477</td>\n",
       "      <td>140105</td>\n",
       "      <td>They have lots of good deserts and tasty cuban sandwiches</td>\n",
       "      <td>2013-02-05 18:35:10</td>\n",
       "      <td>0</td>\n",
       "    </tr>\n",
       "    <tr>\n",
       "      <th>1</th>\n",
       "      <td>49975</td>\n",
       "      <td>865</td>\n",
       "      <td>It's open even when you think it isn't</td>\n",
       "      <td>2013-08-18 00:56:08</td>\n",
       "      <td>0</td>\n",
       "    </tr>\n",
       "  </tbody>\n",
       "</table>\n",
       "</div>"
      ],
      "text/plain": [
       "   id_user  id_business  \\\n",
       "0    66477       140105   \n",
       "1    49975          865   \n",
       "\n",
       "                                                        text  \\\n",
       "0  They have lots of good deserts and tasty cuban sandwiches   \n",
       "1                     It's open even when you think it isn't   \n",
       "\n",
       "                  date  compliment_count  \n",
       "0  2013-02-05 18:35:10                 0  \n",
       "1  2013-08-18 00:56:08                 0  "
      ]
     },
     "execution_count": 17,
     "metadata": {},
     "output_type": "execute_result"
    }
   ],
   "source": [
    "tip.head(2)"
   ]
  },
  {
   "cell_type": "code",
   "execution_count": 18,
   "metadata": {},
   "outputs": [
    {
     "name": "stdout",
     "output_type": "stream",
     "text": [
      "<class 'pandas.core.frame.DataFrame'>\n",
      "Index: 433330 entries, 0 to 433367\n",
      "Data columns (total 5 columns):\n",
      " #   Column            Non-Null Count   Dtype \n",
      "---  ------            --------------   ----- \n",
      " 0   id_user           433330 non-null  int64 \n",
      " 1   id_business       433330 non-null  int64 \n",
      " 2   text              433330 non-null  object\n",
      " 3   date              433330 non-null  object\n",
      " 4   compliment_count  433330 non-null  int64 \n",
      "dtypes: int64(3), object(2)\n",
      "memory usage: 19.8+ MB\n"
     ]
    }
   ],
   "source": [
    "tip.info()"
   ]
  },
  {
   "cell_type": "code",
   "execution_count": 19,
   "metadata": {},
   "outputs": [
    {
     "data": {
      "text/html": [
       "<div>\n",
       "<style scoped>\n",
       "    .dataframe tbody tr th:only-of-type {\n",
       "        vertical-align: middle;\n",
       "    }\n",
       "\n",
       "    .dataframe tbody tr th {\n",
       "        vertical-align: top;\n",
       "    }\n",
       "\n",
       "    .dataframe thead th {\n",
       "        text-align: right;\n",
       "    }\n",
       "</style>\n",
       "<table border=\"1\" class=\"dataframe\">\n",
       "  <thead>\n",
       "    <tr style=\"text-align: right;\">\n",
       "      <th></th>\n",
       "      <th>id_user</th>\n",
       "      <th>years</th>\n",
       "    </tr>\n",
       "  </thead>\n",
       "  <tbody>\n",
       "    <tr>\n",
       "      <th>0</th>\n",
       "      <td>0</td>\n",
       "      <td>2007</td>\n",
       "    </tr>\n",
       "    <tr>\n",
       "      <th>1</th>\n",
       "      <td>1</td>\n",
       "      <td>2009</td>\n",
       "    </tr>\n",
       "  </tbody>\n",
       "</table>\n",
       "</div>"
      ],
      "text/plain": [
       "   id_user  years\n",
       "0        0   2007\n",
       "1        1   2009"
      ]
     },
     "execution_count": 19,
     "metadata": {},
     "output_type": "execute_result"
    }
   ],
   "source": [
    "user_yelp.head(2)"
   ]
  },
  {
   "cell_type": "markdown",
   "metadata": {},
   "source": [
    "Se realizará un análisis para definir la calidad de los datos de cada uno de los dataframes con los que contamos y la calidad se calculará verificando la cantidad de datos nulos, datos faltantes y dato duplicados, esto se representará con un % (porcentaje) calculado por el total de datos existente dividido por la cantidad de datos faltantes."
   ]
  },
  {
   "cell_type": "markdown",
   "metadata": {},
   "source": [
    "**Verificación de datos \"Nulos\" de cada Dataframes de Google.**"
   ]
  },
  {
   "cell_type": "markdown",
   "metadata": {},
   "source": [
    "*Nulos dataframe \"restaurant\".*"
   ]
  },
  {
   "cell_type": "code",
   "execution_count": 20,
   "metadata": {},
   "outputs": [
    {
     "data": {
      "text/plain": [
       "name              0\n",
       "address           0\n",
       "state             0\n",
       "city              0\n",
       "postal_code       0\n",
       "latitude          0\n",
       "longitude         0\n",
       "avg_rating        0\n",
       "num_of_reviews    0\n",
       "price_numeric     0\n",
       "gmap_id           0\n",
       "category          0\n",
       "dtype: int64"
      ]
     },
     "execution_count": 20,
     "metadata": {},
     "output_type": "execute_result"
    }
   ],
   "source": [
    "restaurant.isnull().sum()"
   ]
  },
  {
   "cell_type": "markdown",
   "metadata": {},
   "source": [
    "Se realizó una verificación de todas las columnas del dataframe \"restaurant\" en busca de datos nulos. El resultado reveló la ausencia total de datos nulos equivalente a un 0%, lo que nos lleva a concluir que la calidad de los datos en este término es óptima."
   ]
  },
  {
   "cell_type": "markdown",
   "metadata": {},
   "source": [
    "*Nulos dataframe \"reviews\".*"
   ]
  },
  {
   "cell_type": "code",
   "execution_count": 21,
   "metadata": {},
   "outputs": [
    {
     "data": {
      "text/plain": [
       "user_id            0\n",
       "user_name          0\n",
       "year               0\n",
       "month              0\n",
       "day                0\n",
       "hour               0\n",
       "rating             0\n",
       "text               0\n",
       "restaurant_name    0\n",
       "state              0\n",
       "city               0\n",
       "gmap_id            0\n",
       "dtype: int64"
      ]
     },
     "execution_count": 21,
     "metadata": {},
     "output_type": "execute_result"
    }
   ],
   "source": [
    "reviews.isnull().sum()"
   ]
  },
  {
   "cell_type": "markdown",
   "metadata": {},
   "source": [
    "Se realizó una verificación de todas las columnas del dataframe \"reviews\" en busca de datos nulos. El resultado reveló la ausencia total de datos nulos equivalente a un 0%, lo que nos lleva a concluir que la calidad de los datos en este término es óptima."
   ]
  },
  {
   "cell_type": "markdown",
   "metadata": {},
   "source": [
    "*Nulos dataframe \"user\".*"
   ]
  },
  {
   "cell_type": "code",
   "execution_count": 22,
   "metadata": {},
   "outputs": [
    {
     "data": {
      "text/plain": [
       "user_id           0\n",
       "user_name         0\n",
       "review_count      0\n",
       "average_rating    0\n",
       "dtype: int64"
      ]
     },
     "execution_count": 22,
     "metadata": {},
     "output_type": "execute_result"
    }
   ],
   "source": [
    "user.isnull().sum()"
   ]
  },
  {
   "cell_type": "markdown",
   "metadata": {},
   "source": [
    "Se realizó una verificación de todas las columnas del dataframe \"user\" en busca de datos nulos. El resultado reveló la ausencia total de datos nulos, lo cual equivale a un 0%, lo que nos lleva a concluir que la calidad de los datos en este término es óptima."
   ]
  },
  {
   "cell_type": "markdown",
   "metadata": {},
   "source": [
    "**Verificación de datos duplicados Google**"
   ]
  },
  {
   "cell_type": "markdown",
   "metadata": {},
   "source": [
    "*Duplicados dataframe \"restaurant\".*"
   ]
  },
  {
   "cell_type": "markdown",
   "metadata": {},
   "source": [
    "En relación con la detección de datos duplicados en el DataFrame \"restaurant\", se focalizará exclusivamente en la columna \"address\" debido a la naturaleza del conjunto de datos. La identificación de duplicados en esta columna indicaría una anomalía, ya que no se espera que existan múltiples restaurantes en la misma ubicación."
   ]
  },
  {
   "cell_type": "code",
   "execution_count": 23,
   "metadata": {},
   "outputs": [
    {
     "data": {
      "text/html": [
       "<div>\n",
       "<style scoped>\n",
       "    .dataframe tbody tr th:only-of-type {\n",
       "        vertical-align: middle;\n",
       "    }\n",
       "\n",
       "    .dataframe tbody tr th {\n",
       "        vertical-align: top;\n",
       "    }\n",
       "\n",
       "    .dataframe thead th {\n",
       "        text-align: right;\n",
       "    }\n",
       "</style>\n",
       "<table border=\"1\" class=\"dataframe\">\n",
       "  <thead>\n",
       "    <tr style=\"text-align: right;\">\n",
       "      <th></th>\n",
       "      <th>name</th>\n",
       "      <th>address</th>\n",
       "      <th>state</th>\n",
       "      <th>city</th>\n",
       "      <th>postal_code</th>\n",
       "      <th>latitude</th>\n",
       "      <th>longitude</th>\n",
       "      <th>avg_rating</th>\n",
       "      <th>num_of_reviews</th>\n",
       "      <th>price_numeric</th>\n",
       "      <th>gmap_id</th>\n",
       "      <th>category</th>\n",
       "    </tr>\n",
       "  </thead>\n",
       "  <tbody>\n",
       "  </tbody>\n",
       "</table>\n",
       "</div>"
      ],
      "text/plain": [
       "Empty DataFrame\n",
       "Columns: [name, address, state, city, postal_code, latitude, longitude, avg_rating, num_of_reviews, price_numeric, gmap_id, category]\n",
       "Index: []"
      ]
     },
     "execution_count": 23,
     "metadata": {},
     "output_type": "execute_result"
    }
   ],
   "source": [
    "duplicados = restaurant[restaurant.duplicated(subset='address')]\n",
    "duplicados"
   ]
  },
  {
   "cell_type": "markdown",
   "metadata": {},
   "source": [
    "Tras llevar a cabo la validación de duplicados en la columna \"address\", se constató la ausencia de repeticiones, lo que sugiere una alta integridad de datos en el DataFrame \"restaurant\"."
   ]
  },
  {
   "cell_type": "markdown",
   "metadata": {},
   "source": [
    "*Duplicados dataframe \"reviews\".*"
   ]
  },
  {
   "cell_type": "code",
   "execution_count": 24,
   "metadata": {},
   "outputs": [
    {
     "data": {
      "text/html": [
       "<div>\n",
       "<style scoped>\n",
       "    .dataframe tbody tr th:only-of-type {\n",
       "        vertical-align: middle;\n",
       "    }\n",
       "\n",
       "    .dataframe tbody tr th {\n",
       "        vertical-align: top;\n",
       "    }\n",
       "\n",
       "    .dataframe thead th {\n",
       "        text-align: right;\n",
       "    }\n",
       "</style>\n",
       "<table border=\"1\" class=\"dataframe\">\n",
       "  <thead>\n",
       "    <tr style=\"text-align: right;\">\n",
       "      <th></th>\n",
       "      <th>user_id</th>\n",
       "      <th>user_name</th>\n",
       "      <th>year</th>\n",
       "      <th>month</th>\n",
       "      <th>day</th>\n",
       "      <th>hour</th>\n",
       "      <th>rating</th>\n",
       "      <th>text</th>\n",
       "      <th>restaurant_name</th>\n",
       "      <th>state</th>\n",
       "      <th>city</th>\n",
       "      <th>gmap_id</th>\n",
       "    </tr>\n",
       "  </thead>\n",
       "  <tbody>\n",
       "    <tr>\n",
       "      <th>0</th>\n",
       "      <td>109434968607034492648</td>\n",
       "      <td>Tony Pinto</td>\n",
       "      <td>2013</td>\n",
       "      <td>11</td>\n",
       "      <td>18</td>\n",
       "      <td>14:03:54.547</td>\n",
       "      <td>5</td>\n",
       "      <td>I came by yesterday to pick up some pizza on the way home and the food was amazing.  Best crust around - easily.  I ordered a calzone, one chocolate slice (amazing), two cheese slices and a potato slice (all for my wife and me and lunch for her next day).  Everything was perfect.  The guy behind the counter seemed nice (I think he may have been the owner) and price-wise may have been a bit pricey, but then again, the pizza really is that much better and then again, pizza prices around the city are about the same.  I'll definitely go back.</td>\n",
       "      <td>Raffaello Kosher Pizza</td>\n",
       "      <td>New_York</td>\n",
       "      <td>New York</td>\n",
       "      <td>0x89c258ffaeaba947:0x8355860772a595a9</td>\n",
       "    </tr>\n",
       "    <tr>\n",
       "      <th>1</th>\n",
       "      <td>108584493264435262292</td>\n",
       "      <td>Benji</td>\n",
       "      <td>2015</td>\n",
       "      <td>2</td>\n",
       "      <td>17</td>\n",
       "      <td>22:27:28.498</td>\n",
       "      <td>1</td>\n",
       "      <td>Food was burnt and not good. You would think since they are a New York style pizzeria they would have a regular slice of pizza. But when I went they had no regular pizza just random other slices (which were later burnt and didn't taste good) . Anyway there are many other places to go to eat, I don't recommend it.</td>\n",
       "      <td>Raffaello Kosher Pizza</td>\n",
       "      <td>New_York</td>\n",
       "      <td>New York</td>\n",
       "      <td>0x89c258ffaeaba947:0x8355860772a595a9</td>\n",
       "    </tr>\n",
       "    <tr>\n",
       "      <th>2</th>\n",
       "      <td>108987049306954366378</td>\n",
       "      <td>Michael Rahmani</td>\n",
       "      <td>2014</td>\n",
       "      <td>12</td>\n",
       "      <td>30</td>\n",
       "      <td>22:43:47.508</td>\n",
       "      <td>1</td>\n",
       "      <td>This place is horrible. I ordered two ziti pizza's and my friend ordered regular. It tasted like complete garbage. It was 11 dollars for two ziti square pizza's and a can! The guy behind the counter was nice, though. The place looks bigger in these photos but it is not so big. There were no tables open so we and a lot of people were waiting a couple minutes to sit down. PLEASE SPEND YOUR MONEY ELSEWHERE! THERE ARE BETTER RESTAURANTS!</td>\n",
       "      <td>Raffaello Kosher Pizza</td>\n",
       "      <td>New_York</td>\n",
       "      <td>New York</td>\n",
       "      <td>0x89c258ffaeaba947:0x8355860772a595a9</td>\n",
       "    </tr>\n",
       "    <tr>\n",
       "      <th>3</th>\n",
       "      <td>107767094884093007779</td>\n",
       "      <td>eliau piha</td>\n",
       "      <td>2014</td>\n",
       "      <td>7</td>\n",
       "      <td>6</td>\n",
       "      <td>23:26:13.836</td>\n",
       "      <td>5</td>\n",
       "      <td>Love their pizza and their service!\\nREALLY ITALIANO!</td>\n",
       "      <td>Raffaello Kosher Pizza</td>\n",
       "      <td>New_York</td>\n",
       "      <td>New York</td>\n",
       "      <td>0x89c258ffaeaba947:0x8355860772a595a9</td>\n",
       "    </tr>\n",
       "    <tr>\n",
       "      <th>4</th>\n",
       "      <td>107373453968933712290</td>\n",
       "      <td>Matt Schaffnit</td>\n",
       "      <td>2016</td>\n",
       "      <td>10</td>\n",
       "      <td>25</td>\n",
       "      <td>08:30:54.4</td>\n",
       "      <td>5</td>\n",
       "      <td>Used to get lunch here nearly every day. You will be missed.</td>\n",
       "      <td>Raffaello Kosher Pizza</td>\n",
       "      <td>New_York</td>\n",
       "      <td>New York</td>\n",
       "      <td>0x89c258ffaeaba947:0x8355860772a595a9</td>\n",
       "    </tr>\n",
       "    <tr>\n",
       "      <th>...</th>\n",
       "      <td>...</td>\n",
       "      <td>...</td>\n",
       "      <td>...</td>\n",
       "      <td>...</td>\n",
       "      <td>...</td>\n",
       "      <td>...</td>\n",
       "      <td>...</td>\n",
       "      <td>...</td>\n",
       "      <td>...</td>\n",
       "      <td>...</td>\n",
       "      <td>...</td>\n",
       "      <td>...</td>\n",
       "    </tr>\n",
       "    <tr>\n",
       "      <th>1771572</th>\n",
       "      <td>111588294688947866534</td>\n",
       "      <td>David Marlon</td>\n",
       "      <td>2018</td>\n",
       "      <td>2</td>\n",
       "      <td>22</td>\n",
       "      <td>15:03:35.747</td>\n",
       "      <td>5</td>\n",
       "      <td>Great mexican food with a gourmet twist.  Personable and engaging staff and good drinks I hear.</td>\n",
       "      <td>El Sombrero Mexican Bistro</td>\n",
       "      <td>Nevada</td>\n",
       "      <td>Las Vegas</td>\n",
       "      <td>0x80c8c39a24d257e3:0xc2e8787e4925ec72</td>\n",
       "    </tr>\n",
       "    <tr>\n",
       "      <th>1771585</th>\n",
       "      <td>102383499928688600749</td>\n",
       "      <td>Rickg Aguirre</td>\n",
       "      <td>2019</td>\n",
       "      <td>2</td>\n",
       "      <td>8</td>\n",
       "      <td>01:51:28.622</td>\n",
       "      <td>1</td>\n",
       "      <td>They are close</td>\n",
       "      <td>El Sombrero Mexican Bistro</td>\n",
       "      <td>Nevada</td>\n",
       "      <td>Las Vegas</td>\n",
       "      <td>0x80c8c39a24d257e3:0xc2e8787e4925ec72</td>\n",
       "    </tr>\n",
       "    <tr>\n",
       "      <th>1771593</th>\n",
       "      <td>102383499928688600749</td>\n",
       "      <td>Rickg Aguirre</td>\n",
       "      <td>2019</td>\n",
       "      <td>2</td>\n",
       "      <td>8</td>\n",
       "      <td>01:51:28.622</td>\n",
       "      <td>1</td>\n",
       "      <td>They are close</td>\n",
       "      <td>El Sombrero Mexican Bistro</td>\n",
       "      <td>Nevada</td>\n",
       "      <td>Las Vegas</td>\n",
       "      <td>0x80c8c39a24d257e3:0xc2e8787e4925ec72</td>\n",
       "    </tr>\n",
       "    <tr>\n",
       "      <th>1771664</th>\n",
       "      <td>100712857990209470412</td>\n",
       "      <td>Joshua Baron</td>\n",
       "      <td>2021</td>\n",
       "      <td>5</td>\n",
       "      <td>5</td>\n",
       "      <td>19:04:34.278</td>\n",
       "      <td>5</td>\n",
       "      <td>Amazing Carnitas and terrific Pizza!</td>\n",
       "      <td>Carnitas King</td>\n",
       "      <td>Nevada</td>\n",
       "      <td>Las Vegas</td>\n",
       "      <td>0x80c8c8852ac55555:0x54fdc578f0d448a2</td>\n",
       "    </tr>\n",
       "    <tr>\n",
       "      <th>1771666</th>\n",
       "      <td>100712857990209470412</td>\n",
       "      <td>Joshua Baron</td>\n",
       "      <td>2021</td>\n",
       "      <td>5</td>\n",
       "      <td>5</td>\n",
       "      <td>19:04:34.278</td>\n",
       "      <td>5</td>\n",
       "      <td>Amazing Carnitas and terrific Pizza!</td>\n",
       "      <td>Carnitas King</td>\n",
       "      <td>Nevada</td>\n",
       "      <td>Las Vegas</td>\n",
       "      <td>0x80c8c8852ac55555:0x54fdc578f0d448a2</td>\n",
       "    </tr>\n",
       "  </tbody>\n",
       "</table>\n",
       "<p>143330 rows × 12 columns</p>\n",
       "</div>"
      ],
      "text/plain": [
       "                       user_id        user_name  year  month  day  \\\n",
       "0        109434968607034492648       Tony Pinto  2013     11   18   \n",
       "1        108584493264435262292            Benji  2015      2   17   \n",
       "2        108987049306954366378  Michael Rahmani  2014     12   30   \n",
       "3        107767094884093007779       eliau piha  2014      7    6   \n",
       "4        107373453968933712290   Matt Schaffnit  2016     10   25   \n",
       "...                        ...              ...   ...    ...  ...   \n",
       "1771572  111588294688947866534     David Marlon  2018      2   22   \n",
       "1771585  102383499928688600749    Rickg Aguirre  2019      2    8   \n",
       "1771593  102383499928688600749    Rickg Aguirre  2019      2    8   \n",
       "1771664  100712857990209470412     Joshua Baron  2021      5    5   \n",
       "1771666  100712857990209470412     Joshua Baron  2021      5    5   \n",
       "\n",
       "                 hour  rating  \\\n",
       "0        14:03:54.547       5   \n",
       "1        22:27:28.498       1   \n",
       "2        22:43:47.508       1   \n",
       "3        23:26:13.836       5   \n",
       "4          08:30:54.4       5   \n",
       "...               ...     ...   \n",
       "1771572  15:03:35.747       5   \n",
       "1771585  01:51:28.622       1   \n",
       "1771593  01:51:28.622       1   \n",
       "1771664  19:04:34.278       5   \n",
       "1771666  19:04:34.278       5   \n",
       "\n",
       "                                                                                                                                                                                                                                                                                                                                                                                                                                                                                                                                                                     text  \\\n",
       "0        I came by yesterday to pick up some pizza on the way home and the food was amazing.  Best crust around - easily.  I ordered a calzone, one chocolate slice (amazing), two cheese slices and a potato slice (all for my wife and me and lunch for her next day).  Everything was perfect.  The guy behind the counter seemed nice (I think he may have been the owner) and price-wise may have been a bit pricey, but then again, the pizza really is that much better and then again, pizza prices around the city are about the same.  I'll definitely go back.   \n",
       "1                                                                                                                                                                                                                                              Food was burnt and not good. You would think since they are a New York style pizzeria they would have a regular slice of pizza. But when I went they had no regular pizza just random other slices (which were later burnt and didn't taste good) . Anyway there are many other places to go to eat, I don't recommend it.   \n",
       "2                                                                                                                   This place is horrible. I ordered two ziti pizza's and my friend ordered regular. It tasted like complete garbage. It was 11 dollars for two ziti square pizza's and a can! The guy behind the counter was nice, though. The place looks bigger in these photos but it is not so big. There were no tables open so we and a lot of people were waiting a couple minutes to sit down. PLEASE SPEND YOUR MONEY ELSEWHERE! THERE ARE BETTER RESTAURANTS!   \n",
       "3                                                                                                                                                                                                                                                                                                                                                                                                                                                                                                                   Love their pizza and their service!\\nREALLY ITALIANO!   \n",
       "4                                                                                                                                                                                                                                                                                                                                                                                                                                                                                                            Used to get lunch here nearly every day. You will be missed.   \n",
       "...                                                                                                                                                                                                                                                                                                                                                                                                                                                                                                                                                                   ...   \n",
       "1771572                                                                                                                                                                                                                                                                                                                                                                                                                                                                   Great mexican food with a gourmet twist.  Personable and engaging staff and good drinks I hear.   \n",
       "1771585                                                                                                                                                                                                                                                                                                                                                                                                                                                                                                                                                    They are close   \n",
       "1771593                                                                                                                                                                                                                                                                                                                                                                                                                                                                                                                                                    They are close   \n",
       "1771664                                                                                                                                                                                                                                                                                                                                                                                                                                                                                                                              Amazing Carnitas and terrific Pizza!   \n",
       "1771666                                                                                                                                                                                                                                                                                                                                                                                                                                                                                                                              Amazing Carnitas and terrific Pizza!   \n",
       "\n",
       "                    restaurant_name     state       city  \\\n",
       "0            Raffaello Kosher Pizza  New_York   New York   \n",
       "1            Raffaello Kosher Pizza  New_York   New York   \n",
       "2            Raffaello Kosher Pizza  New_York   New York   \n",
       "3            Raffaello Kosher Pizza  New_York   New York   \n",
       "4            Raffaello Kosher Pizza  New_York   New York   \n",
       "...                             ...       ...        ...   \n",
       "1771572  El Sombrero Mexican Bistro    Nevada  Las Vegas   \n",
       "1771585  El Sombrero Mexican Bistro    Nevada  Las Vegas   \n",
       "1771593  El Sombrero Mexican Bistro    Nevada  Las Vegas   \n",
       "1771664               Carnitas King    Nevada  Las Vegas   \n",
       "1771666               Carnitas King    Nevada  Las Vegas   \n",
       "\n",
       "                                       gmap_id  \n",
       "0        0x89c258ffaeaba947:0x8355860772a595a9  \n",
       "1        0x89c258ffaeaba947:0x8355860772a595a9  \n",
       "2        0x89c258ffaeaba947:0x8355860772a595a9  \n",
       "3        0x89c258ffaeaba947:0x8355860772a595a9  \n",
       "4        0x89c258ffaeaba947:0x8355860772a595a9  \n",
       "...                                        ...  \n",
       "1771572  0x80c8c39a24d257e3:0xc2e8787e4925ec72  \n",
       "1771585  0x80c8c39a24d257e3:0xc2e8787e4925ec72  \n",
       "1771593  0x80c8c39a24d257e3:0xc2e8787e4925ec72  \n",
       "1771664  0x80c8c8852ac55555:0x54fdc578f0d448a2  \n",
       "1771666  0x80c8c8852ac55555:0x54fdc578f0d448a2  \n",
       "\n",
       "[143330 rows x 12 columns]"
      ]
     },
     "execution_count": 24,
     "metadata": {},
     "output_type": "execute_result"
    }
   ],
   "source": [
    "duplicados = reviews[reviews.duplicated(subset=['user_id', 'hour'], keep=False)]\n",
    "duplicados"
   ]
  },
  {
   "cell_type": "code",
   "execution_count": 25,
   "metadata": {},
   "outputs": [
    {
     "data": {
      "text/plain": [
       "user_id                user_name                year  month  day  hour          rating  text                                                                                                                                                                                        restaurant_name                   state       city                gmap_id                              \n",
       "105594160560423982695  Randy Eldridge           2019  3      3    21:42:11.294  5       Cool spot never a problem here                                                                                                                                                              IHOP                              California  Union City          0x808f95c508d7725b:0x2ec9b936301fa5d9    3\n",
       "112805528997468087757  Abby Grace               2021  6      19   01:23:58.934  5       SD                                                                                                                                                                                          Canton Palace Chinese Restaurant  Florida     Miami               0x88d9b9009976b2d1:0xdb8853eabc1567cd    3\n",
       "109004986980114616349  Merri Silverstein        2007  8      1    00:00:00.     4       see and be seen!! summertime fun, maybe after yummy pasta you will want to dance on the table?? always a fun time!!                                                                         Baraonda                          New_York    New York            0x89c258c07bb81027:0xbe685167f2b5bc33    3\n",
       "116357626446185008814  Ronald Alicea            2021  4      3    23:39:09.111  5       Amazing.. the fried cheese is a must. Service and food was excellent. The location is sketchy but they have an armed security guard. Definitely recommend it                                El Cilantrillo Restaurant         Florida     Kissimmee           0x88dd83e495ac3927:0x4aa1ff529526162a    3\n",
       "117578403599975794589  DOUG FARROW              2018  11     20   00:06:00.2    5       Very good                                                                                                                                                                                   Vallarta Mexican Grill            Florida     Pensacola           0x889095bc6ebc98d9:0xbc0fecd5d12cc58e    3\n",
       "                                                                                                                                                                                                                                                                                                                                                                                              ..\n",
       "106272383719120909333  Mike L                   2018  3      15   02:45:06.137  5       If you love bbq food...this restaurant is a must visit. Amazing sauce and friendly service.                                                                                                 Dang BBQ                          New_York    Islip               0x89e833be6fe2ca97:0xebd30d557a9acb2     1\n",
       "106272326761781887879  J M                      2019  9      5    00:39:58.806  4       SD                                                                                                                                                                                          Khao Hom Thai Bistro              California  Laguna Hills        0x80dce8d8d9b872f9:0x7bf08ea6b0edf5ea    1\n",
       "                                                2017  11     10   04:02:50.712  3       SD                                                                                                                                                                                          Bến Ngự Restaurant                California  Garden Grove        0x80dd2870d32a48d9:0x17a875aab1c5b063    1\n",
       "106272322344257710721  Anthony Taylor (Tony T)  2021  2      4    20:13:26.458  4       Its Carl's!!!!                                                                                                                                                                              Carl's Jr.                        California  Desert Hot Springs  0x80db21e3186ad43f:0x7bdc680228cf4faa    1\n",
       "118446649441296359833  Alec Holden              2020  3      21   17:10:13.275  5       This spot provides extraordinary service as well as delightful meals. The best restaurant around here. The food and drinks came out quick and the prices are fair. I recommend this place.  Osaka                             New_York    Brooklyn            0x89c25a5a7eb54e13:0x4fa646fc6042eb8e    1\n",
       "Name: count, Length: 77810, dtype: int64"
      ]
     },
     "execution_count": 25,
     "metadata": {},
     "output_type": "execute_result"
    }
   ],
   "source": [
    "duplicados = reviews[reviews.duplicated(subset='user_id') & reviews.duplicated(subset='hour')].value_counts()\n",
    "duplicados"
   ]
  },
  {
   "cell_type": "code",
   "execution_count": 26,
   "metadata": {},
   "outputs": [
    {
     "data": {
      "text/html": [
       "<div>\n",
       "<style scoped>\n",
       "    .dataframe tbody tr th:only-of-type {\n",
       "        vertical-align: middle;\n",
       "    }\n",
       "\n",
       "    .dataframe tbody tr th {\n",
       "        vertical-align: top;\n",
       "    }\n",
       "\n",
       "    .dataframe thead th {\n",
       "        text-align: right;\n",
       "    }\n",
       "</style>\n",
       "<table border=\"1\" class=\"dataframe\">\n",
       "  <thead>\n",
       "    <tr style=\"text-align: right;\">\n",
       "      <th></th>\n",
       "      <th>user_id</th>\n",
       "      <th>user_name</th>\n",
       "      <th>year</th>\n",
       "      <th>month</th>\n",
       "      <th>day</th>\n",
       "      <th>hour</th>\n",
       "      <th>rating</th>\n",
       "      <th>text</th>\n",
       "      <th>restaurant_name</th>\n",
       "      <th>state</th>\n",
       "      <th>city</th>\n",
       "      <th>gmap_id</th>\n",
       "    </tr>\n",
       "  </thead>\n",
       "  <tbody>\n",
       "    <tr>\n",
       "      <th>0</th>\n",
       "      <td>109434968607034492648</td>\n",
       "      <td>Tony Pinto</td>\n",
       "      <td>2013</td>\n",
       "      <td>11</td>\n",
       "      <td>18</td>\n",
       "      <td>14:03:54.547</td>\n",
       "      <td>5</td>\n",
       "      <td>I came by yesterday to pick up some pizza on the way home and the food was amazing.  Best crust around - easily.  I ordered a calzone, one chocolate slice (amazing), two cheese slices and a potato slice (all for my wife and me and lunch for her next day).  Everything was perfect.  The guy behind the counter seemed nice (I think he may have been the owner) and price-wise may have been a bit pricey, but then again, the pizza really is that much better and then again, pizza prices around the city are about the same.  I'll definitely go back.</td>\n",
       "      <td>Raffaello Kosher Pizza</td>\n",
       "      <td>New_York</td>\n",
       "      <td>New York</td>\n",
       "      <td>0x89c258ffaeaba947:0x8355860772a595a9</td>\n",
       "    </tr>\n",
       "    <tr>\n",
       "      <th>1</th>\n",
       "      <td>108584493264435262292</td>\n",
       "      <td>Benji</td>\n",
       "      <td>2015</td>\n",
       "      <td>2</td>\n",
       "      <td>17</td>\n",
       "      <td>22:27:28.498</td>\n",
       "      <td>1</td>\n",
       "      <td>Food was burnt and not good. You would think since they are a New York style pizzeria they would have a regular slice of pizza. But when I went they had no regular pizza just random other slices (which were later burnt and didn't taste good) . Anyway there are many other places to go to eat, I don't recommend it.</td>\n",
       "      <td>Raffaello Kosher Pizza</td>\n",
       "      <td>New_York</td>\n",
       "      <td>New York</td>\n",
       "      <td>0x89c258ffaeaba947:0x8355860772a595a9</td>\n",
       "    </tr>\n",
       "    <tr>\n",
       "      <th>2</th>\n",
       "      <td>108987049306954366378</td>\n",
       "      <td>Michael Rahmani</td>\n",
       "      <td>2014</td>\n",
       "      <td>12</td>\n",
       "      <td>30</td>\n",
       "      <td>22:43:47.508</td>\n",
       "      <td>1</td>\n",
       "      <td>This place is horrible. I ordered two ziti pizza's and my friend ordered regular. It tasted like complete garbage. It was 11 dollars for two ziti square pizza's and a can! The guy behind the counter was nice, though. The place looks bigger in these photos but it is not so big. There were no tables open so we and a lot of people were waiting a couple minutes to sit down. PLEASE SPEND YOUR MONEY ELSEWHERE! THERE ARE BETTER RESTAURANTS!</td>\n",
       "      <td>Raffaello Kosher Pizza</td>\n",
       "      <td>New_York</td>\n",
       "      <td>New York</td>\n",
       "      <td>0x89c258ffaeaba947:0x8355860772a595a9</td>\n",
       "    </tr>\n",
       "    <tr>\n",
       "      <th>3</th>\n",
       "      <td>107767094884093007779</td>\n",
       "      <td>eliau piha</td>\n",
       "      <td>2014</td>\n",
       "      <td>7</td>\n",
       "      <td>6</td>\n",
       "      <td>23:26:13.836</td>\n",
       "      <td>5</td>\n",
       "      <td>Love their pizza and their service!\\nREALLY ITALIANO!</td>\n",
       "      <td>Raffaello Kosher Pizza</td>\n",
       "      <td>New_York</td>\n",
       "      <td>New York</td>\n",
       "      <td>0x89c258ffaeaba947:0x8355860772a595a9</td>\n",
       "    </tr>\n",
       "    <tr>\n",
       "      <th>4</th>\n",
       "      <td>107373453968933712290</td>\n",
       "      <td>Matt Schaffnit</td>\n",
       "      <td>2016</td>\n",
       "      <td>10</td>\n",
       "      <td>25</td>\n",
       "      <td>08:30:54.4</td>\n",
       "      <td>5</td>\n",
       "      <td>Used to get lunch here nearly every day. You will be missed.</td>\n",
       "      <td>Raffaello Kosher Pizza</td>\n",
       "      <td>New_York</td>\n",
       "      <td>New York</td>\n",
       "      <td>0x89c258ffaeaba947:0x8355860772a595a9</td>\n",
       "    </tr>\n",
       "    <tr>\n",
       "      <th>...</th>\n",
       "      <td>...</td>\n",
       "      <td>...</td>\n",
       "      <td>...</td>\n",
       "      <td>...</td>\n",
       "      <td>...</td>\n",
       "      <td>...</td>\n",
       "      <td>...</td>\n",
       "      <td>...</td>\n",
       "      <td>...</td>\n",
       "      <td>...</td>\n",
       "      <td>...</td>\n",
       "      <td>...</td>\n",
       "    </tr>\n",
       "    <tr>\n",
       "      <th>1776934</th>\n",
       "      <td>104738794941653941230</td>\n",
       "      <td>tony mcconnell</td>\n",
       "      <td>2019</td>\n",
       "      <td>12</td>\n",
       "      <td>16</td>\n",
       "      <td>18:22:47.537</td>\n",
       "      <td>3</td>\n",
       "      <td>SD</td>\n",
       "      <td>Starbucks</td>\n",
       "      <td>Nevada</td>\n",
       "      <td>Las Vegas</td>\n",
       "      <td>0x80c8c472d67f79af:0x8956b6d25312efae</td>\n",
       "    </tr>\n",
       "    <tr>\n",
       "      <th>1776935</th>\n",
       "      <td>111736095418749525736</td>\n",
       "      <td>Ingrid Cavalcante</td>\n",
       "      <td>2019</td>\n",
       "      <td>10</td>\n",
       "      <td>15</td>\n",
       "      <td>09:42:58.929</td>\n",
       "      <td>5</td>\n",
       "      <td>SD</td>\n",
       "      <td>Starbucks</td>\n",
       "      <td>Nevada</td>\n",
       "      <td>Las Vegas</td>\n",
       "      <td>0x80c8c472d67f79af:0x8956b6d25312efae</td>\n",
       "    </tr>\n",
       "    <tr>\n",
       "      <th>1776936</th>\n",
       "      <td>116151678810850381756</td>\n",
       "      <td>harry bhullar</td>\n",
       "      <td>2020</td>\n",
       "      <td>11</td>\n",
       "      <td>11</td>\n",
       "      <td>02:39:29.686</td>\n",
       "      <td>5</td>\n",
       "      <td>SD</td>\n",
       "      <td>Starbucks</td>\n",
       "      <td>Nevada</td>\n",
       "      <td>Las Vegas</td>\n",
       "      <td>0x80c8c472d67f79af:0x8956b6d25312efae</td>\n",
       "    </tr>\n",
       "    <tr>\n",
       "      <th>1776937</th>\n",
       "      <td>101316597947805028436</td>\n",
       "      <td>Pam Willett</td>\n",
       "      <td>2018</td>\n",
       "      <td>7</td>\n",
       "      <td>18</td>\n",
       "      <td>23:47:28.518</td>\n",
       "      <td>5</td>\n",
       "      <td>SD</td>\n",
       "      <td>Starbucks</td>\n",
       "      <td>Nevada</td>\n",
       "      <td>Las Vegas</td>\n",
       "      <td>0x80c8c472d67f79af:0x8956b6d25312efae</td>\n",
       "    </tr>\n",
       "    <tr>\n",
       "      <th>1776938</th>\n",
       "      <td>101442448701315369362</td>\n",
       "      <td>Jay Dee</td>\n",
       "      <td>2016</td>\n",
       "      <td>11</td>\n",
       "      <td>24</td>\n",
       "      <td>03:48:41.75</td>\n",
       "      <td>2</td>\n",
       "      <td>SD</td>\n",
       "      <td>Starbucks</td>\n",
       "      <td>Nevada</td>\n",
       "      <td>Las Vegas</td>\n",
       "      <td>0x80c8c472d67f79af:0x8956b6d25312efae</td>\n",
       "    </tr>\n",
       "  </tbody>\n",
       "</table>\n",
       "<p>1776939 rows × 12 columns</p>\n",
       "</div>"
      ],
      "text/plain": [
       "                       user_id          user_name  year  month  day  \\\n",
       "0        109434968607034492648         Tony Pinto  2013     11   18   \n",
       "1        108584493264435262292              Benji  2015      2   17   \n",
       "2        108987049306954366378    Michael Rahmani  2014     12   30   \n",
       "3        107767094884093007779         eliau piha  2014      7    6   \n",
       "4        107373453968933712290     Matt Schaffnit  2016     10   25   \n",
       "...                        ...                ...   ...    ...  ...   \n",
       "1776934  104738794941653941230     tony mcconnell  2019     12   16   \n",
       "1776935  111736095418749525736  Ingrid Cavalcante  2019     10   15   \n",
       "1776936  116151678810850381756      harry bhullar  2020     11   11   \n",
       "1776937  101316597947805028436        Pam Willett  2018      7   18   \n",
       "1776938  101442448701315369362            Jay Dee  2016     11   24   \n",
       "\n",
       "                 hour  rating  \\\n",
       "0        14:03:54.547       5   \n",
       "1        22:27:28.498       1   \n",
       "2        22:43:47.508       1   \n",
       "3        23:26:13.836       5   \n",
       "4          08:30:54.4       5   \n",
       "...               ...     ...   \n",
       "1776934  18:22:47.537       3   \n",
       "1776935  09:42:58.929       5   \n",
       "1776936  02:39:29.686       5   \n",
       "1776937  23:47:28.518       5   \n",
       "1776938   03:48:41.75       2   \n",
       "\n",
       "                                                                                                                                                                                                                                                                                                                                                                                                                                                                                                                                                                     text  \\\n",
       "0        I came by yesterday to pick up some pizza on the way home and the food was amazing.  Best crust around - easily.  I ordered a calzone, one chocolate slice (amazing), two cheese slices and a potato slice (all for my wife and me and lunch for her next day).  Everything was perfect.  The guy behind the counter seemed nice (I think he may have been the owner) and price-wise may have been a bit pricey, but then again, the pizza really is that much better and then again, pizza prices around the city are about the same.  I'll definitely go back.   \n",
       "1                                                                                                                                                                                                                                              Food was burnt and not good. You would think since they are a New York style pizzeria they would have a regular slice of pizza. But when I went they had no regular pizza just random other slices (which were later burnt and didn't taste good) . Anyway there are many other places to go to eat, I don't recommend it.   \n",
       "2                                                                                                                   This place is horrible. I ordered two ziti pizza's and my friend ordered regular. It tasted like complete garbage. It was 11 dollars for two ziti square pizza's and a can! The guy behind the counter was nice, though. The place looks bigger in these photos but it is not so big. There were no tables open so we and a lot of people were waiting a couple minutes to sit down. PLEASE SPEND YOUR MONEY ELSEWHERE! THERE ARE BETTER RESTAURANTS!   \n",
       "3                                                                                                                                                                                                                                                                                                                                                                                                                                                                                                                   Love their pizza and their service!\\nREALLY ITALIANO!   \n",
       "4                                                                                                                                                                                                                                                                                                                                                                                                                                                                                                            Used to get lunch here nearly every day. You will be missed.   \n",
       "...                                                                                                                                                                                                                                                                                                                                                                                                                                                                                                                                                                   ...   \n",
       "1776934                                                                                                                                                                                                                                                                                                                                                                                                                                                                                                                                                                SD   \n",
       "1776935                                                                                                                                                                                                                                                                                                                                                                                                                                                                                                                                                                SD   \n",
       "1776936                                                                                                                                                                                                                                                                                                                                                                                                                                                                                                                                                                SD   \n",
       "1776937                                                                                                                                                                                                                                                                                                                                                                                                                                                                                                                                                                SD   \n",
       "1776938                                                                                                                                                                                                                                                                                                                                                                                                                                                                                                                                                                SD   \n",
       "\n",
       "                restaurant_name     state       city  \\\n",
       "0        Raffaello Kosher Pizza  New_York   New York   \n",
       "1        Raffaello Kosher Pizza  New_York   New York   \n",
       "2        Raffaello Kosher Pizza  New_York   New York   \n",
       "3        Raffaello Kosher Pizza  New_York   New York   \n",
       "4        Raffaello Kosher Pizza  New_York   New York   \n",
       "...                         ...       ...        ...   \n",
       "1776934               Starbucks    Nevada  Las Vegas   \n",
       "1776935               Starbucks    Nevada  Las Vegas   \n",
       "1776936               Starbucks    Nevada  Las Vegas   \n",
       "1776937               Starbucks    Nevada  Las Vegas   \n",
       "1776938               Starbucks    Nevada  Las Vegas   \n",
       "\n",
       "                                       gmap_id  \n",
       "0        0x89c258ffaeaba947:0x8355860772a595a9  \n",
       "1        0x89c258ffaeaba947:0x8355860772a595a9  \n",
       "2        0x89c258ffaeaba947:0x8355860772a595a9  \n",
       "3        0x89c258ffaeaba947:0x8355860772a595a9  \n",
       "4        0x89c258ffaeaba947:0x8355860772a595a9  \n",
       "...                                        ...  \n",
       "1776934  0x80c8c472d67f79af:0x8956b6d25312efae  \n",
       "1776935  0x80c8c472d67f79af:0x8956b6d25312efae  \n",
       "1776936  0x80c8c472d67f79af:0x8956b6d25312efae  \n",
       "1776937  0x80c8c472d67f79af:0x8956b6d25312efae  \n",
       "1776938  0x80c8c472d67f79af:0x8956b6d25312efae  \n",
       "\n",
       "[1776939 rows x 12 columns]"
      ]
     },
     "execution_count": 26,
     "metadata": {},
     "output_type": "execute_result"
    }
   ],
   "source": [
    "reviews"
   ]
  },
  {
   "cell_type": "code",
   "execution_count": 27,
   "metadata": {},
   "outputs": [
    {
     "data": {
      "text/html": [
       "<div>\n",
       "<style scoped>\n",
       "    .dataframe tbody tr th:only-of-type {\n",
       "        vertical-align: middle;\n",
       "    }\n",
       "\n",
       "    .dataframe tbody tr th {\n",
       "        vertical-align: top;\n",
       "    }\n",
       "\n",
       "    .dataframe thead th {\n",
       "        text-align: right;\n",
       "    }\n",
       "</style>\n",
       "<table border=\"1\" class=\"dataframe\">\n",
       "  <thead>\n",
       "    <tr style=\"text-align: right;\">\n",
       "      <th></th>\n",
       "      <th>user_id</th>\n",
       "      <th>user_name</th>\n",
       "      <th>year</th>\n",
       "      <th>month</th>\n",
       "      <th>day</th>\n",
       "      <th>hour</th>\n",
       "      <th>rating</th>\n",
       "      <th>text</th>\n",
       "      <th>restaurant_name</th>\n",
       "      <th>state</th>\n",
       "      <th>city</th>\n",
       "      <th>gmap_id</th>\n",
       "    </tr>\n",
       "  </thead>\n",
       "  <tbody>\n",
       "    <tr>\n",
       "      <th>1168800</th>\n",
       "      <td>101001321250592869991</td>\n",
       "      <td>Luis Briceno</td>\n",
       "      <td>2019</td>\n",
       "      <td>8</td>\n",
       "      <td>10</td>\n",
       "      <td>18:32:49.186</td>\n",
       "      <td>5</td>\n",
       "      <td>(Translated by Google) Very good place and very clean everything !!\\n\\n(Original)\\nMuy buen lugar y muy limpio todo!!</td>\n",
       "      <td>La Superior Panaderia</td>\n",
       "      <td>California</td>\n",
       "      <td>Los Angeles</td>\n",
       "      <td>0x80c2c798ad41d859:0x8823cd86d2abd5b3</td>\n",
       "    </tr>\n",
       "    <tr>\n",
       "      <th>1168802</th>\n",
       "      <td>101001321250592869991</td>\n",
       "      <td>Luis Briceno</td>\n",
       "      <td>2019</td>\n",
       "      <td>8</td>\n",
       "      <td>10</td>\n",
       "      <td>18:32:49.186</td>\n",
       "      <td>5</td>\n",
       "      <td>(Translated by Google) Very good place and very clean everything !!\\n\\n(Original)\\nMuy buen lugar y muy limpio todo!!</td>\n",
       "      <td>La Superior Panaderia</td>\n",
       "      <td>California</td>\n",
       "      <td>Los Angeles</td>\n",
       "      <td>0x80c2c798ad41d859:0x8823cd86d2abd5b3</td>\n",
       "    </tr>\n",
       "    <tr>\n",
       "      <th>1169480</th>\n",
       "      <td>101001321250592869991</td>\n",
       "      <td>Luis Briceno</td>\n",
       "      <td>2019</td>\n",
       "      <td>8</td>\n",
       "      <td>10</td>\n",
       "      <td>18:32:49.186</td>\n",
       "      <td>5</td>\n",
       "      <td>(Translated by Google) Very good place and very clean everything !!\\n\\n(Original)\\nMuy buen lugar y muy limpio todo!!</td>\n",
       "      <td>La Superior Panaderia</td>\n",
       "      <td>California</td>\n",
       "      <td>Los Angeles</td>\n",
       "      <td>0x80c2c798ad41d859:0x8823cd86d2abd5b3</td>\n",
       "    </tr>\n",
       "    <tr>\n",
       "      <th>1169482</th>\n",
       "      <td>101001321250592869991</td>\n",
       "      <td>Luis Briceno</td>\n",
       "      <td>2019</td>\n",
       "      <td>8</td>\n",
       "      <td>10</td>\n",
       "      <td>18:32:49.186</td>\n",
       "      <td>5</td>\n",
       "      <td>(Translated by Google) Very good place and very clean everything !!\\n\\n(Original)\\nMuy buen lugar y muy limpio todo!!</td>\n",
       "      <td>La Superior Panaderia</td>\n",
       "      <td>California</td>\n",
       "      <td>Los Angeles</td>\n",
       "      <td>0x80c2c798ad41d859:0x8823cd86d2abd5b3</td>\n",
       "    </tr>\n",
       "  </tbody>\n",
       "</table>\n",
       "</div>"
      ],
      "text/plain": [
       "                       user_id     user_name  year  month  day          hour  \\\n",
       "1168800  101001321250592869991  Luis Briceno  2019      8   10  18:32:49.186   \n",
       "1168802  101001321250592869991  Luis Briceno  2019      8   10  18:32:49.186   \n",
       "1169480  101001321250592869991  Luis Briceno  2019      8   10  18:32:49.186   \n",
       "1169482  101001321250592869991  Luis Briceno  2019      8   10  18:32:49.186   \n",
       "\n",
       "         rating  \\\n",
       "1168800       5   \n",
       "1168802       5   \n",
       "1169480       5   \n",
       "1169482       5   \n",
       "\n",
       "                                                                                                                          text  \\\n",
       "1168800  (Translated by Google) Very good place and very clean everything !!\\n\\n(Original)\\nMuy buen lugar y muy limpio todo!!   \n",
       "1168802  (Translated by Google) Very good place and very clean everything !!\\n\\n(Original)\\nMuy buen lugar y muy limpio todo!!   \n",
       "1169480  (Translated by Google) Very good place and very clean everything !!\\n\\n(Original)\\nMuy buen lugar y muy limpio todo!!   \n",
       "1169482  (Translated by Google) Very good place and very clean everything !!\\n\\n(Original)\\nMuy buen lugar y muy limpio todo!!   \n",
       "\n",
       "               restaurant_name       state         city  \\\n",
       "1168800  La Superior Panaderia  California  Los Angeles   \n",
       "1168802  La Superior Panaderia  California  Los Angeles   \n",
       "1169480  La Superior Panaderia  California  Los Angeles   \n",
       "1169482  La Superior Panaderia  California  Los Angeles   \n",
       "\n",
       "                                       gmap_id  \n",
       "1168800  0x80c2c798ad41d859:0x8823cd86d2abd5b3  \n",
       "1168802  0x80c2c798ad41d859:0x8823cd86d2abd5b3  \n",
       "1169480  0x80c2c798ad41d859:0x8823cd86d2abd5b3  \n",
       "1169482  0x80c2c798ad41d859:0x8823cd86d2abd5b3  "
      ]
     },
     "execution_count": 27,
     "metadata": {},
     "output_type": "execute_result"
    }
   ],
   "source": [
    "reviews[reviews['user_id'] == '101001321250592869991']"
   ]
  },
  {
   "cell_type": "markdown",
   "metadata": {},
   "source": [
    "Tras llevar a cabo una inspección en el DataFrame \"reviews\" en busca de duplicados, se identificaron un total de 77,810  registros duplicados de un conjunto de 1'776,939   datos, lo que representa un porcentaje del 4.38%. Por ende, se concluye que el 95.62% de los datos no están duplicados, lo que indica una calidad de datos (media) aceptable en el conjunto analizado."
   ]
  },
  {
   "cell_type": "markdown",
   "metadata": {},
   "source": [
    "*Duplicados dataframe \"user\".*"
   ]
  },
  {
   "cell_type": "code",
   "execution_count": 28,
   "metadata": {},
   "outputs": [
    {
     "data": {
      "text/plain": [
       "user_id                user_name                           review_count  average_rating\n",
       "100003708628889270275  Tanya Estrada                       1             5.0               1\n",
       "112343666577668729339  Carla Sowinski                      1             5.0               1\n",
       "112374973608577017530  Darin Myles (Darin Somerville)      1             4.0               1\n",
       "112384518222662971412  Johannah Wierzchowski (Jojo)        1             3.0               1\n",
       "112385658694073664364  nope nope                           1             2.0               1\n",
       "                                                                                          ..\n",
       "106643002279097780862  Sicario “Operations” Mod            1             5.0               1\n",
       "106646077100722717750  DanielMyManiel                      2             5.0               1\n",
       "106664880530848195495  Thread Rolling USA (LMT USA)        1             4.0               1\n",
       "106668839169472489708  Lorski M.                           1             5.0               1\n",
       "118444209281473607022  Carlos “Misionero Charlie” Jiménez  1             5.0               1\n",
       "Name: count, Length: 2385, dtype: int64"
      ]
     },
     "execution_count": 28,
     "metadata": {},
     "output_type": "execute_result"
    }
   ],
   "source": [
    "duplicados = user[user.duplicated(subset='user_id') ].value_counts()\n",
    "duplicados"
   ]
  },
  {
   "cell_type": "markdown",
   "metadata": {},
   "source": [
    "Después de investigar la presencia de datos duplicados en el DataFrame \"user\", se determinó que, dada la naturaleza inherente del conjunto de datos, la existencia de duplicados no necesariamente indicaría un error."
   ]
  },
  {
   "cell_type": "markdown",
   "metadata": {},
   "source": [
    "**Verificación de datos faltantes de Google**"
   ]
  },
  {
   "cell_type": "markdown",
   "metadata": {},
   "source": [
    "*Datos faltantes dataframe \"restaurant\"*"
   ]
  },
  {
   "cell_type": "code",
   "execution_count": 29,
   "metadata": {},
   "outputs": [
    {
     "data": {
      "text/html": [
       "<div>\n",
       "<style scoped>\n",
       "    .dataframe tbody tr th:only-of-type {\n",
       "        vertical-align: middle;\n",
       "    }\n",
       "\n",
       "    .dataframe tbody tr th {\n",
       "        vertical-align: top;\n",
       "    }\n",
       "\n",
       "    .dataframe thead th {\n",
       "        text-align: right;\n",
       "    }\n",
       "</style>\n",
       "<table border=\"1\" class=\"dataframe\">\n",
       "  <thead>\n",
       "    <tr style=\"text-align: right;\">\n",
       "      <th></th>\n",
       "      <th>name</th>\n",
       "      <th>address</th>\n",
       "      <th>state</th>\n",
       "      <th>city</th>\n",
       "      <th>postal_code</th>\n",
       "      <th>latitude</th>\n",
       "      <th>longitude</th>\n",
       "      <th>avg_rating</th>\n",
       "      <th>num_of_reviews</th>\n",
       "      <th>price_numeric</th>\n",
       "      <th>gmap_id</th>\n",
       "      <th>category</th>\n",
       "    </tr>\n",
       "  </thead>\n",
       "  <tbody>\n",
       "  </tbody>\n",
       "</table>\n",
       "</div>"
      ],
      "text/plain": [
       "Empty DataFrame\n",
       "Columns: [name, address, state, city, postal_code, latitude, longitude, avg_rating, num_of_reviews, price_numeric, gmap_id, category]\n",
       "Index: []"
      ]
     },
     "execution_count": 29,
     "metadata": {},
     "output_type": "execute_result"
    }
   ],
   "source": [
    "restaurant[restaurant['category'] == '']"
   ]
  },
  {
   "cell_type": "markdown",
   "metadata": {},
   "source": [
    "Tras un análisis del dataframe \"restaurant\" en busca de datos faltantes, se determinó que no existen ausencias de datos en ninguna parte del dataframe. Por consiguiente, se concluye que el dataframe presenta una alta calidad de datos."
   ]
  },
  {
   "cell_type": "markdown",
   "metadata": {},
   "source": [
    "*Datos faltantes dataframe \"reviews\"*"
   ]
  },
  {
   "cell_type": "code",
   "execution_count": 30,
   "metadata": {},
   "outputs": [
    {
     "data": {
      "text/html": [
       "<div>\n",
       "<style scoped>\n",
       "    .dataframe tbody tr th:only-of-type {\n",
       "        vertical-align: middle;\n",
       "    }\n",
       "\n",
       "    .dataframe tbody tr th {\n",
       "        vertical-align: top;\n",
       "    }\n",
       "\n",
       "    .dataframe thead th {\n",
       "        text-align: right;\n",
       "    }\n",
       "</style>\n",
       "<table border=\"1\" class=\"dataframe\">\n",
       "  <thead>\n",
       "    <tr style=\"text-align: right;\">\n",
       "      <th></th>\n",
       "      <th>user_id</th>\n",
       "      <th>user_name</th>\n",
       "      <th>year</th>\n",
       "      <th>month</th>\n",
       "      <th>day</th>\n",
       "      <th>hour</th>\n",
       "      <th>rating</th>\n",
       "      <th>text</th>\n",
       "      <th>restaurant_name</th>\n",
       "      <th>state</th>\n",
       "      <th>city</th>\n",
       "      <th>gmap_id</th>\n",
       "    </tr>\n",
       "  </thead>\n",
       "  <tbody>\n",
       "  </tbody>\n",
       "</table>\n",
       "</div>"
      ],
      "text/plain": [
       "Empty DataFrame\n",
       "Columns: [user_id, user_name, year, month, day, hour, rating, text, restaurant_name, state, city, gmap_id]\n",
       "Index: []"
      ]
     },
     "execution_count": 30,
     "metadata": {},
     "output_type": "execute_result"
    }
   ],
   "source": [
    "reviews[reviews['gmap_id']== '']"
   ]
  },
  {
   "cell_type": "markdown",
   "metadata": {},
   "source": [
    "Tras un análisis del dataframe \"reviews\" en busca de datos faltantes, se determinó que no existen ausencias de datos en ninguna parte del dataframe. Por consiguiente, se concluye que el dataframe presenta una alta calidad de datos."
   ]
  },
  {
   "cell_type": "markdown",
   "metadata": {},
   "source": [
    "*Datos faltantes dataframe \"user\"*"
   ]
  },
  {
   "cell_type": "code",
   "execution_count": 31,
   "metadata": {},
   "outputs": [
    {
     "data": {
      "text/html": [
       "<div>\n",
       "<style scoped>\n",
       "    .dataframe tbody tr th:only-of-type {\n",
       "        vertical-align: middle;\n",
       "    }\n",
       "\n",
       "    .dataframe tbody tr th {\n",
       "        vertical-align: top;\n",
       "    }\n",
       "\n",
       "    .dataframe thead th {\n",
       "        text-align: right;\n",
       "    }\n",
       "</style>\n",
       "<table border=\"1\" class=\"dataframe\">\n",
       "  <thead>\n",
       "    <tr style=\"text-align: right;\">\n",
       "      <th></th>\n",
       "      <th>user_id</th>\n",
       "      <th>user_name</th>\n",
       "      <th>review_count</th>\n",
       "      <th>average_rating</th>\n",
       "    </tr>\n",
       "  </thead>\n",
       "  <tbody>\n",
       "  </tbody>\n",
       "</table>\n",
       "</div>"
      ],
      "text/plain": [
       "Empty DataFrame\n",
       "Columns: [user_id, user_name, review_count, average_rating]\n",
       "Index: []"
      ]
     },
     "execution_count": 31,
     "metadata": {},
     "output_type": "execute_result"
    }
   ],
   "source": [
    "user[user['average_rating'] == '']"
   ]
  },
  {
   "cell_type": "markdown",
   "metadata": {},
   "source": [
    "Tras un análisis del dataframe \"user\" en busca de datos faltantes, se determinó que no existen ausencias de datos en ninguna parte del dataframe. Por consiguiente, se concluye que el dataframe presenta una alta calidad de datos."
   ]
  },
  {
   "cell_type": "markdown",
   "metadata": {},
   "source": [
    "**Verificación de datos \"Nulos\" de cada Dataframes de YELP.**"
   ]
  },
  {
   "cell_type": "markdown",
   "metadata": {},
   "source": [
    "*Nulos dataframe \"business\"*"
   ]
  },
  {
   "cell_type": "code",
   "execution_count": 32,
   "metadata": {},
   "outputs": [
    {
     "data": {
      "text/plain": [
       "id_business               0\n",
       "name                      0\n",
       "city                      0\n",
       "state                     0\n",
       "postal_code               0\n",
       "latitude                  0\n",
       "longitude                 0\n",
       "stars                     0\n",
       "review_count              0\n",
       "hours_Dataset_Business    0\n",
       "first_category            0\n",
       "dtype: int64"
      ]
     },
     "execution_count": 32,
     "metadata": {},
     "output_type": "execute_result"
    }
   ],
   "source": [
    "business.isnull().sum()"
   ]
  },
  {
   "cell_type": "markdown",
   "metadata": {},
   "source": [
    "Se realizó una verificación de todas las columnas del dataframe \"business\" en busca de datos nulos. El resultado reveló la ausencia total de datos nulos, lo cual equivale a un 0%, lo que nos lleva a concluir que la calidad de los datos en este término es óptima."
   ]
  },
  {
   "cell_type": "markdown",
   "metadata": {},
   "source": [
    "*Datos nulos del dataframe \"Checkin\"*"
   ]
  },
  {
   "cell_type": "code",
   "execution_count": 33,
   "metadata": {},
   "outputs": [
    {
     "data": {
      "text/plain": [
       "business_id    0\n",
       "hour           0\n",
       "date           0\n",
       "year           0\n",
       "month          0\n",
       "dtype: int64"
      ]
     },
     "execution_count": 33,
     "metadata": {},
     "output_type": "execute_result"
    }
   ],
   "source": [
    "checkin.isnull().sum()"
   ]
  },
  {
   "cell_type": "markdown",
   "metadata": {},
   "source": [
    "Se realizó una verificación de todas las columnas del dataframe \"checkin\" en busca de datos nulos. El resultado reveló la ausencia total de datos nulos, lo cual equivale a un 0%, lo que nos lleva a concluir que la calidad de los datos en este término es óptima."
   ]
  },
  {
   "cell_type": "markdown",
   "metadata": {},
   "source": [
    "*Datos nulos del dataframe \"reviews_yelp\"*"
   ]
  },
  {
   "cell_type": "code",
   "execution_count": 34,
   "metadata": {},
   "outputs": [
    {
     "data": {
      "text/plain": [
       "user_id                   0\n",
       "stars_Dataset_Review      0\n",
       "text                      0\n",
       "id_review                 0\n",
       "id_user                   0\n",
       "id_business               0\n",
       "anho                      0\n",
       "mes                       0\n",
       "dia                       0\n",
       "hora                      0\n",
       "name                      0\n",
       "city                      0\n",
       "state                     0\n",
       "stars_Dataset_Business    0\n",
       "review_count              0\n",
       "yelp_id                   0\n",
       "dtype: int64"
      ]
     },
     "execution_count": 34,
     "metadata": {},
     "output_type": "execute_result"
    }
   ],
   "source": [
    "reviews_yelp.isnull().sum()"
   ]
  },
  {
   "cell_type": "markdown",
   "metadata": {},
   "source": [
    "Se realizó una verificación de todas las columnas del dataframe \"reviews_yelp\" en busca de datos nulos. El resultado reveló la ausencia total de datos nulos, lo cual equivale a un 0%, lo que nos lleva a concluir que la calidad de los datos en este término es óptima."
   ]
  },
  {
   "cell_type": "markdown",
   "metadata": {},
   "source": [
    "*Datos nulos del dataframe \"tip\"*"
   ]
  },
  {
   "cell_type": "code",
   "execution_count": 35,
   "metadata": {},
   "outputs": [
    {
     "data": {
      "text/plain": [
       "id_user             0\n",
       "id_business         0\n",
       "text                0\n",
       "date                0\n",
       "compliment_count    0\n",
       "dtype: int64"
      ]
     },
     "execution_count": 35,
     "metadata": {},
     "output_type": "execute_result"
    }
   ],
   "source": [
    "tip.isnull().sum()"
   ]
  },
  {
   "cell_type": "markdown",
   "metadata": {},
   "source": [
    "Se realizó una verificación de todas las columnas del dataframe \"tip\" en busca de datos nulos. El resultado reveló la ausencia total de datos nulos, lo cual equivale a un 0%, lo que nos lleva a concluir que la calidad de los datos en este término es óptima."
   ]
  },
  {
   "cell_type": "markdown",
   "metadata": {},
   "source": [
    "*Datos nulos del dataframe \"user_yelp\"*"
   ]
  },
  {
   "cell_type": "code",
   "execution_count": 36,
   "metadata": {},
   "outputs": [
    {
     "data": {
      "text/plain": [
       "id_user          0\n",
       "years      1896699\n",
       "dtype: int64"
      ]
     },
     "execution_count": 36,
     "metadata": {},
     "output_type": "execute_result"
    }
   ],
   "source": [
    "user_yelp.isnull().sum()"
   ]
  },
  {
   "cell_type": "markdown",
   "metadata": {},
   "source": [
    "La alta cantidad de nulos es por la estructura del dataset"
   ]
  },
  {
   "cell_type": "markdown",
   "metadata": {},
   "source": [
    "**Verificación de datos duplicados de YELP**"
   ]
  },
  {
   "cell_type": "markdown",
   "metadata": {},
   "source": [
    "*Datos duplicados del dataframe \"business\""
   ]
  },
  {
   "cell_type": "code",
   "execution_count": 37,
   "metadata": {},
   "outputs": [
    {
     "data": {
      "text/html": [
       "<div>\n",
       "<style scoped>\n",
       "    .dataframe tbody tr th:only-of-type {\n",
       "        vertical-align: middle;\n",
       "    }\n",
       "\n",
       "    .dataframe tbody tr th {\n",
       "        vertical-align: top;\n",
       "    }\n",
       "\n",
       "    .dataframe thead th {\n",
       "        text-align: right;\n",
       "    }\n",
       "</style>\n",
       "<table border=\"1\" class=\"dataframe\">\n",
       "  <thead>\n",
       "    <tr style=\"text-align: right;\">\n",
       "      <th></th>\n",
       "      <th>id_business</th>\n",
       "      <th>name</th>\n",
       "      <th>city</th>\n",
       "      <th>state</th>\n",
       "      <th>postal_code</th>\n",
       "      <th>latitude</th>\n",
       "      <th>longitude</th>\n",
       "      <th>stars</th>\n",
       "      <th>review_count</th>\n",
       "      <th>hours_Dataset_Business</th>\n",
       "      <th>first_category</th>\n",
       "    </tr>\n",
       "  </thead>\n",
       "  <tbody>\n",
       "  </tbody>\n",
       "</table>\n",
       "</div>"
      ],
      "text/plain": [
       "Empty DataFrame\n",
       "Columns: [id_business, name, city, state, postal_code, latitude, longitude, stars, review_count, hours_Dataset_Business, first_category]\n",
       "Index: []"
      ]
     },
     "execution_count": 37,
     "metadata": {},
     "output_type": "execute_result"
    }
   ],
   "source": [
    "# duplicados = business[business.duplicated(subset=['address', 'latitude', 'longitude'], keep=False) & ~business.duplicated(subset=['address', 'latitude', 'longitude', 'state'], keep=False)]\n",
    "duplicados = business[business.duplicated(subset=['latitude', 'longitude'], keep=False) & ~business.duplicated(subset=['latitude', 'longitude', 'state'], keep=False)]\n",
    "duplicados"
   ]
  },
  {
   "cell_type": "code",
   "execution_count": 38,
   "metadata": {},
   "outputs": [
    {
     "data": {
      "text/html": [
       "<div>\n",
       "<style scoped>\n",
       "    .dataframe tbody tr th:only-of-type {\n",
       "        vertical-align: middle;\n",
       "    }\n",
       "\n",
       "    .dataframe tbody tr th {\n",
       "        vertical-align: top;\n",
       "    }\n",
       "\n",
       "    .dataframe thead th {\n",
       "        text-align: right;\n",
       "    }\n",
       "</style>\n",
       "<table border=\"1\" class=\"dataframe\">\n",
       "  <thead>\n",
       "    <tr style=\"text-align: right;\">\n",
       "      <th></th>\n",
       "      <th>id_business</th>\n",
       "      <th>name</th>\n",
       "      <th>city</th>\n",
       "      <th>state</th>\n",
       "      <th>postal_code</th>\n",
       "      <th>latitude</th>\n",
       "      <th>longitude</th>\n",
       "      <th>stars</th>\n",
       "      <th>review_count</th>\n",
       "      <th>hours_Dataset_Business</th>\n",
       "      <th>first_category</th>\n",
       "    </tr>\n",
       "  </thead>\n",
       "  <tbody>\n",
       "    <tr>\n",
       "      <th>6</th>\n",
       "      <td>3</td>\n",
       "      <td>St Honore Pastries</td>\n",
       "      <td>Philadelphia</td>\n",
       "      <td>Pennsylvania</td>\n",
       "      <td>19107</td>\n",
       "      <td>39.955505</td>\n",
       "      <td>-75.155564</td>\n",
       "      <td>4.0</td>\n",
       "      <td>80</td>\n",
       "      <td>{'Friday': '7:0-21:0', 'Monday': '7:0-20:0', 'Saturday': '7:0-21:0', 'Sunday': '7:0-21:0', 'Thursday': '7:0-20:0', 'Tuesday': '7:0-20:0', 'Wednesday': '7:0-20:0'}</td>\n",
       "      <td>Restaurants</td>\n",
       "    </tr>\n",
       "    <tr>\n",
       "      <th>1513</th>\n",
       "      <td>14</td>\n",
       "      <td>Zio's Italian Market</td>\n",
       "      <td>Largo</td>\n",
       "      <td>Florida</td>\n",
       "      <td>33771</td>\n",
       "      <td>27.916116</td>\n",
       "      <td>-82.760461</td>\n",
       "      <td>4.5</td>\n",
       "      <td>100</td>\n",
       "      <td>{'Friday': '10:0-20:0', 'Monday': '10:0-18:0', 'Saturday': '10:0-20:0', 'Sunday': None, 'Thursday': '10:0-20:0', 'Tuesday': '10:0-20:0', 'Wednesday': '10:0-20:0'}</td>\n",
       "      <td>Food</td>\n",
       "    </tr>\n",
       "    <tr>\n",
       "      <th>17041</th>\n",
       "      <td>23</td>\n",
       "      <td>Romano's Macaroni Grill</td>\n",
       "      <td>Reno</td>\n",
       "      <td>Nevada</td>\n",
       "      <td>89502</td>\n",
       "      <td>39.476117</td>\n",
       "      <td>-119.789339</td>\n",
       "      <td>2.5</td>\n",
       "      <td>339</td>\n",
       "      <td>{'Friday': '11:0-21:0', 'Monday': '11:0-22:0', 'Saturday': '12:0-21:0', 'Sunday': '11:0-21:0', 'Thursday': '11:0-20:0', 'Tuesday': '11:0-22:0', 'Wednesday': '10:0-22:0'}</td>\n",
       "      <td>Restaurants</td>\n",
       "    </tr>\n",
       "    <tr>\n",
       "      <th>23787</th>\n",
       "      <td>31</td>\n",
       "      <td>DeSandro on Main</td>\n",
       "      <td>Philadelphia</td>\n",
       "      <td>Pennsylvania</td>\n",
       "      <td>19127</td>\n",
       "      <td>40.022466</td>\n",
       "      <td>-75.218314</td>\n",
       "      <td>3.0</td>\n",
       "      <td>41</td>\n",
       "      <td>{'Friday': '17:0-0:30', 'Monday': None, 'Saturday': '17:0-0:30', 'Sunday': '17:0-21:30', 'Thursday': '17:0-1:30', 'Tuesday': '17:0-21:30', 'Wednesday': '17:0-1:30'}</td>\n",
       "      <td>Pizza</td>\n",
       "    </tr>\n",
       "    <tr>\n",
       "      <th>24221</th>\n",
       "      <td>33</td>\n",
       "      <td>Ardmore Pizza</td>\n",
       "      <td>Ardmore</td>\n",
       "      <td>Pennsylvania</td>\n",
       "      <td>19003</td>\n",
       "      <td>40.006707</td>\n",
       "      <td>-75.289671</td>\n",
       "      <td>3.5</td>\n",
       "      <td>109</td>\n",
       "      <td>{'Friday': '11:0-1:0', 'Monday': '11:0-0:0', 'Saturday': '11:0-1:0', 'Sunday': '11:0-0:0', 'Thursday': '11:0-0:0', 'Tuesday': '11:0-0:0', 'Wednesday': '11:0-0:0'}</td>\n",
       "      <td>Pizza</td>\n",
       "    </tr>\n",
       "    <tr>\n",
       "      <th>...</th>\n",
       "      <td>...</td>\n",
       "      <td>...</td>\n",
       "      <td>...</td>\n",
       "      <td>...</td>\n",
       "      <td>...</td>\n",
       "      <td>...</td>\n",
       "      <td>...</td>\n",
       "      <td>...</td>\n",
       "      <td>...</td>\n",
       "      <td>...</td>\n",
       "      <td>...</td>\n",
       "    </tr>\n",
       "    <tr>\n",
       "      <th>52611748</th>\n",
       "      <td>150260</td>\n",
       "      <td>Sage Mediterranean</td>\n",
       "      <td>Phoenixville</td>\n",
       "      <td>Pennsylvania</td>\n",
       "      <td>19460</td>\n",
       "      <td>40.134042</td>\n",
       "      <td>-75.514528</td>\n",
       "      <td>4.0</td>\n",
       "      <td>118</td>\n",
       "      <td>{'Friday': '11:30-22:30', 'Monday': None, 'Saturday': '11:30-22:30', 'Sunday': '11:30-22:30', 'Thursday': '11:30-22:30', 'Tuesday': '11:30-22:30', 'Wednesday': '11:30-22:30'}</td>\n",
       "      <td>Restaurants</td>\n",
       "    </tr>\n",
       "    <tr>\n",
       "      <th>52611919</th>\n",
       "      <td>150273</td>\n",
       "      <td>Rustica Restaurant Pizzera</td>\n",
       "      <td>New Hope</td>\n",
       "      <td>Pennsylvania</td>\n",
       "      <td>18938</td>\n",
       "      <td>40.346275</td>\n",
       "      <td>-75.035753</td>\n",
       "      <td>3.0</td>\n",
       "      <td>21</td>\n",
       "      <td>{'Friday': '9:0-20:0', 'Monday': '9:0-20:0', 'Saturday': '8:30-15:30', 'Sunday': None, 'Thursday': '9:0-20:0', 'Tuesday': '9:0-20:0', 'Wednesday': '9:0-20:0'}</td>\n",
       "      <td>Pizza</td>\n",
       "    </tr>\n",
       "    <tr>\n",
       "      <th>52611971</th>\n",
       "      <td>150287</td>\n",
       "      <td>Ali Baba Magic Food</td>\n",
       "      <td>Philadelphia</td>\n",
       "      <td>Pennsylvania</td>\n",
       "      <td>19104</td>\n",
       "      <td>39.953391</td>\n",
       "      <td>-75.196765</td>\n",
       "      <td>4.0</td>\n",
       "      <td>8</td>\n",
       "      <td>{'Friday': '9:0-20:0', 'Monday': '9:0-20:0', 'Saturday': '8:30-15:30', 'Sunday': None, 'Thursday': '9:0-20:0', 'Tuesday': '9:0-20:0', 'Wednesday': '9:0-20:0'}</td>\n",
       "      <td>Restaurants</td>\n",
       "    </tr>\n",
       "    <tr>\n",
       "      <th>52611980</th>\n",
       "      <td>150290</td>\n",
       "      <td>Pizza Guru</td>\n",
       "      <td>Santa Barbara</td>\n",
       "      <td>California</td>\n",
       "      <td>93105</td>\n",
       "      <td>34.440689</td>\n",
       "      <td>-119.739681</td>\n",
       "      <td>4.0</td>\n",
       "      <td>299</td>\n",
       "      <td>{'Friday': '15:0-21:0', 'Monday': '15:0-21:0', 'Saturday': '15:0-21:0', 'Sunday': '15:0-21:0', 'Thursday': '15:0-21:0', 'Tuesday': '15:0-21:0', 'Wednesday': '15:0-21:0'}</td>\n",
       "      <td>Restaurants</td>\n",
       "    </tr>\n",
       "    <tr>\n",
       "      <th>52612402</th>\n",
       "      <td>150339</td>\n",
       "      <td>The Plum Pit</td>\n",
       "      <td>Aston</td>\n",
       "      <td>Pennsylvania</td>\n",
       "      <td>19014</td>\n",
       "      <td>39.856185</td>\n",
       "      <td>-75.427725</td>\n",
       "      <td>4.5</td>\n",
       "      <td>14</td>\n",
       "      <td>{'Friday': '0:0-0:0', 'Monday': '0:0-0:0', 'Saturday': '0:0-0:0', 'Sunday': '0:0-0:0', 'Thursday': '0:0-0:0', 'Tuesday': '0:0-0:0', 'Wednesday': '0:0-0:0'}</td>\n",
       "      <td>Restaurants</td>\n",
       "    </tr>\n",
       "  </tbody>\n",
       "</table>\n",
       "<p>8811 rows × 11 columns</p>\n",
       "</div>"
      ],
      "text/plain": [
       "          id_business                        name           city  \\\n",
       "6                   3          St Honore Pastries   Philadelphia   \n",
       "1513               14        Zio's Italian Market          Largo   \n",
       "17041              23     Romano's Macaroni Grill           Reno   \n",
       "23787              31            DeSandro on Main   Philadelphia   \n",
       "24221              33               Ardmore Pizza        Ardmore   \n",
       "...               ...                         ...            ...   \n",
       "52611748       150260          Sage Mediterranean   Phoenixville   \n",
       "52611919       150273  Rustica Restaurant Pizzera       New Hope   \n",
       "52611971       150287         Ali Baba Magic Food   Philadelphia   \n",
       "52611980       150290                  Pizza Guru  Santa Barbara   \n",
       "52612402       150339                The Plum Pit          Aston   \n",
       "\n",
       "                 state  postal_code   latitude   longitude  stars  \\\n",
       "6         Pennsylvania        19107  39.955505  -75.155564    4.0   \n",
       "1513           Florida        33771  27.916116  -82.760461    4.5   \n",
       "17041           Nevada        89502  39.476117 -119.789339    2.5   \n",
       "23787     Pennsylvania        19127  40.022466  -75.218314    3.0   \n",
       "24221     Pennsylvania        19003  40.006707  -75.289671    3.5   \n",
       "...                ...          ...        ...         ...    ...   \n",
       "52611748  Pennsylvania        19460  40.134042  -75.514528    4.0   \n",
       "52611919  Pennsylvania        18938  40.346275  -75.035753    3.0   \n",
       "52611971  Pennsylvania        19104  39.953391  -75.196765    4.0   \n",
       "52611980    California        93105  34.440689 -119.739681    4.0   \n",
       "52612402  Pennsylvania        19014  39.856185  -75.427725    4.5   \n",
       "\n",
       "          review_count  \\\n",
       "6                   80   \n",
       "1513               100   \n",
       "17041              339   \n",
       "23787               41   \n",
       "24221              109   \n",
       "...                ...   \n",
       "52611748           118   \n",
       "52611919            21   \n",
       "52611971             8   \n",
       "52611980           299   \n",
       "52612402            14   \n",
       "\n",
       "                                                                                                                                                                  hours_Dataset_Business  \\\n",
       "6                     {'Friday': '7:0-21:0', 'Monday': '7:0-20:0', 'Saturday': '7:0-21:0', 'Sunday': '7:0-21:0', 'Thursday': '7:0-20:0', 'Tuesday': '7:0-20:0', 'Wednesday': '7:0-20:0'}   \n",
       "1513                  {'Friday': '10:0-20:0', 'Monday': '10:0-18:0', 'Saturday': '10:0-20:0', 'Sunday': None, 'Thursday': '10:0-20:0', 'Tuesday': '10:0-20:0', 'Wednesday': '10:0-20:0'}   \n",
       "17041          {'Friday': '11:0-21:0', 'Monday': '11:0-22:0', 'Saturday': '12:0-21:0', 'Sunday': '11:0-21:0', 'Thursday': '11:0-20:0', 'Tuesday': '11:0-22:0', 'Wednesday': '10:0-22:0'}   \n",
       "23787               {'Friday': '17:0-0:30', 'Monday': None, 'Saturday': '17:0-0:30', 'Sunday': '17:0-21:30', 'Thursday': '17:0-1:30', 'Tuesday': '17:0-21:30', 'Wednesday': '17:0-1:30'}   \n",
       "24221                 {'Friday': '11:0-1:0', 'Monday': '11:0-0:0', 'Saturday': '11:0-1:0', 'Sunday': '11:0-0:0', 'Thursday': '11:0-0:0', 'Tuesday': '11:0-0:0', 'Wednesday': '11:0-0:0'}   \n",
       "...                                                                                                                                                                                  ...   \n",
       "52611748  {'Friday': '11:30-22:30', 'Monday': None, 'Saturday': '11:30-22:30', 'Sunday': '11:30-22:30', 'Thursday': '11:30-22:30', 'Tuesday': '11:30-22:30', 'Wednesday': '11:30-22:30'}   \n",
       "52611919                  {'Friday': '9:0-20:0', 'Monday': '9:0-20:0', 'Saturday': '8:30-15:30', 'Sunday': None, 'Thursday': '9:0-20:0', 'Tuesday': '9:0-20:0', 'Wednesday': '9:0-20:0'}   \n",
       "52611971                  {'Friday': '9:0-20:0', 'Monday': '9:0-20:0', 'Saturday': '8:30-15:30', 'Sunday': None, 'Thursday': '9:0-20:0', 'Tuesday': '9:0-20:0', 'Wednesday': '9:0-20:0'}   \n",
       "52611980       {'Friday': '15:0-21:0', 'Monday': '15:0-21:0', 'Saturday': '15:0-21:0', 'Sunday': '15:0-21:0', 'Thursday': '15:0-21:0', 'Tuesday': '15:0-21:0', 'Wednesday': '15:0-21:0'}   \n",
       "52612402                     {'Friday': '0:0-0:0', 'Monday': '0:0-0:0', 'Saturday': '0:0-0:0', 'Sunday': '0:0-0:0', 'Thursday': '0:0-0:0', 'Tuesday': '0:0-0:0', 'Wednesday': '0:0-0:0'}   \n",
       "\n",
       "         first_category  \n",
       "6           Restaurants  \n",
       "1513               Food  \n",
       "17041       Restaurants  \n",
       "23787             Pizza  \n",
       "24221             Pizza  \n",
       "...                 ...  \n",
       "52611748    Restaurants  \n",
       "52611919          Pizza  \n",
       "52611971    Restaurants  \n",
       "52611980    Restaurants  \n",
       "52612402    Restaurants  \n",
       "\n",
       "[8811 rows x 11 columns]"
      ]
     },
     "execution_count": 38,
     "metadata": {},
     "output_type": "execute_result"
    }
   ],
   "source": [
    "business"
   ]
  },
  {
   "cell_type": "markdown",
   "metadata": {},
   "source": [
    "*Datos duplicados del dataframe \"checkin\"*"
   ]
  },
  {
   "cell_type": "code",
   "execution_count": 39,
   "metadata": {},
   "outputs": [
    {
     "data": {
      "text/html": [
       "<div>\n",
       "<style scoped>\n",
       "    .dataframe tbody tr th:only-of-type {\n",
       "        vertical-align: middle;\n",
       "    }\n",
       "\n",
       "    .dataframe tbody tr th {\n",
       "        vertical-align: top;\n",
       "    }\n",
       "\n",
       "    .dataframe thead th {\n",
       "        text-align: right;\n",
       "    }\n",
       "</style>\n",
       "<table border=\"1\" class=\"dataframe\">\n",
       "  <thead>\n",
       "    <tr style=\"text-align: right;\">\n",
       "      <th></th>\n",
       "      <th>business_id</th>\n",
       "      <th>hour</th>\n",
       "      <th>date</th>\n",
       "      <th>year</th>\n",
       "      <th>month</th>\n",
       "    </tr>\n",
       "  </thead>\n",
       "  <tbody>\n",
       "  </tbody>\n",
       "</table>\n",
       "</div>"
      ],
      "text/plain": [
       "Empty DataFrame\n",
       "Columns: [business_id, hour, date, year, month]\n",
       "Index: []"
      ]
     },
     "execution_count": 39,
     "metadata": {},
     "output_type": "execute_result"
    }
   ],
   "source": [
    "duplicados1 = checkin[checkin.duplicated(subset=['business_id', 'hour', 'date'], keep=False)]\n",
    "duplicados1"
   ]
  },
  {
   "cell_type": "markdown",
   "metadata": {},
   "source": [
    "Una vez terminada la verificación de los datos duplicados en el dataframe “checkin” se encontraron la cantidad de 0 de datos duplicados con lo cual concluimos que se tiene una  buena calidad de datos."
   ]
  },
  {
   "cell_type": "markdown",
   "metadata": {},
   "source": [
    "*Duplicados del dataframe \"reviews_yelp\"*"
   ]
  },
  {
   "cell_type": "code",
   "execution_count": 40,
   "metadata": {},
   "outputs": [
    {
     "data": {
      "text/html": [
       "<div>\n",
       "<style scoped>\n",
       "    .dataframe tbody tr th:only-of-type {\n",
       "        vertical-align: middle;\n",
       "    }\n",
       "\n",
       "    .dataframe tbody tr th {\n",
       "        vertical-align: top;\n",
       "    }\n",
       "\n",
       "    .dataframe thead th {\n",
       "        text-align: right;\n",
       "    }\n",
       "</style>\n",
       "<table border=\"1\" class=\"dataframe\">\n",
       "  <thead>\n",
       "    <tr style=\"text-align: right;\">\n",
       "      <th></th>\n",
       "      <th>user_id</th>\n",
       "      <th>stars_Dataset_Review</th>\n",
       "      <th>text</th>\n",
       "      <th>id_review</th>\n",
       "      <th>id_user</th>\n",
       "      <th>id_business</th>\n",
       "      <th>anho</th>\n",
       "      <th>mes</th>\n",
       "      <th>dia</th>\n",
       "      <th>hora</th>\n",
       "      <th>name</th>\n",
       "      <th>city</th>\n",
       "      <th>state</th>\n",
       "      <th>stars_Dataset_Business</th>\n",
       "      <th>review_count</th>\n",
       "      <th>yelp_id</th>\n",
       "    </tr>\n",
       "  </thead>\n",
       "  <tbody>\n",
       "    <tr>\n",
       "      <th>0</th>\n",
       "      <td>mh_-eMZ6K5RLWhZyISBhwA</td>\n",
       "      <td>3.0</td>\n",
       "      <td>If you decide to eat here, just be aware it is going to take about 2 hours from beginning to end. We have tried it multiple times, because I want to like it! I have been to it's other locations in NJ and never had a bad experience. \\n\\nThe food is good, but it takes a very long time to come out. The waitstaff is very young, but usually pleasant. We have just had too many experiences where we spent way too long waiting. We usually opt for another diner or restaurant on the weekends, in order to be done quicker.</td>\n",
       "      <td>0</td>\n",
       "      <td>124234</td>\n",
       "      <td>1867</td>\n",
       "      <td>2018</td>\n",
       "      <td>07</td>\n",
       "      <td>07</td>\n",
       "      <td>22:09:11</td>\n",
       "      <td>Turning Point of North Wales</td>\n",
       "      <td>North Wales</td>\n",
       "      <td>Pennsylvania</td>\n",
       "      <td>3.0</td>\n",
       "      <td>169</td>\n",
       "      <td>mh_-eMZ6K5RLWhZyISBhwA</td>\n",
       "    </tr>\n",
       "    <tr>\n",
       "      <th>6</th>\n",
       "      <td>59MxRhNVhU9MYndMkz0wtw</td>\n",
       "      <td>3.0</td>\n",
       "      <td>Had a party of 6 here for hibachi. Our waitress brought our separate sushi orders on one plate so we couldn't really tell who's was who's and forgot several items on an order. I understand making mistakes but the restaraunt was really quiet so we were kind of surprised. Usually hibachi is a fun lively experience and our  cook  said maybe three words, but he cooked very well his name was Francisco. Service was fishy, food was pretty good, and im hoping it was just an off night here. But for the money I wouldn't go back.</td>\n",
       "      <td>9</td>\n",
       "      <td>114367</td>\n",
       "      <td>14917</td>\n",
       "      <td>2016</td>\n",
       "      <td>07</td>\n",
       "      <td>25</td>\n",
       "      <td>07:31:06</td>\n",
       "      <td>Hibachi Steak House &amp; Sushi Bar</td>\n",
       "      <td>Santa Barbara</td>\n",
       "      <td>California</td>\n",
       "      <td>3.5</td>\n",
       "      <td>488</td>\n",
       "      <td>59MxRhNVhU9MYndMkz0wtw</td>\n",
       "    </tr>\n",
       "    <tr>\n",
       "      <th>8</th>\n",
       "      <td>smOvOajNG0lS4Pq7d8g4JQ</td>\n",
       "      <td>4.0</td>\n",
       "      <td>Good food--loved the gnocchi with marinara\\nthe baked eggplant appetizer was very good too\\n\\nThe service was very slow, but despite this, I'd go back, the food is just that good</td>\n",
       "      <td>13</td>\n",
       "      <td>24713</td>\n",
       "      <td>8374</td>\n",
       "      <td>2009</td>\n",
       "      <td>10</td>\n",
       "      <td>14</td>\n",
       "      <td>19:57:14</td>\n",
       "      <td>LaScala's</td>\n",
       "      <td>Philadelphia</td>\n",
       "      <td>Pennsylvania</td>\n",
       "      <td>3.5</td>\n",
       "      <td>367</td>\n",
       "      <td>smOvOajNG0lS4Pq7d8g4JQ</td>\n",
       "    </tr>\n",
       "    <tr>\n",
       "      <th>12</th>\n",
       "      <td>IQsF3Rc6IgCzjVV9DE8KXg</td>\n",
       "      <td>5.0</td>\n",
       "      <td>My absolute favorite cafe in the city. Their black and white latte is probably the best I've ever had (not too sweet and just the right amount of foam), soups are always really good (even for non-soup people) and there's just a lot of space to do work. The noise level is perfect, the music is at a perfect level, and I always enjoy when patrons bring their dogs. I'll keep giving them my business for as long as I can.</td>\n",
       "      <td>19</td>\n",
       "      <td>25591</td>\n",
       "      <td>5086</td>\n",
       "      <td>2014</td>\n",
       "      <td>11</td>\n",
       "      <td>12</td>\n",
       "      <td>15:30:27</td>\n",
       "      <td>Good Karma Cafe</td>\n",
       "      <td>Philadelphia</td>\n",
       "      <td>Pennsylvania</td>\n",
       "      <td>4.0</td>\n",
       "      <td>249</td>\n",
       "      <td>IQsF3Rc6IgCzjVV9DE8KXg</td>\n",
       "    </tr>\n",
       "    <tr>\n",
       "      <th>14</th>\n",
       "      <td>OhECKhQEexFypOMY6kypRw</td>\n",
       "      <td>4.0</td>\n",
       "      <td>Yes, this is the only sushi place in town. However, it is great when you're craving sushi and don't have time to go somewhere else. The salmon is probably the best fish they have, so we always order salmon. We also love their spicy edamame, tempura, ocean salad, and cabbage salad. Service has always been friendly and quick!</td>\n",
       "      <td>23</td>\n",
       "      <td>126430</td>\n",
       "      <td>5247</td>\n",
       "      <td>2013</td>\n",
       "      <td>09</td>\n",
       "      <td>04</td>\n",
       "      <td>03:48:20</td>\n",
       "      <td>Sushi Teri</td>\n",
       "      <td>Carpinteria</td>\n",
       "      <td>California</td>\n",
       "      <td>3.0</td>\n",
       "      <td>167</td>\n",
       "      <td>OhECKhQEexFypOMY6kypRw</td>\n",
       "    </tr>\n",
       "    <tr>\n",
       "      <th>...</th>\n",
       "      <td>...</td>\n",
       "      <td>...</td>\n",
       "      <td>...</td>\n",
       "      <td>...</td>\n",
       "      <td>...</td>\n",
       "      <td>...</td>\n",
       "      <td>...</td>\n",
       "      <td>...</td>\n",
       "      <td>...</td>\n",
       "      <td>...</td>\n",
       "      <td>...</td>\n",
       "      <td>...</td>\n",
       "      <td>...</td>\n",
       "      <td>...</td>\n",
       "      <td>...</td>\n",
       "      <td>...</td>\n",
       "    </tr>\n",
       "    <tr>\n",
       "      <th>3514949</th>\n",
       "      <td>gkg9VqsxPCgpfYXO1dl8CA</td>\n",
       "      <td>4.0</td>\n",
       "      <td>I decided to try this place out after Christmas to beat the crowd. It's definitely the perfect pop-up bar for the holidays, despite its small size. Not only does it have cute photo opportunities but there are holiday-themed cocktails and so many beautiful Christmas decorations. When we went there was a 5$ cover charge which we were not expecting since the \"Nightmare Before Tinsel\" pop-up did not have any cover. If you are looking for a Christmas spirited bar then the 5$ is worth it. The drinks, on the other hand, are overpriced and you're better off taking your pictures and just ordering a drink not on the cocktail menu.</td>\n",
       "      <td>6990235</td>\n",
       "      <td>295006</td>\n",
       "      <td>147605</td>\n",
       "      <td>2020</td>\n",
       "      <td>01</td>\n",
       "      <td>13</td>\n",
       "      <td>04:21:38</td>\n",
       "      <td>Tinsel</td>\n",
       "      <td>Philadelphia</td>\n",
       "      <td>Pennsylvania</td>\n",
       "      <td>3.0</td>\n",
       "      <td>79</td>\n",
       "      <td>gkg9VqsxPCgpfYXO1dl8CA</td>\n",
       "    </tr>\n",
       "    <tr>\n",
       "      <th>3514951</th>\n",
       "      <td>bJ5FtCtZX3ZZacz2_2PJjA</td>\n",
       "      <td>4.0</td>\n",
       "      <td>South Street Diner isn't the best of Philly Diners. but It's always the house of some good memories. Back when I used to be big on Industrial music my friends and I would come here for a 2 AM breakfast fix after a night at the club. all the locals would give us confused looks that were monumental. \\nI've had family live on South Street for many years now. so going here has been a must 24/7. not for the food, not for the service (which is actually pretty damn good on most nights). but simply for the tradition of catching up with old friends and reliving some good moments over coffee and a warm plate of eggs. and when it comes to doing so this place is the best.</td>\n",
       "      <td>6990239</td>\n",
       "      <td>198836</td>\n",
       "      <td>148647</td>\n",
       "      <td>2007</td>\n",
       "      <td>07</td>\n",
       "      <td>27</td>\n",
       "      <td>20:12:11</td>\n",
       "      <td>South Street Diner</td>\n",
       "      <td>Philadelphia</td>\n",
       "      <td>Pennsylvania</td>\n",
       "      <td>3.0</td>\n",
       "      <td>224</td>\n",
       "      <td>bJ5FtCtZX3ZZacz2_2PJjA</td>\n",
       "    </tr>\n",
       "    <tr>\n",
       "      <th>3514952</th>\n",
       "      <td>bJ5FtCtZX3ZZacz2_2PJjA</td>\n",
       "      <td>4.0</td>\n",
       "      <td>When I first heard that the Peace A Pizza (https://www.yelp.com/biz/peace-a-pizza-ardmore-2) were embracing the fast casual movement and making custom pies possible faster than ever before, I loved the idea. Especially when I found out that they were opening a Philly location in the spot that used to house my beloved burger joint 500 Degrees (https://www.yelp.com/biz/500-degrees-philadelphia-3). And after a couple of visits I can say that I'm happy with the end result overall.\\n\\nUltimately I give 4 stars because there's another nearby fast casual pizza joint that delivers pies slightly better (&amp;Pizza review coming later). I also find the huge wooden serving blocks that they give you when you order in to be kind of awkward to handle, especially when you come in during a lunch or dinner rush. But when it comes down to it I'm impressed with the number of specialty pies, grain bowls, and salads that they're able to dish out, and liked the selection of New Hope fountain sodas that you ...</td>\n",
       "      <td>6990240</td>\n",
       "      <td>198836</td>\n",
       "      <td>143172</td>\n",
       "      <td>2017</td>\n",
       "      <td>02</td>\n",
       "      <td>23</td>\n",
       "      <td>19:11:04</td>\n",
       "      <td>Snap Custom Pizza - Center City</td>\n",
       "      <td>Philadelphia</td>\n",
       "      <td>Pennsylvania</td>\n",
       "      <td>4.0</td>\n",
       "      <td>271</td>\n",
       "      <td>bJ5FtCtZX3ZZacz2_2PJjA</td>\n",
       "    </tr>\n",
       "    <tr>\n",
       "      <th>3514963</th>\n",
       "      <td>am7-gkH_PDz598oTdYSD6A</td>\n",
       "      <td>3.0</td>\n",
       "      <td>*Later Yelp* I've only been here once, but I love this place mainly for the atmosphere. It just has a cool, swanky vibe. The food is pretty good too. I had the lamb chops, uzuu lemon cheesecake for dessert and a lychee martini, I believe. All were pretty good...although the lamb may have been a bit too salty. I remember the service being satisfactory as well.</td>\n",
       "      <td>6990260</td>\n",
       "      <td>24243</td>\n",
       "      <td>141961</td>\n",
       "      <td>2014</td>\n",
       "      <td>11</td>\n",
       "      <td>03</td>\n",
       "      <td>14:45:46</td>\n",
       "      <td>Pod</td>\n",
       "      <td>Philadelphia</td>\n",
       "      <td>Pennsylvania</td>\n",
       "      <td>3.5</td>\n",
       "      <td>797</td>\n",
       "      <td>am7-gkH_PDz598oTdYSD6A</td>\n",
       "    </tr>\n",
       "    <tr>\n",
       "      <th>3514967</th>\n",
       "      <td>cTozFTTWjlFYc3yusdbZmA</td>\n",
       "      <td>1.0</td>\n",
       "      <td>Just average Thai food tonight. Bangkok has always been my go to for Thai food but not anymore. We ordered the eggplant, the basil, and the combination noodles. All 3 dishes had the same watery sauce, red and green bell pepper and onion; tiny pieces of eggplant, almost zero basil, or noodle to make each dish different from the other. The stuffed chicken wing appetizer was not a favorite either. The sizzling platter was disappointing too with not enough spinach.  It was so good in the past. Unfortunately short cuts and are being made. Plus they overcharged us by charging for 2 sizzling platters when we ordered 1. When this was supposedly corrected the total bill came out to be $10 less. How does this make sense??? Did I still pay tax for 2nd sizzling platter? And shouldn't half of $27 be less $13.50 not $10? I don't think I'll be returning any time soon.</td>\n",
       "      <td>6990266</td>\n",
       "      <td>823973</td>\n",
       "      <td>148461</td>\n",
       "      <td>2022</td>\n",
       "      <td>01</td>\n",
       "      <td>18</td>\n",
       "      <td>06:42:59</td>\n",
       "      <td>Bangkok Cuisine</td>\n",
       "      <td>Reno</td>\n",
       "      <td>Nevada</td>\n",
       "      <td>4.0</td>\n",
       "      <td>539</td>\n",
       "      <td>cTozFTTWjlFYc3yusdbZmA</td>\n",
       "    </tr>\n",
       "  </tbody>\n",
       "</table>\n",
       "<p>767182 rows × 16 columns</p>\n",
       "</div>"
      ],
      "text/plain": [
       "                        user_id  stars_Dataset_Review  \\\n",
       "0        mh_-eMZ6K5RLWhZyISBhwA                   3.0   \n",
       "6        59MxRhNVhU9MYndMkz0wtw                   3.0   \n",
       "8        smOvOajNG0lS4Pq7d8g4JQ                   4.0   \n",
       "12       IQsF3Rc6IgCzjVV9DE8KXg                   5.0   \n",
       "14       OhECKhQEexFypOMY6kypRw                   4.0   \n",
       "...                         ...                   ...   \n",
       "3514949  gkg9VqsxPCgpfYXO1dl8CA                   4.0   \n",
       "3514951  bJ5FtCtZX3ZZacz2_2PJjA                   4.0   \n",
       "3514952  bJ5FtCtZX3ZZacz2_2PJjA                   4.0   \n",
       "3514963  am7-gkH_PDz598oTdYSD6A                   3.0   \n",
       "3514967  cTozFTTWjlFYc3yusdbZmA                   1.0   \n",
       "\n",
       "                                                                                                                                                                                                                                                                                                                                                                                                                                                                                                                                                                                                                                                                                                                                                                                                                                                                                                                                                                                                                                            text  \\\n",
       "0                                                                                                                                                                                                                                                                                                                                                                                                                                                                                                            If you decide to eat here, just be aware it is going to take about 2 hours from beginning to end. We have tried it multiple times, because I want to like it! I have been to it's other locations in NJ and never had a bad experience. \\n\\nThe food is good, but it takes a very long time to come out. The waitstaff is very young, but usually pleasant. We have just had too many experiences where we spent way too long waiting. We usually opt for another diner or restaurant on the weekends, in order to be done quicker.   \n",
       "6                                                                                                                                                                                                                                                                                                                                                                                                                                                                                                   Had a party of 6 here for hibachi. Our waitress brought our separate sushi orders on one plate so we couldn't really tell who's was who's and forgot several items on an order. I understand making mistakes but the restaraunt was really quiet so we were kind of surprised. Usually hibachi is a fun lively experience and our  cook  said maybe three words, but he cooked very well his name was Francisco. Service was fishy, food was pretty good, and im hoping it was just an off night here. But for the money I wouldn't go back.   \n",
       "8                                                                                                                                                                                                                                                                                                                                                                                                                                                                                                                                                                                                                                                                                                                                                                                                                                                             Good food--loved the gnocchi with marinara\\nthe baked eggplant appetizer was very good too\\n\\nThe service was very slow, but despite this, I'd go back, the food is just that good   \n",
       "12                                                                                                                                                                                                                                                                                                                                                                                                                                                                                                                                                                                                           My absolute favorite cafe in the city. Their black and white latte is probably the best I've ever had (not too sweet and just the right amount of foam), soups are always really good (even for non-soup people) and there's just a lot of space to do work. The noise level is perfect, the music is at a perfect level, and I always enjoy when patrons bring their dogs. I'll keep giving them my business for as long as I can.   \n",
       "14                                                                                                                                                                                                                                                                                                                                                                                                                                                                                                                                                                                                                                                                                                         Yes, this is the only sushi place in town. However, it is great when you're craving sushi and don't have time to go somewhere else. The salmon is probably the best fish they have, so we always order salmon. We also love their spicy edamame, tempura, ocean salad, and cabbage salad. Service has always been friendly and quick!   \n",
       "...                                                                                                                                                                                                                                                                                                                                                                                                                                                                                                                                                                                                                                                                                                                                                                                                                                                                                                                                                                                                                                          ...   \n",
       "3514949                                                                                                                                                                                                                                                                                                                                                                                     I decided to try this place out after Christmas to beat the crowd. It's definitely the perfect pop-up bar for the holidays, despite its small size. Not only does it have cute photo opportunities but there are holiday-themed cocktails and so many beautiful Christmas decorations. When we went there was a 5$ cover charge which we were not expecting since the \"Nightmare Before Tinsel\" pop-up did not have any cover. If you are looking for a Christmas spirited bar then the 5$ is worth it. The drinks, on the other hand, are overpriced and you're better off taking your pictures and just ordering a drink not on the cocktail menu.   \n",
       "3514951                                                                                                                                                                                                                                                                                                                                             South Street Diner isn't the best of Philly Diners. but It's always the house of some good memories. Back when I used to be big on Industrial music my friends and I would come here for a 2 AM breakfast fix after a night at the club. all the locals would give us confused looks that were monumental. \\nI've had family live on South Street for many years now. so going here has been a must 24/7. not for the food, not for the service (which is actually pretty damn good on most nights). but simply for the tradition of catching up with old friends and reliving some good moments over coffee and a warm plate of eggs. and when it comes to doing so this place is the best.   \n",
       "3514952  When I first heard that the Peace A Pizza (https://www.yelp.com/biz/peace-a-pizza-ardmore-2) were embracing the fast casual movement and making custom pies possible faster than ever before, I loved the idea. Especially when I found out that they were opening a Philly location in the spot that used to house my beloved burger joint 500 Degrees (https://www.yelp.com/biz/500-degrees-philadelphia-3). And after a couple of visits I can say that I'm happy with the end result overall.\\n\\nUltimately I give 4 stars because there's another nearby fast casual pizza joint that delivers pies slightly better (&Pizza review coming later). I also find the huge wooden serving blocks that they give you when you order in to be kind of awkward to handle, especially when you come in during a lunch or dinner rush. But when it comes down to it I'm impressed with the number of specialty pies, grain bowls, and salads that they're able to dish out, and liked the selection of New Hope fountain sodas that you ...   \n",
       "3514963                                                                                                                                                                                                                                                                                                                                                                                                                                                                                                                                                                                                                                                                *Later Yelp* I've only been here once, but I love this place mainly for the atmosphere. It just has a cool, swanky vibe. The food is pretty good too. I had the lamb chops, uzuu lemon cheesecake for dessert and a lychee martini, I believe. All were pretty good...although the lamb may have been a bit too salty. I remember the service being satisfactory as well.   \n",
       "3514967                                                                                                                                        Just average Thai food tonight. Bangkok has always been my go to for Thai food but not anymore. We ordered the eggplant, the basil, and the combination noodles. All 3 dishes had the same watery sauce, red and green bell pepper and onion; tiny pieces of eggplant, almost zero basil, or noodle to make each dish different from the other. The stuffed chicken wing appetizer was not a favorite either. The sizzling platter was disappointing too with not enough spinach.  It was so good in the past. Unfortunately short cuts and are being made. Plus they overcharged us by charging for 2 sizzling platters when we ordered 1. When this was supposedly corrected the total bill came out to be $10 less. How does this make sense??? Did I still pay tax for 2nd sizzling platter? And shouldn't half of $27 be less $13.50 not $10? I don't think I'll be returning any time soon.   \n",
       "\n",
       "         id_review  id_user  id_business  anho mes dia      hora  \\\n",
       "0                0   124234         1867  2018  07  07  22:09:11   \n",
       "6                9   114367        14917  2016  07  25  07:31:06   \n",
       "8               13    24713         8374  2009  10  14  19:57:14   \n",
       "12              19    25591         5086  2014  11  12  15:30:27   \n",
       "14              23   126430         5247  2013  09  04  03:48:20   \n",
       "...            ...      ...          ...   ...  ..  ..       ...   \n",
       "3514949    6990235   295006       147605  2020  01  13  04:21:38   \n",
       "3514951    6990239   198836       148647  2007  07  27  20:12:11   \n",
       "3514952    6990240   198836       143172  2017  02  23  19:11:04   \n",
       "3514963    6990260    24243       141961  2014  11  03  14:45:46   \n",
       "3514967    6990266   823973       148461  2022  01  18  06:42:59   \n",
       "\n",
       "                                    name           city         state  \\\n",
       "0           Turning Point of North Wales    North Wales  Pennsylvania   \n",
       "6        Hibachi Steak House & Sushi Bar  Santa Barbara    California   \n",
       "8                              LaScala's   Philadelphia  Pennsylvania   \n",
       "12                       Good Karma Cafe   Philadelphia  Pennsylvania   \n",
       "14                            Sushi Teri    Carpinteria    California   \n",
       "...                                  ...            ...           ...   \n",
       "3514949                           Tinsel   Philadelphia  Pennsylvania   \n",
       "3514951               South Street Diner   Philadelphia  Pennsylvania   \n",
       "3514952  Snap Custom Pizza - Center City   Philadelphia  Pennsylvania   \n",
       "3514963                              Pod   Philadelphia  Pennsylvania   \n",
       "3514967                  Bangkok Cuisine           Reno        Nevada   \n",
       "\n",
       "         stars_Dataset_Business  review_count                 yelp_id  \n",
       "0                           3.0           169  mh_-eMZ6K5RLWhZyISBhwA  \n",
       "6                           3.5           488  59MxRhNVhU9MYndMkz0wtw  \n",
       "8                           3.5           367  smOvOajNG0lS4Pq7d8g4JQ  \n",
       "12                          4.0           249  IQsF3Rc6IgCzjVV9DE8KXg  \n",
       "14                          3.0           167  OhECKhQEexFypOMY6kypRw  \n",
       "...                         ...           ...                     ...  \n",
       "3514949                     3.0            79  gkg9VqsxPCgpfYXO1dl8CA  \n",
       "3514951                     3.0           224  bJ5FtCtZX3ZZacz2_2PJjA  \n",
       "3514952                     4.0           271  bJ5FtCtZX3ZZacz2_2PJjA  \n",
       "3514963                     3.5           797  am7-gkH_PDz598oTdYSD6A  \n",
       "3514967                     4.0           539  cTozFTTWjlFYc3yusdbZmA  \n",
       "\n",
       "[767182 rows x 16 columns]"
      ]
     },
     "execution_count": 40,
     "metadata": {},
     "output_type": "execute_result"
    }
   ],
   "source": [
    "reviews_yelp"
   ]
  },
  {
   "cell_type": "code",
   "execution_count": 41,
   "metadata": {},
   "outputs": [
    {
     "data": {
      "text/html": [
       "<div>\n",
       "<style scoped>\n",
       "    .dataframe tbody tr th:only-of-type {\n",
       "        vertical-align: middle;\n",
       "    }\n",
       "\n",
       "    .dataframe tbody tr th {\n",
       "        vertical-align: top;\n",
       "    }\n",
       "\n",
       "    .dataframe thead th {\n",
       "        text-align: right;\n",
       "    }\n",
       "</style>\n",
       "<table border=\"1\" class=\"dataframe\">\n",
       "  <thead>\n",
       "    <tr style=\"text-align: right;\">\n",
       "      <th></th>\n",
       "      <th>user_id</th>\n",
       "      <th>stars_Dataset_Review</th>\n",
       "      <th>text</th>\n",
       "      <th>id_review</th>\n",
       "      <th>id_user</th>\n",
       "      <th>id_business</th>\n",
       "      <th>anho</th>\n",
       "      <th>mes</th>\n",
       "      <th>dia</th>\n",
       "      <th>hora</th>\n",
       "      <th>name</th>\n",
       "      <th>city</th>\n",
       "      <th>state</th>\n",
       "      <th>stars_Dataset_Business</th>\n",
       "      <th>review_count</th>\n",
       "      <th>yelp_id</th>\n",
       "    </tr>\n",
       "  </thead>\n",
       "  <tbody>\n",
       "    <tr>\n",
       "      <th>3641</th>\n",
       "      <td>QUdKrOA3Iv1laFNRgq8W-g</td>\n",
       "      <td>2.0</td>\n",
       "      <td>I went here with a friend who had a Groupon.  The sushi was horrible, full of filler breadcrums and very skimpy on fish.  They took a lot of time and care to decorate the plate with fresh orchids and I wish that they would have invested this extra money into giving us more fish in our rolls.</td>\n",
       "      <td>7115</td>\n",
       "      <td>43092</td>\n",
       "      <td>12856</td>\n",
       "      <td>2013</td>\n",
       "      <td>12</td>\n",
       "      <td>08</td>\n",
       "      <td>18:03:09</td>\n",
       "      <td>Crazy Sushi</td>\n",
       "      <td>Philadelphia</td>\n",
       "      <td>Pennsylvania</td>\n",
       "      <td>4.0</td>\n",
       "      <td>550</td>\n",
       "      <td>QUdKrOA3Iv1laFNRgq8W-g</td>\n",
       "    </tr>\n",
       "    <tr>\n",
       "      <th>5965</th>\n",
       "      <td>xwUWFYaT8SGbKQuMCqD8fg</td>\n",
       "      <td>5.0</td>\n",
       "      <td>A friend and I were visiting PA for the first time this Memorial Day weekend.  We were in pursuit of a good place to eat.  We passed Han Dynasty and like the ambience. We decided to give it a try. We sat at the bar area. The two gentlemen working the bar were extremely helpful and welcoming. They explained the menu to us. Everything is cooked fresh.  We love spicy food. The hotter the better; the food was so amazingly flavorful I would drive back from Washington, DC just to eat here again. I had the Cumin Pork spiced to level 10 my friend had chicken fried rice. We like very hot food most places even in DC cannot get the balance of heat and flavor right even when dishes are request extra spicy. Han Dynasty did!! The customer service and the food are worth giving this place a try if you like spicy food.  It would be a great business move for them if they opened one in the District of Columbia. Well done guys!!</td>\n",
       "      <td>11759</td>\n",
       "      <td>164225</td>\n",
       "      <td>1937</td>\n",
       "      <td>2014</td>\n",
       "      <td>05</td>\n",
       "      <td>27</td>\n",
       "      <td>17:52:40</td>\n",
       "      <td>Han Dynasty</td>\n",
       "      <td>Philadelphia</td>\n",
       "      <td>Pennsylvania</td>\n",
       "      <td>4.0</td>\n",
       "      <td>783</td>\n",
       "      <td>xwUWFYaT8SGbKQuMCqD8fg</td>\n",
       "    </tr>\n",
       "  </tbody>\n",
       "</table>\n",
       "</div>"
      ],
      "text/plain": [
       "                     user_id  stars_Dataset_Review  \\\n",
       "3641  QUdKrOA3Iv1laFNRgq8W-g                   2.0   \n",
       "5965  xwUWFYaT8SGbKQuMCqD8fg                   5.0   \n",
       "\n",
       "                                                                                                                                                                                                                                                                                                                                                                                                                                                                                                                                                                                                                                                                                                                                                                                                                                                                                                                                                            text  \\\n",
       "3641                                                                                                                                                                                                                                                                                                                                                                                                                                                                                                                                                                                                                                                        I went here with a friend who had a Groupon.  The sushi was horrible, full of filler breadcrums and very skimpy on fish.  They took a lot of time and care to decorate the plate with fresh orchids and I wish that they would have invested this extra money into giving us more fish in our rolls.   \n",
       "5965  A friend and I were visiting PA for the first time this Memorial Day weekend.  We were in pursuit of a good place to eat.  We passed Han Dynasty and like the ambience. We decided to give it a try. We sat at the bar area. The two gentlemen working the bar were extremely helpful and welcoming. They explained the menu to us. Everything is cooked fresh.  We love spicy food. The hotter the better; the food was so amazingly flavorful I would drive back from Washington, DC just to eat here again. I had the Cumin Pork spiced to level 10 my friend had chicken fried rice. We like very hot food most places even in DC cannot get the balance of heat and flavor right even when dishes are request extra spicy. Han Dynasty did!! The customer service and the food are worth giving this place a try if you like spicy food.  It would be a great business move for them if they opened one in the District of Columbia. Well done guys!!   \n",
       "\n",
       "      id_review  id_user  id_business  anho mes dia      hora         name  \\\n",
       "3641       7115    43092        12856  2013  12  08  18:03:09  Crazy Sushi   \n",
       "5965      11759   164225         1937  2014  05  27  17:52:40  Han Dynasty   \n",
       "\n",
       "              city         state  stars_Dataset_Business  review_count  \\\n",
       "3641  Philadelphia  Pennsylvania                     4.0           550   \n",
       "5965  Philadelphia  Pennsylvania                     4.0           783   \n",
       "\n",
       "                     yelp_id  \n",
       "3641  QUdKrOA3Iv1laFNRgq8W-g  \n",
       "5965  xwUWFYaT8SGbKQuMCqD8fg  "
      ]
     },
     "execution_count": 41,
     "metadata": {},
     "output_type": "execute_result"
    }
   ],
   "source": [
    "duplicados = reviews_yelp[reviews_yelp.duplicated(subset=['user_id','anho', 'mes', 'dia', 'hora'], keep=False)]\n",
    "duplicados.head(2)"
   ]
  },
  {
   "cell_type": "markdown",
   "metadata": {},
   "source": [
    "Después de la verificación de los datos duplicados en el dataframe “reviews_yelp” se encontró la cantidad de 244 de datos duplicados equivalente a un 0.03% de un total 767,182  . Con lo cual se tiene una calidad aceptable de datos."
   ]
  },
  {
   "cell_type": "markdown",
   "metadata": {},
   "source": [
    "*Datos duplicados del dataframe \"tip\"*"
   ]
  },
  {
   "cell_type": "code",
   "execution_count": 44,
   "metadata": {},
   "outputs": [
    {
     "data": {
      "text/html": [
       "<div>\n",
       "<style scoped>\n",
       "    .dataframe tbody tr th:only-of-type {\n",
       "        vertical-align: middle;\n",
       "    }\n",
       "\n",
       "    .dataframe tbody tr th {\n",
       "        vertical-align: top;\n",
       "    }\n",
       "\n",
       "    .dataframe thead th {\n",
       "        text-align: right;\n",
       "    }\n",
       "</style>\n",
       "<table border=\"1\" class=\"dataframe\">\n",
       "  <thead>\n",
       "    <tr style=\"text-align: right;\">\n",
       "      <th></th>\n",
       "      <th>id_user</th>\n",
       "      <th>id_business</th>\n",
       "      <th>text</th>\n",
       "      <th>date</th>\n",
       "      <th>compliment_count</th>\n",
       "    </tr>\n",
       "  </thead>\n",
       "  <tbody>\n",
       "  </tbody>\n",
       "</table>\n",
       "</div>"
      ],
      "text/plain": [
       "Empty DataFrame\n",
       "Columns: [id_user, id_business, text, date, compliment_count]\n",
       "Index: []"
      ]
     },
     "execution_count": 44,
     "metadata": {},
     "output_type": "execute_result"
    }
   ],
   "source": [
    "duplicados = tip[tip.duplicated(subset=['id_user','id_business','date', 'text'], keep=False)]\n",
    "duplicados"
   ]
  },
  {
   "cell_type": "code",
   "execution_count": 45,
   "metadata": {},
   "outputs": [
    {
     "data": {
      "text/html": [
       "<div>\n",
       "<style scoped>\n",
       "    .dataframe tbody tr th:only-of-type {\n",
       "        vertical-align: middle;\n",
       "    }\n",
       "\n",
       "    .dataframe tbody tr th {\n",
       "        vertical-align: top;\n",
       "    }\n",
       "\n",
       "    .dataframe thead th {\n",
       "        text-align: right;\n",
       "    }\n",
       "</style>\n",
       "<table border=\"1\" class=\"dataframe\">\n",
       "  <thead>\n",
       "    <tr style=\"text-align: right;\">\n",
       "      <th></th>\n",
       "      <th>id_user</th>\n",
       "      <th>id_business</th>\n",
       "      <th>text</th>\n",
       "      <th>date</th>\n",
       "      <th>compliment_count</th>\n",
       "    </tr>\n",
       "  </thead>\n",
       "  <tbody>\n",
       "  </tbody>\n",
       "</table>\n",
       "</div>"
      ],
      "text/plain": [
       "Empty DataFrame\n",
       "Columns: [id_user, id_business, text, date, compliment_count]\n",
       "Index: []"
      ]
     },
     "execution_count": 45,
     "metadata": {},
     "output_type": "execute_result"
    }
   ],
   "source": [
    "tip[(tip['id_user']==7914) & (tip['id_business']==200076) & (tip['text']=='LM') & (tip['date']=='2011-11-22 12:48:02')]"
   ]
  },
  {
   "cell_type": "markdown",
   "metadata": {},
   "source": [
    "Una vez terminada la verificación de los datos duplicados en el dataframe \"tip\" se encontraron la cantidad de 0 de datos duplicados con lo cual concluimos que se tiene una  buena calidad de datos."
   ]
  },
  {
   "cell_type": "markdown",
   "metadata": {},
   "source": [
    "*Datos duplicados del dataframe \"user_yelp\"*"
   ]
  },
  {
   "cell_type": "code",
   "execution_count": 46,
   "metadata": {},
   "outputs": [
    {
     "data": {
      "text/html": [
       "<div>\n",
       "<style scoped>\n",
       "    .dataframe tbody tr th:only-of-type {\n",
       "        vertical-align: middle;\n",
       "    }\n",
       "\n",
       "    .dataframe tbody tr th {\n",
       "        vertical-align: top;\n",
       "    }\n",
       "\n",
       "    .dataframe thead th {\n",
       "        text-align: right;\n",
       "    }\n",
       "</style>\n",
       "<table border=\"1\" class=\"dataframe\">\n",
       "  <thead>\n",
       "    <tr style=\"text-align: right;\">\n",
       "      <th></th>\n",
       "      <th>id_user</th>\n",
       "      <th>years</th>\n",
       "    </tr>\n",
       "  </thead>\n",
       "  <tbody>\n",
       "    <tr>\n",
       "      <th>1</th>\n",
       "      <td>1</td>\n",
       "      <td>2020</td>\n",
       "    </tr>\n",
       "    <tr>\n",
       "      <th>1</th>\n",
       "      <td>1</td>\n",
       "      <td>2020</td>\n",
       "    </tr>\n",
       "    <tr>\n",
       "      <th>18</th>\n",
       "      <td>18</td>\n",
       "      <td>2020</td>\n",
       "    </tr>\n",
       "    <tr>\n",
       "      <th>18</th>\n",
       "      <td>18</td>\n",
       "      <td>2020</td>\n",
       "    </tr>\n",
       "    <tr>\n",
       "      <th>29</th>\n",
       "      <td>29</td>\n",
       "      <td>2020</td>\n",
       "    </tr>\n",
       "    <tr>\n",
       "      <th>...</th>\n",
       "      <td>...</td>\n",
       "      <td>...</td>\n",
       "    </tr>\n",
       "    <tr>\n",
       "      <th>1966851</th>\n",
       "      <td>1966851</td>\n",
       "      <td>2020</td>\n",
       "    </tr>\n",
       "    <tr>\n",
       "      <th>1971939</th>\n",
       "      <td>1971939</td>\n",
       "      <td>2020</td>\n",
       "    </tr>\n",
       "    <tr>\n",
       "      <th>1971939</th>\n",
       "      <td>1971939</td>\n",
       "      <td>2020</td>\n",
       "    </tr>\n",
       "    <tr>\n",
       "      <th>1976641</th>\n",
       "      <td>1976641</td>\n",
       "      <td>2020</td>\n",
       "    </tr>\n",
       "    <tr>\n",
       "      <th>1976641</th>\n",
       "      <td>1976641</td>\n",
       "      <td>2020</td>\n",
       "    </tr>\n",
       "  </tbody>\n",
       "</table>\n",
       "<p>79858 rows × 2 columns</p>\n",
       "</div>"
      ],
      "text/plain": [
       "         id_user  years\n",
       "1              1   2020\n",
       "1              1   2020\n",
       "18            18   2020\n",
       "18            18   2020\n",
       "29            29   2020\n",
       "...          ...    ...\n",
       "1966851  1966851   2020\n",
       "1971939  1971939   2020\n",
       "1971939  1971939   2020\n",
       "1976641  1976641   2020\n",
       "1976641  1976641   2020\n",
       "\n",
       "[79858 rows x 2 columns]"
      ]
     },
     "execution_count": 46,
     "metadata": {},
     "output_type": "execute_result"
    }
   ],
   "source": [
    "user_yelp[user_yelp.duplicated(subset=['id_user', 'years'], keep=False)]"
   ]
  },
  {
   "cell_type": "markdown",
   "metadata": {},
   "source": [
    "Una vez terminada la verificación de los datos duplicados en el dataframe “user_yelp” se encontraron la cantidad de 79,858 de datos duplicados equivalente a un 3.506% de un total 2,277,195. Con lo cual concluimos que el 98.245% de los datos NO son duplicados, teniendo una calidad buena de datos."
   ]
  },
  {
   "cell_type": "markdown",
   "metadata": {},
   "source": [
    "**Verificación de datos faltantes de YELP**"
   ]
  },
  {
   "cell_type": "markdown",
   "metadata": {},
   "source": [
    "*Datos faltantes dataframe \"business\"*"
   ]
  },
  {
   "cell_type": "code",
   "execution_count": 48,
   "metadata": {},
   "outputs": [
    {
     "data": {
      "text/html": [
       "<div>\n",
       "<style scoped>\n",
       "    .dataframe tbody tr th:only-of-type {\n",
       "        vertical-align: middle;\n",
       "    }\n",
       "\n",
       "    .dataframe tbody tr th {\n",
       "        vertical-align: top;\n",
       "    }\n",
       "\n",
       "    .dataframe thead th {\n",
       "        text-align: right;\n",
       "    }\n",
       "</style>\n",
       "<table border=\"1\" class=\"dataframe\">\n",
       "  <thead>\n",
       "    <tr style=\"text-align: right;\">\n",
       "      <th></th>\n",
       "      <th>id_business</th>\n",
       "      <th>name</th>\n",
       "      <th>city</th>\n",
       "      <th>state</th>\n",
       "      <th>postal_code</th>\n",
       "      <th>latitude</th>\n",
       "      <th>longitude</th>\n",
       "      <th>stars</th>\n",
       "      <th>review_count</th>\n",
       "      <th>hours_Dataset_Business</th>\n",
       "      <th>first_category</th>\n",
       "    </tr>\n",
       "  </thead>\n",
       "  <tbody>\n",
       "  </tbody>\n",
       "</table>\n",
       "</div>"
      ],
      "text/plain": [
       "Empty DataFrame\n",
       "Columns: [id_business, name, city, state, postal_code, latitude, longitude, stars, review_count, hours_Dataset_Business, first_category]\n",
       "Index: []"
      ]
     },
     "execution_count": 48,
     "metadata": {},
     "output_type": "execute_result"
    }
   ],
   "source": [
    "business[business['hours_Dataset_Business'] == '']"
   ]
  },
  {
   "cell_type": "markdown",
   "metadata": {},
   "source": [
    "*Datos faltantes del dataframe \"checkin\"*"
   ]
  },
  {
   "cell_type": "code",
   "execution_count": 49,
   "metadata": {},
   "outputs": [
    {
     "data": {
      "text/html": [
       "<div>\n",
       "<style scoped>\n",
       "    .dataframe tbody tr th:only-of-type {\n",
       "        vertical-align: middle;\n",
       "    }\n",
       "\n",
       "    .dataframe tbody tr th {\n",
       "        vertical-align: top;\n",
       "    }\n",
       "\n",
       "    .dataframe thead th {\n",
       "        text-align: right;\n",
       "    }\n",
       "</style>\n",
       "<table border=\"1\" class=\"dataframe\">\n",
       "  <thead>\n",
       "    <tr style=\"text-align: right;\">\n",
       "      <th></th>\n",
       "      <th>business_id</th>\n",
       "      <th>hour</th>\n",
       "      <th>date</th>\n",
       "      <th>year</th>\n",
       "      <th>month</th>\n",
       "    </tr>\n",
       "  </thead>\n",
       "  <tbody>\n",
       "  </tbody>\n",
       "</table>\n",
       "</div>"
      ],
      "text/plain": [
       "Empty DataFrame\n",
       "Columns: [business_id, hour, date, year, month]\n",
       "Index: []"
      ]
     },
     "execution_count": 49,
     "metadata": {},
     "output_type": "execute_result"
    }
   ],
   "source": [
    "checkin[checkin['month']== '']"
   ]
  },
  {
   "cell_type": "markdown",
   "metadata": {},
   "source": [
    "Una vez analisado el dataframe “checkin” en búsqueda de datos faltantes, encontramos la cantidad de 0 de datos faltantes de un total 124,757 datos del dataframe.  Con lo cual concluimos que el 100% de los datos del dataframe NO son faltantes, teniendo una calidad buena de datos."
   ]
  },
  {
   "cell_type": "markdown",
   "metadata": {},
   "source": [
    "*Datos faltantes del dataframe \"reviews_yelp\"*"
   ]
  },
  {
   "cell_type": "code",
   "execution_count": 50,
   "metadata": {},
   "outputs": [
    {
     "name": "stdout",
     "output_type": "stream",
     "text": [
      "Empty DataFrame\n",
      "Columns: [user_id, stars_Dataset_Review, text, id_review, id_user, id_business, anho, mes, dia, hora, name, city, state, stars_Dataset_Business, review_count, yelp_id]\n",
      "Index: []\n",
      "Empty DataFrame\n",
      "Columns: [user_id, stars_Dataset_Review, text, id_review, id_user, id_business, anho, mes, dia, hora, name, city, state, stars_Dataset_Business, review_count, yelp_id]\n",
      "Index: []\n",
      "Empty DataFrame\n",
      "Columns: [user_id, stars_Dataset_Review, text, id_review, id_user, id_business, anho, mes, dia, hora, name, city, state, stars_Dataset_Business, review_count, yelp_id]\n",
      "Index: []\n",
      "Empty DataFrame\n",
      "Columns: [user_id, stars_Dataset_Review, text, id_review, id_user, id_business, anho, mes, dia, hora, name, city, state, stars_Dataset_Business, review_count, yelp_id]\n",
      "Index: []\n"
     ]
    }
   ],
   "source": [
    "print(reviews_yelp[reviews_yelp['anho']== ''])\n",
    "print(reviews_yelp[reviews_yelp['mes']== ''])\n",
    "print(reviews_yelp[reviews_yelp['dia']== ''])\n",
    "print(reviews_yelp[reviews_yelp['hora']== ''])"
   ]
  },
  {
   "cell_type": "markdown",
   "metadata": {},
   "source": [
    "Después de analizar el dataframe “reviews_yelp” en búsqueda de datos faltantes, encontramos la cantidad de 0 de datos faltantes de un total 3'775,931  datos del dataframe.  Con lo cual concluimos que el 100% de los datos del dataframe NO son faltantes, teniendo una calidad buena de datos."
   ]
  },
  {
   "cell_type": "markdown",
   "metadata": {},
   "source": [
    "*Datos faltantes del dataframe \"tip\"*"
   ]
  },
  {
   "cell_type": "code",
   "execution_count": 51,
   "metadata": {},
   "outputs": [
    {
     "data": {
      "text/html": [
       "<div>\n",
       "<style scoped>\n",
       "    .dataframe tbody tr th:only-of-type {\n",
       "        vertical-align: middle;\n",
       "    }\n",
       "\n",
       "    .dataframe tbody tr th {\n",
       "        vertical-align: top;\n",
       "    }\n",
       "\n",
       "    .dataframe thead th {\n",
       "        text-align: right;\n",
       "    }\n",
       "</style>\n",
       "<table border=\"1\" class=\"dataframe\">\n",
       "  <thead>\n",
       "    <tr style=\"text-align: right;\">\n",
       "      <th></th>\n",
       "      <th>id_user</th>\n",
       "      <th>id_business</th>\n",
       "      <th>text</th>\n",
       "      <th>date</th>\n",
       "      <th>compliment_count</th>\n",
       "    </tr>\n",
       "  </thead>\n",
       "  <tbody>\n",
       "  </tbody>\n",
       "</table>\n",
       "</div>"
      ],
      "text/plain": [
       "Empty DataFrame\n",
       "Columns: [id_user, id_business, text, date, compliment_count]\n",
       "Index: []"
      ]
     },
     "execution_count": 51,
     "metadata": {},
     "output_type": "execute_result"
    }
   ],
   "source": [
    "tip[tip['compliment_count'] == '']"
   ]
  },
  {
   "cell_type": "markdown",
   "metadata": {},
   "source": [
    "Tras analizar el dataframe \"tip\" en búsqueda de datos faltantes, encontramos la cantidad de 0 de datos faltantes de un total 677,160  datos del dataframe.  Con lo cual concluimos que el 100% de los datos del dataframe NO son faltantes, teniendo una calidad buena de datos."
   ]
  },
  {
   "cell_type": "markdown",
   "metadata": {},
   "source": [
    "*Datos faltantes del dataframe \"user_yelp\"*"
   ]
  },
  {
   "cell_type": "code",
   "execution_count": 52,
   "metadata": {},
   "outputs": [
    {
     "data": {
      "text/html": [
       "<div>\n",
       "<style scoped>\n",
       "    .dataframe tbody tr th:only-of-type {\n",
       "        vertical-align: middle;\n",
       "    }\n",
       "\n",
       "    .dataframe tbody tr th {\n",
       "        vertical-align: top;\n",
       "    }\n",
       "\n",
       "    .dataframe thead th {\n",
       "        text-align: right;\n",
       "    }\n",
       "</style>\n",
       "<table border=\"1\" class=\"dataframe\">\n",
       "  <thead>\n",
       "    <tr style=\"text-align: right;\">\n",
       "      <th></th>\n",
       "      <th>id_user</th>\n",
       "      <th>years</th>\n",
       "    </tr>\n",
       "  </thead>\n",
       "  <tbody>\n",
       "  </tbody>\n",
       "</table>\n",
       "</div>"
      ],
      "text/plain": [
       "Empty DataFrame\n",
       "Columns: [id_user, years]\n",
       "Index: []"
      ]
     },
     "execution_count": 52,
     "metadata": {},
     "output_type": "execute_result"
    }
   ],
   "source": [
    "user_yelp[user_yelp['years']== '']"
   ]
  },
  {
   "cell_type": "markdown",
   "metadata": {},
   "source": [
    "Una vez analizado el dataframe \"user_yelp\" en búsqueda de datos faltantes, encontramos la cantidad de 0 de datos faltantes de un total 2,277,195 datos del dataframe.  Con lo cual concluimos que el 100% de los datos del dataframe NO son faltantes, teniendo una calidad buena de datos."
   ]
  },
  {
   "cell_type": "markdown",
   "metadata": {},
   "source": [
    "Uso de graficas para el analisis exploratorio."
   ]
  },
  {
   "cell_type": "markdown",
   "metadata": {},
   "source": [
    "*Top 5 por Estados Google.*"
   ]
  },
  {
   "cell_type": "code",
   "execution_count": 54,
   "metadata": {},
   "outputs": [
    {
     "data": {
      "image/png": "[encoded data removed]",
      "text/plain": [
       "<Figure size 1000x600 with 1 Axes>"
      ]
     },
     "metadata": {},
     "output_type": "display_data"
    }
   ],
   "source": [
    "top_5_states = restaurant['state'].value_counts()\n",
    "\n",
    "plt.figure(figsize=(10, 6))\n",
    "colors = ['blue', 'green', 'red', 'purple', 'orange']  \n",
    "top_5_states.plot(kind='barh', color=colors) \n",
    "plt.xlabel('Frecuencia')\n",
    "plt.ylabel('Estados')\n",
    "plt.title('Top 5 de Estados (Dataset Google)')\n",
    "plt.show()"
   ]
  },
  {
   "cell_type": "markdown",
   "metadata": {},
   "source": [
    "Ahora, procederemos a analizar el estado con el mayor número de negocios, con el fin de proponer lugares óptimo para realizar inversiones. Según la información proporcionada por el gráfico previo, se determina que el estado de Nueva York ocupa el primer lugar, seguido de cerca por el estado de California. Basándonos en este análisis, podemos delinear el espacio geográfico para futuras inversiones."
   ]
  },
  {
   "cell_type": "markdown",
   "metadata": {},
   "source": [
    "*Top por Estado Yelp*"
   ]
  },
  {
   "cell_type": "code",
   "execution_count": 99,
   "metadata": {},
   "outputs": [
    {
     "data": {
      "image/png": "[encoded data removed]",
      "text/plain": [
       "<Figure size 1000x600 with 1 Axes>"
      ]
     },
     "metadata": {},
     "output_type": "display_data"
    }
   ],
   "source": [
    "top_5_states = business['state'].value_counts().nlargest(5)\n",
    "\n",
    "plt.figure(figsize=(10, 6))\n",
    "colors = ['blue', 'green', 'red', 'purple', 'orange']\n",
    "top_5_states.plot(kind='barh', color=colors) \n",
    "plt.xlabel('Frecuencia')\n",
    "plt.ylabel('Estados')\n",
    "plt.title('Top 5 de Estados (Dataset Yelp)')\n",
    "plt.text(x=800, y=2.5, s=\"No hay información de establecimientos del estado de 'New York' en el Dataset de Yelp\",  bbox=dict(facecolor='red', alpha=0.5))\n",
    "plt.show()"
   ]
  },
  {
   "cell_type": "markdown",
   "metadata": {},
   "source": [
    "Después de examinar detenidamente el gráfico anterior, se evidencia que el estado de Pennsylvania ocupa el primer puesto, mientras que Nevada ocupa el quinto lugar. Esta observación sugiere que Pennsylvania alberga la mayor cantidad de establecimientos."
   ]
  },
  {
   "cell_type": "markdown",
   "metadata": {},
   "source": [
    "*Top 10 de ciudades en el estado de nueva york*"
   ]
  },
  {
   "cell_type": "code",
   "execution_count": 95,
   "metadata": {},
   "outputs": [
    {
     "data": {
      "image/png": "[encoded data removed]",
      "text/plain": [
       "<Figure size 1000x600 with 1 Axes>"
      ]
     },
     "metadata": {},
     "output_type": "display_data"
    }
   ],
   "source": [
    "new_york_cities = restaurant[restaurant['state'] == 'New_York']\n",
    "\n",
    "top_cities = new_york_cities['city'].value_counts().nlargest(10)\n",
    "\n",
    "plt.figure(figsize=(10, 6))\n",
    "colors = ['blue', 'green', 'red', 'purple', 'orange', 'yellow', 'LightBlue', 'magenta', 'brown', 'gray']\n",
    "top_cities.plot(kind='bar', color = colors)\n",
    "plt.xlabel('City')\n",
    "plt.ylabel('Frequency')\n",
    "plt.title(\"Top 10 de ciudades en el estado de 'New York' (Dataset Google)\")\n",
    "plt.xticks(rotation=45)  \n",
    "plt.show()"
   ]
  },
  {
   "cell_type": "markdown",
   "metadata": {},
   "source": [
    "Siguiendo la misma línea del gráfico previo en donde Nueva York se encuentra en el primer puesto, en el presente gráfico se exhibe el \"top 5\" de ciudades en el estado de Nueva York con el mayor número de negocios, con el propósito de identificar la ciudad más óptima dentro de todo el estado."
   ]
  },
  {
   "cell_type": "markdown",
   "metadata": {},
   "source": [
    "*Top 10 de ciudades en el Estado de Pennsylvania*"
   ]
  },
  {
   "cell_type": "code",
   "execution_count": 96,
   "metadata": {},
   "outputs": [
    {
     "data": {
      "image/png": "[encoded data removed]",
      "text/plain": [
       "<Figure size 1000x600 with 1 Axes>"
      ]
     },
     "metadata": {},
     "output_type": "display_data"
    }
   ],
   "source": [
    "df_pa = business[business['state'] == 'Pennsylvania']\n",
    "\n",
    "top_cities_pa = df_pa['city'].value_counts().head(10)\n",
    "\n",
    "df_top_cities_pa = df_pa[df_pa['city'].isin(top_cities_pa.index)]\n",
    "\n",
    "df_stars_5_pa = df_top_cities_pa[df_top_cities_pa['stars'] == 5.0]\n",
    "\n",
    "city_counts = df_stars_5_pa['city'].value_counts()\n",
    "\n",
    "plt.figure(figsize=(10, 6))\n",
    "city_counts.plot(kind='pie', autopct='%1.1f%%', colors=['lightgreen', 'orange', 'blue', 'lightskyblue', 'pink', 'green', 'red', 'purple', 'yellow', 'LightBlue'], startangle=140)\n",
    "plt.title(\"Top 10 de ciudades en el estado de 'Pennsylvania' con 5 estrellas (Dataset Yelp)\")\n",
    "plt.xlabel('Ciudad')\n",
    "plt.ylabel('Frecuencia')\n",
    "plt.xticks(rotation=45)\n",
    "plt.grid(axis='y', linestyle='--', alpha=0.7)\n",
    "plt.tight_layout()\n",
    "plt.show()"
   ]
  },
  {
   "cell_type": "markdown",
   "metadata": {},
   "source": [
    "Tras analizar el gráfico anterior, se desprende que dentro del territorio de Pennsylvania, la ciudad con el mayor número de establecimientos con calificación de 5 estrellas es Philadelphia. Esta observación nos lleva a concluir que Philadelphia alberga la mayor cantidad de establecimientos con la máxima calificación de 5 estrellas en comparación con otras ciudades dentro del estado."
   ]
  },
  {
   "cell_type": "markdown",
   "metadata": {},
   "source": [
    "*Top de ciudades en el estado de california*"
   ]
  },
  {
   "cell_type": "markdown",
   "metadata": {},
   "source": [
    "Este top de ciudades de california se realiza debido a que el Estado de California se ve reflejado en el top 5 de Estados en ambas bases de datos tanto de YELP como de Google, así que consideramos relevante su análisis."
   ]
  },
  {
   "cell_type": "code",
   "execution_count": 97,
   "metadata": {},
   "outputs": [
    {
     "data": {
      "image/png": "[encoded data removed]",
      "text/plain": [
       "<Figure size 1000x600 with 1 Axes>"
      ]
     },
     "metadata": {},
     "output_type": "display_data"
    }
   ],
   "source": [
    "California_cities = restaurant[restaurant['state'] == 'California']\n",
    "\n",
    "top_cities = California_cities['city'].value_counts().nlargest(10)\n",
    "\n",
    "plt.figure(figsize=(10, 6))\n",
    "colors = ['blue', 'green', 'red', 'purple', 'orange', 'yellow', 'LightBlue', 'magenta', 'brown', 'gray']\n",
    "top_cities.plot(kind='bar', color = colors)\n",
    "plt.xlabel('City')\n",
    "plt.ylabel('Frequency')\n",
    "plt.title(\"Top 10 de ciudades en el estado de 'California' (Dataset Google)\")\n",
    "plt.xticks(rotation=45)  \n",
    "plt.show()"
   ]
  },
  {
   "cell_type": "markdown",
   "metadata": {},
   "source": [
    "Debido a que el Estado de California se encuentra en el top 5 de ambas aplicaciones, investigamos el top 5 de las ciudades con mayor número de negocios en dicho Estado, para también tenerlo en consideración para futuras inversiones."
   ]
  },
  {
   "cell_type": "markdown",
   "metadata": {},
   "source": [
    "*Top de ciudades en el Estado de Florida*"
   ]
  },
  {
   "cell_type": "markdown",
   "metadata": {},
   "source": [
    "Este top de ciudades de Florida se realiza debido a que el Estado de California se ve reflejado en el top 5 de Estados en ambas bases de datos tanto de YELP como de Google, así que consideramos relevante su análisis."
   ]
  },
  {
   "cell_type": "code",
   "execution_count": 98,
   "metadata": {},
   "outputs": [
    {
     "data": {
      "image/png": "[encoded data removed]",
      "text/plain": [
       "<Figure size 1000x600 with 1 Axes>"
      ]
     },
     "metadata": {},
     "output_type": "display_data"
    }
   ],
   "source": [
    "florida_cities = restaurant[restaurant['state'] == 'Florida']\n",
    "\n",
    "top_cities = florida_cities['city'].value_counts().nlargest(10)\n",
    "\n",
    "plt.figure(figsize=(10, 6))\n",
    "colors = ['blue', 'green', 'red', 'purple', 'orange', 'yellow', 'LightBlue', 'magenta', 'brown', 'gray']\n",
    "top_cities.plot(kind='bar', color = colors)\n",
    "plt.xlabel('City')\n",
    "plt.ylabel('Frequency')\n",
    "plt.title(\"Top 10 de ciudades en el estado de 'Florida' (Dataset Google)\")\n",
    "plt.xticks(rotation=45)  \n",
    "plt.show()"
   ]
  },
  {
   "cell_type": "markdown",
   "metadata": {},
   "source": [
    "Debido a que el Estado de Florida se encuentra en el top 5 de ambas aplicaciones, investigamos el top 5 de las ciudades con mayor número de negocios en dicho Estado, para también tenerlo en consideración para futuras inversiones."
   ]
  },
  {
   "cell_type": "markdown",
   "metadata": {},
   "source": [
    "*Top de establecimiento con mayor numero de visitas*"
   ]
  },
  {
   "cell_type": "code",
   "execution_count": 101,
   "metadata": {},
   "outputs": [
    {
     "data": {
      "image/png": "[encoded data removed]",
      "text/plain": [
       "<Figure size 1000x600 with 1 Axes>"
      ]
     },
     "metadata": {},
     "output_type": "display_data"
    }
   ],
   "source": [
    "merged_df = pd.merge(business[['id_business', 'name']], reviews_yelp[['id_business']], on='id_business')\n",
    "\n",
    "top_names = merged_df['name'].value_counts().nlargest(10)\n",
    "\n",
    "plt.figure(figsize=(10, 6))\n",
    "top_names.plot(kind='bar', color='skyblue', edgecolor='black')\n",
    "plt.title('Top 10 de establecimientos con mayor numero de reviews')\n",
    "plt.xlabel('Nombre del establecimiento')\n",
    "plt.ylabel('Frecuencia de reseñas')\n",
    "plt.xticks(rotation=45)\n",
    "plt.grid(axis='y', linestyle='--', alpha=0.7)\n",
    "plt.tight_layout()\n",
    "plt.show()"
   ]
  },
  {
   "cell_type": "markdown",
   "metadata": {},
   "source": [
    "*Top por categoria en google.*"
   ]
  },
  {
   "cell_type": "code",
   "execution_count": 103,
   "metadata": {},
   "outputs": [
    {
     "data": {
      "image/png": "[encoded data removed]",
      "text/plain": [
       "<Figure size 1000x600 with 1 Axes>"
      ]
     },
     "metadata": {},
     "output_type": "display_data"
    }
   ],
   "source": [
    "top_10_categories = restaurant['category'].value_counts().nlargest(10)\n",
    "\n",
    "plt.figure(figsize=(10, 6))\n",
    "colors = ['blue', 'green', 'red', 'purple', 'orange', 'yellow', 'LightBlue', 'magenta', 'brown', 'gray']\n",
    "top_10_categories.plot(kind='bar', color=colors)\n",
    "plt.xlabel('Categorias')\n",
    "plt.ylabel('Frequencia')\n",
    "plt.title('Top 10 de categorias (Dataset Google)')\n",
    "plt.xticks(rotation=90) \n",
    "plt.show()"
   ]
  },
  {
   "cell_type": "markdown",
   "metadata": {},
   "source": [
    "Tras examinar la gráfica previamente presentada con la data proveniente de Google, se puede inferir que la categoría que exhibe una mayor recurrencia y, por consiguiente, la que atrae a un mayor número de clientes, es la de \"restaurante\". Por lo tanto, se recomienda considerar esta categoría como la principal opción al evaluar la viabilidad de realizar una inversión."
   ]
  },
  {
   "cell_type": "markdown",
   "metadata": {},
   "source": [
    "*Top por categoria en YELP.*"
   ]
  },
  {
   "cell_type": "code",
   "execution_count": 104,
   "metadata": {},
   "outputs": [
    {
     "data": {
      "image/png": "[encoded data removed]",
      "text/plain": [
       "<Figure size 1000x600 with 1 Axes>"
      ]
     },
     "metadata": {},
     "output_type": "display_data"
    }
   ],
   "source": [
    "category_counts = business['first_category'].value_counts().nlargest(10)\n",
    "\n",
    "plt.figure(figsize=(10, 6))\n",
    "colors = ['blue', 'green', 'red', 'purple', 'orange', 'yellow', 'LightBlue', 'magenta', 'brown', 'gray']\n",
    "category_counts.plot(kind='bar', color=colors)\n",
    "plt.title('Frecuencia de las primeras 10 categorías (Dataset Yelp)')\n",
    "plt.xlabel('Categorías')\n",
    "plt.ylabel('Frecuencia')\n",
    "plt.show()"
   ]
  },
  {
   "cell_type": "markdown",
   "metadata": {},
   "source": [
    "Después de examinar la gráfica previamente presentada con la data proveniente de YELP, se puede inferir que la categoría que exhibe una mayor recurrencia y, por consiguiente, la que atrae a un mayor número de clientes, es la de \"restaurants\". Por lo tanto, se recomienda considerar esta categoría como la principal opción al evaluar la viabilidad de realizar una inversión."
   ]
  },
  {
   "cell_type": "markdown",
   "metadata": {},
   "source": [
    "*Top de categorias con mejor calificación*"
   ]
  },
  {
   "cell_type": "code",
   "execution_count": 118,
   "metadata": {},
   "outputs": [
    {
     "data": {
      "image/png": "[encoded data removed]",
      "text/plain": [
       "<Figure size 1000x600 with 1 Axes>"
      ]
     },
     "metadata": {},
     "output_type": "display_data"
    }
   ],
   "source": [
    "top_10_categories = restaurant['category'].value_counts().nlargest(10).index\n",
    "\n",
    "top_categories_data = restaurant[restaurant['category'].isin(top_10_categories)]\n",
    "\n",
    "top_5_avg_ratings = top_categories_data['avg_rating'].value_counts().nlargest(5).index.sort_values(ascending=False)\n",
    "\n",
    "plt.figure(figsize=(10, 6))\n",
    "\n",
    "for avg_rating in top_5_avg_ratings:\n",
    "\n",
    "    category_counts = top_categories_data[top_categories_data['avg_rating'] == avg_rating]['category'].value_counts()\n",
    "    \n",
    "    if not category_counts.empty:\n",
    "        plt.bar(category_counts.index, category_counts, label=f'Avg Rating: {avg_rating}')\n",
    "\n",
    "plt.xlabel('Category')\n",
    "plt.ylabel('Frequency')\n",
    "plt.title('Top 5 de Ratings promedio para las 10 primeras categorias (Dataset Google)')\n",
    "plt.xticks(rotation=90)\n",
    "plt.legend()\n",
    "plt.tight_layout()\n",
    "plt.show()"
   ]
  },
  {
   "cell_type": "markdown",
   "metadata": {},
   "source": [
    "Este gráfico ilustra el promedio de calificaciones para cada categoría, lo que permite identificar las categorías que son predominantemente aceptadas y que reciben más reseñas positivas."
   ]
  },
  {
   "cell_type": "markdown",
   "metadata": {},
   "source": [
    "*Top 5 de restaurantes con mejor calificación*"
   ]
  },
  {
   "cell_type": "code",
   "execution_count": 119,
   "metadata": {},
   "outputs": [
    {
     "data": {
      "image/png": "[encoded data removed]",
      "text/plain": [
       "<Figure size 640x480 with 1 Axes>"
      ]
     },
     "metadata": {},
     "output_type": "display_data"
    }
   ],
   "source": [
    "restaurant['first_category'] = restaurant['category'].str.split(',').str[0]\n",
    "\n",
    "avg_rating_per_category = restaurant.groupby('first_category')['avg_rating'].mean().nlargest(5)\n",
    "\n",
    "avg_rating_per_category.plot(kind='pie', autopct='%1.1f%%')\n",
    "plt.title('Promedio de calificación por categoría  (Dataset Google)')\n",
    "plt.ylabel('')\n",
    "plt.show()"
   ]
  },
  {
   "cell_type": "markdown",
   "metadata": {},
   "source": [
    "El análisis del gráfico permite inferir que dentro del sector gastronómico, los cinco establecimientos con las calificaciones más altas han sido identificados. Este hallazgo proporciona información relevante para la toma de decisiones en relación a posibles inversiones dentro del ámbito gastronómico."
   ]
  }
 ],
 "metadata": {
  "kernelspec": {
   "display_name": "Python 3",
   "language": "python",
   "name": "python3"
  },
  "language_info": {
   "codemirror_mode": {
    "name": "ipython",
    "version": 3
   },
   "file_extension": ".py",
   "mimetype": "text/x-python",
   "name": "python",
   "nbconvert_exporter": "python",
   "pygments_lexer": "ipython3",
   "version": "3.11.9"
  }
 },
 "nbformat": 4,
 "nbformat_minor": 2
}
