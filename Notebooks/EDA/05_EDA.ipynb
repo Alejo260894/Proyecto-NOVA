{
 "cells": [
  {
   "cell_type": "code",
   "execution_count": 1,
   "metadata": {},
   "outputs": [],
   "source": [
    "import pandas as pd \n",
    "import matplotlib.pyplot as plt\n",
    "import os\n",
    "pd.set_option('display.max_columns', None)\n",
    "pd.set_option('display.max_colwidth', 1000)"
   ]
  },
  {
   "cell_type": "markdown",
   "metadata": {},
   "source": [
    "**Archivos de entrada**"
   ]
  },
  {
   "cell_type": "code",
   "execution_count": 2,
   "metadata": {},
   "outputs": [],
   "source": [
    "Ruta_data_procesada = '../../Data/data_procesada'\n",
    "Ruta_data_procesada_full = r'C:\\Users\\jalvarez\\OneDrive\\Estudios\\Programacion\\Soy Henry Datos e IA\\Dataft21\\PG\\Data\\data_procesada' # Donde estan todos los datasets no importa su peso por la limitante de GitHub. Si solo se tiene una única carpera 'Ruta_data_procesada' donde está todo pues colocar en ambas variables la misma ruta"
   ]
  },
  {
   "cell_type": "markdown",
   "metadata": {},
   "source": [
    "**Archivos de google.**"
   ]
  },
  {
   "cell_type": "code",
   "execution_count": 3,
   "metadata": {},
   "outputs": [],
   "source": [
    "reviews = pd.read_parquet(os.path.join(Ruta_data_procesada_full, \"reviews_google_maps.parquet\"))\n",
    "user = pd.read_parquet(os.path.join(Ruta_data_procesada, \"users_google_maps.parquet\"))\n",
    "restaurant = pd.read_parquet(os.path.join(Ruta_data_procesada, \"restaurantes.parquet\"))\n",
    "categorias_dummies = pd.read_parquet(os.path.join(Ruta_data_procesada, \"dummies_restaurantes.parquet\"))"
   ]
  },
  {
   "cell_type": "markdown",
   "metadata": {},
   "source": [
    "*Realizamos una visualización de los dataframes que tenemos para verificar que tipo de datos tenemos y la cantidad de los mismos.*"
   ]
  },
  {
   "cell_type": "code",
   "execution_count": 6,
   "metadata": {},
   "outputs": [
    {
     "data": {
      "text/html": [
       "<div>\n",
       "<style scoped>\n",
       "    .dataframe tbody tr th:only-of-type {\n",
       "        vertical-align: middle;\n",
       "    }\n",
       "\n",
       "    .dataframe tbody tr th {\n",
       "        vertical-align: top;\n",
       "    }\n",
       "\n",
       "    .dataframe thead th {\n",
       "        text-align: right;\n",
       "    }\n",
       "</style>\n",
       "<table border=\"1\" class=\"dataframe\">\n",
       "  <thead>\n",
       "    <tr style=\"text-align: right;\">\n",
       "      <th></th>\n",
       "      <th>name</th>\n",
       "      <th>address</th>\n",
       "      <th>state</th>\n",
       "      <th>city</th>\n",
       "      <th>postal_code</th>\n",
       "      <th>latitude</th>\n",
       "      <th>longitude</th>\n",
       "      <th>avg_rating</th>\n",
       "      <th>num_of_reviews</th>\n",
       "      <th>price_numeric</th>\n",
       "      <th>gmap_id</th>\n",
       "      <th>category</th>\n",
       "    </tr>\n",
       "  </thead>\n",
       "  <tbody>\n",
       "    <tr>\n",
       "      <th>0</th>\n",
       "      <td>San Soo Dang</td>\n",
       "      <td>San Soo Dang, 761 S Vermont Ave, Los Angeles, ...</td>\n",
       "      <td>California</td>\n",
       "      <td>Los Angeles</td>\n",
       "      <td>90005</td>\n",
       "      <td>34.058092</td>\n",
       "      <td>-118.292130</td>\n",
       "      <td>4.4</td>\n",
       "      <td>18</td>\n",
       "      <td>0</td>\n",
       "      <td>0x80c2c778e3b73d33:0xbdc58662a4a97d49</td>\n",
       "      <td>Korean restaurant</td>\n",
       "    </tr>\n",
       "    <tr>\n",
       "      <th>1</th>\n",
       "      <td>Vons Chicken</td>\n",
       "      <td>Vons Chicken, 12740 La Mirada Blvd, La Mirada,...</td>\n",
       "      <td>California</td>\n",
       "      <td>La Mirada</td>\n",
       "      <td>90638</td>\n",
       "      <td>33.916402</td>\n",
       "      <td>-118.010855</td>\n",
       "      <td>4.5</td>\n",
       "      <td>18</td>\n",
       "      <td>0</td>\n",
       "      <td>0x80dd2b4c8555edb7:0xfc33d65c4bdbef42</td>\n",
       "      <td>Restaurant</td>\n",
       "    </tr>\n",
       "  </tbody>\n",
       "</table>\n",
       "</div>"
      ],
      "text/plain": [
       "           name                                            address  \\\n",
       "0  San Soo Dang  San Soo Dang, 761 S Vermont Ave, Los Angeles, ...   \n",
       "1  Vons Chicken  Vons Chicken, 12740 La Mirada Blvd, La Mirada,...   \n",
       "\n",
       "        state         city  postal_code   latitude   longitude  avg_rating  \\\n",
       "0  California  Los Angeles        90005  34.058092 -118.292130         4.4   \n",
       "1  California    La Mirada        90638  33.916402 -118.010855         4.5   \n",
       "\n",
       "   num_of_reviews  price_numeric                                gmap_id  \\\n",
       "0              18              0  0x80c2c778e3b73d33:0xbdc58662a4a97d49   \n",
       "1              18              0  0x80dd2b4c8555edb7:0xfc33d65c4bdbef42   \n",
       "\n",
       "            category  \n",
       "0  Korean restaurant  \n",
       "1         Restaurant  "
      ]
     },
     "execution_count": 6,
     "metadata": {},
     "output_type": "execute_result"
    }
   ],
   "source": [
    "restaurant.head(2)"
   ]
  },
  {
   "cell_type": "code",
   "execution_count": 7,
   "metadata": {},
   "outputs": [
    {
     "name": "stdout",
     "output_type": "stream",
     "text": [
      "<class 'pandas.core.frame.DataFrame'>\n",
      "Index: 33356 entries, 0 to 33625\n",
      "Data columns (total 12 columns):\n",
      " #   Column          Non-Null Count  Dtype  \n",
      "---  ------          --------------  -----  \n",
      " 0   name            33356 non-null  object \n",
      " 1   address         33356 non-null  object \n",
      " 2   state           33356 non-null  object \n",
      " 3   city            33356 non-null  object \n",
      " 4   postal_code     33356 non-null  int32  \n",
      " 5   latitude        33356 non-null  float64\n",
      " 6   longitude       33356 non-null  float64\n",
      " 7   avg_rating      33356 non-null  float64\n",
      " 8   num_of_reviews  33356 non-null  int64  \n",
      " 9   price_numeric   33356 non-null  int32  \n",
      " 10  gmap_id         33356 non-null  object \n",
      " 11  category        33356 non-null  object \n",
      "dtypes: float64(3), int32(2), int64(1), object(6)\n",
      "memory usage: 3.1+ MB\n"
     ]
    }
   ],
   "source": [
    "restaurant.info()"
   ]
  },
  {
   "cell_type": "code",
   "execution_count": 8,
   "metadata": {},
   "outputs": [
    {
     "data": {
      "text/html": [
       "<div>\n",
       "<style scoped>\n",
       "    .dataframe tbody tr th:only-of-type {\n",
       "        vertical-align: middle;\n",
       "    }\n",
       "\n",
       "    .dataframe tbody tr th {\n",
       "        vertical-align: top;\n",
       "    }\n",
       "\n",
       "    .dataframe thead th {\n",
       "        text-align: right;\n",
       "    }\n",
       "</style>\n",
       "<table border=\"1\" class=\"dataframe\">\n",
       "  <thead>\n",
       "    <tr style=\"text-align: right;\">\n",
       "      <th></th>\n",
       "      <th>user_id</th>\n",
       "      <th>user_name</th>\n",
       "      <th>year</th>\n",
       "      <th>month</th>\n",
       "      <th>day</th>\n",
       "      <th>hour</th>\n",
       "      <th>rating</th>\n",
       "      <th>text</th>\n",
       "      <th>restaurant_name</th>\n",
       "      <th>state</th>\n",
       "      <th>city</th>\n",
       "      <th>gmap_id</th>\n",
       "    </tr>\n",
       "  </thead>\n",
       "  <tbody>\n",
       "    <tr>\n",
       "      <th>0</th>\n",
       "      <td>108991152262655788985</td>\n",
       "      <td>Song Ro</td>\n",
       "      <td>2021</td>\n",
       "      <td>1</td>\n",
       "      <td>6</td>\n",
       "      <td>05:12:07.056</td>\n",
       "      <td>5</td>\n",
       "      <td>Love there korean rice cake.</td>\n",
       "      <td>San Soo Dang</td>\n",
       "      <td>California</td>\n",
       "      <td>Los Angeles</td>\n",
       "      <td>0x80c2c778e3b73d33:0xbdc58662a4a97d49</td>\n",
       "    </tr>\n",
       "    <tr>\n",
       "      <th>1</th>\n",
       "      <td>111290322219796215751</td>\n",
       "      <td>Rafa Robles</td>\n",
       "      <td>2021</td>\n",
       "      <td>2</td>\n",
       "      <td>9</td>\n",
       "      <td>05:47:28.663</td>\n",
       "      <td>5</td>\n",
       "      <td>Good very good</td>\n",
       "      <td>San Soo Dang</td>\n",
       "      <td>California</td>\n",
       "      <td>Los Angeles</td>\n",
       "      <td>0x80c2c778e3b73d33:0xbdc58662a4a97d49</td>\n",
       "    </tr>\n",
       "  </tbody>\n",
       "</table>\n",
       "</div>"
      ],
      "text/plain": [
       "                 user_id    user_name  year  month  day          hour  rating  \\\n",
       "0  108991152262655788985      Song Ro  2021      1    6  05:12:07.056       5   \n",
       "1  111290322219796215751  Rafa Robles  2021      2    9  05:47:28.663       5   \n",
       "\n",
       "                           text restaurant_name       state         city  \\\n",
       "0  Love there korean rice cake.    San Soo Dang  California  Los Angeles   \n",
       "1                Good very good    San Soo Dang  California  Los Angeles   \n",
       "\n",
       "                                 gmap_id  \n",
       "0  0x80c2c778e3b73d33:0xbdc58662a4a97d49  \n",
       "1  0x80c2c778e3b73d33:0xbdc58662a4a97d49  "
      ]
     },
     "execution_count": 8,
     "metadata": {},
     "output_type": "execute_result"
    }
   ],
   "source": [
    "reviews.head(2)"
   ]
  },
  {
   "cell_type": "code",
   "execution_count": 9,
   "metadata": {},
   "outputs": [
    {
     "name": "stdout",
     "output_type": "stream",
     "text": [
      "<class 'pandas.core.frame.DataFrame'>\n",
      "RangeIndex: 2463497 entries, 0 to 2463496\n",
      "Data columns (total 12 columns):\n",
      " #   Column           Dtype \n",
      "---  ------           ----- \n",
      " 0   user_id          object\n",
      " 1   user_name        object\n",
      " 2   year             int32 \n",
      " 3   month            int32 \n",
      " 4   day              int32 \n",
      " 5   hour             object\n",
      " 6   rating           int64 \n",
      " 7   text             object\n",
      " 8   restaurant_name  object\n",
      " 9   state            object\n",
      " 10  city             object\n",
      " 11  gmap_id          object\n",
      "dtypes: int32(3), int64(1), object(8)\n",
      "memory usage: 197.3+ MB\n"
     ]
    }
   ],
   "source": [
    "reviews.info()"
   ]
  },
  {
   "cell_type": "code",
   "execution_count": 10,
   "metadata": {},
   "outputs": [
    {
     "data": {
      "text/html": [
       "<div>\n",
       "<style scoped>\n",
       "    .dataframe tbody tr th:only-of-type {\n",
       "        vertical-align: middle;\n",
       "    }\n",
       "\n",
       "    .dataframe tbody tr th {\n",
       "        vertical-align: top;\n",
       "    }\n",
       "\n",
       "    .dataframe thead th {\n",
       "        text-align: right;\n",
       "    }\n",
       "</style>\n",
       "<table border=\"1\" class=\"dataframe\">\n",
       "  <thead>\n",
       "    <tr style=\"text-align: right;\">\n",
       "      <th></th>\n",
       "      <th>user_id</th>\n",
       "      <th>user_name</th>\n",
       "      <th>review_count</th>\n",
       "      <th>average_rating</th>\n",
       "    </tr>\n",
       "  </thead>\n",
       "  <tbody>\n",
       "    <tr>\n",
       "      <th>0</th>\n",
       "      <td>104819208193648646391</td>\n",
       "      <td>Gregor J. Rothfuss</td>\n",
       "      <td>103</td>\n",
       "      <td>3.941748</td>\n",
       "    </tr>\n",
       "    <tr>\n",
       "      <th>1</th>\n",
       "      <td>106654503918907830147</td>\n",
       "      <td>The Corcoran Group</td>\n",
       "      <td>94</td>\n",
       "      <td>4.042553</td>\n",
       "    </tr>\n",
       "  </tbody>\n",
       "</table>\n",
       "</div>"
      ],
      "text/plain": [
       "                 user_id           user_name  review_count  average_rating\n",
       "0  104819208193648646391  Gregor J. Rothfuss           103        3.941748\n",
       "1  106654503918907830147  The Corcoran Group            94        4.042553"
      ]
     },
     "execution_count": 10,
     "metadata": {},
     "output_type": "execute_result"
    }
   ],
   "source": [
    "user.head(2)"
   ]
  },
  {
   "cell_type": "code",
   "execution_count": 11,
   "metadata": {},
   "outputs": [
    {
     "name": "stdout",
     "output_type": "stream",
     "text": [
      "<class 'pandas.core.frame.DataFrame'>\n",
      "RangeIndex: 1569049 entries, 0 to 1569048\n",
      "Data columns (total 4 columns):\n",
      " #   Column          Non-Null Count    Dtype  \n",
      "---  ------          --------------    -----  \n",
      " 0   user_id         1569049 non-null  object \n",
      " 1   user_name       1569049 non-null  object \n",
      " 2   review_count    1569049 non-null  int64  \n",
      " 3   average_rating  1569049 non-null  float64\n",
      "dtypes: float64(1), int64(1), object(2)\n",
      "memory usage: 47.9+ MB\n"
     ]
    }
   ],
   "source": [
    "user.info()"
   ]
  },
  {
   "cell_type": "markdown",
   "metadata": {},
   "source": [
    "**Archivos YELP**"
   ]
  },
  {
   "cell_type": "code",
   "execution_count": 4,
   "metadata": {},
   "outputs": [],
   "source": [
    "# Demora 5-6 min aprox\n",
    "business = pd.read_parquet(os.path.join(Ruta_data_procesada_full, \"Dataset_Business_extendido.parquet\"))\n",
    "checkin = pd.read_parquet(os.path.join(Ruta_data_procesada_full, \"Dataset_Checkin.parquet\"))\n",
    "reviews_yelp = pd.read_parquet(os.path.join(Ruta_data_procesada_full, \"Dataset_Review_extendido.parquet\"))\n",
    "tip = pd.read_parquet(os.path.join(Ruta_data_procesada, \"Dataset_Tip.parquet\"))\n",
    "user_yelp = pd.read_parquet(os.path.join(Ruta_data_procesada, \"Dataset_User_Elite.parquet\"))"
   ]
  },
  {
   "cell_type": "markdown",
   "metadata": {},
   "source": [
    "*Realizamos una visualización de los dataframes que tenemos para verificar que tipo de datos tenemos y la cantidad de los mismos.*"
   ]
  },
  {
   "cell_type": "code",
   "execution_count": 13,
   "metadata": {},
   "outputs": [
    {
     "data": {
      "text/html": [
       "<div>\n",
       "<style scoped>\n",
       "    .dataframe tbody tr th:only-of-type {\n",
       "        vertical-align: middle;\n",
       "    }\n",
       "\n",
       "    .dataframe tbody tr th {\n",
       "        vertical-align: top;\n",
       "    }\n",
       "\n",
       "    .dataframe thead th {\n",
       "        text-align: right;\n",
       "    }\n",
       "</style>\n",
       "<table border=\"1\" class=\"dataframe\">\n",
       "  <thead>\n",
       "    <tr style=\"text-align: right;\">\n",
       "      <th></th>\n",
       "      <th>id_business</th>\n",
       "      <th>name</th>\n",
       "      <th>city</th>\n",
       "      <th>state</th>\n",
       "      <th>postal_code</th>\n",
       "      <th>latitude</th>\n",
       "      <th>longitude</th>\n",
       "      <th>stars</th>\n",
       "      <th>review_count</th>\n",
       "      <th>categories</th>\n",
       "      <th>hours_Dataset_Business</th>\n",
       "      <th>first_category</th>\n",
       "      <th>Descripcion_BusinessAtributos</th>\n",
       "      <th>Descripcion_BusinessCategorias</th>\n",
       "      <th>date</th>\n",
       "      <th>compliment_count</th>\n",
       "    </tr>\n",
       "  </thead>\n",
       "  <tbody>\n",
       "    <tr>\n",
       "      <th>0</th>\n",
       "      <td>0</td>\n",
       "      <td>Abby Rappoport, LAC, CMQ</td>\n",
       "      <td>Santa Barbara</td>\n",
       "      <td>California</td>\n",
       "      <td>93101</td>\n",
       "      <td>34.426679</td>\n",
       "      <td>-119.711197</td>\n",
       "      <td>5.0</td>\n",
       "      <td>7</td>\n",
       "      <td>Doctors, Traditional Chinese Medicine, Naturop...</td>\n",
       "      <td>{'Friday': '9:0-20:0', 'Monday': '9:0-20:0', '...</td>\n",
       "      <td>Doctors</td>\n",
       "      <td>ByAppointmentOnly</td>\n",
       "      <td>Doctors</td>\n",
       "      <td>None</td>\n",
       "      <td>NaN</td>\n",
       "    </tr>\n",
       "    <tr>\n",
       "      <th>1</th>\n",
       "      <td>0</td>\n",
       "      <td>Abby Rappoport, LAC, CMQ</td>\n",
       "      <td>Santa Barbara</td>\n",
       "      <td>California</td>\n",
       "      <td>93101</td>\n",
       "      <td>34.426679</td>\n",
       "      <td>-119.711197</td>\n",
       "      <td>5.0</td>\n",
       "      <td>7</td>\n",
       "      <td>Doctors, Traditional Chinese Medicine, Naturop...</td>\n",
       "      <td>{'Friday': '9:0-20:0', 'Monday': '9:0-20:0', '...</td>\n",
       "      <td>Doctors</td>\n",
       "      <td>ByAppointmentOnly</td>\n",
       "      <td>Traditional Chinese Medicine</td>\n",
       "      <td>None</td>\n",
       "      <td>NaN</td>\n",
       "    </tr>\n",
       "  </tbody>\n",
       "</table>\n",
       "</div>"
      ],
      "text/plain": [
       "   id_business                      name           city       state  \\\n",
       "0            0  Abby Rappoport, LAC, CMQ  Santa Barbara  California   \n",
       "1            0  Abby Rappoport, LAC, CMQ  Santa Barbara  California   \n",
       "\n",
       "   postal_code   latitude   longitude  stars  review_count  \\\n",
       "0        93101  34.426679 -119.711197    5.0             7   \n",
       "1        93101  34.426679 -119.711197    5.0             7   \n",
       "\n",
       "                                          categories  \\\n",
       "0  Doctors, Traditional Chinese Medicine, Naturop...   \n",
       "1  Doctors, Traditional Chinese Medicine, Naturop...   \n",
       "\n",
       "                              hours_Dataset_Business first_category  \\\n",
       "0  {'Friday': '9:0-20:0', 'Monday': '9:0-20:0', '...        Doctors   \n",
       "1  {'Friday': '9:0-20:0', 'Monday': '9:0-20:0', '...        Doctors   \n",
       "\n",
       "  Descripcion_BusinessAtributos Descripcion_BusinessCategorias  date  \\\n",
       "0             ByAppointmentOnly                        Doctors  None   \n",
       "1             ByAppointmentOnly   Traditional Chinese Medicine  None   \n",
       "\n",
       "   compliment_count  \n",
       "0               NaN  \n",
       "1               NaN  "
      ]
     },
     "execution_count": 13,
     "metadata": {},
     "output_type": "execute_result"
    }
   ],
   "source": [
    "business.head(2)"
   ]
  },
  {
   "cell_type": "code",
   "execution_count": 14,
   "metadata": {},
   "outputs": [
    {
     "name": "stdout",
     "output_type": "stream",
     "text": [
      "<class 'pandas.core.frame.DataFrame'>\n",
      "RangeIndex: 61365592 entries, 0 to 61365591\n",
      "Data columns (total 16 columns):\n",
      " #   Column                          Dtype  \n",
      "---  ------                          -----  \n",
      " 0   id_business                     int64  \n",
      " 1   name                            object \n",
      " 2   city                            object \n",
      " 3   state                           object \n",
      " 4   postal_code                     int64  \n",
      " 5   latitude                        float64\n",
      " 6   longitude                       float64\n",
      " 7   stars                           float64\n",
      " 8   review_count                    int64  \n",
      " 9   categories                      object \n",
      " 10  hours_Dataset_Business          object \n",
      " 11  first_category                  object \n",
      " 12  Descripcion_BusinessAtributos   object \n",
      " 13  Descripcion_BusinessCategorias  object \n",
      " 14  date                            object \n",
      " 15  compliment_count                float64\n",
      "dtypes: float64(4), int64(3), object(9)\n",
      "memory usage: 7.3+ GB\n"
     ]
    }
   ],
   "source": [
    "business.info()"
   ]
  },
  {
   "cell_type": "code",
   "execution_count": 15,
   "metadata": {},
   "outputs": [
    {
     "data": {
      "text/html": [
       "<div>\n",
       "<style scoped>\n",
       "    .dataframe tbody tr th:only-of-type {\n",
       "        vertical-align: middle;\n",
       "    }\n",
       "\n",
       "    .dataframe tbody tr th {\n",
       "        vertical-align: top;\n",
       "    }\n",
       "\n",
       "    .dataframe thead th {\n",
       "        text-align: right;\n",
       "    }\n",
       "</style>\n",
       "<table border=\"1\" class=\"dataframe\">\n",
       "  <thead>\n",
       "    <tr style=\"text-align: right;\">\n",
       "      <th></th>\n",
       "      <th>business_id</th>\n",
       "      <th>hour</th>\n",
       "      <th>date</th>\n",
       "      <th>year</th>\n",
       "      <th>month</th>\n",
       "    </tr>\n",
       "  </thead>\n",
       "  <tbody>\n",
       "    <tr>\n",
       "      <th>0</th>\n",
       "      <td>---kPU91CF4Lq2-WlRu9Lw</td>\n",
       "      <td>21:10:56</td>\n",
       "      <td>2020-03-13</td>\n",
       "      <td>2020</td>\n",
       "      <td>3</td>\n",
       "    </tr>\n",
       "    <tr>\n",
       "      <th>1</th>\n",
       "      <td>---kPU91CF4Lq2-WlRu9Lw</td>\n",
       "      <td>22:18:06</td>\n",
       "      <td>2020-06-02</td>\n",
       "      <td>2020</td>\n",
       "      <td>6</td>\n",
       "    </tr>\n",
       "  </tbody>\n",
       "</table>\n",
       "</div>"
      ],
      "text/plain": [
       "              business_id      hour       date  year  month\n",
       "0  ---kPU91CF4Lq2-WlRu9Lw  21:10:56 2020-03-13  2020      3\n",
       "1  ---kPU91CF4Lq2-WlRu9Lw  22:18:06 2020-06-02  2020      6"
      ]
     },
     "execution_count": 15,
     "metadata": {},
     "output_type": "execute_result"
    }
   ],
   "source": [
    "checkin.head(2)"
   ]
  },
  {
   "cell_type": "code",
   "execution_count": 16,
   "metadata": {},
   "outputs": [
    {
     "name": "stdout",
     "output_type": "stream",
     "text": [
      "<class 'pandas.core.frame.DataFrame'>\n",
      "Index: 13353332 entries, 0 to 13356874\n",
      "Data columns (total 5 columns):\n",
      " #   Column       Dtype         \n",
      "---  ------       -----         \n",
      " 0   business_id  object        \n",
      " 1   hour         object        \n",
      " 2   date         datetime64[ns]\n",
      " 3   year         int32         \n",
      " 4   month        int32         \n",
      "dtypes: datetime64[ns](1), int32(2), object(2)\n",
      "memory usage: 509.4+ MB\n"
     ]
    }
   ],
   "source": [
    "checkin.info()"
   ]
  },
  {
   "cell_type": "code",
   "execution_count": 17,
   "metadata": {},
   "outputs": [
    {
     "data": {
      "text/html": [
       "<div>\n",
       "<style scoped>\n",
       "    .dataframe tbody tr th:only-of-type {\n",
       "        vertical-align: middle;\n",
       "    }\n",
       "\n",
       "    .dataframe tbody tr th {\n",
       "        vertical-align: top;\n",
       "    }\n",
       "\n",
       "    .dataframe thead th {\n",
       "        text-align: right;\n",
       "    }\n",
       "</style>\n",
       "<table border=\"1\" class=\"dataframe\">\n",
       "  <thead>\n",
       "    <tr style=\"text-align: right;\">\n",
       "      <th></th>\n",
       "      <th>user_id</th>\n",
       "      <th>stars_Dataset_Review</th>\n",
       "      <th>useful</th>\n",
       "      <th>funny</th>\n",
       "      <th>cool</th>\n",
       "      <th>text</th>\n",
       "      <th>id_review</th>\n",
       "      <th>id_user</th>\n",
       "      <th>id_business</th>\n",
       "      <th>anho</th>\n",
       "      <th>...</th>\n",
       "      <th>postal_code</th>\n",
       "      <th>latitude</th>\n",
       "      <th>longitude</th>\n",
       "      <th>stars_Dataset_Business</th>\n",
       "      <th>review_count</th>\n",
       "      <th>is_open</th>\n",
       "      <th>attributes</th>\n",
       "      <th>categories</th>\n",
       "      <th>hours</th>\n",
       "      <th>yelp_id</th>\n",
       "    </tr>\n",
       "  </thead>\n",
       "  <tbody>\n",
       "    <tr>\n",
       "      <th>0</th>\n",
       "      <td>mh_-eMZ6K5RLWhZyISBhwA</td>\n",
       "      <td>3.0</td>\n",
       "      <td>0</td>\n",
       "      <td>0</td>\n",
       "      <td>0</td>\n",
       "      <td>If you decide to eat here, just be aware it is...</td>\n",
       "      <td>0</td>\n",
       "      <td>124234</td>\n",
       "      <td>1867</td>\n",
       "      <td>2018</td>\n",
       "      <td>...</td>\n",
       "      <td>19454</td>\n",
       "      <td>40.210196</td>\n",
       "      <td>-75.223639</td>\n",
       "      <td>3.0</td>\n",
       "      <td>169</td>\n",
       "      <td>1</td>\n",
       "      <td>{'AcceptsInsurance': None, 'AgesAllowed': None...</td>\n",
       "      <td>Restaurants, Breakfast &amp; Brunch, Food, Juice B...</td>\n",
       "      <td>{'Friday': '7:30-15:0', 'Monday': '7:30-15:0',...</td>\n",
       "      <td>mh_-eMZ6K5RLWhZyISBhwA</td>\n",
       "    </tr>\n",
       "    <tr>\n",
       "      <th>1</th>\n",
       "      <td>OyoGAe7OKpv6SyGZT5g77Q</td>\n",
       "      <td>5.0</td>\n",
       "      <td>1</td>\n",
       "      <td>0</td>\n",
       "      <td>1</td>\n",
       "      <td>I've taken a lot of spin classes over the year...</td>\n",
       "      <td>1</td>\n",
       "      <td>51327</td>\n",
       "      <td>12886</td>\n",
       "      <td>2012</td>\n",
       "      <td>...</td>\n",
       "      <td>19119</td>\n",
       "      <td>39.952103</td>\n",
       "      <td>-75.172753</td>\n",
       "      <td>5.0</td>\n",
       "      <td>144</td>\n",
       "      <td>0</td>\n",
       "      <td>{'AcceptsInsurance': None, 'AgesAllowed': None...</td>\n",
       "      <td>Active Life, Cycling Classes, Trainers, Gyms, ...</td>\n",
       "      <td>{'Friday': '6:0-19:30', 'Monday': '6:30-20:30'...</td>\n",
       "      <td>OyoGAe7OKpv6SyGZT5g77Q</td>\n",
       "    </tr>\n",
       "  </tbody>\n",
       "</table>\n",
       "<p>2 rows × 27 columns</p>\n",
       "</div>"
      ],
      "text/plain": [
       "                  user_id  stars_Dataset_Review  useful  funny  cool  \\\n",
       "0  mh_-eMZ6K5RLWhZyISBhwA                   3.0       0      0     0   \n",
       "1  OyoGAe7OKpv6SyGZT5g77Q                   5.0       1      0     1   \n",
       "\n",
       "                                                text  id_review  id_user  \\\n",
       "0  If you decide to eat here, just be aware it is...          0   124234   \n",
       "1  I've taken a lot of spin classes over the year...          1    51327   \n",
       "\n",
       "   id_business  anho  ... postal_code   latitude  longitude  \\\n",
       "0         1867  2018  ...       19454  40.210196 -75.223639   \n",
       "1        12886  2012  ...       19119  39.952103 -75.172753   \n",
       "\n",
       "  stars_Dataset_Business review_count is_open  \\\n",
       "0                    3.0          169       1   \n",
       "1                    5.0          144       0   \n",
       "\n",
       "                                          attributes  \\\n",
       "0  {'AcceptsInsurance': None, 'AgesAllowed': None...   \n",
       "1  {'AcceptsInsurance': None, 'AgesAllowed': None...   \n",
       "\n",
       "                                          categories  \\\n",
       "0  Restaurants, Breakfast & Brunch, Food, Juice B...   \n",
       "1  Active Life, Cycling Classes, Trainers, Gyms, ...   \n",
       "\n",
       "                                               hours                 yelp_id  \n",
       "0  {'Friday': '7:30-15:0', 'Monday': '7:30-15:0',...  mh_-eMZ6K5RLWhZyISBhwA  \n",
       "1  {'Friday': '6:0-19:30', 'Monday': '6:30-20:30'...  OyoGAe7OKpv6SyGZT5g77Q  \n",
       "\n",
       "[2 rows x 27 columns]"
      ]
     },
     "execution_count": 17,
     "metadata": {},
     "output_type": "execute_result"
    }
   ],
   "source": [
    "reviews_yelp.head(2)"
   ]
  },
  {
   "cell_type": "code",
   "execution_count": 18,
   "metadata": {},
   "outputs": [
    {
     "name": "stdout",
     "output_type": "stream",
     "text": [
      "<class 'pandas.core.frame.DataFrame'>\n",
      "RangeIndex: 3775931 entries, 0 to 3775930\n",
      "Data columns (total 27 columns):\n",
      " #   Column                  Dtype  \n",
      "---  ------                  -----  \n",
      " 0   user_id                 object \n",
      " 1   stars_Dataset_Review    float64\n",
      " 2   useful                  int64  \n",
      " 3   funny                   int64  \n",
      " 4   cool                    int64  \n",
      " 5   text                    object \n",
      " 6   id_review               int64  \n",
      " 7   id_user                 int64  \n",
      " 8   id_business             int64  \n",
      " 9   anho                    object \n",
      " 10  mes                     object \n",
      " 11  dia                     object \n",
      " 12  hora                    object \n",
      " 13  name                    object \n",
      " 14  address                 object \n",
      " 15  city                    object \n",
      " 16  state                   object \n",
      " 17  postal_code             int64  \n",
      " 18  latitude                float64\n",
      " 19  longitude               float64\n",
      " 20  stars_Dataset_Business  float64\n",
      " 21  review_count            int64  \n",
      " 22  is_open                 int64  \n",
      " 23  attributes              object \n",
      " 24  categories              object \n",
      " 25  hours                   object \n",
      " 26  yelp_id                 object \n",
      "dtypes: float64(4), int64(9), object(14)\n",
      "memory usage: 777.8+ MB\n"
     ]
    }
   ],
   "source": [
    "reviews_yelp.info()"
   ]
  },
  {
   "cell_type": "code",
   "execution_count": 19,
   "metadata": {},
   "outputs": [
    {
     "data": {
      "text/html": [
       "<div>\n",
       "<style scoped>\n",
       "    .dataframe tbody tr th:only-of-type {\n",
       "        vertical-align: middle;\n",
       "    }\n",
       "\n",
       "    .dataframe tbody tr th {\n",
       "        vertical-align: top;\n",
       "    }\n",
       "\n",
       "    .dataframe thead th {\n",
       "        text-align: right;\n",
       "    }\n",
       "</style>\n",
       "<table border=\"1\" class=\"dataframe\">\n",
       "  <thead>\n",
       "    <tr style=\"text-align: right;\">\n",
       "      <th></th>\n",
       "      <th>id_user</th>\n",
       "      <th>id_business</th>\n",
       "      <th>text</th>\n",
       "      <th>date</th>\n",
       "      <th>compliment_count</th>\n",
       "    </tr>\n",
       "  </thead>\n",
       "  <tbody>\n",
       "    <tr>\n",
       "      <th>0</th>\n",
       "      <td>66477</td>\n",
       "      <td>140105</td>\n",
       "      <td>They have lots of good deserts and tasty cuban...</td>\n",
       "      <td>2013-02-05 18:35:10</td>\n",
       "      <td>0</td>\n",
       "    </tr>\n",
       "    <tr>\n",
       "      <th>1</th>\n",
       "      <td>49975</td>\n",
       "      <td>865</td>\n",
       "      <td>It's open even when you think it isn't</td>\n",
       "      <td>2013-08-18 00:56:08</td>\n",
       "      <td>0</td>\n",
       "    </tr>\n",
       "  </tbody>\n",
       "</table>\n",
       "</div>"
      ],
      "text/plain": [
       "   id_user  id_business                                               text  \\\n",
       "0    66477       140105  They have lots of good deserts and tasty cuban...   \n",
       "1    49975          865             It's open even when you think it isn't   \n",
       "\n",
       "                  date  compliment_count  \n",
       "0  2013-02-05 18:35:10                 0  \n",
       "1  2013-08-18 00:56:08                 0  "
      ]
     },
     "execution_count": 19,
     "metadata": {},
     "output_type": "execute_result"
    }
   ],
   "source": [
    "tip.head(2)"
   ]
  },
  {
   "cell_type": "code",
   "execution_count": 20,
   "metadata": {},
   "outputs": [
    {
     "name": "stdout",
     "output_type": "stream",
     "text": [
      "<class 'pandas.core.frame.DataFrame'>\n",
      "Index: 466658 entries, 0 to 466698\n",
      "Data columns (total 5 columns):\n",
      " #   Column            Non-Null Count   Dtype \n",
      "---  ------            --------------   ----- \n",
      " 0   id_user           466658 non-null  int64 \n",
      " 1   id_business       466658 non-null  int64 \n",
      " 2   text              466658 non-null  object\n",
      " 3   date              466658 non-null  object\n",
      " 4   compliment_count  466658 non-null  int64 \n",
      "dtypes: int64(3), object(2)\n",
      "memory usage: 21.4+ MB\n"
     ]
    }
   ],
   "source": [
    "tip.info()"
   ]
  },
  {
   "cell_type": "code",
   "execution_count": 21,
   "metadata": {},
   "outputs": [
    {
     "data": {
      "text/html": [
       "<div>\n",
       "<style scoped>\n",
       "    .dataframe tbody tr th:only-of-type {\n",
       "        vertical-align: middle;\n",
       "    }\n",
       "\n",
       "    .dataframe tbody tr th {\n",
       "        vertical-align: top;\n",
       "    }\n",
       "\n",
       "    .dataframe thead th {\n",
       "        text-align: right;\n",
       "    }\n",
       "</style>\n",
       "<table border=\"1\" class=\"dataframe\">\n",
       "  <thead>\n",
       "    <tr style=\"text-align: right;\">\n",
       "      <th></th>\n",
       "      <th>id_user</th>\n",
       "      <th>years</th>\n",
       "    </tr>\n",
       "  </thead>\n",
       "  <tbody>\n",
       "    <tr>\n",
       "      <th>0</th>\n",
       "      <td>0</td>\n",
       "      <td>2007</td>\n",
       "    </tr>\n",
       "    <tr>\n",
       "      <th>1</th>\n",
       "      <td>1</td>\n",
       "      <td>2009</td>\n",
       "    </tr>\n",
       "  </tbody>\n",
       "</table>\n",
       "</div>"
      ],
      "text/plain": [
       "   id_user  years\n",
       "0        0   2007\n",
       "1        1   2009"
      ]
     },
     "execution_count": 21,
     "metadata": {},
     "output_type": "execute_result"
    }
   ],
   "source": [
    "user_yelp.head(2)"
   ]
  },
  {
   "cell_type": "markdown",
   "metadata": {},
   "source": [
    "Se realizará un análisis para definir la calidad de los datos de cada uno de los dataframes con los que contamos y la calidad se calculará verificando la cantidad de datos nulos, datos faltantes y dato duplicados, esto se representará con un % calculado por el total de datos existente dividido por la cantidad de datos faltantes."
   ]
  },
  {
   "cell_type": "markdown",
   "metadata": {},
   "source": [
    "**Verificación de datos \"Nulos\" de cada Dataframes de Google.**"
   ]
  },
  {
   "cell_type": "markdown",
   "metadata": {},
   "source": [
    "*Nulos dataframe \"restaurant\".*"
   ]
  },
  {
   "cell_type": "code",
   "execution_count": 23,
   "metadata": {},
   "outputs": [
    {
     "data": {
      "text/plain": [
       "name              0\n",
       "address           0\n",
       "state             0\n",
       "city              0\n",
       "postal_code       0\n",
       "latitude          0\n",
       "longitude         0\n",
       "avg_rating        0\n",
       "num_of_reviews    0\n",
       "price_numeric     0\n",
       "gmap_id           0\n",
       "category          0\n",
       "dtype: int64"
      ]
     },
     "execution_count": 23,
     "metadata": {},
     "output_type": "execute_result"
    }
   ],
   "source": [
    "restaurant.isnull().sum()"
   ]
  },
  {
   "cell_type": "markdown",
   "metadata": {},
   "source": [
    "Se realizó una verificación de todas las columnas del dataframe \"restaurant\" en busca de datos nulos. El resultado reveló la ausencia total de datos nulos equivalente a un 0%, lo que nos lleva a concluir que la calidad de los datos en este término es óptima."
   ]
  },
  {
   "cell_type": "markdown",
   "metadata": {},
   "source": [
    "*Nulos dataframe \"reviews\".*"
   ]
  },
  {
   "cell_type": "code",
   "execution_count": 24,
   "metadata": {},
   "outputs": [
    {
     "data": {
      "text/plain": [
       "user_id            0\n",
       "user_name          0\n",
       "year               0\n",
       "month              0\n",
       "day                0\n",
       "hour               0\n",
       "rating             0\n",
       "text               0\n",
       "restaurant_name    0\n",
       "state              0\n",
       "city               0\n",
       "gmap_id            0\n",
       "dtype: int64"
      ]
     },
     "execution_count": 24,
     "metadata": {},
     "output_type": "execute_result"
    }
   ],
   "source": [
    "reviews.isnull().sum()"
   ]
  },
  {
   "cell_type": "markdown",
   "metadata": {},
   "source": [
    "Se realizó una verificación de todas las columnas del dataframe \"reviews\" en busca de datos nulos. El resultado reveló la ausencia total de datos nulos equivalente a un 0%, lo que nos lleva a concluir que la calidad de los datos en este término es óptima."
   ]
  },
  {
   "cell_type": "markdown",
   "metadata": {},
   "source": [
    "*Nulos dataframe \"user\".*"
   ]
  },
  {
   "cell_type": "code",
   "execution_count": 25,
   "metadata": {},
   "outputs": [
    {
     "data": {
      "text/plain": [
       "user_id           0\n",
       "user_name         0\n",
       "review_count      0\n",
       "average_rating    0\n",
       "dtype: int64"
      ]
     },
     "execution_count": 25,
     "metadata": {},
     "output_type": "execute_result"
    }
   ],
   "source": [
    "user.isnull().sum()"
   ]
  },
  {
   "cell_type": "markdown",
   "metadata": {},
   "source": [
    "Se realizó una verificación de todas las columnas del dataframe \"user\" en busca de datos nulos. El resultado reveló la ausencia total de datos nulos, lo cual equivale a un 0%, lo que nos lleva a concluir que la calidad de los datos en este término es óptima."
   ]
  },
  {
   "cell_type": "markdown",
   "metadata": {},
   "source": [
    "**Verificación de datos duplicados Google**"
   ]
  },
  {
   "cell_type": "markdown",
   "metadata": {},
   "source": [
    "*Duplicados dataframe \"restaurant\".*"
   ]
  },
  {
   "cell_type": "markdown",
   "metadata": {},
   "source": [
    "En relación con la detección de datos duplicados en el DataFrame \"restaurant\", se focalizará exclusivamente en la columna \"address\" debido a la naturaleza del conjunto de datos. La identificación de duplicados en esta columna indicaría una anomalía, ya que no se espera que existan múltiples restaurantes en la misma ubicación."
   ]
  },
  {
   "cell_type": "code",
   "execution_count": 26,
   "metadata": {},
   "outputs": [
    {
     "data": {
      "text/html": [
       "<div>\n",
       "<style scoped>\n",
       "    .dataframe tbody tr th:only-of-type {\n",
       "        vertical-align: middle;\n",
       "    }\n",
       "\n",
       "    .dataframe tbody tr th {\n",
       "        vertical-align: top;\n",
       "    }\n",
       "\n",
       "    .dataframe thead th {\n",
       "        text-align: right;\n",
       "    }\n",
       "</style>\n",
       "<table border=\"1\" class=\"dataframe\">\n",
       "  <thead>\n",
       "    <tr style=\"text-align: right;\">\n",
       "      <th></th>\n",
       "      <th>name</th>\n",
       "      <th>address</th>\n",
       "      <th>state</th>\n",
       "      <th>city</th>\n",
       "      <th>postal_code</th>\n",
       "      <th>latitude</th>\n",
       "      <th>longitude</th>\n",
       "      <th>avg_rating</th>\n",
       "      <th>num_of_reviews</th>\n",
       "      <th>price_numeric</th>\n",
       "      <th>gmap_id</th>\n",
       "      <th>category</th>\n",
       "    </tr>\n",
       "  </thead>\n",
       "  <tbody>\n",
       "  </tbody>\n",
       "</table>\n",
       "</div>"
      ],
      "text/plain": [
       "Empty DataFrame\n",
       "Columns: [name, address, state, city, postal_code, latitude, longitude, avg_rating, num_of_reviews, price_numeric, gmap_id, category]\n",
       "Index: []"
      ]
     },
     "execution_count": 26,
     "metadata": {},
     "output_type": "execute_result"
    }
   ],
   "source": [
    "duplicados = restaurant[restaurant.duplicated(subset='address')]\n",
    "duplicados"
   ]
  },
  {
   "cell_type": "markdown",
   "metadata": {},
   "source": [
    "Tras llevar a cabo la validación de duplicados en la columna \"address\", se constató la ausencia de repeticiones, lo que sugiere una alta integridad de datos en el DataFrame \"restaurant\"."
   ]
  },
  {
   "cell_type": "markdown",
   "metadata": {},
   "source": [
    "*Duplicados dataframe \"reviews\".*"
   ]
  },
  {
   "cell_type": "code",
   "execution_count": 27,
   "metadata": {},
   "outputs": [
    {
     "data": {
      "text/html": [
       "<div>\n",
       "<style scoped>\n",
       "    .dataframe tbody tr th:only-of-type {\n",
       "        vertical-align: middle;\n",
       "    }\n",
       "\n",
       "    .dataframe tbody tr th {\n",
       "        vertical-align: top;\n",
       "    }\n",
       "\n",
       "    .dataframe thead th {\n",
       "        text-align: right;\n",
       "    }\n",
       "</style>\n",
       "<table border=\"1\" class=\"dataframe\">\n",
       "  <thead>\n",
       "    <tr style=\"text-align: right;\">\n",
       "      <th></th>\n",
       "      <th>user_id</th>\n",
       "      <th>user_name</th>\n",
       "      <th>year</th>\n",
       "      <th>month</th>\n",
       "      <th>day</th>\n",
       "      <th>hour</th>\n",
       "      <th>rating</th>\n",
       "      <th>text</th>\n",
       "      <th>restaurant_name</th>\n",
       "      <th>state</th>\n",
       "      <th>city</th>\n",
       "      <th>gmap_id</th>\n",
       "    </tr>\n",
       "  </thead>\n",
       "  <tbody>\n",
       "    <tr>\n",
       "      <th>0</th>\n",
       "      <td>108991152262655788985</td>\n",
       "      <td>Song Ro</td>\n",
       "      <td>2021</td>\n",
       "      <td>1</td>\n",
       "      <td>6</td>\n",
       "      <td>05:12:07.056</td>\n",
       "      <td>5</td>\n",
       "      <td>Love there korean rice cake.</td>\n",
       "      <td>San Soo Dang</td>\n",
       "      <td>California</td>\n",
       "      <td>Los Angeles</td>\n",
       "      <td>0x80c2c778e3b73d33:0xbdc58662a4a97d49</td>\n",
       "    </tr>\n",
       "    <tr>\n",
       "      <th>1</th>\n",
       "      <td>111290322219796215751</td>\n",
       "      <td>Rafa Robles</td>\n",
       "      <td>2021</td>\n",
       "      <td>2</td>\n",
       "      <td>9</td>\n",
       "      <td>05:47:28.663</td>\n",
       "      <td>5</td>\n",
       "      <td>Good very good</td>\n",
       "      <td>San Soo Dang</td>\n",
       "      <td>California</td>\n",
       "      <td>Los Angeles</td>\n",
       "      <td>0x80c2c778e3b73d33:0xbdc58662a4a97d49</td>\n",
       "    </tr>\n",
       "    <tr>\n",
       "      <th>2</th>\n",
       "      <td>112640357449611959087</td>\n",
       "      <td>David Han</td>\n",
       "      <td>2020</td>\n",
       "      <td>3</td>\n",
       "      <td>8</td>\n",
       "      <td>05:04:42.296</td>\n",
       "      <td>4</td>\n",
       "      <td>They make Korean traditional food very properly.</td>\n",
       "      <td>San Soo Dang</td>\n",
       "      <td>California</td>\n",
       "      <td>Los Angeles</td>\n",
       "      <td>0x80c2c778e3b73d33:0xbdc58662a4a97d49</td>\n",
       "    </tr>\n",
       "    <tr>\n",
       "      <th>3</th>\n",
       "      <td>117440349723823658676</td>\n",
       "      <td>Anthony Kim</td>\n",
       "      <td>2019</td>\n",
       "      <td>3</td>\n",
       "      <td>7</td>\n",
       "      <td>05:56:56.355</td>\n",
       "      <td>5</td>\n",
       "      <td>Short ribs are very delicious.</td>\n",
       "      <td>San Soo Dang</td>\n",
       "      <td>California</td>\n",
       "      <td>Los Angeles</td>\n",
       "      <td>0x80c2c778e3b73d33:0xbdc58662a4a97d49</td>\n",
       "    </tr>\n",
       "    <tr>\n",
       "      <th>4</th>\n",
       "      <td>100580770836123539210</td>\n",
       "      <td>Mario Marzouk</td>\n",
       "      <td>2017</td>\n",
       "      <td>5</td>\n",
       "      <td>16</td>\n",
       "      <td>05:01:41.933</td>\n",
       "      <td>5</td>\n",
       "      <td>Great food and prices the portions are large</td>\n",
       "      <td>San Soo Dang</td>\n",
       "      <td>California</td>\n",
       "      <td>Los Angeles</td>\n",
       "      <td>0x80c2c778e3b73d33:0xbdc58662a4a97d49</td>\n",
       "    </tr>\n",
       "    <tr>\n",
       "      <th>...</th>\n",
       "      <td>...</td>\n",
       "      <td>...</td>\n",
       "      <td>...</td>\n",
       "      <td>...</td>\n",
       "      <td>...</td>\n",
       "      <td>...</td>\n",
       "      <td>...</td>\n",
       "      <td>...</td>\n",
       "      <td>...</td>\n",
       "      <td>...</td>\n",
       "      <td>...</td>\n",
       "      <td>...</td>\n",
       "    </tr>\n",
       "    <tr>\n",
       "      <th>2460572</th>\n",
       "      <td>107087100194406663299</td>\n",
       "      <td>Alex</td>\n",
       "      <td>2018</td>\n",
       "      <td>1</td>\n",
       "      <td>10</td>\n",
       "      <td>21:04:49.741</td>\n",
       "      <td>5</td>\n",
       "      <td>Polite staff with delicious food selections an...</td>\n",
       "      <td>Cafe Amsterdam</td>\n",
       "      <td>Alaska</td>\n",
       "      <td>Anchorage</td>\n",
       "      <td>0x56c897c81c27a063:0x345caa7cf3c4e96c</td>\n",
       "    </tr>\n",
       "    <tr>\n",
       "      <th>2460582</th>\n",
       "      <td>102145058349489671743</td>\n",
       "      <td>Dora Ahwinona</td>\n",
       "      <td>2018</td>\n",
       "      <td>8</td>\n",
       "      <td>26</td>\n",
       "      <td>03:34:51.882</td>\n",
       "      <td>4</td>\n",
       "      <td>Good food and service, family owned place.</td>\n",
       "      <td>Cafe Amsterdam</td>\n",
       "      <td>Alaska</td>\n",
       "      <td>Anchorage</td>\n",
       "      <td>0x56c897c81c27a063:0x345caa7cf3c4e96c</td>\n",
       "    </tr>\n",
       "    <tr>\n",
       "      <th>2460584</th>\n",
       "      <td>102145058349489671743</td>\n",
       "      <td>Dora Ahwinona</td>\n",
       "      <td>2018</td>\n",
       "      <td>8</td>\n",
       "      <td>26</td>\n",
       "      <td>03:34:51.882</td>\n",
       "      <td>4</td>\n",
       "      <td>Good food and service, family owned place.</td>\n",
       "      <td>Cafe Amsterdam</td>\n",
       "      <td>Alaska</td>\n",
       "      <td>Anchorage</td>\n",
       "      <td>0x56c897c81c27a063:0x345caa7cf3c4e96c</td>\n",
       "    </tr>\n",
       "    <tr>\n",
       "      <th>2460585</th>\n",
       "      <td>117419416460031273258</td>\n",
       "      <td>JT Stanley</td>\n",
       "      <td>2016</td>\n",
       "      <td>7</td>\n",
       "      <td>31</td>\n",
       "      <td>18:25:27.299</td>\n",
       "      <td>2</td>\n",
       "      <td>Used to be reasonably priced. Went there yeste...</td>\n",
       "      <td>Cafe Amsterdam</td>\n",
       "      <td>Alaska</td>\n",
       "      <td>Anchorage</td>\n",
       "      <td>0x56c897c81c27a063:0x345caa7cf3c4e96c</td>\n",
       "    </tr>\n",
       "    <tr>\n",
       "      <th>2460590</th>\n",
       "      <td>117419416460031273258</td>\n",
       "      <td>JT Stanley</td>\n",
       "      <td>2016</td>\n",
       "      <td>7</td>\n",
       "      <td>31</td>\n",
       "      <td>18:25:27.299</td>\n",
       "      <td>2</td>\n",
       "      <td>Used to be reasonably priced. Went there yeste...</td>\n",
       "      <td>Cafe Amsterdam</td>\n",
       "      <td>Alaska</td>\n",
       "      <td>Anchorage</td>\n",
       "      <td>0x56c897c81c27a063:0x345caa7cf3c4e96c</td>\n",
       "    </tr>\n",
       "  </tbody>\n",
       "</table>\n",
       "<p>191206 rows × 12 columns</p>\n",
       "</div>"
      ],
      "text/plain": [
       "                       user_id      user_name  year  month  day          hour  \\\n",
       "0        108991152262655788985        Song Ro  2021      1    6  05:12:07.056   \n",
       "1        111290322219796215751    Rafa Robles  2021      2    9  05:47:28.663   \n",
       "2        112640357449611959087      David Han  2020      3    8  05:04:42.296   \n",
       "3        117440349723823658676    Anthony Kim  2019      3    7  05:56:56.355   \n",
       "4        100580770836123539210  Mario Marzouk  2017      5   16  05:01:41.933   \n",
       "...                        ...            ...   ...    ...  ...           ...   \n",
       "2460572  107087100194406663299           Alex  2018      1   10  21:04:49.741   \n",
       "2460582  102145058349489671743  Dora Ahwinona  2018      8   26  03:34:51.882   \n",
       "2460584  102145058349489671743  Dora Ahwinona  2018      8   26  03:34:51.882   \n",
       "2460585  117419416460031273258     JT Stanley  2016      7   31  18:25:27.299   \n",
       "2460590  117419416460031273258     JT Stanley  2016      7   31  18:25:27.299   \n",
       "\n",
       "         rating                                               text  \\\n",
       "0             5                       Love there korean rice cake.   \n",
       "1             5                                     Good very good   \n",
       "2             4   They make Korean traditional food very properly.   \n",
       "3             5                     Short ribs are very delicious.   \n",
       "4             5       Great food and prices the portions are large   \n",
       "...         ...                                                ...   \n",
       "2460572       5  Polite staff with delicious food selections an...   \n",
       "2460582       4         Good food and service, family owned place.   \n",
       "2460584       4         Good food and service, family owned place.   \n",
       "2460585       2  Used to be reasonably priced. Went there yeste...   \n",
       "2460590       2  Used to be reasonably priced. Went there yeste...   \n",
       "\n",
       "        restaurant_name       state         city  \\\n",
       "0          San Soo Dang  California  Los Angeles   \n",
       "1          San Soo Dang  California  Los Angeles   \n",
       "2          San Soo Dang  California  Los Angeles   \n",
       "3          San Soo Dang  California  Los Angeles   \n",
       "4          San Soo Dang  California  Los Angeles   \n",
       "...                 ...         ...          ...   \n",
       "2460572  Cafe Amsterdam      Alaska    Anchorage   \n",
       "2460582  Cafe Amsterdam      Alaska    Anchorage   \n",
       "2460584  Cafe Amsterdam      Alaska    Anchorage   \n",
       "2460585  Cafe Amsterdam      Alaska    Anchorage   \n",
       "2460590  Cafe Amsterdam      Alaska    Anchorage   \n",
       "\n",
       "                                       gmap_id  \n",
       "0        0x80c2c778e3b73d33:0xbdc58662a4a97d49  \n",
       "1        0x80c2c778e3b73d33:0xbdc58662a4a97d49  \n",
       "2        0x80c2c778e3b73d33:0xbdc58662a4a97d49  \n",
       "3        0x80c2c778e3b73d33:0xbdc58662a4a97d49  \n",
       "4        0x80c2c778e3b73d33:0xbdc58662a4a97d49  \n",
       "...                                        ...  \n",
       "2460572  0x56c897c81c27a063:0x345caa7cf3c4e96c  \n",
       "2460582  0x56c897c81c27a063:0x345caa7cf3c4e96c  \n",
       "2460584  0x56c897c81c27a063:0x345caa7cf3c4e96c  \n",
       "2460585  0x56c897c81c27a063:0x345caa7cf3c4e96c  \n",
       "2460590  0x56c897c81c27a063:0x345caa7cf3c4e96c  \n",
       "\n",
       "[191206 rows x 12 columns]"
      ]
     },
     "execution_count": 27,
     "metadata": {},
     "output_type": "execute_result"
    }
   ],
   "source": [
    "duplicados = reviews[reviews.duplicated(subset=['user_id', 'hour'], keep=False)]\n",
    "duplicados"
   ]
  },
  {
   "cell_type": "code",
   "execution_count": 30,
   "metadata": {},
   "outputs": [
    {
     "data": {
      "text/plain": [
       "user_id                user_name         year  month  day  hour          rating  text                                                                                                                                                                                                                                                                                                                                                                                                                                                               restaurant_name             state        city           gmap_id                              \n",
       "108959132843836436989  Suzanne Mandella  2019  9      21   11:42:09.263  4       Ordered 7 different tapas. (Shrimp, goatcheese with figs, artichoke, chickpeas with sausage, tuna tartar, steak, octopus). The presentation of each dish was very nice and tasted very good.The service was excellent.\\nWill go back again.                                                                                                                                                                                                                        Gaudí Tapas and Wine        Connecticut  Danbury        0x89dd576d303dfc53:0x7f0c2093e961eeb0    3\n",
       "103783478910387987910  Lori Roy          2021  3      17   22:28:25.213  1       We were very dissapointed. 3 different pizzas ordered and not any worth it. 1 pizza was supposed to be double pepperoni & double cheese, some slices only had 1 piece of pepperoni and the crust was soft and doughy. Another pizza was cauliflower crust and it was terrible for which they charged extra for. 3rd pizza was terrible crust as well with a soft crust with no crunch at all & doughy and hard to chew or swallow. Will not try this place again!  MrJims.Pizza                Texas        Port Neches    0x863eb194e9ef6901:0xb24539ca7a973043    3\n",
       "108023860466818350175  Lisa Renee        2017  3      18   14:58:55.323  5       My favorite is the Cheese pizza - not your ordinary cheese pizza. It was delicious. The Coconut Curry is great too.                                                                                                                                                                                                                                                                                                                                                Broke Ass Pizza             Texas        Houston        0x8640bf01c157ee41:0x411ab7ef38a9da9f    3\n",
       "108204145743439467474  Kevin Barker      2018  8      1    06:03:19.16   4       Best pizza in Manhattan                                                                                                                                                                                                                                                                                                                                                                                                                                            Prince St. Pizza            New_York     New York       0x89c25985f7ec1beb:0x3c39f655da433d9d    3\n",
       "108529922569745114555  C “Mentos” S      2017  8      5    22:45:06.156  1       The food was disgusting.   The fish was ok, but the shrimp was sour and flavorless.  My husband got the fajita fried steak that came with dirty rice and was disappoint.  He said that it was gross and he just threw it away.  The dirty rice was so plain he didn't bother to eat that either. All in all NEVER AGIAN. I probably won't be able to keep this food down.                                                                                          Pancheaux's Cajun Cantinas  Texas        Lake Jackson   0x864043c37362e62b:0xdf6259dabdef4313    3\n",
       "                                                                                                                                                                                                                                                                                                                                                                                                                                                                                                                                                                                                                                                    ..\n",
       "106289989131279905918  Sheila Wan        2019  4      23   14:19:16.158  5       Come here regularly. They always deliver consistent quality and are accommodating.                                                                                                                                                                                                                                                                                                                                                                                 Gomen                       California   Stanton        0x80dd292f377d7309:0xc2f4ae4462ecf97     1\n",
       "106289972099578450873  John Carey        2019  12     4    03:44:26.85   5       Great atmosphere, good food.                                                                                                                                                                                                                                                                                                                                                                                                                                       Winner's Circle             New_York     Fonda          0x89de8dcb86d76069:0x5e561328ad44440e    1\n",
       "106289923751139027213  Julian Setian     2018  2      25   03:39:46.599  4       Terrific breakfast.                                                                                                                                                                                                                                                                                                                                                                                                                                                Sarabeth's                  New_York     New York       0x89c258f0eb5d3503:0x58ac4291922c136a    1\n",
       "106289791335613726236  adell Carr        2016  8      27   11:10:24.027  5       Great breakfast everytime!                                                                                                                                                                                                                                                                                                                                                                                                                                         Scully's Restaurant         Florida      Boynton Beach  0x88d8df1b795d5e69:0x392bc1fd7482277c    1\n",
       "118446649441296359833  Alec Holden       2020  3      21   17:10:13.275  5       This spot provides extraordinary service as well as delightful meals. The best restaurant around here. The food and drinks came out quick and the prices are fair. I recommend this place.                                                                                                                                                                                                                                                                         Osaka                       New_York     Brooklyn       0x89c25a5a7eb54e13:0x4fa646fc6042eb8e    1\n",
       "Name: count, Length: 108582, dtype: int64"
      ]
     },
     "execution_count": 30,
     "metadata": {},
     "output_type": "execute_result"
    }
   ],
   "source": [
    "duplicados = reviews[reviews.duplicated(subset='user_id') & reviews.duplicated(subset='hour')].value_counts()\n",
    "duplicados"
   ]
  },
  {
   "cell_type": "code",
   "execution_count": 31,
   "metadata": {},
   "outputs": [
    {
     "data": {
      "text/html": [
       "<div>\n",
       "<style scoped>\n",
       "    .dataframe tbody tr th:only-of-type {\n",
       "        vertical-align: middle;\n",
       "    }\n",
       "\n",
       "    .dataframe tbody tr th {\n",
       "        vertical-align: top;\n",
       "    }\n",
       "\n",
       "    .dataframe thead th {\n",
       "        text-align: right;\n",
       "    }\n",
       "</style>\n",
       "<table border=\"1\" class=\"dataframe\">\n",
       "  <thead>\n",
       "    <tr style=\"text-align: right;\">\n",
       "      <th></th>\n",
       "      <th>user_id</th>\n",
       "      <th>user_name</th>\n",
       "      <th>year</th>\n",
       "      <th>month</th>\n",
       "      <th>day</th>\n",
       "      <th>hour</th>\n",
       "      <th>rating</th>\n",
       "      <th>text</th>\n",
       "      <th>restaurant_name</th>\n",
       "      <th>state</th>\n",
       "      <th>city</th>\n",
       "      <th>gmap_id</th>\n",
       "    </tr>\n",
       "  </thead>\n",
       "  <tbody>\n",
       "    <tr>\n",
       "      <th>0</th>\n",
       "      <td>108991152262655788985</td>\n",
       "      <td>Song Ro</td>\n",
       "      <td>2021</td>\n",
       "      <td>1</td>\n",
       "      <td>6</td>\n",
       "      <td>05:12:07.056</td>\n",
       "      <td>5</td>\n",
       "      <td>Love there korean rice cake.</td>\n",
       "      <td>San Soo Dang</td>\n",
       "      <td>California</td>\n",
       "      <td>Los Angeles</td>\n",
       "      <td>0x80c2c778e3b73d33:0xbdc58662a4a97d49</td>\n",
       "    </tr>\n",
       "    <tr>\n",
       "      <th>1</th>\n",
       "      <td>111290322219796215751</td>\n",
       "      <td>Rafa Robles</td>\n",
       "      <td>2021</td>\n",
       "      <td>2</td>\n",
       "      <td>9</td>\n",
       "      <td>05:47:28.663</td>\n",
       "      <td>5</td>\n",
       "      <td>Good very good</td>\n",
       "      <td>San Soo Dang</td>\n",
       "      <td>California</td>\n",
       "      <td>Los Angeles</td>\n",
       "      <td>0x80c2c778e3b73d33:0xbdc58662a4a97d49</td>\n",
       "    </tr>\n",
       "    <tr>\n",
       "      <th>2</th>\n",
       "      <td>112640357449611959087</td>\n",
       "      <td>David Han</td>\n",
       "      <td>2020</td>\n",
       "      <td>3</td>\n",
       "      <td>8</td>\n",
       "      <td>05:04:42.296</td>\n",
       "      <td>4</td>\n",
       "      <td>They make Korean traditional food very properly.</td>\n",
       "      <td>San Soo Dang</td>\n",
       "      <td>California</td>\n",
       "      <td>Los Angeles</td>\n",
       "      <td>0x80c2c778e3b73d33:0xbdc58662a4a97d49</td>\n",
       "    </tr>\n",
       "    <tr>\n",
       "      <th>3</th>\n",
       "      <td>117440349723823658676</td>\n",
       "      <td>Anthony Kim</td>\n",
       "      <td>2019</td>\n",
       "      <td>3</td>\n",
       "      <td>7</td>\n",
       "      <td>05:56:56.355</td>\n",
       "      <td>5</td>\n",
       "      <td>Short ribs are very delicious.</td>\n",
       "      <td>San Soo Dang</td>\n",
       "      <td>California</td>\n",
       "      <td>Los Angeles</td>\n",
       "      <td>0x80c2c778e3b73d33:0xbdc58662a4a97d49</td>\n",
       "    </tr>\n",
       "    <tr>\n",
       "      <th>4</th>\n",
       "      <td>100580770836123539210</td>\n",
       "      <td>Mario Marzouk</td>\n",
       "      <td>2017</td>\n",
       "      <td>5</td>\n",
       "      <td>16</td>\n",
       "      <td>05:01:41.933</td>\n",
       "      <td>5</td>\n",
       "      <td>Great food and prices the portions are large</td>\n",
       "      <td>San Soo Dang</td>\n",
       "      <td>California</td>\n",
       "      <td>Los Angeles</td>\n",
       "      <td>0x80c2c778e3b73d33:0xbdc58662a4a97d49</td>\n",
       "    </tr>\n",
       "    <tr>\n",
       "      <th>...</th>\n",
       "      <td>...</td>\n",
       "      <td>...</td>\n",
       "      <td>...</td>\n",
       "      <td>...</td>\n",
       "      <td>...</td>\n",
       "      <td>...</td>\n",
       "      <td>...</td>\n",
       "      <td>...</td>\n",
       "      <td>...</td>\n",
       "      <td>...</td>\n",
       "      <td>...</td>\n",
       "      <td>...</td>\n",
       "    </tr>\n",
       "    <tr>\n",
       "      <th>2463492</th>\n",
       "      <td>109764997153941094653</td>\n",
       "      <td>Aaron Larson</td>\n",
       "      <td>2019</td>\n",
       "      <td>5</td>\n",
       "      <td>29</td>\n",
       "      <td>02:40:52.134</td>\n",
       "      <td>5</td>\n",
       "      <td>SD</td>\n",
       "      <td>Keen Kow Thai Food</td>\n",
       "      <td>Alaska</td>\n",
       "      <td>Ninilchik</td>\n",
       "      <td>0x56c6bbedd8a7e5a3:0x24f4d18d4a788d89</td>\n",
       "    </tr>\n",
       "    <tr>\n",
       "      <th>2463493</th>\n",
       "      <td>115046379139351279354</td>\n",
       "      <td>Scott Boyd</td>\n",
       "      <td>2017</td>\n",
       "      <td>6</td>\n",
       "      <td>14</td>\n",
       "      <td>17:49:03.227</td>\n",
       "      <td>5</td>\n",
       "      <td>SD</td>\n",
       "      <td>Keen Kow Thai Food</td>\n",
       "      <td>Alaska</td>\n",
       "      <td>Ninilchik</td>\n",
       "      <td>0x56c6bbedd8a7e5a3:0x24f4d18d4a788d89</td>\n",
       "    </tr>\n",
       "    <tr>\n",
       "      <th>2463494</th>\n",
       "      <td>107738667229021448594</td>\n",
       "      <td>Makenzie Morgan</td>\n",
       "      <td>2019</td>\n",
       "      <td>6</td>\n",
       "      <td>6</td>\n",
       "      <td>07:09:42.3</td>\n",
       "      <td>4</td>\n",
       "      <td>SD</td>\n",
       "      <td>Keen Kow Thai Food</td>\n",
       "      <td>Alaska</td>\n",
       "      <td>Ninilchik</td>\n",
       "      <td>0x56c6bbedd8a7e5a3:0x24f4d18d4a788d89</td>\n",
       "    </tr>\n",
       "    <tr>\n",
       "      <th>2463495</th>\n",
       "      <td>110573453963347972748</td>\n",
       "      <td>Sharon Cook</td>\n",
       "      <td>2017</td>\n",
       "      <td>8</td>\n",
       "      <td>30</td>\n",
       "      <td>01:17:44.097</td>\n",
       "      <td>5</td>\n",
       "      <td>SD</td>\n",
       "      <td>Keen Kow Thai Food</td>\n",
       "      <td>Alaska</td>\n",
       "      <td>Ninilchik</td>\n",
       "      <td>0x56c6bbedd8a7e5a3:0x24f4d18d4a788d89</td>\n",
       "    </tr>\n",
       "    <tr>\n",
       "      <th>2463496</th>\n",
       "      <td>107118977516855688305</td>\n",
       "      <td>Jaimee Buzga</td>\n",
       "      <td>2018</td>\n",
       "      <td>6</td>\n",
       "      <td>21</td>\n",
       "      <td>23:43:26.518</td>\n",
       "      <td>5</td>\n",
       "      <td>SD</td>\n",
       "      <td>Keen Kow Thai Food</td>\n",
       "      <td>Alaska</td>\n",
       "      <td>Ninilchik</td>\n",
       "      <td>0x56c6bbedd8a7e5a3:0x24f4d18d4a788d89</td>\n",
       "    </tr>\n",
       "  </tbody>\n",
       "</table>\n",
       "<p>2463497 rows × 12 columns</p>\n",
       "</div>"
      ],
      "text/plain": [
       "                       user_id        user_name  year  month  day  \\\n",
       "0        108991152262655788985          Song Ro  2021      1    6   \n",
       "1        111290322219796215751      Rafa Robles  2021      2    9   \n",
       "2        112640357449611959087        David Han  2020      3    8   \n",
       "3        117440349723823658676      Anthony Kim  2019      3    7   \n",
       "4        100580770836123539210    Mario Marzouk  2017      5   16   \n",
       "...                        ...              ...   ...    ...  ...   \n",
       "2463492  109764997153941094653     Aaron Larson  2019      5   29   \n",
       "2463493  115046379139351279354       Scott Boyd  2017      6   14   \n",
       "2463494  107738667229021448594  Makenzie Morgan  2019      6    6   \n",
       "2463495  110573453963347972748      Sharon Cook  2017      8   30   \n",
       "2463496  107118977516855688305     Jaimee Buzga  2018      6   21   \n",
       "\n",
       "                 hour  rating  \\\n",
       "0        05:12:07.056       5   \n",
       "1        05:47:28.663       5   \n",
       "2        05:04:42.296       4   \n",
       "3        05:56:56.355       5   \n",
       "4        05:01:41.933       5   \n",
       "...               ...     ...   \n",
       "2463492  02:40:52.134       5   \n",
       "2463493  17:49:03.227       5   \n",
       "2463494    07:09:42.3       4   \n",
       "2463495  01:17:44.097       5   \n",
       "2463496  23:43:26.518       5   \n",
       "\n",
       "                                                     text     restaurant_name  \\\n",
       "0                            Love there korean rice cake.        San Soo Dang   \n",
       "1                                          Good very good        San Soo Dang   \n",
       "2        They make Korean traditional food very properly.        San Soo Dang   \n",
       "3                          Short ribs are very delicious.        San Soo Dang   \n",
       "4            Great food and prices the portions are large        San Soo Dang   \n",
       "...                                                   ...                 ...   \n",
       "2463492                                                SD  Keen Kow Thai Food   \n",
       "2463493                                                SD  Keen Kow Thai Food   \n",
       "2463494                                                SD  Keen Kow Thai Food   \n",
       "2463495                                                SD  Keen Kow Thai Food   \n",
       "2463496                                                SD  Keen Kow Thai Food   \n",
       "\n",
       "              state         city                                gmap_id  \n",
       "0        California  Los Angeles  0x80c2c778e3b73d33:0xbdc58662a4a97d49  \n",
       "1        California  Los Angeles  0x80c2c778e3b73d33:0xbdc58662a4a97d49  \n",
       "2        California  Los Angeles  0x80c2c778e3b73d33:0xbdc58662a4a97d49  \n",
       "3        California  Los Angeles  0x80c2c778e3b73d33:0xbdc58662a4a97d49  \n",
       "4        California  Los Angeles  0x80c2c778e3b73d33:0xbdc58662a4a97d49  \n",
       "...             ...          ...                                    ...  \n",
       "2463492      Alaska    Ninilchik  0x56c6bbedd8a7e5a3:0x24f4d18d4a788d89  \n",
       "2463493      Alaska    Ninilchik  0x56c6bbedd8a7e5a3:0x24f4d18d4a788d89  \n",
       "2463494      Alaska    Ninilchik  0x56c6bbedd8a7e5a3:0x24f4d18d4a788d89  \n",
       "2463495      Alaska    Ninilchik  0x56c6bbedd8a7e5a3:0x24f4d18d4a788d89  \n",
       "2463496      Alaska    Ninilchik  0x56c6bbedd8a7e5a3:0x24f4d18d4a788d89  \n",
       "\n",
       "[2463497 rows x 12 columns]"
      ]
     },
     "execution_count": 31,
     "metadata": {},
     "output_type": "execute_result"
    }
   ],
   "source": [
    "reviews"
   ]
  },
  {
   "cell_type": "code",
   "execution_count": 29,
   "metadata": {},
   "outputs": [
    {
     "data": {
      "text/html": [
       "<div>\n",
       "<style scoped>\n",
       "    .dataframe tbody tr th:only-of-type {\n",
       "        vertical-align: middle;\n",
       "    }\n",
       "\n",
       "    .dataframe tbody tr th {\n",
       "        vertical-align: top;\n",
       "    }\n",
       "\n",
       "    .dataframe thead th {\n",
       "        text-align: right;\n",
       "    }\n",
       "</style>\n",
       "<table border=\"1\" class=\"dataframe\">\n",
       "  <thead>\n",
       "    <tr style=\"text-align: right;\">\n",
       "      <th></th>\n",
       "      <th>user_id</th>\n",
       "      <th>user_name</th>\n",
       "      <th>year</th>\n",
       "      <th>month</th>\n",
       "      <th>day</th>\n",
       "      <th>hour</th>\n",
       "      <th>rating</th>\n",
       "      <th>text</th>\n",
       "      <th>restaurant_name</th>\n",
       "      <th>state</th>\n",
       "      <th>city</th>\n",
       "      <th>gmap_id</th>\n",
       "    </tr>\n",
       "  </thead>\n",
       "  <tbody>\n",
       "    <tr>\n",
       "      <th>167</th>\n",
       "      <td>101001321250592869991</td>\n",
       "      <td>Luis Briceno</td>\n",
       "      <td>2019</td>\n",
       "      <td>8</td>\n",
       "      <td>10</td>\n",
       "      <td>18:32:49.186</td>\n",
       "      <td>5</td>\n",
       "      <td>(Translated by Google) Very good place and ver...</td>\n",
       "      <td>La Superior Panaderia</td>\n",
       "      <td>California</td>\n",
       "      <td>Los Angeles</td>\n",
       "      <td>0x80c2c798ad41d859:0x8823cd86d2abd5b3</td>\n",
       "    </tr>\n",
       "    <tr>\n",
       "      <th>169</th>\n",
       "      <td>101001321250592869991</td>\n",
       "      <td>Luis Briceno</td>\n",
       "      <td>2019</td>\n",
       "      <td>8</td>\n",
       "      <td>10</td>\n",
       "      <td>18:32:49.186</td>\n",
       "      <td>5</td>\n",
       "      <td>(Translated by Google) Very good place and ver...</td>\n",
       "      <td>La Superior Panaderia</td>\n",
       "      <td>California</td>\n",
       "      <td>Los Angeles</td>\n",
       "      <td>0x80c2c798ad41d859:0x8823cd86d2abd5b3</td>\n",
       "    </tr>\n",
       "    <tr>\n",
       "      <th>847</th>\n",
       "      <td>101001321250592869991</td>\n",
       "      <td>Luis Briceno</td>\n",
       "      <td>2019</td>\n",
       "      <td>8</td>\n",
       "      <td>10</td>\n",
       "      <td>18:32:49.186</td>\n",
       "      <td>5</td>\n",
       "      <td>(Translated by Google) Very good place and ver...</td>\n",
       "      <td>La Superior Panaderia</td>\n",
       "      <td>California</td>\n",
       "      <td>Los Angeles</td>\n",
       "      <td>0x80c2c798ad41d859:0x8823cd86d2abd5b3</td>\n",
       "    </tr>\n",
       "    <tr>\n",
       "      <th>849</th>\n",
       "      <td>101001321250592869991</td>\n",
       "      <td>Luis Briceno</td>\n",
       "      <td>2019</td>\n",
       "      <td>8</td>\n",
       "      <td>10</td>\n",
       "      <td>18:32:49.186</td>\n",
       "      <td>5</td>\n",
       "      <td>(Translated by Google) Very good place and ver...</td>\n",
       "      <td>La Superior Panaderia</td>\n",
       "      <td>California</td>\n",
       "      <td>Los Angeles</td>\n",
       "      <td>0x80c2c798ad41d859:0x8823cd86d2abd5b3</td>\n",
       "    </tr>\n",
       "  </tbody>\n",
       "</table>\n",
       "</div>"
      ],
      "text/plain": [
       "                   user_id     user_name  year  month  day          hour  \\\n",
       "167  101001321250592869991  Luis Briceno  2019      8   10  18:32:49.186   \n",
       "169  101001321250592869991  Luis Briceno  2019      8   10  18:32:49.186   \n",
       "847  101001321250592869991  Luis Briceno  2019      8   10  18:32:49.186   \n",
       "849  101001321250592869991  Luis Briceno  2019      8   10  18:32:49.186   \n",
       "\n",
       "     rating                                               text  \\\n",
       "167       5  (Translated by Google) Very good place and ver...   \n",
       "169       5  (Translated by Google) Very good place and ver...   \n",
       "847       5  (Translated by Google) Very good place and ver...   \n",
       "849       5  (Translated by Google) Very good place and ver...   \n",
       "\n",
       "           restaurant_name       state         city  \\\n",
       "167  La Superior Panaderia  California  Los Angeles   \n",
       "169  La Superior Panaderia  California  Los Angeles   \n",
       "847  La Superior Panaderia  California  Los Angeles   \n",
       "849  La Superior Panaderia  California  Los Angeles   \n",
       "\n",
       "                                   gmap_id  \n",
       "167  0x80c2c798ad41d859:0x8823cd86d2abd5b3  \n",
       "169  0x80c2c798ad41d859:0x8823cd86d2abd5b3  \n",
       "847  0x80c2c798ad41d859:0x8823cd86d2abd5b3  \n",
       "849  0x80c2c798ad41d859:0x8823cd86d2abd5b3  "
      ]
     },
     "execution_count": 29,
     "metadata": {},
     "output_type": "execute_result"
    }
   ],
   "source": [
    "reviews[reviews['user_id'] == '101001321250592869991']"
   ]
  },
  {
   "cell_type": "markdown",
   "metadata": {},
   "source": [
    "Tras llevar a cabo una inspección en el DataFrame \"reviews\" en busca de duplicados, se identificaron un total de 191,206  registros duplicados de un conjunto de 2'463,497  datos, lo que representa un porcentaje del 7.76%. Por ende, se concluye que el 92.24% de los datos no están duplicados, lo que indica una calidad de datos (media) aceptable en el conjunto analizado."
   ]
  },
  {
   "cell_type": "markdown",
   "metadata": {},
   "source": [
    "*Duplicados dataframe \"user\".*"
   ]
  },
  {
   "cell_type": "code",
   "execution_count": 32,
   "metadata": {},
   "outputs": [
    {
     "data": {
      "text/plain": [
       "user_id                user_name                           review_count  average_rating\n",
       "100003708628889270275  Tanya Estrada                       1             5.0               1\n",
       "112482756494924042832  Wilfredo Lugo                       2             5.0               1\n",
       "112432688117379757117  Lizzy Thomas                        1             4.0               1\n",
       "112435112523680212019  Alan DELACRUZ                       2             3.5               1\n",
       "112439388468130288725  Juan Osorio                         1             5.0               1\n",
       "                                                                                          ..\n",
       "106664880530848195495  Thread Rolling USA                  1             4.0               1\n",
       "106668839169472489708  Lorski M.                           1             5.0               1\n",
       "106675055786698735715  Andy G                              1             5.0               1\n",
       "106675227000910692989  A mw                                1             4.0               1\n",
       "118444209281473607022  Carlos “Misionero Charlie” Jiménez  1             5.0               1\n",
       "Name: count, Length: 3489, dtype: int64"
      ]
     },
     "execution_count": 32,
     "metadata": {},
     "output_type": "execute_result"
    }
   ],
   "source": [
    "duplicados = user[user.duplicated(subset='user_id') ].value_counts()\n",
    "duplicados"
   ]
  },
  {
   "cell_type": "markdown",
   "metadata": {},
   "source": [
    "Después de investigar la presencia de datos duplicados en el DataFrame \"user\", se determinó que, dada la naturaleza inherente del conjunto de datos, la existencia de duplicados no necesariamente indicaría un error."
   ]
  },
  {
   "cell_type": "markdown",
   "metadata": {},
   "source": [
    "**Verificación de datos faltantes de Google**"
   ]
  },
  {
   "cell_type": "markdown",
   "metadata": {},
   "source": [
    "*Datos faltantes dataframe \"restaurant\"*"
   ]
  },
  {
   "cell_type": "code",
   "execution_count": 33,
   "metadata": {},
   "outputs": [
    {
     "data": {
      "text/html": [
       "<div>\n",
       "<style scoped>\n",
       "    .dataframe tbody tr th:only-of-type {\n",
       "        vertical-align: middle;\n",
       "    }\n",
       "\n",
       "    .dataframe tbody tr th {\n",
       "        vertical-align: top;\n",
       "    }\n",
       "\n",
       "    .dataframe thead th {\n",
       "        text-align: right;\n",
       "    }\n",
       "</style>\n",
       "<table border=\"1\" class=\"dataframe\">\n",
       "  <thead>\n",
       "    <tr style=\"text-align: right;\">\n",
       "      <th></th>\n",
       "      <th>name</th>\n",
       "      <th>address</th>\n",
       "      <th>state</th>\n",
       "      <th>city</th>\n",
       "      <th>postal_code</th>\n",
       "      <th>latitude</th>\n",
       "      <th>longitude</th>\n",
       "      <th>avg_rating</th>\n",
       "      <th>num_of_reviews</th>\n",
       "      <th>price_numeric</th>\n",
       "      <th>gmap_id</th>\n",
       "      <th>category</th>\n",
       "    </tr>\n",
       "  </thead>\n",
       "  <tbody>\n",
       "  </tbody>\n",
       "</table>\n",
       "</div>"
      ],
      "text/plain": [
       "Empty DataFrame\n",
       "Columns: [name, address, state, city, postal_code, latitude, longitude, avg_rating, num_of_reviews, price_numeric, gmap_id, category]\n",
       "Index: []"
      ]
     },
     "execution_count": 33,
     "metadata": {},
     "output_type": "execute_result"
    }
   ],
   "source": [
    "restaurant[restaurant['category'] == '']"
   ]
  },
  {
   "cell_type": "markdown",
   "metadata": {},
   "source": [
    "Tras un análisis del dataframe \"restaurant\" en busca de datos faltantes, se determinó que no existen ausencias de datos en ninguna parte del dataframe. Por consiguiente, se concluye que el dataframe presenta una alta calidad de datos."
   ]
  },
  {
   "cell_type": "markdown",
   "metadata": {},
   "source": [
    "*Datos faltantes dataframe \"reviews\"*"
   ]
  },
  {
   "cell_type": "code",
   "execution_count": 34,
   "metadata": {},
   "outputs": [
    {
     "data": {
      "text/html": [
       "<div>\n",
       "<style scoped>\n",
       "    .dataframe tbody tr th:only-of-type {\n",
       "        vertical-align: middle;\n",
       "    }\n",
       "\n",
       "    .dataframe tbody tr th {\n",
       "        vertical-align: top;\n",
       "    }\n",
       "\n",
       "    .dataframe thead th {\n",
       "        text-align: right;\n",
       "    }\n",
       "</style>\n",
       "<table border=\"1\" class=\"dataframe\">\n",
       "  <thead>\n",
       "    <tr style=\"text-align: right;\">\n",
       "      <th></th>\n",
       "      <th>user_id</th>\n",
       "      <th>user_name</th>\n",
       "      <th>year</th>\n",
       "      <th>month</th>\n",
       "      <th>day</th>\n",
       "      <th>hour</th>\n",
       "      <th>rating</th>\n",
       "      <th>text</th>\n",
       "      <th>restaurant_name</th>\n",
       "      <th>state</th>\n",
       "      <th>city</th>\n",
       "      <th>gmap_id</th>\n",
       "    </tr>\n",
       "  </thead>\n",
       "  <tbody>\n",
       "  </tbody>\n",
       "</table>\n",
       "</div>"
      ],
      "text/plain": [
       "Empty DataFrame\n",
       "Columns: [user_id, user_name, year, month, day, hour, rating, text, restaurant_name, state, city, gmap_id]\n",
       "Index: []"
      ]
     },
     "execution_count": 34,
     "metadata": {},
     "output_type": "execute_result"
    }
   ],
   "source": [
    "reviews[reviews['gmap_id']== '']"
   ]
  },
  {
   "cell_type": "markdown",
   "metadata": {},
   "source": [
    "Tras un análisis del dataframe \"reviews\" en busca de datos faltantes, se determinó que no existen ausencias de datos en ninguna parte del dataframe. Por consiguiente, se concluye que el dataframe presenta una alta calidad de datos."
   ]
  },
  {
   "cell_type": "markdown",
   "metadata": {},
   "source": [
    "*Datos faltantes dataframe \"user\"*"
   ]
  },
  {
   "cell_type": "code",
   "execution_count": 35,
   "metadata": {},
   "outputs": [
    {
     "data": {
      "text/html": [
       "<div>\n",
       "<style scoped>\n",
       "    .dataframe tbody tr th:only-of-type {\n",
       "        vertical-align: middle;\n",
       "    }\n",
       "\n",
       "    .dataframe tbody tr th {\n",
       "        vertical-align: top;\n",
       "    }\n",
       "\n",
       "    .dataframe thead th {\n",
       "        text-align: right;\n",
       "    }\n",
       "</style>\n",
       "<table border=\"1\" class=\"dataframe\">\n",
       "  <thead>\n",
       "    <tr style=\"text-align: right;\">\n",
       "      <th></th>\n",
       "      <th>user_id</th>\n",
       "      <th>user_name</th>\n",
       "      <th>review_count</th>\n",
       "      <th>average_rating</th>\n",
       "    </tr>\n",
       "  </thead>\n",
       "  <tbody>\n",
       "  </tbody>\n",
       "</table>\n",
       "</div>"
      ],
      "text/plain": [
       "Empty DataFrame\n",
       "Columns: [user_id, user_name, review_count, average_rating]\n",
       "Index: []"
      ]
     },
     "execution_count": 35,
     "metadata": {},
     "output_type": "execute_result"
    }
   ],
   "source": [
    "user[user['average_rating'] == '']"
   ]
  },
  {
   "cell_type": "markdown",
   "metadata": {},
   "source": [
    "Tras un análisis del dataframe \"user\" en busca de datos faltantes, se determinó que no existen ausencias de datos en ninguna parte del dataframe. Por consiguiente, se concluye que el dataframe presenta una alta calidad de datos."
   ]
  },
  {
   "cell_type": "markdown",
   "metadata": {},
   "source": [
    "**Verificación de datos \"Nulos\" de cada Dataframes de YELP.**"
   ]
  },
  {
   "cell_type": "markdown",
   "metadata": {},
   "source": [
    "*Nulos dataframe \"business\"*"
   ]
  },
  {
   "cell_type": "code",
   "execution_count": 36,
   "metadata": {},
   "outputs": [
    {
     "data": {
      "text/plain": [
       "id_business                             0\n",
       "name                                    0\n",
       "city                                    0\n",
       "state                                   0\n",
       "postal_code                             0\n",
       "latitude                                0\n",
       "longitude                               0\n",
       "stars                                   0\n",
       "review_count                            0\n",
       "categories                              0\n",
       "hours_Dataset_Business                  0\n",
       "first_category                          0\n",
       "Descripcion_BusinessAtributos     1763028\n",
       "Descripcion_BusinessCategorias    1273053\n",
       "date                              2466909\n",
       "compliment_count                  2466909\n",
       "dtype: int64"
      ]
     },
     "execution_count": 36,
     "metadata": {},
     "output_type": "execute_result"
    }
   ],
   "source": [
    "business.isnull().sum()"
   ]
  },
  {
   "cell_type": "markdown",
   "metadata": {},
   "source": [
    "Se identificaron millones de datos nulos en los campo 'Descripcion_BusinessAtributos', 'Descripcion_BusinessCategorias', 'date' y 'compliment_count' pero al ser campos temporales que están en supervisión no se tomará como un error por el momento"
   ]
  },
  {
   "cell_type": "markdown",
   "metadata": {},
   "source": [
    "*Datos nulos del dataframe \"Checkin\"*"
   ]
  },
  {
   "cell_type": "code",
   "execution_count": 37,
   "metadata": {},
   "outputs": [
    {
     "data": {
      "text/plain": [
       "business_id    0\n",
       "hour           0\n",
       "date           0\n",
       "year           0\n",
       "month          0\n",
       "dtype: int64"
      ]
     },
     "execution_count": 37,
     "metadata": {},
     "output_type": "execute_result"
    }
   ],
   "source": [
    "checkin.isnull().sum()"
   ]
  },
  {
   "cell_type": "markdown",
   "metadata": {},
   "source": [
    "Se realizó una verificación de todas las columnas del dataframe \"checkin\" en busca de datos nulos. El resultado reveló la ausencia total de datos nulos, lo cual equivale a un 0%, lo que nos lleva a concluir que la calidad de los datos en este término es óptima."
   ]
  },
  {
   "cell_type": "markdown",
   "metadata": {},
   "source": [
    "*Datos nulos del dataframe \"reviews_yelp\"*"
   ]
  },
  {
   "cell_type": "code",
   "execution_count": 38,
   "metadata": {},
   "outputs": [
    {
     "data": {
      "text/plain": [
       "user_id                        0\n",
       "stars_Dataset_Review           0\n",
       "useful                         0\n",
       "funny                          0\n",
       "cool                           0\n",
       "text                           0\n",
       "id_review                      0\n",
       "id_user                        0\n",
       "id_business                    0\n",
       "anho                           0\n",
       "mes                            0\n",
       "dia                            0\n",
       "hora                           0\n",
       "name                           0\n",
       "address                        0\n",
       "city                           0\n",
       "state                          0\n",
       "postal_code                    0\n",
       "latitude                       0\n",
       "longitude                      0\n",
       "stars_Dataset_Business         0\n",
       "review_count                   0\n",
       "is_open                        0\n",
       "attributes                103697\n",
       "categories                     0\n",
       "hours                     221507\n",
       "yelp_id                        0\n",
       "dtype: int64"
      ]
     },
     "execution_count": 38,
     "metadata": {},
     "output_type": "execute_result"
    }
   ],
   "source": [
    "reviews_yelp.isnull().sum()"
   ]
  },
  {
   "cell_type": "markdown",
   "metadata": {},
   "source": [
    "Se identificaron millones de datos nulos en los campo 'Descripcion_Businattributes' y 'hours' pero al ser campos temporales que están en supervisión no se tomará como un error por el momento"
   ]
  },
  {
   "cell_type": "markdown",
   "metadata": {},
   "source": [
    "*Datos nulos del dataframe \"tip\"*"
   ]
  },
  {
   "cell_type": "code",
   "execution_count": 39,
   "metadata": {},
   "outputs": [
    {
     "data": {
      "text/plain": [
       "id_user             0\n",
       "id_business         0\n",
       "text                0\n",
       "date                0\n",
       "compliment_count    0\n",
       "dtype: int64"
      ]
     },
     "execution_count": 39,
     "metadata": {},
     "output_type": "execute_result"
    }
   ],
   "source": [
    "tip.isnull().sum()"
   ]
  },
  {
   "cell_type": "markdown",
   "metadata": {},
   "source": [
    "Se realizó una verificación de todas las columnas del dataframe \"tip\" en busca de datos nulos. El resultado reveló la ausencia total de datos nulos, lo cual equivale a un 0%, lo que nos lleva a concluir que la calidad de los datos en este término es óptima."
   ]
  },
  {
   "cell_type": "markdown",
   "metadata": {},
   "source": [
    "*Datos nulos del dataframe \"user_yelp\"*"
   ]
  },
  {
   "cell_type": "code",
   "execution_count": 40,
   "metadata": {},
   "outputs": [
    {
     "data": {
      "text/plain": [
       "id_user          0\n",
       "years      1896699\n",
       "dtype: int64"
      ]
     },
     "execution_count": 40,
     "metadata": {},
     "output_type": "execute_result"
    }
   ],
   "source": [
    "user_yelp.isnull().sum()"
   ]
  },
  {
   "cell_type": "markdown",
   "metadata": {},
   "source": [
    "La alta cantidad de nulos es por la estructura del dataset"
   ]
  },
  {
   "cell_type": "markdown",
   "metadata": {},
   "source": [
    "**Verificación de datos duplicados de YELP**"
   ]
  },
  {
   "cell_type": "markdown",
   "metadata": {},
   "source": [
    "*Datos duplicados del dataframe \"business\""
   ]
  },
  {
   "cell_type": "code",
   "execution_count": 48,
   "metadata": {},
   "outputs": [
    {
     "data": {
      "text/html": [
       "<div>\n",
       "<style scoped>\n",
       "    .dataframe tbody tr th:only-of-type {\n",
       "        vertical-align: middle;\n",
       "    }\n",
       "\n",
       "    .dataframe tbody tr th {\n",
       "        vertical-align: top;\n",
       "    }\n",
       "\n",
       "    .dataframe thead th {\n",
       "        text-align: right;\n",
       "    }\n",
       "</style>\n",
       "<table border=\"1\" class=\"dataframe\">\n",
       "  <thead>\n",
       "    <tr style=\"text-align: right;\">\n",
       "      <th></th>\n",
       "      <th>id_business</th>\n",
       "      <th>name</th>\n",
       "      <th>city</th>\n",
       "      <th>state</th>\n",
       "      <th>postal_code</th>\n",
       "      <th>latitude</th>\n",
       "      <th>longitude</th>\n",
       "      <th>stars</th>\n",
       "      <th>review_count</th>\n",
       "      <th>categories</th>\n",
       "      <th>hours_Dataset_Business</th>\n",
       "      <th>first_category</th>\n",
       "      <th>Descripcion_BusinessAtributos</th>\n",
       "      <th>Descripcion_BusinessCategorias</th>\n",
       "      <th>date</th>\n",
       "      <th>compliment_count</th>\n",
       "    </tr>\n",
       "  </thead>\n",
       "  <tbody>\n",
       "  </tbody>\n",
       "</table>\n",
       "</div>"
      ],
      "text/plain": [
       "Empty DataFrame\n",
       "Columns: [id_business, name, city, state, postal_code, latitude, longitude, stars, review_count, categories, hours_Dataset_Business, first_category, Descripcion_BusinessAtributos, Descripcion_BusinessCategorias, date, compliment_count]\n",
       "Index: []"
      ]
     },
     "execution_count": 48,
     "metadata": {},
     "output_type": "execute_result"
    }
   ],
   "source": [
    "# duplicados = business[business.duplicated(subset=['address', 'latitude', 'longitude'], keep=False) & ~business.duplicated(subset=['address', 'latitude', 'longitude', 'state'], keep=False)]\n",
    "duplicados = business[business.duplicated(subset=['latitude', 'longitude'], keep=False) & ~business.duplicated(subset=['latitude', 'longitude', 'state'], keep=False)]\n",
    "duplicados"
   ]
  },
  {
   "cell_type": "code",
   "execution_count": 50,
   "metadata": {},
   "outputs": [
    {
     "data": {
      "text/html": [
       "<div>\n",
       "<style scoped>\n",
       "    .dataframe tbody tr th:only-of-type {\n",
       "        vertical-align: middle;\n",
       "    }\n",
       "\n",
       "    .dataframe tbody tr th {\n",
       "        vertical-align: top;\n",
       "    }\n",
       "\n",
       "    .dataframe thead th {\n",
       "        text-align: right;\n",
       "    }\n",
       "</style>\n",
       "<table border=\"1\" class=\"dataframe\">\n",
       "  <thead>\n",
       "    <tr style=\"text-align: right;\">\n",
       "      <th></th>\n",
       "      <th>id_business</th>\n",
       "      <th>name</th>\n",
       "      <th>city</th>\n",
       "      <th>state</th>\n",
       "      <th>postal_code</th>\n",
       "      <th>latitude</th>\n",
       "      <th>longitude</th>\n",
       "      <th>stars</th>\n",
       "      <th>review_count</th>\n",
       "      <th>categories</th>\n",
       "      <th>hours_Dataset_Business</th>\n",
       "      <th>first_category</th>\n",
       "      <th>Descripcion_BusinessAtributos</th>\n",
       "      <th>Descripcion_BusinessCategorias</th>\n",
       "      <th>date</th>\n",
       "      <th>compliment_count</th>\n",
       "    </tr>\n",
       "  </thead>\n",
       "  <tbody>\n",
       "    <tr>\n",
       "      <th>0</th>\n",
       "      <td>0</td>\n",
       "      <td>Abby Rappoport, LAC, CMQ</td>\n",
       "      <td>Santa Barbara</td>\n",
       "      <td>California</td>\n",
       "      <td>93101</td>\n",
       "      <td>34.426679</td>\n",
       "      <td>-119.711197</td>\n",
       "      <td>5.0</td>\n",
       "      <td>7</td>\n",
       "      <td>Doctors, Traditional Chinese Medicine, Naturop...</td>\n",
       "      <td>{'Friday': '9:0-20:0', 'Monday': '9:0-20:0', '...</td>\n",
       "      <td>Doctors</td>\n",
       "      <td>ByAppointmentOnly</td>\n",
       "      <td>Doctors</td>\n",
       "      <td>None</td>\n",
       "      <td>NaN</td>\n",
       "    </tr>\n",
       "    <tr>\n",
       "      <th>1</th>\n",
       "      <td>0</td>\n",
       "      <td>Abby Rappoport, LAC, CMQ</td>\n",
       "      <td>Santa Barbara</td>\n",
       "      <td>California</td>\n",
       "      <td>93101</td>\n",
       "      <td>34.426679</td>\n",
       "      <td>-119.711197</td>\n",
       "      <td>5.0</td>\n",
       "      <td>7</td>\n",
       "      <td>Doctors, Traditional Chinese Medicine, Naturop...</td>\n",
       "      <td>{'Friday': '9:0-20:0', 'Monday': '9:0-20:0', '...</td>\n",
       "      <td>Doctors</td>\n",
       "      <td>ByAppointmentOnly</td>\n",
       "      <td>Traditional Chinese Medicine</td>\n",
       "      <td>None</td>\n",
       "      <td>NaN</td>\n",
       "    </tr>\n",
       "    <tr>\n",
       "      <th>2</th>\n",
       "      <td>0</td>\n",
       "      <td>Abby Rappoport, LAC, CMQ</td>\n",
       "      <td>Santa Barbara</td>\n",
       "      <td>California</td>\n",
       "      <td>93101</td>\n",
       "      <td>34.426679</td>\n",
       "      <td>-119.711197</td>\n",
       "      <td>5.0</td>\n",
       "      <td>7</td>\n",
       "      <td>Doctors, Traditional Chinese Medicine, Naturop...</td>\n",
       "      <td>{'Friday': '9:0-20:0', 'Monday': '9:0-20:0', '...</td>\n",
       "      <td>Doctors</td>\n",
       "      <td>ByAppointmentOnly</td>\n",
       "      <td>Naturopathic/Holistic</td>\n",
       "      <td>None</td>\n",
       "      <td>NaN</td>\n",
       "    </tr>\n",
       "    <tr>\n",
       "      <th>3</th>\n",
       "      <td>0</td>\n",
       "      <td>Abby Rappoport, LAC, CMQ</td>\n",
       "      <td>Santa Barbara</td>\n",
       "      <td>California</td>\n",
       "      <td>93101</td>\n",
       "      <td>34.426679</td>\n",
       "      <td>-119.711197</td>\n",
       "      <td>5.0</td>\n",
       "      <td>7</td>\n",
       "      <td>Doctors, Traditional Chinese Medicine, Naturop...</td>\n",
       "      <td>{'Friday': '9:0-20:0', 'Monday': '9:0-20:0', '...</td>\n",
       "      <td>Doctors</td>\n",
       "      <td>ByAppointmentOnly</td>\n",
       "      <td>Acupuncture</td>\n",
       "      <td>None</td>\n",
       "      <td>NaN</td>\n",
       "    </tr>\n",
       "    <tr>\n",
       "      <th>4</th>\n",
       "      <td>0</td>\n",
       "      <td>Abby Rappoport, LAC, CMQ</td>\n",
       "      <td>Santa Barbara</td>\n",
       "      <td>California</td>\n",
       "      <td>93101</td>\n",
       "      <td>34.426679</td>\n",
       "      <td>-119.711197</td>\n",
       "      <td>5.0</td>\n",
       "      <td>7</td>\n",
       "      <td>Doctors, Traditional Chinese Medicine, Naturop...</td>\n",
       "      <td>{'Friday': '9:0-20:0', 'Monday': '9:0-20:0', '...</td>\n",
       "      <td>Doctors</td>\n",
       "      <td>ByAppointmentOnly</td>\n",
       "      <td>Health &amp; Medical</td>\n",
       "      <td>None</td>\n",
       "      <td>NaN</td>\n",
       "    </tr>\n",
       "    <tr>\n",
       "      <th>...</th>\n",
       "      <td>...</td>\n",
       "      <td>...</td>\n",
       "      <td>...</td>\n",
       "      <td>...</td>\n",
       "      <td>...</td>\n",
       "      <td>...</td>\n",
       "      <td>...</td>\n",
       "      <td>...</td>\n",
       "      <td>...</td>\n",
       "      <td>...</td>\n",
       "      <td>...</td>\n",
       "      <td>...</td>\n",
       "      <td>...</td>\n",
       "      <td>...</td>\n",
       "      <td>...</td>\n",
       "      <td>...</td>\n",
       "    </tr>\n",
       "    <tr>\n",
       "      <th>61365587</th>\n",
       "      <td>150345</td>\n",
       "      <td>Sic Ink</td>\n",
       "      <td>Apollo beach</td>\n",
       "      <td>Florida</td>\n",
       "      <td>33572</td>\n",
       "      <td>27.771002</td>\n",
       "      <td>-82.394910</td>\n",
       "      <td>4.5</td>\n",
       "      <td>9</td>\n",
       "      <td>Beauty &amp; Spas, Permanent Makeup, Piercing, Tattoo</td>\n",
       "      <td>{'Friday': '12:0-19:0', 'Monday': None, 'Satur...</td>\n",
       "      <td>Beauty &amp; Spas</td>\n",
       "      <td>None</td>\n",
       "      <td>None</td>\n",
       "      <td>None</td>\n",
       "      <td>NaN</td>\n",
       "    </tr>\n",
       "    <tr>\n",
       "      <th>61365588</th>\n",
       "      <td>150345</td>\n",
       "      <td>Sic Ink</td>\n",
       "      <td>Apollo beach</td>\n",
       "      <td>Florida</td>\n",
       "      <td>33572</td>\n",
       "      <td>27.771002</td>\n",
       "      <td>-82.394910</td>\n",
       "      <td>4.5</td>\n",
       "      <td>9</td>\n",
       "      <td>Beauty &amp; Spas, Permanent Makeup, Piercing, Tattoo</td>\n",
       "      <td>{'Friday': '12:0-19:0', 'Monday': None, 'Satur...</td>\n",
       "      <td>Beauty &amp; Spas</td>\n",
       "      <td>None</td>\n",
       "      <td>None</td>\n",
       "      <td>None</td>\n",
       "      <td>NaN</td>\n",
       "    </tr>\n",
       "    <tr>\n",
       "      <th>61365589</th>\n",
       "      <td>150345</td>\n",
       "      <td>Sic Ink</td>\n",
       "      <td>Apollo beach</td>\n",
       "      <td>Florida</td>\n",
       "      <td>33572</td>\n",
       "      <td>27.771002</td>\n",
       "      <td>-82.394910</td>\n",
       "      <td>4.5</td>\n",
       "      <td>9</td>\n",
       "      <td>Beauty &amp; Spas, Permanent Makeup, Piercing, Tattoo</td>\n",
       "      <td>{'Friday': '12:0-19:0', 'Monday': None, 'Satur...</td>\n",
       "      <td>Beauty &amp; Spas</td>\n",
       "      <td>None</td>\n",
       "      <td>None</td>\n",
       "      <td>None</td>\n",
       "      <td>NaN</td>\n",
       "    </tr>\n",
       "    <tr>\n",
       "      <th>61365590</th>\n",
       "      <td>150345</td>\n",
       "      <td>Sic Ink</td>\n",
       "      <td>Apollo beach</td>\n",
       "      <td>Florida</td>\n",
       "      <td>33572</td>\n",
       "      <td>27.771002</td>\n",
       "      <td>-82.394910</td>\n",
       "      <td>4.5</td>\n",
       "      <td>9</td>\n",
       "      <td>Beauty &amp; Spas, Permanent Makeup, Piercing, Tattoo</td>\n",
       "      <td>{'Friday': '12:0-19:0', 'Monday': None, 'Satur...</td>\n",
       "      <td>Beauty &amp; Spas</td>\n",
       "      <td>None</td>\n",
       "      <td>None</td>\n",
       "      <td>None</td>\n",
       "      <td>NaN</td>\n",
       "    </tr>\n",
       "    <tr>\n",
       "      <th>61365591</th>\n",
       "      <td>150345</td>\n",
       "      <td>Sic Ink</td>\n",
       "      <td>Apollo beach</td>\n",
       "      <td>Florida</td>\n",
       "      <td>33572</td>\n",
       "      <td>27.771002</td>\n",
       "      <td>-82.394910</td>\n",
       "      <td>4.5</td>\n",
       "      <td>9</td>\n",
       "      <td>Beauty &amp; Spas, Permanent Makeup, Piercing, Tattoo</td>\n",
       "      <td>{'Friday': '12:0-19:0', 'Monday': None, 'Satur...</td>\n",
       "      <td>Beauty &amp; Spas</td>\n",
       "      <td>None</td>\n",
       "      <td>None</td>\n",
       "      <td>None</td>\n",
       "      <td>NaN</td>\n",
       "    </tr>\n",
       "  </tbody>\n",
       "</table>\n",
       "<p>61365592 rows × 16 columns</p>\n",
       "</div>"
      ],
      "text/plain": [
       "          id_business                      name           city       state  \\\n",
       "0                   0  Abby Rappoport, LAC, CMQ  Santa Barbara  California   \n",
       "1                   0  Abby Rappoport, LAC, CMQ  Santa Barbara  California   \n",
       "2                   0  Abby Rappoport, LAC, CMQ  Santa Barbara  California   \n",
       "3                   0  Abby Rappoport, LAC, CMQ  Santa Barbara  California   \n",
       "4                   0  Abby Rappoport, LAC, CMQ  Santa Barbara  California   \n",
       "...               ...                       ...            ...         ...   \n",
       "61365587       150345                   Sic Ink   Apollo beach     Florida   \n",
       "61365588       150345                   Sic Ink   Apollo beach     Florida   \n",
       "61365589       150345                   Sic Ink   Apollo beach     Florida   \n",
       "61365590       150345                   Sic Ink   Apollo beach     Florida   \n",
       "61365591       150345                   Sic Ink   Apollo beach     Florida   \n",
       "\n",
       "          postal_code   latitude   longitude  stars  review_count  \\\n",
       "0               93101  34.426679 -119.711197    5.0             7   \n",
       "1               93101  34.426679 -119.711197    5.0             7   \n",
       "2               93101  34.426679 -119.711197    5.0             7   \n",
       "3               93101  34.426679 -119.711197    5.0             7   \n",
       "4               93101  34.426679 -119.711197    5.0             7   \n",
       "...               ...        ...         ...    ...           ...   \n",
       "61365587        33572  27.771002  -82.394910    4.5             9   \n",
       "61365588        33572  27.771002  -82.394910    4.5             9   \n",
       "61365589        33572  27.771002  -82.394910    4.5             9   \n",
       "61365590        33572  27.771002  -82.394910    4.5             9   \n",
       "61365591        33572  27.771002  -82.394910    4.5             9   \n",
       "\n",
       "                                                 categories  \\\n",
       "0         Doctors, Traditional Chinese Medicine, Naturop...   \n",
       "1         Doctors, Traditional Chinese Medicine, Naturop...   \n",
       "2         Doctors, Traditional Chinese Medicine, Naturop...   \n",
       "3         Doctors, Traditional Chinese Medicine, Naturop...   \n",
       "4         Doctors, Traditional Chinese Medicine, Naturop...   \n",
       "...                                                     ...   \n",
       "61365587  Beauty & Spas, Permanent Makeup, Piercing, Tattoo   \n",
       "61365588  Beauty & Spas, Permanent Makeup, Piercing, Tattoo   \n",
       "61365589  Beauty & Spas, Permanent Makeup, Piercing, Tattoo   \n",
       "61365590  Beauty & Spas, Permanent Makeup, Piercing, Tattoo   \n",
       "61365591  Beauty & Spas, Permanent Makeup, Piercing, Tattoo   \n",
       "\n",
       "                                     hours_Dataset_Business first_category  \\\n",
       "0         {'Friday': '9:0-20:0', 'Monday': '9:0-20:0', '...        Doctors   \n",
       "1         {'Friday': '9:0-20:0', 'Monday': '9:0-20:0', '...        Doctors   \n",
       "2         {'Friday': '9:0-20:0', 'Monday': '9:0-20:0', '...        Doctors   \n",
       "3         {'Friday': '9:0-20:0', 'Monday': '9:0-20:0', '...        Doctors   \n",
       "4         {'Friday': '9:0-20:0', 'Monday': '9:0-20:0', '...        Doctors   \n",
       "...                                                     ...            ...   \n",
       "61365587  {'Friday': '12:0-19:0', 'Monday': None, 'Satur...  Beauty & Spas   \n",
       "61365588  {'Friday': '12:0-19:0', 'Monday': None, 'Satur...  Beauty & Spas   \n",
       "61365589  {'Friday': '12:0-19:0', 'Monday': None, 'Satur...  Beauty & Spas   \n",
       "61365590  {'Friday': '12:0-19:0', 'Monday': None, 'Satur...  Beauty & Spas   \n",
       "61365591  {'Friday': '12:0-19:0', 'Monday': None, 'Satur...  Beauty & Spas   \n",
       "\n",
       "         Descripcion_BusinessAtributos Descripcion_BusinessCategorias  date  \\\n",
       "0                    ByAppointmentOnly                        Doctors  None   \n",
       "1                    ByAppointmentOnly   Traditional Chinese Medicine  None   \n",
       "2                    ByAppointmentOnly          Naturopathic/Holistic  None   \n",
       "3                    ByAppointmentOnly                    Acupuncture  None   \n",
       "4                    ByAppointmentOnly               Health & Medical  None   \n",
       "...                                ...                            ...   ...   \n",
       "61365587                          None                           None  None   \n",
       "61365588                          None                           None  None   \n",
       "61365589                          None                           None  None   \n",
       "61365590                          None                           None  None   \n",
       "61365591                          None                           None  None   \n",
       "\n",
       "          compliment_count  \n",
       "0                      NaN  \n",
       "1                      NaN  \n",
       "2                      NaN  \n",
       "3                      NaN  \n",
       "4                      NaN  \n",
       "...                    ...  \n",
       "61365587               NaN  \n",
       "61365588               NaN  \n",
       "61365589               NaN  \n",
       "61365590               NaN  \n",
       "61365591               NaN  \n",
       "\n",
       "[61365592 rows x 16 columns]"
      ]
     },
     "execution_count": 50,
     "metadata": {},
     "output_type": "execute_result"
    }
   ],
   "source": [
    "business"
   ]
  },
  {
   "cell_type": "code",
   "execution_count": null,
   "metadata": {},
   "outputs": [],
   "source": [
    "# duplicados = business[business.duplicated(subset='address') & business.duplicated(subset='latitude') & business.duplicated(subset='longitude')].value_counts()\n",
    "# duplicados = business[business.duplicated(subset=['latitude']) & business.duplicated(subset=['longitude'])].value_counts()\n",
    "# duplicados = business[business.duplicated(subset=['latitude', 'longitude'])].value_counts()\n",
    "# duplicados"
   ]
  },
  {
   "cell_type": "code",
   "execution_count": null,
   "metadata": {},
   "outputs": [],
   "source": [
    "# business[business['address'] == '8522 Eager Road, Dierbergs Brentwood Point']"
   ]
  },
  {
   "cell_type": "markdown",
   "metadata": {},
   "source": [
    "~~En la verificación de datos duplicados se encontró con datos duplicados tienen una misma dirección, misma latitud, longitud pero diferente Estado, pudiendo considerar que existe algún tipo de irregularidad en esos registros, los cuales son 42,542 equivalente a un 34.09%de un total de 124,757. Teniendo un 82.95% de datos que no se encuentra duplicados, considerando la calidad de los datos como media.~~"
   ]
  },
  {
   "cell_type": "markdown",
   "metadata": {},
   "source": [
    "*Datos duplicados del dataframe \"checkin\"*"
   ]
  },
  {
   "cell_type": "code",
   "execution_count": 8,
   "metadata": {},
   "outputs": [
    {
     "data": {
      "text/html": [
       "<div>\n",
       "<style scoped>\n",
       "    .dataframe tbody tr th:only-of-type {\n",
       "        vertical-align: middle;\n",
       "    }\n",
       "\n",
       "    .dataframe tbody tr th {\n",
       "        vertical-align: top;\n",
       "    }\n",
       "\n",
       "    .dataframe thead th {\n",
       "        text-align: right;\n",
       "    }\n",
       "</style>\n",
       "<table border=\"1\" class=\"dataframe\">\n",
       "  <thead>\n",
       "    <tr style=\"text-align: right;\">\n",
       "      <th></th>\n",
       "      <th>business_id</th>\n",
       "      <th>hour</th>\n",
       "      <th>date</th>\n",
       "      <th>year</th>\n",
       "      <th>month</th>\n",
       "    </tr>\n",
       "  </thead>\n",
       "  <tbody>\n",
       "  </tbody>\n",
       "</table>\n",
       "</div>"
      ],
      "text/plain": [
       "Empty DataFrame\n",
       "Columns: [business_id, hour, date, year, month]\n",
       "Index: []"
      ]
     },
     "execution_count": 8,
     "metadata": {},
     "output_type": "execute_result"
    }
   ],
   "source": [
    "duplicados1 = checkin[checkin.duplicated(subset=['business_id', 'hour', 'date'], keep=False)]\n",
    "duplicados1"
   ]
  },
  {
   "cell_type": "markdown",
   "metadata": {},
   "source": [
    "Una vez terminada la verificación de los datos duplicados en el dataframe “checkin” se encontraron la cantidad de 0 de datos duplicados con lo cual concluimos que se tiene una  buena calidad de datos."
   ]
  },
  {
   "cell_type": "markdown",
   "metadata": {},
   "source": [
    "*Duplicados del dataframe \"reviews_yelp\"*"
   ]
  },
  {
   "cell_type": "code",
   "execution_count": 13,
   "metadata": {},
   "outputs": [
    {
     "data": {
      "text/html": [
       "<div>\n",
       "<style scoped>\n",
       "    .dataframe tbody tr th:only-of-type {\n",
       "        vertical-align: middle;\n",
       "    }\n",
       "\n",
       "    .dataframe tbody tr th {\n",
       "        vertical-align: top;\n",
       "    }\n",
       "\n",
       "    .dataframe thead th {\n",
       "        text-align: right;\n",
       "    }\n",
       "</style>\n",
       "<table border=\"1\" class=\"dataframe\">\n",
       "  <thead>\n",
       "    <tr style=\"text-align: right;\">\n",
       "      <th></th>\n",
       "      <th>user_id</th>\n",
       "      <th>stars_Dataset_Review</th>\n",
       "      <th>useful</th>\n",
       "      <th>funny</th>\n",
       "      <th>cool</th>\n",
       "      <th>text</th>\n",
       "      <th>id_review</th>\n",
       "      <th>id_user</th>\n",
       "      <th>id_business</th>\n",
       "      <th>anho</th>\n",
       "      <th>mes</th>\n",
       "      <th>dia</th>\n",
       "      <th>hora</th>\n",
       "      <th>name</th>\n",
       "      <th>address</th>\n",
       "      <th>city</th>\n",
       "      <th>state</th>\n",
       "      <th>postal_code</th>\n",
       "      <th>latitude</th>\n",
       "      <th>longitude</th>\n",
       "      <th>stars_Dataset_Business</th>\n",
       "      <th>review_count</th>\n",
       "      <th>is_open</th>\n",
       "      <th>attributes</th>\n",
       "      <th>categories</th>\n",
       "      <th>hours</th>\n",
       "      <th>yelp_id</th>\n",
       "    </tr>\n",
       "  </thead>\n",
       "  <tbody>\n",
       "    <tr>\n",
       "      <th>0</th>\n",
       "      <td>mh_-eMZ6K5RLWhZyISBhwA</td>\n",
       "      <td>3.0</td>\n",
       "      <td>0</td>\n",
       "      <td>0</td>\n",
       "      <td>0</td>\n",
       "      <td>If you decide to eat here, just be aware it is going to take about 2 hours from beginning to end. We have tried it multiple times, because I want to like it! I have been to it's other locations in NJ and never had a bad experience. \\n\\nThe food is good, but it takes a very long time to come out. The waitstaff is very young, but usually pleasant. We have just had too many experiences where we spent way too long waiting. We usually opt for another diner or restaurant on the weekends, in order to be done quicker.</td>\n",
       "      <td>0</td>\n",
       "      <td>124234</td>\n",
       "      <td>1867</td>\n",
       "      <td>2018</td>\n",
       "      <td>07</td>\n",
       "      <td>07</td>\n",
       "      <td>22:09:11</td>\n",
       "      <td>Turning Point of North Wales</td>\n",
       "      <td>1460 Bethlehem Pike</td>\n",
       "      <td>North Wales</td>\n",
       "      <td>Pennsylvania</td>\n",
       "      <td>19454</td>\n",
       "      <td>40.210196</td>\n",
       "      <td>-75.223639</td>\n",
       "      <td>3.0</td>\n",
       "      <td>169</td>\n",
       "      <td>1</td>\n",
       "      <td>{'AcceptsInsurance': None, 'AgesAllowed': None, 'Alcohol': ''none'', 'Ambience': '{'touristy': False, 'hipster': False, 'romantic': False, 'divey': False, 'intimate': False, 'trendy': False, 'upscale': False, 'classy': False, 'casual': True}', 'BYOB': None, 'BYOBCorkage': None, 'BestNights': None, 'BikeParking': 'False', 'BusinessAcceptsBitcoin': 'False', 'BusinessAcceptsCreditCards': 'True', 'BusinessParking': '{'garage': False, 'street': False, 'validated': False, 'lot': True, 'valet': False}', 'ByAppointmentOnly': None, 'Caters': 'False', 'CoatCheck': None, 'Corkage': None, 'DietaryRestrictions': None, 'DogsAllowed': 'False', 'DriveThru': None, 'GoodForDancing': None, 'GoodForKids': 'True', 'GoodForMeal': '{'dessert': False, 'latenight': False, 'lunch': True, 'dinner': False, 'brunch': True, 'breakfast': True}', 'HairSpecializesIn': None, 'HappyHour': 'False', 'HasTV': 'False', 'Music': None, 'NoiseLevel': 'u'average'', 'Open24Hours': None, 'OutdoorSeating': 'True', 'Restaurants...</td>\n",
       "      <td>Restaurants, Breakfast &amp; Brunch, Food, Juice Bars &amp; Smoothies, American (New), Coffee &amp; Tea, Sandwiches</td>\n",
       "      <td>{'Friday': '7:30-15:0', 'Monday': '7:30-15:0', 'Saturday': '7:30-15:0', 'Sunday': '7:30-15:0', 'Thursday': '7:30-15:0', 'Tuesday': '7:30-15:0', 'Wednesday': '7:30-15:0'}</td>\n",
       "      <td>mh_-eMZ6K5RLWhZyISBhwA</td>\n",
       "    </tr>\n",
       "    <tr>\n",
       "      <th>1</th>\n",
       "      <td>OyoGAe7OKpv6SyGZT5g77Q</td>\n",
       "      <td>5.0</td>\n",
       "      <td>1</td>\n",
       "      <td>0</td>\n",
       "      <td>1</td>\n",
       "      <td>I've taken a lot of spin classes over the years, and nothing compares to the classes at Body Cycle. From the nice, clean space and amazing bikes, to the welcoming and motivating instructors, every class is a top notch work out.\\n\\nFor anyone who struggles to fit workouts in, the online scheduling system makes it easy to plan ahead (and there's no need to line up way in advanced like many gyms make you do).\\n\\nThere is no way I can write this review without giving Russell, the owner of Body Cycle, a shout out. Russell's passion for fitness and cycling is so evident, as is his desire for all of his clients to succeed. He is always dropping in to classes to check in/provide encouragement, and is open to ideas and recommendations from anyone. Russell always wears a smile on his face, even when he's kicking your butt in class!</td>\n",
       "      <td>1</td>\n",
       "      <td>51327</td>\n",
       "      <td>12886</td>\n",
       "      <td>2012</td>\n",
       "      <td>01</td>\n",
       "      <td>03</td>\n",
       "      <td>15:28:18</td>\n",
       "      <td>Body Cycle Spinning Studio</td>\n",
       "      <td>1923 Chestnut St, 2nd Fl</td>\n",
       "      <td>Philadelphia</td>\n",
       "      <td>Pennsylvania</td>\n",
       "      <td>19119</td>\n",
       "      <td>39.952103</td>\n",
       "      <td>-75.172753</td>\n",
       "      <td>5.0</td>\n",
       "      <td>144</td>\n",
       "      <td>0</td>\n",
       "      <td>{'AcceptsInsurance': None, 'AgesAllowed': None, 'Alcohol': None, 'Ambience': None, 'BYOB': None, 'BYOBCorkage': None, 'BestNights': None, 'BikeParking': 'True', 'BusinessAcceptsBitcoin': None, 'BusinessAcceptsCreditCards': 'True', 'BusinessParking': '{'garage': False, 'street': True, 'validated': False, 'lot': False, 'valet': False}', 'ByAppointmentOnly': 'False', 'Caters': None, 'CoatCheck': None, 'Corkage': None, 'DietaryRestrictions': None, 'DogsAllowed': None, 'DriveThru': None, 'GoodForDancing': None, 'GoodForKids': 'False', 'GoodForMeal': None, 'HairSpecializesIn': None, 'HappyHour': None, 'HasTV': None, 'Music': None, 'NoiseLevel': None, 'Open24Hours': None, 'OutdoorSeating': None, 'RestaurantsAttire': None, 'RestaurantsCounterService': None, 'RestaurantsDelivery': None, 'RestaurantsGoodForGroups': None, 'RestaurantsPriceRange2': None, 'RestaurantsReservations': None, 'RestaurantsTableService': None, 'RestaurantsTakeOut': None, 'Smoking': None, 'WheelchairAccessible': None, ...</td>\n",
       "      <td>Active Life, Cycling Classes, Trainers, Gyms, Fitness &amp; Instruction</td>\n",
       "      <td>{'Friday': '6:0-19:30', 'Monday': '6:30-20:30', 'Saturday': '7:30-12:30', 'Sunday': '9:0-13:0', 'Thursday': '6:30-20:30', 'Tuesday': '6:30-20:30', 'Wednesday': '6:0-20:30'}</td>\n",
       "      <td>OyoGAe7OKpv6SyGZT5g77Q</td>\n",
       "    </tr>\n",
       "    <tr>\n",
       "      <th>2</th>\n",
       "      <td>_7bHUi9Uuf5__HHc_Q8guQ</td>\n",
       "      <td>5.0</td>\n",
       "      <td>1</td>\n",
       "      <td>0</td>\n",
       "      <td>1</td>\n",
       "      <td>Wow!  Yummy, different,  delicious.   Our favorite is the lamb curry and korma.  With 10 different kinds of naan!!!  Don't let the outside deter you (because we almost changed our minds)...go in and try something new!   You'll be glad you did!</td>\n",
       "      <td>3</td>\n",
       "      <td>164430</td>\n",
       "      <td>6316</td>\n",
       "      <td>2015</td>\n",
       "      <td>01</td>\n",
       "      <td>04</td>\n",
       "      <td>00:01:03</td>\n",
       "      <td>Zaika</td>\n",
       "      <td>2481 Grant Ave</td>\n",
       "      <td>Philadelphia</td>\n",
       "      <td>Pennsylvania</td>\n",
       "      <td>19114</td>\n",
       "      <td>40.079848</td>\n",
       "      <td>-75.025080</td>\n",
       "      <td>4.0</td>\n",
       "      <td>181</td>\n",
       "      <td>1</td>\n",
       "      <td>{'AcceptsInsurance': None, 'AgesAllowed': None, 'Alcohol': 'u'none'', 'Ambience': '{'romantic': False, 'intimate': False, 'touristy': False, 'hipster': False, 'divey': False, 'classy': False, 'trendy': False, 'upscale': False, 'casual': True}', 'BYOB': None, 'BYOBCorkage': None, 'BestNights': None, 'BikeParking': 'True', 'BusinessAcceptsBitcoin': 'False', 'BusinessAcceptsCreditCards': 'True', 'BusinessParking': '{'garage': False, 'street': False, 'validated': False, 'lot': True, 'valet': False}', 'ByAppointmentOnly': 'False', 'Caters': 'True', 'CoatCheck': None, 'Corkage': None, 'DietaryRestrictions': None, 'DogsAllowed': None, 'DriveThru': None, 'GoodForDancing': None, 'GoodForKids': 'True', 'GoodForMeal': '{'dessert': False, 'latenight': False, 'lunch': True, 'dinner': True, 'brunch': False, 'breakfast': False}', 'HairSpecializesIn': None, 'HappyHour': None, 'HasTV': 'False', 'Music': None, 'NoiseLevel': 'u'average'', 'Open24Hours': None, 'OutdoorSeating': 'False', 'RestaurantsAt...</td>\n",
       "      <td>Halal, Pakistani, Restaurants, Indian</td>\n",
       "      <td>{'Friday': '11:0-22:0', 'Monday': None, 'Saturday': '11:0-22:0', 'Sunday': '11:0-21:0', 'Thursday': '11:0-21:0', 'Tuesday': '11:0-21:0', 'Wednesday': '11:0-21:0'}</td>\n",
       "      <td>_7bHUi9Uuf5__HHc_Q8guQ</td>\n",
       "    </tr>\n",
       "    <tr>\n",
       "      <th>3</th>\n",
       "      <td>eUta8W_HdHMXPzLBBZhL1A</td>\n",
       "      <td>1.0</td>\n",
       "      <td>1</td>\n",
       "      <td>2</td>\n",
       "      <td>1</td>\n",
       "      <td>I am a long term frequent customer of this establishment. I just went in to order take out (3 apps) and was told they're too busy to do it. Really? The place is maybe half full at best. Does your dick reach your ass? Yes? Go fuck yourself! I'm a frequent customer AND great tipper. Glad that Kanella just opened. NEVER going back to dmitris!</td>\n",
       "      <td>5</td>\n",
       "      <td>132438</td>\n",
       "      <td>2763</td>\n",
       "      <td>2015</td>\n",
       "      <td>09</td>\n",
       "      <td>23</td>\n",
       "      <td>23:10:31</td>\n",
       "      <td>Dmitri's</td>\n",
       "      <td>795 S 3rd St</td>\n",
       "      <td>Philadelphia</td>\n",
       "      <td>Pennsylvania</td>\n",
       "      <td>19147</td>\n",
       "      <td>39.938013</td>\n",
       "      <td>-75.148131</td>\n",
       "      <td>4.0</td>\n",
       "      <td>273</td>\n",
       "      <td>0</td>\n",
       "      <td>{'AcceptsInsurance': None, 'AgesAllowed': None, 'Alcohol': ''none'', 'Ambience': '{'touristy': False, 'hipster': False, 'romantic': None, 'divey': False, 'intimate': None, 'trendy': False, 'upscale': False, 'classy': False, 'casual': True}', 'BYOB': None, 'BYOBCorkage': ''yes_free'', 'BestNights': None, 'BikeParking': 'True', 'BusinessAcceptsBitcoin': None, 'BusinessAcceptsCreditCards': 'False', 'BusinessParking': '{'garage': False, 'street': True, 'validated': False, 'lot': False, 'valet': False}', 'ByAppointmentOnly': None, 'Caters': 'False', 'CoatCheck': None, 'Corkage': None, 'DietaryRestrictions': None, 'DogsAllowed': None, 'DriveThru': None, 'GoodForDancing': None, 'GoodForKids': 'False', 'GoodForMeal': '{'dessert': False, 'latenight': False, 'lunch': False, 'dinner': True, 'brunch': False, 'breakfast': False}', 'HairSpecializesIn': None, 'HappyHour': 'False', 'HasTV': 'False', 'Music': None, 'NoiseLevel': 'u'average'', 'Open24Hours': None, 'OutdoorSeating': 'False', 'Restaur...</td>\n",
       "      <td>Mediterranean, Restaurants, Seafood, Greek</td>\n",
       "      <td>{'Friday': '17:30-22:0', 'Monday': None, 'Saturday': '17:30-22:0', 'Sunday': '17:0-21:0', 'Thursday': '17:30-21:0', 'Tuesday': None, 'Wednesday': '17:30-21:0'}</td>\n",
       "      <td>eUta8W_HdHMXPzLBBZhL1A</td>\n",
       "    </tr>\n",
       "    <tr>\n",
       "      <th>4</th>\n",
       "      <td>yfFzsLmaWF2d4Sr0UNbBgg</td>\n",
       "      <td>5.0</td>\n",
       "      <td>2</td>\n",
       "      <td>0</td>\n",
       "      <td>0</td>\n",
       "      <td>Amazingly amazing wings and homemade bleu cheese. Had the ribeye: tender, perfectly prepared, delicious. Nice selection of craft beers. Would DEFINITELY recommend checking out this hidden gem.</td>\n",
       "      <td>7</td>\n",
       "      <td>72094</td>\n",
       "      <td>3222</td>\n",
       "      <td>2015</td>\n",
       "      <td>08</td>\n",
       "      <td>07</td>\n",
       "      <td>02:29:16</td>\n",
       "      <td>Fries Rebellion</td>\n",
       "      <td>1441 S West End Blvd</td>\n",
       "      <td>Quakertown</td>\n",
       "      <td>Pennsylvania</td>\n",
       "      <td>18951</td>\n",
       "      <td>40.407537</td>\n",
       "      <td>-75.338825</td>\n",
       "      <td>3.5</td>\n",
       "      <td>103</td>\n",
       "      <td>0</td>\n",
       "      <td>{'AcceptsInsurance': None, 'AgesAllowed': None, 'Alcohol': ''full_bar'', 'Ambience': '{'romantic': False, 'intimate': False, 'classy': False, 'hipster': False, 'divey': False, 'touristy': False, 'trendy': False, 'upscale': False, 'casual': True}', 'BYOB': None, 'BYOBCorkage': None, 'BestNights': None, 'BikeParking': 'True', 'BusinessAcceptsBitcoin': None, 'BusinessAcceptsCreditCards': 'True', 'BusinessParking': '{'garage': False, 'street': False, 'validated': False, 'lot': True, 'valet': False}', 'ByAppointmentOnly': None, 'Caters': 'True', 'CoatCheck': None, 'Corkage': None, 'DietaryRestrictions': None, 'DogsAllowed': None, 'DriveThru': 'False', 'GoodForDancing': 'False', 'GoodForKids': 'True', 'GoodForMeal': '{'dessert': False, 'latenight': False, 'lunch': True, 'dinner': True, 'brunch': False, 'breakfast': False}', 'HairSpecializesIn': None, 'HappyHour': 'True', 'HasTV': 'True', 'Music': None, 'NoiseLevel': 'u'average'', 'Open24Hours': None, 'OutdoorSeating': 'False', 'Restauran...</td>\n",
       "      <td>Beer Bar, Bars, American (New), Gastropubs, Restaurants, Nightlife, Burgers</td>\n",
       "      <td>{'Friday': '11:0-0:0', 'Monday': None, 'Saturday': '11:0-0:0', 'Sunday': '11:0-23:0', 'Thursday': '11:0-23:0', 'Tuesday': None, 'Wednesday': '11:0-23:0'}</td>\n",
       "      <td>yfFzsLmaWF2d4Sr0UNbBgg</td>\n",
       "    </tr>\n",
       "    <tr>\n",
       "      <th>...</th>\n",
       "      <td>...</td>\n",
       "      <td>...</td>\n",
       "      <td>...</td>\n",
       "      <td>...</td>\n",
       "      <td>...</td>\n",
       "      <td>...</td>\n",
       "      <td>...</td>\n",
       "      <td>...</td>\n",
       "      <td>...</td>\n",
       "      <td>...</td>\n",
       "      <td>...</td>\n",
       "      <td>...</td>\n",
       "      <td>...</td>\n",
       "      <td>...</td>\n",
       "      <td>...</td>\n",
       "      <td>...</td>\n",
       "      <td>...</td>\n",
       "      <td>...</td>\n",
       "      <td>...</td>\n",
       "      <td>...</td>\n",
       "      <td>...</td>\n",
       "      <td>...</td>\n",
       "      <td>...</td>\n",
       "      <td>...</td>\n",
       "      <td>...</td>\n",
       "      <td>...</td>\n",
       "      <td>...</td>\n",
       "    </tr>\n",
       "    <tr>\n",
       "      <th>3775926</th>\n",
       "      <td>QIXYkyAbTvgePUOH0-cRFg</td>\n",
       "      <td>2.0</td>\n",
       "      <td>0</td>\n",
       "      <td>0</td>\n",
       "      <td>0</td>\n",
       "      <td>The front desk staff is very good and they have a couple quality trainers. The management for all departments is extremely lacking. I was having a problem with my membership and the club manager ether didn't know how to fix it or didn't want to. It is still not fixed even though I have been in there many times. Her name is Jessica Collins and she is the most incompetent manager I have ever seen in an establishment; who does not care about members.</td>\n",
       "      <td>6990271</td>\n",
       "      <td>782062</td>\n",
       "      <td>147335</td>\n",
       "      <td>2008</td>\n",
       "      <td>09</td>\n",
       "      <td>23</td>\n",
       "      <td>02:52:37</td>\n",
       "      <td>24 Hour Fitness - Reno South</td>\n",
       "      <td>6155 Neil Rd</td>\n",
       "      <td>Reno</td>\n",
       "      <td>Nevada</td>\n",
       "      <td>89511</td>\n",
       "      <td>39.469205</td>\n",
       "      <td>-119.781417</td>\n",
       "      <td>3.0</td>\n",
       "      <td>63</td>\n",
       "      <td>0</td>\n",
       "      <td>{'AcceptsInsurance': None, 'AgesAllowed': None, 'Alcohol': None, 'Ambience': None, 'BYOB': None, 'BYOBCorkage': None, 'BestNights': None, 'BikeParking': 'True', 'BusinessAcceptsBitcoin': None, 'BusinessAcceptsCreditCards': 'True', 'BusinessParking': '{'garage': False, 'street': False, 'validated': False, 'lot': True, 'valet': False}', 'ByAppointmentOnly': 'False', 'Caters': None, 'CoatCheck': None, 'Corkage': None, 'DietaryRestrictions': None, 'DogsAllowed': 'False', 'DriveThru': None, 'GoodForDancing': None, 'GoodForKids': 'False', 'GoodForMeal': None, 'HairSpecializesIn': None, 'HappyHour': None, 'HasTV': None, 'Music': None, 'NoiseLevel': None, 'Open24Hours': None, 'OutdoorSeating': None, 'RestaurantsAttire': None, 'RestaurantsCounterService': None, 'RestaurantsDelivery': None, 'RestaurantsGoodForGroups': None, 'RestaurantsPriceRange2': None, 'RestaurantsReservations': None, 'RestaurantsTableService': None, 'RestaurantsTakeOut': None, 'Smoking': None, 'WheelchairAccessible': Non...</td>\n",
       "      <td>Trainers, Fitness &amp; Instruction, Gyms, Active Life</td>\n",
       "      <td>{'Friday': '5:0-21:0', 'Monday': '0:0-0:0', 'Saturday': '5:0-21:0', 'Sunday': '5:0-21:0', 'Thursday': '5:0-21:0', 'Tuesday': '5:0-21:0', 'Wednesday': '5:0-21:0'}</td>\n",
       "      <td>QIXYkyAbTvgePUOH0-cRFg</td>\n",
       "    </tr>\n",
       "    <tr>\n",
       "      <th>3775927</th>\n",
       "      <td>7L7GL5Pi2cf8mbm2Dpw4zw</td>\n",
       "      <td>5.0</td>\n",
       "      <td>1</td>\n",
       "      <td>0</td>\n",
       "      <td>1</td>\n",
       "      <td>It is very rare for a restaurant to be this good in all categories, food, ambience and service. If you go to Lark  you will not be disappointed. The cocktails were excellent and the food was delicious . Our waitress was attentive and friendly. All this made for a perfect meal and a perfect birthday dinner for me. Hats off to the chef.</td>\n",
       "      <td>6990272</td>\n",
       "      <td>46895</td>\n",
       "      <td>136634</td>\n",
       "      <td>2022</td>\n",
       "      <td>01</td>\n",
       "      <td>17</td>\n",
       "      <td>22:36:01</td>\n",
       "      <td>Lark</td>\n",
       "      <td>611 Righters Ferry Rd</td>\n",
       "      <td>Bala Cynwyd</td>\n",
       "      <td>Pennsylvania</td>\n",
       "      <td>19004</td>\n",
       "      <td>40.016001</td>\n",
       "      <td>-75.214904</td>\n",
       "      <td>4.5</td>\n",
       "      <td>23</td>\n",
       "      <td>1</td>\n",
       "      <td>{'AcceptsInsurance': None, 'AgesAllowed': None, 'Alcohol': None, 'Ambience': '{u'divey': False, u'hipster': False, u'casual': False, u'touristy': False, u'trendy': False, u'intimate': False, u'romantic': False, u'classy': True, u'upscale': False}', 'BYOB': None, 'BYOBCorkage': None, 'BestNights': None, 'BikeParking': None, 'BusinessAcceptsBitcoin': None, 'BusinessAcceptsCreditCards': None, 'BusinessParking': '{u'valet': False, u'garage': True, u'street': None, u'lot': None, u'validated': None}', 'ByAppointmentOnly': None, 'Caters': None, 'CoatCheck': None, 'Corkage': None, 'DietaryRestrictions': None, 'DogsAllowed': None, 'DriveThru': None, 'GoodForDancing': None, 'GoodForKids': None, 'GoodForMeal': None, 'HairSpecializesIn': None, 'HappyHour': None, 'HasTV': None, 'Music': None, 'NoiseLevel': 'u'average'', 'Open24Hours': None, 'OutdoorSeating': None, 'RestaurantsAttire': None, 'RestaurantsCounterService': None, 'RestaurantsDelivery': None, 'RestaurantsGoodForGroups': None, 'Restau...</td>\n",
       "      <td>Bars, Restaurants, American (New), Beer Bar, Nightlife, Cocktail Bars</td>\n",
       "      <td>{'Friday': '17:0-22:0', 'Monday': None, 'Saturday': '17:0-22:0', 'Sunday': '17:0-22:0', 'Thursday': '17:0-22:0', 'Tuesday': None, 'Wednesday': '17:0-22:0'}</td>\n",
       "      <td>7L7GL5Pi2cf8mbm2Dpw4zw</td>\n",
       "    </tr>\n",
       "    <tr>\n",
       "      <th>3775928</th>\n",
       "      <td>RKPkxOYQlM0BjhM-H6_vAw</td>\n",
       "      <td>4.0</td>\n",
       "      <td>3</td>\n",
       "      <td>0</td>\n",
       "      <td>2</td>\n",
       "      <td>Good, maybe very good.  I went for lunch, so the head chef wasn't there, so this review may be a bit biased.  I see Marhaba as a 3.5-star eatery, but I'll round up due to the dearth of Lebanese/Egyptian food in the area, and I did not have the owner/head chef present, so I'm sure things would be ticked up a half point were he available in the kitchen.\\n\\nFirst off, the location is kind of cool off the river, but the restaurant is small on the borderline annoying side.  Tables are quite close together.  There were only about three other tables occupied when we went for lunch, and one server covered the whole shift.  There was one young guy as a chef working the kitchen.  He seemed good, but I didn't get the sense that the dishes were special as if the owner were present.  Someone with some background and skill put together this wonderful menu.\\n\\nService is chillax in a good way.  My DP and I sampled a few things off the menu and found everything good, but there were no wows per se ...</td>\n",
       "      <td>6990274</td>\n",
       "      <td>55742</td>\n",
       "      <td>139815</td>\n",
       "      <td>2015</td>\n",
       "      <td>01</td>\n",
       "      <td>23</td>\n",
       "      <td>23:52:03</td>\n",
       "      <td>Marhaba</td>\n",
       "      <td>77 S Union St</td>\n",
       "      <td>Lambertville</td>\n",
       "      <td>New Jersey</td>\n",
       "      <td>8530</td>\n",
       "      <td>40.362604</td>\n",
       "      <td>-74.943868</td>\n",
       "      <td>4.0</td>\n",
       "      <td>307</td>\n",
       "      <td>1</td>\n",
       "      <td>{'AcceptsInsurance': None, 'AgesAllowed': None, 'Alcohol': 'u'none'', 'Ambience': '{'touristy': False, 'hipster': False, 'romantic': None, 'divey': False, 'intimate': None, 'trendy': False, 'upscale': False, 'classy': True, 'casual': True}', 'BYOB': None, 'BYOBCorkage': None, 'BestNights': None, 'BikeParking': 'True', 'BusinessAcceptsBitcoin': 'False', 'BusinessAcceptsCreditCards': 'False', 'BusinessParking': '{'garage': False, 'street': True, 'validated': False, 'lot': False, 'valet': False}', 'ByAppointmentOnly': None, 'Caters': 'True', 'CoatCheck': None, 'Corkage': None, 'DietaryRestrictions': None, 'DogsAllowed': 'False', 'DriveThru': None, 'GoodForDancing': None, 'GoodForKids': 'True', 'GoodForMeal': '{'dessert': False, 'latenight': False, 'lunch': True, 'dinner': True, 'brunch': False, 'breakfast': False}', 'HairSpecializesIn': None, 'HappyHour': 'False', 'HasTV': 'False', 'Music': None, 'NoiseLevel': 'u'average'', 'Open24Hours': None, 'OutdoorSeating': 'False', 'RestaurantsA...</td>\n",
       "      <td>Halal, Lebanese, Mediterranean, Greek, Restaurants, Middle Eastern, Pizza, Egyptian</td>\n",
       "      <td>{'Friday': '11:0-21:0', 'Monday': '0:0-0:0', 'Saturday': '11:0-21:0', 'Sunday': '11:0-21:0', 'Thursday': '15:0-21:0', 'Tuesday': '15:0-20:0', 'Wednesday': '15:0-20:0'}</td>\n",
       "      <td>RKPkxOYQlM0BjhM-H6_vAw</td>\n",
       "    </tr>\n",
       "    <tr>\n",
       "      <th>3775929</th>\n",
       "      <td>Zo0th2m8Ez4gLSbHftiQvg</td>\n",
       "      <td>5.0</td>\n",
       "      <td>2</td>\n",
       "      <td>1</td>\n",
       "      <td>2</td>\n",
       "      <td>This spot offers a great, affordable east weekend paddle. They hooked us up quickly and sent us and the dog on our way in our canoe with a map that looks like it was drawn by a 5 year old but that's OK since the route is basically foolproof. \\n\\nWe saw gators (eek!), tons of birds and turtles of all sizes. Pro tip: bring a cooler with booze for the paddle and lunch for the picnic table rest stop!</td>\n",
       "      <td>6990276</td>\n",
       "      <td>1192958</td>\n",
       "      <td>144720</td>\n",
       "      <td>2021</td>\n",
       "      <td>03</td>\n",
       "      <td>31</td>\n",
       "      <td>16:55:10</td>\n",
       "      <td>Canoe Outpost-Little Manatee River</td>\n",
       "      <td>18001 S US Hwy 301</td>\n",
       "      <td>Wimauma</td>\n",
       "      <td>Florida</td>\n",
       "      <td>33598</td>\n",
       "      <td>27.671976</td>\n",
       "      <td>-82.353671</td>\n",
       "      <td>4.5</td>\n",
       "      <td>30</td>\n",
       "      <td>1</td>\n",
       "      <td>{'AcceptsInsurance': None, 'AgesAllowed': None, 'Alcohol': None, 'Ambience': None, 'BYOB': None, 'BYOBCorkage': None, 'BestNights': None, 'BikeParking': 'True', 'BusinessAcceptsBitcoin': None, 'BusinessAcceptsCreditCards': None, 'BusinessParking': '{'garage': False, 'street': False, 'validated': False, 'lot': False, 'valet': False}', 'ByAppointmentOnly': None, 'Caters': None, 'CoatCheck': None, 'Corkage': None, 'DietaryRestrictions': None, 'DogsAllowed': 'True', 'DriveThru': None, 'GoodForDancing': None, 'GoodForKids': 'True', 'GoodForMeal': None, 'HairSpecializesIn': None, 'HappyHour': None, 'HasTV': None, 'Music': None, 'NoiseLevel': None, 'Open24Hours': None, 'OutdoorSeating': None, 'RestaurantsAttire': None, 'RestaurantsCounterService': None, 'RestaurantsDelivery': None, 'RestaurantsGoodForGroups': None, 'RestaurantsPriceRange2': None, 'RestaurantsReservations': None, 'RestaurantsTableService': None, 'RestaurantsTakeOut': None, 'Smoking': None, 'WheelchairAccessible': None, 'Wi...</td>\n",
       "      <td>Hotels &amp; Travel, Active Life, Boating, Rafting/Kayaking, Vacation Rentals, RV Rental, Campgrounds</td>\n",
       "      <td>{'Friday': '9:0-17:0', 'Monday': '9:0-17:0', 'Saturday': '9:0-17:0', 'Sunday': '9:0-17:0', 'Thursday': '9:0-17:0', 'Tuesday': '9:0-17:0', 'Wednesday': '9:0-17:0'}</td>\n",
       "      <td>Zo0th2m8Ez4gLSbHftiQvg</td>\n",
       "    </tr>\n",
       "    <tr>\n",
       "      <th>3775930</th>\n",
       "      <td>mm6E4FbCMwJmb7kPDZ5v2Q</td>\n",
       "      <td>4.0</td>\n",
       "      <td>1</td>\n",
       "      <td>0</td>\n",
       "      <td>0</td>\n",
       "      <td>This Home Depot won me over when I needed to get a lot of demential lumber. It seems that the warped, bowed, and cracked ones are taken out often enough, and put into the cull lumber pile. It matters when each piece you need is $20! \\n\\nI am more prone to buy because returns have been relatively quick, and easy for me. Customer service is awake and alert!\\n\\nThis store is good in most departments, but not all. I go here before stopping at it's neighboring competitor.</td>\n",
       "      <td>6990277</td>\n",
       "      <td>116945</td>\n",
       "      <td>149530</td>\n",
       "      <td>2019</td>\n",
       "      <td>12</td>\n",
       "      <td>30</td>\n",
       "      <td>03:56:30</td>\n",
       "      <td>The Home Depot</td>\n",
       "      <td>2250 Easton Rd</td>\n",
       "      <td>Willow Grove</td>\n",
       "      <td>Pennsylvania</td>\n",
       "      <td>19090</td>\n",
       "      <td>40.163870</td>\n",
       "      <td>-75.127559</td>\n",
       "      <td>2.5</td>\n",
       "      <td>32</td>\n",
       "      <td>1</td>\n",
       "      <td>{'AcceptsInsurance': None, 'AgesAllowed': None, 'Alcohol': None, 'Ambience': None, 'BYOB': None, 'BYOBCorkage': None, 'BestNights': None, 'BikeParking': 'False', 'BusinessAcceptsBitcoin': None, 'BusinessAcceptsCreditCards': 'True', 'BusinessParking': '{'garage': False, 'street': False, 'validated': False, 'lot': True, 'valet': False}', 'ByAppointmentOnly': None, 'Caters': None, 'CoatCheck': None, 'Corkage': None, 'DietaryRestrictions': None, 'DogsAllowed': None, 'DriveThru': None, 'GoodForDancing': None, 'GoodForKids': None, 'GoodForMeal': None, 'HairSpecializesIn': None, 'HappyHour': None, 'HasTV': None, 'Music': None, 'NoiseLevel': None, 'Open24Hours': None, 'OutdoorSeating': None, 'RestaurantsAttire': None, 'RestaurantsCounterService': None, 'RestaurantsDelivery': None, 'RestaurantsGoodForGroups': None, 'RestaurantsPriceRange2': '2', 'RestaurantsReservations': None, 'RestaurantsTableService': None, 'RestaurantsTakeOut': None, 'Smoking': None, 'WheelchairAccessible': None, 'WiFi'...</td>\n",
       "      <td>Building Supplies, Home Services, Hardware Stores, Appliances, Home &amp; Garden, Shopping, Nurseries &amp; Gardening</td>\n",
       "      <td>{'Friday': '9:0-20:0', 'Monday': '0:0-0:0', 'Saturday': '6:0-22:0', 'Sunday': '7:0-20:0', 'Thursday': '6:0-18:0', 'Tuesday': '6:0-22:0', 'Wednesday': '6:0-22:0'}</td>\n",
       "      <td>mm6E4FbCMwJmb7kPDZ5v2Q</td>\n",
       "    </tr>\n",
       "  </tbody>\n",
       "</table>\n",
       "<p>3775931 rows × 27 columns</p>\n",
       "</div>"
      ],
      "text/plain": [
       "                        user_id  stars_Dataset_Review  useful  funny  cool  \\\n",
       "0        mh_-eMZ6K5RLWhZyISBhwA                   3.0       0      0     0   \n",
       "1        OyoGAe7OKpv6SyGZT5g77Q                   5.0       1      0     1   \n",
       "2        _7bHUi9Uuf5__HHc_Q8guQ                   5.0       1      0     1   \n",
       "3        eUta8W_HdHMXPzLBBZhL1A                   1.0       1      2     1   \n",
       "4        yfFzsLmaWF2d4Sr0UNbBgg                   5.0       2      0     0   \n",
       "...                         ...                   ...     ...    ...   ...   \n",
       "3775926  QIXYkyAbTvgePUOH0-cRFg                   2.0       0      0     0   \n",
       "3775927  7L7GL5Pi2cf8mbm2Dpw4zw                   5.0       1      0     1   \n",
       "3775928  RKPkxOYQlM0BjhM-H6_vAw                   4.0       3      0     2   \n",
       "3775929  Zo0th2m8Ez4gLSbHftiQvg                   5.0       2      1     2   \n",
       "3775930  mm6E4FbCMwJmb7kPDZ5v2Q                   4.0       1      0     0   \n",
       "\n",
       "                                                                                                                                                                                                                                                                                                                                                                                                                                                                                                                                                                                                                                                                                                                                                                                                                                                                                                                                                                                                                                            text  \\\n",
       "0                                                                                                                                                                                                                                                                                                                                                                                                                                                                                                            If you decide to eat here, just be aware it is going to take about 2 hours from beginning to end. We have tried it multiple times, because I want to like it! I have been to it's other locations in NJ and never had a bad experience. \\n\\nThe food is good, but it takes a very long time to come out. The waitstaff is very young, but usually pleasant. We have just had too many experiences where we spent way too long waiting. We usually opt for another diner or restaurant on the weekends, in order to be done quicker.   \n",
       "1                                                                                                                                                                              I've taken a lot of spin classes over the years, and nothing compares to the classes at Body Cycle. From the nice, clean space and amazing bikes, to the welcoming and motivating instructors, every class is a top notch work out.\\n\\nFor anyone who struggles to fit workouts in, the online scheduling system makes it easy to plan ahead (and there's no need to line up way in advanced like many gyms make you do).\\n\\nThere is no way I can write this review without giving Russell, the owner of Body Cycle, a shout out. Russell's passion for fitness and cycling is so evident, as is his desire for all of his clients to succeed. He is always dropping in to classes to check in/provide encouragement, and is open to ideas and recommendations from anyone. Russell always wears a smile on his face, even when he's kicking your butt in class!   \n",
       "2                                                                                                                                                                                                                                                                                                                                                                                                                                                                                                                                                                                                                                                                                                                                                                                            Wow!  Yummy, different,  delicious.   Our favorite is the lamb curry and korma.  With 10 different kinds of naan!!!  Don't let the outside deter you (because we almost changed our minds)...go in and try something new!   You'll be glad you did!   \n",
       "3                                                                                                                                                                                                                                                                                                                                                                                                                                                                                                                                                                                                                                                                                          I am a long term frequent customer of this establishment. I just went in to order take out (3 apps) and was told they're too busy to do it. Really? The place is maybe half full at best. Does your dick reach your ass? Yes? Go fuck yourself! I'm a frequent customer AND great tipper. Glad that Kanella just opened. NEVER going back to dmitris!   \n",
       "4                                                                                                                                                                                                                                                                                                                                                                                                                                                                                                                                                                                                                                                                                                                                                                                                                                               Amazingly amazing wings and homemade bleu cheese. Had the ribeye: tender, perfectly prepared, delicious. Nice selection of craft beers. Would DEFINITELY recommend checking out this hidden gem.   \n",
       "...                                                                                                                                                                                                                                                                                                                                                                                                                                                                                                                                                                                                                                                                                                                                                                                                                                                                                                                                                                                                                                          ...   \n",
       "3775926                                                                                                                                                                                                                                                                                                                                                                                                                                                                                                                                                                      The front desk staff is very good and they have a couple quality trainers. The management for all departments is extremely lacking. I was having a problem with my membership and the club manager ether didn't know how to fix it or didn't want to. It is still not fixed even though I have been in there many times. Her name is Jessica Collins and she is the most incompetent manager I have ever seen in an establishment; who does not care about members.   \n",
       "3775927                                                                                                                                                                                                                                                                                                                                                                                                                                                                                                                                                                                                                                                                                         It is very rare for a restaurant to be this good in all categories, food, ambience and service. If you go to Lark  you will not be disappointed. The cocktails were excellent and the food was delicious . Our waitress was attentive and friendly. All this made for a perfect meal and a perfect birthday dinner for me. Hats off to the chef.   \n",
       "3775928  Good, maybe very good.  I went for lunch, so the head chef wasn't there, so this review may be a bit biased.  I see Marhaba as a 3.5-star eatery, but I'll round up due to the dearth of Lebanese/Egyptian food in the area, and I did not have the owner/head chef present, so I'm sure things would be ticked up a half point were he available in the kitchen.\\n\\nFirst off, the location is kind of cool off the river, but the restaurant is small on the borderline annoying side.  Tables are quite close together.  There were only about three other tables occupied when we went for lunch, and one server covered the whole shift.  There was one young guy as a chef working the kitchen.  He seemed good, but I didn't get the sense that the dishes were special as if the owner were present.  Someone with some background and skill put together this wonderful menu.\\n\\nService is chillax in a good way.  My DP and I sampled a few things off the menu and found everything good, but there were no wows per se ...   \n",
       "3775929                                                                                                                                                                                                                                                                                                                                                                                                                                                                                                                                                                                                                          This spot offers a great, affordable east weekend paddle. They hooked us up quickly and sent us and the dog on our way in our canoe with a map that looks like it was drawn by a 5 year old but that's OK since the route is basically foolproof. \\n\\nWe saw gators (eek!), tons of birds and turtles of all sizes. Pro tip: bring a cooler with booze for the paddle and lunch for the picnic table rest stop!   \n",
       "3775930                                                                                                                                                                                                                                                                                                                                                                                                                                                                                                                                                  This Home Depot won me over when I needed to get a lot of demential lumber. It seems that the warped, bowed, and cracked ones are taken out often enough, and put into the cull lumber pile. It matters when each piece you need is $20! \\n\\nI am more prone to buy because returns have been relatively quick, and easy for me. Customer service is awake and alert!\\n\\nThis store is good in most departments, but not all. I go here before stopping at it's neighboring competitor.   \n",
       "\n",
       "         id_review  id_user  id_business  anho mes dia      hora  \\\n",
       "0                0   124234         1867  2018  07  07  22:09:11   \n",
       "1                1    51327        12886  2012  01  03  15:28:18   \n",
       "2                3   164430         6316  2015  01  04  00:01:03   \n",
       "3                5   132438         2763  2015  09  23  23:10:31   \n",
       "4                7    72094         3222  2015  08  07  02:29:16   \n",
       "...            ...      ...          ...   ...  ..  ..       ...   \n",
       "3775926    6990271   782062       147335  2008  09  23  02:52:37   \n",
       "3775927    6990272    46895       136634  2022  01  17  22:36:01   \n",
       "3775928    6990274    55742       139815  2015  01  23  23:52:03   \n",
       "3775929    6990276  1192958       144720  2021  03  31  16:55:10   \n",
       "3775930    6990277   116945       149530  2019  12  30  03:56:30   \n",
       "\n",
       "                                       name                   address  \\\n",
       "0              Turning Point of North Wales       1460 Bethlehem Pike   \n",
       "1                Body Cycle Spinning Studio  1923 Chestnut St, 2nd Fl   \n",
       "2                                     Zaika            2481 Grant Ave   \n",
       "3                                  Dmitri's              795 S 3rd St   \n",
       "4                           Fries Rebellion      1441 S West End Blvd   \n",
       "...                                     ...                       ...   \n",
       "3775926        24 Hour Fitness - Reno South              6155 Neil Rd   \n",
       "3775927                                Lark     611 Righters Ferry Rd   \n",
       "3775928                             Marhaba             77 S Union St   \n",
       "3775929  Canoe Outpost-Little Manatee River        18001 S US Hwy 301   \n",
       "3775930                      The Home Depot            2250 Easton Rd   \n",
       "\n",
       "                 city         state  postal_code   latitude   longitude  \\\n",
       "0         North Wales  Pennsylvania        19454  40.210196  -75.223639   \n",
       "1        Philadelphia  Pennsylvania        19119  39.952103  -75.172753   \n",
       "2        Philadelphia  Pennsylvania        19114  40.079848  -75.025080   \n",
       "3        Philadelphia  Pennsylvania        19147  39.938013  -75.148131   \n",
       "4          Quakertown  Pennsylvania        18951  40.407537  -75.338825   \n",
       "...               ...           ...          ...        ...         ...   \n",
       "3775926          Reno        Nevada        89511  39.469205 -119.781417   \n",
       "3775927   Bala Cynwyd  Pennsylvania        19004  40.016001  -75.214904   \n",
       "3775928  Lambertville    New Jersey         8530  40.362604  -74.943868   \n",
       "3775929       Wimauma       Florida        33598  27.671976  -82.353671   \n",
       "3775930  Willow Grove  Pennsylvania        19090  40.163870  -75.127559   \n",
       "\n",
       "         stars_Dataset_Business  review_count  is_open  \\\n",
       "0                           3.0           169        1   \n",
       "1                           5.0           144        0   \n",
       "2                           4.0           181        1   \n",
       "3                           4.0           273        0   \n",
       "4                           3.5           103        0   \n",
       "...                         ...           ...      ...   \n",
       "3775926                     3.0            63        0   \n",
       "3775927                     4.5            23        1   \n",
       "3775928                     4.0           307        1   \n",
       "3775929                     4.5            30        1   \n",
       "3775930                     2.5            32        1   \n",
       "\n",
       "                                                                                                                                                                                                                                                                                                                                                                                                                                                                                                                                                                                                                                                                                                                                                                                                                                                                                                                                                                                                                                      attributes  \\\n",
       "0        {'AcceptsInsurance': None, 'AgesAllowed': None, 'Alcohol': ''none'', 'Ambience': '{'touristy': False, 'hipster': False, 'romantic': False, 'divey': False, 'intimate': False, 'trendy': False, 'upscale': False, 'classy': False, 'casual': True}', 'BYOB': None, 'BYOBCorkage': None, 'BestNights': None, 'BikeParking': 'False', 'BusinessAcceptsBitcoin': 'False', 'BusinessAcceptsCreditCards': 'True', 'BusinessParking': '{'garage': False, 'street': False, 'validated': False, 'lot': True, 'valet': False}', 'ByAppointmentOnly': None, 'Caters': 'False', 'CoatCheck': None, 'Corkage': None, 'DietaryRestrictions': None, 'DogsAllowed': 'False', 'DriveThru': None, 'GoodForDancing': None, 'GoodForKids': 'True', 'GoodForMeal': '{'dessert': False, 'latenight': False, 'lunch': True, 'dinner': False, 'brunch': True, 'breakfast': True}', 'HairSpecializesIn': None, 'HappyHour': 'False', 'HasTV': 'False', 'Music': None, 'NoiseLevel': 'u'average'', 'Open24Hours': None, 'OutdoorSeating': 'True', 'Restaurants...   \n",
       "1        {'AcceptsInsurance': None, 'AgesAllowed': None, 'Alcohol': None, 'Ambience': None, 'BYOB': None, 'BYOBCorkage': None, 'BestNights': None, 'BikeParking': 'True', 'BusinessAcceptsBitcoin': None, 'BusinessAcceptsCreditCards': 'True', 'BusinessParking': '{'garage': False, 'street': True, 'validated': False, 'lot': False, 'valet': False}', 'ByAppointmentOnly': 'False', 'Caters': None, 'CoatCheck': None, 'Corkage': None, 'DietaryRestrictions': None, 'DogsAllowed': None, 'DriveThru': None, 'GoodForDancing': None, 'GoodForKids': 'False', 'GoodForMeal': None, 'HairSpecializesIn': None, 'HappyHour': None, 'HasTV': None, 'Music': None, 'NoiseLevel': None, 'Open24Hours': None, 'OutdoorSeating': None, 'RestaurantsAttire': None, 'RestaurantsCounterService': None, 'RestaurantsDelivery': None, 'RestaurantsGoodForGroups': None, 'RestaurantsPriceRange2': None, 'RestaurantsReservations': None, 'RestaurantsTableService': None, 'RestaurantsTakeOut': None, 'Smoking': None, 'WheelchairAccessible': None, ...   \n",
       "2        {'AcceptsInsurance': None, 'AgesAllowed': None, 'Alcohol': 'u'none'', 'Ambience': '{'romantic': False, 'intimate': False, 'touristy': False, 'hipster': False, 'divey': False, 'classy': False, 'trendy': False, 'upscale': False, 'casual': True}', 'BYOB': None, 'BYOBCorkage': None, 'BestNights': None, 'BikeParking': 'True', 'BusinessAcceptsBitcoin': 'False', 'BusinessAcceptsCreditCards': 'True', 'BusinessParking': '{'garage': False, 'street': False, 'validated': False, 'lot': True, 'valet': False}', 'ByAppointmentOnly': 'False', 'Caters': 'True', 'CoatCheck': None, 'Corkage': None, 'DietaryRestrictions': None, 'DogsAllowed': None, 'DriveThru': None, 'GoodForDancing': None, 'GoodForKids': 'True', 'GoodForMeal': '{'dessert': False, 'latenight': False, 'lunch': True, 'dinner': True, 'brunch': False, 'breakfast': False}', 'HairSpecializesIn': None, 'HappyHour': None, 'HasTV': 'False', 'Music': None, 'NoiseLevel': 'u'average'', 'Open24Hours': None, 'OutdoorSeating': 'False', 'RestaurantsAt...   \n",
       "3        {'AcceptsInsurance': None, 'AgesAllowed': None, 'Alcohol': ''none'', 'Ambience': '{'touristy': False, 'hipster': False, 'romantic': None, 'divey': False, 'intimate': None, 'trendy': False, 'upscale': False, 'classy': False, 'casual': True}', 'BYOB': None, 'BYOBCorkage': ''yes_free'', 'BestNights': None, 'BikeParking': 'True', 'BusinessAcceptsBitcoin': None, 'BusinessAcceptsCreditCards': 'False', 'BusinessParking': '{'garage': False, 'street': True, 'validated': False, 'lot': False, 'valet': False}', 'ByAppointmentOnly': None, 'Caters': 'False', 'CoatCheck': None, 'Corkage': None, 'DietaryRestrictions': None, 'DogsAllowed': None, 'DriveThru': None, 'GoodForDancing': None, 'GoodForKids': 'False', 'GoodForMeal': '{'dessert': False, 'latenight': False, 'lunch': False, 'dinner': True, 'brunch': False, 'breakfast': False}', 'HairSpecializesIn': None, 'HappyHour': 'False', 'HasTV': 'False', 'Music': None, 'NoiseLevel': 'u'average'', 'Open24Hours': None, 'OutdoorSeating': 'False', 'Restaur...   \n",
       "4        {'AcceptsInsurance': None, 'AgesAllowed': None, 'Alcohol': ''full_bar'', 'Ambience': '{'romantic': False, 'intimate': False, 'classy': False, 'hipster': False, 'divey': False, 'touristy': False, 'trendy': False, 'upscale': False, 'casual': True}', 'BYOB': None, 'BYOBCorkage': None, 'BestNights': None, 'BikeParking': 'True', 'BusinessAcceptsBitcoin': None, 'BusinessAcceptsCreditCards': 'True', 'BusinessParking': '{'garage': False, 'street': False, 'validated': False, 'lot': True, 'valet': False}', 'ByAppointmentOnly': None, 'Caters': 'True', 'CoatCheck': None, 'Corkage': None, 'DietaryRestrictions': None, 'DogsAllowed': None, 'DriveThru': 'False', 'GoodForDancing': 'False', 'GoodForKids': 'True', 'GoodForMeal': '{'dessert': False, 'latenight': False, 'lunch': True, 'dinner': True, 'brunch': False, 'breakfast': False}', 'HairSpecializesIn': None, 'HappyHour': 'True', 'HasTV': 'True', 'Music': None, 'NoiseLevel': 'u'average'', 'Open24Hours': None, 'OutdoorSeating': 'False', 'Restauran...   \n",
       "...                                                                                                                                                                                                                                                                                                                                                                                                                                                                                                                                                                                                                                                                                                                                                                                                                                                                                                                                                                                                                                          ...   \n",
       "3775926  {'AcceptsInsurance': None, 'AgesAllowed': None, 'Alcohol': None, 'Ambience': None, 'BYOB': None, 'BYOBCorkage': None, 'BestNights': None, 'BikeParking': 'True', 'BusinessAcceptsBitcoin': None, 'BusinessAcceptsCreditCards': 'True', 'BusinessParking': '{'garage': False, 'street': False, 'validated': False, 'lot': True, 'valet': False}', 'ByAppointmentOnly': 'False', 'Caters': None, 'CoatCheck': None, 'Corkage': None, 'DietaryRestrictions': None, 'DogsAllowed': 'False', 'DriveThru': None, 'GoodForDancing': None, 'GoodForKids': 'False', 'GoodForMeal': None, 'HairSpecializesIn': None, 'HappyHour': None, 'HasTV': None, 'Music': None, 'NoiseLevel': None, 'Open24Hours': None, 'OutdoorSeating': None, 'RestaurantsAttire': None, 'RestaurantsCounterService': None, 'RestaurantsDelivery': None, 'RestaurantsGoodForGroups': None, 'RestaurantsPriceRange2': None, 'RestaurantsReservations': None, 'RestaurantsTableService': None, 'RestaurantsTakeOut': None, 'Smoking': None, 'WheelchairAccessible': Non...   \n",
       "3775927  {'AcceptsInsurance': None, 'AgesAllowed': None, 'Alcohol': None, 'Ambience': '{u'divey': False, u'hipster': False, u'casual': False, u'touristy': False, u'trendy': False, u'intimate': False, u'romantic': False, u'classy': True, u'upscale': False}', 'BYOB': None, 'BYOBCorkage': None, 'BestNights': None, 'BikeParking': None, 'BusinessAcceptsBitcoin': None, 'BusinessAcceptsCreditCards': None, 'BusinessParking': '{u'valet': False, u'garage': True, u'street': None, u'lot': None, u'validated': None}', 'ByAppointmentOnly': None, 'Caters': None, 'CoatCheck': None, 'Corkage': None, 'DietaryRestrictions': None, 'DogsAllowed': None, 'DriveThru': None, 'GoodForDancing': None, 'GoodForKids': None, 'GoodForMeal': None, 'HairSpecializesIn': None, 'HappyHour': None, 'HasTV': None, 'Music': None, 'NoiseLevel': 'u'average'', 'Open24Hours': None, 'OutdoorSeating': None, 'RestaurantsAttire': None, 'RestaurantsCounterService': None, 'RestaurantsDelivery': None, 'RestaurantsGoodForGroups': None, 'Restau...   \n",
       "3775928  {'AcceptsInsurance': None, 'AgesAllowed': None, 'Alcohol': 'u'none'', 'Ambience': '{'touristy': False, 'hipster': False, 'romantic': None, 'divey': False, 'intimate': None, 'trendy': False, 'upscale': False, 'classy': True, 'casual': True}', 'BYOB': None, 'BYOBCorkage': None, 'BestNights': None, 'BikeParking': 'True', 'BusinessAcceptsBitcoin': 'False', 'BusinessAcceptsCreditCards': 'False', 'BusinessParking': '{'garage': False, 'street': True, 'validated': False, 'lot': False, 'valet': False}', 'ByAppointmentOnly': None, 'Caters': 'True', 'CoatCheck': None, 'Corkage': None, 'DietaryRestrictions': None, 'DogsAllowed': 'False', 'DriveThru': None, 'GoodForDancing': None, 'GoodForKids': 'True', 'GoodForMeal': '{'dessert': False, 'latenight': False, 'lunch': True, 'dinner': True, 'brunch': False, 'breakfast': False}', 'HairSpecializesIn': None, 'HappyHour': 'False', 'HasTV': 'False', 'Music': None, 'NoiseLevel': 'u'average'', 'Open24Hours': None, 'OutdoorSeating': 'False', 'RestaurantsA...   \n",
       "3775929  {'AcceptsInsurance': None, 'AgesAllowed': None, 'Alcohol': None, 'Ambience': None, 'BYOB': None, 'BYOBCorkage': None, 'BestNights': None, 'BikeParking': 'True', 'BusinessAcceptsBitcoin': None, 'BusinessAcceptsCreditCards': None, 'BusinessParking': '{'garage': False, 'street': False, 'validated': False, 'lot': False, 'valet': False}', 'ByAppointmentOnly': None, 'Caters': None, 'CoatCheck': None, 'Corkage': None, 'DietaryRestrictions': None, 'DogsAllowed': 'True', 'DriveThru': None, 'GoodForDancing': None, 'GoodForKids': 'True', 'GoodForMeal': None, 'HairSpecializesIn': None, 'HappyHour': None, 'HasTV': None, 'Music': None, 'NoiseLevel': None, 'Open24Hours': None, 'OutdoorSeating': None, 'RestaurantsAttire': None, 'RestaurantsCounterService': None, 'RestaurantsDelivery': None, 'RestaurantsGoodForGroups': None, 'RestaurantsPriceRange2': None, 'RestaurantsReservations': None, 'RestaurantsTableService': None, 'RestaurantsTakeOut': None, 'Smoking': None, 'WheelchairAccessible': None, 'Wi...   \n",
       "3775930  {'AcceptsInsurance': None, 'AgesAllowed': None, 'Alcohol': None, 'Ambience': None, 'BYOB': None, 'BYOBCorkage': None, 'BestNights': None, 'BikeParking': 'False', 'BusinessAcceptsBitcoin': None, 'BusinessAcceptsCreditCards': 'True', 'BusinessParking': '{'garage': False, 'street': False, 'validated': False, 'lot': True, 'valet': False}', 'ByAppointmentOnly': None, 'Caters': None, 'CoatCheck': None, 'Corkage': None, 'DietaryRestrictions': None, 'DogsAllowed': None, 'DriveThru': None, 'GoodForDancing': None, 'GoodForKids': None, 'GoodForMeal': None, 'HairSpecializesIn': None, 'HappyHour': None, 'HasTV': None, 'Music': None, 'NoiseLevel': None, 'Open24Hours': None, 'OutdoorSeating': None, 'RestaurantsAttire': None, 'RestaurantsCounterService': None, 'RestaurantsDelivery': None, 'RestaurantsGoodForGroups': None, 'RestaurantsPriceRange2': '2', 'RestaurantsReservations': None, 'RestaurantsTableService': None, 'RestaurantsTakeOut': None, 'Smoking': None, 'WheelchairAccessible': None, 'WiFi'...   \n",
       "\n",
       "                                                                                                            categories  \\\n",
       "0              Restaurants, Breakfast & Brunch, Food, Juice Bars & Smoothies, American (New), Coffee & Tea, Sandwiches   \n",
       "1                                                  Active Life, Cycling Classes, Trainers, Gyms, Fitness & Instruction   \n",
       "2                                                                                Halal, Pakistani, Restaurants, Indian   \n",
       "3                                                                           Mediterranean, Restaurants, Seafood, Greek   \n",
       "4                                          Beer Bar, Bars, American (New), Gastropubs, Restaurants, Nightlife, Burgers   \n",
       "...                                                                                                                ...   \n",
       "3775926                                                             Trainers, Fitness & Instruction, Gyms, Active Life   \n",
       "3775927                                          Bars, Restaurants, American (New), Beer Bar, Nightlife, Cocktail Bars   \n",
       "3775928                            Halal, Lebanese, Mediterranean, Greek, Restaurants, Middle Eastern, Pizza, Egyptian   \n",
       "3775929              Hotels & Travel, Active Life, Boating, Rafting/Kayaking, Vacation Rentals, RV Rental, Campgrounds   \n",
       "3775930  Building Supplies, Home Services, Hardware Stores, Appliances, Home & Garden, Shopping, Nurseries & Gardening   \n",
       "\n",
       "                                                                                                                                                                                hours  \\\n",
       "0           {'Friday': '7:30-15:0', 'Monday': '7:30-15:0', 'Saturday': '7:30-15:0', 'Sunday': '7:30-15:0', 'Thursday': '7:30-15:0', 'Tuesday': '7:30-15:0', 'Wednesday': '7:30-15:0'}   \n",
       "1        {'Friday': '6:0-19:30', 'Monday': '6:30-20:30', 'Saturday': '7:30-12:30', 'Sunday': '9:0-13:0', 'Thursday': '6:30-20:30', 'Tuesday': '6:30-20:30', 'Wednesday': '6:0-20:30'}   \n",
       "2                  {'Friday': '11:0-22:0', 'Monday': None, 'Saturday': '11:0-22:0', 'Sunday': '11:0-21:0', 'Thursday': '11:0-21:0', 'Tuesday': '11:0-21:0', 'Wednesday': '11:0-21:0'}   \n",
       "3                     {'Friday': '17:30-22:0', 'Monday': None, 'Saturday': '17:30-22:0', 'Sunday': '17:0-21:0', 'Thursday': '17:30-21:0', 'Tuesday': None, 'Wednesday': '17:30-21:0'}   \n",
       "4                           {'Friday': '11:0-0:0', 'Monday': None, 'Saturday': '11:0-0:0', 'Sunday': '11:0-23:0', 'Thursday': '11:0-23:0', 'Tuesday': None, 'Wednesday': '11:0-23:0'}   \n",
       "...                                                                                                                                                                               ...   \n",
       "3775926             {'Friday': '5:0-21:0', 'Monday': '0:0-0:0', 'Saturday': '5:0-21:0', 'Sunday': '5:0-21:0', 'Thursday': '5:0-21:0', 'Tuesday': '5:0-21:0', 'Wednesday': '5:0-21:0'}   \n",
       "3775927                   {'Friday': '17:0-22:0', 'Monday': None, 'Saturday': '17:0-22:0', 'Sunday': '17:0-22:0', 'Thursday': '17:0-22:0', 'Tuesday': None, 'Wednesday': '17:0-22:0'}   \n",
       "3775928       {'Friday': '11:0-21:0', 'Monday': '0:0-0:0', 'Saturday': '11:0-21:0', 'Sunday': '11:0-21:0', 'Thursday': '15:0-21:0', 'Tuesday': '15:0-20:0', 'Wednesday': '15:0-20:0'}   \n",
       "3775929            {'Friday': '9:0-17:0', 'Monday': '9:0-17:0', 'Saturday': '9:0-17:0', 'Sunday': '9:0-17:0', 'Thursday': '9:0-17:0', 'Tuesday': '9:0-17:0', 'Wednesday': '9:0-17:0'}   \n",
       "3775930             {'Friday': '9:0-20:0', 'Monday': '0:0-0:0', 'Saturday': '6:0-22:0', 'Sunday': '7:0-20:0', 'Thursday': '6:0-18:0', 'Tuesday': '6:0-22:0', 'Wednesday': '6:0-22:0'}   \n",
       "\n",
       "                        yelp_id  \n",
       "0        mh_-eMZ6K5RLWhZyISBhwA  \n",
       "1        OyoGAe7OKpv6SyGZT5g77Q  \n",
       "2        _7bHUi9Uuf5__HHc_Q8guQ  \n",
       "3        eUta8W_HdHMXPzLBBZhL1A  \n",
       "4        yfFzsLmaWF2d4Sr0UNbBgg  \n",
       "...                         ...  \n",
       "3775926  QIXYkyAbTvgePUOH0-cRFg  \n",
       "3775927  7L7GL5Pi2cf8mbm2Dpw4zw  \n",
       "3775928  RKPkxOYQlM0BjhM-H6_vAw  \n",
       "3775929  Zo0th2m8Ez4gLSbHftiQvg  \n",
       "3775930  mm6E4FbCMwJmb7kPDZ5v2Q  \n",
       "\n",
       "[3775931 rows x 27 columns]"
      ]
     },
     "execution_count": 13,
     "metadata": {},
     "output_type": "execute_result"
    }
   ],
   "source": [
    "reviews_yelp"
   ]
  },
  {
   "cell_type": "code",
   "execution_count": 11,
   "metadata": {},
   "outputs": [
    {
     "data": {
      "text/html": [
       "<div>\n",
       "<style scoped>\n",
       "    .dataframe tbody tr th:only-of-type {\n",
       "        vertical-align: middle;\n",
       "    }\n",
       "\n",
       "    .dataframe tbody tr th {\n",
       "        vertical-align: top;\n",
       "    }\n",
       "\n",
       "    .dataframe thead th {\n",
       "        text-align: right;\n",
       "    }\n",
       "</style>\n",
       "<table border=\"1\" class=\"dataframe\">\n",
       "  <thead>\n",
       "    <tr style=\"text-align: right;\">\n",
       "      <th></th>\n",
       "      <th>user_id</th>\n",
       "      <th>stars_Dataset_Review</th>\n",
       "      <th>useful</th>\n",
       "      <th>funny</th>\n",
       "      <th>cool</th>\n",
       "      <th>text</th>\n",
       "      <th>id_review</th>\n",
       "      <th>id_user</th>\n",
       "      <th>id_business</th>\n",
       "      <th>anho</th>\n",
       "      <th>mes</th>\n",
       "      <th>dia</th>\n",
       "      <th>hora</th>\n",
       "      <th>name</th>\n",
       "      <th>address</th>\n",
       "      <th>city</th>\n",
       "      <th>state</th>\n",
       "      <th>postal_code</th>\n",
       "      <th>latitude</th>\n",
       "      <th>longitude</th>\n",
       "      <th>stars_Dataset_Business</th>\n",
       "      <th>review_count</th>\n",
       "      <th>is_open</th>\n",
       "      <th>attributes</th>\n",
       "      <th>categories</th>\n",
       "      <th>hours</th>\n",
       "      <th>yelp_id</th>\n",
       "    </tr>\n",
       "  </thead>\n",
       "  <tbody>\n",
       "    <tr>\n",
       "      <th>1411</th>\n",
       "      <td>XeXoz3XXStmyF3Fs39yLQA</td>\n",
       "      <td>1.0</td>\n",
       "      <td>0</td>\n",
       "      <td>0</td>\n",
       "      <td>0</td>\n",
       "      <td>expensive, bad food and service.\\nI have been to other corner bakery cafes, and I usually like them, but I tend to get terrible service at this one. These problems manifests as long waits for meals even during slow times, and getting orders wrong.\\nThe last time (never again) I went in it was a slow morning, and it took them 45 minutes to get me my eggs, and when they came they were cold. I informed the cashier that my eggs were cold and I asked him if they could make me new eggs.  He said yes, and took my eggs.  He came back out with my same plate, and it was evident that he microwaved the plate with the toast and fruit on it; the toast was soggy, and fruit warm. I returned my food, and have vowed to never return.</td>\n",
       "      <td>2607</td>\n",
       "      <td>162028</td>\n",
       "      <td>3637</td>\n",
       "      <td>2013</td>\n",
       "      <td>07</td>\n",
       "      <td>12</td>\n",
       "      <td>21:43:01</td>\n",
       "      <td>Corner Bakery</td>\n",
       "      <td>160 N Gulph Rd</td>\n",
       "      <td>King of Prussia</td>\n",
       "      <td>Pennsylvania</td>\n",
       "      <td>19406</td>\n",
       "      <td>40.087050</td>\n",
       "      <td>-75.395706</td>\n",
       "      <td>3.5</td>\n",
       "      <td>63</td>\n",
       "      <td>1</td>\n",
       "      <td>{'AcceptsInsurance': None, 'AgesAllowed': None, 'Alcohol': 'u'none'', 'Ambience': '{u'divey': False, u'hipster': False, u'casual': True, u'touristy': False, u'trendy': False, u'intimate': False, u'romantic': False, u'classy': True, u'upscale': False}', 'BYOB': None, 'BYOBCorkage': None, 'BestNights': None, 'BikeParking': 'False', 'BusinessAcceptsBitcoin': None, 'BusinessAcceptsCreditCards': 'True', 'BusinessParking': '{'garage': False, 'street': False, 'validated': False, 'lot': True, 'valet': False}', 'ByAppointmentOnly': None, 'Caters': 'True', 'CoatCheck': None, 'Corkage': None, 'DietaryRestrictions': None, 'DogsAllowed': None, 'DriveThru': None, 'GoodForDancing': None, 'GoodForKids': 'True', 'GoodForMeal': '{'dessert': False, 'latenight': False, 'lunch': True, 'dinner': True, 'brunch': False, 'breakfast': False}', 'HairSpecializesIn': None, 'HappyHour': None, 'HasTV': 'True', 'Music': None, 'NoiseLevel': 'u'average'', 'Open24Hours': None, 'OutdoorSeating': 'False', 'Restaurants...</td>\n",
       "      <td>Restaurants, Food, Cafes, Bakeries, Italian</td>\n",
       "      <td>{'Friday': '6:30-15:0', 'Monday': '6:30-15:0', 'Saturday': '7:30-15:0', 'Sunday': '7:30-15:0', 'Thursday': '6:30-15:0', 'Tuesday': '6:30-15:0', 'Wednesday': '6:30-15:0'}</td>\n",
       "      <td>XeXoz3XXStmyF3Fs39yLQA</td>\n",
       "    </tr>\n",
       "    <tr>\n",
       "      <th>3875</th>\n",
       "      <td>QUdKrOA3Iv1laFNRgq8W-g</td>\n",
       "      <td>2.0</td>\n",
       "      <td>0</td>\n",
       "      <td>0</td>\n",
       "      <td>0</td>\n",
       "      <td>I went here with a friend who had a Groupon.  The sushi was horrible, full of filler breadcrums and very skimpy on fish.  They took a lot of time and care to decorate the plate with fresh orchids and I wish that they would have invested this extra money into giving us more fish in our rolls.</td>\n",
       "      <td>7115</td>\n",
       "      <td>43092</td>\n",
       "      <td>12856</td>\n",
       "      <td>2013</td>\n",
       "      <td>12</td>\n",
       "      <td>08</td>\n",
       "      <td>18:03:09</td>\n",
       "      <td>Crazy Sushi</td>\n",
       "      <td>1837 Chestnut St</td>\n",
       "      <td>Philadelphia</td>\n",
       "      <td>Pennsylvania</td>\n",
       "      <td>19103</td>\n",
       "      <td>39.952045</td>\n",
       "      <td>-75.171670</td>\n",
       "      <td>4.0</td>\n",
       "      <td>550</td>\n",
       "      <td>1</td>\n",
       "      <td>{'AcceptsInsurance': None, 'AgesAllowed': None, 'Alcohol': 'u'none'', 'Ambience': '{u'divey': False, u'hipster': False, u'casual': None, u'touristy': False, u'trendy': True, u'intimate': None, u'romantic': False, u'classy': None, u'upscale': False}', 'BYOB': 'True', 'BYOBCorkage': None, 'BestNights': None, 'BikeParking': 'True', 'BusinessAcceptsBitcoin': None, 'BusinessAcceptsCreditCards': 'True', 'BusinessParking': '{u'valet': False, u'garage': False, u'street': True, u'lot': False, u'validated': False}', 'ByAppointmentOnly': None, 'Caters': 'False', 'CoatCheck': None, 'Corkage': 'False', 'DietaryRestrictions': None, 'DogsAllowed': None, 'DriveThru': None, 'GoodForDancing': None, 'GoodForKids': 'True', 'GoodForMeal': '{'dessert': False, 'latenight': False, 'lunch': True, 'dinner': True, 'brunch': False, 'breakfast': False}', 'HairSpecializesIn': None, 'HappyHour': 'False', 'HasTV': 'True', 'Music': None, 'NoiseLevel': 'u'average'', 'Open24Hours': None, 'OutdoorSeating': 'False', '...</td>\n",
       "      <td>Restaurants, Japanese, Sushi Bars</td>\n",
       "      <td>{'Friday': '11:30-22:30', 'Monday': '11:30-22:0', 'Saturday': '13:0-22:30', 'Sunday': '13:0-22:0', 'Thursday': '11:30-22:0', 'Tuesday': '11:30-22:0', 'Wednesday': '11:30-22:0'}</td>\n",
       "      <td>QUdKrOA3Iv1laFNRgq8W-g</td>\n",
       "    </tr>\n",
       "    <tr>\n",
       "      <th>4048</th>\n",
       "      <td>k3unLq8yPApU4y7JvZ1Yiw</td>\n",
       "      <td>4.0</td>\n",
       "      <td>0</td>\n",
       "      <td>0</td>\n",
       "      <td>0</td>\n",
       "      <td>I loved it.... Food was good and I love the atmosphere drinks were great!!! It's really a upscale version of the Cheesecake Factory.</td>\n",
       "      <td>7422</td>\n",
       "      <td>132807</td>\n",
       "      <td>11701</td>\n",
       "      <td>2014</td>\n",
       "      <td>04</td>\n",
       "      <td>19</td>\n",
       "      <td>12:37:02</td>\n",
       "      <td>Grand Lux Cafe</td>\n",
       "      <td>2000 Rt 38, Ste 1072, Cherry Hill Mall</td>\n",
       "      <td>Cherry Hill</td>\n",
       "      <td>New Jersey</td>\n",
       "      <td>8002</td>\n",
       "      <td>39.940243</td>\n",
       "      <td>-75.024842</td>\n",
       "      <td>3.5</td>\n",
       "      <td>422</td>\n",
       "      <td>0</td>\n",
       "      <td>{'AcceptsInsurance': None, 'AgesAllowed': None, 'Alcohol': 'u'full_bar'', 'Ambience': '{'touristy': False, 'hipster': False, 'romantic': False, 'divey': False, 'intimate': False, 'trendy': True, 'upscale': False, 'classy': True, 'casual': False}', 'BYOB': None, 'BYOBCorkage': None, 'BestNights': None, 'BikeParking': 'True', 'BusinessAcceptsBitcoin': None, 'BusinessAcceptsCreditCards': 'True', 'BusinessParking': '{'garage': False, 'street': False, 'validated': False, 'lot': True, 'valet': True}', 'ByAppointmentOnly': 'False', 'Caters': 'True', 'CoatCheck': None, 'Corkage': None, 'DietaryRestrictions': None, 'DogsAllowed': 'False', 'DriveThru': 'False', 'GoodForDancing': None, 'GoodForKids': 'True', 'GoodForMeal': '{'dessert': True, 'latenight': False, 'lunch': True, 'dinner': True, 'brunch': True, 'breakfast': False}', 'HairSpecializesIn': None, 'HappyHour': 'True', 'HasTV': 'True', 'Music': None, 'NoiseLevel': 'u'average'', 'Open24Hours': None, 'OutdoorSeating': 'True', 'Restaurant...</td>\n",
       "      <td>Desserts, American (Traditional), Cafes, Restaurants, American (New), Food</td>\n",
       "      <td>{'Friday': '11:30-23:0', 'Monday': '0:0-0:0', 'Saturday': '10:0-23:0', 'Sunday': '10:0-21:0', 'Thursday': '11:30-21:0', 'Tuesday': '11:30-21:0', 'Wednesday': '11:30-21:0'}</td>\n",
       "      <td>k3unLq8yPApU4y7JvZ1Yiw</td>\n",
       "    </tr>\n",
       "    <tr>\n",
       "      <th>5478</th>\n",
       "      <td>zGHtCWY635Ze4-XOCRZtlw</td>\n",
       "      <td>5.0</td>\n",
       "      <td>1</td>\n",
       "      <td>0</td>\n",
       "      <td>0</td>\n",
       "      <td>Enjoyed our meals here.  The service was great and the Sangria's are the best in town!  My husband had the all time favorite spaghetti and meatballs and I filled up on their amazing Chicken Alfredo Your Way and I added shrimp which were succulent and huge.  I would highly recommend this restaurant to those who like a smaller environment with personal service.  They were very busy for Mother's Day but the service was great and it did not take long for our food to arrive.  They were certainly prepared for the day and they even gave all Mothers a fresh cut red rose.  Excellent food, great service and wonderful environment.</td>\n",
       "      <td>10104</td>\n",
       "      <td>182633</td>\n",
       "      <td>10267</td>\n",
       "      <td>2015</td>\n",
       "      <td>05</td>\n",
       "      <td>13</td>\n",
       "      <td>11:35:55</td>\n",
       "      <td>Italian Kitchen &amp; Cafe</td>\n",
       "      <td>6915 US Hwy 301 S</td>\n",
       "      <td>Riverview</td>\n",
       "      <td>Florida</td>\n",
       "      <td>33569</td>\n",
       "      <td>27.881078</td>\n",
       "      <td>-82.328286</td>\n",
       "      <td>4.0</td>\n",
       "      <td>140</td>\n",
       "      <td>1</td>\n",
       "      <td>{'AcceptsInsurance': None, 'AgesAllowed': None, 'Alcohol': ''beer_and_wine'', 'Ambience': '{'touristy': False, 'hipster': False, 'romantic': False, 'divey': False, 'intimate': False, 'trendy': False, 'upscale': False, 'classy': True, 'casual': True}', 'BYOB': None, 'BYOBCorkage': None, 'BestNights': None, 'BikeParking': 'True', 'BusinessAcceptsBitcoin': None, 'BusinessAcceptsCreditCards': 'True', 'BusinessParking': '{'garage': False, 'street': False, 'validated': False, 'lot': True, 'valet': False}', 'ByAppointmentOnly': None, 'Caters': 'True', 'CoatCheck': None, 'Corkage': None, 'DietaryRestrictions': None, 'DogsAllowed': 'False', 'DriveThru': None, 'GoodForDancing': None, 'GoodForKids': 'True', 'GoodForMeal': '{'dessert': False, 'latenight': False, 'lunch': False, 'dinner': True, 'brunch': False, 'breakfast': False}', 'HairSpecializesIn': None, 'HappyHour': None, 'HasTV': 'True', 'Music': None, 'NoiseLevel': 'u'quiet'', 'Open24Hours': None, 'OutdoorSeating': 'True', 'RestaurantsA...</td>\n",
       "      <td>Italian, Internet Cafes, Restaurants, Food</td>\n",
       "      <td>{'Friday': '12:0-22:0', 'Monday': '12:0-22:0', 'Saturday': '12:0-22:0', 'Sunday': '12:0-20:0', 'Thursday': '12:0-22:0', 'Tuesday': '12:0-22:0', 'Wednesday': '12:0-22:0'}</td>\n",
       "      <td>zGHtCWY635Ze4-XOCRZtlw</td>\n",
       "    </tr>\n",
       "    <tr>\n",
       "      <th>6049</th>\n",
       "      <td>ILaqTGmCLmifLsU_A30dbA</td>\n",
       "      <td>4.0</td>\n",
       "      <td>0</td>\n",
       "      <td>0</td>\n",
       "      <td>0</td>\n",
       "      <td>Good B&amp;B style hotel, reasonably priced. Great location, close to beach, State Street, and Urban wine trail. A little noisy, but not a big problem. Would stay there again.</td>\n",
       "      <td>11136</td>\n",
       "      <td>144462</td>\n",
       "      <td>9072</td>\n",
       "      <td>2014</td>\n",
       "      <td>05</td>\n",
       "      <td>26</td>\n",
       "      <td>02:33:13</td>\n",
       "      <td>The Eagle Inn</td>\n",
       "      <td>232 Natoma Ave</td>\n",
       "      <td>Santa Barbara</td>\n",
       "      <td>California</td>\n",
       "      <td>93101</td>\n",
       "      <td>34.410521</td>\n",
       "      <td>-119.694328</td>\n",
       "      <td>4.5</td>\n",
       "      <td>368</td>\n",
       "      <td>1</td>\n",
       "      <td>{'AcceptsInsurance': None, 'AgesAllowed': None, 'Alcohol': None, 'Ambience': None, 'BYOB': None, 'BYOBCorkage': None, 'BestNights': None, 'BikeParking': None, 'BusinessAcceptsBitcoin': 'False', 'BusinessAcceptsCreditCards': 'True', 'BusinessParking': None, 'ByAppointmentOnly': None, 'Caters': None, 'CoatCheck': None, 'Corkage': None, 'DietaryRestrictions': None, 'DogsAllowed': 'False', 'DriveThru': None, 'GoodForDancing': None, 'GoodForKids': None, 'GoodForMeal': None, 'HairSpecializesIn': None, 'HappyHour': None, 'HasTV': None, 'Music': None, 'NoiseLevel': None, 'Open24Hours': None, 'OutdoorSeating': None, 'RestaurantsAttire': None, 'RestaurantsCounterService': None, 'RestaurantsDelivery': None, 'RestaurantsGoodForGroups': None, 'RestaurantsPriceRange2': '2', 'RestaurantsReservations': None, 'RestaurantsTableService': None, 'RestaurantsTakeOut': None, 'Smoking': None, 'WheelchairAccessible': None, 'WiFi': 'u'free''}</td>\n",
       "      <td>Event Planning &amp; Services, Hotels &amp; Travel, Bed &amp; Breakfast, Hotels</td>\n",
       "      <td>{'Friday': '8:0-22:0', 'Monday': '8:0-22:0', 'Saturday': '8:0-22:0', 'Sunday': '8:0-22:0', 'Thursday': '8:0-22:0', 'Tuesday': '8:0-22:0', 'Wednesday': '8:0-22:0'}</td>\n",
       "      <td>ILaqTGmCLmifLsU_A30dbA</td>\n",
       "    </tr>\n",
       "    <tr>\n",
       "      <th>...</th>\n",
       "      <td>...</td>\n",
       "      <td>...</td>\n",
       "      <td>...</td>\n",
       "      <td>...</td>\n",
       "      <td>...</td>\n",
       "      <td>...</td>\n",
       "      <td>...</td>\n",
       "      <td>...</td>\n",
       "      <td>...</td>\n",
       "      <td>...</td>\n",
       "      <td>...</td>\n",
       "      <td>...</td>\n",
       "      <td>...</td>\n",
       "      <td>...</td>\n",
       "      <td>...</td>\n",
       "      <td>...</td>\n",
       "      <td>...</td>\n",
       "      <td>...</td>\n",
       "      <td>...</td>\n",
       "      <td>...</td>\n",
       "      <td>...</td>\n",
       "      <td>...</td>\n",
       "      <td>...</td>\n",
       "      <td>...</td>\n",
       "      <td>...</td>\n",
       "      <td>...</td>\n",
       "      <td>...</td>\n",
       "    </tr>\n",
       "    <tr>\n",
       "      <th>3759700</th>\n",
       "      <td>0JYDNwIbUz-0Mq6c7BdC-Q</td>\n",
       "      <td>1.0</td>\n",
       "      <td>5</td>\n",
       "      <td>0</td>\n",
       "      <td>0</td>\n",
       "      <td>I recently moved my business down the street from here. Instead of going to the Home Depot a little further to get some keys copied, I decided to check out the area and go to this store since it was local and seemed like a nice place. i received an attitude almost immediately from the woman behind the counter. She was completely rude and not helpful at all. It almost made me feel like I was bothering her for being there. She kept making sarcastic remarks to me, almost to antagonize me or something. I did not have a good experience. Next time I need something, I don't mind driving an extra mile or two to the Home Depot in Cherry Hill.</td>\n",
       "      <td>6961276</td>\n",
       "      <td>342451</td>\n",
       "      <td>149561</td>\n",
       "      <td>2015</td>\n",
       "      <td>05</td>\n",
       "      <td>08</td>\n",
       "      <td>02:49:38</td>\n",
       "      <td>Westmont Ace Hardware</td>\n",
       "      <td>127 Haddon Ave</td>\n",
       "      <td>Westmont</td>\n",
       "      <td>New Jersey</td>\n",
       "      <td>8108</td>\n",
       "      <td>39.911006</td>\n",
       "      <td>-75.050072</td>\n",
       "      <td>3.5</td>\n",
       "      <td>27</td>\n",
       "      <td>1</td>\n",
       "      <td>{'AcceptsInsurance': None, 'AgesAllowed': None, 'Alcohol': None, 'Ambience': None, 'BYOB': None, 'BYOBCorkage': None, 'BestNights': None, 'BikeParking': 'True', 'BusinessAcceptsBitcoin': None, 'BusinessAcceptsCreditCards': 'True', 'BusinessParking': '{'garage': False, 'street': True, 'validated': False, 'lot': True, 'valet': False}', 'ByAppointmentOnly': None, 'Caters': None, 'CoatCheck': None, 'Corkage': None, 'DietaryRestrictions': None, 'DogsAllowed': None, 'DriveThru': None, 'GoodForDancing': None, 'GoodForKids': None, 'GoodForMeal': None, 'HairSpecializesIn': None, 'HappyHour': None, 'HasTV': None, 'Music': None, 'NoiseLevel': None, 'Open24Hours': None, 'OutdoorSeating': None, 'RestaurantsAttire': None, 'RestaurantsCounterService': None, 'RestaurantsDelivery': None, 'RestaurantsGoodForGroups': None, 'RestaurantsPriceRange2': '2', 'RestaurantsReservations': None, 'RestaurantsTableService': None, 'RestaurantsTakeOut': None, 'Smoking': None, 'WheelchairAccessible': None, 'WiFi': ...</td>\n",
       "      <td>Home &amp; Garden, Shopping, Hardware Stores</td>\n",
       "      <td>{'Friday': '8:30-18:0', 'Monday': '8:30-18:0', 'Saturday': '8:30-18:0', 'Sunday': '9:0-17:0', 'Thursday': '8:30-18:0', 'Tuesday': '8:30-18:0', 'Wednesday': '8:30-18:0'}</td>\n",
       "      <td>0JYDNwIbUz-0Mq6c7BdC-Q</td>\n",
       "    </tr>\n",
       "    <tr>\n",
       "      <th>3763435</th>\n",
       "      <td>6bMjGnC2pMJwQ5m1T0Ij3A</td>\n",
       "      <td>2.0</td>\n",
       "      <td>1</td>\n",
       "      <td>0</td>\n",
       "      <td>0</td>\n",
       "      <td>I've had their food truck stop by a few times.  I tried the sausage sandwich and their Lasgna.\\n\\nThe food is only ok, at least from the truck.  The lasagna was a huge portion and the meat was actually pretty good.  However the pasta in the lasagna was very mediocre.    I honest to goodness wasn't sure if this came from a Frozen dinner that got heated up.  I'm giving the driver the benefit of the doubt and assume that he did cook the food and didn't just make it hot in an oven.  But the meal definitely needed fresh ingredient like basil, lemon, or garlic.  There was parmasan but I couldn't taste it.\\n\\nThe sausage sandwich was not good.  Not enough marinara sauce.  Speaking of sauce, it was so plain and flavorless.  That's why I couldn't tell whether he just heated up my food from a freezer or not.  Apparently the restaurant has been around for years.  Like I really have to wonder how much longer the place can last.  Oh and by the way I tried to look up the food truck info on the w...</td>\n",
       "      <td>6967915</td>\n",
       "      <td>215891</td>\n",
       "      <td>137851</td>\n",
       "      <td>2013</td>\n",
       "      <td>08</td>\n",
       "      <td>24</td>\n",
       "      <td>23:38:03</td>\n",
       "      <td>A Taste Of New York</td>\n",
       "      <td>6135 Lakeside Dr, Ste 101</td>\n",
       "      <td>Reno</td>\n",
       "      <td>Nevada</td>\n",
       "      <td>89511</td>\n",
       "      <td>39.471094</td>\n",
       "      <td>-119.808828</td>\n",
       "      <td>3.0</td>\n",
       "      <td>20</td>\n",
       "      <td>0</td>\n",
       "      <td>{'AcceptsInsurance': None, 'AgesAllowed': None, 'Alcohol': 'u'none'', 'Ambience': '{'romantic': False, 'intimate': False, 'touristy': False, 'hipster': False, 'divey': False, 'classy': False, 'trendy': False, 'upscale': False, 'casual': True}', 'BYOB': None, 'BYOBCorkage': None, 'BestNights': None, 'BikeParking': None, 'BusinessAcceptsBitcoin': None, 'BusinessAcceptsCreditCards': 'True', 'BusinessParking': '{'garage': False, 'street': False, 'validated': False, 'lot': True, 'valet': False}', 'ByAppointmentOnly': None, 'Caters': 'True', 'CoatCheck': None, 'Corkage': None, 'DietaryRestrictions': None, 'DogsAllowed': None, 'DriveThru': None, 'GoodForDancing': None, 'GoodForKids': 'True', 'GoodForMeal': None, 'HairSpecializesIn': None, 'HappyHour': None, 'HasTV': 'False', 'Music': None, 'NoiseLevel': 'u'average'', 'Open24Hours': None, 'OutdoorSeating': 'True', 'RestaurantsAttire': 'u'casual'', 'RestaurantsCounterService': None, 'RestaurantsDelivery': 'True', 'RestaurantsGoodForGroups':...</td>\n",
       "      <td>Restaurants, Sandwiches, Caterers, Pizza, Italian, Event Planning &amp; Services</td>\n",
       "      <td>{'Friday': '11:0-21:0', 'Monday': '11:0-21:0', 'Saturday': '11:0-21:0', 'Sunday': None, 'Thursday': '11:0-21:0', 'Tuesday': '11:0-21:0', 'Wednesday': '11:0-21:0'}</td>\n",
       "      <td>6bMjGnC2pMJwQ5m1T0Ij3A</td>\n",
       "    </tr>\n",
       "    <tr>\n",
       "      <th>3765760</th>\n",
       "      <td>TIDMVPYg6-c4xy_pyFnLSg</td>\n",
       "      <td>5.0</td>\n",
       "      <td>1</td>\n",
       "      <td>0</td>\n",
       "      <td>0</td>\n",
       "      <td>Great service and honest. Gat chance to meet GM Mr. Tarr. He was great. Got me new car for best price in bay area and they did service on my old Dodge Ram much cheaper than local mechanic. Highly recommended.</td>\n",
       "      <td>6972014</td>\n",
       "      <td>36750</td>\n",
       "      <td>143231</td>\n",
       "      <td>2012</td>\n",
       "      <td>04</td>\n",
       "      <td>26</td>\n",
       "      <td>16:44:31</td>\n",
       "      <td>Ferman Ford</td>\n",
       "      <td>24825 U S Highway 19 N</td>\n",
       "      <td>Clearwater</td>\n",
       "      <td>Florida</td>\n",
       "      <td>33763</td>\n",
       "      <td>27.997927</td>\n",
       "      <td>-82.728249</td>\n",
       "      <td>3.0</td>\n",
       "      <td>86</td>\n",
       "      <td>1</td>\n",
       "      <td>{'AcceptsInsurance': None, 'AgesAllowed': None, 'Alcohol': None, 'Ambience': None, 'BYOB': None, 'BYOBCorkage': None, 'BestNights': None, 'BikeParking': None, 'BusinessAcceptsBitcoin': None, 'BusinessAcceptsCreditCards': 'True', 'BusinessParking': None, 'ByAppointmentOnly': None, 'Caters': None, 'CoatCheck': None, 'Corkage': None, 'DietaryRestrictions': None, 'DogsAllowed': None, 'DriveThru': None, 'GoodForDancing': None, 'GoodForKids': None, 'GoodForMeal': None, 'HairSpecializesIn': None, 'HappyHour': None, 'HasTV': None, 'Music': None, 'NoiseLevel': None, 'Open24Hours': None, 'OutdoorSeating': None, 'RestaurantsAttire': None, 'RestaurantsCounterService': None, 'RestaurantsDelivery': None, 'RestaurantsGoodForGroups': None, 'RestaurantsPriceRange2': None, 'RestaurantsReservations': None, 'RestaurantsTableService': None, 'RestaurantsTakeOut': None, 'Smoking': None, 'WheelchairAccessible': None, 'WiFi': None}</td>\n",
       "      <td>Used Car Dealers, Car Dealers, Automotive, Auto Repair</td>\n",
       "      <td>{'Friday': '9:0-20:0', 'Monday': '0:0-0:0', 'Saturday': '10:0-18:0', 'Sunday': '11:0-17:0', 'Thursday': '9:0-20:0', 'Tuesday': '9:0-20:0', 'Wednesday': '9:0-20:0'}</td>\n",
       "      <td>TIDMVPYg6-c4xy_pyFnLSg</td>\n",
       "    </tr>\n",
       "    <tr>\n",
       "      <th>3767315</th>\n",
       "      <td>zH3MrgrlRI8ETxniB7Zv7A</td>\n",
       "      <td>1.0</td>\n",
       "      <td>4</td>\n",
       "      <td>1</td>\n",
       "      <td>0</td>\n",
       "      <td>Disgusting place. Finger nails all over the floor and on the table as I sat down to get a manicure. The woman began cutting my cuticles and I noticed dead skin and other residue from someone else's finger nails on the tool she was using. I had to stop her and say something. She then proceeded to wipe it off with a tissue and try to use it again on me. I said no thanks and told her to only give me a polish change, I would not just sit there and let that happen but at the same time I didn't want to walk out either. She was pissed and did a shitty job on simply painting my nails. There was polish all over my skin. I walked out disgusted and annoyed with myself I wasted a mere 6 dollars on that place.</td>\n",
       "      <td>6974804</td>\n",
       "      <td>182199</td>\n",
       "      <td>143266</td>\n",
       "      <td>2012</td>\n",
       "      <td>11</td>\n",
       "      <td>01</td>\n",
       "      <td>19:15:28</td>\n",
       "      <td>Universal Nail Salon</td>\n",
       "      <td>200 W Ridge Park, Ste 105, Plymouth Square Shopping Center</td>\n",
       "      <td>Conshohocken</td>\n",
       "      <td>Pennsylvania</td>\n",
       "      <td>19428</td>\n",
       "      <td>40.096144</td>\n",
       "      <td>-75.287636</td>\n",
       "      <td>3.0</td>\n",
       "      <td>29</td>\n",
       "      <td>1</td>\n",
       "      <td>{'AcceptsInsurance': None, 'AgesAllowed': None, 'Alcohol': None, 'Ambience': None, 'BYOB': None, 'BYOBCorkage': None, 'BestNights': None, 'BikeParking': 'False', 'BusinessAcceptsBitcoin': None, 'BusinessAcceptsCreditCards': 'True', 'BusinessParking': '{'garage': False, 'street': False, 'validated': False, 'lot': True, 'valet': False}', 'ByAppointmentOnly': 'False', 'Caters': None, 'CoatCheck': None, 'Corkage': None, 'DietaryRestrictions': None, 'DogsAllowed': None, 'DriveThru': None, 'GoodForDancing': None, 'GoodForKids': None, 'GoodForMeal': None, 'HairSpecializesIn': None, 'HappyHour': None, 'HasTV': None, 'Music': None, 'NoiseLevel': None, 'Open24Hours': None, 'OutdoorSeating': None, 'RestaurantsAttire': None, 'RestaurantsCounterService': None, 'RestaurantsDelivery': None, 'RestaurantsGoodForGroups': None, 'RestaurantsPriceRange2': '2', 'RestaurantsReservations': None, 'RestaurantsTableService': None, 'RestaurantsTakeOut': None, 'Smoking': None, 'WheelchairAccessible': None, 'Wi...</td>\n",
       "      <td>Beauty &amp; Spas, Nail Salons</td>\n",
       "      <td>{'Friday': '9:30-19:30', 'Monday': '9:30-19:30', 'Saturday': '9:0-19:0', 'Sunday': '10:0-18:0', 'Thursday': '9:30-19:30', 'Tuesday': '9:30-19:30', 'Wednesday': '9:30-19:30'}</td>\n",
       "      <td>zH3MrgrlRI8ETxniB7Zv7A</td>\n",
       "    </tr>\n",
       "    <tr>\n",
       "      <th>3770587</th>\n",
       "      <td>2gmnSMUUnS-o8u0Xco62WQ</td>\n",
       "      <td>1.0</td>\n",
       "      <td>3</td>\n",
       "      <td>0</td>\n",
       "      <td>0</td>\n",
       "      <td>I spoke to an artist about designing a memorial tattoo. He sketched something up and we set an appointment for the following week. The night before he text me saying the owner cancelled my appointment because they were running a class. I had already prepared childcare but I agreed to reschedule. We set a second appointment and again the night before he text me and cancelled my appointment.  He did not reschedule this time and I didn't hear from him again for almost a week. I had to pay childcare cancelation fees and never got my tattoo! Horrible customer service!</td>\n",
       "      <td>6980607</td>\n",
       "      <td>173491</td>\n",
       "      <td>135964</td>\n",
       "      <td>2015</td>\n",
       "      <td>03</td>\n",
       "      <td>20</td>\n",
       "      <td>14:12:53</td>\n",
       "      <td>Body Art &amp; Soul Tattoo</td>\n",
       "      <td></td>\n",
       "      <td>Upper Darby</td>\n",
       "      <td>Pennsylvania</td>\n",
       "      <td>19082</td>\n",
       "      <td>39.957394</td>\n",
       "      <td>-75.265406</td>\n",
       "      <td>5.0</td>\n",
       "      <td>20</td>\n",
       "      <td>1</td>\n",
       "      <td>{'AcceptsInsurance': None, 'AgesAllowed': None, 'Alcohol': None, 'Ambience': None, 'BYOB': None, 'BYOBCorkage': None, 'BestNights': None, 'BikeParking': 'True', 'BusinessAcceptsBitcoin': None, 'BusinessAcceptsCreditCards': 'True', 'BusinessParking': '{'garage': False, 'street': True, 'validated': False, 'lot': False, 'valet': False}', 'ByAppointmentOnly': 'False', 'Caters': None, 'CoatCheck': None, 'Corkage': None, 'DietaryRestrictions': None, 'DogsAllowed': None, 'DriveThru': None, 'GoodForDancing': None, 'GoodForKids': None, 'GoodForMeal': None, 'HairSpecializesIn': None, 'HappyHour': None, 'HasTV': None, 'Music': None, 'NoiseLevel': None, 'Open24Hours': None, 'OutdoorSeating': None, 'RestaurantsAttire': None, 'RestaurantsCounterService': None, 'RestaurantsDelivery': None, 'RestaurantsGoodForGroups': None, 'RestaurantsPriceRange2': '2', 'RestaurantsReservations': None, 'RestaurantsTableService': None, 'RestaurantsTakeOut': None, 'Smoking': None, 'WheelchairAccessible': 'True', 'W...</td>\n",
       "      <td>Beauty &amp; Spas, Piercing, Tattoo</td>\n",
       "      <td>{'Friday': '13:0-22:0', 'Monday': '10:0-22:0', 'Saturday': '13:0-21:0', 'Sunday': None, 'Thursday': '10:0-22:0', 'Tuesday': '10:0-22:0', 'Wednesday': '10:0-22:0'}</td>\n",
       "      <td>2gmnSMUUnS-o8u0Xco62WQ</td>\n",
       "    </tr>\n",
       "  </tbody>\n",
       "</table>\n",
       "<p>3448 rows × 27 columns</p>\n",
       "</div>"
      ],
      "text/plain": [
       "                        user_id  stars_Dataset_Review  useful  funny  cool  \\\n",
       "1411     XeXoz3XXStmyF3Fs39yLQA                   1.0       0      0     0   \n",
       "3875     QUdKrOA3Iv1laFNRgq8W-g                   2.0       0      0     0   \n",
       "4048     k3unLq8yPApU4y7JvZ1Yiw                   4.0       0      0     0   \n",
       "5478     zGHtCWY635Ze4-XOCRZtlw                   5.0       1      0     0   \n",
       "6049     ILaqTGmCLmifLsU_A30dbA                   4.0       0      0     0   \n",
       "...                         ...                   ...     ...    ...   ...   \n",
       "3759700  0JYDNwIbUz-0Mq6c7BdC-Q                   1.0       5      0     0   \n",
       "3763435  6bMjGnC2pMJwQ5m1T0Ij3A                   2.0       1      0     0   \n",
       "3765760  TIDMVPYg6-c4xy_pyFnLSg                   5.0       1      0     0   \n",
       "3767315  zH3MrgrlRI8ETxniB7Zv7A                   1.0       4      1     0   \n",
       "3770587  2gmnSMUUnS-o8u0Xco62WQ                   1.0       3      0     0   \n",
       "\n",
       "                                                                                                                                                                                                                                                                                                                                                                                                                                                                                                                                                                                                                                                                                                                                                                                                                                                                                                                                                                                                                                            text  \\\n",
       "1411                                                                                                                                                                                                                                                                                        expensive, bad food and service.\\nI have been to other corner bakery cafes, and I usually like them, but I tend to get terrible service at this one. These problems manifests as long waits for meals even during slow times, and getting orders wrong.\\nThe last time (never again) I went in it was a slow morning, and it took them 45 minutes to get me my eggs, and when they came they were cold. I informed the cashier that my eggs were cold and I asked him if they could make me new eggs.  He said yes, and took my eggs.  He came back out with my same plate, and it was evident that he microwaved the plate with the toast and fruit on it; the toast was soggy, and fruit warm. I returned my food, and have vowed to never return.   \n",
       "3875                                                                                                                                                                                                                                                                                                                                                                                                                                                                                                                                                                                                                                                                                                                                        I went here with a friend who had a Groupon.  The sushi was horrible, full of filler breadcrums and very skimpy on fish.  They took a lot of time and care to decorate the plate with fresh orchids and I wish that they would have invested this extra money into giving us more fish in our rolls.   \n",
       "4048                                                                                                                                                                                                                                                                                                                                                                                                                                                                                                                                                                                                                                                                                                                                                                                                                                                                                                        I loved it.... Food was good and I love the atmosphere drinks were great!!! It's really a upscale version of the Cheesecake Factory.   \n",
       "5478                                                                                                                                                                                                                                                                                                                                                                                         Enjoyed our meals here.  The service was great and the Sangria's are the best in town!  My husband had the all time favorite spaghetti and meatballs and I filled up on their amazing Chicken Alfredo Your Way and I added shrimp which were succulent and huge.  I would highly recommend this restaurant to those who like a smaller environment with personal service.  They were very busy for Mother's Day but the service was great and it did not take long for our food to arrive.  They were certainly prepared for the day and they even gave all Mothers a fresh cut red rose.  Excellent food, great service and wonderful environment.   \n",
       "6049                                                                                                                                                                                                                                                                                                                                                                                                                                                                                                                                                                                                                                                                                                                                                                                                                                                                 Good B&B style hotel, reasonably priced. Great location, close to beach, State Street, and Urban wine trail. A little noisy, but not a big problem. Would stay there again.   \n",
       "...                                                                                                                                                                                                                                                                                                                                                                                                                                                                                                                                                                                                                                                                                                                                                                                                                                                                                                                                                                                                                                          ...   \n",
       "3759700                                                                                                                                                                                                                                                                                                                                                                        I recently moved my business down the street from here. Instead of going to the Home Depot a little further to get some keys copied, I decided to check out the area and go to this store since it was local and seemed like a nice place. i received an attitude almost immediately from the woman behind the counter. She was completely rude and not helpful at all. It almost made me feel like I was bothering her for being there. She kept making sarcastic remarks to me, almost to antagonize me or something. I did not have a good experience. Next time I need something, I don't mind driving an extra mile or two to the Home Depot in Cherry Hill.   \n",
       "3763435  I've had their food truck stop by a few times.  I tried the sausage sandwich and their Lasgna.\\n\\nThe food is only ok, at least from the truck.  The lasagna was a huge portion and the meat was actually pretty good.  However the pasta in the lasagna was very mediocre.    I honest to goodness wasn't sure if this came from a Frozen dinner that got heated up.  I'm giving the driver the benefit of the doubt and assume that he did cook the food and didn't just make it hot in an oven.  But the meal definitely needed fresh ingredient like basil, lemon, or garlic.  There was parmasan but I couldn't taste it.\\n\\nThe sausage sandwich was not good.  Not enough marinara sauce.  Speaking of sauce, it was so plain and flavorless.  That's why I couldn't tell whether he just heated up my food from a freezer or not.  Apparently the restaurant has been around for years.  Like I really have to wonder how much longer the place can last.  Oh and by the way I tried to look up the food truck info on the w...   \n",
       "3765760                                                                                                                                                                                                                                                                                                                                                                                                                                                                                                                                                                                                                                                                                                                                                                                                                         Great service and honest. Gat chance to meet GM Mr. Tarr. He was great. Got me new car for best price in bay area and they did service on my old Dodge Ram much cheaper than local mechanic. Highly recommended.   \n",
       "3767315                                                                                                                                                                                                                                                                                                       Disgusting place. Finger nails all over the floor and on the table as I sat down to get a manicure. The woman began cutting my cuticles and I noticed dead skin and other residue from someone else's finger nails on the tool she was using. I had to stop her and say something. She then proceeded to wipe it off with a tissue and try to use it again on me. I said no thanks and told her to only give me a polish change, I would not just sit there and let that happen but at the same time I didn't want to walk out either. She was pissed and did a shitty job on simply painting my nails. There was polish all over my skin. I walked out disgusted and annoyed with myself I wasted a mere 6 dollars on that place.   \n",
       "3770587                                                                                                                                                                                                                                                                                                                                                                                                                                                I spoke to an artist about designing a memorial tattoo. He sketched something up and we set an appointment for the following week. The night before he text me saying the owner cancelled my appointment because they were running a class. I had already prepared childcare but I agreed to reschedule. We set a second appointment and again the night before he text me and cancelled my appointment.  He did not reschedule this time and I didn't hear from him again for almost a week. I had to pay childcare cancelation fees and never got my tattoo! Horrible customer service!   \n",
       "\n",
       "         id_review  id_user  id_business  anho mes dia      hora  \\\n",
       "1411          2607   162028         3637  2013  07  12  21:43:01   \n",
       "3875          7115    43092        12856  2013  12  08  18:03:09   \n",
       "4048          7422   132807        11701  2014  04  19  12:37:02   \n",
       "5478         10104   182633        10267  2015  05  13  11:35:55   \n",
       "6049         11136   144462         9072  2014  05  26  02:33:13   \n",
       "...            ...      ...          ...   ...  ..  ..       ...   \n",
       "3759700    6961276   342451       149561  2015  05  08  02:49:38   \n",
       "3763435    6967915   215891       137851  2013  08  24  23:38:03   \n",
       "3765760    6972014    36750       143231  2012  04  26  16:44:31   \n",
       "3767315    6974804   182199       143266  2012  11  01  19:15:28   \n",
       "3770587    6980607   173491       135964  2015  03  20  14:12:53   \n",
       "\n",
       "                           name  \\\n",
       "1411              Corner Bakery   \n",
       "3875                Crazy Sushi   \n",
       "4048             Grand Lux Cafe   \n",
       "5478     Italian Kitchen & Cafe   \n",
       "6049              The Eagle Inn   \n",
       "...                         ...   \n",
       "3759700   Westmont Ace Hardware   \n",
       "3763435     A Taste Of New York   \n",
       "3765760             Ferman Ford   \n",
       "3767315    Universal Nail Salon   \n",
       "3770587  Body Art & Soul Tattoo   \n",
       "\n",
       "                                                            address  \\\n",
       "1411                                                 160 N Gulph Rd   \n",
       "3875                                               1837 Chestnut St   \n",
       "4048                         2000 Rt 38, Ste 1072, Cherry Hill Mall   \n",
       "5478                                              6915 US Hwy 301 S   \n",
       "6049                                                 232 Natoma Ave   \n",
       "...                                                             ...   \n",
       "3759700                                              127 Haddon Ave   \n",
       "3763435                                   6135 Lakeside Dr, Ste 101   \n",
       "3765760                                      24825 U S Highway 19 N   \n",
       "3767315  200 W Ridge Park, Ste 105, Plymouth Square Shopping Center   \n",
       "3770587                                                               \n",
       "\n",
       "                    city         state  postal_code   latitude   longitude  \\\n",
       "1411     King of Prussia  Pennsylvania        19406  40.087050  -75.395706   \n",
       "3875        Philadelphia  Pennsylvania        19103  39.952045  -75.171670   \n",
       "4048         Cherry Hill    New Jersey         8002  39.940243  -75.024842   \n",
       "5478           Riverview       Florida        33569  27.881078  -82.328286   \n",
       "6049       Santa Barbara    California        93101  34.410521 -119.694328   \n",
       "...                  ...           ...          ...        ...         ...   \n",
       "3759700         Westmont    New Jersey         8108  39.911006  -75.050072   \n",
       "3763435             Reno        Nevada        89511  39.471094 -119.808828   \n",
       "3765760       Clearwater       Florida        33763  27.997927  -82.728249   \n",
       "3767315     Conshohocken  Pennsylvania        19428  40.096144  -75.287636   \n",
       "3770587      Upper Darby  Pennsylvania        19082  39.957394  -75.265406   \n",
       "\n",
       "         stars_Dataset_Business  review_count  is_open  \\\n",
       "1411                        3.5            63        1   \n",
       "3875                        4.0           550        1   \n",
       "4048                        3.5           422        0   \n",
       "5478                        4.0           140        1   \n",
       "6049                        4.5           368        1   \n",
       "...                         ...           ...      ...   \n",
       "3759700                     3.5            27        1   \n",
       "3763435                     3.0            20        0   \n",
       "3765760                     3.0            86        1   \n",
       "3767315                     3.0            29        1   \n",
       "3770587                     5.0            20        1   \n",
       "\n",
       "                                                                                                                                                                                                                                                                                                                                                                                                                                                                                                                                                                                                                                                                                                                                                                                                                                                                                                                                                                                                                                      attributes  \\\n",
       "1411     {'AcceptsInsurance': None, 'AgesAllowed': None, 'Alcohol': 'u'none'', 'Ambience': '{u'divey': False, u'hipster': False, u'casual': True, u'touristy': False, u'trendy': False, u'intimate': False, u'romantic': False, u'classy': True, u'upscale': False}', 'BYOB': None, 'BYOBCorkage': None, 'BestNights': None, 'BikeParking': 'False', 'BusinessAcceptsBitcoin': None, 'BusinessAcceptsCreditCards': 'True', 'BusinessParking': '{'garage': False, 'street': False, 'validated': False, 'lot': True, 'valet': False}', 'ByAppointmentOnly': None, 'Caters': 'True', 'CoatCheck': None, 'Corkage': None, 'DietaryRestrictions': None, 'DogsAllowed': None, 'DriveThru': None, 'GoodForDancing': None, 'GoodForKids': 'True', 'GoodForMeal': '{'dessert': False, 'latenight': False, 'lunch': True, 'dinner': True, 'brunch': False, 'breakfast': False}', 'HairSpecializesIn': None, 'HappyHour': None, 'HasTV': 'True', 'Music': None, 'NoiseLevel': 'u'average'', 'Open24Hours': None, 'OutdoorSeating': 'False', 'Restaurants...   \n",
       "3875     {'AcceptsInsurance': None, 'AgesAllowed': None, 'Alcohol': 'u'none'', 'Ambience': '{u'divey': False, u'hipster': False, u'casual': None, u'touristy': False, u'trendy': True, u'intimate': None, u'romantic': False, u'classy': None, u'upscale': False}', 'BYOB': 'True', 'BYOBCorkage': None, 'BestNights': None, 'BikeParking': 'True', 'BusinessAcceptsBitcoin': None, 'BusinessAcceptsCreditCards': 'True', 'BusinessParking': '{u'valet': False, u'garage': False, u'street': True, u'lot': False, u'validated': False}', 'ByAppointmentOnly': None, 'Caters': 'False', 'CoatCheck': None, 'Corkage': 'False', 'DietaryRestrictions': None, 'DogsAllowed': None, 'DriveThru': None, 'GoodForDancing': None, 'GoodForKids': 'True', 'GoodForMeal': '{'dessert': False, 'latenight': False, 'lunch': True, 'dinner': True, 'brunch': False, 'breakfast': False}', 'HairSpecializesIn': None, 'HappyHour': 'False', 'HasTV': 'True', 'Music': None, 'NoiseLevel': 'u'average'', 'Open24Hours': None, 'OutdoorSeating': 'False', '...   \n",
       "4048     {'AcceptsInsurance': None, 'AgesAllowed': None, 'Alcohol': 'u'full_bar'', 'Ambience': '{'touristy': False, 'hipster': False, 'romantic': False, 'divey': False, 'intimate': False, 'trendy': True, 'upscale': False, 'classy': True, 'casual': False}', 'BYOB': None, 'BYOBCorkage': None, 'BestNights': None, 'BikeParking': 'True', 'BusinessAcceptsBitcoin': None, 'BusinessAcceptsCreditCards': 'True', 'BusinessParking': '{'garage': False, 'street': False, 'validated': False, 'lot': True, 'valet': True}', 'ByAppointmentOnly': 'False', 'Caters': 'True', 'CoatCheck': None, 'Corkage': None, 'DietaryRestrictions': None, 'DogsAllowed': 'False', 'DriveThru': 'False', 'GoodForDancing': None, 'GoodForKids': 'True', 'GoodForMeal': '{'dessert': True, 'latenight': False, 'lunch': True, 'dinner': True, 'brunch': True, 'breakfast': False}', 'HairSpecializesIn': None, 'HappyHour': 'True', 'HasTV': 'True', 'Music': None, 'NoiseLevel': 'u'average'', 'Open24Hours': None, 'OutdoorSeating': 'True', 'Restaurant...   \n",
       "5478     {'AcceptsInsurance': None, 'AgesAllowed': None, 'Alcohol': ''beer_and_wine'', 'Ambience': '{'touristy': False, 'hipster': False, 'romantic': False, 'divey': False, 'intimate': False, 'trendy': False, 'upscale': False, 'classy': True, 'casual': True}', 'BYOB': None, 'BYOBCorkage': None, 'BestNights': None, 'BikeParking': 'True', 'BusinessAcceptsBitcoin': None, 'BusinessAcceptsCreditCards': 'True', 'BusinessParking': '{'garage': False, 'street': False, 'validated': False, 'lot': True, 'valet': False}', 'ByAppointmentOnly': None, 'Caters': 'True', 'CoatCheck': None, 'Corkage': None, 'DietaryRestrictions': None, 'DogsAllowed': 'False', 'DriveThru': None, 'GoodForDancing': None, 'GoodForKids': 'True', 'GoodForMeal': '{'dessert': False, 'latenight': False, 'lunch': False, 'dinner': True, 'brunch': False, 'breakfast': False}', 'HairSpecializesIn': None, 'HappyHour': None, 'HasTV': 'True', 'Music': None, 'NoiseLevel': 'u'quiet'', 'Open24Hours': None, 'OutdoorSeating': 'True', 'RestaurantsA...   \n",
       "6049                                                                          {'AcceptsInsurance': None, 'AgesAllowed': None, 'Alcohol': None, 'Ambience': None, 'BYOB': None, 'BYOBCorkage': None, 'BestNights': None, 'BikeParking': None, 'BusinessAcceptsBitcoin': 'False', 'BusinessAcceptsCreditCards': 'True', 'BusinessParking': None, 'ByAppointmentOnly': None, 'Caters': None, 'CoatCheck': None, 'Corkage': None, 'DietaryRestrictions': None, 'DogsAllowed': 'False', 'DriveThru': None, 'GoodForDancing': None, 'GoodForKids': None, 'GoodForMeal': None, 'HairSpecializesIn': None, 'HappyHour': None, 'HasTV': None, 'Music': None, 'NoiseLevel': None, 'Open24Hours': None, 'OutdoorSeating': None, 'RestaurantsAttire': None, 'RestaurantsCounterService': None, 'RestaurantsDelivery': None, 'RestaurantsGoodForGroups': None, 'RestaurantsPriceRange2': '2', 'RestaurantsReservations': None, 'RestaurantsTableService': None, 'RestaurantsTakeOut': None, 'Smoking': None, 'WheelchairAccessible': None, 'WiFi': 'u'free''}   \n",
       "...                                                                                                                                                                                                                                                                                                                                                                                                                                                                                                                                                                                                                                                                                                                                                                                                                                                                                                                                                                                                                                          ...   \n",
       "3759700  {'AcceptsInsurance': None, 'AgesAllowed': None, 'Alcohol': None, 'Ambience': None, 'BYOB': None, 'BYOBCorkage': None, 'BestNights': None, 'BikeParking': 'True', 'BusinessAcceptsBitcoin': None, 'BusinessAcceptsCreditCards': 'True', 'BusinessParking': '{'garage': False, 'street': True, 'validated': False, 'lot': True, 'valet': False}', 'ByAppointmentOnly': None, 'Caters': None, 'CoatCheck': None, 'Corkage': None, 'DietaryRestrictions': None, 'DogsAllowed': None, 'DriveThru': None, 'GoodForDancing': None, 'GoodForKids': None, 'GoodForMeal': None, 'HairSpecializesIn': None, 'HappyHour': None, 'HasTV': None, 'Music': None, 'NoiseLevel': None, 'Open24Hours': None, 'OutdoorSeating': None, 'RestaurantsAttire': None, 'RestaurantsCounterService': None, 'RestaurantsDelivery': None, 'RestaurantsGoodForGroups': None, 'RestaurantsPriceRange2': '2', 'RestaurantsReservations': None, 'RestaurantsTableService': None, 'RestaurantsTakeOut': None, 'Smoking': None, 'WheelchairAccessible': None, 'WiFi': ...   \n",
       "3763435  {'AcceptsInsurance': None, 'AgesAllowed': None, 'Alcohol': 'u'none'', 'Ambience': '{'romantic': False, 'intimate': False, 'touristy': False, 'hipster': False, 'divey': False, 'classy': False, 'trendy': False, 'upscale': False, 'casual': True}', 'BYOB': None, 'BYOBCorkage': None, 'BestNights': None, 'BikeParking': None, 'BusinessAcceptsBitcoin': None, 'BusinessAcceptsCreditCards': 'True', 'BusinessParking': '{'garage': False, 'street': False, 'validated': False, 'lot': True, 'valet': False}', 'ByAppointmentOnly': None, 'Caters': 'True', 'CoatCheck': None, 'Corkage': None, 'DietaryRestrictions': None, 'DogsAllowed': None, 'DriveThru': None, 'GoodForDancing': None, 'GoodForKids': 'True', 'GoodForMeal': None, 'HairSpecializesIn': None, 'HappyHour': None, 'HasTV': 'False', 'Music': None, 'NoiseLevel': 'u'average'', 'Open24Hours': None, 'OutdoorSeating': 'True', 'RestaurantsAttire': 'u'casual'', 'RestaurantsCounterService': None, 'RestaurantsDelivery': 'True', 'RestaurantsGoodForGroups':...   \n",
       "3765760                                                                                 {'AcceptsInsurance': None, 'AgesAllowed': None, 'Alcohol': None, 'Ambience': None, 'BYOB': None, 'BYOBCorkage': None, 'BestNights': None, 'BikeParking': None, 'BusinessAcceptsBitcoin': None, 'BusinessAcceptsCreditCards': 'True', 'BusinessParking': None, 'ByAppointmentOnly': None, 'Caters': None, 'CoatCheck': None, 'Corkage': None, 'DietaryRestrictions': None, 'DogsAllowed': None, 'DriveThru': None, 'GoodForDancing': None, 'GoodForKids': None, 'GoodForMeal': None, 'HairSpecializesIn': None, 'HappyHour': None, 'HasTV': None, 'Music': None, 'NoiseLevel': None, 'Open24Hours': None, 'OutdoorSeating': None, 'RestaurantsAttire': None, 'RestaurantsCounterService': None, 'RestaurantsDelivery': None, 'RestaurantsGoodForGroups': None, 'RestaurantsPriceRange2': None, 'RestaurantsReservations': None, 'RestaurantsTableService': None, 'RestaurantsTakeOut': None, 'Smoking': None, 'WheelchairAccessible': None, 'WiFi': None}   \n",
       "3767315  {'AcceptsInsurance': None, 'AgesAllowed': None, 'Alcohol': None, 'Ambience': None, 'BYOB': None, 'BYOBCorkage': None, 'BestNights': None, 'BikeParking': 'False', 'BusinessAcceptsBitcoin': None, 'BusinessAcceptsCreditCards': 'True', 'BusinessParking': '{'garage': False, 'street': False, 'validated': False, 'lot': True, 'valet': False}', 'ByAppointmentOnly': 'False', 'Caters': None, 'CoatCheck': None, 'Corkage': None, 'DietaryRestrictions': None, 'DogsAllowed': None, 'DriveThru': None, 'GoodForDancing': None, 'GoodForKids': None, 'GoodForMeal': None, 'HairSpecializesIn': None, 'HappyHour': None, 'HasTV': None, 'Music': None, 'NoiseLevel': None, 'Open24Hours': None, 'OutdoorSeating': None, 'RestaurantsAttire': None, 'RestaurantsCounterService': None, 'RestaurantsDelivery': None, 'RestaurantsGoodForGroups': None, 'RestaurantsPriceRange2': '2', 'RestaurantsReservations': None, 'RestaurantsTableService': None, 'RestaurantsTakeOut': None, 'Smoking': None, 'WheelchairAccessible': None, 'Wi...   \n",
       "3770587  {'AcceptsInsurance': None, 'AgesAllowed': None, 'Alcohol': None, 'Ambience': None, 'BYOB': None, 'BYOBCorkage': None, 'BestNights': None, 'BikeParking': 'True', 'BusinessAcceptsBitcoin': None, 'BusinessAcceptsCreditCards': 'True', 'BusinessParking': '{'garage': False, 'street': True, 'validated': False, 'lot': False, 'valet': False}', 'ByAppointmentOnly': 'False', 'Caters': None, 'CoatCheck': None, 'Corkage': None, 'DietaryRestrictions': None, 'DogsAllowed': None, 'DriveThru': None, 'GoodForDancing': None, 'GoodForKids': None, 'GoodForMeal': None, 'HairSpecializesIn': None, 'HappyHour': None, 'HasTV': None, 'Music': None, 'NoiseLevel': None, 'Open24Hours': None, 'OutdoorSeating': None, 'RestaurantsAttire': None, 'RestaurantsCounterService': None, 'RestaurantsDelivery': None, 'RestaurantsGoodForGroups': None, 'RestaurantsPriceRange2': '2', 'RestaurantsReservations': None, 'RestaurantsTableService': None, 'RestaurantsTakeOut': None, 'Smoking': None, 'WheelchairAccessible': 'True', 'W...   \n",
       "\n",
       "                                                                           categories  \\\n",
       "1411                                      Restaurants, Food, Cafes, Bakeries, Italian   \n",
       "3875                                                Restaurants, Japanese, Sushi Bars   \n",
       "4048       Desserts, American (Traditional), Cafes, Restaurants, American (New), Food   \n",
       "5478                                       Italian, Internet Cafes, Restaurants, Food   \n",
       "6049              Event Planning & Services, Hotels & Travel, Bed & Breakfast, Hotels   \n",
       "...                                                                               ...   \n",
       "3759700                                      Home & Garden, Shopping, Hardware Stores   \n",
       "3763435  Restaurants, Sandwiches, Caterers, Pizza, Italian, Event Planning & Services   \n",
       "3765760                        Used Car Dealers, Car Dealers, Automotive, Auto Repair   \n",
       "3767315                                                    Beauty & Spas, Nail Salons   \n",
       "3770587                                               Beauty & Spas, Piercing, Tattoo   \n",
       "\n",
       "                                                                                                                                                                                    hours  \\\n",
       "1411            {'Friday': '6:30-15:0', 'Monday': '6:30-15:0', 'Saturday': '7:30-15:0', 'Sunday': '7:30-15:0', 'Thursday': '6:30-15:0', 'Tuesday': '6:30-15:0', 'Wednesday': '6:30-15:0'}   \n",
       "3875     {'Friday': '11:30-22:30', 'Monday': '11:30-22:0', 'Saturday': '13:0-22:30', 'Sunday': '13:0-22:0', 'Thursday': '11:30-22:0', 'Tuesday': '11:30-22:0', 'Wednesday': '11:30-22:0'}   \n",
       "4048          {'Friday': '11:30-23:0', 'Monday': '0:0-0:0', 'Saturday': '10:0-23:0', 'Sunday': '10:0-21:0', 'Thursday': '11:30-21:0', 'Tuesday': '11:30-21:0', 'Wednesday': '11:30-21:0'}   \n",
       "5478            {'Friday': '12:0-22:0', 'Monday': '12:0-22:0', 'Saturday': '12:0-22:0', 'Sunday': '12:0-20:0', 'Thursday': '12:0-22:0', 'Tuesday': '12:0-22:0', 'Wednesday': '12:0-22:0'}   \n",
       "6049                   {'Friday': '8:0-22:0', 'Monday': '8:0-22:0', 'Saturday': '8:0-22:0', 'Sunday': '8:0-22:0', 'Thursday': '8:0-22:0', 'Tuesday': '8:0-22:0', 'Wednesday': '8:0-22:0'}   \n",
       "...                                                                                                                                                                                   ...   \n",
       "3759700          {'Friday': '8:30-18:0', 'Monday': '8:30-18:0', 'Saturday': '8:30-18:0', 'Sunday': '9:0-17:0', 'Thursday': '8:30-18:0', 'Tuesday': '8:30-18:0', 'Wednesday': '8:30-18:0'}   \n",
       "3763435                {'Friday': '11:0-21:0', 'Monday': '11:0-21:0', 'Saturday': '11:0-21:0', 'Sunday': None, 'Thursday': '11:0-21:0', 'Tuesday': '11:0-21:0', 'Wednesday': '11:0-21:0'}   \n",
       "3765760               {'Friday': '9:0-20:0', 'Monday': '0:0-0:0', 'Saturday': '10:0-18:0', 'Sunday': '11:0-17:0', 'Thursday': '9:0-20:0', 'Tuesday': '9:0-20:0', 'Wednesday': '9:0-20:0'}   \n",
       "3767315     {'Friday': '9:30-19:30', 'Monday': '9:30-19:30', 'Saturday': '9:0-19:0', 'Sunday': '10:0-18:0', 'Thursday': '9:30-19:30', 'Tuesday': '9:30-19:30', 'Wednesday': '9:30-19:30'}   \n",
       "3770587                {'Friday': '13:0-22:0', 'Monday': '10:0-22:0', 'Saturday': '13:0-21:0', 'Sunday': None, 'Thursday': '10:0-22:0', 'Tuesday': '10:0-22:0', 'Wednesday': '10:0-22:0'}   \n",
       "\n",
       "                        yelp_id  \n",
       "1411     XeXoz3XXStmyF3Fs39yLQA  \n",
       "3875     QUdKrOA3Iv1laFNRgq8W-g  \n",
       "4048     k3unLq8yPApU4y7JvZ1Yiw  \n",
       "5478     zGHtCWY635Ze4-XOCRZtlw  \n",
       "6049     ILaqTGmCLmifLsU_A30dbA  \n",
       "...                         ...  \n",
       "3759700  0JYDNwIbUz-0Mq6c7BdC-Q  \n",
       "3763435  6bMjGnC2pMJwQ5m1T0Ij3A  \n",
       "3765760  TIDMVPYg6-c4xy_pyFnLSg  \n",
       "3767315  zH3MrgrlRI8ETxniB7Zv7A  \n",
       "3770587  2gmnSMUUnS-o8u0Xco62WQ  \n",
       "\n",
       "[3448 rows x 27 columns]"
      ]
     },
     "execution_count": 11,
     "metadata": {},
     "output_type": "execute_result"
    }
   ],
   "source": [
    "duplicados = reviews_yelp[reviews_yelp.duplicated(subset=['user_id','anho', 'mes', 'dia', 'hora'], keep=False)]\n",
    "duplicados.head(2)"
   ]
  },
  {
   "cell_type": "markdown",
   "metadata": {},
   "source": [
    "Después de la verificación de los datos duplicados en el dataframe “reviews_yelp” se encontró la cantidad de 3,448 de datos duplicados equivalente a un 0.09% de un total 3'775,931 . Con lo cual se tiene una calidad aceptable de datos."
   ]
  },
  {
   "cell_type": "markdown",
   "metadata": {},
   "source": [
    "*Datos duplicados del dataframe \"tip\"*"
   ]
  },
  {
   "cell_type": "code",
   "execution_count": 14,
   "metadata": {},
   "outputs": [
    {
     "data": {
      "text/html": [
       "<div>\n",
       "<style scoped>\n",
       "    .dataframe tbody tr th:only-of-type {\n",
       "        vertical-align: middle;\n",
       "    }\n",
       "\n",
       "    .dataframe tbody tr th {\n",
       "        vertical-align: top;\n",
       "    }\n",
       "\n",
       "    .dataframe thead th {\n",
       "        text-align: right;\n",
       "    }\n",
       "</style>\n",
       "<table border=\"1\" class=\"dataframe\">\n",
       "  <thead>\n",
       "    <tr style=\"text-align: right;\">\n",
       "      <th></th>\n",
       "      <th>id_user</th>\n",
       "      <th>id_business</th>\n",
       "      <th>text</th>\n",
       "      <th>date</th>\n",
       "      <th>compliment_count</th>\n",
       "    </tr>\n",
       "  </thead>\n",
       "  <tbody>\n",
       "  </tbody>\n",
       "</table>\n",
       "</div>"
      ],
      "text/plain": [
       "Empty DataFrame\n",
       "Columns: [id_user, id_business, text, date, compliment_count]\n",
       "Index: []"
      ]
     },
     "execution_count": 14,
     "metadata": {},
     "output_type": "execute_result"
    }
   ],
   "source": [
    "duplicados = tip[tip.duplicated(subset=['id_user','id_business','date', 'text'], keep=False)]\n",
    "duplicados"
   ]
  },
  {
   "cell_type": "code",
   "execution_count": 15,
   "metadata": {},
   "outputs": [
    {
     "data": {
      "text/html": [
       "<div>\n",
       "<style scoped>\n",
       "    .dataframe tbody tr th:only-of-type {\n",
       "        vertical-align: middle;\n",
       "    }\n",
       "\n",
       "    .dataframe tbody tr th {\n",
       "        vertical-align: top;\n",
       "    }\n",
       "\n",
       "    .dataframe thead th {\n",
       "        text-align: right;\n",
       "    }\n",
       "</style>\n",
       "<table border=\"1\" class=\"dataframe\">\n",
       "  <thead>\n",
       "    <tr style=\"text-align: right;\">\n",
       "      <th></th>\n",
       "      <th>id_user</th>\n",
       "      <th>id_business</th>\n",
       "      <th>text</th>\n",
       "      <th>date</th>\n",
       "      <th>compliment_count</th>\n",
       "    </tr>\n",
       "  </thead>\n",
       "  <tbody>\n",
       "  </tbody>\n",
       "</table>\n",
       "</div>"
      ],
      "text/plain": [
       "Empty DataFrame\n",
       "Columns: [id_user, id_business, text, date, compliment_count]\n",
       "Index: []"
      ]
     },
     "execution_count": 15,
     "metadata": {},
     "output_type": "execute_result"
    }
   ],
   "source": [
    "tip[(tip['id_user']==7914) & (tip['id_business']==200076) & (tip['text']=='LM') & (tip['date']=='2011-11-22 12:48:02')]"
   ]
  },
  {
   "cell_type": "markdown",
   "metadata": {},
   "source": [
    "Una vez terminada la verificación de los datos duplicados en el dataframe \"tip\" se encontraron la cantidad de 0 de datos duplicados con lo cual concluimos que se tiene una  buena calidad de datos."
   ]
  },
  {
   "cell_type": "markdown",
   "metadata": {},
   "source": [
    "*Datos duplicados del dataframe \"user_yelp\"*"
   ]
  },
  {
   "cell_type": "code",
   "execution_count": 16,
   "metadata": {},
   "outputs": [
    {
     "data": {
      "text/html": [
       "<div>\n",
       "<style scoped>\n",
       "    .dataframe tbody tr th:only-of-type {\n",
       "        vertical-align: middle;\n",
       "    }\n",
       "\n",
       "    .dataframe tbody tr th {\n",
       "        vertical-align: top;\n",
       "    }\n",
       "\n",
       "    .dataframe thead th {\n",
       "        text-align: right;\n",
       "    }\n",
       "</style>\n",
       "<table border=\"1\" class=\"dataframe\">\n",
       "  <thead>\n",
       "    <tr style=\"text-align: right;\">\n",
       "      <th></th>\n",
       "      <th>id_user</th>\n",
       "      <th>years</th>\n",
       "    </tr>\n",
       "  </thead>\n",
       "  <tbody>\n",
       "    <tr>\n",
       "      <th>1</th>\n",
       "      <td>1</td>\n",
       "      <td>2020</td>\n",
       "    </tr>\n",
       "    <tr>\n",
       "      <th>1</th>\n",
       "      <td>1</td>\n",
       "      <td>2020</td>\n",
       "    </tr>\n",
       "    <tr>\n",
       "      <th>18</th>\n",
       "      <td>18</td>\n",
       "      <td>2020</td>\n",
       "    </tr>\n",
       "    <tr>\n",
       "      <th>18</th>\n",
       "      <td>18</td>\n",
       "      <td>2020</td>\n",
       "    </tr>\n",
       "    <tr>\n",
       "      <th>29</th>\n",
       "      <td>29</td>\n",
       "      <td>2020</td>\n",
       "    </tr>\n",
       "    <tr>\n",
       "      <th>...</th>\n",
       "      <td>...</td>\n",
       "      <td>...</td>\n",
       "    </tr>\n",
       "    <tr>\n",
       "      <th>1966851</th>\n",
       "      <td>1966851</td>\n",
       "      <td>2020</td>\n",
       "    </tr>\n",
       "    <tr>\n",
       "      <th>1971939</th>\n",
       "      <td>1971939</td>\n",
       "      <td>2020</td>\n",
       "    </tr>\n",
       "    <tr>\n",
       "      <th>1971939</th>\n",
       "      <td>1971939</td>\n",
       "      <td>2020</td>\n",
       "    </tr>\n",
       "    <tr>\n",
       "      <th>1976641</th>\n",
       "      <td>1976641</td>\n",
       "      <td>2020</td>\n",
       "    </tr>\n",
       "    <tr>\n",
       "      <th>1976641</th>\n",
       "      <td>1976641</td>\n",
       "      <td>2020</td>\n",
       "    </tr>\n",
       "  </tbody>\n",
       "</table>\n",
       "<p>79858 rows × 2 columns</p>\n",
       "</div>"
      ],
      "text/plain": [
       "         id_user  years\n",
       "1              1   2020\n",
       "1              1   2020\n",
       "18            18   2020\n",
       "18            18   2020\n",
       "29            29   2020\n",
       "...          ...    ...\n",
       "1966851  1966851   2020\n",
       "1971939  1971939   2020\n",
       "1971939  1971939   2020\n",
       "1976641  1976641   2020\n",
       "1976641  1976641   2020\n",
       "\n",
       "[79858 rows x 2 columns]"
      ]
     },
     "execution_count": 16,
     "metadata": {},
     "output_type": "execute_result"
    }
   ],
   "source": [
    "user_yelp[user_yelp.duplicated(subset=['id_user', 'years'], keep=False)]"
   ]
  },
  {
   "cell_type": "markdown",
   "metadata": {},
   "source": [
    "Una vez terminada la verificación de los datos duplicados en el dataframe “user_yelp” se encontraron la cantidad de 79,858 de datos duplicados equivalente a un 3.506% de un total 2,277,195. Con lo cual concluimos que el 98.245% de los datos NO son duplicados, teniendo una calidad buena de datos."
   ]
  },
  {
   "cell_type": "markdown",
   "metadata": {},
   "source": [
    "**Verificación de datos faltantes de YELP**"
   ]
  },
  {
   "cell_type": "markdown",
   "metadata": {},
   "source": [
    "*Datos faltantes dataframe \"business\"*"
   ]
  },
  {
   "cell_type": "code",
   "execution_count": 18,
   "metadata": {},
   "outputs": [
    {
     "data": {
      "text/html": [
       "<div>\n",
       "<style scoped>\n",
       "    .dataframe tbody tr th:only-of-type {\n",
       "        vertical-align: middle;\n",
       "    }\n",
       "\n",
       "    .dataframe tbody tr th {\n",
       "        vertical-align: top;\n",
       "    }\n",
       "\n",
       "    .dataframe thead th {\n",
       "        text-align: right;\n",
       "    }\n",
       "</style>\n",
       "<table border=\"1\" class=\"dataframe\">\n",
       "  <thead>\n",
       "    <tr style=\"text-align: right;\">\n",
       "      <th></th>\n",
       "      <th>id_business</th>\n",
       "      <th>name</th>\n",
       "      <th>city</th>\n",
       "      <th>state</th>\n",
       "      <th>postal_code</th>\n",
       "      <th>latitude</th>\n",
       "      <th>longitude</th>\n",
       "      <th>stars</th>\n",
       "      <th>review_count</th>\n",
       "      <th>categories</th>\n",
       "      <th>hours_Dataset_Business</th>\n",
       "      <th>first_category</th>\n",
       "      <th>Descripcion_BusinessAtributos</th>\n",
       "      <th>Descripcion_BusinessCategorias</th>\n",
       "      <th>date</th>\n",
       "      <th>compliment_count</th>\n",
       "    </tr>\n",
       "  </thead>\n",
       "  <tbody>\n",
       "  </tbody>\n",
       "</table>\n",
       "</div>"
      ],
      "text/plain": [
       "Empty DataFrame\n",
       "Columns: [id_business, name, city, state, postal_code, latitude, longitude, stars, review_count, categories, hours_Dataset_Business, first_category, Descripcion_BusinessAtributos, Descripcion_BusinessCategorias, date, compliment_count]\n",
       "Index: []"
      ]
     },
     "execution_count": 18,
     "metadata": {},
     "output_type": "execute_result"
    }
   ],
   "source": [
    "business[business['hours_Dataset_Business'] == '']"
   ]
  },
  {
   "cell_type": "markdown",
   "metadata": {},
   "source": [
    "*Datos faltantes del dataframe \"checkin\"*"
   ]
  },
  {
   "cell_type": "code",
   "execution_count": 19,
   "metadata": {},
   "outputs": [
    {
     "data": {
      "text/html": [
       "<div>\n",
       "<style scoped>\n",
       "    .dataframe tbody tr th:only-of-type {\n",
       "        vertical-align: middle;\n",
       "    }\n",
       "\n",
       "    .dataframe tbody tr th {\n",
       "        vertical-align: top;\n",
       "    }\n",
       "\n",
       "    .dataframe thead th {\n",
       "        text-align: right;\n",
       "    }\n",
       "</style>\n",
       "<table border=\"1\" class=\"dataframe\">\n",
       "  <thead>\n",
       "    <tr style=\"text-align: right;\">\n",
       "      <th></th>\n",
       "      <th>business_id</th>\n",
       "      <th>hour</th>\n",
       "      <th>date</th>\n",
       "      <th>year</th>\n",
       "      <th>month</th>\n",
       "    </tr>\n",
       "  </thead>\n",
       "  <tbody>\n",
       "  </tbody>\n",
       "</table>\n",
       "</div>"
      ],
      "text/plain": [
       "Empty DataFrame\n",
       "Columns: [business_id, hour, date, year, month]\n",
       "Index: []"
      ]
     },
     "execution_count": 19,
     "metadata": {},
     "output_type": "execute_result"
    }
   ],
   "source": [
    "checkin[checkin['month']== '']"
   ]
  },
  {
   "cell_type": "markdown",
   "metadata": {},
   "source": [
    "Una vez analisado el dataframe “checkin” en búsqueda de datos faltantes, encontramos la cantidad de 0 de datos faltantes de un total 124,757 datos del dataframe.  Con lo cual concluimos que el 100% de los datos del dataframe NO son faltantes, teniendo una calidad buena de datos."
   ]
  },
  {
   "cell_type": "markdown",
   "metadata": {},
   "source": [
    "*Datos faltantes del dataframe \"reviews_yelp\"*"
   ]
  },
  {
   "cell_type": "code",
   "execution_count": 24,
   "metadata": {},
   "outputs": [
    {
     "name": "stdout",
     "output_type": "stream",
     "text": [
      "Empty DataFrame\n",
      "Columns: [user_id, stars_Dataset_Review, useful, funny, cool, text, id_review, id_user, id_business, anho, mes, dia, hora, name, address, city, state, postal_code, latitude, longitude, stars_Dataset_Business, review_count, is_open, attributes, categories, hours, yelp_id]\n",
      "Index: []\n",
      "Empty DataFrame\n",
      "Columns: [user_id, stars_Dataset_Review, useful, funny, cool, text, id_review, id_user, id_business, anho, mes, dia, hora, name, address, city, state, postal_code, latitude, longitude, stars_Dataset_Business, review_count, is_open, attributes, categories, hours, yelp_id]\n",
      "Index: []\n",
      "Empty DataFrame\n",
      "Columns: [user_id, stars_Dataset_Review, useful, funny, cool, text, id_review, id_user, id_business, anho, mes, dia, hora, name, address, city, state, postal_code, latitude, longitude, stars_Dataset_Business, review_count, is_open, attributes, categories, hours, yelp_id]\n",
      "Index: []\n",
      "Empty DataFrame\n",
      "Columns: [user_id, stars_Dataset_Review, useful, funny, cool, text, id_review, id_user, id_business, anho, mes, dia, hora, name, address, city, state, postal_code, latitude, longitude, stars_Dataset_Business, review_count, is_open, attributes, categories, hours, yelp_id]\n",
      "Index: []\n"
     ]
    }
   ],
   "source": [
    "print(reviews_yelp[reviews_yelp['anho']== ''])\n",
    "print(reviews_yelp[reviews_yelp['mes']== ''])\n",
    "print(reviews_yelp[reviews_yelp['dia']== ''])\n",
    "print(reviews_yelp[reviews_yelp['hora']== ''])"
   ]
  },
  {
   "cell_type": "markdown",
   "metadata": {},
   "source": [
    "Después de analizar el dataframe “reviews_yelp” en búsqueda de datos faltantes, encontramos la cantidad de 0 de datos faltantes de un total 3'775,931  datos del dataframe.  Con lo cual concluimos que el 100% de los datos del dataframe NO son faltantes, teniendo una calidad buena de datos."
   ]
  },
  {
   "cell_type": "markdown",
   "metadata": {},
   "source": [
    "*Datos faltantes del dataframe \"tip\"*"
   ]
  },
  {
   "cell_type": "code",
   "execution_count": 26,
   "metadata": {},
   "outputs": [
    {
     "data": {
      "text/html": [
       "<div>\n",
       "<style scoped>\n",
       "    .dataframe tbody tr th:only-of-type {\n",
       "        vertical-align: middle;\n",
       "    }\n",
       "\n",
       "    .dataframe tbody tr th {\n",
       "        vertical-align: top;\n",
       "    }\n",
       "\n",
       "    .dataframe thead th {\n",
       "        text-align: right;\n",
       "    }\n",
       "</style>\n",
       "<table border=\"1\" class=\"dataframe\">\n",
       "  <thead>\n",
       "    <tr style=\"text-align: right;\">\n",
       "      <th></th>\n",
       "      <th>id_user</th>\n",
       "      <th>id_business</th>\n",
       "      <th>text</th>\n",
       "      <th>date</th>\n",
       "      <th>compliment_count</th>\n",
       "    </tr>\n",
       "  </thead>\n",
       "  <tbody>\n",
       "  </tbody>\n",
       "</table>\n",
       "</div>"
      ],
      "text/plain": [
       "Empty DataFrame\n",
       "Columns: [id_user, id_business, text, date, compliment_count]\n",
       "Index: []"
      ]
     },
     "execution_count": 26,
     "metadata": {},
     "output_type": "execute_result"
    }
   ],
   "source": [
    "tip[tip['compliment_count'] == '']"
   ]
  },
  {
   "cell_type": "markdown",
   "metadata": {},
   "source": [
    "Tras analizar el dataframe \"tip\" en búsqueda de datos faltantes, encontramos la cantidad de 0 de datos faltantes de un total 677,160  datos del dataframe.  Con lo cual concluimos que el 100% de los datos del dataframe NO son faltantes, teniendo una calidad buena de datos."
   ]
  },
  {
   "cell_type": "markdown",
   "metadata": {},
   "source": [
    "*Datos faltantes del dataframe \"user_yelp\"*"
   ]
  },
  {
   "cell_type": "code",
   "execution_count": 27,
   "metadata": {},
   "outputs": [
    {
     "data": {
      "text/html": [
       "<div>\n",
       "<style scoped>\n",
       "    .dataframe tbody tr th:only-of-type {\n",
       "        vertical-align: middle;\n",
       "    }\n",
       "\n",
       "    .dataframe tbody tr th {\n",
       "        vertical-align: top;\n",
       "    }\n",
       "\n",
       "    .dataframe thead th {\n",
       "        text-align: right;\n",
       "    }\n",
       "</style>\n",
       "<table border=\"1\" class=\"dataframe\">\n",
       "  <thead>\n",
       "    <tr style=\"text-align: right;\">\n",
       "      <th></th>\n",
       "      <th>id_user</th>\n",
       "      <th>years</th>\n",
       "    </tr>\n",
       "  </thead>\n",
       "  <tbody>\n",
       "  </tbody>\n",
       "</table>\n",
       "</div>"
      ],
      "text/plain": [
       "Empty DataFrame\n",
       "Columns: [id_user, years]\n",
       "Index: []"
      ]
     },
     "execution_count": 27,
     "metadata": {},
     "output_type": "execute_result"
    }
   ],
   "source": [
    "user_yelp[user_yelp['years']== '']"
   ]
  },
  {
   "cell_type": "markdown",
   "metadata": {},
   "source": [
    "Una vez analizado el dataframe \"user_yelp\" en búsqueda de datos faltantes, encontramos la cantidad de 0 de datos faltantes de un total 2,277,195 datos del dataframe.  Con lo cual concluimos que el 100% de los datos del dataframe NO son faltantes, teniendo una calidad buena de datos."
   ]
  },
  {
   "cell_type": "markdown",
   "metadata": {},
   "source": [
    "Uso de graficas para el analisis exploratorio."
   ]
  },
  {
   "cell_type": "markdown",
   "metadata": {},
   "source": [
    "*Top 5 por Estados Google.*"
   ]
  },
  {
   "cell_type": "code",
   "execution_count": 30,
   "metadata": {},
   "outputs": [
    {
     "data": {
      "image/png": "[encoded data removed]",
      "text/plain": [
       "<Figure size 1000x600 with 1 Axes>"
      ]
     },
     "metadata": {},
     "output_type": "display_data"
    }
   ],
   "source": [
    "top_5_states = restaurant['state'].value_counts()\n",
    "\n",
    "plt.figure(figsize=(10, 6))\n",
    "colors = ['blue', 'green', 'red', 'purple', 'orange']  \n",
    "top_5_states.plot(kind='barh', color=colors) \n",
    "plt.xlabel('Frecuencia')\n",
    "plt.ylabel('Estados')\n",
    "plt.title('Top 10 de Estados')\n",
    "plt.show()"
   ]
  },
  {
   "cell_type": "markdown",
   "metadata": {},
   "source": [
    "Ahora, procederemos a analizar el estado con el mayor número de negocios, con el fin de proponer lugares óptimo para realizar inversiones. Según la información proporcionada por el gráfico previo, se determina que el estado de Nueva York ocupa el primer lugar, seguido de cerca por el estado de California. Basándonos en este análisis, podemos delinear el espacio geográfico para futuras inversiones."
   ]
  },
  {
   "cell_type": "markdown",
   "metadata": {},
   "source": [
    "*Top por Estado Yelp*"
   ]
  },
  {
   "cell_type": "code",
   "execution_count": 33,
   "metadata": {},
   "outputs": [
    {
     "data": {
      "image/png": "[encoded data removed]",
      "text/plain": [
       "<Figure size 1000x600 with 1 Axes>"
      ]
     },
     "metadata": {},
     "output_type": "display_data"
    }
   ],
   "source": [
    "top_5_states = business['state'].value_counts().nlargest(10)\n",
    "\n",
    "plt.figure(figsize=(10, 6))\n",
    "colors = ['blue', 'green', 'red', 'purple', 'orange', 'grey', 'skyblue']  \n",
    "top_5_states.plot(kind='barh', color=colors) \n",
    "plt.xlabel('Frecuencia')\n",
    "plt.ylabel('Estados')\n",
    "plt.title('Top 10 de Estados')\n",
    "plt.show()"
   ]
  },
  {
   "cell_type": "markdown",
   "metadata": {},
   "source": [
    "Después de examinar detenidamente el gráfico anterior, se evidencia que el estado de Pennsylvania ocupa el primer puesto, mientras que Nevada ocupa el quinto lugar. Esta observación sugiere que Pennsylvania alberga la mayor cantidad de establecimientos."
   ]
  },
  {
   "cell_type": "markdown",
   "metadata": {},
   "source": [
    "*Top de ciudades en el estado de nueva york*"
   ]
  },
  {
   "cell_type": "code",
   "execution_count": 36,
   "metadata": {},
   "outputs": [
    {
     "data": {
      "image/png": "[encoded data removed]",
      "text/plain": [
       "<Figure size 1000x600 with 1 Axes>"
      ]
     },
     "metadata": {},
     "output_type": "display_data"
    }
   ],
   "source": [
    "new_york_cities = restaurant[restaurant['state'] == 'New_York']\n",
    "\n",
    "top_cities = new_york_cities['city'].value_counts().nlargest(10)\n",
    "\n",
    "plt.figure(figsize=(10, 6))\n",
    "colors = ['blue', 'green', 'red', 'purple', 'orange', 'yellow', 'LightBlue', 'magenta', 'brown', 'gray']\n",
    "top_cities.plot(kind='bar', color = colors)\n",
    "plt.xlabel('City')\n",
    "plt.ylabel('Frequency')\n",
    "plt.title('Top 10 Cities in New York State')\n",
    "plt.xticks(rotation=45)  \n",
    "plt.show()"
   ]
  },
  {
   "cell_type": "markdown",
   "metadata": {},
   "source": [
    "Siguiendo la misma línea del gráfico previo en donde Nueva York se encuentra en el primer puesto, en el presente gráfico se exhibe el \"top 5\" de ciudades en el estado de Nueva York con el mayor número de negocios, con el propósito de identificar la ciudad más óptima dentro de todo el estado."
   ]
  },
  {
   "cell_type": "markdown",
   "metadata": {},
   "source": [
    "*Top 5 de ciudades en el Estado de Pennsylvania*"
   ]
  },
  {
   "cell_type": "code",
   "execution_count": 38,
   "metadata": {},
   "outputs": [
    {
     "data": {
      "image/png": "[encoded data removed]",
      "text/plain": [
       "<Figure size 1000x600 with 1 Axes>"
      ]
     },
     "metadata": {},
     "output_type": "display_data"
    }
   ],
   "source": [
    "df_pa = business[business['state'] == 'Pennsylvania']\n",
    "\n",
    "top_cities_pa = df_pa['city'].value_counts().head(10)\n",
    "\n",
    "df_top_cities_pa = df_pa[df_pa['city'].isin(top_cities_pa.index)]\n",
    "\n",
    "df_stars_5_pa = df_top_cities_pa[df_top_cities_pa['stars'] == 5.0]\n",
    "\n",
    "city_counts = df_stars_5_pa['city'].value_counts()\n",
    "\n",
    "plt.figure(figsize=(10, 6))\n",
    "city_counts.plot(kind='pie', autopct='%1.1f%%', colors=['lightgreen', 'orange', 'blue', 'lightskyblue', 'pink'], startangle=140)\n",
    "plt.title('Top 5 de ciudades en Pennsylvania con 5 estrellas')\n",
    "plt.xlabel('Ciudad')\n",
    "plt.ylabel('Frecuencia')\n",
    "plt.xticks(rotation=45)\n",
    "plt.grid(axis='y', linestyle='--', alpha=0.7)\n",
    "plt.tight_layout()\n",
    "plt.show()"
   ]
  },
  {
   "cell_type": "markdown",
   "metadata": {},
   "source": [
    "Tras analizar el gráfico anterior, se desprende que dentro del territorio de Pennsylvania, la ciudad con el mayor número de establecimientos con calificación de 5 estrellas es Philadelphia. Esta observación nos lleva a concluir que Philadelphia alberga la mayor cantidad de establecimientos con la máxima calificación de 5 estrellas en comparación con otras ciudades dentro del estado."
   ]
  },
  {
   "cell_type": "markdown",
   "metadata": {},
   "source": [
    "*Top de ciudades en el estado de california*"
   ]
  },
  {
   "cell_type": "markdown",
   "metadata": {},
   "source": [
    "Este top de ciudades de california se realiza debido a que el Estado de California se ve reflejado en el top 5 de Estados en ambas bases de datos tanto de YELP como de Google, así que consideramos relevante su análisis."
   ]
  },
  {
   "cell_type": "code",
   "execution_count": 40,
   "metadata": {},
   "outputs": [
    {
     "data": {
      "image/png": "[encoded data removed]",
      "text/plain": [
       "<Figure size 1000x600 with 1 Axes>"
      ]
     },
     "metadata": {},
     "output_type": "display_data"
    }
   ],
   "source": [
    "California_cities = restaurant[restaurant['state'] == 'California']\n",
    "\n",
    "top_cities = California_cities['city'].value_counts().nlargest(10)\n",
    "\n",
    "plt.figure(figsize=(10, 6))\n",
    "colors = ['blue', 'green', 'red', 'purple', 'orange', 'yellow', 'LightBlue', 'magenta', 'brown', 'gray']\n",
    "top_cities.plot(kind='bar', color = colors)\n",
    "plt.xlabel('City')\n",
    "plt.ylabel('Frequency')\n",
    "plt.title('Top 10 Cities in California State')\n",
    "plt.xticks(rotation=45)  \n",
    "plt.show()"
   ]
  },
  {
   "cell_type": "markdown",
   "metadata": {},
   "source": [
    "Debido a que el Estado de California se encuentra en el top 5 de ambas aplicaciones, investigamos el top 5 de las ciudades con mayor número de negocios en dicho Estado, para también tenerlo en consideración para futuras inversiones."
   ]
  },
  {
   "cell_type": "markdown",
   "metadata": {},
   "source": [
    "*Top de ciudades en el Estado de Florida*"
   ]
  },
  {
   "cell_type": "markdown",
   "metadata": {},
   "source": [
    "Este top de ciudades de Florida se realiza debido a que el Estado de California se ve reflejado en el top 5 de Estados en ambas bases de datos tanto de YELP como de Google, así que consideramos relevante su análisis."
   ]
  },
  {
   "cell_type": "code",
   "execution_count": 41,
   "metadata": {},
   "outputs": [
    {
     "data": {
      "image/png": "[encoded data removed]",
      "text/plain": [
       "<Figure size 1000x600 with 1 Axes>"
      ]
     },
     "metadata": {},
     "output_type": "display_data"
    }
   ],
   "source": [
    "florida_cities = restaurant[restaurant['state'] == 'Florida']\n",
    "\n",
    "top_cities = florida_cities['city'].value_counts().nlargest(10)\n",
    "\n",
    "plt.figure(figsize=(10, 6))\n",
    "colors = ['blue', 'green', 'red', 'purple', 'orange', 'yellow', 'LightBlue', 'magenta', 'brown', 'gray']\n",
    "top_cities.plot(kind='bar', color = colors)\n",
    "plt.xlabel('City')\n",
    "plt.ylabel('Frequency')\n",
    "plt.title('Top 10 Cities in Florida State')\n",
    "plt.xticks(rotation=45)  \n",
    "plt.show()"
   ]
  },
  {
   "cell_type": "markdown",
   "metadata": {},
   "source": [
    "Debido a que el Estado de Florida se encuentra en el top 5 de ambas aplicaciones, investigamos el top 5 de las ciudades con mayor número de negocios en dicho Estado, para también tenerlo en consideración para futuras inversiones."
   ]
  },
  {
   "cell_type": "markdown",
   "metadata": {},
   "source": [
    "*Top de establecimiento con mayor numero de visitas*"
   ]
  },
  {
   "cell_type": "code",
   "execution_count": 6,
   "metadata": {},
   "outputs": [],
   "source": [
    "business_mini = business.drop_duplicates(subset=['first_category'], keep='first')"
   ]
  },
  {
   "cell_type": "code",
   "execution_count": 49,
   "metadata": {},
   "outputs": [
    {
     "data": {
      "image/png": "[encoded data removed]",
      "text/plain": [
       "<Figure size 1000x600 with 1 Axes>"
      ]
     },
     "metadata": {},
     "output_type": "display_data"
    }
   ],
   "source": [
    "merged_df = pd.merge(business_mini[['id_business', 'name']], reviews_yelp[['id_business']], on='id_business')\n",
    "\n",
    "top_names = merged_df['name'].value_counts().head(10)\n",
    "\n",
    "plt.figure(figsize=(10, 6))\n",
    "top_names.plot(kind='bar', color='skyblue', edgecolor='black')\n",
    "plt.title('Top 10 de establecimientos con mayor numero de clientes')\n",
    "plt.xlabel('Nombre del establecimiento')\n",
    "plt.ylabel('Frecuencia de reseñas')\n",
    "plt.xticks(rotation=45)\n",
    "plt.grid(axis='y', linestyle='--', alpha=0.7)\n",
    "plt.tight_layout()\n",
    "plt.show()"
   ]
  },
  {
   "cell_type": "markdown",
   "metadata": {},
   "source": [
    "*Top por categoria en google.*"
   ]
  },
  {
   "cell_type": "code",
   "execution_count": 5,
   "metadata": {},
   "outputs": [],
   "source": [
    "top_10_categories = restaurant['category'].value_counts().nlargest(10)"
   ]
  },
  {
   "cell_type": "code",
   "execution_count": 6,
   "metadata": {},
   "outputs": [
    {
     "data": {
      "image/png": "[encoded data removed]",
      "text/plain": [
       "<Figure size 1000x600 with 1 Axes>"
      ]
     },
     "metadata": {},
     "output_type": "display_data"
    }
   ],
   "source": [
    "plt.figure(figsize=(10, 6))\n",
    "colors = ['blue', 'green', 'red', 'purple', 'orange', 'yellow', 'LightBlue', 'magenta', 'brown', 'gray']\n",
    "top_10_categories.plot(kind='bar', color=colors)\n",
    "plt.xlabel('Categorias')\n",
    "plt.ylabel('Frequencia')\n",
    "plt.title('Top 10 de categorias')\n",
    "plt.xticks(rotation=90) \n",
    "plt.show()"
   ]
  },
  {
   "cell_type": "markdown",
   "metadata": {},
   "source": [
    "Tras examinar la gráfica previamente presentada con la data proveniente de Google, se puede inferir que la categoría que exhibe una mayor recurrencia y, por consiguiente, la que atrae a un mayor número de clientes, es la de \"restaurante\". Por lo tanto, se recomienda considerar esta categoría como la principal opción al evaluar la viabilidad de realizar una inversión."
   ]
  },
  {
   "cell_type": "markdown",
   "metadata": {},
   "source": [
    "*Top por categoria en YELP.*"
   ]
  },
  {
   "cell_type": "code",
   "execution_count": 12,
   "metadata": {},
   "outputs": [
    {
     "data": {
      "text/html": [
       "<div>\n",
       "<style scoped>\n",
       "    .dataframe tbody tr th:only-of-type {\n",
       "        vertical-align: middle;\n",
       "    }\n",
       "\n",
       "    .dataframe tbody tr th {\n",
       "        vertical-align: top;\n",
       "    }\n",
       "\n",
       "    .dataframe thead th {\n",
       "        text-align: right;\n",
       "    }\n",
       "</style>\n",
       "<table border=\"1\" class=\"dataframe\">\n",
       "  <thead>\n",
       "    <tr style=\"text-align: right;\">\n",
       "      <th></th>\n",
       "      <th>id_business</th>\n",
       "      <th>name</th>\n",
       "      <th>city</th>\n",
       "      <th>state</th>\n",
       "      <th>postal_code</th>\n",
       "      <th>latitude</th>\n",
       "      <th>longitude</th>\n",
       "      <th>stars</th>\n",
       "      <th>review_count</th>\n",
       "      <th>categories</th>\n",
       "      <th>hours_Dataset_Business</th>\n",
       "      <th>first_category</th>\n",
       "      <th>Descripcion_BusinessAtributos</th>\n",
       "      <th>Descripcion_BusinessCategorias</th>\n",
       "      <th>date</th>\n",
       "      <th>compliment_count</th>\n",
       "    </tr>\n",
       "  </thead>\n",
       "  <tbody>\n",
       "    <tr>\n",
       "      <th>0</th>\n",
       "      <td>0</td>\n",
       "      <td>Abby Rappoport, LAC, CMQ</td>\n",
       "      <td>Santa Barbara</td>\n",
       "      <td>California</td>\n",
       "      <td>93101</td>\n",
       "      <td>34.426679</td>\n",
       "      <td>-119.711197</td>\n",
       "      <td>5.0</td>\n",
       "      <td>7</td>\n",
       "      <td>Doctors, Traditional Chinese Medicine, Naturopathic/Holistic, Acupuncture, Health &amp; Medical, Nutritionists</td>\n",
       "      <td>{'Friday': '9:0-20:0', 'Monday': '9:0-20:0', 'Saturday': '8:30-15:30', 'Sunday': None, 'Thursday': '9:0-20:0', 'Tuesday': '9:0-20:0', 'Wednesday': '9:0-20:0'}</td>\n",
       "      <td>Doctors</td>\n",
       "      <td>ByAppointmentOnly</td>\n",
       "      <td>Doctors</td>\n",
       "      <td>None</td>\n",
       "      <td>NaN</td>\n",
       "    </tr>\n",
       "    <tr>\n",
       "      <th>6</th>\n",
       "      <td>3</td>\n",
       "      <td>St Honore Pastries</td>\n",
       "      <td>Philadelphia</td>\n",
       "      <td>Pennsylvania</td>\n",
       "      <td>19107</td>\n",
       "      <td>39.955505</td>\n",
       "      <td>-75.155564</td>\n",
       "      <td>4.0</td>\n",
       "      <td>80</td>\n",
       "      <td>Restaurants, Food, Bubble Tea, Coffee &amp; Tea, Bakeries</td>\n",
       "      <td>{'Friday': '7:0-21:0', 'Monday': '7:0-20:0', 'Saturday': '7:0-21:0', 'Sunday': '7:0-21:0', 'Thursday': '7:0-20:0', 'Tuesday': '7:0-20:0', 'Wednesday': '7:0-20:0'}</td>\n",
       "      <td>Restaurants</td>\n",
       "      <td>None</td>\n",
       "      <td>Synagogues</td>\n",
       "      <td>2017-09-20 17:00:27</td>\n",
       "      <td>0.0</td>\n",
       "    </tr>\n",
       "    <tr>\n",
       "      <th>146</th>\n",
       "      <td>4</td>\n",
       "      <td>Perkiomen Valley Brewery</td>\n",
       "      <td>Green Lane</td>\n",
       "      <td>Pennsylvania</td>\n",
       "      <td>18054</td>\n",
       "      <td>40.338183</td>\n",
       "      <td>-75.471659</td>\n",
       "      <td>4.5</td>\n",
       "      <td>13</td>\n",
       "      <td>Brewpubs, Breweries, Food</td>\n",
       "      <td>{'Friday': '12:0-22:0', 'Monday': None, 'Saturday': '12:0-22:0', 'Sunday': '12:0-18:0', 'Thursday': '16:0-22:0', 'Tuesday': None, 'Wednesday': '14:0-22:0'}</td>\n",
       "      <td>Brewpubs</td>\n",
       "      <td>RestaurantsPriceRange2</td>\n",
       "      <td>Department Stores</td>\n",
       "      <td>2020-08-14 16:08:41</td>\n",
       "      <td>0.0</td>\n",
       "    </tr>\n",
       "    <tr>\n",
       "      <th>206</th>\n",
       "      <td>7</td>\n",
       "      <td>Temple Beth-El</td>\n",
       "      <td>St. Petersburg</td>\n",
       "      <td>Florida</td>\n",
       "      <td>33707</td>\n",
       "      <td>27.766590</td>\n",
       "      <td>-82.732983</td>\n",
       "      <td>3.5</td>\n",
       "      <td>5</td>\n",
       "      <td>Synagogues, Religious Organizations</td>\n",
       "      <td>{'Friday': '9:0-17:0', 'Monday': '9:0-17:0', 'Saturday': None, 'Sunday': None, 'Thursday': '9:0-17:0', 'Tuesday': '9:0-17:0', 'Wednesday': '9:0-17:0'}</td>\n",
       "      <td>Synagogues</td>\n",
       "      <td>OutdoorSeating</td>\n",
       "      <td>Food</td>\n",
       "      <td>None</td>\n",
       "      <td>NaN</td>\n",
       "    </tr>\n",
       "    <tr>\n",
       "      <th>731</th>\n",
       "      <td>10</td>\n",
       "      <td>Marshalls</td>\n",
       "      <td>Land O' Lakes</td>\n",
       "      <td>Florida</td>\n",
       "      <td>34639</td>\n",
       "      <td>28.190459</td>\n",
       "      <td>-82.457380</td>\n",
       "      <td>3.5</td>\n",
       "      <td>6</td>\n",
       "      <td>Department Stores, Shopping, Fashion</td>\n",
       "      <td>{'Friday': '9:30-21:30', 'Monday': '9:30-21:30', 'Saturday': '9:30-21:30', 'Sunday': '10:0-20:0', 'Thursday': '9:30-21:30', 'Tuesday': '9:30-21:30', 'Wednesday': '9:30-21:30'}</td>\n",
       "      <td>Department Stores</td>\n",
       "      <td>RestaurantsGoodForGroups</td>\n",
       "      <td>Restaurants</td>\n",
       "      <td>None</td>\n",
       "      <td>NaN</td>\n",
       "    </tr>\n",
       "  </tbody>\n",
       "</table>\n",
       "</div>"
      ],
      "text/plain": [
       "     id_business                      name            city         state  \\\n",
       "0              0  Abby Rappoport, LAC, CMQ   Santa Barbara    California   \n",
       "6              3        St Honore Pastries    Philadelphia  Pennsylvania   \n",
       "146            4  Perkiomen Valley Brewery      Green Lane  Pennsylvania   \n",
       "206            7            Temple Beth-El  St. Petersburg       Florida   \n",
       "731           10                 Marshalls   Land O' Lakes       Florida   \n",
       "\n",
       "     postal_code   latitude   longitude  stars  review_count  \\\n",
       "0          93101  34.426679 -119.711197    5.0             7   \n",
       "6          19107  39.955505  -75.155564    4.0            80   \n",
       "146        18054  40.338183  -75.471659    4.5            13   \n",
       "206        33707  27.766590  -82.732983    3.5             5   \n",
       "731        34639  28.190459  -82.457380    3.5             6   \n",
       "\n",
       "                                                                                                     categories  \\\n",
       "0    Doctors, Traditional Chinese Medicine, Naturopathic/Holistic, Acupuncture, Health & Medical, Nutritionists   \n",
       "6                                                         Restaurants, Food, Bubble Tea, Coffee & Tea, Bakeries   \n",
       "146                                                                                   Brewpubs, Breweries, Food   \n",
       "206                                                                         Synagogues, Religious Organizations   \n",
       "731                                                                        Department Stores, Shopping, Fashion   \n",
       "\n",
       "                                                                                                                                                              hours_Dataset_Business  \\\n",
       "0                     {'Friday': '9:0-20:0', 'Monday': '9:0-20:0', 'Saturday': '8:30-15:30', 'Sunday': None, 'Thursday': '9:0-20:0', 'Tuesday': '9:0-20:0', 'Wednesday': '9:0-20:0'}   \n",
       "6                 {'Friday': '7:0-21:0', 'Monday': '7:0-20:0', 'Saturday': '7:0-21:0', 'Sunday': '7:0-21:0', 'Thursday': '7:0-20:0', 'Tuesday': '7:0-20:0', 'Wednesday': '7:0-20:0'}   \n",
       "146                      {'Friday': '12:0-22:0', 'Monday': None, 'Saturday': '12:0-22:0', 'Sunday': '12:0-18:0', 'Thursday': '16:0-22:0', 'Tuesday': None, 'Wednesday': '14:0-22:0'}   \n",
       "206                           {'Friday': '9:0-17:0', 'Monday': '9:0-17:0', 'Saturday': None, 'Sunday': None, 'Thursday': '9:0-17:0', 'Tuesday': '9:0-17:0', 'Wednesday': '9:0-17:0'}   \n",
       "731  {'Friday': '9:30-21:30', 'Monday': '9:30-21:30', 'Saturday': '9:30-21:30', 'Sunday': '10:0-20:0', 'Thursday': '9:30-21:30', 'Tuesday': '9:30-21:30', 'Wednesday': '9:30-21:30'}   \n",
       "\n",
       "        first_category Descripcion_BusinessAtributos  \\\n",
       "0              Doctors             ByAppointmentOnly   \n",
       "6          Restaurants                          None   \n",
       "146           Brewpubs        RestaurantsPriceRange2   \n",
       "206         Synagogues                OutdoorSeating   \n",
       "731  Department Stores      RestaurantsGoodForGroups   \n",
       "\n",
       "    Descripcion_BusinessCategorias                 date  compliment_count  \n",
       "0                          Doctors                 None               NaN  \n",
       "6                       Synagogues  2017-09-20 17:00:27               0.0  \n",
       "146              Department Stores  2020-08-14 16:08:41               0.0  \n",
       "206                           Food                 None               NaN  \n",
       "731                    Restaurants                 None               NaN  "
      ]
     },
     "execution_count": 12,
     "metadata": {},
     "output_type": "execute_result"
    }
   ],
   "source": [
    "business_mini_names = business.drop_duplicates(subset=['name'], keep='first')\n",
    "business_mini_names.head()"
   ]
  },
  {
   "cell_type": "code",
   "execution_count": 14,
   "metadata": {},
   "outputs": [
    {
     "data": {
      "image/png": "[encoded data removed]",
      "text/plain": [
       "<Figure size 1000x600 with 1 Axes>"
      ]
     },
     "metadata": {},
     "output_type": "display_data"
    }
   ],
   "source": [
    "# business['first_category'] = business['categories'].str.split(',').str[0]\n",
    "category_counts = business_mini_names['first_category'].value_counts().nlargest(10)\n",
    "\n",
    "plt.figure(figsize=(10, 6))\n",
    "colors = ['blue', 'green', 'red', 'purple', 'orange', 'yellow', 'LightBlue', 'magenta', 'brown', 'gray']\n",
    "category_counts.plot(kind='bar', color=colors)\n",
    "plt.title('Frecuencia de las primeras 10 categorías')\n",
    "plt.xlabel('Categorías')\n",
    "plt.ylabel('Frecuencia')\n",
    "plt.show()"
   ]
  },
  {
   "cell_type": "markdown",
   "metadata": {},
   "source": [
    "Después de examinar la gráfica previamente presentada con la data proveniente de YELP, se puede inferir que la categoría que exhibe una mayor recurrencia y, por consiguiente, la que atrae a un mayor número de clientes, es la de \"restaurants\". Por lo tanto, se recomienda considerar esta categoría como la principal opción al evaluar la viabilidad de realizar una inversión."
   ]
  },
  {
   "cell_type": "markdown",
   "metadata": {},
   "source": [
    "*Top de categorias con mejor calificación*"
   ]
  },
  {
   "cell_type": "code",
   "execution_count": 15,
   "metadata": {},
   "outputs": [
    {
     "data": {
      "image/png": "[encoded data removed]",
      "text/plain": [
       "<Figure size 1000x600 with 1 Axes>"
      ]
     },
     "metadata": {},
     "output_type": "display_data"
    }
   ],
   "source": [
    "top_10_categories = restaurant['category'].value_counts().nlargest(10).index\n",
    "\n",
    "top_categories_data = restaurant[restaurant['category'].isin(top_10_categories)]\n",
    "\n",
    "top_5_avg_ratings = top_categories_data['avg_rating'].value_counts().nlargest(3).index\n",
    "\n",
    "plt.figure(figsize=(10, 6))\n",
    "\n",
    "for avg_rating in top_5_avg_ratings:\n",
    "\n",
    "    category_counts = top_categories_data[top_categories_data['avg_rating'] == avg_rating]['category'].value_counts()\n",
    "    \n",
    "    if not category_counts.empty:\n",
    "        plt.bar(category_counts.index, category_counts, label=f'Avg Rating: {avg_rating}')\n",
    "\n",
    "plt.xlabel('Category')\n",
    "plt.ylabel('Frequency')\n",
    "plt.title('Top 5 Average Ratings for Top 10 Categories')\n",
    "plt.xticks(rotation=90)\n",
    "plt.legend()\n",
    "plt.tight_layout()\n",
    "plt.show()"
   ]
  },
  {
   "cell_type": "markdown",
   "metadata": {},
   "source": [
    "Este gráfico ilustra el promedio de calificaciones para cada categoría, lo que permite identificar las categorías que son predominantemente aceptadas y que reciben más reseñas positivas."
   ]
  },
  {
   "cell_type": "markdown",
   "metadata": {},
   "source": [
    "*Top 5 de restaurantes con mejor calificación*"
   ]
  },
  {
   "cell_type": "code",
   "execution_count": 16,
   "metadata": {},
   "outputs": [
    {
     "data": {
      "image/png": "[encoded data removed]",
      "text/plain": [
       "<Figure size 640x480 with 1 Axes>"
      ]
     },
     "metadata": {},
     "output_type": "display_data"
    }
   ],
   "source": [
    "restaurant['first_category'] = restaurant['category'].str.split(',').str[0]\n",
    "\n",
    "avg_rating_per_category = restaurant.groupby('first_category')['avg_rating'].mean().nlargest(5)\n",
    "\n",
    "avg_rating_per_category.plot(kind='pie', autopct='%1.1f%%')\n",
    "plt.title('Promedio de calificación por categoría')\n",
    "plt.ylabel('')\n",
    "plt.show()"
   ]
  },
  {
   "cell_type": "markdown",
   "metadata": {},
   "source": [
    "El análisis del gráfico permite inferir que dentro del sector gastronómico, los cinco establecimientos con las calificaciones más altas han sido identificados. Este hallazgo proporciona información relevante para la toma de decisiones en relación a posibles inversiones dentro del ámbito gastronómico."
   ]
  }
 ],
 "metadata": {
  "kernelspec": {
   "display_name": "Python 3",
   "language": "python",
   "name": "python3"
  },
  "language_info": {
   "codemirror_mode": {
    "name": "ipython",
    "version": 3
   },
   "file_extension": ".py",
   "mimetype": "text/x-python",
   "name": "python",
   "nbconvert_exporter": "python",
   "pygments_lexer": "ipython3",
   "version": "3.11.9"
  }
 },
 "nbformat": 4,
 "nbformat_minor": 2
}
