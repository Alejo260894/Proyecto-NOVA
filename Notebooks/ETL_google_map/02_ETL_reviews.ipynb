{
 "cells": [
  {
   "cell_type": "markdown",
   "metadata": {},
   "source": [
    "# **ETL de Google Maps**  \n",
    "**Empezamos nuestro trabajo con la extracción de los datos de archivos json:**"
   ]
  },
  {
   "cell_type": "markdown",
   "metadata": {},
   "source": [
    "Importamos librerias necesarias:"
   ]
  },
  {
   "cell_type": "code",
   "execution_count": 32,
   "metadata": {},
   "outputs": [],
   "source": [
    "import pandas as pd\n",
    "import json\n",
    "import os"
   ]
  },
  {
   "cell_type": "markdown",
   "metadata": {},
   "source": [
    "**Carpeta de entrada**"
   ]
  },
  {
   "cell_type": "code",
   "execution_count": 33,
   "metadata": {},
   "outputs": [],
   "source": [
    "Ruta_review_estados = r\"G:\\Jorge\\Desktop\\Google Maps\\reviews-estados\"\n",
    "Ruta_data_procesada = '../../Data/data_procesada'"
   ]
  },
  {
   "cell_type": "markdown",
   "metadata": {},
   "source": [
    "**Carpeta de salida**"
   ]
  },
  {
   "cell_type": "code",
   "execution_count": 34,
   "metadata": {},
   "outputs": [],
   "source": [
    "Ruta_data_preprocesada = '../../Data/data_preprocesada'\n",
    "Ruta_data_procesada = '../../Data/data_procesada' # En este caso es la misma carpeta para la entrada y salida de algunos dataframes"
   ]
  },
  {
   "cell_type": "markdown",
   "metadata": {},
   "source": [
    "## **Extracción de Datos:**"
   ]
  },
  {
   "cell_type": "markdown",
   "metadata": {},
   "source": [
    "El siguiente código crea diferentes dataframes por cada estado, leyendo cada archivo JSON de su respectivo estado.  \n",
    "Guarda cada dataframe en una lista y estos luego son concatenados en un único dataframe."
   ]
  },
  {
   "cell_type": "code",
   "execution_count": 35,
   "metadata": {},
   "outputs": [],
   "source": [
    "# Función que retorna un dataframe, dependiendo de la ruta que varia en el ciclo for de más abajo\n",
    "# Abre cada directorio diferente e itera sobre cada archivo JSON:\n",
    "def cargar_reviews(ruta_estado):\n",
    "    reviews_estado = []\n",
    "    for directorio in os.listdir(ruta_estado):\n",
    "        ruta_archivo = os.path.join(ruta_estado, directorio)\n",
    "        with open(ruta_archivo, 'r') as archivo:\n",
    "            for linea in archivo:\n",
    "                review_data = json.loads(linea)\n",
    "                reviews_estado.append(review_data)\n",
    "    return pd.DataFrame(reviews_estado)"
   ]
  },
  {
   "cell_type": "markdown",
   "metadata": {},
   "source": [
    "Se eligieron a los estados de 'New York', 'Pensilvania', 'Florida', 'California' y 'Nevada' como muestra para el estudio por compatibildiad con los datos disponibles entre Google Maps y Yelp"
   ]
  },
  {
   "cell_type": "code",
   "execution_count": 36,
   "metadata": {},
   "outputs": [],
   "source": [
    "estados = ['review-New_York', 'review-Pennsylvania', 'review-Florida', 'review-California', 'review-Nevada'] # Carpetas de estados\n",
    "dfs = []    # Lista donde se guardan cada dataframe                       \n",
    "\n",
    "# Iteramos por cada estado en la lista de estados:\n",
    "for estado in estados:\n",
    "    ruta_estado = f'{Ruta_review_estados}/{estado}/' # Ruta de cada estados por iteración\n",
    "    df_estado = cargar_reviews(ruta_estado)                   # Se llama a la función 'cargar_reviews'\n",
    "    dfs.append(df_estado)                                     # Se añade el dataframe a la lista"
   ]
  },
  {
   "cell_type": "markdown",
   "metadata": {},
   "source": [
    "**Concatenamos los dataframes en uno solo:**"
   ]
  },
  {
   "cell_type": "code",
   "execution_count": 37,
   "metadata": {},
   "outputs": [],
   "source": [
    "df = pd.concat(dfs, ignore_index=True)"
   ]
  },
  {
   "cell_type": "markdown",
   "metadata": {},
   "source": [
    "Eliminamos las columna innecesarias: 'pics' y 'resp'"
   ]
  },
  {
   "cell_type": "code",
   "execution_count": 38,
   "metadata": {},
   "outputs": [],
   "source": [
    "drops = [\"pics\", \"resp\"]\n",
    "df.drop(drops, axis=1, inplace=True)"
   ]
  },
  {
   "cell_type": "code",
   "execution_count": 39,
   "metadata": {},
   "outputs": [
    {
     "name": "stdout",
     "output_type": "stream",
     "text": [
      "<class 'pandas.core.frame.DataFrame'>\n",
      "RangeIndex: 12450000 entries, 0 to 12449999\n",
      "Data columns (total 6 columns):\n",
      " #   Column   Dtype \n",
      "---  ------   ----- \n",
      " 0   user_id  object\n",
      " 1   name     object\n",
      " 2   time     int64 \n",
      " 3   rating   int64 \n",
      " 4   text     object\n",
      " 5   gmap_id  object\n",
      "dtypes: int64(2), object(4)\n",
      "memory usage: 569.9+ MB\n"
     ]
    }
   ],
   "source": [
    "df.info()"
   ]
  },
  {
   "cell_type": "markdown",
   "metadata": {},
   "source": [
    "### **Guardamos en un parquet los resultados:**    \n",
    "**No queremos hacer devuelta todo el tiempo la lectura de json's (tarda demasiado)**"
   ]
  },
  {
   "cell_type": "code",
   "execution_count": 40,
   "metadata": {},
   "outputs": [],
   "source": [
    "df.to_parquet(os.path.join(Ruta_data_preprocesada, \"reviews_estado_puro.parquet\"))"
   ]
  },
  {
   "cell_type": "markdown",
   "metadata": {},
   "source": [
    "## **Transformación de Datos:**  \n",
    "\n",
    "**Leemos el parquet guardado:**"
   ]
  },
  {
   "cell_type": "code",
   "execution_count": 41,
   "metadata": {},
   "outputs": [],
   "source": [
    "df_reviews = pd.read_parquet(os.path.join(Ruta_data_preprocesada, \"reviews_estado_puro.parquet\"))"
   ]
  },
  {
   "cell_type": "code",
   "execution_count": 42,
   "metadata": {},
   "outputs": [
    {
     "data": {
      "text/plain": [
       "user_id          0\n",
       "name             0\n",
       "time             0\n",
       "rating           0\n",
       "text       5190600\n",
       "gmap_id          0\n",
       "dtype: int64"
      ]
     },
     "execution_count": 42,
     "metadata": {},
     "output_type": "execute_result"
    }
   ],
   "source": [
    "df_reviews.isna().sum()"
   ]
  },
  {
   "cell_type": "markdown",
   "metadata": {},
   "source": [
    "Para poder filtrar las reviews de solo restaurantes, tenemos que traer ya los datos de estos mismos restaurantes, a traves del parquet:  \n",
    "'restaurantes.parquet'. Para el primer paso traemos el archivo:"
   ]
  },
  {
   "cell_type": "code",
   "execution_count": 43,
   "metadata": {},
   "outputs": [],
   "source": [
    "restaurantes = pd.read_parquet(os.path.join(Ruta_data_procesada, \"restaurantes.parquet\"))"
   ]
  },
  {
   "cell_type": "markdown",
   "metadata": {},
   "source": [
    "Filtramos las reviews a traves de los restaurantes:"
   ]
  },
  {
   "cell_type": "code",
   "execution_count": 44,
   "metadata": {},
   "outputs": [],
   "source": [
    "reviews_filtradas = df_reviews[df_reviews['gmap_id'].isin(restaurantes['gmap_id'])]\n",
    "\n",
    "df_reviews_filtradas= pd.DataFrame(reviews_filtradas)"
   ]
  },
  {
   "cell_type": "code",
   "execution_count": 45,
   "metadata": {},
   "outputs": [
    {
     "name": "stdout",
     "output_type": "stream",
     "text": [
      "<class 'pandas.core.frame.DataFrame'>\n",
      "Index: 1776939 entries, 165 to 11580817\n",
      "Data columns (total 6 columns):\n",
      " #   Column   Dtype \n",
      "---  ------   ----- \n",
      " 0   user_id  object\n",
      " 1   name     object\n",
      " 2   time     int64 \n",
      " 3   rating   int64 \n",
      " 4   text     object\n",
      " 5   gmap_id  object\n",
      "dtypes: int64(2), object(4)\n",
      "memory usage: 94.9+ MB\n"
     ]
    }
   ],
   "source": [
    "df_reviews_filtradas.info()"
   ]
  },
  {
   "cell_type": "code",
   "execution_count": 46,
   "metadata": {},
   "outputs": [
    {
     "data": {
      "text/html": [
       "<div>\n",
       "<style scoped>\n",
       "    .dataframe tbody tr th:only-of-type {\n",
       "        vertical-align: middle;\n",
       "    }\n",
       "\n",
       "    .dataframe tbody tr th {\n",
       "        vertical-align: top;\n",
       "    }\n",
       "\n",
       "    .dataframe thead th {\n",
       "        text-align: right;\n",
       "    }\n",
       "</style>\n",
       "<table border=\"1\" class=\"dataframe\">\n",
       "  <thead>\n",
       "    <tr style=\"text-align: right;\">\n",
       "      <th></th>\n",
       "      <th>user_id</th>\n",
       "      <th>name</th>\n",
       "      <th>time</th>\n",
       "      <th>rating</th>\n",
       "      <th>text</th>\n",
       "      <th>gmap_id</th>\n",
       "    </tr>\n",
       "  </thead>\n",
       "  <tbody>\n",
       "    <tr>\n",
       "      <th>165</th>\n",
       "      <td>109434968607034492648</td>\n",
       "      <td>Tony Pinto</td>\n",
       "      <td>1384783434547</td>\n",
       "      <td>5</td>\n",
       "      <td>I came by yesterday to pick up some pizza on t...</td>\n",
       "      <td>0x89c258ffaeaba947:0x8355860772a595a9</td>\n",
       "    </tr>\n",
       "    <tr>\n",
       "      <th>166</th>\n",
       "      <td>108584493264435262292</td>\n",
       "      <td>Benji</td>\n",
       "      <td>1424212048498</td>\n",
       "      <td>1</td>\n",
       "      <td>Food was burnt and not good. You would think s...</td>\n",
       "      <td>0x89c258ffaeaba947:0x8355860772a595a9</td>\n",
       "    </tr>\n",
       "    <tr>\n",
       "      <th>167</th>\n",
       "      <td>108987049306954366378</td>\n",
       "      <td>Michael Rahmani</td>\n",
       "      <td>1419979427508</td>\n",
       "      <td>1</td>\n",
       "      <td>This place is horrible. I ordered two ziti piz...</td>\n",
       "      <td>0x89c258ffaeaba947:0x8355860772a595a9</td>\n",
       "    </tr>\n",
       "    <tr>\n",
       "      <th>168</th>\n",
       "      <td>107767094884093007779</td>\n",
       "      <td>eliau piha</td>\n",
       "      <td>1404689173836</td>\n",
       "      <td>5</td>\n",
       "      <td>Love their pizza and their service!\\nREALLY IT...</td>\n",
       "      <td>0x89c258ffaeaba947:0x8355860772a595a9</td>\n",
       "    </tr>\n",
       "    <tr>\n",
       "      <th>169</th>\n",
       "      <td>107373453968933712290</td>\n",
       "      <td>Matt Schaffnit</td>\n",
       "      <td>1477384254400</td>\n",
       "      <td>5</td>\n",
       "      <td>Used to get lunch here nearly every day. You w...</td>\n",
       "      <td>0x89c258ffaeaba947:0x8355860772a595a9</td>\n",
       "    </tr>\n",
       "  </tbody>\n",
       "</table>\n",
       "</div>"
      ],
      "text/plain": [
       "                   user_id             name           time  rating  \\\n",
       "165  109434968607034492648       Tony Pinto  1384783434547       5   \n",
       "166  108584493264435262292            Benji  1424212048498       1   \n",
       "167  108987049306954366378  Michael Rahmani  1419979427508       1   \n",
       "168  107767094884093007779       eliau piha  1404689173836       5   \n",
       "169  107373453968933712290   Matt Schaffnit  1477384254400       5   \n",
       "\n",
       "                                                  text  \\\n",
       "165  I came by yesterday to pick up some pizza on t...   \n",
       "166  Food was burnt and not good. You would think s...   \n",
       "167  This place is horrible. I ordered two ziti piz...   \n",
       "168  Love their pizza and their service!\\nREALLY IT...   \n",
       "169  Used to get lunch here nearly every day. You w...   \n",
       "\n",
       "                                   gmap_id  \n",
       "165  0x89c258ffaeaba947:0x8355860772a595a9  \n",
       "166  0x89c258ffaeaba947:0x8355860772a595a9  \n",
       "167  0x89c258ffaeaba947:0x8355860772a595a9  \n",
       "168  0x89c258ffaeaba947:0x8355860772a595a9  \n",
       "169  0x89c258ffaeaba947:0x8355860772a595a9  "
      ]
     },
     "execution_count": 46,
     "metadata": {},
     "output_type": "execute_result"
    }
   ],
   "source": [
    "df_reviews_filtradas.head(5)"
   ]
  },
  {
   "cell_type": "markdown",
   "metadata": {},
   "source": [
    "**Fusionaremos con merge() los Dataframes: 'restaurantes' y 'df_reviews_filtradas'**\n",
    "\n",
    "Para más claridad cambiaremos los nombres de las columnas 'name' de ambos dataframes a nombres más especificos: user_name y restaurant_name."
   ]
  },
  {
   "cell_type": "code",
   "execution_count": 47,
   "metadata": {},
   "outputs": [],
   "source": [
    "df_reviews_filtradas.rename(columns={'name':'user_name'}, inplace=True)\n",
    "\n",
    "restaurantes.rename(columns={'name':'restaurant_name'}, inplace=True)"
   ]
  },
  {
   "cell_type": "code",
   "execution_count": 48,
   "metadata": {},
   "outputs": [
    {
     "data": {
      "text/html": [
       "<div>\n",
       "<style scoped>\n",
       "    .dataframe tbody tr th:only-of-type {\n",
       "        vertical-align: middle;\n",
       "    }\n",
       "\n",
       "    .dataframe tbody tr th {\n",
       "        vertical-align: top;\n",
       "    }\n",
       "\n",
       "    .dataframe thead th {\n",
       "        text-align: right;\n",
       "    }\n",
       "</style>\n",
       "<table border=\"1\" class=\"dataframe\">\n",
       "  <thead>\n",
       "    <tr style=\"text-align: right;\">\n",
       "      <th></th>\n",
       "      <th>user_id</th>\n",
       "      <th>user_name</th>\n",
       "      <th>time</th>\n",
       "      <th>rating</th>\n",
       "      <th>text</th>\n",
       "      <th>gmap_id</th>\n",
       "      <th>restaurant_name</th>\n",
       "      <th>state</th>\n",
       "      <th>city</th>\n",
       "    </tr>\n",
       "  </thead>\n",
       "  <tbody>\n",
       "    <tr>\n",
       "      <th>0</th>\n",
       "      <td>109434968607034492648</td>\n",
       "      <td>Tony Pinto</td>\n",
       "      <td>1384783434547</td>\n",
       "      <td>5</td>\n",
       "      <td>I came by yesterday to pick up some pizza on t...</td>\n",
       "      <td>0x89c258ffaeaba947:0x8355860772a595a9</td>\n",
       "      <td>Raffaello Kosher Pizza</td>\n",
       "      <td>New_York</td>\n",
       "      <td>New York</td>\n",
       "    </tr>\n",
       "    <tr>\n",
       "      <th>1</th>\n",
       "      <td>108584493264435262292</td>\n",
       "      <td>Benji</td>\n",
       "      <td>1424212048498</td>\n",
       "      <td>1</td>\n",
       "      <td>Food was burnt and not good. You would think s...</td>\n",
       "      <td>0x89c258ffaeaba947:0x8355860772a595a9</td>\n",
       "      <td>Raffaello Kosher Pizza</td>\n",
       "      <td>New_York</td>\n",
       "      <td>New York</td>\n",
       "    </tr>\n",
       "    <tr>\n",
       "      <th>2</th>\n",
       "      <td>108987049306954366378</td>\n",
       "      <td>Michael Rahmani</td>\n",
       "      <td>1419979427508</td>\n",
       "      <td>1</td>\n",
       "      <td>This place is horrible. I ordered two ziti piz...</td>\n",
       "      <td>0x89c258ffaeaba947:0x8355860772a595a9</td>\n",
       "      <td>Raffaello Kosher Pizza</td>\n",
       "      <td>New_York</td>\n",
       "      <td>New York</td>\n",
       "    </tr>\n",
       "    <tr>\n",
       "      <th>3</th>\n",
       "      <td>107767094884093007779</td>\n",
       "      <td>eliau piha</td>\n",
       "      <td>1404689173836</td>\n",
       "      <td>5</td>\n",
       "      <td>Love their pizza and their service!\\nREALLY IT...</td>\n",
       "      <td>0x89c258ffaeaba947:0x8355860772a595a9</td>\n",
       "      <td>Raffaello Kosher Pizza</td>\n",
       "      <td>New_York</td>\n",
       "      <td>New York</td>\n",
       "    </tr>\n",
       "    <tr>\n",
       "      <th>4</th>\n",
       "      <td>107373453968933712290</td>\n",
       "      <td>Matt Schaffnit</td>\n",
       "      <td>1477384254400</td>\n",
       "      <td>5</td>\n",
       "      <td>Used to get lunch here nearly every day. You w...</td>\n",
       "      <td>0x89c258ffaeaba947:0x8355860772a595a9</td>\n",
       "      <td>Raffaello Kosher Pizza</td>\n",
       "      <td>New_York</td>\n",
       "      <td>New York</td>\n",
       "    </tr>\n",
       "  </tbody>\n",
       "</table>\n",
       "</div>"
      ],
      "text/plain": [
       "                 user_id        user_name           time  rating  \\\n",
       "0  109434968607034492648       Tony Pinto  1384783434547       5   \n",
       "1  108584493264435262292            Benji  1424212048498       1   \n",
       "2  108987049306954366378  Michael Rahmani  1419979427508       1   \n",
       "3  107767094884093007779       eliau piha  1404689173836       5   \n",
       "4  107373453968933712290   Matt Schaffnit  1477384254400       5   \n",
       "\n",
       "                                                text  \\\n",
       "0  I came by yesterday to pick up some pizza on t...   \n",
       "1  Food was burnt and not good. You would think s...   \n",
       "2  This place is horrible. I ordered two ziti piz...   \n",
       "3  Love their pizza and their service!\\nREALLY IT...   \n",
       "4  Used to get lunch here nearly every day. You w...   \n",
       "\n",
       "                                 gmap_id         restaurant_name     state  \\\n",
       "0  0x89c258ffaeaba947:0x8355860772a595a9  Raffaello Kosher Pizza  New_York   \n",
       "1  0x89c258ffaeaba947:0x8355860772a595a9  Raffaello Kosher Pizza  New_York   \n",
       "2  0x89c258ffaeaba947:0x8355860772a595a9  Raffaello Kosher Pizza  New_York   \n",
       "3  0x89c258ffaeaba947:0x8355860772a595a9  Raffaello Kosher Pizza  New_York   \n",
       "4  0x89c258ffaeaba947:0x8355860772a595a9  Raffaello Kosher Pizza  New_York   \n",
       "\n",
       "       city  \n",
       "0  New York  \n",
       "1  New York  \n",
       "2  New York  \n",
       "3  New York  \n",
       "4  New York  "
      ]
     },
     "execution_count": 48,
     "metadata": {},
     "output_type": "execute_result"
    }
   ],
   "source": [
    "# Fusionamos:\n",
    "df_reviews_filtradas = pd.merge(df_reviews_filtradas, restaurantes[['gmap_id', 'restaurant_name', 'state', 'city']], on='gmap_id', how='inner')\n",
    "df_reviews_filtradas.head(5)"
   ]
  },
  {
   "cell_type": "code",
   "execution_count": 49,
   "metadata": {},
   "outputs": [
    {
     "data": {
      "text/plain": [
       "user_id                 0\n",
       "user_name               0\n",
       "time                    0\n",
       "rating                  0\n",
       "text               692864\n",
       "gmap_id                 0\n",
       "restaurant_name         0\n",
       "state                   0\n",
       "city                    0\n",
       "dtype: int64"
      ]
     },
     "execution_count": 49,
     "metadata": {},
     "output_type": "execute_result"
    }
   ],
   "source": [
    "df_reviews_filtradas.isna().sum()"
   ]
  },
  {
   "cell_type": "markdown",
   "metadata": {},
   "source": [
    "Como observamos, los únicos nulos que posee nuestro Dataframe son el texto de las reviews, por lo tanto los rellenaremos con 'SD' (Sin Dato):"
   ]
  },
  {
   "cell_type": "code",
   "execution_count": 50,
   "metadata": {},
   "outputs": [
    {
     "data": {
      "text/plain": [
       "user_id            0\n",
       "user_name          0\n",
       "time               0\n",
       "rating             0\n",
       "text               0\n",
       "gmap_id            0\n",
       "restaurant_name    0\n",
       "state              0\n",
       "city               0\n",
       "dtype: int64"
      ]
     },
     "execution_count": 50,
     "metadata": {},
     "output_type": "execute_result"
    }
   ],
   "source": [
    "df_reviews_filtradas[\"text\"] = df_reviews_filtradas[\"text\"].fillna(\"SD\")\n",
    "df_reviews_filtradas.isna().sum()"
   ]
  },
  {
   "cell_type": "markdown",
   "metadata": {},
   "source": [
    "Reordenamos las columnas:"
   ]
  },
  {
   "cell_type": "code",
   "execution_count": 51,
   "metadata": {},
   "outputs": [
    {
     "data": {
      "text/html": [
       "<div>\n",
       "<style scoped>\n",
       "    .dataframe tbody tr th:only-of-type {\n",
       "        vertical-align: middle;\n",
       "    }\n",
       "\n",
       "    .dataframe tbody tr th {\n",
       "        vertical-align: top;\n",
       "    }\n",
       "\n",
       "    .dataframe thead th {\n",
       "        text-align: right;\n",
       "    }\n",
       "</style>\n",
       "<table border=\"1\" class=\"dataframe\">\n",
       "  <thead>\n",
       "    <tr style=\"text-align: right;\">\n",
       "      <th></th>\n",
       "      <th>user_id</th>\n",
       "      <th>user_name</th>\n",
       "      <th>time</th>\n",
       "      <th>rating</th>\n",
       "      <th>text</th>\n",
       "      <th>restaurant_name</th>\n",
       "      <th>state</th>\n",
       "      <th>city</th>\n",
       "      <th>gmap_id</th>\n",
       "    </tr>\n",
       "  </thead>\n",
       "  <tbody>\n",
       "    <tr>\n",
       "      <th>0</th>\n",
       "      <td>109434968607034492648</td>\n",
       "      <td>Tony Pinto</td>\n",
       "      <td>1384783434547</td>\n",
       "      <td>5</td>\n",
       "      <td>I came by yesterday to pick up some pizza on t...</td>\n",
       "      <td>Raffaello Kosher Pizza</td>\n",
       "      <td>New_York</td>\n",
       "      <td>New York</td>\n",
       "      <td>0x89c258ffaeaba947:0x8355860772a595a9</td>\n",
       "    </tr>\n",
       "    <tr>\n",
       "      <th>1</th>\n",
       "      <td>108584493264435262292</td>\n",
       "      <td>Benji</td>\n",
       "      <td>1424212048498</td>\n",
       "      <td>1</td>\n",
       "      <td>Food was burnt and not good. You would think s...</td>\n",
       "      <td>Raffaello Kosher Pizza</td>\n",
       "      <td>New_York</td>\n",
       "      <td>New York</td>\n",
       "      <td>0x89c258ffaeaba947:0x8355860772a595a9</td>\n",
       "    </tr>\n",
       "  </tbody>\n",
       "</table>\n",
       "</div>"
      ],
      "text/plain": [
       "                 user_id   user_name           time  rating  \\\n",
       "0  109434968607034492648  Tony Pinto  1384783434547       5   \n",
       "1  108584493264435262292       Benji  1424212048498       1   \n",
       "\n",
       "                                                text         restaurant_name  \\\n",
       "0  I came by yesterday to pick up some pizza on t...  Raffaello Kosher Pizza   \n",
       "1  Food was burnt and not good. You would think s...  Raffaello Kosher Pizza   \n",
       "\n",
       "      state      city                                gmap_id  \n",
       "0  New_York  New York  0x89c258ffaeaba947:0x8355860772a595a9  \n",
       "1  New_York  New York  0x89c258ffaeaba947:0x8355860772a595a9  "
      ]
     },
     "execution_count": 51,
     "metadata": {},
     "output_type": "execute_result"
    }
   ],
   "source": [
    "orden = [\"user_id\",\t\"user_name\", \"time\", \"rating\", \"text\", \"restaurant_name\", \"state\", \"city\", \"gmap_id\"]\n",
    "\n",
    "df_reviews_filtradas = df_reviews_filtradas[orden]\n",
    "df_reviews_filtradas.head(2)"
   ]
  },
  {
   "cell_type": "markdown",
   "metadata": {},
   "source": [
    "**Convertimos a datetime la columna 'time'**  \n",
    "Esta se encontraba en formato unix."
   ]
  },
  {
   "cell_type": "code",
   "execution_count": 52,
   "metadata": {},
   "outputs": [
    {
     "data": {
      "text/html": [
       "<div>\n",
       "<style scoped>\n",
       "    .dataframe tbody tr th:only-of-type {\n",
       "        vertical-align: middle;\n",
       "    }\n",
       "\n",
       "    .dataframe tbody tr th {\n",
       "        vertical-align: top;\n",
       "    }\n",
       "\n",
       "    .dataframe thead th {\n",
       "        text-align: right;\n",
       "    }\n",
       "</style>\n",
       "<table border=\"1\" class=\"dataframe\">\n",
       "  <thead>\n",
       "    <tr style=\"text-align: right;\">\n",
       "      <th></th>\n",
       "      <th>user_id</th>\n",
       "      <th>user_name</th>\n",
       "      <th>time</th>\n",
       "      <th>rating</th>\n",
       "      <th>text</th>\n",
       "      <th>restaurant_name</th>\n",
       "      <th>state</th>\n",
       "      <th>city</th>\n",
       "      <th>gmap_id</th>\n",
       "    </tr>\n",
       "  </thead>\n",
       "  <tbody>\n",
       "    <tr>\n",
       "      <th>0</th>\n",
       "      <td>109434968607034492648</td>\n",
       "      <td>Tony Pinto</td>\n",
       "      <td>2013-11-18 14:03:54.547</td>\n",
       "      <td>5</td>\n",
       "      <td>I came by yesterday to pick up some pizza on t...</td>\n",
       "      <td>Raffaello Kosher Pizza</td>\n",
       "      <td>New_York</td>\n",
       "      <td>New York</td>\n",
       "      <td>0x89c258ffaeaba947:0x8355860772a595a9</td>\n",
       "    </tr>\n",
       "    <tr>\n",
       "      <th>1</th>\n",
       "      <td>108584493264435262292</td>\n",
       "      <td>Benji</td>\n",
       "      <td>2015-02-17 22:27:28.498</td>\n",
       "      <td>1</td>\n",
       "      <td>Food was burnt and not good. You would think s...</td>\n",
       "      <td>Raffaello Kosher Pizza</td>\n",
       "      <td>New_York</td>\n",
       "      <td>New York</td>\n",
       "      <td>0x89c258ffaeaba947:0x8355860772a595a9</td>\n",
       "    </tr>\n",
       "    <tr>\n",
       "      <th>2</th>\n",
       "      <td>108987049306954366378</td>\n",
       "      <td>Michael Rahmani</td>\n",
       "      <td>2014-12-30 22:43:47.508</td>\n",
       "      <td>1</td>\n",
       "      <td>This place is horrible. I ordered two ziti piz...</td>\n",
       "      <td>Raffaello Kosher Pizza</td>\n",
       "      <td>New_York</td>\n",
       "      <td>New York</td>\n",
       "      <td>0x89c258ffaeaba947:0x8355860772a595a9</td>\n",
       "    </tr>\n",
       "    <tr>\n",
       "      <th>3</th>\n",
       "      <td>107767094884093007779</td>\n",
       "      <td>eliau piha</td>\n",
       "      <td>2014-07-06 23:26:13.836</td>\n",
       "      <td>5</td>\n",
       "      <td>Love their pizza and their service!\\nREALLY IT...</td>\n",
       "      <td>Raffaello Kosher Pizza</td>\n",
       "      <td>New_York</td>\n",
       "      <td>New York</td>\n",
       "      <td>0x89c258ffaeaba947:0x8355860772a595a9</td>\n",
       "    </tr>\n",
       "    <tr>\n",
       "      <th>4</th>\n",
       "      <td>107373453968933712290</td>\n",
       "      <td>Matt Schaffnit</td>\n",
       "      <td>2016-10-25 08:30:54.400</td>\n",
       "      <td>5</td>\n",
       "      <td>Used to get lunch here nearly every day. You w...</td>\n",
       "      <td>Raffaello Kosher Pizza</td>\n",
       "      <td>New_York</td>\n",
       "      <td>New York</td>\n",
       "      <td>0x89c258ffaeaba947:0x8355860772a595a9</td>\n",
       "    </tr>\n",
       "  </tbody>\n",
       "</table>\n",
       "</div>"
      ],
      "text/plain": [
       "                 user_id        user_name                    time  rating  \\\n",
       "0  109434968607034492648       Tony Pinto 2013-11-18 14:03:54.547       5   \n",
       "1  108584493264435262292            Benji 2015-02-17 22:27:28.498       1   \n",
       "2  108987049306954366378  Michael Rahmani 2014-12-30 22:43:47.508       1   \n",
       "3  107767094884093007779       eliau piha 2014-07-06 23:26:13.836       5   \n",
       "4  107373453968933712290   Matt Schaffnit 2016-10-25 08:30:54.400       5   \n",
       "\n",
       "                                                text         restaurant_name  \\\n",
       "0  I came by yesterday to pick up some pizza on t...  Raffaello Kosher Pizza   \n",
       "1  Food was burnt and not good. You would think s...  Raffaello Kosher Pizza   \n",
       "2  This place is horrible. I ordered two ziti piz...  Raffaello Kosher Pizza   \n",
       "3  Love their pizza and their service!\\nREALLY IT...  Raffaello Kosher Pizza   \n",
       "4  Used to get lunch here nearly every day. You w...  Raffaello Kosher Pizza   \n",
       "\n",
       "      state      city                                gmap_id  \n",
       "0  New_York  New York  0x89c258ffaeaba947:0x8355860772a595a9  \n",
       "1  New_York  New York  0x89c258ffaeaba947:0x8355860772a595a9  \n",
       "2  New_York  New York  0x89c258ffaeaba947:0x8355860772a595a9  \n",
       "3  New_York  New York  0x89c258ffaeaba947:0x8355860772a595a9  \n",
       "4  New_York  New York  0x89c258ffaeaba947:0x8355860772a595a9  "
      ]
     },
     "execution_count": 52,
     "metadata": {},
     "output_type": "execute_result"
    }
   ],
   "source": [
    "# Creamos una copia para trabajar con seguridad:\n",
    "df_copy = df_reviews_filtradas.copy()\n",
    "\n",
    "df_copy[\"time\"] = pd.to_datetime(df_reviews_filtradas[\"time\"], unit=\"ms\")\n",
    "df_copy.head()"
   ]
  },
  {
   "cell_type": "markdown",
   "metadata": {},
   "source": [
    "Ahora regularizamos los datos de la columna 'time' y ordenamos:"
   ]
  },
  {
   "cell_type": "code",
   "execution_count": 53,
   "metadata": {},
   "outputs": [
    {
     "data": {
      "text/html": [
       "<div>\n",
       "<style scoped>\n",
       "    .dataframe tbody tr th:only-of-type {\n",
       "        vertical-align: middle;\n",
       "    }\n",
       "\n",
       "    .dataframe tbody tr th {\n",
       "        vertical-align: top;\n",
       "    }\n",
       "\n",
       "    .dataframe thead th {\n",
       "        text-align: right;\n",
       "    }\n",
       "</style>\n",
       "<table border=\"1\" class=\"dataframe\">\n",
       "  <thead>\n",
       "    <tr style=\"text-align: right;\">\n",
       "      <th></th>\n",
       "      <th>user_id</th>\n",
       "      <th>user_name</th>\n",
       "      <th>time</th>\n",
       "      <th>year</th>\n",
       "      <th>month</th>\n",
       "      <th>day</th>\n",
       "      <th>hour</th>\n",
       "      <th>rating</th>\n",
       "      <th>text</th>\n",
       "      <th>restaurant_name</th>\n",
       "      <th>state</th>\n",
       "      <th>city</th>\n",
       "      <th>gmap_id</th>\n",
       "    </tr>\n",
       "  </thead>\n",
       "  <tbody>\n",
       "    <tr>\n",
       "      <th>0</th>\n",
       "      <td>109434968607034492648</td>\n",
       "      <td>Tony Pinto</td>\n",
       "      <td>2013-11-18 14:03:54.547</td>\n",
       "      <td>2013</td>\n",
       "      <td>11</td>\n",
       "      <td>18</td>\n",
       "      <td>14:03:54.547</td>\n",
       "      <td>5</td>\n",
       "      <td>I came by yesterday to pick up some pizza on t...</td>\n",
       "      <td>Raffaello Kosher Pizza</td>\n",
       "      <td>New_York</td>\n",
       "      <td>New York</td>\n",
       "      <td>0x89c258ffaeaba947:0x8355860772a595a9</td>\n",
       "    </tr>\n",
       "    <tr>\n",
       "      <th>1</th>\n",
       "      <td>108584493264435262292</td>\n",
       "      <td>Benji</td>\n",
       "      <td>2015-02-17 22:27:28.498</td>\n",
       "      <td>2015</td>\n",
       "      <td>2</td>\n",
       "      <td>17</td>\n",
       "      <td>22:27:28.498</td>\n",
       "      <td>1</td>\n",
       "      <td>Food was burnt and not good. You would think s...</td>\n",
       "      <td>Raffaello Kosher Pizza</td>\n",
       "      <td>New_York</td>\n",
       "      <td>New York</td>\n",
       "      <td>0x89c258ffaeaba947:0x8355860772a595a9</td>\n",
       "    </tr>\n",
       "    <tr>\n",
       "      <th>2</th>\n",
       "      <td>108987049306954366378</td>\n",
       "      <td>Michael Rahmani</td>\n",
       "      <td>2014-12-30 22:43:47.508</td>\n",
       "      <td>2014</td>\n",
       "      <td>12</td>\n",
       "      <td>30</td>\n",
       "      <td>22:43:47.508</td>\n",
       "      <td>1</td>\n",
       "      <td>This place is horrible. I ordered two ziti piz...</td>\n",
       "      <td>Raffaello Kosher Pizza</td>\n",
       "      <td>New_York</td>\n",
       "      <td>New York</td>\n",
       "      <td>0x89c258ffaeaba947:0x8355860772a595a9</td>\n",
       "    </tr>\n",
       "  </tbody>\n",
       "</table>\n",
       "</div>"
      ],
      "text/plain": [
       "                 user_id        user_name                    time  year  \\\n",
       "0  109434968607034492648       Tony Pinto 2013-11-18 14:03:54.547  2013   \n",
       "1  108584493264435262292            Benji 2015-02-17 22:27:28.498  2015   \n",
       "2  108987049306954366378  Michael Rahmani 2014-12-30 22:43:47.508  2014   \n",
       "\n",
       "   month  day          hour  rating  \\\n",
       "0     11   18  14:03:54.547       5   \n",
       "1      2   17  22:27:28.498       1   \n",
       "2     12   30  22:43:47.508       1   \n",
       "\n",
       "                                                text         restaurant_name  \\\n",
       "0  I came by yesterday to pick up some pizza on t...  Raffaello Kosher Pizza   \n",
       "1  Food was burnt and not good. You would think s...  Raffaello Kosher Pizza   \n",
       "2  This place is horrible. I ordered two ziti piz...  Raffaello Kosher Pizza   \n",
       "\n",
       "      state      city                                gmap_id  \n",
       "0  New_York  New York  0x89c258ffaeaba947:0x8355860772a595a9  \n",
       "1  New_York  New York  0x89c258ffaeaba947:0x8355860772a595a9  \n",
       "2  New_York  New York  0x89c258ffaeaba947:0x8355860772a595a9  "
      ]
     },
     "execution_count": 53,
     "metadata": {},
     "output_type": "execute_result"
    }
   ],
   "source": [
    "df_copy['year'] = df_copy['time'].dt.year\n",
    "df_copy['month'] = df_copy['time'].dt.month\n",
    "df_copy['day'] = df_copy['time'].dt.day\n",
    "df_copy['hour'] = df_copy['time'].dt.strftime('%H:%M:%S.%f').str.rstrip('0')\n",
    "\n",
    "orden_dos = [\"user_id\",\t\"user_name\", \"time\", \"year\", \"month\", \"day\", \"hour\", \"rating\", \"text\", \"restaurant_name\", \"state\", \"city\", \"gmap_id\"]\n",
    "df_copy = df_copy[orden_dos]\n",
    "df_copy.head(3)"
   ]
  },
  {
   "cell_type": "markdown",
   "metadata": {},
   "source": [
    "Eliminamos la columna 'time':"
   ]
  },
  {
   "cell_type": "code",
   "execution_count": 54,
   "metadata": {},
   "outputs": [
    {
     "name": "stdout",
     "output_type": "stream",
     "text": [
      "<class 'pandas.core.frame.DataFrame'>\n",
      "RangeIndex: 1776939 entries, 0 to 1776938\n",
      "Data columns (total 12 columns):\n",
      " #   Column           Dtype \n",
      "---  ------           ----- \n",
      " 0   user_id          object\n",
      " 1   user_name        object\n",
      " 2   year             int32 \n",
      " 3   month            int32 \n",
      " 4   day              int32 \n",
      " 5   hour             object\n",
      " 6   rating           int64 \n",
      " 7   text             object\n",
      " 8   restaurant_name  object\n",
      " 9   state            object\n",
      " 10  city             object\n",
      " 11  gmap_id          object\n",
      "dtypes: int32(3), int64(1), object(8)\n",
      "memory usage: 142.3+ MB\n"
     ]
    }
   ],
   "source": [
    "df_copy.drop(\"time\", axis=1, inplace=True)\n",
    "\n",
    "df_copy.info()"
   ]
  },
  {
   "cell_type": "markdown",
   "metadata": {},
   "source": [
    "**Verificación de Datos Duplicados:**"
   ]
  },
  {
   "cell_type": "code",
   "execution_count": 55,
   "metadata": {},
   "outputs": [
    {
     "name": "stdout",
     "output_type": "stream",
     "text": [
      "Cantidad de filas duplicadas: 71408\n"
     ]
    }
   ],
   "source": [
    "# Contar la cantidad de filas duplicadas\n",
    "cantidad_duplicados = df_copy.duplicated().sum()\n",
    "print(\"Cantidad de filas duplicadas:\", cantidad_duplicados)"
   ]
  },
  {
   "cell_type": "markdown",
   "metadata": {},
   "source": [
    "Observamos duplicados:"
   ]
  },
  {
   "cell_type": "code",
   "execution_count": 56,
   "metadata": {},
   "outputs": [
    {
     "data": {
      "text/html": [
       "<div>\n",
       "<style scoped>\n",
       "    .dataframe tbody tr th:only-of-type {\n",
       "        vertical-align: middle;\n",
       "    }\n",
       "\n",
       "    .dataframe tbody tr th {\n",
       "        vertical-align: top;\n",
       "    }\n",
       "\n",
       "    .dataframe thead th {\n",
       "        text-align: right;\n",
       "    }\n",
       "</style>\n",
       "<table border=\"1\" class=\"dataframe\">\n",
       "  <thead>\n",
       "    <tr style=\"text-align: right;\">\n",
       "      <th></th>\n",
       "      <th>user_id</th>\n",
       "      <th>user_name</th>\n",
       "      <th>year</th>\n",
       "      <th>month</th>\n",
       "      <th>day</th>\n",
       "      <th>hour</th>\n",
       "      <th>rating</th>\n",
       "      <th>text</th>\n",
       "      <th>restaurant_name</th>\n",
       "      <th>state</th>\n",
       "      <th>city</th>\n",
       "      <th>gmap_id</th>\n",
       "    </tr>\n",
       "  </thead>\n",
       "  <tbody>\n",
       "    <tr>\n",
       "      <th>328</th>\n",
       "      <td>103349920500088982390</td>\n",
       "      <td>hamdy mustafa</td>\n",
       "      <td>2021</td>\n",
       "      <td>5</td>\n",
       "      <td>15</td>\n",
       "      <td>13:23:53.554</td>\n",
       "      <td>5</td>\n",
       "      <td>The pastrami was really really good. Service w...</td>\n",
       "      <td>The Pastrami Shoppe</td>\n",
       "      <td>New_York</td>\n",
       "      <td>Staten Island</td>\n",
       "      <td>0x89c24b375e7555c5:0xfc278236316bdf0b</td>\n",
       "    </tr>\n",
       "    <tr>\n",
       "      <th>333</th>\n",
       "      <td>100316639659616282316</td>\n",
       "      <td>David Lambert</td>\n",
       "      <td>2021</td>\n",
       "      <td>6</td>\n",
       "      <td>19</td>\n",
       "      <td>22:30:44.268</td>\n",
       "      <td>1</td>\n",
       "      <td>They are way overpriced for the size of the sa...</td>\n",
       "      <td>The Pastrami Shoppe</td>\n",
       "      <td>New_York</td>\n",
       "      <td>Staten Island</td>\n",
       "      <td>0x89c24b375e7555c5:0xfc278236316bdf0b</td>\n",
       "    </tr>\n",
       "    <tr>\n",
       "      <th>354</th>\n",
       "      <td>109004986980114616349</td>\n",
       "      <td>Merri Silverstein</td>\n",
       "      <td>2007</td>\n",
       "      <td>8</td>\n",
       "      <td>1</td>\n",
       "      <td>00:00:00.</td>\n",
       "      <td>4</td>\n",
       "      <td>see and be seen!! summertime fun, maybe after ...</td>\n",
       "      <td>Baraonda</td>\n",
       "      <td>New_York</td>\n",
       "      <td>New York</td>\n",
       "      <td>0x89c258c07bb81027:0xbe685167f2b5bc33</td>\n",
       "    </tr>\n",
       "    <tr>\n",
       "      <th>448</th>\n",
       "      <td>110076291766488179945</td>\n",
       "      <td>k brenen</td>\n",
       "      <td>2018</td>\n",
       "      <td>7</td>\n",
       "      <td>27</td>\n",
       "      <td>17:19:34.581</td>\n",
       "      <td>4</td>\n",
       "      <td>So impressed for food court food. First off th...</td>\n",
       "      <td>Mumbles Chicken and Waffles</td>\n",
       "      <td>New_York</td>\n",
       "      <td>Cheektowaga</td>\n",
       "      <td>0x89d30df8ef5a1d7d:0x584a55b87c0887a3</td>\n",
       "    </tr>\n",
       "    <tr>\n",
       "      <th>465</th>\n",
       "      <td>109434968607034492648</td>\n",
       "      <td>Tony Pinto</td>\n",
       "      <td>2013</td>\n",
       "      <td>11</td>\n",
       "      <td>18</td>\n",
       "      <td>14:03:54.547</td>\n",
       "      <td>5</td>\n",
       "      <td>I came by yesterday to pick up some pizza on t...</td>\n",
       "      <td>Raffaello Kosher Pizza</td>\n",
       "      <td>New_York</td>\n",
       "      <td>New York</td>\n",
       "      <td>0x89c258ffaeaba947:0x8355860772a595a9</td>\n",
       "    </tr>\n",
       "  </tbody>\n",
       "</table>\n",
       "</div>"
      ],
      "text/plain": [
       "                   user_id          user_name  year  month  day          hour  \\\n",
       "328  103349920500088982390      hamdy mustafa  2021      5   15  13:23:53.554   \n",
       "333  100316639659616282316      David Lambert  2021      6   19  22:30:44.268   \n",
       "354  109004986980114616349  Merri Silverstein  2007      8    1     00:00:00.   \n",
       "448  110076291766488179945           k brenen  2018      7   27  17:19:34.581   \n",
       "465  109434968607034492648         Tony Pinto  2013     11   18  14:03:54.547   \n",
       "\n",
       "     rating                                               text  \\\n",
       "328       5  The pastrami was really really good. Service w...   \n",
       "333       1  They are way overpriced for the size of the sa...   \n",
       "354       4  see and be seen!! summertime fun, maybe after ...   \n",
       "448       4  So impressed for food court food. First off th...   \n",
       "465       5  I came by yesterday to pick up some pizza on t...   \n",
       "\n",
       "                 restaurant_name     state           city  \\\n",
       "328          The Pastrami Shoppe  New_York  Staten Island   \n",
       "333          The Pastrami Shoppe  New_York  Staten Island   \n",
       "354                     Baraonda  New_York       New York   \n",
       "448  Mumbles Chicken and Waffles  New_York    Cheektowaga   \n",
       "465       Raffaello Kosher Pizza  New_York       New York   \n",
       "\n",
       "                                   gmap_id  \n",
       "328  0x89c24b375e7555c5:0xfc278236316bdf0b  \n",
       "333  0x89c24b375e7555c5:0xfc278236316bdf0b  \n",
       "354  0x89c258c07bb81027:0xbe685167f2b5bc33  \n",
       "448  0x89d30df8ef5a1d7d:0x584a55b87c0887a3  \n",
       "465  0x89c258ffaeaba947:0x8355860772a595a9  "
      ]
     },
     "execution_count": 56,
     "metadata": {},
     "output_type": "execute_result"
    }
   ],
   "source": [
    "df_copy[df_copy.duplicated()].head(5)"
   ]
  },
  {
   "cell_type": "code",
   "execution_count": 57,
   "metadata": {},
   "outputs": [
    {
     "data": {
      "text/html": [
       "<div>\n",
       "<style scoped>\n",
       "    .dataframe tbody tr th:only-of-type {\n",
       "        vertical-align: middle;\n",
       "    }\n",
       "\n",
       "    .dataframe tbody tr th {\n",
       "        vertical-align: top;\n",
       "    }\n",
       "\n",
       "    .dataframe thead th {\n",
       "        text-align: right;\n",
       "    }\n",
       "</style>\n",
       "<table border=\"1\" class=\"dataframe\">\n",
       "  <thead>\n",
       "    <tr style=\"text-align: right;\">\n",
       "      <th></th>\n",
       "      <th>user_id</th>\n",
       "      <th>user_name</th>\n",
       "      <th>year</th>\n",
       "      <th>month</th>\n",
       "      <th>day</th>\n",
       "      <th>hour</th>\n",
       "      <th>rating</th>\n",
       "      <th>text</th>\n",
       "      <th>restaurant_name</th>\n",
       "      <th>state</th>\n",
       "      <th>city</th>\n",
       "      <th>gmap_id</th>\n",
       "    </tr>\n",
       "  </thead>\n",
       "  <tbody>\n",
       "    <tr>\n",
       "      <th>1168636</th>\n",
       "      <td>117440349723823658676</td>\n",
       "      <td>Anthony Kim</td>\n",
       "      <td>2019</td>\n",
       "      <td>3</td>\n",
       "      <td>7</td>\n",
       "      <td>05:56:56.355</td>\n",
       "      <td>5</td>\n",
       "      <td>Short ribs are very delicious.</td>\n",
       "      <td>San Soo Dang</td>\n",
       "      <td>California</td>\n",
       "      <td>Los Angeles</td>\n",
       "      <td>0x80c2c778e3b73d33:0xbdc58662a4a97d49</td>\n",
       "    </tr>\n",
       "    <tr>\n",
       "      <th>1169316</th>\n",
       "      <td>117440349723823658676</td>\n",
       "      <td>Anthony Kim</td>\n",
       "      <td>2019</td>\n",
       "      <td>3</td>\n",
       "      <td>7</td>\n",
       "      <td>05:56:56.355</td>\n",
       "      <td>5</td>\n",
       "      <td>Short ribs are very delicious.</td>\n",
       "      <td>San Soo Dang</td>\n",
       "      <td>California</td>\n",
       "      <td>Los Angeles</td>\n",
       "      <td>0x80c2c778e3b73d33:0xbdc58662a4a97d49</td>\n",
       "    </tr>\n",
       "  </tbody>\n",
       "</table>\n",
       "</div>"
      ],
      "text/plain": [
       "                       user_id    user_name  year  month  day          hour  \\\n",
       "1168636  117440349723823658676  Anthony Kim  2019      3    7  05:56:56.355   \n",
       "1169316  117440349723823658676  Anthony Kim  2019      3    7  05:56:56.355   \n",
       "\n",
       "         rating                            text restaurant_name       state  \\\n",
       "1168636       5  Short ribs are very delicious.    San Soo Dang  California   \n",
       "1169316       5  Short ribs are very delicious.    San Soo Dang  California   \n",
       "\n",
       "                city                                gmap_id  \n",
       "1168636  Los Angeles  0x80c2c778e3b73d33:0xbdc58662a4a97d49  \n",
       "1169316  Los Angeles  0x80c2c778e3b73d33:0xbdc58662a4a97d49  "
      ]
     },
     "execution_count": 57,
     "metadata": {},
     "output_type": "execute_result"
    }
   ],
   "source": [
    "# Vemos un caso en específico:\n",
    "df_copy[df_copy[\"user_id\"] == '117440349723823658676']"
   ]
  },
  {
   "cell_type": "code",
   "execution_count": 58,
   "metadata": {},
   "outputs": [
    {
     "name": "stdout",
     "output_type": "stream",
     "text": [
      "Cantidad de filas duplicadas: 0\n"
     ]
    }
   ],
   "source": [
    "# Eliminar las filas duplicadas\n",
    "df_sin_duplicados = df_copy.drop_duplicates()\n",
    "\n",
    "# Contar la cantidad de filas duplicadas nuevamente:\n",
    "cantidad_duplicados = df_sin_duplicados.duplicated().sum()\n",
    "print(\"Cantidad de filas duplicadas:\", cantidad_duplicados)"
   ]
  },
  {
   "cell_type": "markdown",
   "metadata": {},
   "source": [
    "**Recuento y Promedio de Reseñas:**   \n",
    "Los datos se agrupan por user_id y user_name para calcular el número total de reseñas por usuario y su calificación promedio.  \n",
    "Este análisis centrado en el usuario puede revelar patrones en el comportamiento de las reseñas y el compromiso del usuario."
   ]
  },
  {
   "cell_type": "code",
   "execution_count": 59,
   "metadata": {},
   "outputs": [
    {
     "data": {
      "text/html": [
       "<div>\n",
       "<style scoped>\n",
       "    .dataframe tbody tr th:only-of-type {\n",
       "        vertical-align: middle;\n",
       "    }\n",
       "\n",
       "    .dataframe tbody tr th {\n",
       "        vertical-align: top;\n",
       "    }\n",
       "\n",
       "    .dataframe thead th {\n",
       "        text-align: right;\n",
       "    }\n",
       "</style>\n",
       "<table border=\"1\" class=\"dataframe\">\n",
       "  <thead>\n",
       "    <tr style=\"text-align: right;\">\n",
       "      <th></th>\n",
       "      <th>user_id</th>\n",
       "      <th>user_name</th>\n",
       "      <th>review_count</th>\n",
       "      <th>average_rating</th>\n",
       "    </tr>\n",
       "  </thead>\n",
       "  <tbody>\n",
       "    <tr>\n",
       "      <th>291440</th>\n",
       "      <td>104819208193648646391</td>\n",
       "      <td>Gregor J. Rothfuss</td>\n",
       "      <td>102</td>\n",
       "      <td>3.941176</td>\n",
       "    </tr>\n",
       "    <tr>\n",
       "      <th>405829</th>\n",
       "      <td>106654503918907830147</td>\n",
       "      <td>The Corcoran Group</td>\n",
       "      <td>91</td>\n",
       "      <td>4.054945</td>\n",
       "    </tr>\n",
       "    <tr>\n",
       "      <th>918439</th>\n",
       "      <td>114955250538652050870</td>\n",
       "      <td>Javier Kohen</td>\n",
       "      <td>56</td>\n",
       "      <td>3.964286</td>\n",
       "    </tr>\n",
       "    <tr>\n",
       "      <th>926238</th>\n",
       "      <td>115082761597075271038</td>\n",
       "      <td>ej shortell</td>\n",
       "      <td>45</td>\n",
       "      <td>4.111111</td>\n",
       "    </tr>\n",
       "    <tr>\n",
       "      <th>592082</th>\n",
       "      <td>109673791694826464177</td>\n",
       "      <td>Jackie Gordon Singing Chef</td>\n",
       "      <td>44</td>\n",
       "      <td>3.863636</td>\n",
       "    </tr>\n",
       "  </tbody>\n",
       "</table>\n",
       "</div>"
      ],
      "text/plain": [
       "                      user_id                   user_name  review_count  \\\n",
       "291440  104819208193648646391          Gregor J. Rothfuss           102   \n",
       "405829  106654503918907830147          The Corcoran Group            91   \n",
       "918439  114955250538652050870                Javier Kohen            56   \n",
       "926238  115082761597075271038                 ej shortell            45   \n",
       "592082  109673791694826464177  Jackie Gordon Singing Chef            44   \n",
       "\n",
       "        average_rating  \n",
       "291440        3.941176  \n",
       "405829        4.054945  \n",
       "918439        3.964286  \n",
       "926238        4.111111  \n",
       "592082        3.863636  "
      ]
     },
     "execution_count": 59,
     "metadata": {},
     "output_type": "execute_result"
    }
   ],
   "source": [
    "# Contar el número de reseñas por usuario\n",
    "user_review_counts = df_sin_duplicados.groupby(['user_id', 'user_name']).size().reset_index(name='review_count')\n",
    "\n",
    "# Calcular la calificación promedio por usuario\n",
    "user_calif_promedio = df_sin_duplicados.groupby(['user_id', 'user_name'])['rating'].mean().reset_index()\n",
    "user_calif_promedio.rename(columns={'rating': 'average_rating'}, inplace=True)\n",
    "\n",
    "# Combinar los recuentos de reseñas y las calificaciones promedio por usuario en un solo DataFrame\n",
    "df_user_review_counts_ord = pd.merge(user_review_counts, user_calif_promedio, on=['user_id', 'user_name'], how='inner')\n",
    "df_user_review_counts_ord = df_user_review_counts_ord.sort_values(by='review_count', ascending=False)\n",
    "\n",
    "# Mostrar las primeras filas del DataFrame ordenado\n",
    "df_user_review_counts_ord.head()"
   ]
  },
  {
   "cell_type": "markdown",
   "metadata": {},
   "source": [
    "## **Carga de Datos:**  \n",
    "\n",
    "Guardaremos nuestros dataframes en archivos parquet:"
   ]
  },
  {
   "cell_type": "markdown",
   "metadata": {},
   "source": [
    "Datos de las reviews, Dataframe 'df_copy'. Lo usaremos para análisis."
   ]
  },
  {
   "cell_type": "code",
   "execution_count": 60,
   "metadata": {},
   "outputs": [],
   "source": [
    "df_copy.to_parquet(os.path.join(Ruta_data_procesada, \"reviews_google_maps.parquet\"), index=False)"
   ]
  },
  {
   "cell_type": "markdown",
   "metadata": {},
   "source": [
    "Datos de los usuarios, Dataframe 'df_user_review_counts_ord'. Lo usaremos para análisis."
   ]
  },
  {
   "cell_type": "code",
   "execution_count": 61,
   "metadata": {},
   "outputs": [],
   "source": [
    "df_user_review_counts_ord.to_parquet(os.path.join(Ruta_data_procesada, \"users_google_maps.parquet\"), index=False)"
   ]
  }
 ],
 "metadata": {
  "kernelspec": {
   "display_name": "venv",
   "language": "python",
   "name": "python3"
  },
  "language_info": {
   "codemirror_mode": {
    "name": "ipython",
    "version": 3
   },
   "file_extension": ".py",
   "mimetype": "text/x-python",
   "name": "python",
   "nbconvert_exporter": "python",
   "pygments_lexer": "ipython3",
   "version": "3.11.9"
  }
 },
 "nbformat": 4,
 "nbformat_minor": 2
}
