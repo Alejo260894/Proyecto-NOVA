{
 "cells": [
  {
   "cell_type": "code",
   "execution_count": 1,
   "metadata": {},
   "outputs": [],
   "source": [
    "import pandas as pd \n",
    "import matplotlib.pyplot as plt"
   ]
  },
  {
   "cell_type": "markdown",
   "metadata": {},
   "source": [
    "**Archivos de google.**"
   ]
  },
  {
   "cell_type": "code",
   "execution_count": 2,
   "metadata": {},
   "outputs": [],
   "source": [
    "reviews = pd.read_parquet(\"../../Data/data_procesada/reviews_google_maps.parquet\")\n",
    "user = pd.read_parquet(\"../../Data/data_procesada/users_google_maps.parquet\")\n",
    "restaurant = pd.read_parquet(\"../../Data/data_procesada/restaurantes.parquet\")\n",
    "categorias_dummies = pd.read_parquet(\"../../Data/data_procesada/dummies_restaurantes.parquet\")"
   ]
  },
  {
   "cell_type": "markdown",
   "metadata": {},
   "source": [
    "*Realizamos una visualización de los dataframes que tenemos para verificar que tipo de datos tenemos y la cantidad de los mismos.*"
   ]
  },
  {
   "cell_type": "code",
   "execution_count": 3,
   "metadata": {},
   "outputs": [
    {
     "data": {
      "text/html": [
       "<div>\n",
       "<style scoped>\n",
       "    .dataframe tbody tr th:only-of-type {\n",
       "        vertical-align: middle;\n",
       "    }\n",
       "\n",
       "    .dataframe tbody tr th {\n",
       "        vertical-align: top;\n",
       "    }\n",
       "\n",
       "    .dataframe thead th {\n",
       "        text-align: right;\n",
       "    }\n",
       "</style>\n",
       "<table border=\"1\" class=\"dataframe\">\n",
       "  <thead>\n",
       "    <tr style=\"text-align: right;\">\n",
       "      <th></th>\n",
       "      <th>name</th>\n",
       "      <th>address</th>\n",
       "      <th>state</th>\n",
       "      <th>city</th>\n",
       "      <th>postal_code</th>\n",
       "      <th>latitude</th>\n",
       "      <th>longitude</th>\n",
       "      <th>avg_rating</th>\n",
       "      <th>num_of_reviews</th>\n",
       "      <th>price_numeric</th>\n",
       "      <th>gmap_id</th>\n",
       "      <th>category</th>\n",
       "    </tr>\n",
       "  </thead>\n",
       "  <tbody>\n",
       "    <tr>\n",
       "      <th>0</th>\n",
       "      <td>San Soo Dang</td>\n",
       "      <td>San Soo Dang, 761 S Vermont Ave, Los Angeles, ...</td>\n",
       "      <td>California</td>\n",
       "      <td>Los Angeles</td>\n",
       "      <td>90005</td>\n",
       "      <td>34.058092</td>\n",
       "      <td>-118.292130</td>\n",
       "      <td>4.4</td>\n",
       "      <td>18</td>\n",
       "      <td>0</td>\n",
       "      <td>0x80c2c778e3b73d33:0xbdc58662a4a97d49</td>\n",
       "      <td>Korean restaurant</td>\n",
       "    </tr>\n",
       "    <tr>\n",
       "      <th>1</th>\n",
       "      <td>Vons Chicken</td>\n",
       "      <td>Vons Chicken, 12740 La Mirada Blvd, La Mirada,...</td>\n",
       "      <td>California</td>\n",
       "      <td>La Mirada</td>\n",
       "      <td>90638</td>\n",
       "      <td>33.916402</td>\n",
       "      <td>-118.010855</td>\n",
       "      <td>4.5</td>\n",
       "      <td>18</td>\n",
       "      <td>0</td>\n",
       "      <td>0x80dd2b4c8555edb7:0xfc33d65c4bdbef42</td>\n",
       "      <td>Restaurant</td>\n",
       "    </tr>\n",
       "  </tbody>\n",
       "</table>\n",
       "</div>"
      ],
      "text/plain": [
       "           name                                            address  \\\n",
       "0  San Soo Dang  San Soo Dang, 761 S Vermont Ave, Los Angeles, ...   \n",
       "1  Vons Chicken  Vons Chicken, 12740 La Mirada Blvd, La Mirada,...   \n",
       "\n",
       "        state         city  postal_code   latitude   longitude  avg_rating  \\\n",
       "0  California  Los Angeles        90005  34.058092 -118.292130         4.4   \n",
       "1  California    La Mirada        90638  33.916402 -118.010855         4.5   \n",
       "\n",
       "   num_of_reviews  price_numeric                                gmap_id  \\\n",
       "0              18              0  0x80c2c778e3b73d33:0xbdc58662a4a97d49   \n",
       "1              18              0  0x80dd2b4c8555edb7:0xfc33d65c4bdbef42   \n",
       "\n",
       "            category  \n",
       "0  Korean restaurant  \n",
       "1         Restaurant  "
      ]
     },
     "execution_count": 3,
     "metadata": {},
     "output_type": "execute_result"
    }
   ],
   "source": [
    "restaurant.head(2)"
   ]
  },
  {
   "cell_type": "code",
   "execution_count": 4,
   "metadata": {},
   "outputs": [
    {
     "name": "stdout",
     "output_type": "stream",
     "text": [
      "<class 'pandas.core.frame.DataFrame'>\n",
      "Index: 19793 entries, 0 to 19947\n",
      "Data columns (total 12 columns):\n",
      " #   Column          Non-Null Count  Dtype  \n",
      "---  ------          --------------  -----  \n",
      " 0   name            19793 non-null  object \n",
      " 1   address         19793 non-null  object \n",
      " 2   state           19793 non-null  object \n",
      " 3   city            19793 non-null  object \n",
      " 4   postal_code     19793 non-null  int32  \n",
      " 5   latitude        19793 non-null  float64\n",
      " 6   longitude       19793 non-null  float64\n",
      " 7   avg_rating      19793 non-null  float64\n",
      " 8   num_of_reviews  19793 non-null  int64  \n",
      " 9   price_numeric   19793 non-null  int32  \n",
      " 10  gmap_id         19793 non-null  object \n",
      " 11  category        19793 non-null  object \n",
      "dtypes: float64(3), int32(2), int64(1), object(6)\n",
      "memory usage: 1.8+ MB\n"
     ]
    }
   ],
   "source": [
    "restaurant.info()"
   ]
  },
  {
   "cell_type": "code",
   "execution_count": 5,
   "metadata": {},
   "outputs": [
    {
     "data": {
      "text/html": [
       "<div>\n",
       "<style scoped>\n",
       "    .dataframe tbody tr th:only-of-type {\n",
       "        vertical-align: middle;\n",
       "    }\n",
       "\n",
       "    .dataframe tbody tr th {\n",
       "        vertical-align: top;\n",
       "    }\n",
       "\n",
       "    .dataframe thead th {\n",
       "        text-align: right;\n",
       "    }\n",
       "</style>\n",
       "<table border=\"1\" class=\"dataframe\">\n",
       "  <thead>\n",
       "    <tr style=\"text-align: right;\">\n",
       "      <th></th>\n",
       "      <th>user_id</th>\n",
       "      <th>user_name</th>\n",
       "      <th>year</th>\n",
       "      <th>month</th>\n",
       "      <th>day</th>\n",
       "      <th>hour</th>\n",
       "      <th>rating</th>\n",
       "      <th>text</th>\n",
       "      <th>restaurant_name</th>\n",
       "      <th>state</th>\n",
       "      <th>city</th>\n",
       "      <th>gmap_id</th>\n",
       "    </tr>\n",
       "  </thead>\n",
       "  <tbody>\n",
       "    <tr>\n",
       "      <th>0</th>\n",
       "      <td>108991152262655788985</td>\n",
       "      <td>Song Ro</td>\n",
       "      <td>2021</td>\n",
       "      <td>1</td>\n",
       "      <td>6</td>\n",
       "      <td>05:12:07.056</td>\n",
       "      <td>5</td>\n",
       "      <td>Love there korean rice cake.</td>\n",
       "      <td>San Soo Dang</td>\n",
       "      <td>California</td>\n",
       "      <td>Los Angeles</td>\n",
       "      <td>0x80c2c778e3b73d33:0xbdc58662a4a97d49</td>\n",
       "    </tr>\n",
       "    <tr>\n",
       "      <th>1</th>\n",
       "      <td>111290322219796215751</td>\n",
       "      <td>Rafa Robles</td>\n",
       "      <td>2021</td>\n",
       "      <td>2</td>\n",
       "      <td>9</td>\n",
       "      <td>05:47:28.663</td>\n",
       "      <td>5</td>\n",
       "      <td>Good very good</td>\n",
       "      <td>San Soo Dang</td>\n",
       "      <td>California</td>\n",
       "      <td>Los Angeles</td>\n",
       "      <td>0x80c2c778e3b73d33:0xbdc58662a4a97d49</td>\n",
       "    </tr>\n",
       "  </tbody>\n",
       "</table>\n",
       "</div>"
      ],
      "text/plain": [
       "                 user_id    user_name  year  month  day          hour  rating  \\\n",
       "0  108991152262655788985      Song Ro  2021      1    6  05:12:07.056       5   \n",
       "1  111290322219796215751  Rafa Robles  2021      2    9  05:47:28.663       5   \n",
       "\n",
       "                           text restaurant_name       state         city  \\\n",
       "0  Love there korean rice cake.    San Soo Dang  California  Los Angeles   \n",
       "1                Good very good    San Soo Dang  California  Los Angeles   \n",
       "\n",
       "                                 gmap_id  \n",
       "0  0x80c2c778e3b73d33:0xbdc58662a4a97d49  \n",
       "1  0x80c2c778e3b73d33:0xbdc58662a4a97d49  "
      ]
     },
     "execution_count": 5,
     "metadata": {},
     "output_type": "execute_result"
    }
   ],
   "source": [
    "reviews.head(2)"
   ]
  },
  {
   "cell_type": "code",
   "execution_count": 6,
   "metadata": {},
   "outputs": [
    {
     "name": "stdout",
     "output_type": "stream",
     "text": [
      "<class 'pandas.core.frame.DataFrame'>\n",
      "RangeIndex: 1596014 entries, 0 to 1596013\n",
      "Data columns (total 12 columns):\n",
      " #   Column           Non-Null Count    Dtype \n",
      "---  ------           --------------    ----- \n",
      " 0   user_id          1596014 non-null  object\n",
      " 1   user_name        1596014 non-null  object\n",
      " 2   year             1596014 non-null  int32 \n",
      " 3   month            1596014 non-null  int32 \n",
      " 4   day              1596014 non-null  int32 \n",
      " 5   hour             1596014 non-null  object\n",
      " 6   rating           1596014 non-null  int64 \n",
      " 7   text             1596014 non-null  object\n",
      " 8   restaurant_name  1596014 non-null  object\n",
      " 9   state            1596014 non-null  object\n",
      " 10  city             1596014 non-null  object\n",
      " 11  gmap_id          1596014 non-null  object\n",
      "dtypes: int32(3), int64(1), object(8)\n",
      "memory usage: 127.9+ MB\n"
     ]
    }
   ],
   "source": [
    "reviews.info()"
   ]
  },
  {
   "cell_type": "code",
   "execution_count": 7,
   "metadata": {},
   "outputs": [
    {
     "data": {
      "text/html": [
       "<div>\n",
       "<style scoped>\n",
       "    .dataframe tbody tr th:only-of-type {\n",
       "        vertical-align: middle;\n",
       "    }\n",
       "\n",
       "    .dataframe tbody tr th {\n",
       "        vertical-align: top;\n",
       "    }\n",
       "\n",
       "    .dataframe thead th {\n",
       "        text-align: right;\n",
       "    }\n",
       "</style>\n",
       "<table border=\"1\" class=\"dataframe\">\n",
       "  <thead>\n",
       "    <tr style=\"text-align: right;\">\n",
       "      <th></th>\n",
       "      <th>user_id</th>\n",
       "      <th>user_name</th>\n",
       "      <th>review_count</th>\n",
       "      <th>average_rating</th>\n",
       "    </tr>\n",
       "  </thead>\n",
       "  <tbody>\n",
       "    <tr>\n",
       "      <th>0</th>\n",
       "      <td>104819208193648646391</td>\n",
       "      <td>Gregor J. Rothfuss</td>\n",
       "      <td>101</td>\n",
       "      <td>3.950495</td>\n",
       "    </tr>\n",
       "    <tr>\n",
       "      <th>1</th>\n",
       "      <td>106654503918907830147</td>\n",
       "      <td>The Corcoran Group</td>\n",
       "      <td>91</td>\n",
       "      <td>4.054945</td>\n",
       "    </tr>\n",
       "  </tbody>\n",
       "</table>\n",
       "</div>"
      ],
      "text/plain": [
       "                 user_id           user_name  review_count  average_rating\n",
       "0  104819208193648646391  Gregor J. Rothfuss           101        3.950495\n",
       "1  106654503918907830147  The Corcoran Group            91        4.054945"
      ]
     },
     "execution_count": 7,
     "metadata": {},
     "output_type": "execute_result"
    }
   ],
   "source": [
    "user.head(2)"
   ]
  },
  {
   "cell_type": "code",
   "execution_count": 8,
   "metadata": {},
   "outputs": [
    {
     "name": "stdout",
     "output_type": "stream",
     "text": [
      "<class 'pandas.core.frame.DataFrame'>\n",
      "RangeIndex: 1015149 entries, 0 to 1015148\n",
      "Data columns (total 4 columns):\n",
      " #   Column          Non-Null Count    Dtype  \n",
      "---  ------          --------------    -----  \n",
      " 0   user_id         1015149 non-null  object \n",
      " 1   user_name       1015149 non-null  object \n",
      " 2   review_count    1015149 non-null  int64  \n",
      " 3   average_rating  1015149 non-null  float64\n",
      "dtypes: float64(1), int64(1), object(2)\n",
      "memory usage: 31.0+ MB\n"
     ]
    }
   ],
   "source": [
    "user.info()"
   ]
  },
  {
   "cell_type": "markdown",
   "metadata": {},
   "source": [
    "**Archivos YELP**"
   ]
  },
  {
   "cell_type": "code",
   "execution_count": 9,
   "metadata": {},
   "outputs": [],
   "source": [
    "business = pd.read_parquet (\"../../Data/data_procesada/Dataset_Business.parquet\")\n",
    "checkin = pd.read_parquet (\"../../Data/data_procesada/Dataset_Checkin.parquet\")\n",
    "reviews_yelp = pd.read_parquet (\"../../Data/data_procesada/Dataset_Review.parquet\")\n",
    "tip = pd.read_parquet (\"../../Data/data_procesada/Dataset_Tip.parquet\")\n",
    "user_yelp = pd.read_parquet (\"../../Data/data_procesada/Dataset_User_Elite.parquet\")"
   ]
  },
  {
   "cell_type": "markdown",
   "metadata": {},
   "source": [
    "*Realizamos una visualización de los dataframes que tenemos para verificar que tipo de datos tenemos y la cantidad de los mismos.*"
   ]
  },
  {
   "cell_type": "code",
   "execution_count": 10,
   "metadata": {},
   "outputs": [
    {
     "data": {
      "text/html": [
       "<div>\n",
       "<style scoped>\n",
       "    .dataframe tbody tr th:only-of-type {\n",
       "        vertical-align: middle;\n",
       "    }\n",
       "\n",
       "    .dataframe tbody tr th {\n",
       "        vertical-align: top;\n",
       "    }\n",
       "\n",
       "    .dataframe thead th {\n",
       "        text-align: right;\n",
       "    }\n",
       "</style>\n",
       "<table border=\"1\" class=\"dataframe\">\n",
       "  <thead>\n",
       "    <tr style=\"text-align: right;\">\n",
       "      <th></th>\n",
       "      <th>id_business</th>\n",
       "      <th>name</th>\n",
       "      <th>address</th>\n",
       "      <th>city</th>\n",
       "      <th>state</th>\n",
       "      <th>postal_code</th>\n",
       "      <th>latitude</th>\n",
       "      <th>longitude</th>\n",
       "      <th>stars</th>\n",
       "      <th>review_count</th>\n",
       "      <th>is_open</th>\n",
       "      <th>attributes</th>\n",
       "      <th>categories</th>\n",
       "      <th>hours</th>\n",
       "    </tr>\n",
       "  </thead>\n",
       "  <tbody>\n",
       "    <tr>\n",
       "      <th>0</th>\n",
       "      <td>0</td>\n",
       "      <td>Abby Rappoport, LAC, CMQ</td>\n",
       "      <td>1616 Chapala St, Ste 2</td>\n",
       "      <td>Santa Barbara</td>\n",
       "      <td>California</td>\n",
       "      <td>93101.0</td>\n",
       "      <td>34.426679</td>\n",
       "      <td>-119.711197</td>\n",
       "      <td>5.0</td>\n",
       "      <td>7</td>\n",
       "      <td>0</td>\n",
       "      <td>{'ByAppointmentOnly': 'True'}</td>\n",
       "      <td>Doctors, Traditional Chinese Medicine, Naturop...</td>\n",
       "      <td></td>\n",
       "    </tr>\n",
       "    <tr>\n",
       "      <th>1</th>\n",
       "      <td>3</td>\n",
       "      <td>St Honore Pastries</td>\n",
       "      <td>935 Race St</td>\n",
       "      <td>Philadelphia</td>\n",
       "      <td>Pennsylvania</td>\n",
       "      <td>19107.0</td>\n",
       "      <td>39.955505</td>\n",
       "      <td>-75.155564</td>\n",
       "      <td>4.0</td>\n",
       "      <td>80</td>\n",
       "      <td>1</td>\n",
       "      <td>{'RestaurantsDelivery': 'False', 'OutdoorSeati...</td>\n",
       "      <td>Restaurants, Food, Bubble Tea, Coffee &amp; Tea, B...</td>\n",
       "      <td>{'Monday': '7:0-20:0', 'Tuesday': '7:0-20:0', ...</td>\n",
       "    </tr>\n",
       "  </tbody>\n",
       "</table>\n",
       "</div>"
      ],
      "text/plain": [
       "   id_business                      name                 address  \\\n",
       "0            0  Abby Rappoport, LAC, CMQ  1616 Chapala St, Ste 2   \n",
       "1            3        St Honore Pastries             935 Race St   \n",
       "\n",
       "            city         state  postal_code   latitude   longitude  stars  \\\n",
       "0  Santa Barbara    California      93101.0  34.426679 -119.711197    5.0   \n",
       "1   Philadelphia  Pennsylvania      19107.0  39.955505  -75.155564    4.0   \n",
       "\n",
       "   review_count  is_open                                         attributes  \\\n",
       "0             7        0                      {'ByAppointmentOnly': 'True'}   \n",
       "1            80        1  {'RestaurantsDelivery': 'False', 'OutdoorSeati...   \n",
       "\n",
       "                                          categories  \\\n",
       "0  Doctors, Traditional Chinese Medicine, Naturop...   \n",
       "1  Restaurants, Food, Bubble Tea, Coffee & Tea, B...   \n",
       "\n",
       "                                               hours  \n",
       "0                                                     \n",
       "1  {'Monday': '7:0-20:0', 'Tuesday': '7:0-20:0', ...  "
      ]
     },
     "execution_count": 10,
     "metadata": {},
     "output_type": "execute_result"
    }
   ],
   "source": [
    "business.head(2)"
   ]
  },
  {
   "cell_type": "code",
   "execution_count": 11,
   "metadata": {},
   "outputs": [
    {
     "name": "stdout",
     "output_type": "stream",
     "text": [
      "<class 'pandas.core.frame.DataFrame'>\n",
      "RangeIndex: 124757 entries, 0 to 124756\n",
      "Data columns (total 14 columns):\n",
      " #   Column        Non-Null Count   Dtype  \n",
      "---  ------        --------------   -----  \n",
      " 0   id_business   124757 non-null  int64  \n",
      " 1   name          124757 non-null  object \n",
      " 2   address       124757 non-null  object \n",
      " 3   city          124757 non-null  object \n",
      " 4   state         124757 non-null  object \n",
      " 5   postal_code   124702 non-null  float64\n",
      " 6   latitude      124757 non-null  float64\n",
      " 7   longitude     124757 non-null  float64\n",
      " 8   stars         124757 non-null  float64\n",
      " 9   review_count  124757 non-null  int64  \n",
      " 10  is_open       124757 non-null  int64  \n",
      " 11  attributes    124757 non-null  object \n",
      " 12  categories    124757 non-null  object \n",
      " 13  hours         124757 non-null  object \n",
      "dtypes: float64(4), int64(3), object(7)\n",
      "memory usage: 13.3+ MB\n"
     ]
    }
   ],
   "source": [
    "business.info()"
   ]
  },
  {
   "cell_type": "code",
   "execution_count": 12,
   "metadata": {},
   "outputs": [
    {
     "data": {
      "text/html": [
       "<div>\n",
       "<style scoped>\n",
       "    .dataframe tbody tr th:only-of-type {\n",
       "        vertical-align: middle;\n",
       "    }\n",
       "\n",
       "    .dataframe tbody tr th {\n",
       "        vertical-align: top;\n",
       "    }\n",
       "\n",
       "    .dataframe thead th {\n",
       "        text-align: right;\n",
       "    }\n",
       "</style>\n",
       "<table border=\"1\" class=\"dataframe\">\n",
       "  <thead>\n",
       "    <tr style=\"text-align: right;\">\n",
       "      <th></th>\n",
       "      <th>business_id</th>\n",
       "      <th>hour</th>\n",
       "      <th>date</th>\n",
       "      <th>year</th>\n",
       "      <th>month</th>\n",
       "    </tr>\n",
       "  </thead>\n",
       "  <tbody>\n",
       "    <tr>\n",
       "      <th>0</th>\n",
       "      <td>---kPU91CF4Lq2-WlRu9Lw</td>\n",
       "      <td>21:10:56</td>\n",
       "      <td>2020-03-13</td>\n",
       "      <td>2020</td>\n",
       "      <td>3</td>\n",
       "    </tr>\n",
       "    <tr>\n",
       "      <th>1</th>\n",
       "      <td>---kPU91CF4Lq2-WlRu9Lw</td>\n",
       "      <td>22:18:06</td>\n",
       "      <td>2020-06-02</td>\n",
       "      <td>2020</td>\n",
       "      <td>6</td>\n",
       "    </tr>\n",
       "  </tbody>\n",
       "</table>\n",
       "</div>"
      ],
      "text/plain": [
       "              business_id      hour        date  year  month\n",
       "0  ---kPU91CF4Lq2-WlRu9Lw  21:10:56  2020-03-13  2020      3\n",
       "1  ---kPU91CF4Lq2-WlRu9Lw  22:18:06  2020-06-02  2020      6"
      ]
     },
     "execution_count": 12,
     "metadata": {},
     "output_type": "execute_result"
    }
   ],
   "source": [
    "checkin.head(2)"
   ]
  },
  {
   "cell_type": "code",
   "execution_count": 13,
   "metadata": {},
   "outputs": [
    {
     "name": "stdout",
     "output_type": "stream",
     "text": [
      "<class 'pandas.core.frame.DataFrame'>\n",
      "RangeIndex: 13356875 entries, 0 to 13356874\n",
      "Data columns (total 5 columns):\n",
      " #   Column       Dtype \n",
      "---  ------       ----- \n",
      " 0   business_id  object\n",
      " 1   hour         object\n",
      " 2   date         object\n",
      " 3   year         int64 \n",
      " 4   month        int64 \n",
      "dtypes: int64(2), object(3)\n",
      "memory usage: 509.5+ MB\n"
     ]
    }
   ],
   "source": [
    "checkin.info()"
   ]
  },
  {
   "cell_type": "code",
   "execution_count": 14,
   "metadata": {},
   "outputs": [
    {
     "data": {
      "text/html": [
       "<div>\n",
       "<style scoped>\n",
       "    .dataframe tbody tr th:only-of-type {\n",
       "        vertical-align: middle;\n",
       "    }\n",
       "\n",
       "    .dataframe tbody tr th {\n",
       "        vertical-align: top;\n",
       "    }\n",
       "\n",
       "    .dataframe thead th {\n",
       "        text-align: right;\n",
       "    }\n",
       "</style>\n",
       "<table border=\"1\" class=\"dataframe\">\n",
       "  <thead>\n",
       "    <tr style=\"text-align: right;\">\n",
       "      <th></th>\n",
       "      <th>Unnamed: 0</th>\n",
       "      <th>user_id</th>\n",
       "      <th>stars</th>\n",
       "      <th>useful</th>\n",
       "      <th>funny</th>\n",
       "      <th>cool</th>\n",
       "      <th>text</th>\n",
       "      <th>date</th>\n",
       "      <th>id_review</th>\n",
       "      <th>id_user</th>\n",
       "      <th>id_business</th>\n",
       "    </tr>\n",
       "  </thead>\n",
       "  <tbody>\n",
       "    <tr>\n",
       "      <th>0</th>\n",
       "      <td>0</td>\n",
       "      <td>mh_-eMZ6K5RLWhZyISBhwA</td>\n",
       "      <td>3.0</td>\n",
       "      <td>0</td>\n",
       "      <td>0</td>\n",
       "      <td>0</td>\n",
       "      <td>If you decide to eat here, just be aware it is...</td>\n",
       "      <td>2018-07-07 22:09:11</td>\n",
       "      <td>0</td>\n",
       "      <td>124234</td>\n",
       "      <td>6274</td>\n",
       "    </tr>\n",
       "    <tr>\n",
       "      <th>1</th>\n",
       "      <td>1</td>\n",
       "      <td>OyoGAe7OKpv6SyGZT5g77Q</td>\n",
       "      <td>5.0</td>\n",
       "      <td>1</td>\n",
       "      <td>0</td>\n",
       "      <td>1</td>\n",
       "      <td>I've taken a lot of spin classes over the year...</td>\n",
       "      <td>2012-01-03 15:28:18</td>\n",
       "      <td>1</td>\n",
       "      <td>51327</td>\n",
       "      <td>44841</td>\n",
       "    </tr>\n",
       "  </tbody>\n",
       "</table>\n",
       "</div>"
      ],
      "text/plain": [
       "   Unnamed: 0                 user_id  stars  useful  funny  cool  \\\n",
       "0           0  mh_-eMZ6K5RLWhZyISBhwA    3.0       0      0     0   \n",
       "1           1  OyoGAe7OKpv6SyGZT5g77Q    5.0       1      0     1   \n",
       "\n",
       "                                                text                 date  \\\n",
       "0  If you decide to eat here, just be aware it is...  2018-07-07 22:09:11   \n",
       "1  I've taken a lot of spin classes over the year...  2012-01-03 15:28:18   \n",
       "\n",
       "   id_review  id_user  id_business  \n",
       "0          0   124234         6274  \n",
       "1          1    51327        44841  "
      ]
     },
     "execution_count": 14,
     "metadata": {},
     "output_type": "execute_result"
    }
   ],
   "source": [
    "reviews_yelp.head(2)"
   ]
  },
  {
   "cell_type": "code",
   "execution_count": 15,
   "metadata": {},
   "outputs": [
    {
     "name": "stdout",
     "output_type": "stream",
     "text": [
      "<class 'pandas.core.frame.DataFrame'>\n",
      "RangeIndex: 5468235 entries, 0 to 5468234\n",
      "Data columns (total 11 columns):\n",
      " #   Column       Dtype  \n",
      "---  ------       -----  \n",
      " 0   Unnamed: 0   int64  \n",
      " 1   user_id      object \n",
      " 2   stars        float64\n",
      " 3   useful       int64  \n",
      " 4   funny        int64  \n",
      " 5   cool         int64  \n",
      " 6   text         object \n",
      " 7   date         object \n",
      " 8   id_review    int64  \n",
      " 9   id_user      int64  \n",
      " 10  id_business  int64  \n",
      "dtypes: float64(1), int64(7), object(3)\n",
      "memory usage: 458.9+ MB\n"
     ]
    }
   ],
   "source": [
    "reviews_yelp.info()"
   ]
  },
  {
   "cell_type": "code",
   "execution_count": 16,
   "metadata": {},
   "outputs": [
    {
     "data": {
      "text/html": [
       "<div>\n",
       "<style scoped>\n",
       "    .dataframe tbody tr th:only-of-type {\n",
       "        vertical-align: middle;\n",
       "    }\n",
       "\n",
       "    .dataframe tbody tr th {\n",
       "        vertical-align: top;\n",
       "    }\n",
       "\n",
       "    .dataframe thead th {\n",
       "        text-align: right;\n",
       "    }\n",
       "</style>\n",
       "<table border=\"1\" class=\"dataframe\">\n",
       "  <thead>\n",
       "    <tr style=\"text-align: right;\">\n",
       "      <th></th>\n",
       "      <th>id_user</th>\n",
       "      <th>id_business</th>\n",
       "      <th>text</th>\n",
       "      <th>date</th>\n",
       "      <th>compliment_count</th>\n",
       "    </tr>\n",
       "  </thead>\n",
       "  <tbody>\n",
       "    <tr>\n",
       "      <th>0</th>\n",
       "      <td>66477</td>\n",
       "      <td>492933</td>\n",
       "      <td>They have lots of good deserts and tasty cuban...</td>\n",
       "      <td>2013-02-05 18:35:10</td>\n",
       "      <td>0</td>\n",
       "    </tr>\n",
       "    <tr>\n",
       "      <th>1</th>\n",
       "      <td>49975</td>\n",
       "      <td>2913</td>\n",
       "      <td>It's open even when you think it isn't</td>\n",
       "      <td>2013-08-18 00:56:08</td>\n",
       "      <td>0</td>\n",
       "    </tr>\n",
       "  </tbody>\n",
       "</table>\n",
       "</div>"
      ],
      "text/plain": [
       "   id_user  id_business                                               text  \\\n",
       "0    66477       492933  They have lots of good deserts and tasty cuban...   \n",
       "1    49975         2913             It's open even when you think it isn't   \n",
       "\n",
       "                  date  compliment_count  \n",
       "0  2013-02-05 18:35:10                 0  \n",
       "1  2013-08-18 00:56:08                 0  "
      ]
     },
     "execution_count": 16,
     "metadata": {},
     "output_type": "execute_result"
    }
   ],
   "source": [
    "tip.head(2)"
   ]
  },
  {
   "cell_type": "code",
   "execution_count": 17,
   "metadata": {},
   "outputs": [
    {
     "name": "stdout",
     "output_type": "stream",
     "text": [
      "<class 'pandas.core.frame.DataFrame'>\n",
      "RangeIndex: 677160 entries, 0 to 677159\n",
      "Data columns (total 5 columns):\n",
      " #   Column            Non-Null Count   Dtype \n",
      "---  ------            --------------   ----- \n",
      " 0   id_user           677160 non-null  int64 \n",
      " 1   id_business       677160 non-null  int64 \n",
      " 2   text              677143 non-null  object\n",
      " 3   date              677160 non-null  object\n",
      " 4   compliment_count  677160 non-null  int64 \n",
      "dtypes: int64(3), object(2)\n",
      "memory usage: 25.8+ MB\n"
     ]
    }
   ],
   "source": [
    "tip.info()"
   ]
  },
  {
   "cell_type": "code",
   "execution_count": 18,
   "metadata": {},
   "outputs": [
    {
     "data": {
      "text/html": [
       "<div>\n",
       "<style scoped>\n",
       "    .dataframe tbody tr th:only-of-type {\n",
       "        vertical-align: middle;\n",
       "    }\n",
       "\n",
       "    .dataframe tbody tr th {\n",
       "        vertical-align: top;\n",
       "    }\n",
       "\n",
       "    .dataframe thead th {\n",
       "        text-align: right;\n",
       "    }\n",
       "</style>\n",
       "<table border=\"1\" class=\"dataframe\">\n",
       "  <thead>\n",
       "    <tr style=\"text-align: right;\">\n",
       "      <th></th>\n",
       "      <th></th>\n",
       "      <th>id_user</th>\n",
       "      <th>years</th>\n",
       "    </tr>\n",
       "  </thead>\n",
       "  <tbody>\n",
       "    <tr>\n",
       "      <th>0</th>\n",
       "      <td>0</td>\n",
       "      <td>0</td>\n",
       "      <td>2007.0</td>\n",
       "    </tr>\n",
       "    <tr>\n",
       "      <th>1</th>\n",
       "      <td>1</td>\n",
       "      <td>1</td>\n",
       "      <td>2009.0</td>\n",
       "    </tr>\n",
       "  </tbody>\n",
       "</table>\n",
       "</div>"
      ],
      "text/plain": [
       "      id_user   years\n",
       "0  0        0  2007.0\n",
       "1  1        1  2009.0"
      ]
     },
     "execution_count": 18,
     "metadata": {},
     "output_type": "execute_result"
    }
   ],
   "source": [
    "user_yelp.head(2)"
   ]
  },
  {
   "cell_type": "markdown",
   "metadata": {},
   "source": [
    "Se realizará un análisis para definir la calidad de los datos de cada uno de los dataframes con los que contamos y la calidad se calculará verificando la cantidad de datos nulos, datos faltantes y dato duplicados, esto se representará con un % calculado por el total de datos existente dividido por la cantidad de datos faltantes."
   ]
  },
  {
   "cell_type": "markdown",
   "metadata": {},
   "source": [
    "**Verificación de datos \"Nulos\" de cada Dataframes de Google.**"
   ]
  },
  {
   "cell_type": "markdown",
   "metadata": {},
   "source": [
    "*Nulos dataframe \"restaurant\".*"
   ]
  },
  {
   "cell_type": "code",
   "execution_count": 19,
   "metadata": {},
   "outputs": [
    {
     "data": {
      "text/plain": [
       "name              0\n",
       "address           0\n",
       "state             0\n",
       "city              0\n",
       "postal_code       0\n",
       "latitude          0\n",
       "longitude         0\n",
       "avg_rating        0\n",
       "num_of_reviews    0\n",
       "price_numeric     0\n",
       "gmap_id           0\n",
       "category          0\n",
       "dtype: int64"
      ]
     },
     "execution_count": 19,
     "metadata": {},
     "output_type": "execute_result"
    }
   ],
   "source": [
    "restaurant.isnull().sum()"
   ]
  },
  {
   "cell_type": "markdown",
   "metadata": {},
   "source": [
    "Se realizó una verificación de todas las columnas del dataframe \"restaurant\" en busca de datos nulos. El resultado reveló la ausencia total de datos nulos equivalente a un 0%, lo que nos lleva a concluir que la calidad de los datos en este término es óptima."
   ]
  },
  {
   "cell_type": "markdown",
   "metadata": {},
   "source": [
    "*Nulos dataframe \"reviews\".*"
   ]
  },
  {
   "cell_type": "code",
   "execution_count": 20,
   "metadata": {},
   "outputs": [
    {
     "data": {
      "text/plain": [
       "user_id            0\n",
       "user_name          0\n",
       "year               0\n",
       "month              0\n",
       "day                0\n",
       "hour               0\n",
       "rating             0\n",
       "text               0\n",
       "restaurant_name    0\n",
       "state              0\n",
       "city               0\n",
       "gmap_id            0\n",
       "dtype: int64"
      ]
     },
     "execution_count": 20,
     "metadata": {},
     "output_type": "execute_result"
    }
   ],
   "source": [
    "reviews.isnull().sum()"
   ]
  },
  {
   "cell_type": "markdown",
   "metadata": {},
   "source": [
    "Se identificaron 623,535 valores nulos en la columna \"text\" de un total de 1,596,014, representando así el 39.06% de dicha columna. Al considerar todas las demás columnas para evaluar la integridad de datos en el conjunto de datos completo, se observa que el 96.74% de los datos NO son nulos. En consecuencia, se concluye que el dataframe exhibe una calidad de datos satisfactoria."
   ]
  },
  {
   "cell_type": "markdown",
   "metadata": {},
   "source": [
    "*Nulos dataframe \"user\".*"
   ]
  },
  {
   "cell_type": "code",
   "execution_count": 21,
   "metadata": {},
   "outputs": [
    {
     "data": {
      "text/plain": [
       "user_id           0\n",
       "user_name         0\n",
       "review_count      0\n",
       "average_rating    0\n",
       "dtype: int64"
      ]
     },
     "execution_count": 21,
     "metadata": {},
     "output_type": "execute_result"
    }
   ],
   "source": [
    "user.isnull().sum()"
   ]
  },
  {
   "cell_type": "markdown",
   "metadata": {},
   "source": [
    "Se realizó una verificación de todas las columnas del dataframe \"user\" en busca de datos nulos. El resultado reveló la ausencia total de datos nulos, lo cual equivale a un 0%, lo que nos lleva a concluir que la calidad de los datos en este término es óptima."
   ]
  },
  {
   "cell_type": "markdown",
   "metadata": {},
   "source": [
    "**Verificación de datos duplicados Google**"
   ]
  },
  {
   "cell_type": "markdown",
   "metadata": {},
   "source": [
    "*Duplicados dataframe \"restaurant\".*"
   ]
  },
  {
   "cell_type": "markdown",
   "metadata": {},
   "source": [
    "En relación con la detección de datos duplicados en el DataFrame \"restaurant\", se focalizará exclusivamente en la columna \"address\" debido a la naturaleza del conjunto de datos. La identificación de duplicados en esta columna indicaría una anomalía, ya que no se espera que existan múltiples restaurantes en la misma ubicación."
   ]
  },
  {
   "cell_type": "code",
   "execution_count": 22,
   "metadata": {},
   "outputs": [
    {
     "data": {
      "text/html": [
       "<div>\n",
       "<style scoped>\n",
       "    .dataframe tbody tr th:only-of-type {\n",
       "        vertical-align: middle;\n",
       "    }\n",
       "\n",
       "    .dataframe tbody tr th {\n",
       "        vertical-align: top;\n",
       "    }\n",
       "\n",
       "    .dataframe thead th {\n",
       "        text-align: right;\n",
       "    }\n",
       "</style>\n",
       "<table border=\"1\" class=\"dataframe\">\n",
       "  <thead>\n",
       "    <tr style=\"text-align: right;\">\n",
       "      <th></th>\n",
       "      <th>name</th>\n",
       "      <th>address</th>\n",
       "      <th>state</th>\n",
       "      <th>city</th>\n",
       "      <th>postal_code</th>\n",
       "      <th>latitude</th>\n",
       "      <th>longitude</th>\n",
       "      <th>avg_rating</th>\n",
       "      <th>num_of_reviews</th>\n",
       "      <th>price_numeric</th>\n",
       "      <th>gmap_id</th>\n",
       "      <th>category</th>\n",
       "    </tr>\n",
       "  </thead>\n",
       "  <tbody>\n",
       "  </tbody>\n",
       "</table>\n",
       "</div>"
      ],
      "text/plain": [
       "Empty DataFrame\n",
       "Columns: [name, address, state, city, postal_code, latitude, longitude, avg_rating, num_of_reviews, price_numeric, gmap_id, category]\n",
       "Index: []"
      ]
     },
     "execution_count": 22,
     "metadata": {},
     "output_type": "execute_result"
    }
   ],
   "source": [
    "duplicados = restaurant[restaurant.duplicated(subset='address')]\n",
    "duplicados"
   ]
  },
  {
   "cell_type": "markdown",
   "metadata": {},
   "source": [
    "Tras llevar a cabo la validación de duplicados en la columna \"address\", se constató la ausencia de repeticiones, lo que sugiere una alta integridad de datos en el DataFrame \"restaurant\"."
   ]
  },
  {
   "cell_type": "markdown",
   "metadata": {},
   "source": [
    "*Duplicados dataframe \"reviews\".*"
   ]
  },
  {
   "cell_type": "code",
   "execution_count": 23,
   "metadata": {},
   "outputs": [
    {
     "data": {
      "text/html": [
       "<div>\n",
       "<style scoped>\n",
       "    .dataframe tbody tr th:only-of-type {\n",
       "        vertical-align: middle;\n",
       "    }\n",
       "\n",
       "    .dataframe tbody tr th {\n",
       "        vertical-align: top;\n",
       "    }\n",
       "\n",
       "    .dataframe thead th {\n",
       "        text-align: right;\n",
       "    }\n",
       "</style>\n",
       "<table border=\"1\" class=\"dataframe\">\n",
       "  <thead>\n",
       "    <tr style=\"text-align: right;\">\n",
       "      <th></th>\n",
       "      <th>user_id</th>\n",
       "      <th>user_name</th>\n",
       "      <th>year</th>\n",
       "      <th>month</th>\n",
       "      <th>day</th>\n",
       "      <th>hour</th>\n",
       "      <th>rating</th>\n",
       "      <th>text</th>\n",
       "      <th>restaurant_name</th>\n",
       "      <th>state</th>\n",
       "      <th>city</th>\n",
       "      <th>gmap_id</th>\n",
       "    </tr>\n",
       "  </thead>\n",
       "  <tbody>\n",
       "    <tr>\n",
       "      <th>0</th>\n",
       "      <td>108991152262655788985</td>\n",
       "      <td>Song Ro</td>\n",
       "      <td>2021</td>\n",
       "      <td>1</td>\n",
       "      <td>6</td>\n",
       "      <td>05:12:07.056</td>\n",
       "      <td>5</td>\n",
       "      <td>Love there korean rice cake.</td>\n",
       "      <td>San Soo Dang</td>\n",
       "      <td>California</td>\n",
       "      <td>Los Angeles</td>\n",
       "      <td>0x80c2c778e3b73d33:0xbdc58662a4a97d49</td>\n",
       "    </tr>\n",
       "    <tr>\n",
       "      <th>1</th>\n",
       "      <td>111290322219796215751</td>\n",
       "      <td>Rafa Robles</td>\n",
       "      <td>2021</td>\n",
       "      <td>2</td>\n",
       "      <td>9</td>\n",
       "      <td>05:47:28.663</td>\n",
       "      <td>5</td>\n",
       "      <td>Good very good</td>\n",
       "      <td>San Soo Dang</td>\n",
       "      <td>California</td>\n",
       "      <td>Los Angeles</td>\n",
       "      <td>0x80c2c778e3b73d33:0xbdc58662a4a97d49</td>\n",
       "    </tr>\n",
       "    <tr>\n",
       "      <th>2</th>\n",
       "      <td>112640357449611959087</td>\n",
       "      <td>David Han</td>\n",
       "      <td>2020</td>\n",
       "      <td>3</td>\n",
       "      <td>8</td>\n",
       "      <td>05:04:42.296</td>\n",
       "      <td>4</td>\n",
       "      <td>They make Korean traditional food very properly.</td>\n",
       "      <td>San Soo Dang</td>\n",
       "      <td>California</td>\n",
       "      <td>Los Angeles</td>\n",
       "      <td>0x80c2c778e3b73d33:0xbdc58662a4a97d49</td>\n",
       "    </tr>\n",
       "    <tr>\n",
       "      <th>3</th>\n",
       "      <td>117440349723823658676</td>\n",
       "      <td>Anthony Kim</td>\n",
       "      <td>2019</td>\n",
       "      <td>3</td>\n",
       "      <td>7</td>\n",
       "      <td>05:56:56.355</td>\n",
       "      <td>5</td>\n",
       "      <td>Short ribs are very delicious.</td>\n",
       "      <td>San Soo Dang</td>\n",
       "      <td>California</td>\n",
       "      <td>Los Angeles</td>\n",
       "      <td>0x80c2c778e3b73d33:0xbdc58662a4a97d49</td>\n",
       "    </tr>\n",
       "    <tr>\n",
       "      <th>4</th>\n",
       "      <td>100580770836123539210</td>\n",
       "      <td>Mario Marzouk</td>\n",
       "      <td>2017</td>\n",
       "      <td>5</td>\n",
       "      <td>16</td>\n",
       "      <td>05:01:41.933</td>\n",
       "      <td>5</td>\n",
       "      <td>Great food and prices the portions are large</td>\n",
       "      <td>San Soo Dang</td>\n",
       "      <td>California</td>\n",
       "      <td>Los Angeles</td>\n",
       "      <td>0x80c2c778e3b73d33:0xbdc58662a4a97d49</td>\n",
       "    </tr>\n",
       "    <tr>\n",
       "      <th>...</th>\n",
       "      <td>...</td>\n",
       "      <td>...</td>\n",
       "      <td>...</td>\n",
       "      <td>...</td>\n",
       "      <td>...</td>\n",
       "      <td>...</td>\n",
       "      <td>...</td>\n",
       "      <td>...</td>\n",
       "      <td>...</td>\n",
       "      <td>...</td>\n",
       "      <td>...</td>\n",
       "      <td>...</td>\n",
       "    </tr>\n",
       "    <tr>\n",
       "      <th>1595832</th>\n",
       "      <td>105927334065274630238</td>\n",
       "      <td>Paully B</td>\n",
       "      <td>2021</td>\n",
       "      <td>3</td>\n",
       "      <td>25</td>\n",
       "      <td>18:53:00.674</td>\n",
       "      <td>5</td>\n",
       "      <td>Friendly staff &amp; very flavorful food. Was so h...</td>\n",
       "      <td>Parlor City Vegan</td>\n",
       "      <td>New_York</td>\n",
       "      <td>Binghamton</td>\n",
       "      <td>0x89daefce0de275e5:0x2651f8ce5730053d</td>\n",
       "    </tr>\n",
       "    <tr>\n",
       "      <th>1595918</th>\n",
       "      <td>100523225639866682766</td>\n",
       "      <td>Jenn Rhodes</td>\n",
       "      <td>2017</td>\n",
       "      <td>6</td>\n",
       "      <td>3</td>\n",
       "      <td>19:34:19.171</td>\n",
       "      <td>5</td>\n",
       "      <td>The food was awesome, staff was lovely and it'...</td>\n",
       "      <td>Mountain View Brasserie</td>\n",
       "      <td>New_York</td>\n",
       "      <td>Greenville</td>\n",
       "      <td>0x89ddc62a928f3a73:0xd65f69a44337260b</td>\n",
       "    </tr>\n",
       "    <tr>\n",
       "      <th>1595920</th>\n",
       "      <td>100523225639866682766</td>\n",
       "      <td>Jenn Rhodes</td>\n",
       "      <td>2017</td>\n",
       "      <td>6</td>\n",
       "      <td>3</td>\n",
       "      <td>19:34:19.171</td>\n",
       "      <td>5</td>\n",
       "      <td>The food was awesome, staff was lovely and it'...</td>\n",
       "      <td>Mountain View Brasserie</td>\n",
       "      <td>New_York</td>\n",
       "      <td>Greenville</td>\n",
       "      <td>0x89ddc62a928f3a73:0xd65f69a44337260b</td>\n",
       "    </tr>\n",
       "    <tr>\n",
       "      <th>1596002</th>\n",
       "      <td>106633813682476041660</td>\n",
       "      <td>Rocco Tozzi</td>\n",
       "      <td>2017</td>\n",
       "      <td>12</td>\n",
       "      <td>6</td>\n",
       "      <td>02:08:31.71</td>\n",
       "      <td>5</td>\n",
       "      <td>Best Chinese in colonie</td>\n",
       "      <td>Pearl of the Orient</td>\n",
       "      <td>New_York</td>\n",
       "      <td>Loudonville</td>\n",
       "      <td>0x89de0b8a0905153d:0x976fc4a006084f03</td>\n",
       "    </tr>\n",
       "    <tr>\n",
       "      <th>1596003</th>\n",
       "      <td>106633813682476041660</td>\n",
       "      <td>Rocco Tozzi</td>\n",
       "      <td>2017</td>\n",
       "      <td>12</td>\n",
       "      <td>6</td>\n",
       "      <td>02:08:31.71</td>\n",
       "      <td>5</td>\n",
       "      <td>Best Chinese in colonie</td>\n",
       "      <td>Pearl of the Orient</td>\n",
       "      <td>New_York</td>\n",
       "      <td>Loudonville</td>\n",
       "      <td>0x89de0b8a0905153d:0x976fc4a006084f03</td>\n",
       "    </tr>\n",
       "  </tbody>\n",
       "</table>\n",
       "<p>134971 rows × 12 columns</p>\n",
       "</div>"
      ],
      "text/plain": [
       "                       user_id      user_name  year  month  day          hour  \\\n",
       "0        108991152262655788985        Song Ro  2021      1    6  05:12:07.056   \n",
       "1        111290322219796215751    Rafa Robles  2021      2    9  05:47:28.663   \n",
       "2        112640357449611959087      David Han  2020      3    8  05:04:42.296   \n",
       "3        117440349723823658676    Anthony Kim  2019      3    7  05:56:56.355   \n",
       "4        100580770836123539210  Mario Marzouk  2017      5   16  05:01:41.933   \n",
       "...                        ...            ...   ...    ...  ...           ...   \n",
       "1595832  105927334065274630238       Paully B  2021      3   25  18:53:00.674   \n",
       "1595918  100523225639866682766    Jenn Rhodes  2017      6    3  19:34:19.171   \n",
       "1595920  100523225639866682766    Jenn Rhodes  2017      6    3  19:34:19.171   \n",
       "1596002  106633813682476041660    Rocco Tozzi  2017     12    6   02:08:31.71   \n",
       "1596003  106633813682476041660    Rocco Tozzi  2017     12    6   02:08:31.71   \n",
       "\n",
       "         rating                                               text  \\\n",
       "0             5                       Love there korean rice cake.   \n",
       "1             5                                     Good very good   \n",
       "2             4   They make Korean traditional food very properly.   \n",
       "3             5                     Short ribs are very delicious.   \n",
       "4             5       Great food and prices the portions are large   \n",
       "...         ...                                                ...   \n",
       "1595832       5  Friendly staff & very flavorful food. Was so h...   \n",
       "1595918       5  The food was awesome, staff was lovely and it'...   \n",
       "1595920       5  The food was awesome, staff was lovely and it'...   \n",
       "1596002       5                            Best Chinese in colonie   \n",
       "1596003       5                            Best Chinese in colonie   \n",
       "\n",
       "                 restaurant_name       state         city  \\\n",
       "0                   San Soo Dang  California  Los Angeles   \n",
       "1                   San Soo Dang  California  Los Angeles   \n",
       "2                   San Soo Dang  California  Los Angeles   \n",
       "3                   San Soo Dang  California  Los Angeles   \n",
       "4                   San Soo Dang  California  Los Angeles   \n",
       "...                          ...         ...          ...   \n",
       "1595832        Parlor City Vegan    New_York   Binghamton   \n",
       "1595918  Mountain View Brasserie    New_York   Greenville   \n",
       "1595920  Mountain View Brasserie    New_York   Greenville   \n",
       "1596002      Pearl of the Orient    New_York  Loudonville   \n",
       "1596003      Pearl of the Orient    New_York  Loudonville   \n",
       "\n",
       "                                       gmap_id  \n",
       "0        0x80c2c778e3b73d33:0xbdc58662a4a97d49  \n",
       "1        0x80c2c778e3b73d33:0xbdc58662a4a97d49  \n",
       "2        0x80c2c778e3b73d33:0xbdc58662a4a97d49  \n",
       "3        0x80c2c778e3b73d33:0xbdc58662a4a97d49  \n",
       "4        0x80c2c778e3b73d33:0xbdc58662a4a97d49  \n",
       "...                                        ...  \n",
       "1595832  0x89daefce0de275e5:0x2651f8ce5730053d  \n",
       "1595918  0x89ddc62a928f3a73:0xd65f69a44337260b  \n",
       "1595920  0x89ddc62a928f3a73:0xd65f69a44337260b  \n",
       "1596002  0x89de0b8a0905153d:0x976fc4a006084f03  \n",
       "1596003  0x89de0b8a0905153d:0x976fc4a006084f03  \n",
       "\n",
       "[134971 rows x 12 columns]"
      ]
     },
     "execution_count": 23,
     "metadata": {},
     "output_type": "execute_result"
    }
   ],
   "source": [
    "duplicados = reviews[reviews.duplicated(subset=['user_id', 'hour'], keep=False)]\n",
    "duplicados"
   ]
  },
  {
   "cell_type": "code",
   "execution_count": 24,
   "metadata": {},
   "outputs": [
    {
     "data": {
      "text/plain": [
       "user_id                user_name          year  month  day  hour          rating  text                                                                                                                                                                                        restaurant_name                   state       city         gmap_id                              \n",
       "103910783798742328651  Abdul Smith        2019  3      6    19:38:42.39   4       Love the crab ragoons                                                                                                                                                                       Krazy Buffet                      Nevada      Las Vegas    0x80c8c0963d9cddd7:0x1662954a966801fc    3\n",
       "112182895510230990135  Trevor Zimmerman   2020  2      21   02:24:24.736  1       Just don't waste ourtime. Staff sitting on phones making food not to description on menu. Negative stars if that was possible.                                                              Flock and Stock                   Florida     Tampa        0x88c2c5c515fa6e53:0xee4f630ca314fe01    3\n",
       "108204145743439467474  Kevin Barker       2018  8      1    06:03:19.16   4       Best pizza in Manhattan                                                                                                                                                                     Prince St. Pizza                  New_York    New York     0x89c25985f7ec1beb:0x3c39f655da433d9d    3\n",
       "107800055306534648001  Francisco Gomez    2019  8      16   04:23:29.988  4       Best salami sandwich restaurant in MacArthur Park                                                                                                                                           Langer's Delicatessen-Restaurant  California  Los Angeles  0x80c2c79f65c05a3f:0x36ae812febfdc501    3\n",
       "109004986980114616349  Merri Silverstein  2007  8      1    00:00:00.     4       see and be seen!! summertime fun, maybe after yummy pasta you will want to dance on the table?? always a fun time!!                                                                         Baraonda                          New_York    New York     0x89c258c07bb81027:0xbe685167f2b5bc33    3\n",
       "                                                                                                                                                                                                                                                                                                                                                                                 ..\n",
       "106261978393282124192  Brandon            2019  5      18   22:44:42.762  4       Great tasting food and very nice employees!!                                                                                                                                                Zemeta Ethiopian Restaurant       New_York    Rochester    0x89d6b5aa7ec90453:0x421748b40af235d7    1\n",
       "106262087809295590182  A G                2019  2      3    17:44:16.834  5       Best tacos in fort Pierce                                                                                                                                                                   La Haciendita Super Taqueria      Florida     Fort Pierce  0x88def182f80062bb:0xecaf9b4c67063824    1\n",
       "106262108954425465738  Richard Cheng      2018  11     17   15:49:37.843  5       I went there for a tasty Santa skillet no matter what. 🍳🥛                                                                                                                                   Denny's                           New_York    Queens       0x89c25fa3849938b9:0x540d507d7e77b8cd    1\n",
       "106262246243495062443  Mark Collins       2019  6      7    22:14:17.421  5       Great place for a nice drink and healthy snack.                                                                                                                                             Farm To Barn Cafe & Juicery       Hawaii      Haleiwa      0x7c005f41490dc309:0x2b84d2e6928226e1    1\n",
       "118446649441296359833  Alec Holden        2020  3      21   17:10:13.275  5       This spot provides extraordinary service as well as delightful meals. The best restaurant around here. The food and drinks came out quick and the prices are fair. I recommend this place.  Osaka                             New_York    Brooklyn     0x89c25a5a7eb54e13:0x4fa646fc6042eb8e    1\n",
       "Name: count, Length: 73277, dtype: int64"
      ]
     },
     "execution_count": 24,
     "metadata": {},
     "output_type": "execute_result"
    }
   ],
   "source": [
    "duplicados = reviews[reviews.duplicated(subset='user_id') & reviews.duplicated(subset='hour')].value_counts()\n",
    "duplicados"
   ]
  },
  {
   "cell_type": "code",
   "execution_count": 25,
   "metadata": {},
   "outputs": [
    {
     "data": {
      "text/html": [
       "<div>\n",
       "<style scoped>\n",
       "    .dataframe tbody tr th:only-of-type {\n",
       "        vertical-align: middle;\n",
       "    }\n",
       "\n",
       "    .dataframe tbody tr th {\n",
       "        vertical-align: top;\n",
       "    }\n",
       "\n",
       "    .dataframe thead th {\n",
       "        text-align: right;\n",
       "    }\n",
       "</style>\n",
       "<table border=\"1\" class=\"dataframe\">\n",
       "  <thead>\n",
       "    <tr style=\"text-align: right;\">\n",
       "      <th></th>\n",
       "      <th>user_id</th>\n",
       "      <th>user_name</th>\n",
       "      <th>year</th>\n",
       "      <th>month</th>\n",
       "      <th>day</th>\n",
       "      <th>hour</th>\n",
       "      <th>rating</th>\n",
       "      <th>text</th>\n",
       "      <th>restaurant_name</th>\n",
       "      <th>state</th>\n",
       "      <th>city</th>\n",
       "      <th>gmap_id</th>\n",
       "    </tr>\n",
       "  </thead>\n",
       "  <tbody>\n",
       "    <tr>\n",
       "      <th>167</th>\n",
       "      <td>101001321250592869991</td>\n",
       "      <td>Luis Briceno</td>\n",
       "      <td>2019</td>\n",
       "      <td>8</td>\n",
       "      <td>10</td>\n",
       "      <td>18:32:49.186</td>\n",
       "      <td>5</td>\n",
       "      <td>(Translated by Google) Very good place and ver...</td>\n",
       "      <td>La Superior Panaderia</td>\n",
       "      <td>California</td>\n",
       "      <td>Los Angeles</td>\n",
       "      <td>0x80c2c798ad41d859:0x8823cd86d2abd5b3</td>\n",
       "    </tr>\n",
       "    <tr>\n",
       "      <th>169</th>\n",
       "      <td>101001321250592869991</td>\n",
       "      <td>Luis Briceno</td>\n",
       "      <td>2019</td>\n",
       "      <td>8</td>\n",
       "      <td>10</td>\n",
       "      <td>18:32:49.186</td>\n",
       "      <td>5</td>\n",
       "      <td>(Translated by Google) Very good place and ver...</td>\n",
       "      <td>La Superior Panaderia</td>\n",
       "      <td>California</td>\n",
       "      <td>Los Angeles</td>\n",
       "      <td>0x80c2c798ad41d859:0x8823cd86d2abd5b3</td>\n",
       "    </tr>\n",
       "    <tr>\n",
       "      <th>847</th>\n",
       "      <td>101001321250592869991</td>\n",
       "      <td>Luis Briceno</td>\n",
       "      <td>2019</td>\n",
       "      <td>8</td>\n",
       "      <td>10</td>\n",
       "      <td>18:32:49.186</td>\n",
       "      <td>5</td>\n",
       "      <td>(Translated by Google) Very good place and ver...</td>\n",
       "      <td>La Superior Panaderia</td>\n",
       "      <td>California</td>\n",
       "      <td>Los Angeles</td>\n",
       "      <td>0x80c2c798ad41d859:0x8823cd86d2abd5b3</td>\n",
       "    </tr>\n",
       "    <tr>\n",
       "      <th>849</th>\n",
       "      <td>101001321250592869991</td>\n",
       "      <td>Luis Briceno</td>\n",
       "      <td>2019</td>\n",
       "      <td>8</td>\n",
       "      <td>10</td>\n",
       "      <td>18:32:49.186</td>\n",
       "      <td>5</td>\n",
       "      <td>(Translated by Google) Very good place and ver...</td>\n",
       "      <td>La Superior Panaderia</td>\n",
       "      <td>California</td>\n",
       "      <td>Los Angeles</td>\n",
       "      <td>0x80c2c798ad41d859:0x8823cd86d2abd5b3</td>\n",
       "    </tr>\n",
       "  </tbody>\n",
       "</table>\n",
       "</div>"
      ],
      "text/plain": [
       "                   user_id     user_name  year  month  day          hour  \\\n",
       "167  101001321250592869991  Luis Briceno  2019      8   10  18:32:49.186   \n",
       "169  101001321250592869991  Luis Briceno  2019      8   10  18:32:49.186   \n",
       "847  101001321250592869991  Luis Briceno  2019      8   10  18:32:49.186   \n",
       "849  101001321250592869991  Luis Briceno  2019      8   10  18:32:49.186   \n",
       "\n",
       "     rating                                               text  \\\n",
       "167       5  (Translated by Google) Very good place and ver...   \n",
       "169       5  (Translated by Google) Very good place and ver...   \n",
       "847       5  (Translated by Google) Very good place and ver...   \n",
       "849       5  (Translated by Google) Very good place and ver...   \n",
       "\n",
       "           restaurant_name       state         city  \\\n",
       "167  La Superior Panaderia  California  Los Angeles   \n",
       "169  La Superior Panaderia  California  Los Angeles   \n",
       "847  La Superior Panaderia  California  Los Angeles   \n",
       "849  La Superior Panaderia  California  Los Angeles   \n",
       "\n",
       "                                   gmap_id  \n",
       "167  0x80c2c798ad41d859:0x8823cd86d2abd5b3  \n",
       "169  0x80c2c798ad41d859:0x8823cd86d2abd5b3  \n",
       "847  0x80c2c798ad41d859:0x8823cd86d2abd5b3  \n",
       "849  0x80c2c798ad41d859:0x8823cd86d2abd5b3  "
      ]
     },
     "execution_count": 25,
     "metadata": {},
     "output_type": "execute_result"
    }
   ],
   "source": [
    "reviews[reviews['user_id'] == '101001321250592869991']"
   ]
  },
  {
   "cell_type": "markdown",
   "metadata": {},
   "source": [
    "Tras llevar a cabo una inspección en el DataFrame \"reviews\" en busca de duplicados, se identificaron un total de 73,277 registros duplicados de un conjunto de 1,596,014 datos, lo que representa un porcentaje del 4.59%. Por ende, se concluye que el 95.40% de los datos no están duplicados, lo que indica una calidad de datos aceptable en el conjunto analizado."
   ]
  },
  {
   "cell_type": "markdown",
   "metadata": {},
   "source": [
    "*Duplicados dataframe \"user\".*"
   ]
  },
  {
   "cell_type": "code",
   "execution_count": 26,
   "metadata": {},
   "outputs": [
    {
     "data": {
      "text/plain": [
       "user_id                user_name               review_count  average_rating\n",
       "100003708628889270275  Tanya Estrada           1             5.0               1\n",
       "112342486850365925348  Carlos D                1             4.0               1\n",
       "112439388468130288725  Jay Osorio              1             5.0               1\n",
       "112435112523680212019  Alan DELACRUZ           2             3.5               1\n",
       "112432688117379757117  Lizzy Tello             1             5.0               1\n",
       "                                                                              ..\n",
       "106630073250730568945  Gardenwinenfun          1             4.0               1\n",
       "106629314083356289844  Brandon Cheng (BCheng)  1             4.0               1\n",
       "106624357834993345987  Nam Kim                 1             3.0               1\n",
       "106622609208456798489  Faizan Shahid           1             5.0               1\n",
       "118444209281473607022  Carlos Jiménez          1             5.0               1\n",
       "Name: count, Length: 2010, dtype: int64"
      ]
     },
     "execution_count": 26,
     "metadata": {},
     "output_type": "execute_result"
    }
   ],
   "source": [
    "duplicados = user[user.duplicated(subset='user_id') ].value_counts()\n",
    "duplicados"
   ]
  },
  {
   "cell_type": "markdown",
   "metadata": {},
   "source": [
    "Después de investigar la presencia de datos duplicados en el DataFrame \"user\", se determinó que, dada la naturaleza inherente del conjunto de datos, la existencia de duplicados no necesariamente indicaría un error."
   ]
  },
  {
   "cell_type": "markdown",
   "metadata": {},
   "source": [
    "**Verificación de datos faltantes de Google**"
   ]
  },
  {
   "cell_type": "markdown",
   "metadata": {},
   "source": [
    "*Datos faltantes dataframe \"restaurant\"*"
   ]
  },
  {
   "cell_type": "code",
   "execution_count": 27,
   "metadata": {},
   "outputs": [
    {
     "data": {
      "text/html": [
       "<div>\n",
       "<style scoped>\n",
       "    .dataframe tbody tr th:only-of-type {\n",
       "        vertical-align: middle;\n",
       "    }\n",
       "\n",
       "    .dataframe tbody tr th {\n",
       "        vertical-align: top;\n",
       "    }\n",
       "\n",
       "    .dataframe thead th {\n",
       "        text-align: right;\n",
       "    }\n",
       "</style>\n",
       "<table border=\"1\" class=\"dataframe\">\n",
       "  <thead>\n",
       "    <tr style=\"text-align: right;\">\n",
       "      <th></th>\n",
       "      <th>name</th>\n",
       "      <th>address</th>\n",
       "      <th>state</th>\n",
       "      <th>city</th>\n",
       "      <th>postal_code</th>\n",
       "      <th>latitude</th>\n",
       "      <th>longitude</th>\n",
       "      <th>avg_rating</th>\n",
       "      <th>num_of_reviews</th>\n",
       "      <th>price_numeric</th>\n",
       "      <th>gmap_id</th>\n",
       "      <th>category</th>\n",
       "    </tr>\n",
       "  </thead>\n",
       "  <tbody>\n",
       "  </tbody>\n",
       "</table>\n",
       "</div>"
      ],
      "text/plain": [
       "Empty DataFrame\n",
       "Columns: [name, address, state, city, postal_code, latitude, longitude, avg_rating, num_of_reviews, price_numeric, gmap_id, category]\n",
       "Index: []"
      ]
     },
     "execution_count": 27,
     "metadata": {},
     "output_type": "execute_result"
    }
   ],
   "source": [
    "restaurant[restaurant['category'] == '']"
   ]
  },
  {
   "cell_type": "markdown",
   "metadata": {},
   "source": [
    "Tras un análisis del dataframe \"restaurant\" en busca de datos faltantes, se determinó que no existen ausencias de datos en ninguna parte del dataframe. Por consiguiente, se concluye que el dataframe presenta una alta calidad de datos."
   ]
  },
  {
   "cell_type": "markdown",
   "metadata": {},
   "source": [
    "*Datos faltantes dataframe \"reviews\"*"
   ]
  },
  {
   "cell_type": "code",
   "execution_count": 28,
   "metadata": {},
   "outputs": [
    {
     "data": {
      "text/html": [
       "<div>\n",
       "<style scoped>\n",
       "    .dataframe tbody tr th:only-of-type {\n",
       "        vertical-align: middle;\n",
       "    }\n",
       "\n",
       "    .dataframe tbody tr th {\n",
       "        vertical-align: top;\n",
       "    }\n",
       "\n",
       "    .dataframe thead th {\n",
       "        text-align: right;\n",
       "    }\n",
       "</style>\n",
       "<table border=\"1\" class=\"dataframe\">\n",
       "  <thead>\n",
       "    <tr style=\"text-align: right;\">\n",
       "      <th></th>\n",
       "      <th>user_id</th>\n",
       "      <th>user_name</th>\n",
       "      <th>year</th>\n",
       "      <th>month</th>\n",
       "      <th>day</th>\n",
       "      <th>hour</th>\n",
       "      <th>rating</th>\n",
       "      <th>text</th>\n",
       "      <th>restaurant_name</th>\n",
       "      <th>state</th>\n",
       "      <th>city</th>\n",
       "      <th>gmap_id</th>\n",
       "    </tr>\n",
       "  </thead>\n",
       "  <tbody>\n",
       "  </tbody>\n",
       "</table>\n",
       "</div>"
      ],
      "text/plain": [
       "Empty DataFrame\n",
       "Columns: [user_id, user_name, year, month, day, hour, rating, text, restaurant_name, state, city, gmap_id]\n",
       "Index: []"
      ]
     },
     "execution_count": 28,
     "metadata": {},
     "output_type": "execute_result"
    }
   ],
   "source": [
    "reviews[reviews['gmap_id']== '']"
   ]
  },
  {
   "cell_type": "markdown",
   "metadata": {},
   "source": [
    "Tras un análisis del dataframe \"reviews\" en busca de datos faltantes, se determinó que no existen ausencias de datos en ninguna parte del dataframe. Por consiguiente, se concluye que el dataframe presenta una alta calidad de datos."
   ]
  },
  {
   "cell_type": "markdown",
   "metadata": {},
   "source": [
    "*Datos faltantes dataframe \"user\"*"
   ]
  },
  {
   "cell_type": "code",
   "execution_count": 29,
   "metadata": {},
   "outputs": [
    {
     "data": {
      "text/html": [
       "<div>\n",
       "<style scoped>\n",
       "    .dataframe tbody tr th:only-of-type {\n",
       "        vertical-align: middle;\n",
       "    }\n",
       "\n",
       "    .dataframe tbody tr th {\n",
       "        vertical-align: top;\n",
       "    }\n",
       "\n",
       "    .dataframe thead th {\n",
       "        text-align: right;\n",
       "    }\n",
       "</style>\n",
       "<table border=\"1\" class=\"dataframe\">\n",
       "  <thead>\n",
       "    <tr style=\"text-align: right;\">\n",
       "      <th></th>\n",
       "      <th>user_id</th>\n",
       "      <th>user_name</th>\n",
       "      <th>review_count</th>\n",
       "      <th>average_rating</th>\n",
       "    </tr>\n",
       "  </thead>\n",
       "  <tbody>\n",
       "  </tbody>\n",
       "</table>\n",
       "</div>"
      ],
      "text/plain": [
       "Empty DataFrame\n",
       "Columns: [user_id, user_name, review_count, average_rating]\n",
       "Index: []"
      ]
     },
     "execution_count": 29,
     "metadata": {},
     "output_type": "execute_result"
    }
   ],
   "source": [
    "user[user['average_rating'] == '']"
   ]
  },
  {
   "cell_type": "markdown",
   "metadata": {},
   "source": [
    "Tras un análisis del dataframe \"user\" en busca de datos faltantes, se determinó que no existen ausencias de datos en ninguna parte del dataframe. Por consiguiente, se concluye que el dataframe presenta una alta calidad de datos."
   ]
  },
  {
   "cell_type": "markdown",
   "metadata": {},
   "source": [
    "**Verificación de datos \"Nulos\" de cada Dataframes de YELP.**"
   ]
  },
  {
   "cell_type": "markdown",
   "metadata": {},
   "source": [
    "*Nulos dataframe \"business\"*"
   ]
  },
  {
   "cell_type": "code",
   "execution_count": 30,
   "metadata": {},
   "outputs": [
    {
     "data": {
      "text/plain": [
       "id_business      0\n",
       "name             0\n",
       "address          0\n",
       "city             0\n",
       "state            0\n",
       "postal_code     55\n",
       "latitude         0\n",
       "longitude        0\n",
       "stars            0\n",
       "review_count     0\n",
       "is_open          0\n",
       "attributes       0\n",
       "categories       0\n",
       "hours            0\n",
       "dtype: int64"
      ]
     },
     "execution_count": 30,
     "metadata": {},
     "output_type": "execute_result"
    }
   ],
   "source": [
    "business.isnull().sum()"
   ]
  },
  {
   "cell_type": "markdown",
   "metadata": {},
   "source": [
    "Se identificaron 55 valores nulos en la columna \"postal_code\" de un total de 124,757, representando así el 0.044% de dicha columna. Al considerar todas las demás columnas para evaluar la integridad de datos en el conjunto de datos completo, se observa que el 99.996% de los datos NO son nulos. En consecuencia, se concluye que el dataframe exhibe una calidad de datos óptima."
   ]
  },
  {
   "cell_type": "markdown",
   "metadata": {},
   "source": [
    "*Datos nulos del dataframe \"Checkin\"*"
   ]
  },
  {
   "cell_type": "code",
   "execution_count": 31,
   "metadata": {},
   "outputs": [
    {
     "data": {
      "text/plain": [
       "business_id    0\n",
       "hour           0\n",
       "date           0\n",
       "year           0\n",
       "month          0\n",
       "dtype: int64"
      ]
     },
     "execution_count": 31,
     "metadata": {},
     "output_type": "execute_result"
    }
   ],
   "source": [
    "checkin.isnull().sum()"
   ]
  },
  {
   "cell_type": "markdown",
   "metadata": {},
   "source": [
    "Se realizó una verificación de todas las columnas del dataframe \"checkin\" en busca de datos nulos. El resultado reveló la ausencia total de datos nulos, lo cual equivale a un 0%, lo que nos lleva a concluir que la calidad de los datos en este término es óptima."
   ]
  },
  {
   "cell_type": "markdown",
   "metadata": {},
   "source": [
    "*Datos nulos del dataframe \"reviews_yelp\"*"
   ]
  },
  {
   "cell_type": "code",
   "execution_count": 32,
   "metadata": {},
   "outputs": [
    {
     "data": {
      "text/plain": [
       "Unnamed: 0     0\n",
       "user_id        0\n",
       "stars          0\n",
       "useful         0\n",
       "funny          0\n",
       "cool           0\n",
       "text           0\n",
       "date           0\n",
       "id_review      0\n",
       "id_user        0\n",
       "id_business    0\n",
       "dtype: int64"
      ]
     },
     "execution_count": 32,
     "metadata": {},
     "output_type": "execute_result"
    }
   ],
   "source": [
    "reviews_yelp.isnull().sum()"
   ]
  },
  {
   "cell_type": "markdown",
   "metadata": {},
   "source": [
    "Se realizó una verificación de todas las columnas del dataframe \"reviews_yelp\" en busca de datos nulos. El resultado reveló la ausencia total de datos nulos, lo cual equivale a un 0%, lo que nos lleva a concluir que la calidad de los datos en este término es óptima."
   ]
  },
  {
   "cell_type": "markdown",
   "metadata": {},
   "source": [
    "*Datos nulos del dataframe \"tip\"*"
   ]
  },
  {
   "cell_type": "code",
   "execution_count": 33,
   "metadata": {},
   "outputs": [
    {
     "data": {
      "text/plain": [
       "id_user              0\n",
       "id_business          0\n",
       "text                17\n",
       "date                 0\n",
       "compliment_count     0\n",
       "dtype: int64"
      ]
     },
     "execution_count": 33,
     "metadata": {},
     "output_type": "execute_result"
    }
   ],
   "source": [
    "tip.isnull().sum()"
   ]
  },
  {
   "cell_type": "markdown",
   "metadata": {},
   "source": [
    "Tras un análisis del dataframe \"tip\" en busca de datos nulos, se encontraron 17 datos nulos en la columna \"text\" lo que equivale a un 0.0025% de un total de 677,143 datos en esa columna, sacando el promedio del total del dataframe se determinó que el 99.9994% de los datos NO son datos nulos. Por consiguiente, se concluye que el dataframe presenta una alta calidad de datos."
   ]
  },
  {
   "cell_type": "markdown",
   "metadata": {},
   "source": [
    "*Datos nulos del dataframe \"user_yelp\"*"
   ]
  },
  {
   "cell_type": "code",
   "execution_count": 34,
   "metadata": {},
   "outputs": [
    {
     "data": {
      "text/plain": [
       "                 0\n",
       "id_user          0\n",
       "years      1896699\n",
       "dtype: int64"
      ]
     },
     "execution_count": 34,
     "metadata": {},
     "output_type": "execute_result"
    }
   ],
   "source": [
    "user_yelp.isnull().sum()"
   ]
  },
  {
   "cell_type": "markdown",
   "metadata": {},
   "source": [
    "Después de analizar el dataframe \"user_yelp\" en busca de datos nulos, se encontraron 1,896,699 datos nulos en la columna \"years\" lo que equivale a un 83.29 % de un total de 2,277,195 datos en esa columna, sacando el promedio del total del dataframe se determinó que el 58.35% de los datos NO son datos nulos. Por consiguiente, se concluye que el dataframe presenta una baja calidad de datos."
   ]
  },
  {
   "cell_type": "markdown",
   "metadata": {},
   "source": [
    "**Verificación de datos duplicados de YELP**"
   ]
  },
  {
   "cell_type": "markdown",
   "metadata": {},
   "source": [
    "*Datos duplicados del dataframe \"business\""
   ]
  },
  {
   "cell_type": "code",
   "execution_count": 35,
   "metadata": {},
   "outputs": [
    {
     "data": {
      "text/html": [
       "<div>\n",
       "<style scoped>\n",
       "    .dataframe tbody tr th:only-of-type {\n",
       "        vertical-align: middle;\n",
       "    }\n",
       "\n",
       "    .dataframe tbody tr th {\n",
       "        vertical-align: top;\n",
       "    }\n",
       "\n",
       "    .dataframe thead th {\n",
       "        text-align: right;\n",
       "    }\n",
       "</style>\n",
       "<table border=\"1\" class=\"dataframe\">\n",
       "  <thead>\n",
       "    <tr style=\"text-align: right;\">\n",
       "      <th></th>\n",
       "      <th>id_business</th>\n",
       "      <th>name</th>\n",
       "      <th>address</th>\n",
       "      <th>city</th>\n",
       "      <th>state</th>\n",
       "      <th>postal_code</th>\n",
       "      <th>latitude</th>\n",
       "      <th>longitude</th>\n",
       "      <th>stars</th>\n",
       "      <th>review_count</th>\n",
       "      <th>is_open</th>\n",
       "      <th>attributes</th>\n",
       "      <th>categories</th>\n",
       "      <th>hours</th>\n",
       "    </tr>\n",
       "  </thead>\n",
       "  <tbody>\n",
       "    <tr>\n",
       "      <th>3</th>\n",
       "      <td>10</td>\n",
       "      <td>Famous Footwear</td>\n",
       "      <td>8522 Eager Road, Dierbergs Brentwood Point</td>\n",
       "      <td>Brentwood</td>\n",
       "      <td>New York</td>\n",
       "      <td>63144.0</td>\n",
       "      <td>38.627695</td>\n",
       "      <td>-90.340465</td>\n",
       "      <td>2.5</td>\n",
       "      <td>13</td>\n",
       "      <td>1</td>\n",
       "      <td>{'BusinessAcceptsCreditCards': 'True', 'Restau...</td>\n",
       "      <td>Sporting Goods, Fashion, Shoe Stores, Shopping...</td>\n",
       "      <td>{'Monday': '0:0-0:0', 'Tuesday': '10:0-18:0', ...</td>\n",
       "    </tr>\n",
       "    <tr>\n",
       "      <th>4</th>\n",
       "      <td>11</td>\n",
       "      <td>Famous Footwear</td>\n",
       "      <td>8522 Eager Road, Dierbergs Brentwood Point</td>\n",
       "      <td>Brentwood</td>\n",
       "      <td>California</td>\n",
       "      <td>63144.0</td>\n",
       "      <td>38.627695</td>\n",
       "      <td>-90.340465</td>\n",
       "      <td>2.5</td>\n",
       "      <td>13</td>\n",
       "      <td>1</td>\n",
       "      <td>{'BusinessAcceptsCreditCards': 'True', 'Restau...</td>\n",
       "      <td>Sporting Goods, Fashion, Shoe Stores, Shopping...</td>\n",
       "      <td>{'Monday': '0:0-0:0', 'Tuesday': '10:0-18:0', ...</td>\n",
       "    </tr>\n",
       "    <tr>\n",
       "      <th>5</th>\n",
       "      <td>13</td>\n",
       "      <td>Famous Footwear</td>\n",
       "      <td>8522 Eager Road, Dierbergs Brentwood Point</td>\n",
       "      <td>Brentwood</td>\n",
       "      <td>Pennsylvania</td>\n",
       "      <td>63144.0</td>\n",
       "      <td>38.627695</td>\n",
       "      <td>-90.340465</td>\n",
       "      <td>2.5</td>\n",
       "      <td>13</td>\n",
       "      <td>1</td>\n",
       "      <td>{'BusinessAcceptsCreditCards': 'True', 'Restau...</td>\n",
       "      <td>Sporting Goods, Fashion, Shoe Stores, Shopping...</td>\n",
       "      <td>{'Monday': '0:0-0:0', 'Tuesday': '10:0-18:0', ...</td>\n",
       "    </tr>\n",
       "    <tr>\n",
       "      <th>6</th>\n",
       "      <td>16</td>\n",
       "      <td>Temple Beth-El</td>\n",
       "      <td>400 Pasadena Ave S</td>\n",
       "      <td>St. Petersburg</td>\n",
       "      <td>Florida</td>\n",
       "      <td>33707.0</td>\n",
       "      <td>27.766590</td>\n",
       "      <td>-82.732983</td>\n",
       "      <td>3.5</td>\n",
       "      <td>5</td>\n",
       "      <td>1</td>\n",
       "      <td></td>\n",
       "      <td>Synagogues, Religious Organizations</td>\n",
       "      <td>{'Monday': '9:0-17:0', 'Tuesday': '9:0-17:0', ...</td>\n",
       "    </tr>\n",
       "    <tr>\n",
       "      <th>7</th>\n",
       "      <td>17</td>\n",
       "      <td>Temple Beth-El</td>\n",
       "      <td>400 Pasadena Ave S</td>\n",
       "      <td>St. Petersburg</td>\n",
       "      <td>Pennsylvania</td>\n",
       "      <td>33707.0</td>\n",
       "      <td>27.766590</td>\n",
       "      <td>-82.732983</td>\n",
       "      <td>3.5</td>\n",
       "      <td>5</td>\n",
       "      <td>1</td>\n",
       "      <td></td>\n",
       "      <td>Synagogues, Religious Organizations</td>\n",
       "      <td>{'Monday': '9:0-17:0', 'Tuesday': '9:0-17:0', ...</td>\n",
       "    </tr>\n",
       "    <tr>\n",
       "      <th>...</th>\n",
       "      <td>...</td>\n",
       "      <td>...</td>\n",
       "      <td>...</td>\n",
       "      <td>...</td>\n",
       "      <td>...</td>\n",
       "      <td>...</td>\n",
       "      <td>...</td>\n",
       "      <td>...</td>\n",
       "      <td>...</td>\n",
       "      <td>...</td>\n",
       "      <td>...</td>\n",
       "      <td>...</td>\n",
       "      <td>...</td>\n",
       "      <td>...</td>\n",
       "    </tr>\n",
       "    <tr>\n",
       "      <th>124747</th>\n",
       "      <td>528084</td>\n",
       "      <td>DeVons Jewelers</td>\n",
       "      <td>13981 S Virginia St, 402A</td>\n",
       "      <td>Reno</td>\n",
       "      <td>Nevada</td>\n",
       "      <td>89511.0</td>\n",
       "      <td>39.404552</td>\n",
       "      <td>-119.750986</td>\n",
       "      <td>5.0</td>\n",
       "      <td>34</td>\n",
       "      <td>1</td>\n",
       "      <td>{'BusinessParking': \"{'garage': False, 'street...</td>\n",
       "      <td>Shopping, Watches, Jewelry</td>\n",
       "      <td>{'Monday': '10:0-19:0', 'Tuesday': '10:0-19:0'...</td>\n",
       "    </tr>\n",
       "    <tr>\n",
       "      <th>124748</th>\n",
       "      <td>528085</td>\n",
       "      <td>DeVons Jewelers</td>\n",
       "      <td>13981 S Virginia St, 402A</td>\n",
       "      <td>Reno</td>\n",
       "      <td>Texas</td>\n",
       "      <td>89511.0</td>\n",
       "      <td>39.404552</td>\n",
       "      <td>-119.750986</td>\n",
       "      <td>5.0</td>\n",
       "      <td>34</td>\n",
       "      <td>1</td>\n",
       "      <td>{'BusinessParking': \"{'garage': False, 'street...</td>\n",
       "      <td>Shopping, Watches, Jewelry</td>\n",
       "      <td>{'Monday': '10:0-19:0', 'Tuesday': '10:0-19:0'...</td>\n",
       "    </tr>\n",
       "    <tr>\n",
       "      <th>124752</th>\n",
       "      <td>528109</td>\n",
       "      <td>The Plum Pit</td>\n",
       "      <td>4405 Pennell Rd</td>\n",
       "      <td>Easton</td>\n",
       "      <td>Pennsylvania</td>\n",
       "      <td>19014.0</td>\n",
       "      <td>39.856185</td>\n",
       "      <td>-75.427725</td>\n",
       "      <td>4.5</td>\n",
       "      <td>14</td>\n",
       "      <td>1</td>\n",
       "      <td>{'RestaurantsDelivery': 'False', 'BusinessAcce...</td>\n",
       "      <td>Restaurants, Comfort Food, Food, Food Trucks, ...</td>\n",
       "      <td>{'Monday': '0:0-0:0', 'Tuesday': '0:0-0:0', 'W...</td>\n",
       "    </tr>\n",
       "    <tr>\n",
       "      <th>124753</th>\n",
       "      <td>528111</td>\n",
       "      <td>The Plum Pit</td>\n",
       "      <td>4405 Pennell Rd</td>\n",
       "      <td>Easton</td>\n",
       "      <td>California</td>\n",
       "      <td>19014.0</td>\n",
       "      <td>39.856185</td>\n",
       "      <td>-75.427725</td>\n",
       "      <td>4.5</td>\n",
       "      <td>14</td>\n",
       "      <td>1</td>\n",
       "      <td>{'RestaurantsDelivery': 'False', 'BusinessAcce...</td>\n",
       "      <td>Restaurants, Comfort Food, Food, Food Trucks, ...</td>\n",
       "      <td>{'Monday': '0:0-0:0', 'Tuesday': '0:0-0:0', 'W...</td>\n",
       "    </tr>\n",
       "    <tr>\n",
       "      <th>124754</th>\n",
       "      <td>528112</td>\n",
       "      <td>The Plum Pit</td>\n",
       "      <td>4405 Pennell Rd</td>\n",
       "      <td>Easton</td>\n",
       "      <td>Texas</td>\n",
       "      <td>19014.0</td>\n",
       "      <td>39.856185</td>\n",
       "      <td>-75.427725</td>\n",
       "      <td>4.5</td>\n",
       "      <td>14</td>\n",
       "      <td>1</td>\n",
       "      <td>{'RestaurantsDelivery': 'False', 'BusinessAcce...</td>\n",
       "      <td>Restaurants, Comfort Food, Food, Food Trucks, ...</td>\n",
       "      <td>{'Monday': '0:0-0:0', 'Tuesday': '0:0-0:0', 'W...</td>\n",
       "    </tr>\n",
       "  </tbody>\n",
       "</table>\n",
       "<p>52143 rows × 14 columns</p>\n",
       "</div>"
      ],
      "text/plain": [
       "        id_business             name  \\\n",
       "3                10  Famous Footwear   \n",
       "4                11  Famous Footwear   \n",
       "5                13  Famous Footwear   \n",
       "6                16   Temple Beth-El   \n",
       "7                17   Temple Beth-El   \n",
       "...             ...              ...   \n",
       "124747       528084  DeVons Jewelers   \n",
       "124748       528085  DeVons Jewelers   \n",
       "124752       528109     The Plum Pit   \n",
       "124753       528111     The Plum Pit   \n",
       "124754       528112     The Plum Pit   \n",
       "\n",
       "                                           address            city  \\\n",
       "3       8522 Eager Road, Dierbergs Brentwood Point       Brentwood   \n",
       "4       8522 Eager Road, Dierbergs Brentwood Point       Brentwood   \n",
       "5       8522 Eager Road, Dierbergs Brentwood Point       Brentwood   \n",
       "6                               400 Pasadena Ave S  St. Petersburg   \n",
       "7                               400 Pasadena Ave S  St. Petersburg   \n",
       "...                                            ...             ...   \n",
       "124747                   13981 S Virginia St, 402A            Reno   \n",
       "124748                   13981 S Virginia St, 402A            Reno   \n",
       "124752                             4405 Pennell Rd          Easton   \n",
       "124753                             4405 Pennell Rd          Easton   \n",
       "124754                             4405 Pennell Rd          Easton   \n",
       "\n",
       "               state  postal_code   latitude   longitude  stars  review_count  \\\n",
       "3           New York      63144.0  38.627695  -90.340465    2.5            13   \n",
       "4         California      63144.0  38.627695  -90.340465    2.5            13   \n",
       "5       Pennsylvania      63144.0  38.627695  -90.340465    2.5            13   \n",
       "6            Florida      33707.0  27.766590  -82.732983    3.5             5   \n",
       "7       Pennsylvania      33707.0  27.766590  -82.732983    3.5             5   \n",
       "...              ...          ...        ...         ...    ...           ...   \n",
       "124747        Nevada      89511.0  39.404552 -119.750986    5.0            34   \n",
       "124748         Texas      89511.0  39.404552 -119.750986    5.0            34   \n",
       "124752  Pennsylvania      19014.0  39.856185  -75.427725    4.5            14   \n",
       "124753    California      19014.0  39.856185  -75.427725    4.5            14   \n",
       "124754         Texas      19014.0  39.856185  -75.427725    4.5            14   \n",
       "\n",
       "        is_open                                         attributes  \\\n",
       "3             1  {'BusinessAcceptsCreditCards': 'True', 'Restau...   \n",
       "4             1  {'BusinessAcceptsCreditCards': 'True', 'Restau...   \n",
       "5             1  {'BusinessAcceptsCreditCards': 'True', 'Restau...   \n",
       "6             1                                                      \n",
       "7             1                                                      \n",
       "...         ...                                                ...   \n",
       "124747        1  {'BusinessParking': \"{'garage': False, 'street...   \n",
       "124748        1  {'BusinessParking': \"{'garage': False, 'street...   \n",
       "124752        1  {'RestaurantsDelivery': 'False', 'BusinessAcce...   \n",
       "124753        1  {'RestaurantsDelivery': 'False', 'BusinessAcce...   \n",
       "124754        1  {'RestaurantsDelivery': 'False', 'BusinessAcce...   \n",
       "\n",
       "                                               categories  \\\n",
       "3       Sporting Goods, Fashion, Shoe Stores, Shopping...   \n",
       "4       Sporting Goods, Fashion, Shoe Stores, Shopping...   \n",
       "5       Sporting Goods, Fashion, Shoe Stores, Shopping...   \n",
       "6                     Synagogues, Religious Organizations   \n",
       "7                     Synagogues, Religious Organizations   \n",
       "...                                                   ...   \n",
       "124747                         Shopping, Watches, Jewelry   \n",
       "124748                         Shopping, Watches, Jewelry   \n",
       "124752  Restaurants, Comfort Food, Food, Food Trucks, ...   \n",
       "124753  Restaurants, Comfort Food, Food, Food Trucks, ...   \n",
       "124754  Restaurants, Comfort Food, Food, Food Trucks, ...   \n",
       "\n",
       "                                                    hours  \n",
       "3       {'Monday': '0:0-0:0', 'Tuesday': '10:0-18:0', ...  \n",
       "4       {'Monday': '0:0-0:0', 'Tuesday': '10:0-18:0', ...  \n",
       "5       {'Monday': '0:0-0:0', 'Tuesday': '10:0-18:0', ...  \n",
       "6       {'Monday': '9:0-17:0', 'Tuesday': '9:0-17:0', ...  \n",
       "7       {'Monday': '9:0-17:0', 'Tuesday': '9:0-17:0', ...  \n",
       "...                                                   ...  \n",
       "124747  {'Monday': '10:0-19:0', 'Tuesday': '10:0-19:0'...  \n",
       "124748  {'Monday': '10:0-19:0', 'Tuesday': '10:0-19:0'...  \n",
       "124752  {'Monday': '0:0-0:0', 'Tuesday': '0:0-0:0', 'W...  \n",
       "124753  {'Monday': '0:0-0:0', 'Tuesday': '0:0-0:0', 'W...  \n",
       "124754  {'Monday': '0:0-0:0', 'Tuesday': '0:0-0:0', 'W...  \n",
       "\n",
       "[52143 rows x 14 columns]"
      ]
     },
     "execution_count": 35,
     "metadata": {},
     "output_type": "execute_result"
    }
   ],
   "source": [
    "duplicados = business[business.duplicated(subset=['address', 'latitude', 'longitude'], keep=False) & ~business.duplicated(subset=['address', 'latitude', 'longitude', 'state'], keep=False)]\n",
    "duplicados"
   ]
  },
  {
   "cell_type": "code",
   "execution_count": 36,
   "metadata": {},
   "outputs": [
    {
     "data": {
      "text/plain": [
       "id_business  name                               address                                     city        state         postal_code  latitude   longitude    stars  review_count  is_open  attributes                                                                                                                                                                                                                                                                                                                                                                                                                                                                                                                                                                                                                                                                                                                                                                                                                                                                                                                                                                            categories                                                                                                           hours                                                                                                                                                                  \n",
       "11           Famous Footwear                    8522 Eager Road, Dierbergs Brentwood Point  Brentwood   California    63144.0      38.627695  -90.340465   2.5    13            1        {'BusinessAcceptsCreditCards': 'True', 'RestaurantsPriceRange2': '2', 'BikeParking': 'True', 'BusinessParking': \"{'garage': False, 'street': False, 'validated': False, 'lot': True, 'valet': False}\"}                                                                                                                                                                                                                                                                                                                                                                                                                                                                                                                                                                                                                                                                                                                                                                                Sporting Goods, Fashion, Shoe Stores, Shopping, Sports Wear, Accessories                                             {'Monday': '0:0-0:0', 'Tuesday': '10:0-18:0', 'Wednesday': '10:0-18:0', 'Thursday': '10:0-18:0', 'Friday': '10:0-18:0', 'Saturday': '10:0-18:0', 'Sunday': '12:0-18:0'}    1\n",
       "358925       Newark Farmers Market              2515 Kirkwood Hwy                           Newark      Texas         19711.0      39.705802  -75.688170   3.5    71            1        {'BusinessAcceptsCreditCards': 'True', 'BusinessParking': \"{'garage': False, 'street': False, 'validated': False, 'lot': True, 'valet': False}\", 'BikeParking': 'True', 'Caters': 'False', 'RestaurantsDelivery': 'True', 'WheelchairAccessible': 'True', 'RestaurantsPriceRange2': '2', 'RestaurantsTakeOut': 'True'}                                                                                                                                                                                                                                                                                                                                                                                                                                                                                                                                                                                                                                                                Farmers Market, Meat Shops, Grocery, Fruits & Veggies, Specialty Food, Food                                          {'Monday': '8:0-21:0', 'Tuesday': '8:0-21:0', 'Wednesday': '8:0-21:0', 'Thursday': '8:0-21:0', 'Friday': '8:0-21:0', 'Saturday': '8:0-21:0', 'Sunday': '8:0-20:0'}         1\n",
       "358965       True Line Tattoo                   412 N Whitehorse Pike                       Stratford   Texas         8084.0       39.837134  -75.009599   4.5    8             1        {'BusinessAcceptsCreditCards': 'True', 'ByAppointmentOnly': 'True'}                                                                                                                                                                                                                                                                                                                                                                                                                                                                                                                                                                                                                                                                                                                                                                                                                                                                                                                   Beauty & Spas, Tattoo                                                                                                                                                                                                                                                                           1\n",
       "358966       True Line Tattoo                   412 N Whitehorse Pike                       Stratford   California    8084.0       39.837134  -75.009599   4.5    8             1        {'BusinessAcceptsCreditCards': 'True', 'ByAppointmentOnly': 'True'}                                                                                                                                                                                                                                                                                                                                                                                                                                                                                                                                                                                                                                                                                                                                                                                                                                                                                                                   Beauty & Spas, Tattoo                                                                                                                                                                                                                                                                           1\n",
       "358979       Tamaras Painting Company                                                       Reno        Nevada        89511.0      39.380903  -119.927795  4.0    12            1                                                                                                                                                                                                                                                                                                                                                                                                                                                                                                                                                                                                                                                                                                                                                                                                                                                                                                                                                                                              Painters, Contractors, Home Services                                                                                 {'Monday': '8:0-18:0', 'Tuesday': '8:0-18:0', 'Wednesday': '8:0-18:0', 'Thursday': '8:0-18:0', 'Friday': '8:0-12:30'}                                                      1\n",
       "                                                                                                                                                                                                                                                                                                                                                                                                                                                                                                                                                                                                                                                                                                                                                                                                                                                                                                                                                                                                                                                                                                                                                                                                                                                                                                                                                                                                                                                                              ..\n",
       "185104       Pizza Box                          923 Central Ave                             Petersburg  Texas         33705.0      27.771356  -82.647390   4.5    297           1        {'RestaurantsAttire': \"'casual'\", 'DogsAllowed': 'False', 'BusinessParking': \"{'garage': False, 'street': True, 'validated': False, 'lot': False, 'valet': False}\", 'WheelchairAccessible': 'True', 'RestaurantsDelivery': 'True', 'Caters': 'False', 'BusinessAcceptsCreditCards': 'True', 'BusinessAcceptsBitcoin': 'False', 'Alcohol': \"u'beer_and_wine'\", 'WiFi': \"u'free'\", 'NoiseLevel': \"'average'\", 'HasTV': 'False', 'RestaurantsTableService': 'True', 'GoodForMeal': \"{'dessert': False, 'latenight': None, 'lunch': None, 'dinner': True, 'brunch': False, 'breakfast': False}\", 'Ambience': \"{'touristy': False, 'hipster': None, 'romantic': False, 'divey': None, 'intimate': None, 'trendy': True, 'upscale': False, 'classy': False, 'casual': True}\", 'RestaurantsPriceRange2': '2', 'RestaurantsReservations': 'False', 'BikeParking': 'True', 'RestaurantsTakeOut': 'True', 'OutdoorSeating': 'True', 'GoodForKids': 'True', 'RestaurantsGoodForGroups': 'True'}  American (New), Pizza, Restaurants, Local Flavor, Vegetarian                                                         {'Tuesday': '16:0-22:0', 'Wednesday': '16:0-22:0', 'Thursday': '16:0-22:0', 'Friday': '16:0-22:0', 'Saturday': '11:0-22:0'}                                                1\n",
       "185108       Pizza Box                          923 Central Ave                             Petersburg  Pennsylvania  33705.0      27.771356  -82.647390   4.5    297           1        {'RestaurantsAttire': \"'casual'\", 'DogsAllowed': 'False', 'BusinessParking': \"{'garage': False, 'street': True, 'validated': False, 'lot': False, 'valet': False}\", 'WheelchairAccessible': 'True', 'RestaurantsDelivery': 'True', 'Caters': 'False', 'BusinessAcceptsCreditCards': 'True', 'BusinessAcceptsBitcoin': 'False', 'Alcohol': \"u'beer_and_wine'\", 'WiFi': \"u'free'\", 'NoiseLevel': \"'average'\", 'HasTV': 'False', 'RestaurantsTableService': 'True', 'GoodForMeal': \"{'dessert': False, 'latenight': None, 'lunch': None, 'dinner': True, 'brunch': False, 'breakfast': False}\", 'Ambience': \"{'touristy': False, 'hipster': None, 'romantic': False, 'divey': None, 'intimate': None, 'trendy': True, 'upscale': False, 'classy': False, 'casual': True}\", 'RestaurantsPriceRange2': '2', 'RestaurantsReservations': 'False', 'BikeParking': 'True', 'RestaurantsTakeOut': 'True', 'OutdoorSeating': 'True', 'GoodForKids': 'True', 'RestaurantsGoodForGroups': 'True'}  American (New), Pizza, Restaurants, Local Flavor, Vegetarian                                                         {'Tuesday': '16:0-22:0', 'Wednesday': '16:0-22:0', 'Thursday': '16:0-22:0', 'Friday': '16:0-22:0', 'Saturday': '11:0-22:0'}                                                1\n",
       "185113       A1 Radiator Repair                 875 E 2nd St                                Reno        Texas         89502.0      39.527746  -119.798756  3.0    20            1        {'ByAppointmentOnly': 'True', 'BusinessAcceptsCreditCards': 'True'}                                                                                                                                                                                                                                                                                                                                                                                                                                                                                                                                                                                                                                                                                                                                                                                                                                                                                                                   Home Services, Auto Repair, Automotive, Auto Parts & Supplies, Heating & Air Conditioning/HVAC, Smog Check Stations  {'Monday': '7:0-17:0', 'Tuesday': '7:0-17:0', 'Wednesday': '7:0-17:0', 'Thursday': '7:0-17:0', 'Friday': '7:0-17:0'}                                                       1\n",
       "185121       7 Springs Orthopedics - Brentwood  317 Seven Springs Way, Ste 101              Brentwood   California    37027.0      36.041501  -86.767673   3.0    8             1        {'BusinessAcceptsCreditCards': 'True', 'ByAppointmentOnly': 'True', 'WiFi': \"u'free'\", 'AcceptsInsurance': 'True'}                                                                                                                                                                                                                                                                                                                                                                                                                                                                                                                                                                                                                                                                                                                                                                                                                                                                    Osteopathic Physicians, Sports Medicine, Doctors, Health & Medical, Orthopedists, Physical Therapy                   {'Monday': '8:0-17:0', 'Tuesday': '8:0-17:0', 'Wednesday': '8:0-17:0', 'Thursday': '8:0-17:0', 'Friday': '8:0-17:0'}                                                       1\n",
       "528112       The Plum Pit                       4405 Pennell Rd                             Easton      Texas         19014.0      39.856185  -75.427725   4.5    14            1        {'RestaurantsDelivery': 'False', 'BusinessAcceptsBitcoin': 'False', 'Alcohol': \"'none'\", 'BusinessParking': \"{'garage': False, 'street': True, 'validated': False, 'lot': False, 'valet': False}\", 'WheelchairAccessible': 'True', 'Caters': 'True', 'BusinessAcceptsCreditCards': 'True', 'BikeParking': 'True', 'RestaurantsPriceRange2': '1', 'RestaurantsTakeOut': 'True'}                                                                                                                                                                                                                                                                                                                                                                                                                                                                                                                                                                                                        Restaurants, Comfort Food, Food, Food Trucks, Caterers, Event Planning & Services                                    {'Monday': '0:0-0:0', 'Tuesday': '0:0-0:0', 'Wednesday': '0:0-0:0', 'Thursday': '0:0-0:0', 'Friday': '0:0-0:0', 'Saturday': '0:0-0:0', 'Sunday': '0:0-0:0'}                1\n",
       "Name: count, Length: 42542, dtype: int64"
      ]
     },
     "execution_count": 36,
     "metadata": {},
     "output_type": "execute_result"
    }
   ],
   "source": [
    "duplicados = business[business.duplicated(subset='address') & business.duplicated(subset='latitude') & business.duplicated(subset='longitude')].value_counts()\n",
    "duplicados"
   ]
  },
  {
   "cell_type": "code",
   "execution_count": 37,
   "metadata": {},
   "outputs": [
    {
     "data": {
      "text/html": [
       "<div>\n",
       "<style scoped>\n",
       "    .dataframe tbody tr th:only-of-type {\n",
       "        vertical-align: middle;\n",
       "    }\n",
       "\n",
       "    .dataframe tbody tr th {\n",
       "        vertical-align: top;\n",
       "    }\n",
       "\n",
       "    .dataframe thead th {\n",
       "        text-align: right;\n",
       "    }\n",
       "</style>\n",
       "<table border=\"1\" class=\"dataframe\">\n",
       "  <thead>\n",
       "    <tr style=\"text-align: right;\">\n",
       "      <th></th>\n",
       "      <th>id_business</th>\n",
       "      <th>name</th>\n",
       "      <th>address</th>\n",
       "      <th>city</th>\n",
       "      <th>state</th>\n",
       "      <th>postal_code</th>\n",
       "      <th>latitude</th>\n",
       "      <th>longitude</th>\n",
       "      <th>stars</th>\n",
       "      <th>review_count</th>\n",
       "      <th>is_open</th>\n",
       "      <th>attributes</th>\n",
       "      <th>categories</th>\n",
       "      <th>hours</th>\n",
       "    </tr>\n",
       "  </thead>\n",
       "  <tbody>\n",
       "    <tr>\n",
       "      <th>3</th>\n",
       "      <td>10</td>\n",
       "      <td>Famous Footwear</td>\n",
       "      <td>8522 Eager Road, Dierbergs Brentwood Point</td>\n",
       "      <td>Brentwood</td>\n",
       "      <td>New York</td>\n",
       "      <td>63144.0</td>\n",
       "      <td>38.627695</td>\n",
       "      <td>-90.340465</td>\n",
       "      <td>2.5</td>\n",
       "      <td>13</td>\n",
       "      <td>1</td>\n",
       "      <td>{'BusinessAcceptsCreditCards': 'True', 'Restau...</td>\n",
       "      <td>Sporting Goods, Fashion, Shoe Stores, Shopping...</td>\n",
       "      <td>{'Monday': '0:0-0:0', 'Tuesday': '10:0-18:0', ...</td>\n",
       "    </tr>\n",
       "    <tr>\n",
       "      <th>4</th>\n",
       "      <td>11</td>\n",
       "      <td>Famous Footwear</td>\n",
       "      <td>8522 Eager Road, Dierbergs Brentwood Point</td>\n",
       "      <td>Brentwood</td>\n",
       "      <td>California</td>\n",
       "      <td>63144.0</td>\n",
       "      <td>38.627695</td>\n",
       "      <td>-90.340465</td>\n",
       "      <td>2.5</td>\n",
       "      <td>13</td>\n",
       "      <td>1</td>\n",
       "      <td>{'BusinessAcceptsCreditCards': 'True', 'Restau...</td>\n",
       "      <td>Sporting Goods, Fashion, Shoe Stores, Shopping...</td>\n",
       "      <td>{'Monday': '0:0-0:0', 'Tuesday': '10:0-18:0', ...</td>\n",
       "    </tr>\n",
       "    <tr>\n",
       "      <th>5</th>\n",
       "      <td>13</td>\n",
       "      <td>Famous Footwear</td>\n",
       "      <td>8522 Eager Road, Dierbergs Brentwood Point</td>\n",
       "      <td>Brentwood</td>\n",
       "      <td>Pennsylvania</td>\n",
       "      <td>63144.0</td>\n",
       "      <td>38.627695</td>\n",
       "      <td>-90.340465</td>\n",
       "      <td>2.5</td>\n",
       "      <td>13</td>\n",
       "      <td>1</td>\n",
       "      <td>{'BusinessAcceptsCreditCards': 'True', 'Restau...</td>\n",
       "      <td>Sporting Goods, Fashion, Shoe Stores, Shopping...</td>\n",
       "      <td>{'Monday': '0:0-0:0', 'Tuesday': '10:0-18:0', ...</td>\n",
       "    </tr>\n",
       "  </tbody>\n",
       "</table>\n",
       "</div>"
      ],
      "text/plain": [
       "   id_business             name                                     address  \\\n",
       "3           10  Famous Footwear  8522 Eager Road, Dierbergs Brentwood Point   \n",
       "4           11  Famous Footwear  8522 Eager Road, Dierbergs Brentwood Point   \n",
       "5           13  Famous Footwear  8522 Eager Road, Dierbergs Brentwood Point   \n",
       "\n",
       "        city         state  postal_code   latitude  longitude  stars  \\\n",
       "3  Brentwood      New York      63144.0  38.627695 -90.340465    2.5   \n",
       "4  Brentwood    California      63144.0  38.627695 -90.340465    2.5   \n",
       "5  Brentwood  Pennsylvania      63144.0  38.627695 -90.340465    2.5   \n",
       "\n",
       "   review_count  is_open                                         attributes  \\\n",
       "3            13        1  {'BusinessAcceptsCreditCards': 'True', 'Restau...   \n",
       "4            13        1  {'BusinessAcceptsCreditCards': 'True', 'Restau...   \n",
       "5            13        1  {'BusinessAcceptsCreditCards': 'True', 'Restau...   \n",
       "\n",
       "                                          categories  \\\n",
       "3  Sporting Goods, Fashion, Shoe Stores, Shopping...   \n",
       "4  Sporting Goods, Fashion, Shoe Stores, Shopping...   \n",
       "5  Sporting Goods, Fashion, Shoe Stores, Shopping...   \n",
       "\n",
       "                                               hours  \n",
       "3  {'Monday': '0:0-0:0', 'Tuesday': '10:0-18:0', ...  \n",
       "4  {'Monday': '0:0-0:0', 'Tuesday': '10:0-18:0', ...  \n",
       "5  {'Monday': '0:0-0:0', 'Tuesday': '10:0-18:0', ...  "
      ]
     },
     "execution_count": 37,
     "metadata": {},
     "output_type": "execute_result"
    }
   ],
   "source": [
    "business[business['address'] == '8522 Eager Road, Dierbergs Brentwood Point']"
   ]
  },
  {
   "cell_type": "markdown",
   "metadata": {},
   "source": [
    "En la verificación de datos duplicados se encontró con datos duplicados tienen una misma dirección, misma latitud, longitud pero diferente Estado, pudiendo considerar que existe algún tipo de irregularidad en esos registros, los cuales son 42,542 equivalente a un 34.09%de un total de 124,757. Teniendo un 82.95% de datos que no se encuentra duplicados, considerando la calidad de los datos como media."
   ]
  },
  {
   "cell_type": "markdown",
   "metadata": {},
   "source": [
    "*Datos duplicados del dataframe \"checkin\"*"
   ]
  },
  {
   "cell_type": "code",
   "execution_count": 38,
   "metadata": {},
   "outputs": [
    {
     "data": {
      "text/plain": [
       "id_business  name                               address                                     city        state         postal_code  latitude   longitude    stars  review_count  is_open  attributes                                                                                                                                                                                                                                                                                                                                                                                                                                                                                                                                                                                                                                                                                                                                                                                                                                                                                                                                                                            categories                                                                                                           hours                                                                                                                                                                  \n",
       "11           Famous Footwear                    8522 Eager Road, Dierbergs Brentwood Point  Brentwood   California    63144.0      38.627695  -90.340465   2.5    13            1        {'BusinessAcceptsCreditCards': 'True', 'RestaurantsPriceRange2': '2', 'BikeParking': 'True', 'BusinessParking': \"{'garage': False, 'street': False, 'validated': False, 'lot': True, 'valet': False}\"}                                                                                                                                                                                                                                                                                                                                                                                                                                                                                                                                                                                                                                                                                                                                                                                Sporting Goods, Fashion, Shoe Stores, Shopping, Sports Wear, Accessories                                             {'Monday': '0:0-0:0', 'Tuesday': '10:0-18:0', 'Wednesday': '10:0-18:0', 'Thursday': '10:0-18:0', 'Friday': '10:0-18:0', 'Saturday': '10:0-18:0', 'Sunday': '12:0-18:0'}    1\n",
       "358925       Newark Farmers Market              2515 Kirkwood Hwy                           Newark      Texas         19711.0      39.705802  -75.688170   3.5    71            1        {'BusinessAcceptsCreditCards': 'True', 'BusinessParking': \"{'garage': False, 'street': False, 'validated': False, 'lot': True, 'valet': False}\", 'BikeParking': 'True', 'Caters': 'False', 'RestaurantsDelivery': 'True', 'WheelchairAccessible': 'True', 'RestaurantsPriceRange2': '2', 'RestaurantsTakeOut': 'True'}                                                                                                                                                                                                                                                                                                                                                                                                                                                                                                                                                                                                                                                                Farmers Market, Meat Shops, Grocery, Fruits & Veggies, Specialty Food, Food                                          {'Monday': '8:0-21:0', 'Tuesday': '8:0-21:0', 'Wednesday': '8:0-21:0', 'Thursday': '8:0-21:0', 'Friday': '8:0-21:0', 'Saturday': '8:0-21:0', 'Sunday': '8:0-20:0'}         1\n",
       "358965       True Line Tattoo                   412 N Whitehorse Pike                       Stratford   Texas         8084.0       39.837134  -75.009599   4.5    8             1        {'BusinessAcceptsCreditCards': 'True', 'ByAppointmentOnly': 'True'}                                                                                                                                                                                                                                                                                                                                                                                                                                                                                                                                                                                                                                                                                                                                                                                                                                                                                                                   Beauty & Spas, Tattoo                                                                                                                                                                                                                                                                           1\n",
       "358966       True Line Tattoo                   412 N Whitehorse Pike                       Stratford   California    8084.0       39.837134  -75.009599   4.5    8             1        {'BusinessAcceptsCreditCards': 'True', 'ByAppointmentOnly': 'True'}                                                                                                                                                                                                                                                                                                                                                                                                                                                                                                                                                                                                                                                                                                                                                                                                                                                                                                                   Beauty & Spas, Tattoo                                                                                                                                                                                                                                                                           1\n",
       "358979       Tamaras Painting Company                                                       Reno        Nevada        89511.0      39.380903  -119.927795  4.0    12            1                                                                                                                                                                                                                                                                                                                                                                                                                                                                                                                                                                                                                                                                                                                                                                                                                                                                                                                                                                                              Painters, Contractors, Home Services                                                                                 {'Monday': '8:0-18:0', 'Tuesday': '8:0-18:0', 'Wednesday': '8:0-18:0', 'Thursday': '8:0-18:0', 'Friday': '8:0-12:30'}                                                      1\n",
       "                                                                                                                                                                                                                                                                                                                                                                                                                                                                                                                                                                                                                                                                                                                                                                                                                                                                                                                                                                                                                                                                                                                                                                                                                                                                                                                                                                                                                                                                              ..\n",
       "185104       Pizza Box                          923 Central Ave                             Petersburg  Texas         33705.0      27.771356  -82.647390   4.5    297           1        {'RestaurantsAttire': \"'casual'\", 'DogsAllowed': 'False', 'BusinessParking': \"{'garage': False, 'street': True, 'validated': False, 'lot': False, 'valet': False}\", 'WheelchairAccessible': 'True', 'RestaurantsDelivery': 'True', 'Caters': 'False', 'BusinessAcceptsCreditCards': 'True', 'BusinessAcceptsBitcoin': 'False', 'Alcohol': \"u'beer_and_wine'\", 'WiFi': \"u'free'\", 'NoiseLevel': \"'average'\", 'HasTV': 'False', 'RestaurantsTableService': 'True', 'GoodForMeal': \"{'dessert': False, 'latenight': None, 'lunch': None, 'dinner': True, 'brunch': False, 'breakfast': False}\", 'Ambience': \"{'touristy': False, 'hipster': None, 'romantic': False, 'divey': None, 'intimate': None, 'trendy': True, 'upscale': False, 'classy': False, 'casual': True}\", 'RestaurantsPriceRange2': '2', 'RestaurantsReservations': 'False', 'BikeParking': 'True', 'RestaurantsTakeOut': 'True', 'OutdoorSeating': 'True', 'GoodForKids': 'True', 'RestaurantsGoodForGroups': 'True'}  American (New), Pizza, Restaurants, Local Flavor, Vegetarian                                                         {'Tuesday': '16:0-22:0', 'Wednesday': '16:0-22:0', 'Thursday': '16:0-22:0', 'Friday': '16:0-22:0', 'Saturday': '11:0-22:0'}                                                1\n",
       "185108       Pizza Box                          923 Central Ave                             Petersburg  Pennsylvania  33705.0      27.771356  -82.647390   4.5    297           1        {'RestaurantsAttire': \"'casual'\", 'DogsAllowed': 'False', 'BusinessParking': \"{'garage': False, 'street': True, 'validated': False, 'lot': False, 'valet': False}\", 'WheelchairAccessible': 'True', 'RestaurantsDelivery': 'True', 'Caters': 'False', 'BusinessAcceptsCreditCards': 'True', 'BusinessAcceptsBitcoin': 'False', 'Alcohol': \"u'beer_and_wine'\", 'WiFi': \"u'free'\", 'NoiseLevel': \"'average'\", 'HasTV': 'False', 'RestaurantsTableService': 'True', 'GoodForMeal': \"{'dessert': False, 'latenight': None, 'lunch': None, 'dinner': True, 'brunch': False, 'breakfast': False}\", 'Ambience': \"{'touristy': False, 'hipster': None, 'romantic': False, 'divey': None, 'intimate': None, 'trendy': True, 'upscale': False, 'classy': False, 'casual': True}\", 'RestaurantsPriceRange2': '2', 'RestaurantsReservations': 'False', 'BikeParking': 'True', 'RestaurantsTakeOut': 'True', 'OutdoorSeating': 'True', 'GoodForKids': 'True', 'RestaurantsGoodForGroups': 'True'}  American (New), Pizza, Restaurants, Local Flavor, Vegetarian                                                         {'Tuesday': '16:0-22:0', 'Wednesday': '16:0-22:0', 'Thursday': '16:0-22:0', 'Friday': '16:0-22:0', 'Saturday': '11:0-22:0'}                                                1\n",
       "185113       A1 Radiator Repair                 875 E 2nd St                                Reno        Texas         89502.0      39.527746  -119.798756  3.0    20            1        {'ByAppointmentOnly': 'True', 'BusinessAcceptsCreditCards': 'True'}                                                                                                                                                                                                                                                                                                                                                                                                                                                                                                                                                                                                                                                                                                                                                                                                                                                                                                                   Home Services, Auto Repair, Automotive, Auto Parts & Supplies, Heating & Air Conditioning/HVAC, Smog Check Stations  {'Monday': '7:0-17:0', 'Tuesday': '7:0-17:0', 'Wednesday': '7:0-17:0', 'Thursday': '7:0-17:0', 'Friday': '7:0-17:0'}                                                       1\n",
       "185121       7 Springs Orthopedics - Brentwood  317 Seven Springs Way, Ste 101              Brentwood   California    37027.0      36.041501  -86.767673   3.0    8             1        {'BusinessAcceptsCreditCards': 'True', 'ByAppointmentOnly': 'True', 'WiFi': \"u'free'\", 'AcceptsInsurance': 'True'}                                                                                                                                                                                                                                                                                                                                                                                                                                                                                                                                                                                                                                                                                                                                                                                                                                                                    Osteopathic Physicians, Sports Medicine, Doctors, Health & Medical, Orthopedists, Physical Therapy                   {'Monday': '8:0-17:0', 'Tuesday': '8:0-17:0', 'Wednesday': '8:0-17:0', 'Thursday': '8:0-17:0', 'Friday': '8:0-17:0'}                                                       1\n",
       "528112       The Plum Pit                       4405 Pennell Rd                             Easton      Texas         19014.0      39.856185  -75.427725   4.5    14            1        {'RestaurantsDelivery': 'False', 'BusinessAcceptsBitcoin': 'False', 'Alcohol': \"'none'\", 'BusinessParking': \"{'garage': False, 'street': True, 'validated': False, 'lot': False, 'valet': False}\", 'WheelchairAccessible': 'True', 'Caters': 'True', 'BusinessAcceptsCreditCards': 'True', 'BikeParking': 'True', 'RestaurantsPriceRange2': '1', 'RestaurantsTakeOut': 'True'}                                                                                                                                                                                                                                                                                                                                                                                                                                                                                                                                                                                                        Restaurants, Comfort Food, Food, Food Trucks, Caterers, Event Planning & Services                                    {'Monday': '0:0-0:0', 'Tuesday': '0:0-0:0', 'Wednesday': '0:0-0:0', 'Thursday': '0:0-0:0', 'Friday': '0:0-0:0', 'Saturday': '0:0-0:0', 'Sunday': '0:0-0:0'}                1\n",
       "Name: count, Length: 42542, dtype: int64"
      ]
     },
     "execution_count": 38,
     "metadata": {},
     "output_type": "execute_result"
    }
   ],
   "source": [
    "duplicados1 = checkin[checkin.duplicated(subset=['business_id', 'hour', 'date'], keep=False)]\n",
    "duplicados"
   ]
  },
  {
   "cell_type": "markdown",
   "metadata": {},
   "source": [
    "Una vez terminada la verificación de los datos duplicados en el dataframe “checkin” se encontraron la cantidad de 7042 de datos duplicados equivalente a un 0.0527% de un total 13,356,875. Con lo cual concluimos que el 99.964% de los datos NO son duplicados, teniendo una calidad buena de datos."
   ]
  },
  {
   "cell_type": "markdown",
   "metadata": {},
   "source": [
    "*Duplicados del dataframe \"reviews_yelp\"*"
   ]
  },
  {
   "cell_type": "code",
   "execution_count": 39,
   "metadata": {},
   "outputs": [
    {
     "data": {
      "text/html": [
       "<div>\n",
       "<style scoped>\n",
       "    .dataframe tbody tr th:only-of-type {\n",
       "        vertical-align: middle;\n",
       "    }\n",
       "\n",
       "    .dataframe tbody tr th {\n",
       "        vertical-align: top;\n",
       "    }\n",
       "\n",
       "    .dataframe thead th {\n",
       "        text-align: right;\n",
       "    }\n",
       "</style>\n",
       "<table border=\"1\" class=\"dataframe\">\n",
       "  <thead>\n",
       "    <tr style=\"text-align: right;\">\n",
       "      <th></th>\n",
       "      <th>Unnamed: 0</th>\n",
       "      <th>user_id</th>\n",
       "      <th>stars</th>\n",
       "      <th>useful</th>\n",
       "      <th>funny</th>\n",
       "      <th>cool</th>\n",
       "      <th>text</th>\n",
       "      <th>date</th>\n",
       "      <th>id_review</th>\n",
       "      <th>id_user</th>\n",
       "      <th>id_business</th>\n",
       "    </tr>\n",
       "  </thead>\n",
       "  <tbody>\n",
       "    <tr>\n",
       "      <th>20</th>\n",
       "      <td>20</td>\n",
       "      <td>yFuE8SPF-d1GXJUWYgKtzg</td>\n",
       "      <td>5.0</td>\n",
       "      <td>0</td>\n",
       "      <td>0</td>\n",
       "      <td>0</td>\n",
       "      <td>Took my vehicle here for some work a few years...</td>\n",
       "      <td>2017-05-13 14:15:29</td>\n",
       "      <td>33</td>\n",
       "      <td>196014</td>\n",
       "      <td>14540</td>\n",
       "    </tr>\n",
       "    <tr>\n",
       "      <th>21</th>\n",
       "      <td>21</td>\n",
       "      <td>yFuE8SPF-d1GXJUWYgKtzg</td>\n",
       "      <td>5.0</td>\n",
       "      <td>0</td>\n",
       "      <td>0</td>\n",
       "      <td>0</td>\n",
       "      <td>Took my vehicle here for some work a few years...</td>\n",
       "      <td>2017-05-13 14:15:29</td>\n",
       "      <td>33</td>\n",
       "      <td>196014</td>\n",
       "      <td>14541</td>\n",
       "    </tr>\n",
       "    <tr>\n",
       "      <th>23</th>\n",
       "      <td>23</td>\n",
       "      <td>wA7V8Ijgbv-16rmnwW-hjA</td>\n",
       "      <td>5.0</td>\n",
       "      <td>4</td>\n",
       "      <td>0</td>\n",
       "      <td>0</td>\n",
       "      <td>Nice relaxing place to get a massage! Same day...</td>\n",
       "      <td>2013-11-14 04:02:52</td>\n",
       "      <td>36</td>\n",
       "      <td>91235</td>\n",
       "      <td>4931</td>\n",
       "    </tr>\n",
       "    <tr>\n",
       "      <th>24</th>\n",
       "      <td>24</td>\n",
       "      <td>wA7V8Ijgbv-16rmnwW-hjA</td>\n",
       "      <td>5.0</td>\n",
       "      <td>4</td>\n",
       "      <td>0</td>\n",
       "      <td>0</td>\n",
       "      <td>Nice relaxing place to get a massage! Same day...</td>\n",
       "      <td>2013-11-14 04:02:52</td>\n",
       "      <td>36</td>\n",
       "      <td>91235</td>\n",
       "      <td>4932</td>\n",
       "    </tr>\n",
       "    <tr>\n",
       "      <th>25</th>\n",
       "      <td>25</td>\n",
       "      <td>qEEk0PuoH1dVa619t8fgpw</td>\n",
       "      <td>4.0</td>\n",
       "      <td>0</td>\n",
       "      <td>0</td>\n",
       "      <td>0</td>\n",
       "      <td>We checked in around 2:30 pm.  Check-in was qu...</td>\n",
       "      <td>2017-09-20 16:16:47</td>\n",
       "      <td>37</td>\n",
       "      <td>102538</td>\n",
       "      <td>33140</td>\n",
       "    </tr>\n",
       "    <tr>\n",
       "      <th>...</th>\n",
       "      <td>...</td>\n",
       "      <td>...</td>\n",
       "      <td>...</td>\n",
       "      <td>...</td>\n",
       "      <td>...</td>\n",
       "      <td>...</td>\n",
       "      <td>...</td>\n",
       "      <td>...</td>\n",
       "      <td>...</td>\n",
       "      <td>...</td>\n",
       "      <td>...</td>\n",
       "    </tr>\n",
       "    <tr>\n",
       "      <th>5468226</th>\n",
       "      <td>5468226</td>\n",
       "      <td>Mc4C7fVY0sEcD-U5eOA2Og</td>\n",
       "      <td>3.0</td>\n",
       "      <td>5</td>\n",
       "      <td>0</td>\n",
       "      <td>1</td>\n",
       "      <td>This gym gets the job done. \\n\\nUpsides: \\nChi...</td>\n",
       "      <td>2016-01-25 21:45:34</td>\n",
       "      <td>6990267</td>\n",
       "      <td>7747</td>\n",
       "      <td>477270</td>\n",
       "    </tr>\n",
       "    <tr>\n",
       "      <th>5468228</th>\n",
       "      <td>5468228</td>\n",
       "      <td>QIXYkyAbTvgePUOH0-cRFg</td>\n",
       "      <td>2.0</td>\n",
       "      <td>0</td>\n",
       "      <td>0</td>\n",
       "      <td>0</td>\n",
       "      <td>The front desk staff is very good and they hav...</td>\n",
       "      <td>2008-09-23 02:52:37</td>\n",
       "      <td>6990271</td>\n",
       "      <td>782062</td>\n",
       "      <td>517723</td>\n",
       "    </tr>\n",
       "    <tr>\n",
       "      <th>5468229</th>\n",
       "      <td>5468229</td>\n",
       "      <td>QIXYkyAbTvgePUOH0-cRFg</td>\n",
       "      <td>2.0</td>\n",
       "      <td>0</td>\n",
       "      <td>0</td>\n",
       "      <td>0</td>\n",
       "      <td>The front desk staff is very good and they hav...</td>\n",
       "      <td>2008-09-23 02:52:37</td>\n",
       "      <td>6990271</td>\n",
       "      <td>782062</td>\n",
       "      <td>517724</td>\n",
       "    </tr>\n",
       "    <tr>\n",
       "      <th>5468233</th>\n",
       "      <td>5468233</td>\n",
       "      <td>mm6E4FbCMwJmb7kPDZ5v2Q</td>\n",
       "      <td>4.0</td>\n",
       "      <td>1</td>\n",
       "      <td>0</td>\n",
       "      <td>0</td>\n",
       "      <td>This Home Depot won me over when I needed to g...</td>\n",
       "      <td>2019-12-30 03:56:30</td>\n",
       "      <td>6990277</td>\n",
       "      <td>116945</td>\n",
       "      <td>525306</td>\n",
       "    </tr>\n",
       "    <tr>\n",
       "      <th>5468234</th>\n",
       "      <td>5468234</td>\n",
       "      <td>mm6E4FbCMwJmb7kPDZ5v2Q</td>\n",
       "      <td>4.0</td>\n",
       "      <td>1</td>\n",
       "      <td>0</td>\n",
       "      <td>0</td>\n",
       "      <td>This Home Depot won me over when I needed to g...</td>\n",
       "      <td>2019-12-30 03:56:30</td>\n",
       "      <td>6990277</td>\n",
       "      <td>116945</td>\n",
       "      <td>525307</td>\n",
       "    </tr>\n",
       "  </tbody>\n",
       "</table>\n",
       "<p>2497209 rows × 11 columns</p>\n",
       "</div>"
      ],
      "text/plain": [
       "         Unnamed: 0                 user_id  stars  useful  funny  cool  \\\n",
       "20               20  yFuE8SPF-d1GXJUWYgKtzg    5.0       0      0     0   \n",
       "21               21  yFuE8SPF-d1GXJUWYgKtzg    5.0       0      0     0   \n",
       "23               23  wA7V8Ijgbv-16rmnwW-hjA    5.0       4      0     0   \n",
       "24               24  wA7V8Ijgbv-16rmnwW-hjA    5.0       4      0     0   \n",
       "25               25  qEEk0PuoH1dVa619t8fgpw    4.0       0      0     0   \n",
       "...             ...                     ...    ...     ...    ...   ...   \n",
       "5468226     5468226  Mc4C7fVY0sEcD-U5eOA2Og    3.0       5      0     1   \n",
       "5468228     5468228  QIXYkyAbTvgePUOH0-cRFg    2.0       0      0     0   \n",
       "5468229     5468229  QIXYkyAbTvgePUOH0-cRFg    2.0       0      0     0   \n",
       "5468233     5468233  mm6E4FbCMwJmb7kPDZ5v2Q    4.0       1      0     0   \n",
       "5468234     5468234  mm6E4FbCMwJmb7kPDZ5v2Q    4.0       1      0     0   \n",
       "\n",
       "                                                      text  \\\n",
       "20       Took my vehicle here for some work a few years...   \n",
       "21       Took my vehicle here for some work a few years...   \n",
       "23       Nice relaxing place to get a massage! Same day...   \n",
       "24       Nice relaxing place to get a massage! Same day...   \n",
       "25       We checked in around 2:30 pm.  Check-in was qu...   \n",
       "...                                                    ...   \n",
       "5468226  This gym gets the job done. \\n\\nUpsides: \\nChi...   \n",
       "5468228  The front desk staff is very good and they hav...   \n",
       "5468229  The front desk staff is very good and they hav...   \n",
       "5468233  This Home Depot won me over when I needed to g...   \n",
       "5468234  This Home Depot won me over when I needed to g...   \n",
       "\n",
       "                        date  id_review  id_user  id_business  \n",
       "20       2017-05-13 14:15:29         33   196014        14540  \n",
       "21       2017-05-13 14:15:29         33   196014        14541  \n",
       "23       2013-11-14 04:02:52         36    91235         4931  \n",
       "24       2013-11-14 04:02:52         36    91235         4932  \n",
       "25       2017-09-20 16:16:47         37   102538        33140  \n",
       "...                      ...        ...      ...          ...  \n",
       "5468226  2016-01-25 21:45:34    6990267     7747       477270  \n",
       "5468228  2008-09-23 02:52:37    6990271   782062       517723  \n",
       "5468229  2008-09-23 02:52:37    6990271   782062       517724  \n",
       "5468233  2019-12-30 03:56:30    6990277   116945       525306  \n",
       "5468234  2019-12-30 03:56:30    6990277   116945       525307  \n",
       "\n",
       "[2497209 rows x 11 columns]"
      ]
     },
     "execution_count": 39,
     "metadata": {},
     "output_type": "execute_result"
    }
   ],
   "source": [
    "duplicados = reviews_yelp[reviews_yelp.duplicated(subset=['user_id','date'], keep=False)]\n",
    "duplicados"
   ]
  },
  {
   "cell_type": "code",
   "execution_count": 40,
   "metadata": {},
   "outputs": [
    {
     "data": {
      "text/html": [
       "<div>\n",
       "<style scoped>\n",
       "    .dataframe tbody tr th:only-of-type {\n",
       "        vertical-align: middle;\n",
       "    }\n",
       "\n",
       "    .dataframe tbody tr th {\n",
       "        vertical-align: top;\n",
       "    }\n",
       "\n",
       "    .dataframe thead th {\n",
       "        text-align: right;\n",
       "    }\n",
       "</style>\n",
       "<table border=\"1\" class=\"dataframe\">\n",
       "  <thead>\n",
       "    <tr style=\"text-align: right;\">\n",
       "      <th></th>\n",
       "      <th>Unnamed: 0</th>\n",
       "      <th>user_id</th>\n",
       "      <th>stars</th>\n",
       "      <th>useful</th>\n",
       "      <th>funny</th>\n",
       "      <th>cool</th>\n",
       "      <th>text</th>\n",
       "      <th>date</th>\n",
       "      <th>id_review</th>\n",
       "      <th>id_user</th>\n",
       "      <th>id_business</th>\n",
       "    </tr>\n",
       "  </thead>\n",
       "  <tbody>\n",
       "    <tr>\n",
       "      <th>20</th>\n",
       "      <td>20</td>\n",
       "      <td>yFuE8SPF-d1GXJUWYgKtzg</td>\n",
       "      <td>5.0</td>\n",
       "      <td>0</td>\n",
       "      <td>0</td>\n",
       "      <td>0</td>\n",
       "      <td>Took my vehicle here for some work a few years...</td>\n",
       "      <td>2017-05-13 14:15:29</td>\n",
       "      <td>33</td>\n",
       "      <td>196014</td>\n",
       "      <td>14540</td>\n",
       "    </tr>\n",
       "    <tr>\n",
       "      <th>21</th>\n",
       "      <td>21</td>\n",
       "      <td>yFuE8SPF-d1GXJUWYgKtzg</td>\n",
       "      <td>5.0</td>\n",
       "      <td>0</td>\n",
       "      <td>0</td>\n",
       "      <td>0</td>\n",
       "      <td>Took my vehicle here for some work a few years...</td>\n",
       "      <td>2017-05-13 14:15:29</td>\n",
       "      <td>33</td>\n",
       "      <td>196014</td>\n",
       "      <td>14541</td>\n",
       "    </tr>\n",
       "  </tbody>\n",
       "</table>\n",
       "</div>"
      ],
      "text/plain": [
       "    Unnamed: 0                 user_id  stars  useful  funny  cool  \\\n",
       "20          20  yFuE8SPF-d1GXJUWYgKtzg    5.0       0      0     0   \n",
       "21          21  yFuE8SPF-d1GXJUWYgKtzg    5.0       0      0     0   \n",
       "\n",
       "                                                 text                 date  \\\n",
       "20  Took my vehicle here for some work a few years...  2017-05-13 14:15:29   \n",
       "21  Took my vehicle here for some work a few years...  2017-05-13 14:15:29   \n",
       "\n",
       "    id_review  id_user  id_business  \n",
       "20         33   196014        14540  \n",
       "21         33   196014        14541  "
      ]
     },
     "execution_count": 40,
     "metadata": {},
     "output_type": "execute_result"
    }
   ],
   "source": [
    "reviews_yelp[(reviews_yelp['user_id']=='yFuE8SPF-d1GXJUWYgKtzg') &(reviews_yelp['date'] == '2017-05-13 14:15:29' )]"
   ]
  },
  {
   "cell_type": "markdown",
   "metadata": {},
   "source": [
    "Después de la verificación de los datos duplicados en el dataframe “reviews_yelp” se encontró la cantidad de 2,497,209 de datos duplicados equivalente a un 45.66% de un total 5,468,235. Con lo cual concluimos que el 91.69% de los datos NO son duplicados, teniendo una calidad aceptable de datos."
   ]
  },
  {
   "cell_type": "markdown",
   "metadata": {},
   "source": [
    "*Datos duplicados del dataframe \"tip\"*"
   ]
  },
  {
   "cell_type": "code",
   "execution_count": 41,
   "metadata": {},
   "outputs": [
    {
     "data": {
      "text/html": [
       "<div>\n",
       "<style scoped>\n",
       "    .dataframe tbody tr th:only-of-type {\n",
       "        vertical-align: middle;\n",
       "    }\n",
       "\n",
       "    .dataframe tbody tr th {\n",
       "        vertical-align: top;\n",
       "    }\n",
       "\n",
       "    .dataframe thead th {\n",
       "        text-align: right;\n",
       "    }\n",
       "</style>\n",
       "<table border=\"1\" class=\"dataframe\">\n",
       "  <thead>\n",
       "    <tr style=\"text-align: right;\">\n",
       "      <th></th>\n",
       "      <th>id_user</th>\n",
       "      <th>id_business</th>\n",
       "      <th>text</th>\n",
       "      <th>date</th>\n",
       "      <th>compliment_count</th>\n",
       "    </tr>\n",
       "  </thead>\n",
       "  <tbody>\n",
       "    <tr>\n",
       "      <th>15092</th>\n",
       "      <td>7914</td>\n",
       "      <td>200076</td>\n",
       "      <td>LM</td>\n",
       "      <td>2011-11-22 12:48:02</td>\n",
       "      <td>0</td>\n",
       "    </tr>\n",
       "    <tr>\n",
       "      <th>22566</th>\n",
       "      <td>961</td>\n",
       "      <td>5558</td>\n",
       "      <td>Late dinner w @steinerrecliner</td>\n",
       "      <td>2011-01-31 01:07:40</td>\n",
       "      <td>0</td>\n",
       "    </tr>\n",
       "    <tr>\n",
       "      <th>35842</th>\n",
       "      <td>14379</td>\n",
       "      <td>490580</td>\n",
       "      <td>Com chien and mi are delish!</td>\n",
       "      <td>2011-07-23 17:22:58</td>\n",
       "      <td>0</td>\n",
       "    </tr>\n",
       "    <tr>\n",
       "      <th>41098</th>\n",
       "      <td>14379</td>\n",
       "      <td>490580</td>\n",
       "      <td>Com chien and mi are delish!</td>\n",
       "      <td>2011-07-23 17:22:58</td>\n",
       "      <td>0</td>\n",
       "    </tr>\n",
       "    <tr>\n",
       "      <th>48570</th>\n",
       "      <td>106029</td>\n",
       "      <td>89380</td>\n",
       "      <td>Love it. Very special, unique and delizioso!</td>\n",
       "      <td>2017-04-01 23:52:40</td>\n",
       "      <td>0</td>\n",
       "    </tr>\n",
       "    <tr>\n",
       "      <th>...</th>\n",
       "      <td>...</td>\n",
       "      <td>...</td>\n",
       "      <td>...</td>\n",
       "      <td>...</td>\n",
       "      <td>...</td>\n",
       "    </tr>\n",
       "    <tr>\n",
       "      <th>578615</th>\n",
       "      <td>1073923</td>\n",
       "      <td>352650</td>\n",
       "      <td>Excellent condition, food, and staff.</td>\n",
       "      <td>2016-10-08 21:45:48</td>\n",
       "      <td>0</td>\n",
       "    </tr>\n",
       "    <tr>\n",
       "      <th>578616</th>\n",
       "      <td>1073923</td>\n",
       "      <td>352651</td>\n",
       "      <td>Excellent condition, food, and staff.</td>\n",
       "      <td>2016-10-08 21:45:48</td>\n",
       "      <td>0</td>\n",
       "    </tr>\n",
       "    <tr>\n",
       "      <th>580506</th>\n",
       "      <td>1039513</td>\n",
       "      <td>449724</td>\n",
       "      <td>Food is good</td>\n",
       "      <td>2021-05-15 15:48:42</td>\n",
       "      <td>0</td>\n",
       "    </tr>\n",
       "    <tr>\n",
       "      <th>588965</th>\n",
       "      <td>1036767</td>\n",
       "      <td>166702</td>\n",
       "      <td>Great place, great baked goods!</td>\n",
       "      <td>2019-06-08 17:06:50</td>\n",
       "      <td>0</td>\n",
       "    </tr>\n",
       "    <tr>\n",
       "      <th>591302</th>\n",
       "      <td>1036767</td>\n",
       "      <td>166702</td>\n",
       "      <td>Great place, great baked goods!</td>\n",
       "      <td>2019-06-08 17:06:50</td>\n",
       "      <td>0</td>\n",
       "    </tr>\n",
       "  </tbody>\n",
       "</table>\n",
       "<p>123 rows × 5 columns</p>\n",
       "</div>"
      ],
      "text/plain": [
       "        id_user  id_business                                          text  \\\n",
       "15092      7914       200076                                            LM   \n",
       "22566       961         5558                Late dinner w @steinerrecliner   \n",
       "35842     14379       490580                  Com chien and mi are delish!   \n",
       "41098     14379       490580                  Com chien and mi are delish!   \n",
       "48570    106029        89380  Love it. Very special, unique and delizioso!   \n",
       "...         ...          ...                                           ...   \n",
       "578615  1073923       352650         Excellent condition, food, and staff.   \n",
       "578616  1073923       352651         Excellent condition, food, and staff.   \n",
       "580506  1039513       449724                                  Food is good   \n",
       "588965  1036767       166702               Great place, great baked goods!   \n",
       "591302  1036767       166702               Great place, great baked goods!   \n",
       "\n",
       "                       date  compliment_count  \n",
       "15092   2011-11-22 12:48:02                 0  \n",
       "22566   2011-01-31 01:07:40                 0  \n",
       "35842   2011-07-23 17:22:58                 0  \n",
       "41098   2011-07-23 17:22:58                 0  \n",
       "48570   2017-04-01 23:52:40                 0  \n",
       "...                     ...               ...  \n",
       "578615  2016-10-08 21:45:48                 0  \n",
       "578616  2016-10-08 21:45:48                 0  \n",
       "580506  2021-05-15 15:48:42                 0  \n",
       "588965  2019-06-08 17:06:50                 0  \n",
       "591302  2019-06-08 17:06:50                 0  \n",
       "\n",
       "[123 rows x 5 columns]"
      ]
     },
     "execution_count": 41,
     "metadata": {},
     "output_type": "execute_result"
    }
   ],
   "source": [
    "duplicados = tip[tip.duplicated(subset=['id_user','id_business','date', 'text'], keep=False)]\n",
    "duplicados"
   ]
  },
  {
   "cell_type": "code",
   "execution_count": 42,
   "metadata": {},
   "outputs": [
    {
     "data": {
      "text/html": [
       "<div>\n",
       "<style scoped>\n",
       "    .dataframe tbody tr th:only-of-type {\n",
       "        vertical-align: middle;\n",
       "    }\n",
       "\n",
       "    .dataframe tbody tr th {\n",
       "        vertical-align: top;\n",
       "    }\n",
       "\n",
       "    .dataframe thead th {\n",
       "        text-align: right;\n",
       "    }\n",
       "</style>\n",
       "<table border=\"1\" class=\"dataframe\">\n",
       "  <thead>\n",
       "    <tr style=\"text-align: right;\">\n",
       "      <th></th>\n",
       "      <th>id_user</th>\n",
       "      <th>id_business</th>\n",
       "      <th>text</th>\n",
       "      <th>date</th>\n",
       "      <th>compliment_count</th>\n",
       "    </tr>\n",
       "  </thead>\n",
       "  <tbody>\n",
       "    <tr>\n",
       "      <th>15092</th>\n",
       "      <td>7914</td>\n",
       "      <td>200076</td>\n",
       "      <td>LM</td>\n",
       "      <td>2011-11-22 12:48:02</td>\n",
       "      <td>0</td>\n",
       "    </tr>\n",
       "    <tr>\n",
       "      <th>97643</th>\n",
       "      <td>7914</td>\n",
       "      <td>200076</td>\n",
       "      <td>LM</td>\n",
       "      <td>2011-11-22 12:48:02</td>\n",
       "      <td>0</td>\n",
       "    </tr>\n",
       "  </tbody>\n",
       "</table>\n",
       "</div>"
      ],
      "text/plain": [
       "       id_user  id_business text                 date  compliment_count\n",
       "15092     7914       200076   LM  2011-11-22 12:48:02                 0\n",
       "97643     7914       200076   LM  2011-11-22 12:48:02                 0"
      ]
     },
     "execution_count": 42,
     "metadata": {},
     "output_type": "execute_result"
    }
   ],
   "source": [
    "tip[(tip['id_user']==7914) & (tip['id_business']==200076) & (tip['text']=='LM') & (tip['date']=='2011-11-22 12:48:02')]"
   ]
  },
  {
   "cell_type": "markdown",
   "metadata": {},
   "source": [
    "Una vez terminada la verificación de los datos duplicados en el dataframe “tip” se encontraron la cantidad de 123 de datos duplicados equivalente a un 0.0181% de un total 677160. Con lo cual concluimos que el 99.98% de los datos NO son duplicados, teniendo una calidad buena de datos."
   ]
  },
  {
   "cell_type": "markdown",
   "metadata": {},
   "source": [
    "*Datos duplicados del dataframe \"user_yelp\"*"
   ]
  },
  {
   "cell_type": "code",
   "execution_count": 44,
   "metadata": {},
   "outputs": [
    {
     "data": {
      "text/html": [
       "<div>\n",
       "<style scoped>\n",
       "    .dataframe tbody tr th:only-of-type {\n",
       "        vertical-align: middle;\n",
       "    }\n",
       "\n",
       "    .dataframe tbody tr th {\n",
       "        vertical-align: top;\n",
       "    }\n",
       "\n",
       "    .dataframe thead th {\n",
       "        text-align: right;\n",
       "    }\n",
       "</style>\n",
       "<table border=\"1\" class=\"dataframe\">\n",
       "  <thead>\n",
       "    <tr style=\"text-align: right;\">\n",
       "      <th></th>\n",
       "      <th></th>\n",
       "      <th>id_user</th>\n",
       "      <th>years</th>\n",
       "    </tr>\n",
       "  </thead>\n",
       "  <tbody>\n",
       "    <tr>\n",
       "      <th>12</th>\n",
       "      <td>1</td>\n",
       "      <td>1</td>\n",
       "      <td>2020.0</td>\n",
       "    </tr>\n",
       "    <tr>\n",
       "      <th>13</th>\n",
       "      <td>1</td>\n",
       "      <td>1</td>\n",
       "      <td>2020.0</td>\n",
       "    </tr>\n",
       "    <tr>\n",
       "      <th>62</th>\n",
       "      <td>18</td>\n",
       "      <td>18</td>\n",
       "      <td>2020.0</td>\n",
       "    </tr>\n",
       "    <tr>\n",
       "      <th>63</th>\n",
       "      <td>18</td>\n",
       "      <td>18</td>\n",
       "      <td>2020.0</td>\n",
       "    </tr>\n",
       "    <tr>\n",
       "      <th>111</th>\n",
       "      <td>29</td>\n",
       "      <td>29</td>\n",
       "      <td>2020.0</td>\n",
       "    </tr>\n",
       "    <tr>\n",
       "      <th>...</th>\n",
       "      <td>...</td>\n",
       "      <td>...</td>\n",
       "      <td>...</td>\n",
       "    </tr>\n",
       "    <tr>\n",
       "      <th>2256143</th>\n",
       "      <td>1966851</td>\n",
       "      <td>1966851</td>\n",
       "      <td>2020.0</td>\n",
       "    </tr>\n",
       "    <tr>\n",
       "      <th>2261233</th>\n",
       "      <td>1971939</td>\n",
       "      <td>1971939</td>\n",
       "      <td>2020.0</td>\n",
       "    </tr>\n",
       "    <tr>\n",
       "      <th>2261234</th>\n",
       "      <td>1971939</td>\n",
       "      <td>1971939</td>\n",
       "      <td>2020.0</td>\n",
       "    </tr>\n",
       "    <tr>\n",
       "      <th>2265937</th>\n",
       "      <td>1976641</td>\n",
       "      <td>1976641</td>\n",
       "      <td>2020.0</td>\n",
       "    </tr>\n",
       "    <tr>\n",
       "      <th>2265938</th>\n",
       "      <td>1976641</td>\n",
       "      <td>1976641</td>\n",
       "      <td>2020.0</td>\n",
       "    </tr>\n",
       "  </tbody>\n",
       "</table>\n",
       "<p>79858 rows × 3 columns</p>\n",
       "</div>"
      ],
      "text/plain": [
       "                  id_user   years\n",
       "12             1        1  2020.0\n",
       "13             1        1  2020.0\n",
       "62            18       18  2020.0\n",
       "63            18       18  2020.0\n",
       "111           29       29  2020.0\n",
       "...          ...      ...     ...\n",
       "2256143  1966851  1966851  2020.0\n",
       "2261233  1971939  1971939  2020.0\n",
       "2261234  1971939  1971939  2020.0\n",
       "2265937  1976641  1976641  2020.0\n",
       "2265938  1976641  1976641  2020.0\n",
       "\n",
       "[79858 rows x 3 columns]"
      ]
     },
     "execution_count": 44,
     "metadata": {},
     "output_type": "execute_result"
    }
   ],
   "source": [
    "user_yelp[user_yelp.duplicated(subset=['id_user', 'years'], keep=False)]"
   ]
  },
  {
   "cell_type": "markdown",
   "metadata": {},
   "source": [
    "Una vez terminada la verificación de los datos duplicados en el dataframe “user_yelp” se encontraron la cantidad de 79,858 de datos duplicados equivalente a un 3.506% de un total 2,277,195. Con lo cual concluimos que el 98.245% de los datos NO son duplicados, teniendo una calidad buena de datos."
   ]
  },
  {
   "cell_type": "markdown",
   "metadata": {},
   "source": [
    "**Verificación de datos faltantes de YELP**"
   ]
  },
  {
   "cell_type": "markdown",
   "metadata": {},
   "source": [
    "*Datos faltantes dataframe \"business\"*"
   ]
  },
  {
   "cell_type": "code",
   "execution_count": 50,
   "metadata": {},
   "outputs": [
    {
     "data": {
      "text/html": [
       "<div>\n",
       "<style scoped>\n",
       "    .dataframe tbody tr th:only-of-type {\n",
       "        vertical-align: middle;\n",
       "    }\n",
       "\n",
       "    .dataframe tbody tr th {\n",
       "        vertical-align: top;\n",
       "    }\n",
       "\n",
       "    .dataframe thead th {\n",
       "        text-align: right;\n",
       "    }\n",
       "</style>\n",
       "<table border=\"1\" class=\"dataframe\">\n",
       "  <thead>\n",
       "    <tr style=\"text-align: right;\">\n",
       "      <th></th>\n",
       "      <th>id_business</th>\n",
       "      <th>name</th>\n",
       "      <th>address</th>\n",
       "      <th>city</th>\n",
       "      <th>state</th>\n",
       "      <th>postal_code</th>\n",
       "      <th>latitude</th>\n",
       "      <th>longitude</th>\n",
       "      <th>stars</th>\n",
       "      <th>review_count</th>\n",
       "      <th>is_open</th>\n",
       "      <th>attributes</th>\n",
       "      <th>categories</th>\n",
       "      <th>hours</th>\n",
       "    </tr>\n",
       "  </thead>\n",
       "  <tbody>\n",
       "    <tr>\n",
       "      <th>0</th>\n",
       "      <td>0</td>\n",
       "      <td>Abby Rappoport, LAC, CMQ</td>\n",
       "      <td>1616 Chapala St, Ste 2</td>\n",
       "      <td>Santa Barbara</td>\n",
       "      <td>California</td>\n",
       "      <td>93101.0</td>\n",
       "      <td>34.426679</td>\n",
       "      <td>-119.711197</td>\n",
       "      <td>5.0</td>\n",
       "      <td>7</td>\n",
       "      <td>0</td>\n",
       "      <td>{'ByAppointmentOnly': 'True'}</td>\n",
       "      <td>Doctors, Traditional Chinese Medicine, Naturop...</td>\n",
       "      <td></td>\n",
       "    </tr>\n",
       "    <tr>\n",
       "      <th>24</th>\n",
       "      <td>111</td>\n",
       "      <td>Cheeseburger In Paradise</td>\n",
       "      <td>116 N Pottstown Pike</td>\n",
       "      <td>Exton</td>\n",
       "      <td>Pennsylvania</td>\n",
       "      <td>19341.0</td>\n",
       "      <td>40.029962</td>\n",
       "      <td>-75.630607</td>\n",
       "      <td>2.5</td>\n",
       "      <td>20</td>\n",
       "      <td>0</td>\n",
       "      <td>{'NoiseLevel': \"u'average'\", 'HasTV': 'True', ...</td>\n",
       "      <td>Restaurants, Burgers</td>\n",
       "      <td></td>\n",
       "    </tr>\n",
       "    <tr>\n",
       "      <th>32</th>\n",
       "      <td>170</td>\n",
       "      <td>All In Shipping</td>\n",
       "      <td>5343 Belleville Crossing St</td>\n",
       "      <td>Belleville</td>\n",
       "      <td>Pennsylvania</td>\n",
       "      <td>62226.0</td>\n",
       "      <td>38.517586</td>\n",
       "      <td>-90.021929</td>\n",
       "      <td>5.0</td>\n",
       "      <td>5</td>\n",
       "      <td>1</td>\n",
       "      <td>{'BusinessAcceptsCreditCards': 'True'}</td>\n",
       "      <td>Shipping Centers, Local Services</td>\n",
       "      <td></td>\n",
       "    </tr>\n",
       "    <tr>\n",
       "      <th>33</th>\n",
       "      <td>173</td>\n",
       "      <td>All In Shipping</td>\n",
       "      <td>5343 Belleville Crossing St</td>\n",
       "      <td>Belleville</td>\n",
       "      <td>New York</td>\n",
       "      <td>62226.0</td>\n",
       "      <td>38.517586</td>\n",
       "      <td>-90.021929</td>\n",
       "      <td>5.0</td>\n",
       "      <td>5</td>\n",
       "      <td>1</td>\n",
       "      <td>{'BusinessAcceptsCreditCards': 'True'}</td>\n",
       "      <td>Shipping Centers, Local Services</td>\n",
       "      <td></td>\n",
       "    </tr>\n",
       "    <tr>\n",
       "      <th>37</th>\n",
       "      <td>180</td>\n",
       "      <td>Charlie's Market</td>\n",
       "      <td>2815 E Sligh Ave</td>\n",
       "      <td>Tampa</td>\n",
       "      <td>Florida</td>\n",
       "      <td>33610.0</td>\n",
       "      <td>28.010360</td>\n",
       "      <td>-82.430042</td>\n",
       "      <td>3.0</td>\n",
       "      <td>9</td>\n",
       "      <td>1</td>\n",
       "      <td>{'BusinessParking': \"{'garage': False, 'street...</td>\n",
       "      <td>Food, Grocery, Convenience Stores</td>\n",
       "      <td></td>\n",
       "    </tr>\n",
       "    <tr>\n",
       "      <th>...</th>\n",
       "      <td>...</td>\n",
       "      <td>...</td>\n",
       "      <td>...</td>\n",
       "      <td>...</td>\n",
       "      <td>...</td>\n",
       "      <td>...</td>\n",
       "      <td>...</td>\n",
       "      <td>...</td>\n",
       "      <td>...</td>\n",
       "      <td>...</td>\n",
       "      <td>...</td>\n",
       "      <td>...</td>\n",
       "      <td>...</td>\n",
       "      <td>...</td>\n",
       "    </tr>\n",
       "    <tr>\n",
       "      <th>124715</th>\n",
       "      <td>527941</td>\n",
       "      <td>Ali Baba Magic Food</td>\n",
       "      <td>37TH And Walnut</td>\n",
       "      <td>Philadelphia</td>\n",
       "      <td>Pennsylvania</td>\n",
       "      <td>19104.0</td>\n",
       "      <td>39.953391</td>\n",
       "      <td>-75.196765</td>\n",
       "      <td>4.0</td>\n",
       "      <td>8</td>\n",
       "      <td>0</td>\n",
       "      <td>{'GoodForKids': 'False', 'RestaurantsReservati...</td>\n",
       "      <td>Restaurants, Food Stands</td>\n",
       "      <td></td>\n",
       "    </tr>\n",
       "    <tr>\n",
       "      <th>124723</th>\n",
       "      <td>527958</td>\n",
       "      <td>St John Neumann Center for Rehabilitation &amp; He...</td>\n",
       "      <td>10400 Roosevelt Blvd</td>\n",
       "      <td>Philadelphia</td>\n",
       "      <td>Pennsylvania</td>\n",
       "      <td>19116.0</td>\n",
       "      <td>40.098009</td>\n",
       "      <td>-75.012998</td>\n",
       "      <td>1.5</td>\n",
       "      <td>6</td>\n",
       "      <td>1</td>\n",
       "      <td></td>\n",
       "      <td>Retirement Homes, Health &amp; Medical, Hospice, R...</td>\n",
       "      <td></td>\n",
       "    </tr>\n",
       "    <tr>\n",
       "      <th>124727</th>\n",
       "      <td>527990</td>\n",
       "      <td>Hollywood Nails</td>\n",
       "      <td>4501 Westfield Ave</td>\n",
       "      <td>Penn</td>\n",
       "      <td>Pennsylvania</td>\n",
       "      <td>8110.0</td>\n",
       "      <td>39.956757</td>\n",
       "      <td>-75.068777</td>\n",
       "      <td>3.0</td>\n",
       "      <td>37</td>\n",
       "      <td>1</td>\n",
       "      <td>{'BusinessAcceptsCreditCards': 'True', 'Restau...</td>\n",
       "      <td>Nail Salons, Beauty &amp; Spas</td>\n",
       "      <td></td>\n",
       "    </tr>\n",
       "    <tr>\n",
       "      <th>124738</th>\n",
       "      <td>528044</td>\n",
       "      <td>Evansburg State Park</td>\n",
       "      <td>851 Mayhall Rd</td>\n",
       "      <td>Collegeville</td>\n",
       "      <td>Pennsylvania</td>\n",
       "      <td>19426.0</td>\n",
       "      <td>40.199162</td>\n",
       "      <td>-75.405757</td>\n",
       "      <td>3.0</td>\n",
       "      <td>15</td>\n",
       "      <td>1</td>\n",
       "      <td>{'GoodForKids': 'True', 'BusinessParking': \"{'...</td>\n",
       "      <td>Active Life, Parks</td>\n",
       "      <td></td>\n",
       "    </tr>\n",
       "    <tr>\n",
       "      <th>124745</th>\n",
       "      <td>528072</td>\n",
       "      <td>2601 Parkway Apartments</td>\n",
       "      <td>2601 Pennsylvania Ave</td>\n",
       "      <td>Philadelphia</td>\n",
       "      <td>Pennsylvania</td>\n",
       "      <td>19130.0</td>\n",
       "      <td>39.968806</td>\n",
       "      <td>-75.180608</td>\n",
       "      <td>3.0</td>\n",
       "      <td>6</td>\n",
       "      <td>1</td>\n",
       "      <td>{'BusinessAcceptsCreditCards': 'True'}</td>\n",
       "      <td>Real Estate, Apartments, Home Services</td>\n",
       "      <td></td>\n",
       "    </tr>\n",
       "  </tbody>\n",
       "</table>\n",
       "<p>18784 rows × 14 columns</p>\n",
       "</div>"
      ],
      "text/plain": [
       "        id_business                                               name  \\\n",
       "0                 0                           Abby Rappoport, LAC, CMQ   \n",
       "24              111                           Cheeseburger In Paradise   \n",
       "32              170                                    All In Shipping   \n",
       "33              173                                    All In Shipping   \n",
       "37              180                                   Charlie's Market   \n",
       "...             ...                                                ...   \n",
       "124715       527941                                Ali Baba Magic Food   \n",
       "124723       527958  St John Neumann Center for Rehabilitation & He...   \n",
       "124727       527990                                    Hollywood Nails   \n",
       "124738       528044                               Evansburg State Park   \n",
       "124745       528072                            2601 Parkway Apartments   \n",
       "\n",
       "                            address           city         state  postal_code  \\\n",
       "0            1616 Chapala St, Ste 2  Santa Barbara    California      93101.0   \n",
       "24             116 N Pottstown Pike          Exton  Pennsylvania      19341.0   \n",
       "32      5343 Belleville Crossing St     Belleville  Pennsylvania      62226.0   \n",
       "33      5343 Belleville Crossing St     Belleville      New York      62226.0   \n",
       "37                 2815 E Sligh Ave          Tampa       Florida      33610.0   \n",
       "...                             ...            ...           ...          ...   \n",
       "124715              37TH And Walnut   Philadelphia  Pennsylvania      19104.0   \n",
       "124723         10400 Roosevelt Blvd   Philadelphia  Pennsylvania      19116.0   \n",
       "124727           4501 Westfield Ave           Penn  Pennsylvania       8110.0   \n",
       "124738               851 Mayhall Rd   Collegeville  Pennsylvania      19426.0   \n",
       "124745        2601 Pennsylvania Ave   Philadelphia  Pennsylvania      19130.0   \n",
       "\n",
       "         latitude   longitude  stars  review_count  is_open  \\\n",
       "0       34.426679 -119.711197    5.0             7        0   \n",
       "24      40.029962  -75.630607    2.5            20        0   \n",
       "32      38.517586  -90.021929    5.0             5        1   \n",
       "33      38.517586  -90.021929    5.0             5        1   \n",
       "37      28.010360  -82.430042    3.0             9        1   \n",
       "...           ...         ...    ...           ...      ...   \n",
       "124715  39.953391  -75.196765    4.0             8        0   \n",
       "124723  40.098009  -75.012998    1.5             6        1   \n",
       "124727  39.956757  -75.068777    3.0            37        1   \n",
       "124738  40.199162  -75.405757    3.0            15        1   \n",
       "124745  39.968806  -75.180608    3.0             6        1   \n",
       "\n",
       "                                               attributes  \\\n",
       "0                           {'ByAppointmentOnly': 'True'}   \n",
       "24      {'NoiseLevel': \"u'average'\", 'HasTV': 'True', ...   \n",
       "32                 {'BusinessAcceptsCreditCards': 'True'}   \n",
       "33                 {'BusinessAcceptsCreditCards': 'True'}   \n",
       "37      {'BusinessParking': \"{'garage': False, 'street...   \n",
       "...                                                   ...   \n",
       "124715  {'GoodForKids': 'False', 'RestaurantsReservati...   \n",
       "124723                                                      \n",
       "124727  {'BusinessAcceptsCreditCards': 'True', 'Restau...   \n",
       "124738  {'GoodForKids': 'True', 'BusinessParking': \"{'...   \n",
       "124745             {'BusinessAcceptsCreditCards': 'True'}   \n",
       "\n",
       "                                               categories hours  \n",
       "0       Doctors, Traditional Chinese Medicine, Naturop...        \n",
       "24                                   Restaurants, Burgers        \n",
       "32                       Shipping Centers, Local Services        \n",
       "33                       Shipping Centers, Local Services        \n",
       "37                      Food, Grocery, Convenience Stores        \n",
       "...                                                   ...   ...  \n",
       "124715                           Restaurants, Food Stands        \n",
       "124723  Retirement Homes, Health & Medical, Hospice, R...        \n",
       "124727                         Nail Salons, Beauty & Spas        \n",
       "124738                                 Active Life, Parks        \n",
       "124745             Real Estate, Apartments, Home Services        \n",
       "\n",
       "[18784 rows x 14 columns]"
      ]
     },
     "execution_count": 50,
     "metadata": {},
     "output_type": "execute_result"
    }
   ],
   "source": [
    "business[business['hours']== '']"
   ]
  },
  {
   "cell_type": "markdown",
   "metadata": {},
   "source": [
    "Después de analizar los datos faltantes en el dataframe “business” se encontraron la cantidad de 18,784 de datos faltantes equivalente a un 15.05% de un total 124,757 de la columna \"year\".  Con lo cual concluimos que el 98.92% de los datos del dataframe NO son faltantes, teniendo una calidad aceptable de datos."
   ]
  },
  {
   "cell_type": "markdown",
   "metadata": {},
   "source": [
    "*Datos faltantes del dataframe \"checkin\"*"
   ]
  },
  {
   "cell_type": "code",
   "execution_count": 62,
   "metadata": {},
   "outputs": [
    {
     "data": {
      "text/html": [
       "<div>\n",
       "<style scoped>\n",
       "    .dataframe tbody tr th:only-of-type {\n",
       "        vertical-align: middle;\n",
       "    }\n",
       "\n",
       "    .dataframe tbody tr th {\n",
       "        vertical-align: top;\n",
       "    }\n",
       "\n",
       "    .dataframe thead th {\n",
       "        text-align: right;\n",
       "    }\n",
       "</style>\n",
       "<table border=\"1\" class=\"dataframe\">\n",
       "  <thead>\n",
       "    <tr style=\"text-align: right;\">\n",
       "      <th></th>\n",
       "      <th>business_id</th>\n",
       "      <th>hour</th>\n",
       "      <th>date</th>\n",
       "      <th>year</th>\n",
       "      <th>month</th>\n",
       "    </tr>\n",
       "  </thead>\n",
       "  <tbody>\n",
       "  </tbody>\n",
       "</table>\n",
       "</div>"
      ],
      "text/plain": [
       "Empty DataFrame\n",
       "Columns: [business_id, hour, date, year, month]\n",
       "Index: []"
      ]
     },
     "execution_count": 62,
     "metadata": {},
     "output_type": "execute_result"
    }
   ],
   "source": [
    "checkin[checkin['month']== '']"
   ]
  },
  {
   "cell_type": "markdown",
   "metadata": {},
   "source": [
    "Una vez analisado el dataframe “checkin” en búsqueda de datos faltantes, encontramos la cantidad de 0 de datos faltantes de un total 124,757 datos del dataframe.  Con lo cual concluimos que el 100% de los datos del dataframe NO son faltantes, teniendo una calidad buena de datos."
   ]
  },
  {
   "cell_type": "markdown",
   "metadata": {},
   "source": [
    "*Datos faltantes del dataframe \"reviews_yelp\"*"
   ]
  },
  {
   "cell_type": "code",
   "execution_count": 74,
   "metadata": {},
   "outputs": [
    {
     "data": {
      "text/html": [
       "<div>\n",
       "<style scoped>\n",
       "    .dataframe tbody tr th:only-of-type {\n",
       "        vertical-align: middle;\n",
       "    }\n",
       "\n",
       "    .dataframe tbody tr th {\n",
       "        vertical-align: top;\n",
       "    }\n",
       "\n",
       "    .dataframe thead th {\n",
       "        text-align: right;\n",
       "    }\n",
       "</style>\n",
       "<table border=\"1\" class=\"dataframe\">\n",
       "  <thead>\n",
       "    <tr style=\"text-align: right;\">\n",
       "      <th></th>\n",
       "      <th>Unnamed: 0</th>\n",
       "      <th>user_id</th>\n",
       "      <th>stars</th>\n",
       "      <th>useful</th>\n",
       "      <th>funny</th>\n",
       "      <th>cool</th>\n",
       "      <th>text</th>\n",
       "      <th>date</th>\n",
       "      <th>id_review</th>\n",
       "      <th>id_user</th>\n",
       "      <th>id_business</th>\n",
       "    </tr>\n",
       "  </thead>\n",
       "  <tbody>\n",
       "  </tbody>\n",
       "</table>\n",
       "</div>"
      ],
      "text/plain": [
       "Empty DataFrame\n",
       "Columns: [Unnamed: 0, user_id, stars, useful, funny, cool, text, date, id_review, id_user, id_business]\n",
       "Index: []"
      ]
     },
     "execution_count": 74,
     "metadata": {},
     "output_type": "execute_result"
    }
   ],
   "source": [
    "reviews_yelp[reviews_yelp['date']== '']"
   ]
  },
  {
   "cell_type": "markdown",
   "metadata": {},
   "source": [
    "Después de analizar el dataframe “reviews_yelp” en búsqueda de datos faltantes, encontramos la cantidad de 0 de datos faltantes de un total 5,468,235 datos del dataframe.  Con lo cual concluimos que el 100% de los datos del dataframe NO son faltantes, teniendo una calidad buena de datos."
   ]
  },
  {
   "cell_type": "markdown",
   "metadata": {},
   "source": [
    "*Datos faltantes del dataframe \"tip\"*"
   ]
  },
  {
   "cell_type": "code",
   "execution_count": 80,
   "metadata": {},
   "outputs": [
    {
     "data": {
      "text/html": [
       "<div>\n",
       "<style scoped>\n",
       "    .dataframe tbody tr th:only-of-type {\n",
       "        vertical-align: middle;\n",
       "    }\n",
       "\n",
       "    .dataframe tbody tr th {\n",
       "        vertical-align: top;\n",
       "    }\n",
       "\n",
       "    .dataframe thead th {\n",
       "        text-align: right;\n",
       "    }\n",
       "</style>\n",
       "<table border=\"1\" class=\"dataframe\">\n",
       "  <thead>\n",
       "    <tr style=\"text-align: right;\">\n",
       "      <th></th>\n",
       "      <th>id_user</th>\n",
       "      <th>id_business</th>\n",
       "      <th>text</th>\n",
       "      <th>date</th>\n",
       "      <th>compliment_count</th>\n",
       "    </tr>\n",
       "  </thead>\n",
       "  <tbody>\n",
       "  </tbody>\n",
       "</table>\n",
       "</div>"
      ],
      "text/plain": [
       "Empty DataFrame\n",
       "Columns: [id_user, id_business, text, date, compliment_count]\n",
       "Index: []"
      ]
     },
     "execution_count": 80,
     "metadata": {},
     "output_type": "execute_result"
    }
   ],
   "source": [
    "tip[tip['compliment_count'] == '']"
   ]
  },
  {
   "cell_type": "markdown",
   "metadata": {},
   "source": [
    "Tras analizar el dataframe \"tip\" en búsqueda de datos faltantes, encontramos la cantidad de 0 de datos faltantes de un total 677,160  datos del dataframe.  Con lo cual concluimos que el 100% de los datos del dataframe NO son faltantes, teniendo una calidad buena de datos."
   ]
  },
  {
   "cell_type": "markdown",
   "metadata": {},
   "source": [
    "*Datos faltantes del dataframe \"user_yelp\"*"
   ]
  },
  {
   "cell_type": "code",
   "execution_count": 87,
   "metadata": {},
   "outputs": [
    {
     "data": {
      "text/html": [
       "<div>\n",
       "<style scoped>\n",
       "    .dataframe tbody tr th:only-of-type {\n",
       "        vertical-align: middle;\n",
       "    }\n",
       "\n",
       "    .dataframe tbody tr th {\n",
       "        vertical-align: top;\n",
       "    }\n",
       "\n",
       "    .dataframe thead th {\n",
       "        text-align: right;\n",
       "    }\n",
       "</style>\n",
       "<table border=\"1\" class=\"dataframe\">\n",
       "  <thead>\n",
       "    <tr style=\"text-align: right;\">\n",
       "      <th></th>\n",
       "      <th></th>\n",
       "      <th>id_user</th>\n",
       "      <th>years</th>\n",
       "    </tr>\n",
       "  </thead>\n",
       "  <tbody>\n",
       "  </tbody>\n",
       "</table>\n",
       "</div>"
      ],
      "text/plain": [
       "Empty DataFrame\n",
       "Columns: [, id_user, years]\n",
       "Index: []"
      ]
     },
     "execution_count": 87,
     "metadata": {},
     "output_type": "execute_result"
    }
   ],
   "source": [
    "user_yelp[user_yelp['years']== '']"
   ]
  },
  {
   "cell_type": "markdown",
   "metadata": {},
   "source": [
    "Una vez analizado el dataframe \"user_yelp\" en búsqueda de datos faltantes, encontramos la cantidad de 0 de datos faltantes de un total 2,277,195 datos del dataframe.  Con lo cual concluimos que el 100% de los datos del dataframe NO son faltantes, teniendo una calidad buena de datos."
   ]
  },
  {
   "cell_type": "markdown",
   "metadata": {},
   "source": [
    "Uso de graficas para el analisis exploratorio."
   ]
  },
  {
   "cell_type": "code",
   "execution_count": 118,
   "metadata": {},
   "outputs": [
    {
     "data": {
      "text/html": [
       "<div>\n",
       "<style scoped>\n",
       "    .dataframe tbody tr th:only-of-type {\n",
       "        vertical-align: middle;\n",
       "    }\n",
       "\n",
       "    .dataframe tbody tr th {\n",
       "        vertical-align: top;\n",
       "    }\n",
       "\n",
       "    .dataframe thead th {\n",
       "        text-align: right;\n",
       "    }\n",
       "</style>\n",
       "<table border=\"1\" class=\"dataframe\">\n",
       "  <thead>\n",
       "    <tr style=\"text-align: right;\">\n",
       "      <th></th>\n",
       "      <th>id_business</th>\n",
       "      <th>name</th>\n",
       "      <th>address</th>\n",
       "      <th>city</th>\n",
       "      <th>state</th>\n",
       "      <th>postal_code</th>\n",
       "      <th>latitude</th>\n",
       "      <th>longitude</th>\n",
       "      <th>stars</th>\n",
       "      <th>review_count</th>\n",
       "      <th>is_open</th>\n",
       "      <th>attributes</th>\n",
       "      <th>categories</th>\n",
       "      <th>hours</th>\n",
       "    </tr>\n",
       "  </thead>\n",
       "  <tbody>\n",
       "  </tbody>\n",
       "</table>\n",
       "</div>"
      ],
      "text/plain": [
       "Empty DataFrame\n",
       "Columns: [id_business, name, address, city, state, postal_code, latitude, longitude, stars, review_count, is_open, attributes, categories, hours]\n",
       "Index: []"
      ]
     },
     "execution_count": 118,
     "metadata": {},
     "output_type": "execute_result"
    }
   ],
   "source": [
    "business[(business['stars'] == 5.0) & ]"
   ]
  },
  {
   "cell_type": "code",
   "execution_count": 134,
   "metadata": {},
   "outputs": [
    {
     "data": {
      "image/png": "[encoded data removed]",
      "text/plain": [
       "<Figure size 1000x600 with 1 Axes>"
      ]
     },
     "metadata": {},
     "output_type": "display_data"
    }
   ],
   "source": [
    "df_filtered = business[business['stars'] == 5.0]\n",
    "\n",
    "state_counts = df_filtered['state'].value_counts().nlargest(5)\n",
    "\n",
    "state_counts_sorted = state_counts.sort_values(ascending=False)\n",
    "\n",
    "top_states = state_counts_sorted.head(10)\n",
    "\n",
    "plt.figure(figsize=(10, 6))\n",
    "top_states.plot(kind='bar', color='skyblue', edgecolor='black')\n",
    "plt.title('Top 5 Estados con Más Valoraciones de 5.0')\n",
    "plt.xlabel('Estado')\n",
    "plt.ylabel('Frecuencia')\n",
    "plt.xticks(rotation=45)\n",
    "plt.grid(axis='y', linestyle='--', alpha=0.7)\n",
    "plt.tight_layout()\n",
    "plt.show()"
   ]
  },
  {
   "cell_type": "code",
   "execution_count": 133,
   "metadata": {},
   "outputs": [
    {
     "data": {
      "image/png": "[encoded data removed]",
      "text/plain": [
       "<Figure size 1000x600 with 1 Axes>"
      ]
     },
     "metadata": {},
     "output_type": "display_data"
    }
   ],
   "source": [
    "df_pa = business[business['state'] == 'Pennsylvania']\n",
    "\n",
    "top_cities_pa = df_pa['city'].value_counts().head(5)\n",
    "\n",
    "df_top_cities_pa = df_pa[df_pa['city'].isin(top_cities_pa.index)]\n",
    "\n",
    "df_stars_5_pa = df_top_cities_pa[df_top_cities_pa['stars'] == 5.0]\n",
    "\n",
    "city_counts = df_stars_5_pa['city'].value_counts()\n",
    "\n",
    "plt.figure(figsize=(10, 6))\n",
    "city_counts.plot(kind='bar', color='skyblue', edgecolor='black')\n",
    "plt.title('Top 5 de ciudades en Pennsylvania con 5.0 estrellas')\n",
    "plt.xlabel('Ciudad')\n",
    "plt.ylabel('Frecuencia')\n",
    "plt.xticks(rotation=45)\n",
    "plt.grid(axis='y', linestyle='--', alpha=0.7)\n",
    "plt.tight_layout()\n",
    "plt.show()"
   ]
  },
  {
   "cell_type": "code",
   "execution_count": 124,
   "metadata": {},
   "outputs": [
    {
     "data": {
      "image/png": "[encoded data removed]",
      "text/plain": [
       "<Figure size 800x600 with 1 Axes>"
      ]
     },
     "metadata": {},
     "output_type": "display_data"
    }
   ],
   "source": [
    "ny_business = business[(business['state'] == 'California') ]\n",
    "\n",
    "plt.figure(figsize=(8, 6))\n",
    "ny_business['stars'].value_counts().nlargest(5).plot(kind='pie', autopct='%1.1f%%', startangle=140, colors=['skyblue', 'lightgreen', 'lightcoral', 'lightsalmon', 'red'])\n",
    "plt.title('Distribución del Rating en Nueva York')\n",
    "plt.ylabel('')\n",
    "plt.show()\n"
   ]
  },
  {
   "cell_type": "code",
   "execution_count": 126,
   "metadata": {},
   "outputs": [
    {
     "data": {
      "text/html": [
       "<div>\n",
       "<style scoped>\n",
       "    .dataframe tbody tr th:only-of-type {\n",
       "        vertical-align: middle;\n",
       "    }\n",
       "\n",
       "    .dataframe tbody tr th {\n",
       "        vertical-align: top;\n",
       "    }\n",
       "\n",
       "    .dataframe thead th {\n",
       "        text-align: right;\n",
       "    }\n",
       "</style>\n",
       "<table border=\"1\" class=\"dataframe\">\n",
       "  <thead>\n",
       "    <tr style=\"text-align: right;\">\n",
       "      <th></th>\n",
       "      <th>id_business</th>\n",
       "      <th>postal_code</th>\n",
       "      <th>latitude</th>\n",
       "      <th>longitude</th>\n",
       "      <th>stars</th>\n",
       "      <th>review_count</th>\n",
       "      <th>is_open</th>\n",
       "    </tr>\n",
       "  </thead>\n",
       "  <tbody>\n",
       "    <tr>\n",
       "      <th>count</th>\n",
       "      <td>124757.000000</td>\n",
       "      <td>1.247020e+05</td>\n",
       "      <td>124757.000000</td>\n",
       "      <td>124757.000000</td>\n",
       "      <td>124757.000000</td>\n",
       "      <td>124757.000000</td>\n",
       "      <td>124757.000000</td>\n",
       "    </tr>\n",
       "    <tr>\n",
       "      <th>mean</th>\n",
       "      <td>263536.055195</td>\n",
       "      <td>2.113036e+05</td>\n",
       "      <td>36.140530</td>\n",
       "      <td>-88.209167</td>\n",
       "      <td>3.602090</td>\n",
       "      <td>42.167766</td>\n",
       "      <td>0.806464</td>\n",
       "    </tr>\n",
       "    <tr>\n",
       "      <th>std</th>\n",
       "      <td>152507.431440</td>\n",
       "      <td>3.708559e+07</td>\n",
       "      <td>5.268659</td>\n",
       "      <td>16.392274</td>\n",
       "      <td>0.978124</td>\n",
       "      <td>100.953562</td>\n",
       "      <td>0.395071</td>\n",
       "    </tr>\n",
       "    <tr>\n",
       "      <th>min</th>\n",
       "      <td>0.000000</td>\n",
       "      <td>1.903000e+03</td>\n",
       "      <td>27.555127</td>\n",
       "      <td>-120.095137</td>\n",
       "      <td>1.000000</td>\n",
       "      <td>5.000000</td>\n",
       "      <td>0.000000</td>\n",
       "    </tr>\n",
       "    <tr>\n",
       "      <th>25%</th>\n",
       "      <td>131532.000000</td>\n",
       "      <td>1.913000e+04</td>\n",
       "      <td>28.303200</td>\n",
       "      <td>-86.887043</td>\n",
       "      <td>3.000000</td>\n",
       "      <td>8.000000</td>\n",
       "      <td>1.000000</td>\n",
       "    </tr>\n",
       "    <tr>\n",
       "      <th>50%</th>\n",
       "      <td>262968.000000</td>\n",
       "      <td>3.370300e+04</td>\n",
       "      <td>39.509319</td>\n",
       "      <td>-82.638152</td>\n",
       "      <td>3.500000</td>\n",
       "      <td>14.000000</td>\n",
       "      <td>1.000000</td>\n",
       "    </tr>\n",
       "    <tr>\n",
       "      <th>75%</th>\n",
       "      <td>395560.000000</td>\n",
       "      <td>4.614300e+04</td>\n",
       "      <td>39.960163</td>\n",
       "      <td>-75.261588</td>\n",
       "      <td>4.500000</td>\n",
       "      <td>36.000000</td>\n",
       "      <td>1.000000</td>\n",
       "    </tr>\n",
       "    <tr>\n",
       "      <th>max</th>\n",
       "      <td>528135.000000</td>\n",
       "      <td>8.950190e+09</td>\n",
       "      <td>53.629965</td>\n",
       "      <td>-74.658572</td>\n",
       "      <td>5.000000</td>\n",
       "      <td>5721.000000</td>\n",
       "      <td>1.000000</td>\n",
       "    </tr>\n",
       "  </tbody>\n",
       "</table>\n",
       "</div>"
      ],
      "text/plain": [
       "         id_business   postal_code       latitude      longitude  \\\n",
       "count  124757.000000  1.247020e+05  124757.000000  124757.000000   \n",
       "mean   263536.055195  2.113036e+05      36.140530     -88.209167   \n",
       "std    152507.431440  3.708559e+07       5.268659      16.392274   \n",
       "min         0.000000  1.903000e+03      27.555127    -120.095137   \n",
       "25%    131532.000000  1.913000e+04      28.303200     -86.887043   \n",
       "50%    262968.000000  3.370300e+04      39.509319     -82.638152   \n",
       "75%    395560.000000  4.614300e+04      39.960163     -75.261588   \n",
       "max    528135.000000  8.950190e+09      53.629965     -74.658572   \n",
       "\n",
       "               stars   review_count        is_open  \n",
       "count  124757.000000  124757.000000  124757.000000  \n",
       "mean        3.602090      42.167766       0.806464  \n",
       "std         0.978124     100.953562       0.395071  \n",
       "min         1.000000       5.000000       0.000000  \n",
       "25%         3.000000       8.000000       1.000000  \n",
       "50%         3.500000      14.000000       1.000000  \n",
       "75%         4.500000      36.000000       1.000000  \n",
       "max         5.000000    5721.000000       1.000000  "
      ]
     },
     "execution_count": 126,
     "metadata": {},
     "output_type": "execute_result"
    }
   ],
   "source": [
    "business.describe()"
   ]
  },
  {
   "cell_type": "code",
   "execution_count": 125,
   "metadata": {},
   "outputs": [
    {
     "name": "stderr",
     "output_type": "stream",
     "text": [
      "C:\\Users\\saulz\\AppData\\Local\\Temp\\ipykernel_26304\\1352698768.py:1: SettingWithCopyWarning: \n",
      "A value is trying to be set on a copy of a slice from a DataFrame.\n",
      "Try using .loc[row_indexer,col_indexer] = value instead\n",
      "\n",
      "See the caveats in the documentation: https://pandas.pydata.org/pandas-docs/stable/user_guide/indexing.html#returning-a-view-versus-a-copy\n",
      "  ny_business['stars'] = ny_business['stars'].round().astype(int)\n"
     ]
    },
    {
     "data": {
      "image/png": "[encoded data removed]",
      "text/plain": [
       "<Figure size 800x600 with 1 Axes>"
      ]
     },
     "metadata": {},
     "output_type": "display_data"
    }
   ],
   "source": [
    "ny_business['stars'] = ny_business['stars'].round().astype(int)\n",
    "\n",
    "plt.figure(figsize=(8, 6))\n",
    "ny_business['stars'].value_counts().plot(kind='pie', autopct='%1.1f%%', startangle=140, colors=['skyblue', 'lightgreen', 'lightcoral', 'lightsalmon', 'lightpink'])\n",
    "plt.title('Distribución del Rating en Nueva York')\n",
    "plt.ylabel('')\n",
    "plt.show()"
   ]
  },
  {
   "cell_type": "markdown",
   "metadata": {},
   "source": [
    "Top por categoria"
   ]
  },
  {
   "cell_type": "code",
   "execution_count": null,
   "metadata": {},
   "outputs": [
    {
     "data": {
      "image/png": "[encoded data removed]",
      "text/plain": [
       "<Figure size 1000x600 with 1 Axes>"
      ]
     },
     "metadata": {},
     "output_type": "display_data"
    }
   ],
   "source": [
    "top_10_categories = restaurant['category'].value_counts().nlargest(10)\n",
    "\n",
    "plt.figure(figsize=(10, 6))\n",
    "colors = ['blue', 'green', 'red', 'purple', 'orange', 'yellow', 'LightBlue', 'magenta', 'brown', 'gray']\n",
    "top_10_categories.plot(kind='bar', color=colors)\n",
    "plt.xlabel('Categorias')\n",
    "plt.ylabel('Frequencia')\n",
    "plt.title('Top 10 de categorias')\n",
    "plt.xticks(rotation=90) \n",
    "plt.show()"
   ]
  },
  {
   "cell_type": "markdown",
   "metadata": {},
   "source": [
    "Tras examinar la gráfica previamente presentada, se puede inferir que la categoría que exhibe una mayor recurrencia y, por consiguiente, la que atrae a un mayor número de clientes, es la de \"restaurante\". Por lo tanto, se recomienda considerar esta categoría como la principal opción al evaluar la viabilidad de realizar una inversión."
   ]
  },
  {
   "cell_type": "markdown",
   "metadata": {},
   "source": [
    "Top de por Estados"
   ]
  },
  {
   "cell_type": "code",
   "execution_count": null,
   "metadata": {},
   "outputs": [
    {
     "data": {
      "image/png": "[encoded data removed]",
      "text/plain": [
       "<Figure size 1000x600 with 1 Axes>"
      ]
     },
     "metadata": {},
     "output_type": "display_data"
    }
   ],
   "source": [
    "top_5_states = restaurant['state'].value_counts()\n",
    "\n",
    "plt.figure(figsize=(10, 6))\n",
    "colors = ['blue', 'green', 'red', 'purple', 'orange']  \n",
    "top_5_states.plot(kind='barh', color=colors) \n",
    "plt.xlabel('Frequencia')\n",
    "plt.ylabel('Estados')\n",
    "plt.title('Top 5 de Estados')\n",
    "plt.show()"
   ]
  },
  {
   "cell_type": "markdown",
   "metadata": {},
   "source": [
    "Ahora, procederemos a analizar el estado más recomendable y con el mayor número de negocios, con el fin de considerarlo como un lugar óptimo para realizar inversiones. Según la información proporcionada por el gráfico previo, se determina que el estado de Nueva York ocupa el primer lugar, seguido de cerca por el estado de California. Basándonos en este análisis, podemos delinear el espacio geográfico para futuras inversiones."
   ]
  },
  {
   "cell_type": "markdown",
   "metadata": {},
   "source": [
    "Top de ciudades en el estado de nueva york"
   ]
  },
  {
   "cell_type": "code",
   "execution_count": null,
   "metadata": {},
   "outputs": [
    {
     "data": {
      "image/png": "[encoded data removed]",
      "text/plain": [
       "<Figure size 1000x600 with 1 Axes>"
      ]
     },
     "metadata": {},
     "output_type": "display_data"
    }
   ],
   "source": [
    "new_york_cities = restaurant[restaurant['state'] == 'New_York']\n",
    "\n",
    "top_cities = new_york_cities['city'].value_counts().nlargest(10)\n",
    "\n",
    "plt.figure(figsize=(10, 6))\n",
    "colors = ['blue', 'green', 'red', 'purple', 'orange', 'yellow', 'LightBlue', 'magenta', 'brown', 'gray']\n",
    "top_cities.plot(kind='bar', color = colors)\n",
    "plt.xlabel('City')\n",
    "plt.ylabel('Frequency')\n",
    "plt.title('Top Cities in New York State')\n",
    "plt.xticks(rotation=45)  \n",
    "plt.show()"
   ]
  },
  {
   "cell_type": "markdown",
   "metadata": {},
   "source": [
    "Siguiendo la misma línea del gráfico previo, en el presente gráfico se exhibe el \"top 10\" de ciudades en el estado de Nueva York con el mayor número de negocios, con el propósito de identificar la ciudad más óptima dentro de todo el estado."
   ]
  },
  {
   "cell_type": "markdown",
   "metadata": {},
   "source": [
    "Top de ciudades con mayor numero de comercios"
   ]
  },
  {
   "cell_type": "code",
   "execution_count": null,
   "metadata": {},
   "outputs": [
    {
     "data": {
      "image/png": "[encoded data removed]",
      "text/plain": [
       "<Figure size 1000x600 with 1 Axes>"
      ]
     },
     "metadata": {},
     "output_type": "display_data"
    }
   ],
   "source": [
    "top_10_categories = restaurant['city'].value_counts().nlargest(10)\n",
    "\n",
    "plt.figure(figsize=(10, 6))\n",
    "colors = ['blue', 'green', 'red', 'purple', 'orange', 'yellow', 'LightBlue', 'magenta', 'brown', 'gray']\n",
    "top_10_categories.plot(kind='bar', color=colors)\n",
    "plt.xlabel('ciudades')\n",
    "plt.ylabel('Frequencia')\n",
    "plt.title('Top 10 de ciudades')\n",
    "plt.xticks(rotation=90) \n",
    "plt.show()"
   ]
  },
  {
   "cell_type": "markdown",
   "metadata": {},
   "source": [
    "Con el fin de no descartar ninguna ciudad relevante, el gráfico actual muestra un \"top 10\" de las ciudades con el mayor número de restaurantes dentro de los 5 estados previamente seleccionados."
   ]
  },
  {
   "cell_type": "markdown",
   "metadata": {},
   "source": [
    "categorias con mayor avg rating"
   ]
  },
  {
   "cell_type": "code",
   "execution_count": null,
   "metadata": {},
   "outputs": [
    {
     "data": {
      "image/png": "[encoded data removed]",
      "text/plain": [
       "<Figure size 1000x600 with 1 Axes>"
      ]
     },
     "metadata": {},
     "output_type": "display_data"
    }
   ],
   "source": [
    "top_10_categories = restaurant['category'].value_counts().nlargest(10).index\n",
    "\n",
    "top_categories_data = restaurant[restaurant['category'].isin(top_10_categories)]\n",
    "\n",
    "top_5_avg_ratings = top_categories_data['avg_rating'].value_counts().nlargest(3).index\n",
    "\n",
    "plt.figure(figsize=(10, 6))\n",
    "\n",
    "for avg_rating in top_5_avg_ratings:\n",
    "\n",
    "    category_counts = top_categories_data[top_categories_data['avg_rating'] == avg_rating]['category'].value_counts()\n",
    "    \n",
    "    if not category_counts.empty:\n",
    "        plt.bar(category_counts.index, category_counts, label=f'Avg Rating: {avg_rating}')\n",
    "\n",
    "plt.xlabel('Category')\n",
    "plt.ylabel('Frequency')\n",
    "plt.title('Top 5 Average Ratings for Top 10 Categories')\n",
    "plt.xticks(rotation=90)\n",
    "plt.legend()\n",
    "plt.tight_layout()\n",
    "plt.show()"
   ]
  },
  {
   "cell_type": "markdown",
   "metadata": {},
   "source": [
    "Este gráfico ilustra el promedio de calificaciones para cada categoría, lo que permite identificar las categorías que son predominantemente aceptadas y que reciben más reseñas positivas."
   ]
  }
 ],
 "metadata": {
  "kernelspec": {
   "display_name": "Python 3",
   "language": "python",
   "name": "python3"
  },
  "language_info": {
   "codemirror_mode": {
    "name": "ipython",
    "version": 3
   },
   "file_extension": ".py",
   "mimetype": "text/x-python",
   "name": "python",
   "nbconvert_exporter": "python",
   "pygments_lexer": "ipython3",
   "version": "3.11.2"
  }
 },
 "nbformat": 4,
 "nbformat_minor": 2
}
