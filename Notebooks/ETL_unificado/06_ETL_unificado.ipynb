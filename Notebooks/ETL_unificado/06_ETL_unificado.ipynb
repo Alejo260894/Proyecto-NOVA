{
 "cells": [
  {
   "cell_type": "markdown",
   "metadata": {},
   "source": [
    "# **ETL Unificado**  \n",
    "#### **En este notebook se unificaran las reviews y los locales de Yelp y Google Maps en dos datasets:**  \n",
    "\n",
    "**reviews_unificadas.parquet (con las reviews de ambas fuentes) y restaurantes_unificados.parquet (con los locales de ambas fuentes)**  \n",
    "\n",
    "Importamos librerias necesarias:"
   ]
  },
  {
   "cell_type": "code",
   "execution_count": 1,
   "metadata": {},
   "outputs": [],
   "source": [
    "import pandas as pd"
   ]
  },
  {
   "cell_type": "markdown",
   "metadata": {},
   "source": [
    "## **Extracción de Datos:**  \n",
    "Importamos los parquets necesarios:"
   ]
  },
  {
   "cell_type": "code",
   "execution_count": 2,
   "metadata": {},
   "outputs": [],
   "source": [
    "# Google Maps:\n",
    "reviews_g = pd.read_parquet(\"../../Data/data_procesada/reviews_google_maps.parquet\")\n",
    "restaurantes_g = pd.read_parquet(\"../../Data/data_procesada/restaurantes.parquet\")\n",
    "\n",
    "# Yelp:\n",
    "reviews_y = pd.read_parquet(\"../../Data/data_procesada/Dataset_Review_simplificado.parquet\")\n",
    "restaurantes_y = pd.read_parquet(\"../../Data/data_procesada/Dataset_Business_simplificado.parquet\")"
   ]
  },
  {
   "cell_type": "markdown",
   "metadata": {},
   "source": [
    "## **Transformación de Datos:**  \n",
    "\n",
    "Visualizamos los dataframes empezando primero por los de reviews y después los de locales.  \n",
    "Reviews:"
   ]
  },
  {
   "cell_type": "code",
   "execution_count": 3,
   "metadata": {},
   "outputs": [
    {
     "data": {
      "text/html": [
       "<div>\n",
       "<style scoped>\n",
       "    .dataframe tbody tr th:only-of-type {\n",
       "        vertical-align: middle;\n",
       "    }\n",
       "\n",
       "    .dataframe tbody tr th {\n",
       "        vertical-align: top;\n",
       "    }\n",
       "\n",
       "    .dataframe thead th {\n",
       "        text-align: right;\n",
       "    }\n",
       "</style>\n",
       "<table border=\"1\" class=\"dataframe\">\n",
       "  <thead>\n",
       "    <tr style=\"text-align: right;\">\n",
       "      <th></th>\n",
       "      <th>user_id</th>\n",
       "      <th>user_name</th>\n",
       "      <th>year</th>\n",
       "      <th>month</th>\n",
       "      <th>day</th>\n",
       "      <th>hour</th>\n",
       "      <th>rating</th>\n",
       "      <th>text</th>\n",
       "      <th>restaurant_name</th>\n",
       "      <th>state</th>\n",
       "      <th>city</th>\n",
       "      <th>gmap_id</th>\n",
       "    </tr>\n",
       "  </thead>\n",
       "  <tbody>\n",
       "    <tr>\n",
       "      <th>0</th>\n",
       "      <td>109434968607034492648</td>\n",
       "      <td>Tony Pinto</td>\n",
       "      <td>2013</td>\n",
       "      <td>11</td>\n",
       "      <td>18</td>\n",
       "      <td>14:03:54.547</td>\n",
       "      <td>5</td>\n",
       "      <td>I came by yesterday to pick up some pizza on t...</td>\n",
       "      <td>Raffaello Kosher Pizza</td>\n",
       "      <td>New_York</td>\n",
       "      <td>New York</td>\n",
       "      <td>0x89c258ffaeaba947:0x8355860772a595a9</td>\n",
       "    </tr>\n",
       "  </tbody>\n",
       "</table>\n",
       "</div>"
      ],
      "text/plain": [
       "                 user_id   user_name  year  month  day          hour  rating  \\\n",
       "0  109434968607034492648  Tony Pinto  2013     11   18  14:03:54.547       5   \n",
       "\n",
       "                                                text         restaurant_name  \\\n",
       "0  I came by yesterday to pick up some pizza on t...  Raffaello Kosher Pizza   \n",
       "\n",
       "      state      city                                gmap_id  \n",
       "0  New_York  New York  0x89c258ffaeaba947:0x8355860772a595a9  "
      ]
     },
     "execution_count": 3,
     "metadata": {},
     "output_type": "execute_result"
    }
   ],
   "source": [
    "reviews_g.head(1)"
   ]
  },
  {
   "cell_type": "code",
   "execution_count": 4,
   "metadata": {},
   "outputs": [
    {
     "data": {
      "text/html": [
       "<div>\n",
       "<style scoped>\n",
       "    .dataframe tbody tr th:only-of-type {\n",
       "        vertical-align: middle;\n",
       "    }\n",
       "\n",
       "    .dataframe tbody tr th {\n",
       "        vertical-align: top;\n",
       "    }\n",
       "\n",
       "    .dataframe thead th {\n",
       "        text-align: right;\n",
       "    }\n",
       "</style>\n",
       "<table border=\"1\" class=\"dataframe\">\n",
       "  <thead>\n",
       "    <tr style=\"text-align: right;\">\n",
       "      <th></th>\n",
       "      <th>user_id</th>\n",
       "      <th>stars_Dataset_Review</th>\n",
       "      <th>text</th>\n",
       "      <th>id_review</th>\n",
       "      <th>id_user</th>\n",
       "      <th>id_business</th>\n",
       "      <th>anho</th>\n",
       "      <th>mes</th>\n",
       "      <th>dia</th>\n",
       "      <th>hora</th>\n",
       "      <th>name</th>\n",
       "      <th>city</th>\n",
       "      <th>state</th>\n",
       "      <th>stars_Dataset_Business</th>\n",
       "      <th>review_count</th>\n",
       "      <th>yelp_id</th>\n",
       "    </tr>\n",
       "  </thead>\n",
       "  <tbody>\n",
       "    <tr>\n",
       "      <th>0</th>\n",
       "      <td>mh_-eMZ6K5RLWhZyISBhwA</td>\n",
       "      <td>3.0</td>\n",
       "      <td>If you decide to eat here, just be aware it is...</td>\n",
       "      <td>0</td>\n",
       "      <td>124234</td>\n",
       "      <td>1867</td>\n",
       "      <td>2018</td>\n",
       "      <td>07</td>\n",
       "      <td>07</td>\n",
       "      <td>22:09:11</td>\n",
       "      <td>Turning Point of North Wales</td>\n",
       "      <td>North Wales</td>\n",
       "      <td>Pennsylvania</td>\n",
       "      <td>3.0</td>\n",
       "      <td>169</td>\n",
       "      <td>mh_-eMZ6K5RLWhZyISBhwA</td>\n",
       "    </tr>\n",
       "  </tbody>\n",
       "</table>\n",
       "</div>"
      ],
      "text/plain": [
       "                  user_id  stars_Dataset_Review  \\\n",
       "0  mh_-eMZ6K5RLWhZyISBhwA                   3.0   \n",
       "\n",
       "                                                text  id_review  id_user  \\\n",
       "0  If you decide to eat here, just be aware it is...          0   124234   \n",
       "\n",
       "   id_business  anho mes dia      hora                          name  \\\n",
       "0         1867  2018  07  07  22:09:11  Turning Point of North Wales   \n",
       "\n",
       "          city         state  stars_Dataset_Business  review_count  \\\n",
       "0  North Wales  Pennsylvania                     3.0           169   \n",
       "\n",
       "                  yelp_id  \n",
       "0  mh_-eMZ6K5RLWhZyISBhwA  "
      ]
     },
     "execution_count": 4,
     "metadata": {},
     "output_type": "execute_result"
    }
   ],
   "source": [
    "reviews_y.head(1)"
   ]
  },
  {
   "cell_type": "markdown",
   "metadata": {},
   "source": [
    "Locales (restaurantes):"
   ]
  },
  {
   "cell_type": "code",
   "execution_count": 5,
   "metadata": {},
   "outputs": [
    {
     "data": {
      "text/html": [
       "<div>\n",
       "<style scoped>\n",
       "    .dataframe tbody tr th:only-of-type {\n",
       "        vertical-align: middle;\n",
       "    }\n",
       "\n",
       "    .dataframe tbody tr th {\n",
       "        vertical-align: top;\n",
       "    }\n",
       "\n",
       "    .dataframe thead th {\n",
       "        text-align: right;\n",
       "    }\n",
       "</style>\n",
       "<table border=\"1\" class=\"dataframe\">\n",
       "  <thead>\n",
       "    <tr style=\"text-align: right;\">\n",
       "      <th></th>\n",
       "      <th>name</th>\n",
       "      <th>address</th>\n",
       "      <th>state</th>\n",
       "      <th>city</th>\n",
       "      <th>postal_code</th>\n",
       "      <th>latitude</th>\n",
       "      <th>longitude</th>\n",
       "      <th>avg_rating</th>\n",
       "      <th>num_of_reviews</th>\n",
       "      <th>price_numeric</th>\n",
       "      <th>gmap_id</th>\n",
       "      <th>category</th>\n",
       "    </tr>\n",
       "  </thead>\n",
       "  <tbody>\n",
       "    <tr>\n",
       "      <th>0</th>\n",
       "      <td>San Soo Dang</td>\n",
       "      <td>San Soo Dang, 761 S Vermont Ave, Los Angeles, ...</td>\n",
       "      <td>California</td>\n",
       "      <td>Los Angeles</td>\n",
       "      <td>90005</td>\n",
       "      <td>34.058092</td>\n",
       "      <td>-118.29213</td>\n",
       "      <td>4.4</td>\n",
       "      <td>18</td>\n",
       "      <td>0</td>\n",
       "      <td>0x80c2c778e3b73d33:0xbdc58662a4a97d49</td>\n",
       "      <td>Korean restaurant</td>\n",
       "    </tr>\n",
       "  </tbody>\n",
       "</table>\n",
       "</div>"
      ],
      "text/plain": [
       "           name                                            address  \\\n",
       "0  San Soo Dang  San Soo Dang, 761 S Vermont Ave, Los Angeles, ...   \n",
       "\n",
       "        state         city  postal_code   latitude  longitude  avg_rating  \\\n",
       "0  California  Los Angeles        90005  34.058092 -118.29213         4.4   \n",
       "\n",
       "   num_of_reviews  price_numeric                                gmap_id  \\\n",
       "0              18              0  0x80c2c778e3b73d33:0xbdc58662a4a97d49   \n",
       "\n",
       "            category  \n",
       "0  Korean restaurant  "
      ]
     },
     "execution_count": 5,
     "metadata": {},
     "output_type": "execute_result"
    }
   ],
   "source": [
    "restaurantes_g.head(1)"
   ]
  },
  {
   "cell_type": "code",
   "execution_count": 6,
   "metadata": {},
   "outputs": [
    {
     "data": {
      "text/html": [
       "<div>\n",
       "<style scoped>\n",
       "    .dataframe tbody tr th:only-of-type {\n",
       "        vertical-align: middle;\n",
       "    }\n",
       "\n",
       "    .dataframe tbody tr th {\n",
       "        vertical-align: top;\n",
       "    }\n",
       "\n",
       "    .dataframe thead th {\n",
       "        text-align: right;\n",
       "    }\n",
       "</style>\n",
       "<table border=\"1\" class=\"dataframe\">\n",
       "  <thead>\n",
       "    <tr style=\"text-align: right;\">\n",
       "      <th></th>\n",
       "      <th>id_business</th>\n",
       "      <th>name</th>\n",
       "      <th>city</th>\n",
       "      <th>state</th>\n",
       "      <th>postal_code</th>\n",
       "      <th>latitude</th>\n",
       "      <th>longitude</th>\n",
       "      <th>stars</th>\n",
       "      <th>review_count</th>\n",
       "      <th>hours_Dataset_Business</th>\n",
       "      <th>first_category</th>\n",
       "    </tr>\n",
       "  </thead>\n",
       "  <tbody>\n",
       "    <tr>\n",
       "      <th>6</th>\n",
       "      <td>3</td>\n",
       "      <td>St Honore Pastries</td>\n",
       "      <td>Philadelphia</td>\n",
       "      <td>Pennsylvania</td>\n",
       "      <td>19107</td>\n",
       "      <td>39.955505</td>\n",
       "      <td>-75.155564</td>\n",
       "      <td>4.0</td>\n",
       "      <td>80</td>\n",
       "      <td>{'Friday': '7:0-21:0', 'Monday': '7:0-20:0', '...</td>\n",
       "      <td>Restaurants</td>\n",
       "    </tr>\n",
       "  </tbody>\n",
       "</table>\n",
       "</div>"
      ],
      "text/plain": [
       "   id_business                name          city         state  postal_code  \\\n",
       "6            3  St Honore Pastries  Philadelphia  Pennsylvania        19107   \n",
       "\n",
       "    latitude  longitude  stars  review_count  \\\n",
       "6  39.955505 -75.155564    4.0            80   \n",
       "\n",
       "                              hours_Dataset_Business first_category  \n",
       "6  {'Friday': '7:0-21:0', 'Monday': '7:0-20:0', '...    Restaurants  "
      ]
     },
     "execution_count": 6,
     "metadata": {},
     "output_type": "execute_result"
    }
   ],
   "source": [
    "restaurantes_y.head(1)"
   ]
  },
  {
   "cell_type": "markdown",
   "metadata": {},
   "source": [
    "### **Trabajaremos primero con ambos dataframes de reviews.**  \n",
    "Transformaremos y eliminaremos varias columnas con el objetivo de unirlas en un solo dataframe. \n",
    "\n",
    "En primer lugar trabajaremos de manera segura creando copias de ambos dataframes:"
   ]
  },
  {
   "cell_type": "code",
   "execution_count": 11,
   "metadata": {},
   "outputs": [],
   "source": [
    "df_review_g = reviews_g.copy()\n",
    "\n",
    "df_review_y = reviews_y.copy()"
   ]
  },
  {
   "cell_type": "markdown",
   "metadata": {},
   "source": [
    "#### **Parte de reviews de Yelp**\n",
    "\n",
    "En el dataframe de reviews de Yelp hay columnas sobrantes que serán eliminadas:"
   ]
  },
  {
   "cell_type": "code",
   "execution_count": 12,
   "metadata": {},
   "outputs": [],
   "source": [
    "drop = [\"user_id\", \"id_review\", \"stars_Dataset_Business\", \"review_count\", \"yelp_id\"]\n",
    "\n",
    "df_review_y.drop(drop, axis=1, inplace=True)"
   ]
  },
  {
   "cell_type": "markdown",
   "metadata": {},
   "source": [
    "Ahora crearemos la columna 'user_name' uniendo la palabra 'user' más la columna 'id_user' ('user' + 'id_user'). Esto se hace para tener un nombre de usuario único para las reviews de Yelp asi como lo tienen las reviews de Google Maps. "
   ]
  },
  {
   "cell_type": "code",
   "execution_count": 13,
   "metadata": {},
   "outputs": [],
   "source": [
    "df_review_y['user_name'] = 'user' + df_review_y['id_user'].astype(str)"
   ]
  },
  {
   "cell_type": "markdown",
   "metadata": {},
   "source": [
    "Ahora vamos a renombrar las columnas y cambiar su orden para hacerlas lo más parecidas al dataframe de Google Maps:"
   ]
  },
  {
   "cell_type": "code",
   "execution_count": 14,
   "metadata": {},
   "outputs": [
    {
     "data": {
      "text/html": [
       "<div>\n",
       "<style scoped>\n",
       "    .dataframe tbody tr th:only-of-type {\n",
       "        vertical-align: middle;\n",
       "    }\n",
       "\n",
       "    .dataframe tbody tr th {\n",
       "        vertical-align: top;\n",
       "    }\n",
       "\n",
       "    .dataframe thead th {\n",
       "        text-align: right;\n",
       "    }\n",
       "</style>\n",
       "<table border=\"1\" class=\"dataframe\">\n",
       "  <thead>\n",
       "    <tr style=\"text-align: right;\">\n",
       "      <th></th>\n",
       "      <th>user_id</th>\n",
       "      <th>user_name</th>\n",
       "      <th>year</th>\n",
       "      <th>month</th>\n",
       "      <th>day</th>\n",
       "      <th>hour</th>\n",
       "      <th>rating</th>\n",
       "      <th>text</th>\n",
       "      <th>restaurant_name</th>\n",
       "      <th>state</th>\n",
       "      <th>city</th>\n",
       "      <th>restaurant_id</th>\n",
       "    </tr>\n",
       "  </thead>\n",
       "  <tbody>\n",
       "    <tr>\n",
       "      <th>0</th>\n",
       "      <td>124234</td>\n",
       "      <td>user124234</td>\n",
       "      <td>2018</td>\n",
       "      <td>07</td>\n",
       "      <td>07</td>\n",
       "      <td>22:09:11</td>\n",
       "      <td>3.0</td>\n",
       "      <td>If you decide to eat here, just be aware it is...</td>\n",
       "      <td>Turning Point of North Wales</td>\n",
       "      <td>Pennsylvania</td>\n",
       "      <td>North Wales</td>\n",
       "      <td>1867</td>\n",
       "    </tr>\n",
       "  </tbody>\n",
       "</table>\n",
       "</div>"
      ],
      "text/plain": [
       "   user_id   user_name  year month day      hour  rating  \\\n",
       "0   124234  user124234  2018    07  07  22:09:11     3.0   \n",
       "\n",
       "                                                text  \\\n",
       "0  If you decide to eat here, just be aware it is...   \n",
       "\n",
       "                restaurant_name         state         city  restaurant_id  \n",
       "0  Turning Point of North Wales  Pennsylvania  North Wales           1867  "
      ]
     },
     "execution_count": 14,
     "metadata": {},
     "output_type": "execute_result"
    }
   ],
   "source": [
    "# Renombramos columnas:\n",
    "\n",
    "df_review_y = df_review_y.rename(columns={\n",
    "    \"stars_Dataset_Review\": \"rating\", \n",
    "    \"id_user\": \"user_id\",\n",
    "    \"anho\": \"year\",\n",
    "    \"mes\": \"month\",\n",
    "    \"dia\": \"day\",\n",
    "    \"hora\": \"hour\",\n",
    "    \"name\": \"restaurant_name\",\n",
    "    \"id_business\": \"restaurant_id\"\n",
    "\n",
    "})\n",
    "\n",
    "# Reordenamos las columnas:\n",
    "orden = [\"user_id\", \"user_name\", \"year\", \"month\", \"day\", \"hour\", \"rating\", \"text\", \"restaurant_name\", \"state\", \"city\", \"restaurant_id\"]\n",
    "\n",
    "df_review_y = df_review_y[orden]\n",
    "df_review_y.head(1)"
   ]
  },
  {
   "cell_type": "markdown",
   "metadata": {},
   "source": [
    "Transformamos la columna 'rating' de Yelp, esta en float y la pasaremos a int:"
   ]
  },
  {
   "cell_type": "code",
   "execution_count": 15,
   "metadata": {},
   "outputs": [],
   "source": [
    "df_review_y[\"rating\"] = df_review_y[\"rating\"].astype(int)"
   ]
  },
  {
   "cell_type": "markdown",
   "metadata": {},
   "source": [
    "También modificaremos las columnas 'month' y 'day' ya que en las fechas de un digito tienen un cero por delante (se puede observar arriba en el dataframe):"
   ]
  },
  {
   "cell_type": "code",
   "execution_count": 16,
   "metadata": {},
   "outputs": [
    {
     "data": {
      "text/html": [
       "<div>\n",
       "<style scoped>\n",
       "    .dataframe tbody tr th:only-of-type {\n",
       "        vertical-align: middle;\n",
       "    }\n",
       "\n",
       "    .dataframe tbody tr th {\n",
       "        vertical-align: top;\n",
       "    }\n",
       "\n",
       "    .dataframe thead th {\n",
       "        text-align: right;\n",
       "    }\n",
       "</style>\n",
       "<table border=\"1\" class=\"dataframe\">\n",
       "  <thead>\n",
       "    <tr style=\"text-align: right;\">\n",
       "      <th></th>\n",
       "      <th>user_id</th>\n",
       "      <th>user_name</th>\n",
       "      <th>year</th>\n",
       "      <th>month</th>\n",
       "      <th>day</th>\n",
       "      <th>hour</th>\n",
       "      <th>rating</th>\n",
       "      <th>text</th>\n",
       "      <th>restaurant_name</th>\n",
       "      <th>state</th>\n",
       "      <th>city</th>\n",
       "      <th>restaurant_id</th>\n",
       "    </tr>\n",
       "  </thead>\n",
       "  <tbody>\n",
       "    <tr>\n",
       "      <th>0</th>\n",
       "      <td>124234</td>\n",
       "      <td>user124234</td>\n",
       "      <td>2018</td>\n",
       "      <td>7</td>\n",
       "      <td>7</td>\n",
       "      <td>22:09:11</td>\n",
       "      <td>3</td>\n",
       "      <td>If you decide to eat here, just be aware it is...</td>\n",
       "      <td>Turning Point of North Wales</td>\n",
       "      <td>Pennsylvania</td>\n",
       "      <td>North Wales</td>\n",
       "      <td>1867</td>\n",
       "    </tr>\n",
       "  </tbody>\n",
       "</table>\n",
       "</div>"
      ],
      "text/plain": [
       "   user_id   user_name  year  month  day      hour  rating  \\\n",
       "0   124234  user124234  2018      7    7  22:09:11       3   \n",
       "\n",
       "                                                text  \\\n",
       "0  If you decide to eat here, just be aware it is...   \n",
       "\n",
       "                restaurant_name         state         city  restaurant_id  \n",
       "0  Turning Point of North Wales  Pennsylvania  North Wales           1867  "
      ]
     },
     "execution_count": 16,
     "metadata": {},
     "output_type": "execute_result"
    }
   ],
   "source": [
    "# Eliminar ceros iniciales de las columnas 'month' y 'day'\n",
    "df_review_y['month'] = df_review_y['month'].astype(str).str.lstrip('0')\n",
    "df_review_y['day'] = df_review_y['day'].astype(str).str.lstrip('0')\n",
    "\n",
    "# Convertir las columnas a tipo int\n",
    "df_review_y['month'] = df_review_y['month'].astype(int)\n",
    "df_review_y['day'] = df_review_y['day'].astype(int)\n",
    "\n",
    "# Visualizamos:\n",
    "df_review_y.head(1)"
   ]
  },
  {
   "cell_type": "markdown",
   "metadata": {},
   "source": [
    "Ahora modificaremos los tipos de datos del dataframe:"
   ]
  },
  {
   "cell_type": "code",
   "execution_count": 17,
   "metadata": {},
   "outputs": [],
   "source": [
    "df_review_y['user_id'] = df_review_y['user_id'].astype(str)\n",
    "df_review_y['year'] = df_review_y['year'].astype(int)\n",
    "df_review_y[\"restaurant_id\"] = df_review_y[\"restaurant_id\"].astype(str)"
   ]
  },
  {
   "cell_type": "markdown",
   "metadata": {},
   "source": [
    "#### **Parte de reviews de Google Maps**\n",
    "\n",
    "Para hacerlo igual al dataframe de Yelp cambiaremos el nombre de la columna 'gmap_id' por 'restaurant_id'"
   ]
  },
  {
   "cell_type": "code",
   "execution_count": 18,
   "metadata": {},
   "outputs": [
    {
     "data": {
      "text/html": [
       "<div>\n",
       "<style scoped>\n",
       "    .dataframe tbody tr th:only-of-type {\n",
       "        vertical-align: middle;\n",
       "    }\n",
       "\n",
       "    .dataframe tbody tr th {\n",
       "        vertical-align: top;\n",
       "    }\n",
       "\n",
       "    .dataframe thead th {\n",
       "        text-align: right;\n",
       "    }\n",
       "</style>\n",
       "<table border=\"1\" class=\"dataframe\">\n",
       "  <thead>\n",
       "    <tr style=\"text-align: right;\">\n",
       "      <th></th>\n",
       "      <th>user_id</th>\n",
       "      <th>user_name</th>\n",
       "      <th>year</th>\n",
       "      <th>month</th>\n",
       "      <th>day</th>\n",
       "      <th>hour</th>\n",
       "      <th>rating</th>\n",
       "      <th>text</th>\n",
       "      <th>restaurant_name</th>\n",
       "      <th>state</th>\n",
       "      <th>city</th>\n",
       "      <th>restaurant_id</th>\n",
       "    </tr>\n",
       "  </thead>\n",
       "  <tbody>\n",
       "    <tr>\n",
       "      <th>0</th>\n",
       "      <td>109434968607034492648</td>\n",
       "      <td>Tony Pinto</td>\n",
       "      <td>2013</td>\n",
       "      <td>11</td>\n",
       "      <td>18</td>\n",
       "      <td>14:03:54.547</td>\n",
       "      <td>5</td>\n",
       "      <td>I came by yesterday to pick up some pizza on t...</td>\n",
       "      <td>Raffaello Kosher Pizza</td>\n",
       "      <td>New_York</td>\n",
       "      <td>New York</td>\n",
       "      <td>0x89c258ffaeaba947:0x8355860772a595a9</td>\n",
       "    </tr>\n",
       "  </tbody>\n",
       "</table>\n",
       "</div>"
      ],
      "text/plain": [
       "                 user_id   user_name  year  month  day          hour  rating  \\\n",
       "0  109434968607034492648  Tony Pinto  2013     11   18  14:03:54.547       5   \n",
       "\n",
       "                                                text         restaurant_name  \\\n",
       "0  I came by yesterday to pick up some pizza on t...  Raffaello Kosher Pizza   \n",
       "\n",
       "      state      city                          restaurant_id  \n",
       "0  New_York  New York  0x89c258ffaeaba947:0x8355860772a595a9  "
      ]
     },
     "execution_count": 18,
     "metadata": {},
     "output_type": "execute_result"
    }
   ],
   "source": [
    "df_review_g = df_review_g.rename(columns={\"gmap_id\": \"restaurant_id\"})\n",
    "\n",
    "df_review_g.head(1)"
   ]
  },
  {
   "cell_type": "markdown",
   "metadata": {},
   "source": [
    "#### **Concatenar Reviews**\n",
    "\n",
    "Ahora concatenaremos las reviews de Yelp y Google Maps en un solo dataframe:"
   ]
  },
  {
   "cell_type": "code",
   "execution_count": 19,
   "metadata": {},
   "outputs": [],
   "source": [
    "df_reviews_combined = pd.concat([df_review_g, df_review_y], ignore_index=True)"
   ]
  },
  {
   "cell_type": "code",
   "execution_count": 20,
   "metadata": {},
   "outputs": [
    {
     "name": "stdout",
     "output_type": "stream",
     "text": [
      "<class 'pandas.core.frame.DataFrame'>\n",
      "RangeIndex: 2544121 entries, 0 to 2544120\n",
      "Data columns (total 12 columns):\n",
      " #   Column           Dtype \n",
      "---  ------           ----- \n",
      " 0   user_id          object\n",
      " 1   user_name        object\n",
      " 2   year             int32 \n",
      " 3   month            int32 \n",
      " 4   day              int32 \n",
      " 5   hour             object\n",
      " 6   rating           int64 \n",
      " 7   text             object\n",
      " 8   restaurant_name  object\n",
      " 9   state            object\n",
      " 10  city             object\n",
      " 11  restaurant_id    object\n",
      "dtypes: int32(3), int64(1), object(8)\n",
      "memory usage: 203.8+ MB\n"
     ]
    }
   ],
   "source": [
    "df_reviews_combined.info()"
   ]
  },
  {
   "cell_type": "markdown",
   "metadata": {},
   "source": [
    "### **Ahora trabajaremos con los datos de restaurantes.**  \n",
    "Transformaremos y eliminaremos varias columnas con el objetivo de unirlas en un solo dataframe. \n",
    "\n",
    "En primer lugar trabajaremos de manera segura creando copias de ambos dataframes:"
   ]
  },
  {
   "cell_type": "code",
   "execution_count": 21,
   "metadata": {},
   "outputs": [],
   "source": [
    "restaurantes_g_copy = restaurantes_g.copy()\n",
    "\n",
    "restaurantes_y_copy = restaurantes_y.copy()"
   ]
  },
  {
   "cell_type": "markdown",
   "metadata": {},
   "source": [
    "#### **Parte de restaurantes de Yelp**\n",
    "\n",
    "En el dataframe de restaurantes de Yelp hay una columna sobrante que será eliminada ('hours_Dataset_Business'):"
   ]
  },
  {
   "cell_type": "code",
   "execution_count": 22,
   "metadata": {},
   "outputs": [],
   "source": [
    "restaurantes_y_copy.drop(\"hours_Dataset_Business\", axis=1, inplace=True)"
   ]
  },
  {
   "cell_type": "markdown",
   "metadata": {},
   "source": [
    "Añadiremos la columna de 'price_numeric' que se encuentra también en el dataframe de Yelp.   \n",
    "(Aunque en el caso de Yelp al no tener un dato todos sus valores serán 0, equivalente a 'Sin Dato')"
   ]
  },
  {
   "cell_type": "code",
   "execution_count": 23,
   "metadata": {},
   "outputs": [],
   "source": [
    "restaurantes_y_copy[\"price_numeric\"] = 0"
   ]
  },
  {
   "cell_type": "markdown",
   "metadata": {},
   "source": [
    "Cambiaremos el tipo de dato de la columna 'id_business' y renombraremos las columnas:"
   ]
  },
  {
   "cell_type": "code",
   "execution_count": 24,
   "metadata": {},
   "outputs": [
    {
     "data": {
      "text/html": [
       "<div>\n",
       "<style scoped>\n",
       "    .dataframe tbody tr th:only-of-type {\n",
       "        vertical-align: middle;\n",
       "    }\n",
       "\n",
       "    .dataframe tbody tr th {\n",
       "        vertical-align: top;\n",
       "    }\n",
       "\n",
       "    .dataframe thead th {\n",
       "        text-align: right;\n",
       "    }\n",
       "</style>\n",
       "<table border=\"1\" class=\"dataframe\">\n",
       "  <thead>\n",
       "    <tr style=\"text-align: right;\">\n",
       "      <th></th>\n",
       "      <th>restaurant_id</th>\n",
       "      <th>name</th>\n",
       "      <th>city</th>\n",
       "      <th>state</th>\n",
       "      <th>postal_code</th>\n",
       "      <th>latitude</th>\n",
       "      <th>longitude</th>\n",
       "      <th>stars</th>\n",
       "      <th>review_count</th>\n",
       "      <th>categories</th>\n",
       "      <th>price_numeric</th>\n",
       "    </tr>\n",
       "  </thead>\n",
       "  <tbody>\n",
       "    <tr>\n",
       "      <th>6</th>\n",
       "      <td>3</td>\n",
       "      <td>St Honore Pastries</td>\n",
       "      <td>Philadelphia</td>\n",
       "      <td>Pennsylvania</td>\n",
       "      <td>19107</td>\n",
       "      <td>39.955505</td>\n",
       "      <td>-75.155564</td>\n",
       "      <td>4.0</td>\n",
       "      <td>80</td>\n",
       "      <td>Restaurants</td>\n",
       "      <td>0</td>\n",
       "    </tr>\n",
       "  </tbody>\n",
       "</table>\n",
       "</div>"
      ],
      "text/plain": [
       "  restaurant_id                name          city         state  postal_code  \\\n",
       "6             3  St Honore Pastries  Philadelphia  Pennsylvania        19107   \n",
       "\n",
       "    latitude  longitude  stars  review_count   categories  price_numeric  \n",
       "6  39.955505 -75.155564    4.0            80  Restaurants              0  "
      ]
     },
     "execution_count": 24,
     "metadata": {},
     "output_type": "execute_result"
    }
   ],
   "source": [
    "# Cambiamos el tipo de dato de int a str:\n",
    "restaurantes_y_copy[\"id_business\"] = restaurantes_y_copy[\"id_business\"].astype(str)\n",
    "\n",
    "# Renombramos columnas:\n",
    "restaurantes_y_copy = restaurantes_y_copy.rename(columns={\n",
    "    \"id_business\": \"restaurant_id\", \n",
    "    \"first_category\": \"categories\"\n",
    "})\n",
    "\n",
    "restaurantes_y_copy.head(1)"
   ]
  },
  {
   "cell_type": "markdown",
   "metadata": {},
   "source": [
    "Nuevo orden de columnas:"
   ]
  },
  {
   "cell_type": "code",
   "execution_count": 25,
   "metadata": {},
   "outputs": [
    {
     "data": {
      "text/html": [
       "<div>\n",
       "<style scoped>\n",
       "    .dataframe tbody tr th:only-of-type {\n",
       "        vertical-align: middle;\n",
       "    }\n",
       "\n",
       "    .dataframe tbody tr th {\n",
       "        vertical-align: top;\n",
       "    }\n",
       "\n",
       "    .dataframe thead th {\n",
       "        text-align: right;\n",
       "    }\n",
       "</style>\n",
       "<table border=\"1\" class=\"dataframe\">\n",
       "  <thead>\n",
       "    <tr style=\"text-align: right;\">\n",
       "      <th></th>\n",
       "      <th>name</th>\n",
       "      <th>state</th>\n",
       "      <th>city</th>\n",
       "      <th>postal_code</th>\n",
       "      <th>latitude</th>\n",
       "      <th>longitude</th>\n",
       "      <th>stars</th>\n",
       "      <th>review_count</th>\n",
       "      <th>price_numeric</th>\n",
       "      <th>categories</th>\n",
       "      <th>restaurant_id</th>\n",
       "    </tr>\n",
       "  </thead>\n",
       "  <tbody>\n",
       "    <tr>\n",
       "      <th>6</th>\n",
       "      <td>St Honore Pastries</td>\n",
       "      <td>Pennsylvania</td>\n",
       "      <td>Philadelphia</td>\n",
       "      <td>19107</td>\n",
       "      <td>39.955505</td>\n",
       "      <td>-75.155564</td>\n",
       "      <td>4.0</td>\n",
       "      <td>80</td>\n",
       "      <td>0</td>\n",
       "      <td>Restaurants</td>\n",
       "      <td>3</td>\n",
       "    </tr>\n",
       "  </tbody>\n",
       "</table>\n",
       "</div>"
      ],
      "text/plain": [
       "                 name         state          city  postal_code   latitude  \\\n",
       "6  St Honore Pastries  Pennsylvania  Philadelphia        19107  39.955505   \n",
       "\n",
       "   longitude  stars  review_count  price_numeric   categories restaurant_id  \n",
       "6 -75.155564    4.0            80              0  Restaurants             3  "
      ]
     },
     "execution_count": 25,
     "metadata": {},
     "output_type": "execute_result"
    }
   ],
   "source": [
    "# Reordenamos las columnas:\n",
    "orden_rest_y = [\"name\", \"state\", \"city\", \"postal_code\", \"latitude\", \"longitude\", \"stars\", \"review_count\", \"price_numeric\", \"categories\", \"restaurant_id\"]\n",
    "\n",
    "restaurantes_y_copy = restaurantes_y_copy[orden_rest_y]\n",
    "restaurantes_y_copy.head(1)"
   ]
  },
  {
   "cell_type": "markdown",
   "metadata": {},
   "source": [
    "#### **Parte de restaurantes de Google Maps**\n",
    "\n",
    "En el dataframe de restaurantes de Google Maps hay una columna sobrante que será eliminada ('address'):"
   ]
  },
  {
   "cell_type": "code",
   "execution_count": 26,
   "metadata": {},
   "outputs": [],
   "source": [
    "restaurantes_g_copy.drop(\"address\", axis=1, inplace=True)"
   ]
  },
  {
   "cell_type": "markdown",
   "metadata": {},
   "source": [
    "Renombramos columnas y reordenamos el dataframe:"
   ]
  },
  {
   "cell_type": "code",
   "execution_count": 27,
   "metadata": {},
   "outputs": [
    {
     "data": {
      "text/html": [
       "<div>\n",
       "<style scoped>\n",
       "    .dataframe tbody tr th:only-of-type {\n",
       "        vertical-align: middle;\n",
       "    }\n",
       "\n",
       "    .dataframe tbody tr th {\n",
       "        vertical-align: top;\n",
       "    }\n",
       "\n",
       "    .dataframe thead th {\n",
       "        text-align: right;\n",
       "    }\n",
       "</style>\n",
       "<table border=\"1\" class=\"dataframe\">\n",
       "  <thead>\n",
       "    <tr style=\"text-align: right;\">\n",
       "      <th></th>\n",
       "      <th>name</th>\n",
       "      <th>state</th>\n",
       "      <th>city</th>\n",
       "      <th>postal_code</th>\n",
       "      <th>latitude</th>\n",
       "      <th>longitude</th>\n",
       "      <th>stars</th>\n",
       "      <th>review_count</th>\n",
       "      <th>price_numeric</th>\n",
       "      <th>categories</th>\n",
       "      <th>restaurant_id</th>\n",
       "    </tr>\n",
       "  </thead>\n",
       "  <tbody>\n",
       "    <tr>\n",
       "      <th>0</th>\n",
       "      <td>San Soo Dang</td>\n",
       "      <td>California</td>\n",
       "      <td>Los Angeles</td>\n",
       "      <td>90005</td>\n",
       "      <td>34.058092</td>\n",
       "      <td>-118.29213</td>\n",
       "      <td>4.4</td>\n",
       "      <td>18</td>\n",
       "      <td>0</td>\n",
       "      <td>Korean restaurant</td>\n",
       "      <td>0x80c2c778e3b73d33:0xbdc58662a4a97d49</td>\n",
       "    </tr>\n",
       "  </tbody>\n",
       "</table>\n",
       "</div>"
      ],
      "text/plain": [
       "           name       state         city  postal_code   latitude  longitude  \\\n",
       "0  San Soo Dang  California  Los Angeles        90005  34.058092 -118.29213   \n",
       "\n",
       "   stars  review_count  price_numeric         categories  \\\n",
       "0    4.4            18              0  Korean restaurant   \n",
       "\n",
       "                           restaurant_id  \n",
       "0  0x80c2c778e3b73d33:0xbdc58662a4a97d49  "
      ]
     },
     "execution_count": 27,
     "metadata": {},
     "output_type": "execute_result"
    }
   ],
   "source": [
    "# Renombramos columnas:\n",
    "restaurantes_g_copy = restaurantes_g_copy.rename(columns={\n",
    "    \"avg_rating\": \"stars\", \n",
    "    \"num_of_reviews\": \"review_count\",\n",
    "    \"category\": \"categories\",\n",
    "    \"gmap_id\": \"restaurant_id\"\n",
    "})\n",
    "\n",
    "# Reordenamos las columnas:\n",
    "orden_rest_g = [\"name\", \"state\", \"city\", \"postal_code\", \"latitude\", \"longitude\", \"stars\", \"review_count\", \"price_numeric\", \"categories\", \"restaurant_id\"]\n",
    "\n",
    "restaurantes_g_copy = restaurantes_g_copy[orden_rest_g]\n",
    "restaurantes_g_copy.head(1)"
   ]
  },
  {
   "cell_type": "markdown",
   "metadata": {},
   "source": [
    "#### **Concatenar Restaurantes**\n",
    "\n",
    "Ahora concatenaremos los restaurantes de Yelp y Google Maps en un solo dataframe:"
   ]
  },
  {
   "cell_type": "code",
   "execution_count": 28,
   "metadata": {},
   "outputs": [],
   "source": [
    "df_restaurantes_combined = pd.concat([restaurantes_g_copy, restaurantes_y_copy], ignore_index=True)"
   ]
  },
  {
   "cell_type": "code",
   "execution_count": 29,
   "metadata": {},
   "outputs": [
    {
     "name": "stdout",
     "output_type": "stream",
     "text": [
      "<class 'pandas.core.frame.DataFrame'>\n",
      "RangeIndex: 31761 entries, 0 to 31760\n",
      "Data columns (total 11 columns):\n",
      " #   Column         Non-Null Count  Dtype  \n",
      "---  ------         --------------  -----  \n",
      " 0   name           31761 non-null  object \n",
      " 1   state          31761 non-null  object \n",
      " 2   city           31761 non-null  object \n",
      " 3   postal_code    31761 non-null  int64  \n",
      " 4   latitude       31761 non-null  float64\n",
      " 5   longitude      31761 non-null  float64\n",
      " 6   stars          31761 non-null  float64\n",
      " 7   review_count   31761 non-null  int64  \n",
      " 8   price_numeric  31761 non-null  int64  \n",
      " 9   categories     31761 non-null  object \n",
      " 10  restaurant_id  31761 non-null  object \n",
      "dtypes: float64(3), int64(3), object(5)\n",
      "memory usage: 2.7+ MB\n"
     ]
    }
   ],
   "source": [
    "df_restaurantes_combined.info()"
   ]
  },
  {
   "cell_type": "markdown",
   "metadata": {},
   "source": [
    "## **Carga de Datos:**  \n",
    "\n",
    "Guardaremos nuestros dataframes en archivos parquet:"
   ]
  },
  {
   "cell_type": "markdown",
   "metadata": {},
   "source": [
    "Datos de las reviews, Dataframe 'df_reviews_combined'. Lo usaremos para análisis."
   ]
  },
  {
   "cell_type": "code",
   "execution_count": 31,
   "metadata": {},
   "outputs": [],
   "source": [
    "df_reviews_combined.to_parquet(\"../../Data/data_procesada/reviews_unificadas.parquet\")"
   ]
  },
  {
   "cell_type": "markdown",
   "metadata": {},
   "source": [
    "Datos de las restaurantes, Dataframe 'df_restaurantes_combined'. Lo usaremos para análisis."
   ]
  },
  {
   "cell_type": "code",
   "execution_count": 32,
   "metadata": {},
   "outputs": [],
   "source": [
    "df_restaurantes_combined.to_parquet(\"../../Data/data_procesada/restaurantes_unificados.parquet\")"
   ]
  }
 ],
 "metadata": {
  "kernelspec": {
   "display_name": "venv",
   "language": "python",
   "name": "python3"
  },
  "language_info": {
   "codemirror_mode": {
    "name": "ipython",
    "version": 3
   },
   "file_extension": ".py",
   "mimetype": "text/x-python",
   "name": "python",
   "nbconvert_exporter": "python",
   "pygments_lexer": "ipython3",
   "version": "3.10.11"
  }
 },
 "nbformat": 4,
 "nbformat_minor": 2
}
