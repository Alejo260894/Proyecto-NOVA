{
 "cells": [
  {
   "cell_type": "markdown",
   "metadata": {},
   "source": [
    "# **ETL de Google Maps**  \n",
    "**Empezamos nuestro trabajo con la extracción de los datos de archivos json:**"
   ]
  },
  {
   "cell_type": "markdown",
   "metadata": {},
   "source": [
    "Importamos librerias necesarias:"
   ]
  },
  {
   "cell_type": "code",
   "execution_count": 1,
   "metadata": {},
   "outputs": [],
   "source": [
    "import pandas as pd\n",
    "import json\n",
    "import os"
   ]
  },
  {
   "cell_type": "markdown",
   "metadata": {},
   "source": [
    "## **Extracción de Datos:**"
   ]
  },
  {
   "cell_type": "markdown",
   "metadata": {},
   "source": [
    "El siguiente código crea diferentes dataframes por cada estado, leyendo cada archivo JSON de su respectivo estado.  \n",
    "Guarda cada dataframe en una lista y estos luego son concatenados en un único dataframe."
   ]
  },
  {
   "cell_type": "code",
   "execution_count": 2,
   "metadata": {},
   "outputs": [],
   "source": [
    "# Función que retorna un dataframe, dependiendo de la ruta que varia en el ciclo for de más abajo\n",
    "# Abre cada directorio diferente e itera sobre cada archivo JSON:\n",
    "def cargar_reviews(ruta_estado):\n",
    "    reviews_estado = []\n",
    "    for directorio in os.listdir(ruta_estado):\n",
    "        ruta_archivo = os.path.join(ruta_estado, directorio)\n",
    "        with open(ruta_archivo, 'r') as archivo:\n",
    "            for linea in archivo:\n",
    "                review_data = json.loads(linea)\n",
    "                reviews_estado.append(review_data)\n",
    "    return pd.DataFrame(reviews_estado)\n",
    "\n",
    "estados = ['california', 'florida', 'hawaii', 'nevada', 'new_york'] # Carpetas de estados\n",
    "\n",
    "dfs = []    # Lista donde se guardan cada dataframe                       \n",
    "\n",
    "# Iteramos por cada estado en la lista de estados:\n",
    "for estado in estados:\n",
    "    ruta_estado = f'../../Data/google_maps/reviews_estados/{estado}/' # Ruta de cada estados por iteración\n",
    "    df_estado = cargar_reviews(ruta_estado)                   # Se llama a la función 'cargar_reviews'\n",
    "    dfs.append(df_estado)                                     # Se añade el dataframe a la lista"
   ]
  },
  {
   "cell_type": "markdown",
   "metadata": {},
   "source": [
    "**Concatenamos los dataframes en uno solo:**"
   ]
  },
  {
   "cell_type": "code",
   "execution_count": 3,
   "metadata": {},
   "outputs": [],
   "source": [
    "df = pd.concat(dfs, ignore_index=True)"
   ]
  },
  {
   "cell_type": "markdown",
   "metadata": {},
   "source": [
    "Eliminamos las columna innecesarias: 'pics' y 'resp'"
   ]
  },
  {
   "cell_type": "code",
   "execution_count": 4,
   "metadata": {},
   "outputs": [],
   "source": [
    "drops = [\"pics\", \"resp\"]\n",
    "df.drop(drops, axis=1, inplace=True)"
   ]
  },
  {
   "cell_type": "code",
   "execution_count": 5,
   "metadata": {},
   "outputs": [
    {
     "name": "stdout",
     "output_type": "stream",
     "text": [
      "<class 'pandas.core.frame.DataFrame'>\n",
      "RangeIndex: 11554347 entries, 0 to 11554346\n",
      "Data columns (total 6 columns):\n",
      " #   Column   Dtype \n",
      "---  ------   ----- \n",
      " 0   user_id  object\n",
      " 1   name     object\n",
      " 2   time     int64 \n",
      " 3   rating   int64 \n",
      " 4   text     object\n",
      " 5   gmap_id  object\n",
      "dtypes: int64(2), object(4)\n",
      "memory usage: 528.9+ MB\n"
     ]
    }
   ],
   "source": [
    "df.info()"
   ]
  },
  {
   "cell_type": "markdown",
   "metadata": {},
   "source": [
    "### **Guardamos en un parquet los resultados:**    \n",
    "**No queremos hacer devuelta todo el tiempo la lectura de json's (tarda demasiado)**"
   ]
  },
  {
   "cell_type": "code",
   "execution_count": 6,
   "metadata": {},
   "outputs": [],
   "source": [
    "df.to_parquet(\"../../Data/data_preprocesada/reviews_estado_puro.parquet\")"
   ]
  },
  {
   "cell_type": "markdown",
   "metadata": {},
   "source": [
    "## **Transformación de Datos:**  \n",
    "\n",
    "**Leemos el parquet guardado:**"
   ]
  },
  {
   "cell_type": "code",
   "execution_count": 2,
   "metadata": {},
   "outputs": [],
   "source": [
    "df_reviews = pd.read_parquet(\"../../Data/data_preprocesada/reviews_estado_puro.parquet\")"
   ]
  },
  {
   "cell_type": "code",
   "execution_count": 3,
   "metadata": {},
   "outputs": [
    {
     "data": {
      "text/plain": [
       "user_id          0\n",
       "name             0\n",
       "time             0\n",
       "rating           0\n",
       "text       4800965\n",
       "gmap_id          0\n",
       "dtype: int64"
      ]
     },
     "execution_count": 3,
     "metadata": {},
     "output_type": "execute_result"
    }
   ],
   "source": [
    "df_reviews.isna().sum()"
   ]
  },
  {
   "cell_type": "markdown",
   "metadata": {},
   "source": [
    "Para poder filtrar las reviews de solo restaurantes, tenemos que traer ya los datos de estos mismos restaurantes, a traves del parquet:  \n",
    "'restaurantes.parquet'. Para el primer paso traemos el archivo:"
   ]
  },
  {
   "cell_type": "code",
   "execution_count": 4,
   "metadata": {},
   "outputs": [],
   "source": [
    "restaurantes = pd.read_parquet(\"../../Data/data_procesada/restaurantes.parquet\")"
   ]
  },
  {
   "cell_type": "markdown",
   "metadata": {},
   "source": [
    "Filtramos las reviews a traves de los restaurantes:"
   ]
  },
  {
   "cell_type": "code",
   "execution_count": 5,
   "metadata": {},
   "outputs": [],
   "source": [
    "reviews_filtradas = df_reviews[df_reviews['gmap_id'].isin(restaurantes['gmap_id'])]\n",
    "\n",
    "df_reviews_filtradas= pd.DataFrame(reviews_filtradas)"
   ]
  },
  {
   "cell_type": "code",
   "execution_count": 6,
   "metadata": {},
   "outputs": [
    {
     "name": "stdout",
     "output_type": "stream",
     "text": [
      "<class 'pandas.core.frame.DataFrame'>\n",
      "Index: 1596014 entries, 0 to 11554346\n",
      "Data columns (total 6 columns):\n",
      " #   Column   Non-Null Count    Dtype \n",
      "---  ------   --------------    ----- \n",
      " 0   user_id  1596014 non-null  object\n",
      " 1   name     1596014 non-null  object\n",
      " 2   time     1596014 non-null  int64 \n",
      " 3   rating   1596014 non-null  int64 \n",
      " 4   text     972481 non-null   object\n",
      " 5   gmap_id  1596014 non-null  object\n",
      "dtypes: int64(2), object(4)\n",
      "memory usage: 85.2+ MB\n"
     ]
    }
   ],
   "source": [
    "df_reviews_filtradas.info()"
   ]
  },
  {
   "cell_type": "code",
   "execution_count": 8,
   "metadata": {},
   "outputs": [
    {
     "data": {
      "text/html": [
       "<div>\n",
       "<style scoped>\n",
       "    .dataframe tbody tr th:only-of-type {\n",
       "        vertical-align: middle;\n",
       "    }\n",
       "\n",
       "    .dataframe tbody tr th {\n",
       "        vertical-align: top;\n",
       "    }\n",
       "\n",
       "    .dataframe thead th {\n",
       "        text-align: right;\n",
       "    }\n",
       "</style>\n",
       "<table border=\"1\" class=\"dataframe\">\n",
       "  <thead>\n",
       "    <tr style=\"text-align: right;\">\n",
       "      <th></th>\n",
       "      <th>user_id</th>\n",
       "      <th>name</th>\n",
       "      <th>time</th>\n",
       "      <th>rating</th>\n",
       "      <th>text</th>\n",
       "      <th>gmap_id</th>\n",
       "    </tr>\n",
       "  </thead>\n",
       "  <tbody>\n",
       "    <tr>\n",
       "      <th>0</th>\n",
       "      <td>108991152262655788985</td>\n",
       "      <td>Song Ro</td>\n",
       "      <td>1609909927056</td>\n",
       "      <td>5</td>\n",
       "      <td>Love there korean rice cake.</td>\n",
       "      <td>0x80c2c778e3b73d33:0xbdc58662a4a97d49</td>\n",
       "    </tr>\n",
       "    <tr>\n",
       "      <th>1</th>\n",
       "      <td>111290322219796215751</td>\n",
       "      <td>Rafa Robles</td>\n",
       "      <td>1612849648663</td>\n",
       "      <td>5</td>\n",
       "      <td>Good very good</td>\n",
       "      <td>0x80c2c778e3b73d33:0xbdc58662a4a97d49</td>\n",
       "    </tr>\n",
       "    <tr>\n",
       "      <th>2</th>\n",
       "      <td>112640357449611959087</td>\n",
       "      <td>David Han</td>\n",
       "      <td>1583643882296</td>\n",
       "      <td>4</td>\n",
       "      <td>They make Korean traditional food very properly.</td>\n",
       "      <td>0x80c2c778e3b73d33:0xbdc58662a4a97d49</td>\n",
       "    </tr>\n",
       "    <tr>\n",
       "      <th>3</th>\n",
       "      <td>117440349723823658676</td>\n",
       "      <td>Anthony Kim</td>\n",
       "      <td>1551938216355</td>\n",
       "      <td>5</td>\n",
       "      <td>Short ribs are very delicious.</td>\n",
       "      <td>0x80c2c778e3b73d33:0xbdc58662a4a97d49</td>\n",
       "    </tr>\n",
       "    <tr>\n",
       "      <th>4</th>\n",
       "      <td>100580770836123539210</td>\n",
       "      <td>Mario Marzouk</td>\n",
       "      <td>1494910901933</td>\n",
       "      <td>5</td>\n",
       "      <td>Great food and prices the portions are large</td>\n",
       "      <td>0x80c2c778e3b73d33:0xbdc58662a4a97d49</td>\n",
       "    </tr>\n",
       "  </tbody>\n",
       "</table>\n",
       "</div>"
      ],
      "text/plain": [
       "                 user_id           name           time  rating  \\\n",
       "0  108991152262655788985        Song Ro  1609909927056       5   \n",
       "1  111290322219796215751    Rafa Robles  1612849648663       5   \n",
       "2  112640357449611959087      David Han  1583643882296       4   \n",
       "3  117440349723823658676    Anthony Kim  1551938216355       5   \n",
       "4  100580770836123539210  Mario Marzouk  1494910901933       5   \n",
       "\n",
       "                                               text  \\\n",
       "0                      Love there korean rice cake.   \n",
       "1                                    Good very good   \n",
       "2  They make Korean traditional food very properly.   \n",
       "3                    Short ribs are very delicious.   \n",
       "4      Great food and prices the portions are large   \n",
       "\n",
       "                                 gmap_id  \n",
       "0  0x80c2c778e3b73d33:0xbdc58662a4a97d49  \n",
       "1  0x80c2c778e3b73d33:0xbdc58662a4a97d49  \n",
       "2  0x80c2c778e3b73d33:0xbdc58662a4a97d49  \n",
       "3  0x80c2c778e3b73d33:0xbdc58662a4a97d49  \n",
       "4  0x80c2c778e3b73d33:0xbdc58662a4a97d49  "
      ]
     },
     "execution_count": 8,
     "metadata": {},
     "output_type": "execute_result"
    }
   ],
   "source": [
    "df_reviews_filtradas.head(5)"
   ]
  },
  {
   "cell_type": "markdown",
   "metadata": {},
   "source": [
    "**Fusionaremos con merge() los Dataframes: 'restaurantes' y 'df_reviews_filtradas'**\n",
    "\n",
    "Para más claridad cambiaremos los nombres de las columnas 'name' de ambos dataframes a nombres más especificos: user_name y restaurant_name."
   ]
  },
  {
   "cell_type": "code",
   "execution_count": 11,
   "metadata": {},
   "outputs": [],
   "source": [
    "df_reviews_filtradas.rename(columns={'name':'user_name'}, inplace=True)\n",
    "\n",
    "restaurantes.rename(columns={'name':'restaurant_name'}, inplace=True)"
   ]
  },
  {
   "cell_type": "code",
   "execution_count": 15,
   "metadata": {},
   "outputs": [
    {
     "data": {
      "text/html": [
       "<div>\n",
       "<style scoped>\n",
       "    .dataframe tbody tr th:only-of-type {\n",
       "        vertical-align: middle;\n",
       "    }\n",
       "\n",
       "    .dataframe tbody tr th {\n",
       "        vertical-align: top;\n",
       "    }\n",
       "\n",
       "    .dataframe thead th {\n",
       "        text-align: right;\n",
       "    }\n",
       "</style>\n",
       "<table border=\"1\" class=\"dataframe\">\n",
       "  <thead>\n",
       "    <tr style=\"text-align: right;\">\n",
       "      <th></th>\n",
       "      <th>user_id</th>\n",
       "      <th>user_name</th>\n",
       "      <th>time</th>\n",
       "      <th>rating</th>\n",
       "      <th>text</th>\n",
       "      <th>gmap_id</th>\n",
       "      <th>restaurant_name</th>\n",
       "      <th>state</th>\n",
       "      <th>city</th>\n",
       "    </tr>\n",
       "  </thead>\n",
       "  <tbody>\n",
       "    <tr>\n",
       "      <th>0</th>\n",
       "      <td>108991152262655788985</td>\n",
       "      <td>Song Ro</td>\n",
       "      <td>1609909927056</td>\n",
       "      <td>5</td>\n",
       "      <td>Love there korean rice cake.</td>\n",
       "      <td>0x80c2c778e3b73d33:0xbdc58662a4a97d49</td>\n",
       "      <td>San Soo Dang</td>\n",
       "      <td>California</td>\n",
       "      <td>Los Angeles</td>\n",
       "    </tr>\n",
       "    <tr>\n",
       "      <th>1</th>\n",
       "      <td>111290322219796215751</td>\n",
       "      <td>Rafa Robles</td>\n",
       "      <td>1612849648663</td>\n",
       "      <td>5</td>\n",
       "      <td>Good very good</td>\n",
       "      <td>0x80c2c778e3b73d33:0xbdc58662a4a97d49</td>\n",
       "      <td>San Soo Dang</td>\n",
       "      <td>California</td>\n",
       "      <td>Los Angeles</td>\n",
       "    </tr>\n",
       "    <tr>\n",
       "      <th>2</th>\n",
       "      <td>112640357449611959087</td>\n",
       "      <td>David Han</td>\n",
       "      <td>1583643882296</td>\n",
       "      <td>4</td>\n",
       "      <td>They make Korean traditional food very properly.</td>\n",
       "      <td>0x80c2c778e3b73d33:0xbdc58662a4a97d49</td>\n",
       "      <td>San Soo Dang</td>\n",
       "      <td>California</td>\n",
       "      <td>Los Angeles</td>\n",
       "    </tr>\n",
       "    <tr>\n",
       "      <th>3</th>\n",
       "      <td>117440349723823658676</td>\n",
       "      <td>Anthony Kim</td>\n",
       "      <td>1551938216355</td>\n",
       "      <td>5</td>\n",
       "      <td>Short ribs are very delicious.</td>\n",
       "      <td>0x80c2c778e3b73d33:0xbdc58662a4a97d49</td>\n",
       "      <td>San Soo Dang</td>\n",
       "      <td>California</td>\n",
       "      <td>Los Angeles</td>\n",
       "    </tr>\n",
       "    <tr>\n",
       "      <th>4</th>\n",
       "      <td>100580770836123539210</td>\n",
       "      <td>Mario Marzouk</td>\n",
       "      <td>1494910901933</td>\n",
       "      <td>5</td>\n",
       "      <td>Great food and prices the portions are large</td>\n",
       "      <td>0x80c2c778e3b73d33:0xbdc58662a4a97d49</td>\n",
       "      <td>San Soo Dang</td>\n",
       "      <td>California</td>\n",
       "      <td>Los Angeles</td>\n",
       "    </tr>\n",
       "  </tbody>\n",
       "</table>\n",
       "</div>"
      ],
      "text/plain": [
       "                 user_id      user_name           time  rating  \\\n",
       "0  108991152262655788985        Song Ro  1609909927056       5   \n",
       "1  111290322219796215751    Rafa Robles  1612849648663       5   \n",
       "2  112640357449611959087      David Han  1583643882296       4   \n",
       "3  117440349723823658676    Anthony Kim  1551938216355       5   \n",
       "4  100580770836123539210  Mario Marzouk  1494910901933       5   \n",
       "\n",
       "                                               text  \\\n",
       "0                      Love there korean rice cake.   \n",
       "1                                    Good very good   \n",
       "2  They make Korean traditional food very properly.   \n",
       "3                    Short ribs are very delicious.   \n",
       "4      Great food and prices the portions are large   \n",
       "\n",
       "                                 gmap_id restaurant_name       state  \\\n",
       "0  0x80c2c778e3b73d33:0xbdc58662a4a97d49    San Soo Dang  California   \n",
       "1  0x80c2c778e3b73d33:0xbdc58662a4a97d49    San Soo Dang  California   \n",
       "2  0x80c2c778e3b73d33:0xbdc58662a4a97d49    San Soo Dang  California   \n",
       "3  0x80c2c778e3b73d33:0xbdc58662a4a97d49    San Soo Dang  California   \n",
       "4  0x80c2c778e3b73d33:0xbdc58662a4a97d49    San Soo Dang  California   \n",
       "\n",
       "          city  \n",
       "0  Los Angeles  \n",
       "1  Los Angeles  \n",
       "2  Los Angeles  \n",
       "3  Los Angeles  \n",
       "4  Los Angeles  "
      ]
     },
     "execution_count": 15,
     "metadata": {},
     "output_type": "execute_result"
    }
   ],
   "source": [
    "# Fusionamos:\n",
    "df_reviews_filtradas = pd.merge(df_reviews_filtradas, restaurantes[['gmap_id', 'restaurant_name', 'state', 'city']], on='gmap_id', how='inner')\n",
    "df_reviews_filtradas.head(5)"
   ]
  },
  {
   "cell_type": "code",
   "execution_count": 17,
   "metadata": {},
   "outputs": [
    {
     "data": {
      "text/plain": [
       "user_id                 0\n",
       "user_name               0\n",
       "time                    0\n",
       "rating                  0\n",
       "text               623533\n",
       "gmap_id                 0\n",
       "restaurant_name         0\n",
       "state                   0\n",
       "city                    0\n",
       "dtype: int64"
      ]
     },
     "execution_count": 17,
     "metadata": {},
     "output_type": "execute_result"
    }
   ],
   "source": [
    "df_reviews_filtradas.isna().sum()"
   ]
  },
  {
   "cell_type": "markdown",
   "metadata": {},
   "source": [
    "Como observamos, los unicos nulos que posee nuestro Dataframe son el texto de las reviews, por lo tanto los rellenaremos con 'SD' (Sin Dato):"
   ]
  },
  {
   "cell_type": "code",
   "execution_count": 19,
   "metadata": {},
   "outputs": [
    {
     "data": {
      "text/plain": [
       "user_id            0\n",
       "user_name          0\n",
       "time               0\n",
       "rating             0\n",
       "text               0\n",
       "gmap_id            0\n",
       "restaurant_name    0\n",
       "state              0\n",
       "city               0\n",
       "dtype: int64"
      ]
     },
     "execution_count": 19,
     "metadata": {},
     "output_type": "execute_result"
    }
   ],
   "source": [
    "df_reviews_filtradas[\"text\"] = df_reviews_filtradas[\"text\"].fillna(\"SD\")\n",
    "df_reviews_filtradas.isna().sum()"
   ]
  },
  {
   "cell_type": "markdown",
   "metadata": {},
   "source": [
    "Reordenamos las columnas:"
   ]
  },
  {
   "cell_type": "code",
   "execution_count": 20,
   "metadata": {},
   "outputs": [
    {
     "data": {
      "text/html": [
       "<div>\n",
       "<style scoped>\n",
       "    .dataframe tbody tr th:only-of-type {\n",
       "        vertical-align: middle;\n",
       "    }\n",
       "\n",
       "    .dataframe tbody tr th {\n",
       "        vertical-align: top;\n",
       "    }\n",
       "\n",
       "    .dataframe thead th {\n",
       "        text-align: right;\n",
       "    }\n",
       "</style>\n",
       "<table border=\"1\" class=\"dataframe\">\n",
       "  <thead>\n",
       "    <tr style=\"text-align: right;\">\n",
       "      <th></th>\n",
       "      <th>user_id</th>\n",
       "      <th>user_name</th>\n",
       "      <th>time</th>\n",
       "      <th>rating</th>\n",
       "      <th>text</th>\n",
       "      <th>restaurant_name</th>\n",
       "      <th>state</th>\n",
       "      <th>city</th>\n",
       "      <th>gmap_id</th>\n",
       "    </tr>\n",
       "  </thead>\n",
       "  <tbody>\n",
       "    <tr>\n",
       "      <th>0</th>\n",
       "      <td>108991152262655788985</td>\n",
       "      <td>Song Ro</td>\n",
       "      <td>1609909927056</td>\n",
       "      <td>5</td>\n",
       "      <td>Love there korean rice cake.</td>\n",
       "      <td>San Soo Dang</td>\n",
       "      <td>California</td>\n",
       "      <td>Los Angeles</td>\n",
       "      <td>0x80c2c778e3b73d33:0xbdc58662a4a97d49</td>\n",
       "    </tr>\n",
       "    <tr>\n",
       "      <th>1</th>\n",
       "      <td>111290322219796215751</td>\n",
       "      <td>Rafa Robles</td>\n",
       "      <td>1612849648663</td>\n",
       "      <td>5</td>\n",
       "      <td>Good very good</td>\n",
       "      <td>San Soo Dang</td>\n",
       "      <td>California</td>\n",
       "      <td>Los Angeles</td>\n",
       "      <td>0x80c2c778e3b73d33:0xbdc58662a4a97d49</td>\n",
       "    </tr>\n",
       "  </tbody>\n",
       "</table>\n",
       "</div>"
      ],
      "text/plain": [
       "                 user_id    user_name           time  rating  \\\n",
       "0  108991152262655788985      Song Ro  1609909927056       5   \n",
       "1  111290322219796215751  Rafa Robles  1612849648663       5   \n",
       "\n",
       "                           text restaurant_name       state         city  \\\n",
       "0  Love there korean rice cake.    San Soo Dang  California  Los Angeles   \n",
       "1                Good very good    San Soo Dang  California  Los Angeles   \n",
       "\n",
       "                                 gmap_id  \n",
       "0  0x80c2c778e3b73d33:0xbdc58662a4a97d49  \n",
       "1  0x80c2c778e3b73d33:0xbdc58662a4a97d49  "
      ]
     },
     "execution_count": 20,
     "metadata": {},
     "output_type": "execute_result"
    }
   ],
   "source": [
    "orden = [\"user_id\",\t\"user_name\", \"time\", \"rating\", \"text\", \"restaurant_name\", \"state\", \"city\", \"gmap_id\"]\n",
    "\n",
    "df_reviews_filtradas = df_reviews_filtradas[orden]\n",
    "df_reviews_filtradas.head(2)"
   ]
  },
  {
   "cell_type": "markdown",
   "metadata": {},
   "source": [
    "**Convertimos a datetime la columna 'time'**  \n",
    "Esta se encontraba en formato unix."
   ]
  },
  {
   "cell_type": "code",
   "execution_count": 22,
   "metadata": {},
   "outputs": [
    {
     "data": {
      "text/html": [
       "<div>\n",
       "<style scoped>\n",
       "    .dataframe tbody tr th:only-of-type {\n",
       "        vertical-align: middle;\n",
       "    }\n",
       "\n",
       "    .dataframe tbody tr th {\n",
       "        vertical-align: top;\n",
       "    }\n",
       "\n",
       "    .dataframe thead th {\n",
       "        text-align: right;\n",
       "    }\n",
       "</style>\n",
       "<table border=\"1\" class=\"dataframe\">\n",
       "  <thead>\n",
       "    <tr style=\"text-align: right;\">\n",
       "      <th></th>\n",
       "      <th>user_id</th>\n",
       "      <th>user_name</th>\n",
       "      <th>time</th>\n",
       "      <th>rating</th>\n",
       "      <th>text</th>\n",
       "      <th>restaurant_name</th>\n",
       "      <th>state</th>\n",
       "      <th>city</th>\n",
       "      <th>gmap_id</th>\n",
       "    </tr>\n",
       "  </thead>\n",
       "  <tbody>\n",
       "    <tr>\n",
       "      <th>0</th>\n",
       "      <td>108991152262655788985</td>\n",
       "      <td>Song Ro</td>\n",
       "      <td>2021-01-06 05:12:07.056</td>\n",
       "      <td>5</td>\n",
       "      <td>Love there korean rice cake.</td>\n",
       "      <td>San Soo Dang</td>\n",
       "      <td>California</td>\n",
       "      <td>Los Angeles</td>\n",
       "      <td>0x80c2c778e3b73d33:0xbdc58662a4a97d49</td>\n",
       "    </tr>\n",
       "    <tr>\n",
       "      <th>1</th>\n",
       "      <td>111290322219796215751</td>\n",
       "      <td>Rafa Robles</td>\n",
       "      <td>2021-02-09 05:47:28.663</td>\n",
       "      <td>5</td>\n",
       "      <td>Good very good</td>\n",
       "      <td>San Soo Dang</td>\n",
       "      <td>California</td>\n",
       "      <td>Los Angeles</td>\n",
       "      <td>0x80c2c778e3b73d33:0xbdc58662a4a97d49</td>\n",
       "    </tr>\n",
       "    <tr>\n",
       "      <th>2</th>\n",
       "      <td>112640357449611959087</td>\n",
       "      <td>David Han</td>\n",
       "      <td>2020-03-08 05:04:42.296</td>\n",
       "      <td>4</td>\n",
       "      <td>They make Korean traditional food very properly.</td>\n",
       "      <td>San Soo Dang</td>\n",
       "      <td>California</td>\n",
       "      <td>Los Angeles</td>\n",
       "      <td>0x80c2c778e3b73d33:0xbdc58662a4a97d49</td>\n",
       "    </tr>\n",
       "    <tr>\n",
       "      <th>3</th>\n",
       "      <td>117440349723823658676</td>\n",
       "      <td>Anthony Kim</td>\n",
       "      <td>2019-03-07 05:56:56.355</td>\n",
       "      <td>5</td>\n",
       "      <td>Short ribs are very delicious.</td>\n",
       "      <td>San Soo Dang</td>\n",
       "      <td>California</td>\n",
       "      <td>Los Angeles</td>\n",
       "      <td>0x80c2c778e3b73d33:0xbdc58662a4a97d49</td>\n",
       "    </tr>\n",
       "    <tr>\n",
       "      <th>4</th>\n",
       "      <td>100580770836123539210</td>\n",
       "      <td>Mario Marzouk</td>\n",
       "      <td>2017-05-16 05:01:41.933</td>\n",
       "      <td>5</td>\n",
       "      <td>Great food and prices the portions are large</td>\n",
       "      <td>San Soo Dang</td>\n",
       "      <td>California</td>\n",
       "      <td>Los Angeles</td>\n",
       "      <td>0x80c2c778e3b73d33:0xbdc58662a4a97d49</td>\n",
       "    </tr>\n",
       "  </tbody>\n",
       "</table>\n",
       "</div>"
      ],
      "text/plain": [
       "                 user_id      user_name                    time  rating  \\\n",
       "0  108991152262655788985        Song Ro 2021-01-06 05:12:07.056       5   \n",
       "1  111290322219796215751    Rafa Robles 2021-02-09 05:47:28.663       5   \n",
       "2  112640357449611959087      David Han 2020-03-08 05:04:42.296       4   \n",
       "3  117440349723823658676    Anthony Kim 2019-03-07 05:56:56.355       5   \n",
       "4  100580770836123539210  Mario Marzouk 2017-05-16 05:01:41.933       5   \n",
       "\n",
       "                                               text restaurant_name  \\\n",
       "0                      Love there korean rice cake.    San Soo Dang   \n",
       "1                                    Good very good    San Soo Dang   \n",
       "2  They make Korean traditional food very properly.    San Soo Dang   \n",
       "3                    Short ribs are very delicious.    San Soo Dang   \n",
       "4      Great food and prices the portions are large    San Soo Dang   \n",
       "\n",
       "        state         city                                gmap_id  \n",
       "0  California  Los Angeles  0x80c2c778e3b73d33:0xbdc58662a4a97d49  \n",
       "1  California  Los Angeles  0x80c2c778e3b73d33:0xbdc58662a4a97d49  \n",
       "2  California  Los Angeles  0x80c2c778e3b73d33:0xbdc58662a4a97d49  \n",
       "3  California  Los Angeles  0x80c2c778e3b73d33:0xbdc58662a4a97d49  \n",
       "4  California  Los Angeles  0x80c2c778e3b73d33:0xbdc58662a4a97d49  "
      ]
     },
     "execution_count": 22,
     "metadata": {},
     "output_type": "execute_result"
    }
   ],
   "source": [
    "# Creamos una copia para trabajar con seguridad:\n",
    "df_copy = df_reviews_filtradas.copy()\n",
    "\n",
    "df_copy[\"time\"] = pd.to_datetime(df_reviews_filtradas[\"time\"], unit=\"ms\")\n",
    "df_copy.head()"
   ]
  },
  {
   "cell_type": "markdown",
   "metadata": {},
   "source": [
    "**Recuento y Promedio de Reseñas:**   \n",
    "Los datos se agrupan por user_id y user_name para calcular el número total de reseñas por usuario y su calificación promedio.  \n",
    "Este análisis centrado en el usuario puede revelar patrones en el comportamiento de las reseñas y el compromiso del usuario."
   ]
  },
  {
   "cell_type": "code",
   "execution_count": 24,
   "metadata": {},
   "outputs": [
    {
     "data": {
      "text/html": [
       "<div>\n",
       "<style scoped>\n",
       "    .dataframe tbody tr th:only-of-type {\n",
       "        vertical-align: middle;\n",
       "    }\n",
       "\n",
       "    .dataframe tbody tr th {\n",
       "        vertical-align: top;\n",
       "    }\n",
       "\n",
       "    .dataframe thead th {\n",
       "        text-align: right;\n",
       "    }\n",
       "</style>\n",
       "<table border=\"1\" class=\"dataframe\">\n",
       "  <thead>\n",
       "    <tr style=\"text-align: right;\">\n",
       "      <th></th>\n",
       "      <th>user_id</th>\n",
       "      <th>user_name</th>\n",
       "      <th>review_count</th>\n",
       "      <th>average_rating</th>\n",
       "    </tr>\n",
       "  </thead>\n",
       "  <tbody>\n",
       "    <tr>\n",
       "      <th>261073</th>\n",
       "      <td>104819208193648646391</td>\n",
       "      <td>Gregor J. Rothfuss</td>\n",
       "      <td>102</td>\n",
       "      <td>3.960784</td>\n",
       "    </tr>\n",
       "    <tr>\n",
       "      <th>363428</th>\n",
       "      <td>106654503918907830147</td>\n",
       "      <td>The Corcoran Group</td>\n",
       "      <td>99</td>\n",
       "      <td>4.060606</td>\n",
       "    </tr>\n",
       "    <tr>\n",
       "      <th>822228</th>\n",
       "      <td>114955250538652050870</td>\n",
       "      <td>Javier Kohen</td>\n",
       "      <td>60</td>\n",
       "      <td>3.966667</td>\n",
       "    </tr>\n",
       "    <tr>\n",
       "      <th>829223</th>\n",
       "      <td>115082761597075271038</td>\n",
       "      <td>ej shortell</td>\n",
       "      <td>46</td>\n",
       "      <td>4.130435</td>\n",
       "    </tr>\n",
       "    <tr>\n",
       "      <th>530125</th>\n",
       "      <td>109673791694826464177</td>\n",
       "      <td>Jackie Gordon Singing Chef</td>\n",
       "      <td>44</td>\n",
       "      <td>3.863636</td>\n",
       "    </tr>\n",
       "  </tbody>\n",
       "</table>\n",
       "</div>"
      ],
      "text/plain": [
       "                      user_id                   user_name  review_count  \\\n",
       "261073  104819208193648646391          Gregor J. Rothfuss           102   \n",
       "363428  106654503918907830147          The Corcoran Group            99   \n",
       "822228  114955250538652050870                Javier Kohen            60   \n",
       "829223  115082761597075271038                 ej shortell            46   \n",
       "530125  109673791694826464177  Jackie Gordon Singing Chef            44   \n",
       "\n",
       "        average_rating  \n",
       "261073        3.960784  \n",
       "363428        4.060606  \n",
       "822228        3.966667  \n",
       "829223        4.130435  \n",
       "530125        3.863636  "
      ]
     },
     "execution_count": 24,
     "metadata": {},
     "output_type": "execute_result"
    }
   ],
   "source": [
    "# Contar el número de reseñas por usuario\n",
    "user_review_counts = df_copy.groupby(['user_id', 'user_name']).size().reset_index(name='review_count')\n",
    "\n",
    "# Calcular la calificación promedio por usuario\n",
    "user_calif_promedio = df_copy.groupby(['user_id', 'user_name'])['rating'].mean().reset_index()\n",
    "user_calif_promedio.rename(columns={'rating': 'average_rating'}, inplace=True)\n",
    "\n",
    "# Combinar los recuentos de reseñas y las calificaciones promedio por usuario en un solo DataFrame\n",
    "df_user_review_counts_ord = pd.merge(user_review_counts, user_calif_promedio, on=['user_id', 'user_name'], how='inner')\n",
    "df_user_review_counts_ord = df_user_review_counts_ord.sort_values(by='review_count', ascending=False)\n",
    "\n",
    "# Mostrar las primeras filas del DataFrame ordenado\n",
    "df_user_review_counts_ord.head()"
   ]
  },
  {
   "cell_type": "markdown",
   "metadata": {},
   "source": [
    "## **Carga de Datos:**  \n",
    "\n",
    "Guardaremos nuestros dataframes en archivos parquet:"
   ]
  },
  {
   "cell_type": "markdown",
   "metadata": {},
   "source": [
    "Datos de las reviews, Dataframe 'df_copy'. Lo usaremos para análisis."
   ]
  },
  {
   "cell_type": "code",
   "execution_count": 26,
   "metadata": {},
   "outputs": [],
   "source": [
    "df_copy.to_parquet(\"../../Data/data_procesada/reviews_google_maps.parquet\", index=False)"
   ]
  },
  {
   "cell_type": "markdown",
   "metadata": {},
   "source": [
    "Datos de los ususariois, Dataframe 'df_user_review_counts_ord'. Lo usaremos para análisis."
   ]
  },
  {
   "cell_type": "code",
   "execution_count": 27,
   "metadata": {},
   "outputs": [],
   "source": [
    "df_user_review_counts_ord.to_parquet(\"../../Data/data_procesada/users_google_maps.parquet\", index=False)"
   ]
  }
 ],
 "metadata": {
  "kernelspec": {
   "display_name": "venv",
   "language": "python",
   "name": "python3"
  },
  "language_info": {
   "codemirror_mode": {
    "name": "ipython",
    "version": 3
   },
   "file_extension": ".py",
   "mimetype": "text/x-python",
   "name": "python",
   "nbconvert_exporter": "python",
   "pygments_lexer": "ipython3",
   "version": "3.10.11"
  }
 },
 "nbformat": 4,
 "nbformat_minor": 2
}
